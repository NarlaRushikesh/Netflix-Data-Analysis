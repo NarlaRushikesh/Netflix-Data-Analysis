{
  "nbformat": 4,
  "nbformat_minor": 0,
  "metadata": {
    "colab": {
      "provenance": []
    },
    "kernelspec": {
      "name": "python3",
      "display_name": "Python 3"
    },
    "language_info": {
      "name": "python"
    }
  },
  "cells": [
    {
      "cell_type": "markdown",
      "source": [
        "##Introduction"
      ],
      "metadata": {
        "id": "ZEtZ2ffpt24Y"
      }
    },
    {
      "cell_type": "markdown",
      "source": [
        "### Importing Libraries"
      ],
      "metadata": {
        "id": "zOPHKV1Pt9XM"
      }
    },
    {
      "cell_type": "code",
      "execution_count": null,
      "metadata": {
        "id": "gOYwQpSF9b73"
      },
      "outputs": [],
      "source": [
        "import pandas as pd\n",
        "import numpy as np\n",
        "import matplotlib.pyplot as plt\n",
        "import seaborn as sns\n",
        "import plotly.express as px\n",
        "import plotly.graph_objects as go\n",
        "\n"
      ]
    },
    {
      "cell_type": "markdown",
      "source": [],
      "metadata": {
        "id": "2_z9baDStybW"
      }
    },
    {
      "cell_type": "code",
      "source": [
        "import pandas as pd\n",
        "\n",
        "data = pd.read_csv('netflix-rotten-tomatoes-metacritic-imdb.csv', on_bad_lines='skip')\n",
        "df = data.copy()\n",
        "df.head()"
      ],
      "metadata": {
        "colab": {
          "base_uri": "https://localhost:8080/",
          "height": 654
        },
        "id": "_qPBtX49-K9U",
        "outputId": "79943722-80cf-4e71-b397-bd94fd6a26d0"
      },
      "execution_count": null,
      "outputs": [
        {
          "output_type": "execute_result",
          "data": {
            "text/plain": [
              "                 Title                                   Genre  \\\n",
              "0     Lets Fight Ghost  Crime, Drama, Fantasy, Horror, Romance   \n",
              "1  HOW TO BUILD A GIRL                                  Comedy   \n",
              "2           Centigrade                         Drama, Thriller   \n",
              "3                ANNE+                                   Drama   \n",
              "4                Moxie                 Animation, Short, Drama   \n",
              "\n",
              "                                                Tags         Languages  \\\n",
              "0  Comedy Programmes,Romantic TV Comedies,Horror ...  Swedish, Spanish   \n",
              "1       Dramas,Comedies,Films Based on Books,British           English   \n",
              "2                                          Thrillers           English   \n",
              "3        TV Dramas,Romantic TV Dramas,Dutch TV Shows           Turkish   \n",
              "4  Social Issue Dramas,Teen Movies,Dramas,Comedie...           English   \n",
              "\n",
              "  Series or Movie  Hidden Gem Score  \\\n",
              "0          Series               4.3   \n",
              "1           Movie               7.0   \n",
              "2           Movie               6.4   \n",
              "3          Series               7.7   \n",
              "4           Movie               8.1   \n",
              "\n",
              "                                Country Availability       Runtime  \\\n",
              "0                                           Thailand  < 30 minutes   \n",
              "1                                             Canada      1-2 hour   \n",
              "2                                             Canada      1-2 hour   \n",
              "3                                Belgium,Netherlands  < 30 minutes   \n",
              "4  Lithuania,Poland,France,Iceland,Italy,Spain,Gr...      1-2 hour   \n",
              "\n",
              "          Director                      Writer  ... Netflix Release Date  \\\n",
              "0  Tomas Alfredson       John Ajvide Lindqvist  ...           2021-03-04   \n",
              "1    Coky Giedroyc               Caitlin Moran  ...           2021-03-04   \n",
              "2    Brendan Walsh  Brendan Walsh, Daley Nixon  ...           2021-03-04   \n",
              "3              NaN                         NaN  ...           2021-03-04   \n",
              "4    Stephen Irwin                         NaN  ...           2021-03-04   \n",
              "\n",
              "                         Production House  \\\n",
              "0               Canal+, Sandrew Metronome   \n",
              "1  Film 4, Monumental Pictures, Lionsgate   \n",
              "2                                     NaN   \n",
              "3                                     NaN   \n",
              "4                                     NaN   \n",
              "\n",
              "                             Netflix Link  \\\n",
              "0  https://www.netflix.com/watch/81415947   \n",
              "1  https://www.netflix.com/watch/81041267   \n",
              "2  https://www.netflix.com/watch/81305978   \n",
              "3  https://www.netflix.com/watch/81336456   \n",
              "4  https://www.netflix.com/watch/81078393   \n",
              "\n",
              "                              IMDb Link  \\\n",
              "0  https://www.imdb.com/title/tt1139797   \n",
              "1  https://www.imdb.com/title/tt4193072   \n",
              "2  https://www.imdb.com/title/tt8945942   \n",
              "3  https://www.imdb.com/title/tt6132758   \n",
              "4  https://www.imdb.com/title/tt2023611   \n",
              "\n",
              "                                             Summary  IMDb Votes  \\\n",
              "0  A med student with a supernatural gift tries t...    205926.0   \n",
              "1  When nerdy Johanna moves to London, things get...      2838.0   \n",
              "2  Trapped in a frozen car during a blizzard, a p...      1720.0   \n",
              "3  Upon moving into a new place, a 20-something r...      1147.0   \n",
              "4  Inspired by her moms rebellious past and a con...        63.0   \n",
              "\n",
              "                                               Image  \\\n",
              "0  https://occ-0-4708-64.1.nflxso.net/dnm/api/v6/...   \n",
              "1  https://occ-0-1081-999.1.nflxso.net/dnm/api/v6...   \n",
              "2  https://occ-0-1081-999.1.nflxso.net/dnm/api/v6...   \n",
              "3  https://occ-0-1489-1490.1.nflxso.net/dnm/api/v...   \n",
              "4  https://occ-0-4039-1500.1.nflxso.net/dnm/api/v...   \n",
              "\n",
              "                                              Poster  \\\n",
              "0  https://m.media-amazon.com/images/M/MV5BOWM4NT...   \n",
              "1  https://m.media-amazon.com/images/M/MV5BZGUyN2...   \n",
              "2  https://m.media-amazon.com/images/M/MV5BODM2MD...   \n",
              "3  https://m.media-amazon.com/images/M/MV5BNWRkMz...   \n",
              "4  https://m.media-amazon.com/images/M/MV5BODYyNW...   \n",
              "\n",
              "                                  TMDb Trailer Trailer Site  \n",
              "0                                          NaN          NaN  \n",
              "1  https://www.youtube.com/watch?v=eIbcxPy4okQ      YouTube  \n",
              "2  https://www.youtube.com/watch?v=0RvV7TNUlkQ      YouTube  \n",
              "3                                          NaN          NaN  \n",
              "4                                          NaN          NaN  \n",
              "\n",
              "[5 rows x 29 columns]"
            ],
            "text/html": [
              "\n",
              "  <div id=\"df-dc50dcac-a3f4-4963-988a-410c587bed80\" class=\"colab-df-container\">\n",
              "    <div>\n",
              "<style scoped>\n",
              "    .dataframe tbody tr th:only-of-type {\n",
              "        vertical-align: middle;\n",
              "    }\n",
              "\n",
              "    .dataframe tbody tr th {\n",
              "        vertical-align: top;\n",
              "    }\n",
              "\n",
              "    .dataframe thead th {\n",
              "        text-align: right;\n",
              "    }\n",
              "</style>\n",
              "<table border=\"1\" class=\"dataframe\">\n",
              "  <thead>\n",
              "    <tr style=\"text-align: right;\">\n",
              "      <th></th>\n",
              "      <th>Title</th>\n",
              "      <th>Genre</th>\n",
              "      <th>Tags</th>\n",
              "      <th>Languages</th>\n",
              "      <th>Series or Movie</th>\n",
              "      <th>Hidden Gem Score</th>\n",
              "      <th>Country Availability</th>\n",
              "      <th>Runtime</th>\n",
              "      <th>Director</th>\n",
              "      <th>Writer</th>\n",
              "      <th>...</th>\n",
              "      <th>Netflix Release Date</th>\n",
              "      <th>Production House</th>\n",
              "      <th>Netflix Link</th>\n",
              "      <th>IMDb Link</th>\n",
              "      <th>Summary</th>\n",
              "      <th>IMDb Votes</th>\n",
              "      <th>Image</th>\n",
              "      <th>Poster</th>\n",
              "      <th>TMDb Trailer</th>\n",
              "      <th>Trailer Site</th>\n",
              "    </tr>\n",
              "  </thead>\n",
              "  <tbody>\n",
              "    <tr>\n",
              "      <th>0</th>\n",
              "      <td>Lets Fight Ghost</td>\n",
              "      <td>Crime, Drama, Fantasy, Horror, Romance</td>\n",
              "      <td>Comedy Programmes,Romantic TV Comedies,Horror ...</td>\n",
              "      <td>Swedish, Spanish</td>\n",
              "      <td>Series</td>\n",
              "      <td>4.3</td>\n",
              "      <td>Thailand</td>\n",
              "      <td>&lt; 30 minutes</td>\n",
              "      <td>Tomas Alfredson</td>\n",
              "      <td>John Ajvide Lindqvist</td>\n",
              "      <td>...</td>\n",
              "      <td>2021-03-04</td>\n",
              "      <td>Canal+, Sandrew Metronome</td>\n",
              "      <td>https://www.netflix.com/watch/81415947</td>\n",
              "      <td>https://www.imdb.com/title/tt1139797</td>\n",
              "      <td>A med student with a supernatural gift tries t...</td>\n",
              "      <td>205926.0</td>\n",
              "      <td>https://occ-0-4708-64.1.nflxso.net/dnm/api/v6/...</td>\n",
              "      <td>https://m.media-amazon.com/images/M/MV5BOWM4NT...</td>\n",
              "      <td>NaN</td>\n",
              "      <td>NaN</td>\n",
              "    </tr>\n",
              "    <tr>\n",
              "      <th>1</th>\n",
              "      <td>HOW TO BUILD A GIRL</td>\n",
              "      <td>Comedy</td>\n",
              "      <td>Dramas,Comedies,Films Based on Books,British</td>\n",
              "      <td>English</td>\n",
              "      <td>Movie</td>\n",
              "      <td>7.0</td>\n",
              "      <td>Canada</td>\n",
              "      <td>1-2 hour</td>\n",
              "      <td>Coky Giedroyc</td>\n",
              "      <td>Caitlin Moran</td>\n",
              "      <td>...</td>\n",
              "      <td>2021-03-04</td>\n",
              "      <td>Film 4, Monumental Pictures, Lionsgate</td>\n",
              "      <td>https://www.netflix.com/watch/81041267</td>\n",
              "      <td>https://www.imdb.com/title/tt4193072</td>\n",
              "      <td>When nerdy Johanna moves to London, things get...</td>\n",
              "      <td>2838.0</td>\n",
              "      <td>https://occ-0-1081-999.1.nflxso.net/dnm/api/v6...</td>\n",
              "      <td>https://m.media-amazon.com/images/M/MV5BZGUyN2...</td>\n",
              "      <td>https://www.youtube.com/watch?v=eIbcxPy4okQ</td>\n",
              "      <td>YouTube</td>\n",
              "    </tr>\n",
              "    <tr>\n",
              "      <th>2</th>\n",
              "      <td>Centigrade</td>\n",
              "      <td>Drama, Thriller</td>\n",
              "      <td>Thrillers</td>\n",
              "      <td>English</td>\n",
              "      <td>Movie</td>\n",
              "      <td>6.4</td>\n",
              "      <td>Canada</td>\n",
              "      <td>1-2 hour</td>\n",
              "      <td>Brendan Walsh</td>\n",
              "      <td>Brendan Walsh, Daley Nixon</td>\n",
              "      <td>...</td>\n",
              "      <td>2021-03-04</td>\n",
              "      <td>NaN</td>\n",
              "      <td>https://www.netflix.com/watch/81305978</td>\n",
              "      <td>https://www.imdb.com/title/tt8945942</td>\n",
              "      <td>Trapped in a frozen car during a blizzard, a p...</td>\n",
              "      <td>1720.0</td>\n",
              "      <td>https://occ-0-1081-999.1.nflxso.net/dnm/api/v6...</td>\n",
              "      <td>https://m.media-amazon.com/images/M/MV5BODM2MD...</td>\n",
              "      <td>https://www.youtube.com/watch?v=0RvV7TNUlkQ</td>\n",
              "      <td>YouTube</td>\n",
              "    </tr>\n",
              "    <tr>\n",
              "      <th>3</th>\n",
              "      <td>ANNE+</td>\n",
              "      <td>Drama</td>\n",
              "      <td>TV Dramas,Romantic TV Dramas,Dutch TV Shows</td>\n",
              "      <td>Turkish</td>\n",
              "      <td>Series</td>\n",
              "      <td>7.7</td>\n",
              "      <td>Belgium,Netherlands</td>\n",
              "      <td>&lt; 30 minutes</td>\n",
              "      <td>NaN</td>\n",
              "      <td>NaN</td>\n",
              "      <td>...</td>\n",
              "      <td>2021-03-04</td>\n",
              "      <td>NaN</td>\n",
              "      <td>https://www.netflix.com/watch/81336456</td>\n",
              "      <td>https://www.imdb.com/title/tt6132758</td>\n",
              "      <td>Upon moving into a new place, a 20-something r...</td>\n",
              "      <td>1147.0</td>\n",
              "      <td>https://occ-0-1489-1490.1.nflxso.net/dnm/api/v...</td>\n",
              "      <td>https://m.media-amazon.com/images/M/MV5BNWRkMz...</td>\n",
              "      <td>NaN</td>\n",
              "      <td>NaN</td>\n",
              "    </tr>\n",
              "    <tr>\n",
              "      <th>4</th>\n",
              "      <td>Moxie</td>\n",
              "      <td>Animation, Short, Drama</td>\n",
              "      <td>Social Issue Dramas,Teen Movies,Dramas,Comedie...</td>\n",
              "      <td>English</td>\n",
              "      <td>Movie</td>\n",
              "      <td>8.1</td>\n",
              "      <td>Lithuania,Poland,France,Iceland,Italy,Spain,Gr...</td>\n",
              "      <td>1-2 hour</td>\n",
              "      <td>Stephen Irwin</td>\n",
              "      <td>NaN</td>\n",
              "      <td>...</td>\n",
              "      <td>2021-03-04</td>\n",
              "      <td>NaN</td>\n",
              "      <td>https://www.netflix.com/watch/81078393</td>\n",
              "      <td>https://www.imdb.com/title/tt2023611</td>\n",
              "      <td>Inspired by her moms rebellious past and a con...</td>\n",
              "      <td>63.0</td>\n",
              "      <td>https://occ-0-4039-1500.1.nflxso.net/dnm/api/v...</td>\n",
              "      <td>https://m.media-amazon.com/images/M/MV5BODYyNW...</td>\n",
              "      <td>NaN</td>\n",
              "      <td>NaN</td>\n",
              "    </tr>\n",
              "  </tbody>\n",
              "</table>\n",
              "<p>5 rows × 29 columns</p>\n",
              "</div>\n",
              "    <div class=\"colab-df-buttons\">\n",
              "\n",
              "  <div class=\"colab-df-container\">\n",
              "    <button class=\"colab-df-convert\" onclick=\"convertToInteractive('df-dc50dcac-a3f4-4963-988a-410c587bed80')\"\n",
              "            title=\"Convert this dataframe to an interactive table.\"\n",
              "            style=\"display:none;\">\n",
              "\n",
              "  <svg xmlns=\"http://www.w3.org/2000/svg\" height=\"24px\" viewBox=\"0 -960 960 960\">\n",
              "    <path d=\"M120-120v-720h720v720H120Zm60-500h600v-160H180v160Zm220 220h160v-160H400v160Zm0 220h160v-160H400v160ZM180-400h160v-160H180v160Zm440 0h160v-160H620v160ZM180-180h160v-160H180v160Zm440 0h160v-160H620v160Z\"/>\n",
              "  </svg>\n",
              "    </button>\n",
              "\n",
              "  <style>\n",
              "    .colab-df-container {\n",
              "      display:flex;\n",
              "      gap: 12px;\n",
              "    }\n",
              "\n",
              "    .colab-df-convert {\n",
              "      background-color: #E8F0FE;\n",
              "      border: none;\n",
              "      border-radius: 50%;\n",
              "      cursor: pointer;\n",
              "      display: none;\n",
              "      fill: #1967D2;\n",
              "      height: 32px;\n",
              "      padding: 0 0 0 0;\n",
              "      width: 32px;\n",
              "    }\n",
              "\n",
              "    .colab-df-convert:hover {\n",
              "      background-color: #E2EBFA;\n",
              "      box-shadow: 0px 1px 2px rgba(60, 64, 67, 0.3), 0px 1px 3px 1px rgba(60, 64, 67, 0.15);\n",
              "      fill: #174EA6;\n",
              "    }\n",
              "\n",
              "    .colab-df-buttons div {\n",
              "      margin-bottom: 4px;\n",
              "    }\n",
              "\n",
              "    [theme=dark] .colab-df-convert {\n",
              "      background-color: #3B4455;\n",
              "      fill: #D2E3FC;\n",
              "    }\n",
              "\n",
              "    [theme=dark] .colab-df-convert:hover {\n",
              "      background-color: #434B5C;\n",
              "      box-shadow: 0px 1px 3px 1px rgba(0, 0, 0, 0.15);\n",
              "      filter: drop-shadow(0px 1px 2px rgba(0, 0, 0, 0.3));\n",
              "      fill: #FFFFFF;\n",
              "    }\n",
              "  </style>\n",
              "\n",
              "    <script>\n",
              "      const buttonEl =\n",
              "        document.querySelector('#df-dc50dcac-a3f4-4963-988a-410c587bed80 button.colab-df-convert');\n",
              "      buttonEl.style.display =\n",
              "        google.colab.kernel.accessAllowed ? 'block' : 'none';\n",
              "\n",
              "      async function convertToInteractive(key) {\n",
              "        const element = document.querySelector('#df-dc50dcac-a3f4-4963-988a-410c587bed80');\n",
              "        const dataTable =\n",
              "          await google.colab.kernel.invokeFunction('convertToInteractive',\n",
              "                                                    [key], {});\n",
              "        if (!dataTable) return;\n",
              "\n",
              "        const docLinkHtml = 'Like what you see? Visit the ' +\n",
              "          '<a target=\"_blank\" href=https://colab.research.google.com/notebooks/data_table.ipynb>data table notebook</a>'\n",
              "          + ' to learn more about interactive tables.';\n",
              "        element.innerHTML = '';\n",
              "        dataTable['output_type'] = 'display_data';\n",
              "        await google.colab.output.renderOutput(dataTable, element);\n",
              "        const docLink = document.createElement('div');\n",
              "        docLink.innerHTML = docLinkHtml;\n",
              "        element.appendChild(docLink);\n",
              "      }\n",
              "    </script>\n",
              "  </div>\n",
              "\n",
              "\n",
              "<div id=\"df-15522ba6-3321-4551-9dfa-658fd8ec764d\">\n",
              "  <button class=\"colab-df-quickchart\" onclick=\"quickchart('df-15522ba6-3321-4551-9dfa-658fd8ec764d')\"\n",
              "            title=\"Suggest charts\"\n",
              "            style=\"display:none;\">\n",
              "\n",
              "<svg xmlns=\"http://www.w3.org/2000/svg\" height=\"24px\"viewBox=\"0 0 24 24\"\n",
              "     width=\"24px\">\n",
              "    <g>\n",
              "        <path d=\"M19 3H5c-1.1 0-2 .9-2 2v14c0 1.1.9 2 2 2h14c1.1 0 2-.9 2-2V5c0-1.1-.9-2-2-2zM9 17H7v-7h2v7zm4 0h-2V7h2v10zm4 0h-2v-4h2v4z\"/>\n",
              "    </g>\n",
              "</svg>\n",
              "  </button>\n",
              "\n",
              "<style>\n",
              "  .colab-df-quickchart {\n",
              "      --bg-color: #E8F0FE;\n",
              "      --fill-color: #1967D2;\n",
              "      --hover-bg-color: #E2EBFA;\n",
              "      --hover-fill-color: #174EA6;\n",
              "      --disabled-fill-color: #AAA;\n",
              "      --disabled-bg-color: #DDD;\n",
              "  }\n",
              "\n",
              "  [theme=dark] .colab-df-quickchart {\n",
              "      --bg-color: #3B4455;\n",
              "      --fill-color: #D2E3FC;\n",
              "      --hover-bg-color: #434B5C;\n",
              "      --hover-fill-color: #FFFFFF;\n",
              "      --disabled-bg-color: #3B4455;\n",
              "      --disabled-fill-color: #666;\n",
              "  }\n",
              "\n",
              "  .colab-df-quickchart {\n",
              "    background-color: var(--bg-color);\n",
              "    border: none;\n",
              "    border-radius: 50%;\n",
              "    cursor: pointer;\n",
              "    display: none;\n",
              "    fill: var(--fill-color);\n",
              "    height: 32px;\n",
              "    padding: 0;\n",
              "    width: 32px;\n",
              "  }\n",
              "\n",
              "  .colab-df-quickchart:hover {\n",
              "    background-color: var(--hover-bg-color);\n",
              "    box-shadow: 0 1px 2px rgba(60, 64, 67, 0.3), 0 1px 3px 1px rgba(60, 64, 67, 0.15);\n",
              "    fill: var(--button-hover-fill-color);\n",
              "  }\n",
              "\n",
              "  .colab-df-quickchart-complete:disabled,\n",
              "  .colab-df-quickchart-complete:disabled:hover {\n",
              "    background-color: var(--disabled-bg-color);\n",
              "    fill: var(--disabled-fill-color);\n",
              "    box-shadow: none;\n",
              "  }\n",
              "\n",
              "  .colab-df-spinner {\n",
              "    border: 2px solid var(--fill-color);\n",
              "    border-color: transparent;\n",
              "    border-bottom-color: var(--fill-color);\n",
              "    animation:\n",
              "      spin 1s steps(1) infinite;\n",
              "  }\n",
              "\n",
              "  @keyframes spin {\n",
              "    0% {\n",
              "      border-color: transparent;\n",
              "      border-bottom-color: var(--fill-color);\n",
              "      border-left-color: var(--fill-color);\n",
              "    }\n",
              "    20% {\n",
              "      border-color: transparent;\n",
              "      border-left-color: var(--fill-color);\n",
              "      border-top-color: var(--fill-color);\n",
              "    }\n",
              "    30% {\n",
              "      border-color: transparent;\n",
              "      border-left-color: var(--fill-color);\n",
              "      border-top-color: var(--fill-color);\n",
              "      border-right-color: var(--fill-color);\n",
              "    }\n",
              "    40% {\n",
              "      border-color: transparent;\n",
              "      border-right-color: var(--fill-color);\n",
              "      border-top-color: var(--fill-color);\n",
              "    }\n",
              "    60% {\n",
              "      border-color: transparent;\n",
              "      border-right-color: var(--fill-color);\n",
              "    }\n",
              "    80% {\n",
              "      border-color: transparent;\n",
              "      border-right-color: var(--fill-color);\n",
              "      border-bottom-color: var(--fill-color);\n",
              "    }\n",
              "    90% {\n",
              "      border-color: transparent;\n",
              "      border-bottom-color: var(--fill-color);\n",
              "    }\n",
              "  }\n",
              "</style>\n",
              "\n",
              "  <script>\n",
              "    async function quickchart(key) {\n",
              "      const quickchartButtonEl =\n",
              "        document.querySelector('#' + key + ' button');\n",
              "      quickchartButtonEl.disabled = true;  // To prevent multiple clicks.\n",
              "      quickchartButtonEl.classList.add('colab-df-spinner');\n",
              "      try {\n",
              "        const charts = await google.colab.kernel.invokeFunction(\n",
              "            'suggestCharts', [key], {});\n",
              "      } catch (error) {\n",
              "        console.error('Error during call to suggestCharts:', error);\n",
              "      }\n",
              "      quickchartButtonEl.classList.remove('colab-df-spinner');\n",
              "      quickchartButtonEl.classList.add('colab-df-quickchart-complete');\n",
              "    }\n",
              "    (() => {\n",
              "      let quickchartButtonEl =\n",
              "        document.querySelector('#df-15522ba6-3321-4551-9dfa-658fd8ec764d button');\n",
              "      quickchartButtonEl.style.display =\n",
              "        google.colab.kernel.accessAllowed ? 'block' : 'none';\n",
              "    })();\n",
              "  </script>\n",
              "</div>\n",
              "\n",
              "    </div>\n",
              "  </div>\n"
            ],
            "application/vnd.google.colaboratory.intrinsic+json": {
              "type": "dataframe",
              "variable_name": "df"
            }
          },
          "metadata": {},
          "execution_count": 191
        }
      ]
    },
    {
      "cell_type": "code",
      "source": [
        "df.info()\n"
      ],
      "metadata": {
        "colab": {
          "base_uri": "https://localhost:8080/"
        },
        "id": "wafsk1_--Q8d",
        "outputId": "a9e77fa4-cc03-4d80-fb93-90a50ac58631"
      },
      "execution_count": null,
      "outputs": [
        {
          "output_type": "stream",
          "name": "stdout",
          "text": [
            "<class 'pandas.core.frame.DataFrame'>\n",
            "RangeIndex: 15480 entries, 0 to 15479\n",
            "Data columns (total 29 columns):\n",
            " #   Column                 Non-Null Count  Dtype  \n",
            "---  ------                 --------------  -----  \n",
            " 0   Title                  15480 non-null  object \n",
            " 1   Genre                  13770 non-null  object \n",
            " 2   Tags                   15413 non-null  object \n",
            " 3   Languages              13526 non-null  object \n",
            " 4   Series or Movie        15480 non-null  object \n",
            " 5   Hidden Gem Score       13379 non-null  float64\n",
            " 6   Country Availability   15461 non-null  object \n",
            " 7   Runtime                15479 non-null  object \n",
            " 8   Director               10772 non-null  object \n",
            " 9   Writer                 11150 non-null  object \n",
            " 10  Actors                 13555 non-null  object \n",
            " 11  View Rating            8456 non-null   object \n",
            " 12  IMDb Score             13381 non-null  float64\n",
            " 13  Rotten Tomatoes Score  6382 non-null   float64\n",
            " 14  Metacritic Score       4336 non-null   float64\n",
            " 15  Awards Received        6075 non-null   float64\n",
            " 16  Awards Nominated For   7661 non-null   float64\n",
            " 17  Boxoffice              4007 non-null   object \n",
            " 18  Release Date           13373 non-null  object \n",
            " 19  Netflix Release Date   15480 non-null  object \n",
            " 20  Production House       5149 non-null   object \n",
            " 21  Netflix Link           15480 non-null  object \n",
            " 22  IMDb Link              13177 non-null  object \n",
            " 23  Summary                15471 non-null  object \n",
            " 24  IMDb Votes             13379 non-null  float64\n",
            " 25  Image                  15480 non-null  object \n",
            " 26  Poster                 11842 non-null  object \n",
            " 27  TMDb Trailer           7194 non-null   object \n",
            " 28  Trailer Site           7194 non-null   object \n",
            "dtypes: float64(7), object(22)\n",
            "memory usage: 3.4+ MB\n"
          ]
        }
      ]
    },
    {
      "cell_type": "code",
      "source": [
        "df.isnull().sum()"
      ],
      "metadata": {
        "colab": {
          "base_uri": "https://localhost:8080/",
          "height": 993
        },
        "id": "0HwUdpaF_gxf",
        "outputId": "8258d554-b5ea-4f69-d736-52f3ae559691"
      },
      "execution_count": null,
      "outputs": [
        {
          "output_type": "execute_result",
          "data": {
            "text/plain": [
              "Title                        0\n",
              "Genre                     1710\n",
              "Tags                        67\n",
              "Languages                 1954\n",
              "Series or Movie              0\n",
              "Hidden Gem Score          2101\n",
              "Country Availability        19\n",
              "Runtime                      1\n",
              "Director                  4708\n",
              "Writer                    4330\n",
              "Actors                    1925\n",
              "View Rating               7024\n",
              "IMDb Score                2099\n",
              "Rotten Tomatoes Score     9098\n",
              "Metacritic Score         11144\n",
              "Awards Received           9405\n",
              "Awards Nominated For      7819\n",
              "Boxoffice                11473\n",
              "Release Date              2107\n",
              "Netflix Release Date         0\n",
              "Production House         10331\n",
              "Netflix Link                 0\n",
              "IMDb Link                 2303\n",
              "Summary                      9\n",
              "IMDb Votes                2101\n",
              "Image                        0\n",
              "Poster                    3638\n",
              "TMDb Trailer              8286\n",
              "Trailer Site              8286\n",
              "dtype: int64"
            ],
            "text/html": [
              "<div>\n",
              "<style scoped>\n",
              "    .dataframe tbody tr th:only-of-type {\n",
              "        vertical-align: middle;\n",
              "    }\n",
              "\n",
              "    .dataframe tbody tr th {\n",
              "        vertical-align: top;\n",
              "    }\n",
              "\n",
              "    .dataframe thead th {\n",
              "        text-align: right;\n",
              "    }\n",
              "</style>\n",
              "<table border=\"1\" class=\"dataframe\">\n",
              "  <thead>\n",
              "    <tr style=\"text-align: right;\">\n",
              "      <th></th>\n",
              "      <th>0</th>\n",
              "    </tr>\n",
              "  </thead>\n",
              "  <tbody>\n",
              "    <tr>\n",
              "      <th>Title</th>\n",
              "      <td>0</td>\n",
              "    </tr>\n",
              "    <tr>\n",
              "      <th>Genre</th>\n",
              "      <td>1710</td>\n",
              "    </tr>\n",
              "    <tr>\n",
              "      <th>Tags</th>\n",
              "      <td>67</td>\n",
              "    </tr>\n",
              "    <tr>\n",
              "      <th>Languages</th>\n",
              "      <td>1954</td>\n",
              "    </tr>\n",
              "    <tr>\n",
              "      <th>Series or Movie</th>\n",
              "      <td>0</td>\n",
              "    </tr>\n",
              "    <tr>\n",
              "      <th>Hidden Gem Score</th>\n",
              "      <td>2101</td>\n",
              "    </tr>\n",
              "    <tr>\n",
              "      <th>Country Availability</th>\n",
              "      <td>19</td>\n",
              "    </tr>\n",
              "    <tr>\n",
              "      <th>Runtime</th>\n",
              "      <td>1</td>\n",
              "    </tr>\n",
              "    <tr>\n",
              "      <th>Director</th>\n",
              "      <td>4708</td>\n",
              "    </tr>\n",
              "    <tr>\n",
              "      <th>Writer</th>\n",
              "      <td>4330</td>\n",
              "    </tr>\n",
              "    <tr>\n",
              "      <th>Actors</th>\n",
              "      <td>1925</td>\n",
              "    </tr>\n",
              "    <tr>\n",
              "      <th>View Rating</th>\n",
              "      <td>7024</td>\n",
              "    </tr>\n",
              "    <tr>\n",
              "      <th>IMDb Score</th>\n",
              "      <td>2099</td>\n",
              "    </tr>\n",
              "    <tr>\n",
              "      <th>Rotten Tomatoes Score</th>\n",
              "      <td>9098</td>\n",
              "    </tr>\n",
              "    <tr>\n",
              "      <th>Metacritic Score</th>\n",
              "      <td>11144</td>\n",
              "    </tr>\n",
              "    <tr>\n",
              "      <th>Awards Received</th>\n",
              "      <td>9405</td>\n",
              "    </tr>\n",
              "    <tr>\n",
              "      <th>Awards Nominated For</th>\n",
              "      <td>7819</td>\n",
              "    </tr>\n",
              "    <tr>\n",
              "      <th>Boxoffice</th>\n",
              "      <td>11473</td>\n",
              "    </tr>\n",
              "    <tr>\n",
              "      <th>Release Date</th>\n",
              "      <td>2107</td>\n",
              "    </tr>\n",
              "    <tr>\n",
              "      <th>Netflix Release Date</th>\n",
              "      <td>0</td>\n",
              "    </tr>\n",
              "    <tr>\n",
              "      <th>Production House</th>\n",
              "      <td>10331</td>\n",
              "    </tr>\n",
              "    <tr>\n",
              "      <th>Netflix Link</th>\n",
              "      <td>0</td>\n",
              "    </tr>\n",
              "    <tr>\n",
              "      <th>IMDb Link</th>\n",
              "      <td>2303</td>\n",
              "    </tr>\n",
              "    <tr>\n",
              "      <th>Summary</th>\n",
              "      <td>9</td>\n",
              "    </tr>\n",
              "    <tr>\n",
              "      <th>IMDb Votes</th>\n",
              "      <td>2101</td>\n",
              "    </tr>\n",
              "    <tr>\n",
              "      <th>Image</th>\n",
              "      <td>0</td>\n",
              "    </tr>\n",
              "    <tr>\n",
              "      <th>Poster</th>\n",
              "      <td>3638</td>\n",
              "    </tr>\n",
              "    <tr>\n",
              "      <th>TMDb Trailer</th>\n",
              "      <td>8286</td>\n",
              "    </tr>\n",
              "    <tr>\n",
              "      <th>Trailer Site</th>\n",
              "      <td>8286</td>\n",
              "    </tr>\n",
              "  </tbody>\n",
              "</table>\n",
              "</div><br><label><b>dtype:</b> int64</label>"
            ]
          },
          "metadata": {},
          "execution_count": 193
        }
      ]
    },
    {
      "cell_type": "code",
      "source": [
        "df.isnull().sum()*100/len(df)"
      ],
      "metadata": {
        "colab": {
          "base_uri": "https://localhost:8080/",
          "height": 993
        },
        "id": "-whNO0-CFCYi",
        "outputId": "fac9121b-3dd8-4231-b89d-2d3643928187"
      },
      "execution_count": null,
      "outputs": [
        {
          "output_type": "execute_result",
          "data": {
            "text/plain": [
              "Title                     0.000000\n",
              "Genre                    11.046512\n",
              "Tags                      0.432817\n",
              "Languages                12.622739\n",
              "Series or Movie           0.000000\n",
              "Hidden Gem Score         13.572351\n",
              "Country Availability      0.122739\n",
              "Runtime                   0.006460\n",
              "Director                 30.413437\n",
              "Writer                   27.971576\n",
              "Actors                   12.435401\n",
              "View Rating              45.374677\n",
              "IMDb Score               13.559432\n",
              "Rotten Tomatoes Score    58.772610\n",
              "Metacritic Score         71.989664\n",
              "Awards Received          60.755814\n",
              "Awards Nominated For     50.510336\n",
              "Boxoffice                74.114987\n",
              "Release Date             13.611111\n",
              "Netflix Release Date      0.000000\n",
              "Production House         66.737726\n",
              "Netflix Link              0.000000\n",
              "IMDb Link                14.877261\n",
              "Summary                   0.058140\n",
              "IMDb Votes               13.572351\n",
              "Image                     0.000000\n",
              "Poster                   23.501292\n",
              "TMDb Trailer             53.527132\n",
              "Trailer Site             53.527132\n",
              "dtype: float64"
            ],
            "text/html": [
              "<div>\n",
              "<style scoped>\n",
              "    .dataframe tbody tr th:only-of-type {\n",
              "        vertical-align: middle;\n",
              "    }\n",
              "\n",
              "    .dataframe tbody tr th {\n",
              "        vertical-align: top;\n",
              "    }\n",
              "\n",
              "    .dataframe thead th {\n",
              "        text-align: right;\n",
              "    }\n",
              "</style>\n",
              "<table border=\"1\" class=\"dataframe\">\n",
              "  <thead>\n",
              "    <tr style=\"text-align: right;\">\n",
              "      <th></th>\n",
              "      <th>0</th>\n",
              "    </tr>\n",
              "  </thead>\n",
              "  <tbody>\n",
              "    <tr>\n",
              "      <th>Title</th>\n",
              "      <td>0.000000</td>\n",
              "    </tr>\n",
              "    <tr>\n",
              "      <th>Genre</th>\n",
              "      <td>11.046512</td>\n",
              "    </tr>\n",
              "    <tr>\n",
              "      <th>Tags</th>\n",
              "      <td>0.432817</td>\n",
              "    </tr>\n",
              "    <tr>\n",
              "      <th>Languages</th>\n",
              "      <td>12.622739</td>\n",
              "    </tr>\n",
              "    <tr>\n",
              "      <th>Series or Movie</th>\n",
              "      <td>0.000000</td>\n",
              "    </tr>\n",
              "    <tr>\n",
              "      <th>Hidden Gem Score</th>\n",
              "      <td>13.572351</td>\n",
              "    </tr>\n",
              "    <tr>\n",
              "      <th>Country Availability</th>\n",
              "      <td>0.122739</td>\n",
              "    </tr>\n",
              "    <tr>\n",
              "      <th>Runtime</th>\n",
              "      <td>0.006460</td>\n",
              "    </tr>\n",
              "    <tr>\n",
              "      <th>Director</th>\n",
              "      <td>30.413437</td>\n",
              "    </tr>\n",
              "    <tr>\n",
              "      <th>Writer</th>\n",
              "      <td>27.971576</td>\n",
              "    </tr>\n",
              "    <tr>\n",
              "      <th>Actors</th>\n",
              "      <td>12.435401</td>\n",
              "    </tr>\n",
              "    <tr>\n",
              "      <th>View Rating</th>\n",
              "      <td>45.374677</td>\n",
              "    </tr>\n",
              "    <tr>\n",
              "      <th>IMDb Score</th>\n",
              "      <td>13.559432</td>\n",
              "    </tr>\n",
              "    <tr>\n",
              "      <th>Rotten Tomatoes Score</th>\n",
              "      <td>58.772610</td>\n",
              "    </tr>\n",
              "    <tr>\n",
              "      <th>Metacritic Score</th>\n",
              "      <td>71.989664</td>\n",
              "    </tr>\n",
              "    <tr>\n",
              "      <th>Awards Received</th>\n",
              "      <td>60.755814</td>\n",
              "    </tr>\n",
              "    <tr>\n",
              "      <th>Awards Nominated For</th>\n",
              "      <td>50.510336</td>\n",
              "    </tr>\n",
              "    <tr>\n",
              "      <th>Boxoffice</th>\n",
              "      <td>74.114987</td>\n",
              "    </tr>\n",
              "    <tr>\n",
              "      <th>Release Date</th>\n",
              "      <td>13.611111</td>\n",
              "    </tr>\n",
              "    <tr>\n",
              "      <th>Netflix Release Date</th>\n",
              "      <td>0.000000</td>\n",
              "    </tr>\n",
              "    <tr>\n",
              "      <th>Production House</th>\n",
              "      <td>66.737726</td>\n",
              "    </tr>\n",
              "    <tr>\n",
              "      <th>Netflix Link</th>\n",
              "      <td>0.000000</td>\n",
              "    </tr>\n",
              "    <tr>\n",
              "      <th>IMDb Link</th>\n",
              "      <td>14.877261</td>\n",
              "    </tr>\n",
              "    <tr>\n",
              "      <th>Summary</th>\n",
              "      <td>0.058140</td>\n",
              "    </tr>\n",
              "    <tr>\n",
              "      <th>IMDb Votes</th>\n",
              "      <td>13.572351</td>\n",
              "    </tr>\n",
              "    <tr>\n",
              "      <th>Image</th>\n",
              "      <td>0.000000</td>\n",
              "    </tr>\n",
              "    <tr>\n",
              "      <th>Poster</th>\n",
              "      <td>23.501292</td>\n",
              "    </tr>\n",
              "    <tr>\n",
              "      <th>TMDb Trailer</th>\n",
              "      <td>53.527132</td>\n",
              "    </tr>\n",
              "    <tr>\n",
              "      <th>Trailer Site</th>\n",
              "      <td>53.527132</td>\n",
              "    </tr>\n",
              "  </tbody>\n",
              "</table>\n",
              "</div><br><label><b>dtype:</b> float64</label>"
            ]
          },
          "metadata": {},
          "execution_count": 194
        }
      ]
    },
    {
      "cell_type": "code",
      "source": [
        "df = df.drop(columns = [ 'Metacritic Score', 'Boxoffice', 'Production House', 'Netflix Link', 'IMDb Link',\n",
        "        'Poster', 'TMDb Trailer', 'Trailer Site'], axis = 1)"
      ],
      "metadata": {
        "id": "kVHHRt_v_i9g"
      },
      "execution_count": null,
      "outputs": []
    },
    {
      "cell_type": "code",
      "source": [
        "df['Release Date']= pd.to_datetime(df['Release Date'])\n",
        "df['Netflix Release Date']= pd.to_datetime(df['Netflix Release Date'])"
      ],
      "metadata": {
        "id": "mY3L5sN-_mXY"
      },
      "execution_count": null,
      "outputs": []
    },
    {
      "cell_type": "code",
      "source": [
        "df['Released_Year'] = pd.DatetimeIndex(df['Release Date']).year\n",
        "df['Released_Year_Net'] = pd.DatetimeIndex(df['Netflix Release Date']).year"
      ],
      "metadata": {
        "id": "68Vnk2kT_pgn"
      },
      "execution_count": null,
      "outputs": []
    },
    {
      "cell_type": "code",
      "source": [
        "df.head(1)"
      ],
      "metadata": {
        "colab": {
          "base_uri": "https://localhost:8080/",
          "height": 234
        },
        "id": "OTiAKaCq_tV9",
        "outputId": "3430126b-27d6-4d5f-da95-5f75534c41ef"
      },
      "execution_count": null,
      "outputs": [
        {
          "output_type": "execute_result",
          "data": {
            "text/plain": [
              "              Title                                   Genre  \\\n",
              "0  Lets Fight Ghost  Crime, Drama, Fantasy, Horror, Romance   \n",
              "\n",
              "                                                Tags         Languages  \\\n",
              "0  Comedy Programmes,Romantic TV Comedies,Horror ...  Swedish, Spanish   \n",
              "\n",
              "  Series or Movie  Hidden Gem Score Country Availability       Runtime  \\\n",
              "0          Series               4.3             Thailand  < 30 minutes   \n",
              "\n",
              "          Director                 Writer  ... Rotten Tomatoes Score  \\\n",
              "0  Tomas Alfredson  John Ajvide Lindqvist  ...                  98.0   \n",
              "\n",
              "  Awards Received  Awards Nominated For  Release Date  Netflix Release Date  \\\n",
              "0            74.0                  57.0    2008-12-12            2021-03-04   \n",
              "\n",
              "                                             Summary IMDb Votes  \\\n",
              "0  A med student with a supernatural gift tries t...   205926.0   \n",
              "\n",
              "                                               Image Released_Year  \\\n",
              "0  https://occ-0-4708-64.1.nflxso.net/dnm/api/v6/...        2008.0   \n",
              "\n",
              "   Released_Year_Net  \n",
              "0               2021  \n",
              "\n",
              "[1 rows x 23 columns]"
            ],
            "text/html": [
              "\n",
              "  <div id=\"df-5c2b7196-8bb0-4216-8e56-3686ed28a976\" class=\"colab-df-container\">\n",
              "    <div>\n",
              "<style scoped>\n",
              "    .dataframe tbody tr th:only-of-type {\n",
              "        vertical-align: middle;\n",
              "    }\n",
              "\n",
              "    .dataframe tbody tr th {\n",
              "        vertical-align: top;\n",
              "    }\n",
              "\n",
              "    .dataframe thead th {\n",
              "        text-align: right;\n",
              "    }\n",
              "</style>\n",
              "<table border=\"1\" class=\"dataframe\">\n",
              "  <thead>\n",
              "    <tr style=\"text-align: right;\">\n",
              "      <th></th>\n",
              "      <th>Title</th>\n",
              "      <th>Genre</th>\n",
              "      <th>Tags</th>\n",
              "      <th>Languages</th>\n",
              "      <th>Series or Movie</th>\n",
              "      <th>Hidden Gem Score</th>\n",
              "      <th>Country Availability</th>\n",
              "      <th>Runtime</th>\n",
              "      <th>Director</th>\n",
              "      <th>Writer</th>\n",
              "      <th>...</th>\n",
              "      <th>Rotten Tomatoes Score</th>\n",
              "      <th>Awards Received</th>\n",
              "      <th>Awards Nominated For</th>\n",
              "      <th>Release Date</th>\n",
              "      <th>Netflix Release Date</th>\n",
              "      <th>Summary</th>\n",
              "      <th>IMDb Votes</th>\n",
              "      <th>Image</th>\n",
              "      <th>Released_Year</th>\n",
              "      <th>Released_Year_Net</th>\n",
              "    </tr>\n",
              "  </thead>\n",
              "  <tbody>\n",
              "    <tr>\n",
              "      <th>0</th>\n",
              "      <td>Lets Fight Ghost</td>\n",
              "      <td>Crime, Drama, Fantasy, Horror, Romance</td>\n",
              "      <td>Comedy Programmes,Romantic TV Comedies,Horror ...</td>\n",
              "      <td>Swedish, Spanish</td>\n",
              "      <td>Series</td>\n",
              "      <td>4.3</td>\n",
              "      <td>Thailand</td>\n",
              "      <td>&lt; 30 minutes</td>\n",
              "      <td>Tomas Alfredson</td>\n",
              "      <td>John Ajvide Lindqvist</td>\n",
              "      <td>...</td>\n",
              "      <td>98.0</td>\n",
              "      <td>74.0</td>\n",
              "      <td>57.0</td>\n",
              "      <td>2008-12-12</td>\n",
              "      <td>2021-03-04</td>\n",
              "      <td>A med student with a supernatural gift tries t...</td>\n",
              "      <td>205926.0</td>\n",
              "      <td>https://occ-0-4708-64.1.nflxso.net/dnm/api/v6/...</td>\n",
              "      <td>2008.0</td>\n",
              "      <td>2021</td>\n",
              "    </tr>\n",
              "  </tbody>\n",
              "</table>\n",
              "<p>1 rows × 23 columns</p>\n",
              "</div>\n",
              "    <div class=\"colab-df-buttons\">\n",
              "\n",
              "  <div class=\"colab-df-container\">\n",
              "    <button class=\"colab-df-convert\" onclick=\"convertToInteractive('df-5c2b7196-8bb0-4216-8e56-3686ed28a976')\"\n",
              "            title=\"Convert this dataframe to an interactive table.\"\n",
              "            style=\"display:none;\">\n",
              "\n",
              "  <svg xmlns=\"http://www.w3.org/2000/svg\" height=\"24px\" viewBox=\"0 -960 960 960\">\n",
              "    <path d=\"M120-120v-720h720v720H120Zm60-500h600v-160H180v160Zm220 220h160v-160H400v160Zm0 220h160v-160H400v160ZM180-400h160v-160H180v160Zm440 0h160v-160H620v160ZM180-180h160v-160H180v160Zm440 0h160v-160H620v160Z\"/>\n",
              "  </svg>\n",
              "    </button>\n",
              "\n",
              "  <style>\n",
              "    .colab-df-container {\n",
              "      display:flex;\n",
              "      gap: 12px;\n",
              "    }\n",
              "\n",
              "    .colab-df-convert {\n",
              "      background-color: #E8F0FE;\n",
              "      border: none;\n",
              "      border-radius: 50%;\n",
              "      cursor: pointer;\n",
              "      display: none;\n",
              "      fill: #1967D2;\n",
              "      height: 32px;\n",
              "      padding: 0 0 0 0;\n",
              "      width: 32px;\n",
              "    }\n",
              "\n",
              "    .colab-df-convert:hover {\n",
              "      background-color: #E2EBFA;\n",
              "      box-shadow: 0px 1px 2px rgba(60, 64, 67, 0.3), 0px 1px 3px 1px rgba(60, 64, 67, 0.15);\n",
              "      fill: #174EA6;\n",
              "    }\n",
              "\n",
              "    .colab-df-buttons div {\n",
              "      margin-bottom: 4px;\n",
              "    }\n",
              "\n",
              "    [theme=dark] .colab-df-convert {\n",
              "      background-color: #3B4455;\n",
              "      fill: #D2E3FC;\n",
              "    }\n",
              "\n",
              "    [theme=dark] .colab-df-convert:hover {\n",
              "      background-color: #434B5C;\n",
              "      box-shadow: 0px 1px 3px 1px rgba(0, 0, 0, 0.15);\n",
              "      filter: drop-shadow(0px 1px 2px rgba(0, 0, 0, 0.3));\n",
              "      fill: #FFFFFF;\n",
              "    }\n",
              "  </style>\n",
              "\n",
              "    <script>\n",
              "      const buttonEl =\n",
              "        document.querySelector('#df-5c2b7196-8bb0-4216-8e56-3686ed28a976 button.colab-df-convert');\n",
              "      buttonEl.style.display =\n",
              "        google.colab.kernel.accessAllowed ? 'block' : 'none';\n",
              "\n",
              "      async function convertToInteractive(key) {\n",
              "        const element = document.querySelector('#df-5c2b7196-8bb0-4216-8e56-3686ed28a976');\n",
              "        const dataTable =\n",
              "          await google.colab.kernel.invokeFunction('convertToInteractive',\n",
              "                                                    [key], {});\n",
              "        if (!dataTable) return;\n",
              "\n",
              "        const docLinkHtml = 'Like what you see? Visit the ' +\n",
              "          '<a target=\"_blank\" href=https://colab.research.google.com/notebooks/data_table.ipynb>data table notebook</a>'\n",
              "          + ' to learn more about interactive tables.';\n",
              "        element.innerHTML = '';\n",
              "        dataTable['output_type'] = 'display_data';\n",
              "        await google.colab.output.renderOutput(dataTable, element);\n",
              "        const docLink = document.createElement('div');\n",
              "        docLink.innerHTML = docLinkHtml;\n",
              "        element.appendChild(docLink);\n",
              "      }\n",
              "    </script>\n",
              "  </div>\n",
              "\n",
              "\n",
              "    </div>\n",
              "  </div>\n"
            ],
            "application/vnd.google.colaboratory.intrinsic+json": {
              "type": "dataframe",
              "variable_name": "df"
            }
          },
          "metadata": {},
          "execution_count": 198
        }
      ]
    },
    {
      "cell_type": "code",
      "source": [
        "df.info()\n"
      ],
      "metadata": {
        "colab": {
          "base_uri": "https://localhost:8080/"
        },
        "id": "k3vYgxeaGB0-",
        "outputId": "87a82a0e-faae-4fa1-ddcd-efe93b14b81a"
      },
      "execution_count": null,
      "outputs": [
        {
          "output_type": "stream",
          "name": "stdout",
          "text": [
            "<class 'pandas.core.frame.DataFrame'>\n",
            "RangeIndex: 15480 entries, 0 to 15479\n",
            "Data columns (total 23 columns):\n",
            " #   Column                 Non-Null Count  Dtype         \n",
            "---  ------                 --------------  -----         \n",
            " 0   Title                  15480 non-null  object        \n",
            " 1   Genre                  13770 non-null  object        \n",
            " 2   Tags                   15413 non-null  object        \n",
            " 3   Languages              13526 non-null  object        \n",
            " 4   Series or Movie        15480 non-null  object        \n",
            " 5   Hidden Gem Score       13379 non-null  float64       \n",
            " 6   Country Availability   15461 non-null  object        \n",
            " 7   Runtime                15479 non-null  object        \n",
            " 8   Director               10772 non-null  object        \n",
            " 9   Writer                 11150 non-null  object        \n",
            " 10  Actors                 13555 non-null  object        \n",
            " 11  View Rating            8456 non-null   object        \n",
            " 12  IMDb Score             13381 non-null  float64       \n",
            " 13  Rotten Tomatoes Score  6382 non-null   float64       \n",
            " 14  Awards Received        6075 non-null   float64       \n",
            " 15  Awards Nominated For   7661 non-null   float64       \n",
            " 16  Release Date           13373 non-null  datetime64[ns]\n",
            " 17  Netflix Release Date   15480 non-null  datetime64[ns]\n",
            " 18  Summary                15471 non-null  object        \n",
            " 19  IMDb Votes             13379 non-null  float64       \n",
            " 20  Image                  15480 non-null  object        \n",
            " 21  Released_Year          13373 non-null  float64       \n",
            " 22  Released_Year_Net      15480 non-null  int32         \n",
            "dtypes: datetime64[ns](2), float64(7), int32(1), object(13)\n",
            "memory usage: 2.7+ MB\n"
          ]
        }
      ]
    },
    {
      "cell_type": "markdown",
      "source": [
        "A little description of the features:\n",
        "\n",
        "Title: Tells us the name of the movie / series   \n",
        "Genre: Describes the genre of the movie / series  \n",
        "Tag: is a list of tags on the movie / series  \n",
        "Language: Indicates in which language the film / series is available   \n",
        "Series or Movie: Indicates whether this product is a TV series or a movie  \n",
        "Hidden Gem Score: This is a score that suggests if this movie / series is a hidden gem (i.e. something that is not mainstream but is a great product and may deserve more attention)   \n",
        "Country Availability: Please indicate in which country this film / series is available   \n",
        "Runtime: Indicates the duration of the movie or an episode of the series   \n",
        "Director: Tells us how is the director of this product   \n",
        "Writer: Tells us how is the writer of this product,  \n",
        "Actors: Tells us how are the main actors of this product,   \n",
        "View Rating: Indicates the rating of the product,   \n",
        "IMDb Score: This is the score given to the product by IMDb,     \n",
        "Rotten Tomatoes Score: This is the score given to the product by Rotten Tomatoes,  \n",
        "Awards Received: It tells us how much awards this film/serie has received ,     \n",
        "Awards Nominated For: It tells us for which awards this film/movie has been nominated,   \n",
        "Release Date: It indicates when this product has been released,    \n",
        "Netflix Release Date: It indicates when this product has been released on Netflix,   \n",
        "Summary: It tells us a little summary of the plot of the product,        \n",
        "IMDb Votes: It indicates the scores given by IMDb,\n",
        "Image: An Image       \n",
        "Released_Year: It indicates the year the product was released         \n",
        "Released_Year_Net: It indicates the year the product was released on Netflix          "
      ],
      "metadata": {
        "id": "tPMKRQSr_8Jf"
      }
    },
    {
      "cell_type": "markdown",
      "source": [
        "## Movies vs TV Series"
      ],
      "metadata": {
        "id": "iER4IBf8vzIJ"
      }
    },
    {
      "cell_type": "code",
      "source": [
        "colors = ['black',] * 2\n",
        "colors[0] = 'crimson'\n",
        "\n",
        "count = df['Series or Movie'].value_counts()\n",
        "\n",
        "fig = go.Figure(data=[go.Bar(\n",
        "    x = df[\"Series or Movie\"],\n",
        "    y = count,\n",
        "    text = count,\n",
        "    textposition='auto',\n",
        "    marker_color=colors\n",
        ")])\n",
        "fig.update_traces(texttemplate='%{text:.2s}', textposition='outside')\n",
        "fig.update_layout(title_text= 'More Movies or Tv Series ?',\n",
        "                  uniformtext_minsize=8, uniformtext_mode='hide',\n",
        "                  barmode='group', xaxis_tickangle=-45,\n",
        "                  yaxis=dict(\n",
        "                  title='Quantity',\n",
        "                  titlefont_size=14),\n",
        "                  xaxis=dict(\n",
        "                  title='Category',\n",
        "                  titlefont_size=14))"
      ],
      "metadata": {
        "colab": {
          "base_uri": "https://localhost:8080/",
          "height": 542
        },
        "id": "NrOMgVgX_0m2",
        "outputId": "1a96458a-0843-458e-eac1-4347571294e3"
      },
      "execution_count": null,
      "outputs": [
        {
          "output_type": "display_data",
          "data": {
            "text/html": [
              "<html>\n",
              "<head><meta charset=\"utf-8\" /></head>\n",
              "<body>\n",
              "    <div>            <script src=\"https://cdnjs.cloudflare.com/ajax/libs/mathjax/2.7.5/MathJax.js?config=TeX-AMS-MML_SVG\"></script><script type=\"text/javascript\">if (window.MathJax && window.MathJax.Hub && window.MathJax.Hub.Config) {window.MathJax.Hub.Config({SVG: {font: \"STIX-Web\"}});}</script>                <script type=\"text/javascript\">window.PlotlyConfig = {MathJaxConfig: 'local'};</script>\n",
              "        <script charset=\"utf-8\" src=\"https://cdn.plot.ly/plotly-2.35.2.min.js\"></script>                <div id=\"7ffb0147-825d-4c92-b4de-c72207dc97aa\" class=\"plotly-graph-div\" style=\"height:525px; width:100%;\"></div>            <script type=\"text/javascript\">                                    window.PLOTLYENV=window.PLOTLYENV || {};                                    if (document.getElementById(\"7ffb0147-825d-4c92-b4de-c72207dc97aa\")) {                    Plotly.newPlot(                        \"7ffb0147-825d-4c92-b4de-c72207dc97aa\",                        [{\"marker\":{\"color\":[\"crimson\",\"black\"]},\"text\":[11697.0,3783.0],\"textposition\":\"outside\",\"x\":[\"Series\",\"Movie\",\"Movie\",\"Series\",\"Movie\",\"Movie\",\"Series\",\"Series\",\"Movie\",\"Movie\",\"Movie\",\"Movie\",\"Movie\",\"Movie\",\"Movie\",\"Movie\",\"Movie\",\"Movie\",\"Movie\",\"Movie\",\"Movie\",\"Movie\",\"Movie\",\"Series\",\"Movie\",\"Series\",\"Series\",\"Movie\",\"Movie\",\"Movie\",\"Movie\",\"Movie\",\"Movie\",\"Movie\",\"Movie\",\"Movie\",\"Movie\",\"Movie\",\"Movie\",\"Movie\",\"Movie\",\"Movie\",\"Movie\",\"Movie\",\"Movie\",\"Series\",\"Series\",\"Movie\",\"Movie\",\"Movie\",\"Movie\",\"Movie\",\"Movie\",\"Series\",\"Series\",\"Movie\",\"Movie\",\"Movie\",\"Movie\",\"Movie\",\"Movie\",\"Movie\",\"Movie\",\"Movie\",\"Movie\",\"Movie\",\"Movie\",\"Movie\",\"Movie\",\"Movie\",\"Movie\",\"Movie\",\"Movie\",\"Movie\",\"Movie\",\"Movie\",\"Movie\",\"Movie\",\"Movie\",\"Movie\",\"Movie\",\"Movie\",\"Movie\",\"Movie\",\"Movie\",\"Movie\",\"Movie\",\"Movie\",\"Movie\",\"Movie\",\"Movie\",\"Movie\",\"Movie\",\"Movie\",\"Series\",\"Movie\",\"Movie\",\"Movie\",\"Movie\",\"Movie\",\"Movie\",\"Movie\",\"Movie\",\"Movie\",\"Movie\",\"Series\",\"Series\",\"Movie\",\"Movie\",\"Movie\",\"Movie\",\"Movie\",\"Series\",\"Movie\",\"Series\",\"Movie\",\"Movie\",\"Movie\",\"Movie\",\"Movie\",\"Movie\",\"Movie\",\"Movie\",\"Movie\",\"Movie\",\"Series\",\"Movie\",\"Series\",\"Movie\",\"Movie\",\"Movie\",\"Movie\",\"Movie\",\"Movie\",\"Movie\",\"Movie\",\"Movie\",\"Series\",\"Movie\",\"Movie\",\"Movie\",\"Movie\",\"Movie\",\"Movie\",\"Movie\",\"Movie\",\"Series\",\"Movie\",\"Movie\",\"Movie\",\"Movie\",\"Movie\",\"Movie\",\"Movie\",\"Movie\",\"Movie\",\"Movie\",\"Movie\",\"Series\",\"Series\",\"Series\",\"Movie\",\"Movie\",\"Movie\",\"Series\",\"Movie\",\"Movie\",\"Series\",\"Movie\",\"Movie\",\"Movie\",\"Movie\",\"Movie\",\"Movie\",\"Movie\",\"Movie\",\"Movie\",\"Movie\",\"Movie\",\"Series\",\"Movie\",\"Movie\",\"Movie\",\"Movie\",\"Movie\",\"Movie\",\"Movie\",\"Movie\",\"Movie\",\"Series\",\"Movie\",\"Movie\",\"Movie\",\"Movie\",\"Series\",\"Movie\",\"Movie\",\"Movie\",\"Movie\",\"Movie\",\"Movie\",\"Movie\",\"Movie\",\"Movie\",\"Movie\",\"Movie\",\"Movie\",\"Movie\",\"Movie\",\"Movie\",\"Movie\",\"Movie\",\"Movie\",\"Movie\",\"Movie\",\"Movie\",\"Movie\",\"Movie\",\"Movie\",\"Movie\",\"Series\",\"Movie\",\"Movie\",\"Series\",\"Series\",\"Series\",\"Series\",\"Series\",\"Series\",\"Movie\",\"Movie\",\"Movie\",\"Movie\",\"Movie\",\"Movie\",\"Movie\",\"Movie\",\"Movie\",\"Movie\",\"Series\",\"Movie\",\"Movie\",\"Movie\",\"Movie\",\"Movie\",\"Movie\",\"Movie\",\"Series\",\"Movie\",\"Series\",\"Movie\",\"Movie\",\"Movie\",\"Series\",\"Series\",\"Movie\",\"Movie\",\"Movie\",\"Movie\",\"Movie\",\"Movie\",\"Movie\",\"Movie\",\"Movie\",\"Movie\",\"Movie\",\"Movie\",\"Series\",\"Movie\",\"Movie\",\"Series\",\"Movie\",\"Movie\",\"Movie\",\"Movie\",\"Movie\",\"Movie\",\"Movie\",\"Movie\",\"Series\",\"Movie\",\"Movie\",\"Movie\",\"Movie\",\"Movie\",\"Movie\",\"Movie\",\"Movie\",\"Movie\",\"Movie\",\"Movie\",\"Movie\",\"Movie\",\"Movie\",\"Movie\",\"Movie\",\"Movie\",\"Series\",\"Series\",\"Movie\",\"Movie\",\"Series\",\"Movie\",\"Movie\",\"Movie\",\"Series\",\"Series\",\"Movie\",\"Movie\",\"Series\",\"Series\",\"Movie\",\"Movie\",\"Movie\",\"Movie\",\"Movie\",\"Series\",\"Series\",\"Movie\",\"Series\",\"Series\",\"Movie\",\"Movie\",\"Movie\",\"Movie\",\"Series\",\"Series\",\"Movie\",\"Movie\",\"Movie\",\"Movie\",\"Movie\",\"Movie\",\"Series\",\"Movie\",\"Movie\",\"Series\",\"Series\",\"Series\",\"Movie\",\"Series\",\"Movie\",\"Movie\",\"Series\",\"Movie\",\"Movie\",\"Movie\",\"Movie\",\"Movie\",\"Movie\",\"Movie\",\"Movie\",\"Series\",\"Series\",\"Movie\",\"Movie\",\"Movie\",\"Series\",\"Movie\",\"Movie\",\"Movie\",\"Movie\",\"Series\",\"Series\",\"Movie\",\"Movie\",\"Movie\",\"Series\",\"Movie\",\"Movie\",\"Movie\",\"Movie\",\"Movie\",\"Movie\",\"Movie\",\"Movie\",\"Movie\",\"Movie\",\"Series\",\"Movie\",\"Series\",\"Movie\",\"Movie\",\"Movie\",\"Movie\",\"Movie\",\"Series\",\"Series\",\"Series\",\"Movie\",\"Movie\",\"Movie\",\"Movie\",\"Movie\",\"Movie\",\"Movie\",\"Series\",\"Movie\",\"Movie\",\"Movie\",\"Movie\",\"Movie\",\"Series\",\"Series\",\"Series\",\"Series\",\"Series\",\"Series\",\"Movie\",\"Movie\",\"Movie\",\"Movie\",\"Movie\",\"Movie\",\"Movie\",\"Movie\",\"Movie\",\"Movie\",\"Movie\",\"Movie\",\"Movie\",\"Movie\",\"Movie\",\"Movie\",\"Movie\",\"Movie\",\"Movie\",\"Movie\",\"Movie\",\"Movie\",\"Series\",\"Movie\",\"Movie\",\"Movie\",\"Movie\",\"Series\",\"Movie\",\"Movie\",\"Movie\",\"Movie\",\"Movie\",\"Movie\",\"Movie\",\"Movie\",\"Movie\",\"Movie\",\"Movie\",\"Movie\",\"Movie\",\"Movie\",\"Movie\",\"Series\",\"Series\",\"Series\",\"Series\",\"Movie\",\"Movie\",\"Movie\",\"Series\",\"Movie\",\"Movie\",\"Movie\",\"Movie\",\"Movie\",\"Movie\",\"Movie\",\"Movie\",\"Movie\",\"Movie\",\"Series\",\"Movie\",\"Movie\",\"Movie\",\"Movie\",\"Movie\",\"Movie\",\"Movie\",\"Movie\",\"Movie\",\"Movie\",\"Movie\",\"Movie\",\"Movie\",\"Movie\",\"Movie\",\"Movie\",\"Movie\",\"Movie\",\"Movie\",\"Series\",\"Series\",\"Series\",\"Series\",\"Series\",\"Movie\",\"Movie\",\"Movie\",\"Movie\",\"Movie\",\"Movie\",\"Movie\",\"Movie\",\"Movie\",\"Movie\",\"Series\",\"Series\",\"Movie\",\"Movie\",\"Movie\",\"Movie\",\"Movie\",\"Movie\",\"Movie\",\"Movie\",\"Series\",\"Movie\",\"Movie\",\"Movie\",\"Movie\",\"Movie\",\"Movie\",\"Movie\",\"Movie\",\"Series\",\"Movie\",\"Series\",\"Movie\",\"Movie\",\"Series\",\"Movie\",\"Movie\",\"Series\",\"Series\",\"Movie\",\"Movie\",\"Movie\",\"Series\",\"Movie\",\"Series\",\"Series\",\"Series\",\"Movie\",\"Movie\",\"Movie\",\"Movie\",\"Movie\",\"Movie\",\"Movie\",\"Movie\",\"Movie\",\"Movie\",\"Movie\",\"Movie\",\"Movie\",\"Series\",\"Movie\",\"Series\",\"Series\",\"Series\",\"Movie\",\"Movie\",\"Movie\",\"Movie\",\"Series\",\"Series\",\"Series\",\"Movie\",\"Movie\",\"Series\",\"Movie\",\"Series\",\"Series\",\"Movie\",\"Movie\",\"Movie\",\"Series\",\"Movie\",\"Movie\",\"Movie\",\"Movie\",\"Series\",\"Movie\",\"Series\",\"Movie\",\"Series\",\"Movie\",\"Movie\",\"Movie\",\"Movie\",\"Movie\",\"Movie\",\"Series\",\"Series\",\"Movie\",\"Movie\",\"Movie\",\"Movie\",\"Movie\",\"Series\",\"Series\",\"Series\",\"Movie\",\"Series\",\"Movie\",\"Movie\",\"Movie\",\"Movie\",\"Movie\",\"Movie\",\"Series\",\"Series\",\"Movie\",\"Series\",\"Movie\",\"Movie\",\"Movie\",\"Movie\",\"Movie\",\"Movie\",\"Series\",\"Movie\",\"Movie\",\"Movie\",\"Movie\",\"Movie\",\"Movie\",\"Series\",\"Movie\",\"Movie\",\"Series\",\"Series\",\"Series\",\"Movie\",\"Movie\",\"Movie\",\"Movie\",\"Movie\",\"Movie\",\"Movie\",\"Movie\",\"Movie\",\"Movie\",\"Movie\",\"Movie\",\"Movie\",\"Movie\",\"Movie\",\"Movie\",\"Movie\",\"Movie\",\"Movie\",\"Movie\",\"Movie\",\"Movie\",\"Movie\",\"Movie\",\"Movie\",\"Movie\",\"Movie\",\"Movie\",\"Movie\",\"Movie\",\"Movie\",\"Movie\",\"Movie\",\"Movie\",\"Movie\",\"Movie\",\"Movie\",\"Movie\",\"Movie\",\"Movie\",\"Movie\",\"Movie\",\"Movie\",\"Movie\",\"Movie\",\"Movie\",\"Movie\",\"Series\",\"Series\",\"Series\",\"Series\",\"Movie\",\"Series\",\"Series\",\"Series\",\"Series\",\"Series\",\"Series\",\"Series\",\"Series\",\"Series\",\"Series\",\"Series\",\"Movie\",\"Movie\",\"Movie\",\"Movie\",\"Movie\",\"Movie\",\"Movie\",\"Series\",\"Movie\",\"Series\",\"Movie\",\"Movie\",\"Movie\",\"Movie\",\"Movie\",\"Movie\",\"Movie\",\"Movie\",\"Movie\",\"Movie\",\"Movie\",\"Movie\",\"Movie\",\"Movie\",\"Movie\",\"Movie\",\"Movie\",\"Movie\",\"Movie\",\"Movie\",\"Movie\",\"Movie\",\"Movie\",\"Movie\",\"Movie\",\"Movie\",\"Movie\",\"Movie\",\"Movie\",\"Movie\",\"Series\",\"Movie\",\"Movie\",\"Series\",\"Series\",\"Movie\",\"Series\",\"Movie\",\"Movie\",\"Series\",\"Movie\",\"Movie\",\"Movie\",\"Movie\",\"Movie\",\"Movie\",\"Movie\",\"Series\",\"Movie\",\"Series\",\"Movie\",\"Movie\",\"Movie\",\"Movie\",\"Series\",\"Movie\",\"Movie\",\"Movie\",\"Movie\",\"Series\",\"Series\",\"Series\",\"Series\",\"Series\",\"Series\",\"Movie\",\"Movie\",\"Movie\",\"Series\",\"Series\",\"Series\",\"Series\",\"Series\",\"Series\",\"Movie\",\"Movie\",\"Movie\",\"Movie\",\"Movie\",\"Series\",\"Movie\",\"Movie\",\"Movie\",\"Series\",\"Series\",\"Movie\",\"Movie\",\"Movie\",\"Movie\",\"Movie\",\"Movie\",\"Movie\",\"Movie\",\"Movie\",\"Movie\",\"Movie\",\"Movie\",\"Movie\",\"Movie\",\"Movie\",\"Movie\",\"Movie\",\"Series\",\"Movie\",\"Movie\",\"Movie\",\"Series\",\"Movie\",\"Movie\",\"Series\",\"Series\",\"Series\",\"Series\",\"Movie\",\"Movie\",\"Movie\",\"Movie\",\"Movie\",\"Movie\",\"Movie\",\"Movie\",\"Series\",\"Series\",\"Series\",\"Movie\",\"Movie\",\"Movie\",\"Movie\",\"Movie\",\"Movie\",\"Movie\",\"Movie\",\"Movie\",\"Movie\",\"Movie\",\"Movie\",\"Movie\",\"Movie\",\"Movie\",\"Movie\",\"Movie\",\"Movie\",\"Movie\",\"Movie\",\"Movie\",\"Movie\",\"Movie\",\"Movie\",\"Movie\",\"Movie\",\"Movie\",\"Movie\",\"Movie\",\"Movie\",\"Movie\",\"Movie\",\"Movie\",\"Series\",\"Movie\",\"Movie\",\"Movie\",\"Series\",\"Movie\",\"Movie\",\"Movie\",\"Movie\",\"Movie\",\"Movie\",\"Movie\",\"Movie\",\"Series\",\"Movie\",\"Movie\",\"Movie\",\"Movie\",\"Movie\",\"Movie\",\"Movie\",\"Movie\",\"Movie\",\"Series\",\"Movie\",\"Movie\",\"Movie\",\"Series\",\"Series\",\"Series\",\"Series\",\"Movie\",\"Series\",\"Movie\",\"Series\",\"Movie\",\"Movie\",\"Series\",\"Movie\",\"Movie\",\"Movie\",\"Movie\",\"Movie\",\"Movie\",\"Movie\",\"Movie\",\"Movie\",\"Movie\",\"Movie\",\"Movie\",\"Movie\",\"Movie\",\"Movie\",\"Movie\",\"Movie\",\"Movie\",\"Movie\",\"Movie\",\"Movie\",\"Movie\",\"Movie\",\"Movie\",\"Movie\",\"Movie\",\"Movie\",\"Movie\",\"Movie\",\"Movie\",\"Movie\",\"Movie\",\"Movie\",\"Movie\",\"Movie\",\"Movie\",\"Series\",\"Movie\",\"Movie\",\"Movie\",\"Movie\",\"Movie\",\"Movie\",\"Movie\",\"Movie\",\"Movie\",\"Series\",\"Movie\",\"Movie\",\"Movie\",\"Movie\",\"Movie\",\"Movie\",\"Movie\",\"Movie\",\"Movie\",\"Movie\",\"Movie\",\"Series\",\"Series\",\"Movie\",\"Movie\",\"Movie\",\"Movie\",\"Movie\",\"Movie\",\"Movie\",\"Movie\",\"Movie\",\"Movie\",\"Movie\",\"Movie\",\"Movie\",\"Movie\",\"Movie\",\"Movie\",\"Movie\",\"Movie\",\"Movie\",\"Movie\",\"Movie\",\"Movie\",\"Movie\",\"Movie\",\"Movie\",\"Movie\",\"Movie\",\"Movie\",\"Movie\",\"Series\",\"Series\",\"Series\",\"Series\",\"Series\",\"Series\",\"Series\",\"Series\",\"Series\",\"Series\",\"Series\",\"Series\",\"Series\",\"Series\",\"Series\",\"Series\",\"Movie\",\"Movie\",\"Movie\",\"Movie\",\"Movie\",\"Movie\",\"Movie\",\"Movie\",\"Movie\",\"Movie\",\"Movie\",\"Movie\",\"Movie\",\"Movie\",\"Movie\",\"Movie\",\"Movie\",\"Movie\",\"Movie\",\"Movie\",\"Movie\",\"Movie\",\"Movie\",\"Movie\",\"Movie\",\"Movie\",\"Movie\",\"Movie\",\"Movie\",\"Movie\",\"Movie\",\"Movie\",\"Movie\",\"Movie\",\"Movie\",\"Movie\",\"Movie\",\"Movie\",\"Movie\",\"Movie\",\"Movie\",\"Movie\",\"Movie\",\"Movie\",\"Movie\",\"Movie\",\"Movie\",\"Movie\",\"Movie\",\"Movie\",\"Movie\",\"Series\",\"Movie\",\"Movie\",\"Movie\",\"Series\",\"Series\",\"Series\",\"Movie\",\"Movie\",\"Movie\",\"Movie\",\"Movie\",\"Movie\",\"Movie\",\"Series\",\"Series\",\"Movie\",\"Movie\",\"Movie\",\"Movie\",\"Movie\",\"Movie\",\"Movie\",\"Movie\",\"Movie\",\"Series\",\"Series\",\"Movie\",\"Movie\",\"Series\",\"Movie\",\"Movie\",\"Movie\",\"Movie\",\"Movie\",\"Series\",\"Movie\",\"Movie\",\"Movie\",\"Series\",\"Movie\",\"Movie\",\"Movie\",\"Series\",\"Series\",\"Movie\",\"Movie\",\"Series\",\"Series\",\"Series\",\"Movie\",\"Movie\",\"Movie\",\"Movie\",\"Movie\",\"Series\",\"Movie\",\"Series\",\"Movie\",\"Movie\",\"Movie\",\"Movie\",\"Movie\",\"Movie\",\"Movie\",\"Series\",\"Movie\",\"Series\",\"Series\",\"Series\",\"Series\",\"Series\",\"Movie\",\"Movie\",\"Movie\",\"Movie\",\"Movie\",\"Movie\",\"Movie\",\"Series\",\"Series\",\"Series\",\"Movie\",\"Movie\",\"Movie\",\"Series\",\"Movie\",\"Movie\",\"Series\",\"Movie\",\"Series\",\"Series\",\"Movie\",\"Movie\",\"Movie\",\"Movie\",\"Movie\",\"Movie\",\"Movie\",\"Movie\",\"Movie\",\"Movie\",\"Movie\",\"Movie\",\"Movie\",\"Series\",\"Movie\",\"Movie\",\"Movie\",\"Movie\",\"Movie\",\"Movie\",\"Movie\",\"Movie\",\"Movie\",\"Movie\",\"Movie\",\"Movie\",\"Movie\",\"Series\",\"Series\",\"Series\",\"Series\",\"Series\",\"Series\",\"Series\",\"Series\",\"Series\",\"Series\",\"Movie\",\"Movie\",\"Movie\",\"Movie\",\"Movie\",\"Movie\",\"Movie\",\"Movie\",\"Movie\",\"Movie\",\"Movie\",\"Movie\",\"Movie\",\"Movie\",\"Movie\",\"Series\",\"Series\",\"Series\",\"Series\",\"Series\",\"Movie\",\"Movie\",\"Movie\",\"Movie\",\"Movie\",\"Movie\",\"Movie\",\"Movie\",\"Movie\",\"Movie\",\"Movie\",\"Movie\",\"Movie\",\"Series\",\"Movie\",\"Movie\",\"Movie\",\"Movie\",\"Movie\",\"Movie\",\"Movie\",\"Movie\",\"Movie\",\"Movie\",\"Movie\",\"Movie\",\"Movie\",\"Movie\",\"Movie\",\"Movie\",\"Series\",\"Movie\",\"Movie\",\"Movie\",\"Movie\",\"Movie\",\"Series\",\"Series\",\"Series\",\"Series\",\"Movie\",\"Series\",\"Series\",\"Movie\",\"Movie\",\"Movie\",\"Movie\",\"Movie\",\"Series\",\"Movie\",\"Movie\",\"Movie\",\"Movie\",\"Movie\",\"Movie\",\"Movie\",\"Movie\",\"Movie\",\"Movie\",\"Movie\",\"Movie\",\"Movie\",\"Movie\",\"Movie\",\"Movie\",\"Movie\",\"Movie\",\"Movie\",\"Movie\",\"Movie\",\"Movie\",\"Movie\",\"Movie\",\"Series\",\"Movie\",\"Series\",\"Series\",\"Series\",\"Series\",\"Movie\",\"Movie\",\"Series\",\"Series\",\"Movie\",\"Movie\",\"Movie\",\"Series\",\"Movie\",\"Series\",\"Movie\",\"Movie\",\"Movie\",\"Movie\",\"Movie\",\"Series\",\"Movie\",\"Movie\",\"Movie\",\"Movie\",\"Movie\",\"Movie\",\"Movie\",\"Movie\",\"Series\",\"Series\",\"Movie\",\"Movie\",\"Movie\",\"Series\",\"Series\",\"Series\",\"Series\",\"Series\",\"Movie\",\"Movie\",\"Movie\",\"Movie\",\"Movie\",\"Series\",\"Movie\",\"Movie\",\"Movie\",\"Movie\",\"Series\",\"Series\",\"Movie\",\"Movie\",\"Movie\",\"Movie\",\"Series\",\"Series\",\"Movie\",\"Series\",\"Movie\",\"Movie\",\"Series\",\"Series\",\"Movie\",\"Movie\",\"Movie\",\"Movie\",\"Movie\",\"Movie\",\"Movie\",\"Movie\",\"Movie\",\"Series\",\"Series\",\"Movie\",\"Movie\",\"Movie\",\"Movie\",\"Series\",\"Series\",\"Movie\",\"Movie\",\"Movie\",\"Series\",\"Movie\",\"Movie\",\"Movie\",\"Series\",\"Series\",\"Movie\",\"Movie\",\"Movie\",\"Movie\",\"Movie\",\"Movie\",\"Movie\",\"Movie\",\"Movie\",\"Series\",\"Movie\",\"Series\",\"Series\",\"Series\",\"Movie\",\"Movie\",\"Movie\",\"Series\",\"Movie\",\"Movie\",\"Movie\",\"Series\",\"Series\",\"Movie\",\"Movie\",\"Movie\",\"Movie\",\"Movie\",\"Movie\",\"Movie\",\"Movie\",\"Movie\",\"Movie\",\"Movie\",\"Movie\",\"Movie\",\"Movie\",\"Movie\",\"Movie\",\"Movie\",\"Series\",\"Movie\",\"Series\",\"Movie\",\"Series\",\"Series\",\"Series\",\"Series\",\"Series\",\"Series\",\"Series\",\"Movie\",\"Movie\",\"Movie\",\"Movie\",\"Movie\",\"Movie\",\"Movie\",\"Movie\",\"Movie\",\"Movie\",\"Movie\",\"Movie\",\"Movie\",\"Movie\",\"Movie\",\"Series\",\"Series\",\"Movie\",\"Movie\",\"Movie\",\"Series\",\"Series\",\"Series\",\"Series\",\"Movie\",\"Movie\",\"Movie\",\"Movie\",\"Movie\",\"Movie\",\"Movie\",\"Movie\",\"Movie\",\"Movie\",\"Movie\",\"Movie\",\"Movie\",\"Series\",\"Series\",\"Movie\",\"Movie\",\"Movie\",\"Series\",\"Series\",\"Movie\",\"Movie\",\"Movie\",\"Movie\",\"Movie\",\"Movie\",\"Movie\",\"Movie\",\"Movie\",\"Movie\",\"Movie\",\"Movie\",\"Movie\",\"Movie\",\"Movie\",\"Movie\",\"Movie\",\"Series\",\"Movie\",\"Movie\",\"Movie\",\"Series\",\"Movie\",\"Movie\",\"Movie\",\"Movie\",\"Movie\",\"Movie\",\"Movie\",\"Movie\",\"Movie\",\"Movie\",\"Movie\",\"Movie\",\"Movie\",\"Movie\",\"Series\",\"Series\",\"Movie\",\"Movie\",\"Movie\",\"Movie\",\"Series\",\"Movie\",\"Movie\",\"Movie\",\"Movie\",\"Movie\",\"Movie\",\"Series\",\"Series\",\"Series\",\"Movie\",\"Series\",\"Series\",\"Series\",\"Movie\",\"Movie\",\"Movie\",\"Movie\",\"Movie\",\"Movie\",\"Movie\",\"Movie\",\"Movie\",\"Series\",\"Series\",\"Series\",\"Movie\",\"Movie\",\"Movie\",\"Series\",\"Series\",\"Movie\",\"Movie\",\"Movie\",\"Movie\",\"Movie\",\"Movie\",\"Movie\",\"Movie\",\"Movie\",\"Movie\",\"Movie\",\"Movie\",\"Movie\",\"Movie\",\"Movie\",\"Movie\",\"Movie\",\"Movie\",\"Movie\",\"Movie\",\"Movie\",\"Movie\",\"Movie\",\"Movie\",\"Movie\",\"Movie\",\"Series\",\"Series\",\"Series\",\"Movie\",\"Series\",\"Series\",\"Movie\",\"Movie\",\"Movie\",\"Series\",\"Series\",\"Movie\",\"Series\",\"Series\",\"Series\",\"Movie\",\"Movie\",\"Movie\",\"Movie\",\"Movie\",\"Movie\",\"Movie\",\"Movie\",\"Movie\",\"Movie\",\"Movie\",\"Movie\",\"Movie\",\"Series\",\"Movie\",\"Series\",\"Movie\",\"Movie\",\"Movie\",\"Movie\",\"Movie\",\"Movie\",\"Movie\",\"Series\",\"Movie\",\"Movie\",\"Movie\",\"Movie\",\"Movie\",\"Movie\",\"Movie\",\"Series\",\"Series\",\"Movie\",\"Movie\",\"Movie\",\"Movie\",\"Movie\",\"Movie\",\"Movie\",\"Movie\",\"Movie\",\"Movie\",\"Movie\",\"Movie\",\"Movie\",\"Movie\",\"Movie\",\"Series\",\"Series\",\"Movie\",\"Movie\",\"Movie\",\"Series\",\"Series\",\"Movie\",\"Movie\",\"Movie\",\"Movie\",\"Movie\",\"Series\",\"Series\",\"Movie\",\"Series\",\"Movie\",\"Movie\",\"Movie\",\"Series\",\"Movie\",\"Series\",\"Movie\",\"Series\",\"Movie\",\"Series\",\"Movie\",\"Movie\",\"Movie\",\"Movie\",\"Movie\",\"Movie\",\"Movie\",\"Series\",\"Series\",\"Movie\",\"Movie\",\"Movie\",\"Movie\",\"Movie\",\"Series\",\"Movie\",\"Movie\",\"Movie\",\"Movie\",\"Movie\",\"Movie\",\"Series\",\"Movie\",\"Movie\",\"Movie\",\"Movie\",\"Movie\",\"Movie\",\"Movie\",\"Movie\",\"Movie\",\"Movie\",\"Movie\",\"Movie\",\"Movie\",\"Movie\",\"Movie\",\"Series\",\"Series\",\"Movie\",\"Series\",\"Series\",\"Movie\",\"Movie\",\"Movie\",\"Movie\",\"Movie\",\"Series\",\"Series\",\"Series\",\"Series\",\"Movie\",\"Movie\",\"Movie\",\"Series\",\"Series\",\"Movie\",\"Movie\",\"Series\",\"Series\",\"Series\",\"Series\",\"Series\",\"Movie\",\"Series\",\"Movie\",\"Movie\",\"Movie\",\"Movie\",\"Movie\",\"Movie\",\"Series\",\"Series\",\"Movie\",\"Series\",\"Series\",\"Movie\",\"Movie\",\"Movie\",\"Movie\",\"Movie\",\"Movie\",\"Movie\",\"Movie\",\"Movie\",\"Movie\",\"Movie\",\"Movie\",\"Movie\",\"Movie\",\"Movie\",\"Movie\",\"Movie\",\"Movie\",\"Series\",\"Movie\",\"Movie\",\"Movie\",\"Movie\",\"Series\",\"Movie\",\"Movie\",\"Movie\",\"Movie\",\"Movie\",\"Movie\",\"Movie\",\"Series\",\"Series\",\"Series\",\"Movie\",\"Series\",\"Movie\",\"Movie\",\"Series\",\"Movie\",\"Movie\",\"Movie\",\"Movie\",\"Movie\",\"Movie\",\"Movie\",\"Movie\",\"Movie\",\"Movie\",\"Movie\",\"Movie\",\"Movie\",\"Movie\",\"Movie\",\"Series\",\"Movie\",\"Movie\",\"Movie\",\"Movie\",\"Movie\",\"Movie\",\"Movie\",\"Movie\",\"Movie\",\"Movie\",\"Movie\",\"Movie\",\"Movie\",\"Movie\",\"Movie\",\"Movie\",\"Movie\",\"Movie\",\"Movie\",\"Movie\",\"Movie\",\"Movie\",\"Movie\",\"Movie\",\"Movie\",\"Movie\",\"Movie\",\"Movie\",\"Movie\",\"Movie\",\"Series\",\"Series\",\"Movie\",\"Movie\",\"Movie\",\"Movie\",\"Movie\",\"Movie\",\"Movie\",\"Movie\",\"Movie\",\"Movie\",\"Movie\",\"Series\",\"Movie\",\"Movie\",\"Series\",\"Movie\",\"Movie\",\"Movie\",\"Movie\",\"Movie\",\"Series\",\"Series\",\"Series\",\"Movie\",\"Series\",\"Movie\",\"Movie\",\"Movie\",\"Movie\",\"Movie\",\"Movie\",\"Movie\",\"Movie\",\"Movie\",\"Movie\",\"Movie\",\"Movie\",\"Movie\",\"Movie\",\"Movie\",\"Movie\",\"Movie\",\"Movie\",\"Movie\",\"Movie\",\"Series\",\"Series\",\"Movie\",\"Movie\",\"Movie\",\"Movie\",\"Movie\",\"Movie\",\"Movie\",\"Movie\",\"Series\",\"Movie\",\"Movie\",\"Movie\",\"Movie\",\"Movie\",\"Movie\",\"Movie\",\"Movie\",\"Movie\",\"Movie\",\"Series\",\"Movie\",\"Series\",\"Movie\",\"Movie\",\"Movie\",\"Series\",\"Series\",\"Series\",\"Series\",\"Movie\",\"Movie\",\"Movie\",\"Series\",\"Movie\",\"Movie\",\"Movie\",\"Movie\",\"Movie\",\"Movie\",\"Series\",\"Series\",\"Movie\",\"Movie\",\"Movie\",\"Movie\",\"Movie\",\"Movie\",\"Movie\",\"Movie\",\"Movie\",\"Series\",\"Movie\",\"Movie\",\"Movie\",\"Series\",\"Series\",\"Movie\",\"Series\",\"Series\",\"Movie\",\"Series\",\"Movie\",\"Series\",\"Series\",\"Movie\",\"Movie\",\"Movie\",\"Movie\",\"Series\",\"Movie\",\"Movie\",\"Movie\",\"Movie\",\"Series\",\"Movie\",\"Movie\",\"Movie\",\"Movie\",\"Movie\",\"Movie\",\"Movie\",\"Movie\",\"Movie\",\"Series\",\"Series\",\"Series\",\"Series\",\"Series\",\"Movie\",\"Movie\",\"Movie\",\"Movie\",\"Movie\",\"Movie\",\"Movie\",\"Movie\",\"Movie\",\"Movie\",\"Movie\",\"Movie\",\"Movie\",\"Movie\",\"Movie\",\"Movie\",\"Movie\",\"Movie\",\"Movie\",\"Movie\",\"Movie\",\"Movie\",\"Movie\",\"Movie\",\"Movie\",\"Movie\",\"Series\",\"Series\",\"Movie\",\"Movie\",\"Series\",\"Movie\",\"Series\",\"Movie\",\"Movie\",\"Movie\",\"Movie\",\"Movie\",\"Movie\",\"Movie\",\"Series\",\"Movie\",\"Movie\",\"Movie\",\"Series\",\"Movie\",\"Series\",\"Movie\",\"Movie\",\"Movie\",\"Movie\",\"Movie\",\"Movie\",\"Movie\",\"Movie\",\"Movie\",\"Movie\",\"Movie\",\"Movie\",\"Movie\",\"Movie\",\"Movie\",\"Movie\",\"Movie\",\"Series\",\"Movie\",\"Movie\",\"Series\",\"Movie\",\"Movie\",\"Movie\",\"Movie\",\"Movie\",\"Movie\",\"Series\",\"Movie\",\"Series\",\"Movie\",\"Series\",\"Movie\",\"Movie\",\"Movie\",\"Movie\",\"Movie\",\"Movie\",\"Movie\",\"Movie\",\"Movie\",\"Movie\",\"Series\",\"Movie\",\"Series\",\"Movie\",\"Series\",\"Series\",\"Series\",\"Movie\",\"Movie\",\"Series\",\"Series\",\"Movie\",\"Movie\",\"Movie\",\"Movie\",\"Movie\",\"Movie\",\"Series\",\"Movie\",\"Movie\",\"Movie\",\"Movie\",\"Movie\",\"Movie\",\"Movie\",\"Series\",\"Series\",\"Series\",\"Series\",\"Series\",\"Movie\",\"Movie\",\"Series\",\"Movie\",\"Movie\",\"Series\",\"Series\",\"Series\",\"Movie\",\"Movie\",\"Series\",\"Movie\",\"Movie\",\"Movie\",\"Series\",\"Movie\",\"Movie\",\"Movie\",\"Movie\",\"Movie\",\"Movie\",\"Movie\",\"Series\",\"Movie\",\"Series\",\"Series\",\"Movie\",\"Series\",\"Movie\",\"Movie\",\"Movie\",\"Series\",\"Series\",\"Series\",\"Movie\",\"Movie\",\"Movie\",\"Movie\",\"Movie\",\"Movie\",\"Series\",\"Movie\",\"Movie\",\"Movie\",\"Movie\",\"Series\",\"Movie\",\"Movie\",\"Movie\",\"Movie\",\"Movie\",\"Movie\",\"Movie\",\"Movie\",\"Movie\",\"Series\",\"Movie\",\"Movie\",\"Movie\",\"Series\",\"Movie\",\"Movie\",\"Movie\",\"Movie\",\"Series\",\"Series\",\"Movie\",\"Series\",\"Movie\",\"Movie\",\"Series\",\"Series\",\"Movie\",\"Movie\",\"Movie\",\"Movie\",\"Movie\",\"Movie\",\"Movie\",\"Series\",\"Series\",\"Movie\",\"Movie\",\"Movie\",\"Movie\",\"Movie\",\"Movie\",\"Movie\",\"Movie\",\"Series\",\"Movie\",\"Movie\",\"Movie\",\"Movie\",\"Movie\",\"Movie\",\"Series\",\"Movie\",\"Series\",\"Movie\",\"Movie\",\"Movie\",\"Movie\",\"Movie\",\"Movie\",\"Movie\",\"Movie\",\"Movie\",\"Movie\",\"Movie\",\"Movie\",\"Movie\",\"Movie\",\"Movie\",\"Movie\",\"Movie\",\"Movie\",\"Movie\",\"Series\",\"Series\",\"Movie\",\"Movie\",\"Series\",\"Movie\",\"Movie\",\"Movie\",\"Movie\",\"Movie\",\"Movie\",\"Movie\",\"Movie\",\"Movie\",\"Movie\",\"Movie\",\"Movie\",\"Movie\",\"Movie\",\"Series\",\"Movie\",\"Movie\",\"Series\",\"Series\",\"Movie\",\"Movie\",\"Movie\",\"Movie\",\"Series\",\"Movie\",\"Movie\",\"Movie\",\"Movie\",\"Series\",\"Series\",\"Movie\",\"Series\",\"Movie\",\"Movie\",\"Movie\",\"Movie\",\"Movie\",\"Movie\",\"Movie\",\"Movie\",\"Movie\",\"Movie\",\"Series\",\"Movie\",\"Movie\",\"Movie\",\"Series\",\"Series\",\"Movie\",\"Series\",\"Series\",\"Movie\",\"Series\",\"Series\",\"Series\",\"Movie\",\"Movie\",\"Movie\",\"Movie\",\"Movie\",\"Movie\",\"Movie\",\"Movie\",\"Movie\",\"Movie\",\"Series\",\"Series\",\"Movie\",\"Series\",\"Series\",\"Movie\",\"Series\",\"Series\",\"Series\",\"Movie\",\"Movie\",\"Series\",\"Movie\",\"Series\",\"Series\",\"Movie\",\"Movie\",\"Movie\",\"Movie\",\"Movie\",\"Movie\",\"Movie\",\"Movie\",\"Movie\",\"Movie\",\"Movie\",\"Movie\",\"Movie\",\"Movie\",\"Series\",\"Movie\",\"Movie\",\"Movie\",\"Movie\",\"Series\",\"Movie\",\"Series\",\"Series\",\"Movie\",\"Movie\",\"Movie\",\"Movie\",\"Movie\",\"Movie\",\"Movie\",\"Movie\",\"Movie\",\"Movie\",\"Movie\",\"Movie\",\"Movie\",\"Movie\",\"Movie\",\"Movie\",\"Series\",\"Movie\",\"Movie\",\"Movie\",\"Movie\",\"Series\",\"Movie\",\"Movie\",\"Series\",\"Series\",\"Movie\",\"Movie\",\"Movie\",\"Movie\",\"Movie\",\"Movie\",\"Movie\",\"Movie\",\"Movie\",\"Movie\",\"Movie\",\"Movie\",\"Movie\",\"Movie\",\"Movie\",\"Movie\",\"Movie\",\"Movie\",\"Movie\",\"Movie\",\"Series\",\"Movie\",\"Movie\",\"Movie\",\"Movie\",\"Movie\",\"Movie\",\"Movie\",\"Series\",\"Series\",\"Series\",\"Series\",\"Movie\",\"Movie\",\"Series\",\"Series\",\"Movie\",\"Movie\",\"Series\",\"Series\",\"Series\",\"Movie\",\"Movie\",\"Movie\",\"Movie\",\"Movie\",\"Movie\",\"Movie\",\"Movie\",\"Movie\",\"Movie\",\"Movie\",\"Movie\",\"Movie\",\"Movie\",\"Movie\",\"Movie\",\"Movie\",\"Movie\",\"Series\",\"Series\",\"Movie\",\"Movie\",\"Movie\",\"Movie\",\"Movie\",\"Series\",\"Series\",\"Series\",\"Movie\",\"Movie\",\"Movie\",\"Series\",\"Movie\",\"Movie\",\"Movie\",\"Series\",\"Series\",\"Movie\",\"Movie\",\"Movie\",\"Movie\",\"Movie\",\"Movie\",\"Series\",\"Movie\",\"Movie\",\"Series\",\"Series\",\"Movie\",\"Movie\",\"Movie\",\"Movie\",\"Movie\",\"Series\",\"Movie\",\"Movie\",\"Movie\",\"Movie\",\"Movie\",\"Movie\",\"Series\",\"Movie\",\"Movie\",\"Movie\",\"Movie\",\"Movie\",\"Movie\",\"Movie\",\"Movie\",\"Movie\",\"Movie\",\"Movie\",\"Movie\",\"Movie\",\"Movie\",\"Movie\",\"Series\",\"Movie\",\"Series\",\"Movie\",\"Series\",\"Movie\",\"Movie\",\"Movie\",\"Movie\",\"Movie\",\"Series\",\"Series\",\"Movie\",\"Series\",\"Movie\",\"Movie\",\"Movie\",\"Movie\",\"Series\",\"Movie\",\"Movie\",\"Series\",\"Movie\",\"Movie\",\"Movie\",\"Series\",\"Series\",\"Movie\",\"Movie\",\"Series\",\"Movie\",\"Movie\",\"Movie\",\"Movie\",\"Movie\",\"Movie\",\"Movie\",\"Series\",\"Movie\",\"Movie\",\"Movie\",\"Movie\",\"Series\",\"Movie\",\"Movie\",\"Movie\",\"Movie\",\"Series\",\"Series\",\"Series\",\"Series\",\"Movie\",\"Movie\",\"Movie\",\"Series\",\"Series\",\"Series\",\"Movie\",\"Movie\",\"Movie\",\"Movie\",\"Movie\",\"Movie\",\"Movie\",\"Series\",\"Movie\",\"Movie\",\"Movie\",\"Series\",\"Movie\",\"Movie\",\"Movie\",\"Movie\",\"Movie\",\"Movie\",\"Movie\",\"Series\",\"Movie\",\"Series\",\"Movie\",\"Movie\",\"Movie\",\"Movie\",\"Series\",\"Movie\",\"Movie\",\"Movie\",\"Movie\",\"Movie\",\"Series\",\"Movie\",\"Movie\",\"Movie\",\"Movie\",\"Movie\",\"Movie\",\"Movie\",\"Movie\",\"Movie\",\"Movie\",\"Movie\",\"Movie\",\"Movie\",\"Movie\",\"Movie\",\"Movie\",\"Movie\",\"Movie\",\"Movie\",\"Movie\",\"Movie\",\"Movie\",\"Movie\",\"Movie\",\"Movie\",\"Movie\",\"Movie\",\"Movie\",\"Movie\",\"Movie\",\"Movie\",\"Movie\",\"Movie\",\"Movie\",\"Movie\",\"Movie\",\"Movie\",\"Movie\",\"Movie\",\"Movie\",\"Movie\",\"Movie\",\"Movie\",\"Movie\",\"Movie\",\"Movie\",\"Movie\",\"Movie\",\"Movie\",\"Movie\",\"Movie\",\"Series\",\"Series\",\"Series\",\"Series\",\"Series\",\"Series\",\"Series\",\"Series\",\"Series\",\"Movie\",\"Movie\",\"Movie\",\"Movie\",\"Movie\",\"Movie\",\"Movie\",\"Series\",\"Movie\",\"Movie\",\"Movie\",\"Movie\",\"Series\",\"Movie\",\"Movie\",\"Movie\",\"Movie\",\"Series\",\"Series\",\"Series\",\"Series\",\"Series\",\"Series\",\"Series\",\"Movie\",\"Movie\",\"Movie\",\"Movie\",\"Series\",\"Movie\",\"Movie\",\"Movie\",\"Movie\",\"Movie\",\"Series\",\"Movie\",\"Movie\",\"Series\",\"Movie\",\"Movie\",\"Movie\",\"Movie\",\"Movie\",\"Movie\",\"Movie\",\"Movie\",\"Series\",\"Series\",\"Series\",\"Movie\",\"Movie\",\"Movie\",\"Movie\",\"Movie\",\"Movie\",\"Movie\",\"Movie\",\"Movie\",\"Series\",\"Movie\",\"Movie\",\"Series\",\"Movie\",\"Movie\",\"Movie\",\"Movie\",\"Movie\",\"Movie\",\"Movie\",\"Movie\",\"Movie\",\"Movie\",\"Movie\",\"Movie\",\"Series\",\"Movie\",\"Series\",\"Series\",\"Series\",\"Movie\",\"Movie\",\"Movie\",\"Movie\",\"Movie\",\"Series\",\"Movie\",\"Movie\",\"Movie\",\"Series\",\"Series\",\"Series\",\"Series\",\"Series\",\"Series\",\"Series\",\"Movie\",\"Series\",\"Series\",\"Series\",\"Movie\",\"Movie\",\"Movie\",\"Movie\",\"Movie\",\"Movie\",\"Movie\",\"Movie\",\"Movie\",\"Movie\",\"Movie\",\"Movie\",\"Movie\",\"Movie\",\"Movie\",\"Movie\",\"Movie\",\"Movie\",\"Movie\",\"Movie\",\"Movie\",\"Movie\",\"Movie\",\"Movie\",\"Movie\",\"Series\",\"Series\",\"Series\",\"Series\",\"Series\",\"Series\",\"Series\",\"Series\",\"Series\",\"Series\",\"Series\",\"Series\",\"Series\",\"Series\",\"Movie\",\"Movie\",\"Movie\",\"Movie\",\"Movie\",\"Movie\",\"Movie\",\"Movie\",\"Movie\",\"Movie\",\"Movie\",\"Movie\",\"Movie\",\"Series\",\"Series\",\"Movie\",\"Movie\",\"Movie\",\"Movie\",\"Movie\",\"Movie\",\"Movie\",\"Movie\",\"Series\",\"Movie\",\"Movie\",\"Movie\",\"Movie\",\"Movie\",\"Series\",\"Series\",\"Series\",\"Series\",\"Movie\",\"Movie\",\"Movie\",\"Movie\",\"Movie\",\"Series\",\"Movie\",\"Movie\",\"Movie\",\"Movie\",\"Movie\",\"Movie\",\"Movie\",\"Movie\",\"Movie\",\"Series\",\"Series\",\"Movie\",\"Series\",\"Movie\",\"Movie\",\"Movie\",\"Series\",\"Movie\",\"Movie\",\"Movie\",\"Movie\",\"Movie\",\"Movie\",\"Movie\",\"Movie\",\"Movie\",\"Movie\",\"Movie\",\"Movie\",\"Movie\",\"Movie\",\"Movie\",\"Movie\",\"Series\",\"Movie\",\"Movie\",\"Movie\",\"Movie\",\"Movie\",\"Movie\",\"Movie\",\"Movie\",\"Movie\",\"Movie\",\"Movie\",\"Movie\",\"Series\",\"Movie\",\"Movie\",\"Movie\",\"Movie\",\"Series\",\"Movie\",\"Series\",\"Movie\",\"Movie\",\"Movie\",\"Movie\",\"Movie\",\"Movie\",\"Movie\",\"Movie\",\"Movie\",\"Movie\",\"Movie\",\"Movie\",\"Movie\",\"Movie\",\"Movie\",\"Series\",\"Movie\",\"Movie\",\"Movie\",\"Movie\",\"Movie\",\"Movie\",\"Movie\",\"Movie\",\"Movie\",\"Movie\",\"Movie\",\"Movie\",\"Movie\",\"Movie\",\"Series\",\"Movie\",\"Movie\",\"Movie\",\"Movie\",\"Movie\",\"Movie\",\"Movie\",\"Movie\",\"Movie\",\"Movie\",\"Movie\",\"Movie\",\"Series\",\"Movie\",\"Movie\",\"Movie\",\"Series\",\"Series\",\"Series\",\"Series\",\"Series\",\"Movie\",\"Movie\",\"Movie\",\"Movie\",\"Series\",\"Movie\",\"Series\",\"Movie\",\"Series\",\"Movie\",\"Movie\",\"Movie\",\"Series\",\"Movie\",\"Movie\",\"Movie\",\"Movie\",\"Movie\",\"Movie\",\"Movie\",\"Movie\",\"Series\",\"Series\",\"Movie\",\"Movie\",\"Movie\",\"Series\",\"Movie\",\"Movie\",\"Movie\",\"Movie\",\"Movie\",\"Movie\",\"Movie\",\"Series\",\"Movie\",\"Series\",\"Movie\",\"Movie\",\"Movie\",\"Movie\",\"Movie\",\"Series\",\"Movie\",\"Movie\",\"Movie\",\"Movie\",\"Movie\",\"Series\",\"Movie\",\"Movie\",\"Movie\",\"Series\",\"Series\",\"Series\",\"Series\",\"Series\",\"Series\",\"Movie\",\"Movie\",\"Movie\",\"Movie\",\"Movie\",\"Movie\",\"Movie\",\"Movie\",\"Movie\",\"Movie\",\"Movie\",\"Movie\",\"Movie\",\"Series\",\"Series\",\"Series\",\"Series\",\"Series\",\"Movie\",\"Movie\",\"Movie\",\"Movie\",\"Series\",\"Series\",\"Movie\",\"Series\",\"Series\",\"Movie\",\"Movie\",\"Movie\",\"Movie\",\"Movie\",\"Movie\",\"Movie\",\"Series\",\"Series\",\"Series\",\"Movie\",\"Series\",\"Movie\",\"Movie\",\"Movie\",\"Movie\",\"Movie\",\"Movie\",\"Movie\",\"Movie\",\"Movie\",\"Movie\",\"Series\",\"Series\",\"Series\",\"Series\",\"Movie\",\"Series\",\"Movie\",\"Movie\",\"Movie\",\"Series\",\"Series\",\"Series\",\"Series\",\"Movie\",\"Series\",\"Series\",\"Movie\",\"Movie\",\"Movie\",\"Movie\",\"Movie\",\"Movie\",\"Movie\",\"Series\",\"Movie\",\"Movie\",\"Movie\",\"Movie\",\"Series\",\"Movie\",\"Movie\",\"Movie\",\"Series\",\"Movie\",\"Movie\",\"Movie\",\"Movie\",\"Movie\",\"Movie\",\"Movie\",\"Series\",\"Series\",\"Movie\",\"Movie\",\"Movie\",\"Movie\",\"Movie\",\"Movie\",\"Movie\",\"Movie\",\"Series\",\"Movie\",\"Movie\",\"Movie\",\"Series\",\"Series\",\"Movie\",\"Movie\",\"Movie\",\"Movie\",\"Movie\",\"Series\",\"Series\",\"Series\",\"Series\",\"Series\",\"Series\",\"Series\",\"Series\",\"Series\",\"Series\",\"Series\",\"Movie\",\"Movie\",\"Movie\",\"Movie\",\"Movie\",\"Movie\",\"Movie\",\"Movie\",\"Movie\",\"Movie\",\"Movie\",\"Movie\",\"Movie\",\"Series\",\"Series\",\"Series\",\"Series\",\"Movie\",\"Movie\",\"Movie\",\"Movie\",\"Movie\",\"Movie\",\"Movie\",\"Series\",\"Movie\",\"Series\",\"Movie\",\"Movie\",\"Series\",\"Movie\",\"Movie\",\"Movie\",\"Movie\",\"Movie\",\"Movie\",\"Movie\",\"Movie\",\"Movie\",\"Movie\",\"Movie\",\"Movie\",\"Series\",\"Series\",\"Movie\",\"Movie\",\"Movie\",\"Movie\",\"Movie\",\"Movie\",\"Movie\",\"Movie\",\"Movie\",\"Movie\",\"Movie\",\"Movie\",\"Movie\",\"Movie\",\"Movie\",\"Movie\",\"Movie\",\"Movie\",\"Movie\",\"Movie\",\"Series\",\"Series\",\"Series\",\"Series\",\"Movie\",\"Movie\",\"Movie\",\"Movie\",\"Movie\",\"Movie\",\"Movie\",\"Movie\",\"Movie\",\"Movie\",\"Series\",\"Movie\",\"Movie\",\"Movie\",\"Movie\",\"Movie\",\"Movie\",\"Movie\",\"Movie\",\"Movie\",\"Movie\",\"Series\",\"Movie\",\"Movie\",\"Series\",\"Series\",\"Movie\",\"Movie\",\"Movie\",\"Movie\",\"Movie\",\"Movie\",\"Movie\",\"Movie\",\"Movie\",\"Movie\",\"Movie\",\"Series\",\"Series\",\"Series\",\"Series\",\"Series\",\"Series\",\"Movie\",\"Movie\",\"Movie\",\"Movie\",\"Movie\",\"Movie\",\"Movie\",\"Movie\",\"Movie\",\"Movie\",\"Movie\",\"Movie\",\"Movie\",\"Movie\",\"Movie\",\"Movie\",\"Movie\",\"Series\",\"Movie\",\"Movie\",\"Movie\",\"Movie\",\"Series\",\"Series\",\"Series\",\"Series\",\"Movie\",\"Movie\",\"Movie\",\"Movie\",\"Movie\",\"Movie\",\"Movie\",\"Movie\",\"Movie\",\"Movie\",\"Series\",\"Movie\",\"Movie\",\"Movie\",\"Movie\",\"Movie\",\"Movie\",\"Series\",\"Movie\",\"Movie\",\"Series\",\"Series\",\"Series\",\"Movie\",\"Movie\",\"Movie\",\"Movie\",\"Movie\",\"Movie\",\"Movie\",\"Movie\",\"Movie\",\"Movie\",\"Movie\",\"Movie\",\"Movie\",\"Movie\",\"Movie\",\"Series\",\"Series\",\"Series\",\"Series\",\"Series\",\"Series\",\"Series\",\"Series\",\"Series\",\"Series\",\"Series\",\"Movie\",\"Movie\",\"Movie\",\"Movie\",\"Movie\",\"Movie\",\"Series\",\"Movie\",\"Movie\",\"Series\",\"Movie\",\"Movie\",\"Movie\",\"Movie\",\"Movie\",\"Movie\",\"Movie\",\"Series\",\"Series\",\"Movie\",\"Series\",\"Movie\",\"Movie\",\"Series\",\"Movie\",\"Series\",\"Series\",\"Movie\",\"Movie\",\"Series\",\"Movie\",\"Series\",\"Movie\",\"Series\",\"Series\",\"Movie\",\"Movie\",\"Series\",\"Series\",\"Movie\",\"Movie\",\"Movie\",\"Movie\",\"Movie\",\"Movie\",\"Movie\",\"Series\",\"Movie\",\"Series\",\"Movie\",\"Movie\",\"Movie\",\"Movie\",\"Series\",\"Series\",\"Series\",\"Series\",\"Movie\",\"Movie\",\"Movie\",\"Movie\",\"Movie\",\"Movie\",\"Movie\",\"Movie\",\"Movie\",\"Movie\",\"Series\",\"Movie\",\"Series\",\"Movie\",\"Series\",\"Series\",\"Movie\",\"Movie\",\"Movie\",\"Series\",\"Series\",\"Series\",\"Movie\",\"Movie\",\"Movie\",\"Movie\",\"Movie\",\"Movie\",\"Movie\",\"Movie\",\"Movie\",\"Movie\",\"Movie\",\"Movie\",\"Movie\",\"Movie\",\"Movie\",\"Movie\",\"Movie\",\"Series\",\"Movie\",\"Movie\",\"Series\",\"Movie\",\"Movie\",\"Series\",\"Movie\",\"Series\",\"Series\",\"Movie\",\"Movie\",\"Movie\",\"Movie\",\"Movie\",\"Movie\",\"Movie\",\"Movie\",\"Movie\",\"Movie\",\"Movie\",\"Movie\",\"Movie\",\"Movie\",\"Movie\",\"Movie\",\"Movie\",\"Movie\",\"Movie\",\"Movie\",\"Movie\",\"Movie\",\"Movie\",\"Movie\",\"Movie\",\"Movie\",\"Movie\",\"Movie\",\"Movie\",\"Movie\",\"Series\",\"Movie\",\"Series\",\"Movie\",\"Movie\",\"Movie\",\"Series\",\"Movie\",\"Movie\",\"Movie\",\"Movie\",\"Movie\",\"Series\",\"Movie\",\"Movie\",\"Series\",\"Series\",\"Movie\",\"Movie\",\"Series\",\"Movie\",\"Movie\",\"Series\",\"Series\",\"Movie\",\"Movie\",\"Series\",\"Movie\",\"Movie\",\"Movie\",\"Movie\",\"Movie\",\"Movie\",\"Movie\",\"Movie\",\"Series\",\"Movie\",\"Series\",\"Movie\",\"Movie\",\"Movie\",\"Movie\",\"Movie\",\"Movie\",\"Movie\",\"Series\",\"Series\",\"Series\",\"Series\",\"Movie\",\"Series\",\"Movie\",\"Series\",\"Series\",\"Movie\",\"Movie\",\"Movie\",\"Movie\",\"Series\",\"Movie\",\"Movie\",\"Movie\",\"Series\",\"Movie\",\"Series\",\"Movie\",\"Movie\",\"Movie\",\"Series\",\"Movie\",\"Movie\",\"Movie\",\"Movie\",\"Movie\",\"Movie\",\"Movie\",\"Movie\",\"Movie\",\"Movie\",\"Movie\",\"Movie\",\"Movie\",\"Series\",\"Movie\",\"Movie\",\"Series\",\"Movie\",\"Movie\",\"Movie\",\"Movie\",\"Movie\",\"Movie\",\"Series\",\"Movie\",\"Series\",\"Movie\",\"Movie\",\"Movie\",\"Movie\",\"Movie\",\"Movie\",\"Series\",\"Series\",\"Series\",\"Movie\",\"Movie\",\"Series\",\"Series\",\"Movie\",\"Movie\",\"Movie\",\"Series\",\"Series\",\"Movie\",\"Movie\",\"Series\",\"Series\",\"Movie\",\"Movie\",\"Movie\",\"Movie\",\"Movie\",\"Movie\",\"Movie\",\"Movie\",\"Movie\",\"Movie\",\"Movie\",\"Movie\",\"Movie\",\"Movie\",\"Movie\",\"Series\",\"Series\",\"Series\",\"Series\",\"Movie\",\"Series\",\"Series\",\"Movie\",\"Movie\",\"Movie\",\"Movie\",\"Movie\",\"Movie\",\"Movie\",\"Movie\",\"Movie\",\"Movie\",\"Movie\",\"Movie\",\"Series\",\"Series\",\"Movie\",\"Series\",\"Movie\",\"Movie\",\"Movie\",\"Series\",\"Movie\",\"Movie\",\"Movie\",\"Movie\",\"Movie\",\"Movie\",\"Movie\",\"Movie\",\"Series\",\"Series\",\"Movie\",\"Movie\",\"Movie\",\"Movie\",\"Movie\",\"Series\",\"Series\",\"Movie\",\"Movie\",\"Movie\",\"Movie\",\"Movie\",\"Movie\",\"Movie\",\"Movie\",\"Movie\",\"Movie\",\"Movie\",\"Movie\",\"Series\",\"Series\",\"Movie\",\"Movie\",\"Series\",\"Series\",\"Series\",\"Series\",\"Series\",\"Series\",\"Series\",\"Movie\",\"Movie\",\"Series\",\"Movie\",\"Series\",\"Movie\",\"Movie\",\"Movie\",\"Movie\",\"Movie\",\"Movie\",\"Movie\",\"Movie\",\"Movie\",\"Movie\",\"Movie\",\"Movie\",\"Series\",\"Series\",\"Movie\",\"Movie\",\"Movie\",\"Movie\",\"Movie\",\"Movie\",\"Movie\",\"Movie\",\"Movie\",\"Series\",\"Movie\",\"Movie\",\"Movie\",\"Movie\",\"Movie\",\"Movie\",\"Movie\",\"Movie\",\"Movie\",\"Movie\",\"Movie\",\"Movie\",\"Movie\",\"Movie\",\"Movie\",\"Movie\",\"Series\",\"Series\",\"Movie\",\"Movie\",\"Series\",\"Movie\",\"Movie\",\"Movie\",\"Movie\",\"Movie\",\"Movie\",\"Movie\",\"Movie\",\"Movie\",\"Movie\",\"Movie\",\"Movie\",\"Movie\",\"Movie\",\"Movie\",\"Movie\",\"Movie\",\"Movie\",\"Movie\",\"Movie\",\"Movie\",\"Series\",\"Movie\",\"Movie\",\"Movie\",\"Movie\",\"Movie\",\"Movie\",\"Series\",\"Movie\",\"Movie\",\"Movie\",\"Movie\",\"Movie\",\"Movie\",\"Movie\",\"Movie\",\"Series\",\"Series\",\"Movie\",\"Movie\",\"Movie\",\"Movie\",\"Movie\",\"Movie\",\"Movie\",\"Movie\",\"Movie\",\"Series\",\"Movie\",\"Series\",\"Movie\",\"Movie\",\"Movie\",\"Movie\",\"Movie\",\"Movie\",\"Movie\",\"Series\",\"Movie\",\"Movie\",\"Movie\",\"Series\",\"Series\",\"Movie\",\"Series\",\"Movie\",\"Movie\",\"Movie\",\"Series\",\"Series\",\"Series\",\"Series\",\"Series\",\"Series\",\"Series\",\"Movie\",\"Movie\",\"Movie\",\"Movie\",\"Series\",\"Movie\",\"Movie\",\"Movie\",\"Movie\",\"Movie\",\"Movie\",\"Movie\",\"Movie\",\"Movie\",\"Series\",\"Series\",\"Series\",\"Movie\",\"Movie\",\"Movie\",\"Movie\",\"Movie\",\"Movie\",\"Movie\",\"Series\",\"Series\",\"Series\",\"Movie\",\"Movie\",\"Movie\",\"Movie\",\"Movie\",\"Movie\",\"Movie\",\"Movie\",\"Movie\",\"Movie\",\"Movie\",\"Movie\",\"Series\",\"Series\",\"Series\",\"Series\",\"Movie\",\"Movie\",\"Movie\",\"Movie\",\"Movie\",\"Movie\",\"Movie\",\"Movie\",\"Movie\",\"Movie\",\"Movie\",\"Movie\",\"Series\",\"Movie\",\"Series\",\"Movie\",\"Movie\",\"Movie\",\"Movie\",\"Movie\",\"Series\",\"Movie\",\"Movie\",\"Movie\",\"Movie\",\"Movie\",\"Movie\",\"Movie\",\"Movie\",\"Movie\",\"Movie\",\"Movie\",\"Movie\",\"Movie\",\"Movie\",\"Series\",\"Movie\",\"Series\",\"Movie\",\"Movie\",\"Movie\",\"Movie\",\"Movie\",\"Movie\",\"Movie\",\"Movie\",\"Movie\",\"Movie\",\"Movie\",\"Movie\",\"Movie\",\"Movie\",\"Movie\",\"Movie\",\"Movie\",\"Movie\",\"Movie\",\"Movie\",\"Movie\",\"Movie\",\"Movie\",\"Series\",\"Movie\",\"Movie\",\"Movie\",\"Movie\",\"Movie\",\"Movie\",\"Movie\",\"Movie\",\"Movie\",\"Movie\",\"Movie\",\"Movie\",\"Movie\",\"Movie\",\"Movie\",\"Movie\",\"Movie\",\"Series\",\"Series\",\"Series\",\"Series\",\"Movie\",\"Movie\",\"Series\",\"Series\",\"Series\",\"Movie\",\"Series\",\"Series\",\"Movie\",\"Series\",\"Movie\",\"Movie\",\"Movie\",\"Movie\",\"Series\",\"Series\",\"Movie\",\"Series\",\"Movie\",\"Series\",\"Movie\",\"Series\",\"Series\",\"Series\",\"Series\",\"Movie\",\"Movie\",\"Series\",\"Movie\",\"Movie\",\"Movie\",\"Movie\",\"Movie\",\"Movie\",\"Movie\",\"Series\",\"Movie\",\"Movie\",\"Movie\",\"Movie\",\"Movie\",\"Movie\",\"Series\",\"Movie\",\"Movie\",\"Series\",\"Movie\",\"Movie\",\"Series\",\"Movie\",\"Movie\",\"Movie\",\"Movie\",\"Movie\",\"Movie\",\"Movie\",\"Movie\",\"Series\",\"Movie\",\"Movie\",\"Movie\",\"Movie\",\"Movie\",\"Movie\",\"Movie\",\"Movie\",\"Movie\",\"Movie\",\"Series\",\"Series\",\"Movie\",\"Movie\",\"Movie\",\"Movie\",\"Movie\",\"Series\",\"Movie\",\"Series\",\"Movie\",\"Series\",\"Movie\",\"Movie\",\"Movie\",\"Movie\",\"Movie\",\"Movie\",\"Series\",\"Movie\",\"Movie\",\"Movie\",\"Movie\",\"Movie\",\"Movie\",\"Movie\",\"Movie\",\"Movie\",\"Movie\",\"Movie\",\"Movie\",\"Series\",\"Series\",\"Series\",\"Series\",\"Series\",\"Series\",\"Movie\",\"Series\",\"Movie\",\"Series\",\"Series\",\"Movie\",\"Movie\",\"Series\",\"Movie\",\"Movie\",\"Movie\",\"Movie\",\"Movie\",\"Movie\",\"Movie\",\"Movie\",\"Movie\",\"Movie\",\"Movie\",\"Movie\",\"Series\",\"Movie\",\"Movie\",\"Movie\",\"Series\",\"Series\",\"Movie\",\"Movie\",\"Movie\",\"Movie\",\"Movie\",\"Movie\",\"Movie\",\"Series\",\"Series\",\"Movie\",\"Movie\",\"Movie\",\"Movie\",\"Movie\",\"Series\",\"Series\",\"Series\",\"Movie\",\"Movie\",\"Movie\",\"Movie\",\"Series\",\"Series\",\"Movie\",\"Movie\",\"Movie\",\"Movie\",\"Movie\",\"Movie\",\"Movie\",\"Series\",\"Series\",\"Movie\",\"Movie\",\"Movie\",\"Movie\",\"Movie\",\"Movie\",\"Movie\",\"Movie\",\"Series\",\"Series\",\"Movie\",\"Movie\",\"Series\",\"Movie\",\"Series\",\"Series\",\"Movie\",\"Movie\",\"Movie\",\"Movie\",\"Movie\",\"Movie\",\"Movie\",\"Movie\",\"Movie\",\"Movie\",\"Movie\",\"Movie\",\"Series\",\"Movie\",\"Movie\",\"Movie\",\"Movie\",\"Series\",\"Series\",\"Movie\",\"Series\",\"Movie\",\"Movie\",\"Movie\",\"Series\",\"Movie\",\"Movie\",\"Movie\",\"Movie\",\"Series\",\"Movie\",\"Movie\",\"Movie\",\"Movie\",\"Movie\",\"Series\",\"Movie\",\"Movie\",\"Movie\",\"Movie\",\"Movie\",\"Movie\",\"Series\",\"Series\",\"Movie\",\"Movie\",\"Movie\",\"Movie\",\"Series\",\"Movie\",\"Series\",\"Movie\",\"Series\",\"Movie\",\"Series\",\"Series\",\"Series\",\"Series\",\"Movie\",\"Movie\",\"Movie\",\"Movie\",\"Series\",\"Series\",\"Series\",\"Series\",\"Series\",\"Series\",\"Series\",\"Series\",\"Series\",\"Series\",\"Series\",\"Series\",\"Series\",\"Series\",\"Series\",\"Series\",\"Series\",\"Series\",\"Movie\",\"Movie\",\"Series\",\"Movie\",\"Movie\",\"Movie\",\"Movie\",\"Movie\",\"Movie\",\"Movie\",\"Movie\",\"Series\",\"Series\",\"Series\",\"Series\",\"Movie\",\"Movie\",\"Movie\",\"Movie\",\"Series\",\"Series\",\"Movie\",\"Movie\",\"Movie\",\"Series\",\"Series\",\"Movie\",\"Movie\",\"Movie\",\"Movie\",\"Movie\",\"Series\",\"Series\",\"Series\",\"Series\",\"Series\",\"Series\",\"Movie\",\"Movie\",\"Movie\",\"Movie\",\"Movie\",\"Series\",\"Series\",\"Movie\",\"Series\",\"Series\",\"Movie\",\"Series\",\"Series\",\"Movie\",\"Movie\",\"Movie\",\"Series\",\"Series\",\"Movie\",\"Movie\",\"Series\",\"Movie\",\"Movie\",\"Series\",\"Movie\",\"Movie\",\"Movie\",\"Series\",\"Series\",\"Series\",\"Series\",\"Movie\",\"Movie\",\"Movie\",\"Movie\",\"Movie\",\"Movie\",\"Movie\",\"Movie\",\"Movie\",\"Movie\",\"Movie\",\"Movie\",\"Movie\",\"Movie\",\"Movie\",\"Movie\",\"Movie\",\"Movie\",\"Movie\",\"Movie\",\"Movie\",\"Movie\",\"Movie\",\"Movie\",\"Movie\",\"Series\",\"Series\",\"Movie\",\"Series\",\"Movie\",\"Movie\",\"Movie\",\"Movie\",\"Series\",\"Series\",\"Movie\",\"Movie\",\"Movie\",\"Movie\",\"Movie\",\"Movie\",\"Movie\",\"Movie\",\"Movie\",\"Movie\",\"Movie\",\"Movie\",\"Movie\",\"Movie\",\"Series\",\"Movie\",\"Movie\",\"Movie\",\"Movie\",\"Movie\",\"Movie\",\"Movie\",\"Movie\",\"Movie\",\"Movie\",\"Movie\",\"Movie\",\"Movie\",\"Series\",\"Movie\",\"Movie\",\"Movie\",\"Series\",\"Series\",\"Movie\",\"Movie\",\"Movie\",\"Movie\",\"Movie\",\"Movie\",\"Movie\",\"Movie\",\"Movie\",\"Movie\",\"Movie\",\"Movie\",\"Series\",\"Movie\",\"Series\",\"Movie\",\"Movie\",\"Series\",\"Movie\",\"Movie\",\"Movie\",\"Movie\",\"Movie\",\"Movie\",\"Series\",\"Movie\",\"Movie\",\"Movie\",\"Movie\",\"Movie\",\"Movie\",\"Movie\",\"Movie\",\"Movie\",\"Movie\",\"Movie\",\"Series\",\"Series\",\"Movie\",\"Movie\",\"Movie\",\"Movie\",\"Movie\",\"Series\",\"Series\",\"Movie\",\"Movie\",\"Series\",\"Movie\",\"Movie\",\"Movie\",\"Series\",\"Series\",\"Series\",\"Series\",\"Movie\",\"Movie\",\"Movie\",\"Movie\",\"Movie\",\"Movie\",\"Movie\",\"Movie\",\"Movie\",\"Movie\",\"Movie\",\"Movie\",\"Movie\",\"Movie\",\"Movie\",\"Movie\",\"Movie\",\"Series\",\"Series\",\"Series\",\"Movie\",\"Movie\",\"Series\",\"Series\",\"Series\",\"Movie\",\"Series\",\"Series\",\"Series\",\"Series\",\"Movie\",\"Movie\",\"Movie\",\"Movie\",\"Movie\",\"Movie\",\"Movie\",\"Movie\",\"Movie\",\"Movie\",\"Movie\",\"Movie\",\"Movie\",\"Movie\",\"Series\",\"Movie\",\"Movie\",\"Movie\",\"Series\",\"Movie\",\"Movie\",\"Movie\",\"Movie\",\"Movie\",\"Movie\",\"Movie\",\"Movie\",\"Movie\",\"Movie\",\"Movie\",\"Movie\",\"Movie\",\"Movie\",\"Series\",\"Movie\",\"Series\",\"Movie\",\"Movie\",\"Series\",\"Movie\",\"Movie\",\"Series\",\"Movie\",\"Movie\",\"Movie\",\"Movie\",\"Movie\",\"Series\",\"Movie\",\"Series\",\"Series\",\"Series\",\"Series\",\"Movie\",\"Movie\",\"Movie\",\"Movie\",\"Movie\",\"Movie\",\"Movie\",\"Series\",\"Series\",\"Series\",\"Movie\",\"Movie\",\"Movie\",\"Movie\",\"Movie\",\"Movie\",\"Movie\",\"Series\",\"Movie\",\"Movie\",\"Movie\",\"Movie\",\"Series\",\"Series\",\"Movie\",\"Movie\",\"Movie\",\"Movie\",\"Movie\",\"Movie\",\"Movie\",\"Movie\",\"Series\",\"Series\",\"Series\",\"Series\",\"Movie\",\"Movie\",\"Series\",\"Movie\",\"Movie\",\"Series\",\"Movie\",\"Movie\",\"Series\",\"Movie\",\"Movie\",\"Movie\",\"Movie\",\"Movie\",\"Movie\",\"Movie\",\"Movie\",\"Series\",\"Series\",\"Movie\",\"Movie\",\"Movie\",\"Movie\",\"Movie\",\"Movie\",\"Series\",\"Movie\",\"Movie\",\"Movie\",\"Series\",\"Series\",\"Movie\",\"Movie\",\"Movie\",\"Movie\",\"Movie\",\"Movie\",\"Movie\",\"Movie\",\"Movie\",\"Series\",\"Movie\",\"Series\",\"Series\",\"Series\",\"Movie\",\"Movie\",\"Movie\",\"Movie\",\"Movie\",\"Movie\",\"Movie\",\"Movie\",\"Movie\",\"Movie\",\"Movie\",\"Series\",\"Series\",\"Movie\",\"Movie\",\"Movie\",\"Series\",\"Movie\",\"Series\",\"Series\",\"Series\",\"Series\",\"Series\",\"Series\",\"Series\",\"Movie\",\"Movie\",\"Movie\",\"Movie\",\"Movie\",\"Series\",\"Series\",\"Series\",\"Series\",\"Series\",\"Series\",\"Movie\",\"Movie\",\"Movie\",\"Movie\",\"Movie\",\"Movie\",\"Series\",\"Movie\",\"Movie\",\"Movie\",\"Movie\",\"Movie\",\"Movie\",\"Movie\",\"Movie\",\"Series\",\"Series\",\"Movie\",\"Movie\",\"Movie\",\"Movie\",\"Movie\",\"Movie\",\"Movie\",\"Movie\",\"Movie\",\"Movie\",\"Movie\",\"Movie\",\"Series\",\"Movie\",\"Series\",\"Movie\",\"Series\",\"Movie\",\"Movie\",\"Movie\",\"Movie\",\"Movie\",\"Series\",\"Movie\",\"Series\",\"Movie\",\"Movie\",\"Movie\",\"Movie\",\"Movie\",\"Movie\",\"Movie\",\"Series\",\"Movie\",\"Series\",\"Movie\",\"Movie\",\"Movie\",\"Movie\",\"Movie\",\"Movie\",\"Movie\",\"Movie\",\"Series\",\"Series\",\"Movie\",\"Movie\",\"Series\",\"Movie\",\"Movie\",\"Movie\",\"Movie\",\"Movie\",\"Series\",\"Movie\",\"Series\",\"Movie\",\"Movie\",\"Series\",\"Movie\",\"Movie\",\"Movie\",\"Series\",\"Movie\",\"Movie\",\"Movie\",\"Movie\",\"Movie\",\"Movie\",\"Movie\",\"Movie\",\"Movie\",\"Series\",\"Series\",\"Movie\",\"Movie\",\"Movie\",\"Movie\",\"Movie\",\"Movie\",\"Movie\",\"Movie\",\"Movie\",\"Movie\",\"Movie\",\"Movie\",\"Movie\",\"Movie\",\"Movie\",\"Movie\",\"Series\",\"Movie\",\"Movie\",\"Movie\",\"Series\",\"Series\",\"Movie\",\"Movie\",\"Movie\",\"Movie\",\"Movie\",\"Movie\",\"Movie\",\"Movie\",\"Series\",\"Series\",\"Movie\",\"Movie\",\"Movie\",\"Series\",\"Movie\",\"Movie\",\"Movie\",\"Movie\",\"Movie\",\"Movie\",\"Movie\",\"Series\",\"Movie\",\"Series\",\"Movie\",\"Movie\",\"Movie\",\"Movie\",\"Movie\",\"Series\",\"Series\",\"Series\",\"Series\",\"Movie\",\"Movie\",\"Movie\",\"Movie\",\"Movie\",\"Series\",\"Movie\",\"Movie\",\"Movie\",\"Movie\",\"Movie\",\"Movie\",\"Movie\",\"Movie\",\"Movie\",\"Movie\",\"Movie\",\"Movie\",\"Movie\",\"Movie\",\"Movie\",\"Movie\",\"Series\",\"Movie\",\"Series\",\"Series\",\"Movie\",\"Series\",\"Movie\",\"Movie\",\"Movie\",\"Movie\",\"Movie\",\"Movie\",\"Movie\",\"Series\",\"Movie\",\"Series\",\"Movie\",\"Series\",\"Movie\",\"Movie\",\"Movie\",\"Series\",\"Movie\",\"Movie\",\"Series\",\"Series\",\"Series\",\"Series\",\"Movie\",\"Movie\",\"Series\",\"Movie\",\"Movie\",\"Movie\",\"Movie\",\"Series\",\"Movie\",\"Movie\",\"Movie\",\"Movie\",\"Movie\",\"Movie\",\"Movie\",\"Movie\",\"Movie\",\"Movie\",\"Movie\",\"Series\",\"Series\",\"Movie\",\"Movie\",\"Movie\",\"Movie\",\"Series\",\"Movie\",\"Movie\",\"Movie\",\"Movie\",\"Series\",\"Series\",\"Movie\",\"Series\",\"Series\",\"Series\",\"Movie\",\"Series\",\"Movie\",\"Movie\",\"Movie\",\"Movie\",\"Movie\",\"Movie\",\"Movie\",\"Series\",\"Movie\",\"Movie\",\"Movie\",\"Movie\",\"Movie\",\"Series\",\"Movie\",\"Movie\",\"Movie\",\"Movie\",\"Movie\",\"Movie\",\"Movie\",\"Movie\",\"Series\",\"Series\",\"Movie\",\"Movie\",\"Movie\",\"Movie\",\"Series\",\"Movie\",\"Series\",\"Movie\",\"Series\",\"Movie\",\"Series\",\"Movie\",\"Series\",\"Movie\",\"Movie\",\"Movie\",\"Movie\",\"Series\",\"Movie\",\"Movie\",\"Movie\",\"Movie\",\"Movie\",\"Movie\",\"Movie\",\"Movie\",\"Movie\",\"Movie\",\"Movie\",\"Movie\",\"Series\",\"Series\",\"Series\",\"Movie\",\"Movie\",\"Movie\",\"Movie\",\"Movie\",\"Series\",\"Movie\",\"Movie\",\"Movie\",\"Series\",\"Series\",\"Movie\",\"Movie\",\"Movie\",\"Movie\",\"Movie\",\"Movie\",\"Movie\",\"Movie\",\"Movie\",\"Movie\",\"Movie\",\"Movie\",\"Movie\",\"Movie\",\"Series\",\"Movie\",\"Series\",\"Series\",\"Movie\",\"Movie\",\"Movie\",\"Series\",\"Movie\",\"Series\",\"Movie\",\"Movie\",\"Series\",\"Movie\",\"Movie\",\"Series\",\"Movie\",\"Movie\",\"Movie\",\"Movie\",\"Movie\",\"Series\",\"Movie\",\"Movie\",\"Movie\",\"Series\",\"Series\",\"Series\",\"Movie\",\"Movie\",\"Movie\",\"Movie\",\"Movie\",\"Movie\",\"Movie\",\"Movie\",\"Movie\",\"Movie\",\"Movie\",\"Movie\",\"Movie\",\"Movie\",\"Series\",\"Series\",\"Series\",\"Series\",\"Series\",\"Series\",\"Series\",\"Series\",\"Series\",\"Movie\",\"Movie\",\"Movie\",\"Movie\",\"Series\",\"Series\",\"Series\",\"Series\",\"Series\",\"Movie\",\"Series\",\"Movie\",\"Series\",\"Movie\",\"Movie\",\"Movie\",\"Movie\",\"Series\",\"Movie\",\"Series\",\"Series\",\"Series\",\"Series\",\"Movie\",\"Movie\",\"Movie\",\"Movie\",\"Series\",\"Movie\",\"Movie\",\"Movie\",\"Movie\",\"Movie\",\"Movie\",\"Movie\",\"Movie\",\"Series\",\"Movie\",\"Movie\",\"Movie\",\"Movie\",\"Movie\",\"Movie\",\"Series\",\"Series\",\"Movie\",\"Movie\",\"Series\",\"Series\",\"Movie\",\"Series\",\"Movie\",\"Series\",\"Series\",\"Series\",\"Movie\",\"Movie\",\"Movie\",\"Movie\",\"Series\",\"Movie\",\"Movie\",\"Series\",\"Series\",\"Movie\",\"Series\",\"Series\",\"Movie\",\"Movie\",\"Series\",\"Series\",\"Movie\",\"Series\",\"Movie\",\"Movie\",\"Movie\",\"Series\",\"Movie\",\"Series\",\"Series\",\"Movie\",\"Movie\",\"Movie\",\"Movie\",\"Movie\",\"Movie\",\"Movie\",\"Series\",\"Series\",\"Series\",\"Series\",\"Movie\",\"Movie\",\"Movie\",\"Movie\",\"Movie\",\"Movie\",\"Movie\",\"Movie\",\"Movie\",\"Movie\",\"Movie\",\"Movie\",\"Movie\",\"Movie\",\"Movie\",\"Movie\",\"Movie\",\"Movie\",\"Movie\",\"Movie\",\"Movie\",\"Movie\",\"Movie\",\"Movie\",\"Series\",\"Series\",\"Movie\",\"Series\",\"Series\",\"Movie\",\"Movie\",\"Movie\",\"Movie\",\"Movie\",\"Movie\",\"Series\",\"Movie\",\"Movie\",\"Movie\",\"Movie\",\"Movie\",\"Movie\",\"Series\",\"Series\",\"Series\",\"Movie\",\"Movie\",\"Movie\",\"Movie\",\"Movie\",\"Movie\",\"Movie\",\"Movie\",\"Movie\",\"Series\",\"Series\",\"Series\",\"Movie\",\"Movie\",\"Movie\",\"Movie\",\"Movie\",\"Movie\",\"Movie\",\"Movie\",\"Movie\",\"Movie\",\"Movie\",\"Movie\",\"Movie\",\"Movie\",\"Movie\",\"Movie\",\"Movie\",\"Movie\",\"Movie\",\"Movie\",\"Movie\",\"Movie\",\"Movie\",\"Movie\",\"Movie\",\"Series\",\"Movie\",\"Movie\",\"Movie\",\"Movie\",\"Movie\",\"Series\",\"Movie\",\"Series\",\"Series\",\"Series\",\"Series\",\"Movie\",\"Movie\",\"Movie\",\"Movie\",\"Movie\",\"Movie\",\"Movie\",\"Movie\",\"Movie\",\"Series\",\"Movie\",\"Movie\",\"Movie\",\"Movie\",\"Movie\",\"Series\",\"Movie\",\"Movie\",\"Series\",\"Movie\",\"Movie\",\"Movie\",\"Movie\",\"Movie\",\"Movie\",\"Movie\",\"Series\",\"Movie\",\"Movie\",\"Movie\",\"Movie\",\"Movie\",\"Movie\",\"Movie\",\"Movie\",\"Movie\",\"Movie\",\"Series\",\"Movie\",\"Series\",\"Series\",\"Series\",\"Series\",\"Movie\",\"Movie\",\"Series\",\"Series\",\"Movie\",\"Movie\",\"Movie\",\"Series\",\"Movie\",\"Series\",\"Series\",\"Movie\",\"Movie\",\"Movie\",\"Movie\",\"Movie\",\"Movie\",\"Movie\",\"Movie\",\"Movie\",\"Movie\",\"Movie\",\"Series\",\"Series\",\"Movie\",\"Series\",\"Movie\",\"Movie\",\"Series\",\"Movie\",\"Movie\",\"Series\",\"Series\",\"Series\",\"Movie\",\"Series\",\"Series\",\"Movie\",\"Series\",\"Series\",\"Movie\",\"Movie\",\"Movie\",\"Series\",\"Series\",\"Series\",\"Movie\",\"Movie\",\"Movie\",\"Movie\",\"Movie\",\"Movie\",\"Movie\",\"Movie\",\"Movie\",\"Movie\",\"Movie\",\"Series\",\"Movie\",\"Movie\",\"Movie\",\"Series\",\"Series\",\"Movie\",\"Movie\",\"Movie\",\"Movie\",\"Movie\",\"Series\",\"Movie\",\"Movie\",\"Series\",\"Movie\",\"Movie\",\"Movie\",\"Movie\",\"Movie\",\"Movie\",\"Movie\",\"Movie\",\"Series\",\"Movie\",\"Series\",\"Movie\",\"Movie\",\"Movie\",\"Movie\",\"Movie\",\"Movie\",\"Movie\",\"Movie\",\"Movie\",\"Movie\",\"Movie\",\"Movie\",\"Movie\",\"Movie\",\"Movie\",\"Series\",\"Movie\",\"Movie\",\"Movie\",\"Movie\",\"Movie\",\"Movie\",\"Movie\",\"Movie\",\"Movie\",\"Series\",\"Movie\",\"Series\",\"Movie\",\"Movie\",\"Series\",\"Movie\",\"Movie\",\"Movie\",\"Movie\",\"Series\",\"Series\",\"Movie\",\"Movie\",\"Movie\",\"Movie\",\"Movie\",\"Movie\",\"Movie\",\"Series\",\"Movie\",\"Series\",\"Movie\",\"Movie\",\"Movie\",\"Movie\",\"Movie\",\"Movie\",\"Series\",\"Movie\",\"Series\",\"Series\",\"Series\",\"Movie\",\"Movie\",\"Movie\",\"Movie\",\"Movie\",\"Movie\",\"Series\",\"Series\",\"Series\",\"Movie\",\"Movie\",\"Movie\",\"Movie\",\"Movie\",\"Movie\",\"Movie\",\"Movie\",\"Movie\",\"Movie\",\"Movie\",\"Movie\",\"Movie\",\"Movie\",\"Movie\",\"Movie\",\"Movie\",\"Movie\",\"Movie\",\"Movie\",\"Movie\",\"Series\",\"Series\",\"Movie\",\"Series\",\"Movie\",\"Movie\",\"Series\",\"Movie\",\"Movie\",\"Movie\",\"Series\",\"Series\",\"Movie\",\"Movie\",\"Movie\",\"Movie\",\"Movie\",\"Series\",\"Movie\",\"Series\",\"Movie\",\"Series\",\"Series\",\"Series\",\"Series\",\"Series\",\"Movie\",\"Series\",\"Series\",\"Movie\",\"Series\",\"Series\",\"Movie\",\"Movie\",\"Series\",\"Movie\",\"Series\",\"Movie\",\"Series\",\"Movie\",\"Movie\",\"Series\",\"Movie\",\"Series\",\"Movie\",\"Movie\",\"Series\",\"Series\",\"Series\",\"Movie\",\"Series\",\"Movie\",\"Movie\",\"Movie\",\"Movie\",\"Movie\",\"Series\",\"Movie\",\"Series\",\"Movie\",\"Movie\",\"Movie\",\"Movie\",\"Movie\",\"Movie\",\"Movie\",\"Movie\",\"Series\",\"Series\",\"Series\",\"Series\",\"Movie\",\"Series\",\"Movie\",\"Movie\",\"Movie\",\"Series\",\"Movie\",\"Movie\",\"Series\",\"Series\",\"Series\",\"Series\",\"Series\",\"Series\",\"Series\",\"Movie\",\"Movie\",\"Series\",\"Movie\",\"Movie\",\"Movie\",\"Movie\",\"Movie\",\"Series\",\"Series\",\"Series\",\"Series\",\"Movie\",\"Movie\",\"Series\",\"Movie\",\"Series\",\"Movie\",\"Series\",\"Series\",\"Movie\",\"Movie\",\"Movie\",\"Movie\",\"Movie\",\"Movie\",\"Movie\",\"Movie\",\"Movie\",\"Movie\",\"Movie\",\"Movie\",\"Movie\",\"Movie\",\"Movie\",\"Movie\",\"Movie\",\"Movie\",\"Movie\",\"Movie\",\"Movie\",\"Series\",\"Series\",\"Movie\",\"Movie\",\"Movie\",\"Movie\",\"Movie\",\"Movie\",\"Movie\",\"Movie\",\"Movie\",\"Movie\",\"Movie\",\"Movie\",\"Movie\",\"Movie\",\"Movie\",\"Movie\",\"Movie\",\"Movie\",\"Movie\",\"Movie\",\"Movie\",\"Movie\",\"Movie\",\"Movie\",\"Movie\",\"Movie\",\"Movie\",\"Movie\",\"Movie\",\"Movie\",\"Movie\",\"Movie\",\"Movie\",\"Movie\",\"Movie\",\"Movie\",\"Movie\",\"Movie\",\"Movie\",\"Movie\",\"Series\",\"Series\",\"Movie\",\"Movie\",\"Series\",\"Movie\",\"Series\",\"Series\",\"Series\",\"Series\",\"Movie\",\"Movie\",\"Series\",\"Movie\",\"Movie\",\"Movie\",\"Movie\",\"Movie\",\"Movie\",\"Movie\",\"Movie\",\"Movie\",\"Movie\",\"Movie\",\"Movie\",\"Movie\",\"Movie\",\"Movie\",\"Movie\",\"Series\",\"Series\",\"Series\",\"Movie\",\"Movie\",\"Movie\",\"Movie\",\"Movie\",\"Movie\",\"Movie\",\"Movie\",\"Movie\",\"Movie\",\"Movie\",\"Movie\",\"Movie\",\"Movie\",\"Movie\",\"Movie\",\"Movie\",\"Series\",\"Movie\",\"Series\",\"Movie\",\"Series\",\"Series\",\"Movie\",\"Movie\",\"Movie\",\"Movie\",\"Movie\",\"Movie\",\"Movie\",\"Movie\",\"Movie\",\"Movie\",\"Series\",\"Movie\",\"Movie\",\"Movie\",\"Movie\",\"Movie\",\"Movie\",\"Movie\",\"Movie\",\"Movie\",\"Movie\",\"Movie\",\"Movie\",\"Movie\",\"Movie\",\"Movie\",\"Movie\",\"Movie\",\"Series\",\"Movie\",\"Series\",\"Movie\",\"Movie\",\"Series\",\"Series\",\"Series\",\"Series\",\"Movie\",\"Movie\",\"Movie\",\"Movie\",\"Movie\",\"Movie\",\"Series\",\"Series\",\"Series\",\"Movie\",\"Series\",\"Movie\",\"Movie\",\"Movie\",\"Movie\",\"Series\",\"Series\",\"Movie\",\"Series\",\"Movie\",\"Movie\",\"Movie\",\"Movie\",\"Movie\",\"Movie\",\"Movie\",\"Movie\",\"Movie\",\"Series\",\"Series\",\"Movie\",\"Movie\",\"Movie\",\"Movie\",\"Movie\",\"Movie\",\"Movie\",\"Series\",\"Series\",\"Series\",\"Series\",\"Movie\",\"Movie\",\"Movie\",\"Movie\",\"Movie\",\"Movie\",\"Movie\",\"Movie\",\"Series\",\"Movie\",\"Movie\",\"Movie\",\"Movie\",\"Series\",\"Series\",\"Movie\",\"Movie\",\"Movie\",\"Movie\",\"Movie\",\"Movie\",\"Movie\",\"Movie\",\"Movie\",\"Movie\",\"Movie\",\"Movie\",\"Movie\",\"Movie\",\"Movie\",\"Movie\",\"Movie\",\"Series\",\"Movie\",\"Movie\",\"Movie\",\"Movie\",\"Movie\",\"Movie\",\"Movie\",\"Movie\",\"Series\",\"Movie\",\"Movie\",\"Movie\",\"Series\",\"Movie\",\"Movie\",\"Movie\",\"Movie\",\"Series\",\"Series\",\"Series\",\"Series\",\"Movie\",\"Series\",\"Movie\",\"Movie\",\"Movie\",\"Movie\",\"Movie\",\"Movie\",\"Movie\",\"Movie\",\"Movie\",\"Movie\",\"Movie\",\"Movie\",\"Movie\",\"Movie\",\"Movie\",\"Movie\",\"Movie\",\"Movie\",\"Movie\",\"Movie\",\"Movie\",\"Movie\",\"Movie\",\"Movie\",\"Movie\",\"Movie\",\"Movie\",\"Movie\",\"Movie\",\"Movie\",\"Movie\",\"Movie\",\"Movie\",\"Movie\",\"Series\",\"Movie\",\"Series\",\"Movie\",\"Movie\",\"Movie\",\"Movie\",\"Movie\",\"Movie\",\"Movie\",\"Movie\",\"Movie\",\"Movie\",\"Series\",\"Movie\",\"Movie\",\"Series\",\"Series\",\"Series\",\"Movie\",\"Movie\",\"Movie\",\"Movie\",\"Movie\",\"Movie\",\"Movie\",\"Movie\",\"Movie\",\"Movie\",\"Movie\",\"Series\",\"Series\",\"Series\",\"Series\",\"Series\",\"Movie\",\"Movie\",\"Movie\",\"Series\",\"Movie\",\"Movie\",\"Movie\",\"Movie\",\"Movie\",\"Series\",\"Movie\",\"Movie\",\"Movie\",\"Movie\",\"Movie\",\"Movie\",\"Movie\",\"Movie\",\"Movie\",\"Movie\",\"Series\",\"Series\",\"Movie\",\"Movie\",\"Movie\",\"Movie\",\"Series\",\"Movie\",\"Movie\",\"Series\",\"Movie\",\"Movie\",\"Movie\",\"Movie\",\"Movie\",\"Movie\",\"Movie\",\"Movie\",\"Movie\",\"Movie\",\"Movie\",\"Series\",\"Movie\",\"Movie\",\"Movie\",\"Series\",\"Series\",\"Movie\",\"Series\",\"Movie\",\"Movie\",\"Movie\",\"Movie\",\"Movie\",\"Series\",\"Series\",\"Movie\",\"Movie\",\"Series\",\"Series\",\"Movie\",\"Movie\",\"Movie\",\"Series\",\"Movie\",\"Movie\",\"Movie\",\"Movie\",\"Movie\",\"Movie\",\"Movie\",\"Movie\",\"Movie\",\"Movie\",\"Movie\",\"Movie\",\"Series\",\"Series\",\"Series\",\"Movie\",\"Movie\",\"Series\",\"Series\",\"Movie\",\"Movie\",\"Movie\",\"Movie\",\"Movie\",\"Movie\",\"Movie\",\"Movie\",\"Movie\",\"Movie\",\"Movie\",\"Movie\",\"Movie\",\"Series\",\"Movie\",\"Movie\",\"Movie\",\"Movie\",\"Series\",\"Movie\",\"Series\",\"Series\",\"Series\",\"Movie\",\"Movie\",\"Series\",\"Series\",\"Movie\",\"Series\",\"Series\",\"Series\",\"Movie\",\"Movie\",\"Movie\",\"Movie\",\"Movie\",\"Movie\",\"Movie\",\"Movie\",\"Movie\",\"Movie\",\"Movie\",\"Movie\",\"Series\",\"Movie\",\"Movie\",\"Movie\",\"Movie\",\"Movie\",\"Movie\",\"Series\",\"Movie\",\"Movie\",\"Movie\",\"Series\",\"Movie\",\"Series\",\"Movie\",\"Series\",\"Movie\",\"Movie\",\"Movie\",\"Movie\",\"Series\",\"Movie\",\"Movie\",\"Movie\",\"Movie\",\"Movie\",\"Movie\",\"Movie\",\"Movie\",\"Movie\",\"Movie\",\"Movie\",\"Movie\",\"Movie\",\"Movie\",\"Movie\",\"Movie\",\"Movie\",\"Movie\",\"Movie\",\"Series\",\"Series\",\"Series\",\"Movie\",\"Movie\",\"Series\",\"Series\",\"Series\",\"Movie\",\"Series\",\"Movie\",\"Movie\",\"Series\",\"Movie\",\"Movie\",\"Series\",\"Series\",\"Series\",\"Movie\",\"Movie\",\"Series\",\"Movie\",\"Series\",\"Series\",\"Series\",\"Series\",\"Movie\",\"Movie\",\"Movie\",\"Movie\",\"Movie\",\"Series\",\"Series\",\"Movie\",\"Movie\",\"Movie\",\"Movie\",\"Movie\",\"Movie\",\"Series\",\"Series\",\"Series\",\"Movie\",\"Movie\",\"Movie\",\"Series\",\"Movie\",\"Movie\",\"Movie\",\"Movie\",\"Movie\",\"Movie\",\"Movie\",\"Series\",\"Movie\",\"Movie\",\"Movie\",\"Movie\",\"Movie\",\"Movie\",\"Movie\",\"Movie\",\"Movie\",\"Movie\",\"Movie\",\"Movie\",\"Movie\",\"Movie\",\"Series\",\"Movie\",\"Series\",\"Movie\",\"Movie\",\"Movie\",\"Movie\",\"Movie\",\"Series\",\"Movie\",\"Movie\",\"Movie\",\"Movie\",\"Movie\",\"Series\",\"Series\",\"Movie\",\"Movie\",\"Movie\",\"Movie\",\"Movie\",\"Movie\",\"Movie\",\"Movie\",\"Movie\",\"Movie\",\"Movie\",\"Movie\",\"Movie\",\"Movie\",\"Movie\",\"Movie\",\"Movie\",\"Movie\",\"Movie\",\"Movie\",\"Movie\",\"Movie\",\"Movie\",\"Movie\",\"Movie\",\"Movie\",\"Movie\",\"Movie\",\"Series\",\"Series\",\"Movie\",\"Movie\",\"Movie\",\"Series\",\"Series\",\"Series\",\"Series\",\"Movie\",\"Movie\",\"Movie\",\"Movie\",\"Movie\",\"Movie\",\"Series\",\"Series\",\"Movie\",\"Series\",\"Series\",\"Series\",\"Series\",\"Movie\",\"Movie\",\"Movie\",\"Movie\",\"Movie\",\"Movie\",\"Movie\",\"Movie\",\"Movie\",\"Movie\",\"Movie\",\"Movie\",\"Series\",\"Series\",\"Movie\",\"Movie\",\"Series\",\"Series\",\"Series\",\"Series\",\"Movie\",\"Movie\",\"Movie\",\"Movie\",\"Movie\",\"Movie\",\"Movie\",\"Movie\",\"Series\",\"Series\",\"Movie\",\"Movie\",\"Movie\",\"Movie\",\"Movie\",\"Movie\",\"Movie\",\"Movie\",\"Movie\",\"Movie\",\"Series\",\"Movie\",\"Movie\",\"Movie\",\"Movie\",\"Movie\",\"Series\",\"Series\",\"Movie\",\"Series\",\"Series\",\"Series\",\"Series\",\"Series\",\"Series\",\"Movie\",\"Movie\",\"Movie\",\"Movie\",\"Movie\",\"Movie\",\"Movie\",\"Movie\",\"Movie\",\"Movie\",\"Movie\",\"Movie\",\"Movie\",\"Movie\",\"Movie\",\"Movie\",\"Movie\",\"Movie\",\"Movie\",\"Movie\",\"Movie\",\"Movie\",\"Movie\",\"Movie\",\"Movie\",\"Movie\",\"Movie\",\"Series\",\"Movie\",\"Movie\",\"Movie\",\"Series\",\"Series\",\"Series\",\"Series\",\"Movie\",\"Movie\",\"Series\",\"Movie\",\"Movie\",\"Movie\",\"Movie\",\"Series\",\"Series\",\"Movie\",\"Series\",\"Movie\",\"Movie\",\"Movie\",\"Movie\",\"Movie\",\"Movie\",\"Movie\",\"Movie\",\"Series\",\"Movie\",\"Movie\",\"Movie\",\"Movie\",\"Movie\",\"Movie\",\"Movie\",\"Movie\",\"Movie\",\"Movie\",\"Movie\",\"Movie\",\"Movie\",\"Movie\",\"Movie\",\"Movie\",\"Movie\",\"Movie\",\"Movie\",\"Series\",\"Series\",\"Series\",\"Movie\",\"Series\",\"Movie\",\"Movie\",\"Series\",\"Series\",\"Movie\",\"Movie\",\"Movie\",\"Movie\",\"Movie\",\"Movie\",\"Movie\",\"Movie\",\"Series\",\"Movie\",\"Movie\",\"Movie\",\"Movie\",\"Movie\",\"Movie\",\"Movie\",\"Series\",\"Series\",\"Series\",\"Series\",\"Series\",\"Series\",\"Series\",\"Movie\",\"Movie\",\"Movie\",\"Movie\",\"Movie\",\"Movie\",\"Movie\",\"Movie\",\"Movie\",\"Movie\",\"Series\",\"Series\",\"Movie\",\"Series\",\"Movie\",\"Movie\",\"Movie\",\"Movie\",\"Series\",\"Movie\",\"Movie\",\"Movie\",\"Movie\",\"Movie\",\"Movie\",\"Movie\",\"Movie\",\"Series\",\"Movie\",\"Series\",\"Movie\",\"Series\",\"Series\",\"Movie\",\"Movie\",\"Movie\",\"Movie\",\"Movie\",\"Movie\",\"Movie\",\"Movie\",\"Series\",\"Movie\",\"Movie\",\"Movie\",\"Movie\",\"Movie\",\"Series\",\"Series\",\"Movie\",\"Movie\",\"Series\",\"Movie\",\"Series\",\"Movie\",\"Series\",\"Movie\",\"Movie\",\"Series\",\"Movie\",\"Movie\",\"Movie\",\"Movie\",\"Movie\",\"Movie\",\"Movie\",\"Movie\",\"Movie\",\"Movie\",\"Movie\",\"Movie\",\"Series\",\"Movie\",\"Movie\",\"Series\",\"Series\",\"Movie\",\"Movie\",\"Movie\",\"Movie\",\"Movie\",\"Series\",\"Movie\",\"Movie\",\"Movie\",\"Movie\",\"Movie\",\"Series\",\"Series\",\"Movie\",\"Movie\",\"Movie\",\"Movie\",\"Series\",\"Movie\",\"Movie\",\"Movie\",\"Movie\",\"Movie\",\"Series\",\"Movie\",\"Movie\",\"Movie\",\"Movie\",\"Movie\",\"Movie\",\"Movie\",\"Movie\",\"Series\",\"Movie\",\"Movie\",\"Movie\",\"Movie\",\"Series\",\"Series\",\"Movie\",\"Movie\",\"Series\",\"Movie\",\"Movie\",\"Movie\",\"Movie\",\"Movie\",\"Movie\",\"Movie\",\"Series\",\"Movie\",\"Movie\",\"Movie\",\"Movie\",\"Movie\",\"Movie\",\"Movie\",\"Movie\",\"Movie\",\"Movie\",\"Movie\",\"Movie\",\"Series\",\"Movie\",\"Movie\",\"Movie\",\"Movie\",\"Series\",\"Movie\",\"Movie\",\"Movie\",\"Movie\",\"Movie\",\"Movie\",\"Movie\",\"Movie\",\"Series\",\"Movie\",\"Movie\",\"Movie\",\"Series\",\"Movie\",\"Movie\",\"Movie\",\"Movie\",\"Movie\",\"Movie\",\"Movie\",\"Movie\",\"Movie\",\"Movie\",\"Movie\",\"Movie\",\"Movie\",\"Series\",\"Movie\",\"Movie\",\"Series\",\"Series\",\"Movie\",\"Movie\",\"Series\",\"Series\",\"Series\",\"Movie\",\"Movie\",\"Movie\",\"Series\",\"Movie\",\"Series\",\"Movie\",\"Movie\",\"Movie\",\"Movie\",\"Movie\",\"Movie\",\"Series\",\"Movie\",\"Series\",\"Movie\",\"Movie\",\"Movie\",\"Movie\",\"Movie\",\"Movie\",\"Movie\",\"Series\",\"Movie\",\"Movie\",\"Movie\",\"Series\",\"Series\",\"Movie\",\"Movie\",\"Series\",\"Series\",\"Movie\",\"Series\",\"Movie\",\"Movie\",\"Movie\",\"Movie\",\"Movie\",\"Movie\",\"Movie\",\"Movie\",\"Movie\",\"Movie\",\"Movie\",\"Movie\",\"Movie\",\"Movie\",\"Movie\",\"Series\",\"Movie\",\"Movie\",\"Series\",\"Movie\",\"Series\",\"Movie\",\"Movie\",\"Series\",\"Movie\",\"Series\",\"Series\",\"Series\",\"Movie\",\"Series\",\"Series\",\"Movie\",\"Movie\",\"Movie\",\"Movie\",\"Movie\",\"Movie\",\"Movie\",\"Movie\",\"Movie\",\"Movie\",\"Movie\",\"Movie\",\"Movie\",\"Movie\",\"Movie\",\"Series\",\"Movie\",\"Movie\",\"Movie\",\"Movie\",\"Series\",\"Movie\",\"Movie\",\"Movie\",\"Movie\",\"Series\",\"Movie\",\"Movie\",\"Movie\",\"Movie\",\"Series\",\"Series\",\"Series\",\"Series\",\"Movie\",\"Movie\",\"Movie\",\"Movie\",\"Movie\",\"Movie\",\"Movie\",\"Movie\",\"Movie\",\"Movie\",\"Movie\",\"Movie\",\"Movie\",\"Series\",\"Movie\",\"Movie\",\"Movie\",\"Movie\",\"Movie\",\"Movie\",\"Movie\",\"Series\",\"Movie\",\"Series\",\"Movie\",\"Series\",\"Movie\",\"Movie\",\"Movie\",\"Movie\",\"Movie\",\"Movie\",\"Movie\",\"Movie\",\"Movie\",\"Movie\",\"Movie\",\"Movie\",\"Movie\",\"Movie\",\"Series\",\"Movie\",\"Movie\",\"Series\",\"Series\",\"Movie\",\"Movie\",\"Series\",\"Series\",\"Movie\",\"Series\",\"Movie\",\"Movie\",\"Movie\",\"Movie\",\"Movie\",\"Movie\",\"Movie\",\"Movie\",\"Movie\",\"Movie\",\"Movie\",\"Movie\",\"Movie\",\"Movie\",\"Movie\",\"Movie\",\"Movie\",\"Movie\",\"Movie\",\"Movie\",\"Movie\",\"Movie\",\"Movie\",\"Movie\",\"Movie\",\"Movie\",\"Movie\",\"Movie\",\"Movie\",\"Movie\",\"Movie\",\"Movie\",\"Movie\",\"Movie\",\"Series\",\"Movie\",\"Series\",\"Movie\",\"Series\",\"Movie\",\"Movie\",\"Series\",\"Movie\",\"Series\",\"Series\",\"Series\",\"Movie\",\"Movie\",\"Movie\",\"Movie\",\"Series\",\"Series\",\"Series\",\"Series\",\"Series\",\"Series\",\"Movie\",\"Movie\",\"Series\",\"Series\",\"Series\",\"Series\",\"Series\",\"Series\",\"Series\",\"Series\",\"Series\",\"Series\",\"Series\",\"Movie\",\"Movie\",\"Movie\",\"Movie\",\"Movie\",\"Movie\",\"Movie\",\"Movie\",\"Movie\",\"Series\",\"Movie\",\"Movie\",\"Movie\",\"Movie\",\"Series\",\"Movie\",\"Movie\",\"Movie\",\"Movie\",\"Movie\",\"Movie\",\"Movie\",\"Movie\",\"Movie\",\"Movie\",\"Movie\",\"Movie\",\"Movie\",\"Movie\",\"Movie\",\"Movie\",\"Movie\",\"Movie\",\"Movie\",\"Movie\",\"Movie\",\"Movie\",\"Movie\",\"Movie\",\"Movie\",\"Movie\",\"Movie\",\"Movie\",\"Movie\",\"Movie\",\"Movie\",\"Movie\",\"Movie\",\"Movie\",\"Movie\",\"Series\",\"Movie\",\"Movie\",\"Series\",\"Series\",\"Series\",\"Series\",\"Movie\",\"Movie\",\"Movie\",\"Series\",\"Series\",\"Movie\",\"Movie\",\"Series\",\"Movie\",\"Movie\",\"Movie\",\"Movie\",\"Movie\",\"Movie\",\"Series\",\"Movie\",\"Series\",\"Series\",\"Series\",\"Series\",\"Movie\",\"Series\",\"Movie\",\"Movie\",\"Movie\",\"Movie\",\"Movie\",\"Movie\",\"Movie\",\"Series\",\"Series\",\"Series\",\"Movie\",\"Movie\",\"Movie\",\"Movie\",\"Movie\",\"Series\",\"Movie\",\"Movie\",\"Movie\",\"Movie\",\"Movie\",\"Series\",\"Movie\",\"Series\",\"Series\",\"Series\",\"Series\",\"Series\",\"Movie\",\"Movie\",\"Movie\",\"Series\",\"Movie\",\"Series\",\"Movie\",\"Movie\",\"Movie\",\"Movie\",\"Movie\",\"Movie\",\"Movie\",\"Movie\",\"Movie\",\"Movie\",\"Series\",\"Movie\",\"Movie\",\"Series\",\"Movie\",\"Movie\",\"Movie\",\"Movie\",\"Movie\",\"Movie\",\"Movie\",\"Movie\",\"Movie\",\"Movie\",\"Series\",\"Movie\",\"Movie\",\"Movie\",\"Movie\",\"Series\",\"Movie\",\"Movie\",\"Movie\",\"Movie\",\"Movie\",\"Movie\",\"Movie\",\"Movie\",\"Movie\",\"Movie\",\"Movie\",\"Movie\",\"Movie\",\"Movie\",\"Movie\",\"Movie\",\"Movie\",\"Movie\",\"Movie\",\"Movie\",\"Movie\",\"Movie\",\"Movie\",\"Movie\",\"Series\",\"Movie\",\"Series\",\"Series\",\"Movie\",\"Movie\",\"Movie\",\"Movie\",\"Movie\",\"Movie\",\"Series\",\"Series\",\"Series\",\"Series\",\"Movie\",\"Movie\",\"Series\",\"Movie\",\"Movie\",\"Series\",\"Series\",\"Movie\",\"Movie\",\"Movie\",\"Movie\",\"Series\",\"Series\",\"Movie\",\"Movie\",\"Movie\",\"Series\",\"Series\",\"Movie\",\"Series\",\"Movie\",\"Series\",\"Series\",\"Movie\",\"Series\",\"Movie\",\"Series\",\"Series\",\"Series\",\"Movie\",\"Movie\",\"Series\",\"Series\",\"Series\",\"Movie\",\"Movie\",\"Movie\",\"Movie\",\"Movie\",\"Series\",\"Series\",\"Movie\",\"Movie\",\"Series\",\"Series\",\"Movie\",\"Movie\",\"Movie\",\"Movie\",\"Series\",\"Series\",\"Series\",\"Series\",\"Series\",\"Series\",\"Series\",\"Series\",\"Movie\",\"Series\",\"Movie\",\"Movie\",\"Movie\",\"Movie\",\"Movie\",\"Movie\",\"Movie\",\"Movie\",\"Movie\",\"Movie\",\"Movie\",\"Movie\",\"Series\",\"Series\",\"Movie\",\"Series\",\"Movie\",\"Movie\",\"Movie\",\"Movie\",\"Movie\",\"Movie\",\"Movie\",\"Movie\",\"Movie\",\"Series\",\"Series\",\"Movie\",\"Movie\",\"Movie\",\"Movie\",\"Series\",\"Series\",\"Movie\",\"Series\",\"Series\",\"Series\",\"Series\",\"Series\",\"Movie\",\"Movie\",\"Movie\",\"Movie\",\"Movie\",\"Movie\",\"Series\",\"Series\",\"Movie\",\"Movie\",\"Series\",\"Movie\",\"Movie\",\"Movie\",\"Movie\",\"Movie\",\"Series\",\"Movie\",\"Movie\",\"Movie\",\"Movie\",\"Series\",\"Movie\",\"Movie\",\"Movie\",\"Series\",\"Movie\",\"Movie\",\"Movie\",\"Movie\",\"Movie\",\"Movie\",\"Series\",\"Series\",\"Series\",\"Movie\",\"Series\",\"Movie\",\"Movie\",\"Movie\",\"Movie\",\"Movie\",\"Movie\",\"Movie\",\"Series\",\"Movie\",\"Movie\",\"Movie\",\"Movie\",\"Movie\",\"Movie\",\"Movie\",\"Movie\",\"Movie\",\"Movie\",\"Movie\",\"Movie\",\"Movie\",\"Movie\",\"Movie\",\"Movie\",\"Movie\",\"Movie\",\"Movie\",\"Movie\",\"Movie\",\"Movie\",\"Movie\",\"Movie\",\"Movie\",\"Movie\",\"Movie\",\"Movie\",\"Movie\",\"Movie\",\"Movie\",\"Movie\",\"Movie\",\"Movie\",\"Movie\",\"Movie\",\"Movie\",\"Movie\",\"Movie\",\"Movie\",\"Movie\",\"Movie\",\"Movie\",\"Movie\",\"Movie\",\"Movie\",\"Movie\",\"Movie\",\"Series\",\"Movie\",\"Movie\",\"Series\",\"Series\",\"Series\",\"Series\",\"Series\",\"Movie\",\"Movie\",\"Movie\",\"Movie\",\"Movie\",\"Movie\",\"Movie\",\"Movie\",\"Movie\",\"Series\",\"Series\",\"Movie\",\"Series\",\"Movie\",\"Movie\",\"Movie\",\"Movie\",\"Movie\",\"Movie\",\"Series\",\"Movie\",\"Movie\",\"Movie\",\"Series\",\"Movie\",\"Movie\",\"Movie\",\"Movie\",\"Series\",\"Movie\",\"Movie\",\"Movie\",\"Movie\",\"Movie\",\"Movie\",\"Movie\",\"Movie\",\"Movie\",\"Series\",\"Series\",\"Series\",\"Movie\",\"Movie\",\"Movie\",\"Movie\",\"Series\",\"Series\",\"Series\",\"Series\",\"Series\",\"Series\",\"Movie\",\"Movie\",\"Movie\",\"Movie\",\"Movie\",\"Movie\",\"Movie\",\"Movie\",\"Movie\",\"Series\",\"Series\",\"Series\",\"Series\",\"Series\",\"Series\",\"Movie\",\"Movie\",\"Series\",\"Movie\",\"Movie\",\"Movie\",\"Movie\",\"Movie\",\"Movie\",\"Series\",\"Series\",\"Series\",\"Movie\",\"Series\",\"Movie\",\"Movie\",\"Series\",\"Movie\",\"Series\",\"Movie\",\"Movie\",\"Movie\",\"Movie\",\"Series\",\"Movie\",\"Movie\",\"Series\",\"Movie\",\"Movie\",\"Movie\",\"Series\",\"Series\",\"Movie\",\"Movie\",\"Movie\",\"Series\",\"Series\",\"Series\",\"Series\",\"Movie\",\"Movie\",\"Series\",\"Series\",\"Movie\",\"Movie\",\"Movie\",\"Movie\",\"Movie\",\"Series\",\"Series\",\"Movie\",\"Movie\",\"Movie\",\"Movie\",\"Movie\",\"Series\",\"Series\",\"Series\",\"Series\",\"Series\",\"Series\",\"Series\",\"Movie\",\"Movie\",\"Movie\",\"Movie\",\"Movie\",\"Movie\",\"Movie\",\"Movie\",\"Movie\",\"Movie\",\"Movie\",\"Movie\",\"Movie\",\"Movie\",\"Movie\",\"Movie\",\"Movie\",\"Movie\",\"Movie\",\"Movie\",\"Movie\",\"Movie\",\"Movie\",\"Movie\",\"Movie\",\"Movie\",\"Movie\",\"Movie\",\"Movie\",\"Movie\",\"Movie\",\"Movie\",\"Movie\",\"Movie\",\"Movie\",\"Movie\",\"Movie\",\"Movie\",\"Movie\",\"Movie\",\"Movie\",\"Movie\",\"Movie\",\"Movie\",\"Movie\",\"Movie\",\"Movie\",\"Movie\",\"Movie\",\"Movie\",\"Movie\",\"Movie\",\"Movie\",\"Movie\",\"Movie\",\"Movie\",\"Movie\",\"Movie\",\"Movie\",\"Movie\",\"Movie\",\"Movie\",\"Movie\",\"Movie\",\"Movie\",\"Movie\",\"Movie\",\"Movie\",\"Movie\",\"Movie\",\"Movie\",\"Movie\",\"Movie\",\"Movie\",\"Movie\",\"Movie\",\"Movie\",\"Movie\",\"Movie\",\"Movie\",\"Movie\",\"Movie\",\"Movie\",\"Movie\",\"Movie\",\"Movie\",\"Movie\",\"Movie\",\"Series\",\"Series\",\"Series\",\"Series\",\"Movie\",\"Movie\",\"Movie\",\"Movie\",\"Movie\",\"Movie\",\"Movie\",\"Movie\",\"Movie\",\"Movie\",\"Movie\",\"Movie\",\"Movie\",\"Movie\",\"Movie\",\"Movie\",\"Movie\",\"Movie\",\"Movie\",\"Movie\",\"Movie\",\"Movie\",\"Movie\",\"Movie\",\"Movie\",\"Movie\",\"Movie\",\"Movie\",\"Movie\",\"Movie\",\"Movie\",\"Movie\",\"Movie\",\"Movie\",\"Movie\",\"Movie\",\"Movie\",\"Movie\",\"Movie\",\"Movie\",\"Movie\",\"Movie\",\"Series\",\"Series\",\"Series\",\"Series\",\"Series\",\"Movie\",\"Movie\",\"Movie\",\"Movie\",\"Movie\",\"Series\",\"Movie\",\"Movie\",\"Movie\",\"Series\",\"Movie\",\"Movie\",\"Movie\",\"Movie\",\"Movie\",\"Movie\",\"Movie\",\"Movie\",\"Movie\",\"Series\",\"Movie\",\"Movie\",\"Series\",\"Series\",\"Series\",\"Series\",\"Movie\",\"Movie\",\"Movie\",\"Movie\",\"Movie\",\"Movie\",\"Movie\",\"Movie\",\"Movie\",\"Movie\",\"Movie\",\"Movie\",\"Movie\",\"Movie\",\"Series\",\"Movie\",\"Series\",\"Series\",\"Series\",\"Movie\",\"Series\",\"Movie\",\"Movie\",\"Series\",\"Movie\",\"Movie\",\"Movie\",\"Movie\",\"Movie\",\"Movie\",\"Movie\",\"Series\",\"Series\",\"Series\",\"Series\",\"Movie\",\"Series\",\"Movie\",\"Movie\",\"Movie\",\"Movie\",\"Movie\",\"Series\",\"Movie\",\"Movie\",\"Movie\",\"Series\",\"Movie\",\"Movie\",\"Movie\",\"Movie\",\"Series\",\"Series\",\"Movie\",\"Movie\",\"Movie\",\"Movie\",\"Movie\",\"Movie\",\"Movie\",\"Movie\",\"Movie\",\"Movie\",\"Movie\",\"Series\",\"Movie\",\"Movie\",\"Series\",\"Movie\",\"Movie\",\"Movie\",\"Movie\",\"Movie\",\"Movie\",\"Series\",\"Movie\",\"Movie\",\"Movie\",\"Movie\",\"Movie\",\"Series\",\"Movie\",\"Movie\",\"Movie\",\"Series\",\"Movie\",\"Movie\",\"Movie\",\"Movie\",\"Movie\",\"Movie\",\"Movie\",\"Movie\",\"Movie\",\"Movie\",\"Movie\",\"Series\",\"Movie\",\"Series\",\"Series\",\"Movie\",\"Movie\",\"Movie\",\"Series\",\"Movie\",\"Movie\",\"Movie\",\"Movie\",\"Series\",\"Series\",\"Series\",\"Movie\",\"Movie\",\"Movie\",\"Movie\",\"Series\",\"Series\",\"Series\",\"Movie\",\"Movie\",\"Movie\",\"Movie\",\"Movie\",\"Movie\",\"Movie\",\"Movie\",\"Movie\",\"Movie\",\"Movie\",\"Movie\",\"Movie\",\"Movie\",\"Series\",\"Series\",\"Series\",\"Movie\",\"Movie\",\"Series\",\"Series\",\"Movie\",\"Movie\",\"Movie\",\"Movie\",\"Movie\",\"Movie\",\"Movie\",\"Movie\",\"Movie\",\"Movie\",\"Movie\",\"Movie\",\"Movie\",\"Movie\",\"Movie\",\"Movie\",\"Series\",\"Movie\",\"Movie\",\"Movie\",\"Movie\",\"Movie\",\"Movie\",\"Series\",\"Movie\",\"Movie\",\"Movie\",\"Movie\",\"Movie\",\"Series\",\"Series\",\"Series\",\"Series\",\"Series\",\"Series\",\"Movie\",\"Series\",\"Movie\",\"Movie\",\"Movie\",\"Movie\",\"Movie\",\"Movie\",\"Movie\",\"Movie\",\"Series\",\"Series\",\"Movie\",\"Movie\",\"Series\",\"Movie\",\"Movie\",\"Series\",\"Movie\",\"Movie\",\"Series\",\"Movie\",\"Movie\",\"Movie\",\"Movie\",\"Series\",\"Series\",\"Movie\",\"Series\",\"Movie\",\"Movie\",\"Movie\",\"Movie\",\"Series\",\"Movie\",\"Series\",\"Series\",\"Movie\",\"Movie\",\"Movie\",\"Movie\",\"Series\",\"Movie\",\"Movie\",\"Movie\",\"Movie\",\"Movie\",\"Movie\",\"Movie\",\"Movie\",\"Movie\",\"Movie\",\"Movie\",\"Movie\",\"Movie\",\"Movie\",\"Movie\",\"Movie\",\"Movie\",\"Movie\",\"Series\",\"Movie\",\"Movie\",\"Movie\",\"Movie\",\"Movie\",\"Movie\",\"Movie\",\"Movie\",\"Movie\",\"Movie\",\"Movie\",\"Movie\",\"Movie\",\"Movie\",\"Movie\",\"Movie\",\"Movie\",\"Movie\",\"Series\",\"Movie\",\"Movie\",\"Movie\",\"Series\",\"Series\",\"Movie\",\"Movie\",\"Series\",\"Movie\",\"Movie\",\"Movie\",\"Movie\",\"Movie\",\"Series\",\"Movie\",\"Movie\",\"Series\",\"Movie\",\"Series\",\"Movie\",\"Movie\",\"Series\",\"Series\",\"Movie\",\"Movie\",\"Movie\",\"Movie\",\"Movie\",\"Series\",\"Series\",\"Movie\",\"Movie\",\"Movie\",\"Movie\",\"Movie\",\"Series\",\"Movie\",\"Series\",\"Movie\",\"Series\",\"Series\",\"Series\",\"Series\",\"Movie\",\"Series\",\"Movie\",\"Series\",\"Movie\",\"Movie\",\"Movie\",\"Movie\",\"Series\",\"Series\",\"Movie\",\"Movie\",\"Movie\",\"Series\",\"Movie\",\"Series\",\"Series\",\"Series\",\"Series\",\"Series\",\"Movie\",\"Series\",\"Series\",\"Series\",\"Series\",\"Movie\",\"Movie\",\"Series\",\"Series\",\"Movie\",\"Movie\",\"Series\",\"Series\",\"Movie\",\"Movie\",\"Movie\",\"Series\",\"Movie\",\"Movie\",\"Movie\",\"Movie\",\"Movie\",\"Movie\",\"Series\",\"Movie\",\"Movie\",\"Movie\",\"Movie\",\"Movie\",\"Movie\",\"Movie\",\"Movie\",\"Movie\",\"Movie\",\"Series\",\"Movie\",\"Movie\",\"Movie\",\"Movie\",\"Movie\",\"Movie\",\"Movie\",\"Movie\",\"Movie\",\"Movie\",\"Movie\",\"Movie\",\"Movie\",\"Movie\",\"Series\",\"Series\",\"Movie\",\"Movie\",\"Series\",\"Movie\",\"Movie\",\"Movie\",\"Series\",\"Series\",\"Movie\",\"Series\",\"Series\",\"Movie\",\"Movie\",\"Series\",\"Movie\",\"Movie\",\"Movie\",\"Movie\",\"Series\",\"Movie\",\"Movie\",\"Series\",\"Movie\",\"Movie\",\"Movie\",\"Movie\",\"Movie\",\"Series\",\"Movie\",\"Movie\",\"Movie\",\"Series\",\"Movie\",\"Series\",\"Series\",\"Movie\",\"Movie\",\"Movie\",\"Movie\",\"Movie\",\"Movie\",\"Movie\",\"Movie\",\"Series\",\"Series\",\"Movie\",\"Movie\",\"Series\",\"Series\",\"Movie\",\"Movie\",\"Series\",\"Series\",\"Movie\",\"Movie\",\"Movie\",\"Movie\",\"Series\",\"Movie\",\"Movie\",\"Movie\",\"Movie\",\"Movie\",\"Series\",\"Movie\",\"Series\",\"Series\",\"Series\",\"Movie\",\"Movie\",\"Movie\",\"Movie\",\"Series\",\"Movie\",\"Movie\",\"Movie\",\"Movie\",\"Series\",\"Series\",\"Movie\",\"Movie\",\"Movie\",\"Movie\",\"Series\",\"Movie\",\"Movie\",\"Movie\",\"Movie\",\"Movie\",\"Movie\",\"Movie\",\"Movie\",\"Movie\",\"Movie\",\"Movie\",\"Movie\",\"Movie\",\"Movie\",\"Movie\",\"Movie\",\"Movie\",\"Movie\",\"Movie\",\"Series\",\"Movie\",\"Movie\",\"Movie\",\"Movie\",\"Movie\",\"Movie\",\"Series\",\"Movie\",\"Movie\",\"Series\",\"Movie\",\"Series\",\"Movie\",\"Series\",\"Movie\",\"Movie\",\"Movie\",\"Movie\",\"Movie\",\"Movie\",\"Movie\",\"Movie\",\"Movie\",\"Series\",\"Movie\",\"Movie\",\"Series\",\"Movie\",\"Movie\",\"Movie\",\"Movie\",\"Movie\",\"Series\",\"Series\",\"Movie\",\"Movie\",\"Movie\",\"Movie\",\"Movie\",\"Movie\",\"Series\",\"Movie\",\"Movie\",\"Movie\",\"Movie\",\"Movie\",\"Movie\",\"Series\",\"Series\",\"Movie\",\"Movie\",\"Movie\",\"Movie\",\"Movie\",\"Movie\",\"Movie\",\"Movie\",\"Movie\",\"Movie\",\"Movie\",\"Movie\",\"Movie\",\"Movie\",\"Movie\",\"Series\",\"Movie\",\"Movie\",\"Movie\",\"Movie\",\"Movie\",\"Series\",\"Series\",\"Movie\",\"Series\",\"Movie\",\"Movie\",\"Series\",\"Series\",\"Series\",\"Series\",\"Series\",\"Movie\",\"Movie\",\"Series\",\"Movie\",\"Movie\",\"Movie\",\"Movie\",\"Movie\",\"Series\",\"Movie\",\"Series\",\"Movie\",\"Movie\",\"Series\",\"Series\",\"Series\",\"Movie\",\"Series\",\"Movie\",\"Series\",\"Movie\",\"Movie\",\"Movie\",\"Series\",\"Movie\",\"Series\",\"Movie\",\"Movie\",\"Movie\",\"Series\",\"Series\",\"Movie\",\"Movie\",\"Movie\",\"Movie\",\"Series\",\"Movie\",\"Movie\",\"Movie\",\"Series\",\"Movie\",\"Movie\",\"Movie\",\"Movie\",\"Series\",\"Movie\",\"Movie\",\"Movie\",\"Series\",\"Movie\",\"Series\",\"Movie\",\"Movie\",\"Movie\",\"Movie\",\"Movie\",\"Movie\",\"Movie\",\"Series\",\"Series\",\"Movie\",\"Movie\",\"Movie\",\"Movie\",\"Series\",\"Movie\",\"Movie\",\"Movie\",\"Movie\",\"Movie\",\"Movie\",\"Movie\",\"Movie\",\"Movie\",\"Movie\",\"Series\",\"Movie\",\"Movie\",\"Movie\",\"Movie\",\"Movie\",\"Series\",\"Movie\",\"Movie\",\"Movie\",\"Movie\",\"Movie\",\"Movie\",\"Movie\",\"Movie\",\"Movie\",\"Movie\",\"Movie\",\"Movie\",\"Movie\",\"Movie\",\"Movie\",\"Series\",\"Movie\",\"Movie\",\"Series\",\"Movie\",\"Movie\",\"Movie\",\"Movie\",\"Movie\",\"Series\",\"Movie\",\"Movie\",\"Movie\",\"Movie\",\"Movie\",\"Movie\",\"Series\",\"Series\",\"Series\",\"Movie\",\"Series\",\"Series\",\"Movie\",\"Movie\",\"Movie\",\"Movie\",\"Movie\",\"Movie\",\"Movie\",\"Movie\",\"Movie\",\"Movie\",\"Series\",\"Movie\",\"Movie\",\"Movie\",\"Movie\",\"Movie\",\"Movie\",\"Movie\",\"Movie\",\"Movie\",\"Movie\",\"Movie\",\"Series\",\"Movie\",\"Movie\",\"Movie\",\"Series\",\"Movie\",\"Movie\",\"Movie\",\"Series\",\"Series\",\"Series\",\"Movie\",\"Series\",\"Series\",\"Movie\",\"Movie\",\"Movie\",\"Movie\",\"Movie\",\"Movie\",\"Series\",\"Series\",\"Movie\",\"Series\",\"Movie\",\"Series\",\"Series\",\"Movie\",\"Series\",\"Series\",\"Movie\",\"Movie\",\"Movie\",\"Movie\",\"Movie\",\"Movie\",\"Movie\",\"Movie\",\"Movie\",\"Movie\",\"Movie\",\"Movie\",\"Series\",\"Movie\",\"Series\",\"Series\",\"Movie\",\"Movie\",\"Series\",\"Movie\",\"Series\",\"Movie\",\"Series\",\"Movie\",\"Movie\",\"Movie\",\"Movie\",\"Movie\",\"Movie\",\"Series\",\"Series\",\"Movie\",\"Movie\",\"Movie\",\"Series\",\"Movie\",\"Series\",\"Series\",\"Movie\",\"Movie\",\"Movie\",\"Movie\",\"Movie\",\"Series\",\"Series\",\"Movie\",\"Series\",\"Movie\",\"Movie\",\"Movie\",\"Movie\",\"Movie\",\"Movie\",\"Movie\",\"Movie\",\"Movie\",\"Movie\",\"Movie\",\"Series\",\"Movie\",\"Movie\",\"Movie\",\"Movie\",\"Series\",\"Movie\",\"Movie\",\"Movie\",\"Movie\",\"Movie\",\"Series\",\"Series\",\"Series\",\"Series\",\"Series\",\"Series\",\"Series\",\"Series\",\"Series\",\"Series\",\"Movie\",\"Movie\",\"Movie\",\"Series\",\"Series\",\"Series\",\"Series\",\"Series\",\"Movie\",\"Movie\",\"Movie\",\"Movie\",\"Series\",\"Movie\",\"Movie\",\"Movie\",\"Series\",\"Series\",\"Series\",\"Series\",\"Movie\",\"Movie\",\"Series\",\"Movie\",\"Series\",\"Series\",\"Series\",\"Series\",\"Series\",\"Movie\",\"Series\",\"Series\",\"Series\",\"Series\",\"Series\",\"Series\",\"Series\",\"Series\",\"Series\",\"Series\",\"Movie\",\"Series\",\"Series\",\"Series\",\"Series\",\"Series\",\"Series\",\"Movie\",\"Movie\",\"Series\",\"Series\",\"Movie\",\"Series\",\"Series\",\"Movie\",\"Movie\",\"Movie\",\"Series\",\"Series\",\"Movie\",\"Series\",\"Series\",\"Movie\",\"Movie\",\"Movie\",\"Series\",\"Movie\",\"Series\",\"Movie\",\"Series\",\"Series\",\"Series\",\"Movie\",\"Movie\",\"Movie\",\"Movie\",\"Movie\",\"Movie\",\"Movie\",\"Series\",\"Series\",\"Series\",\"Movie\",\"Series\",\"Series\",\"Series\",\"Series\",\"Series\",\"Movie\",\"Movie\",\"Series\",\"Movie\",\"Movie\",\"Movie\",\"Series\",\"Series\",\"Movie\",\"Movie\",\"Series\",\"Series\",\"Series\",\"Movie\",\"Movie\",\"Series\",\"Series\",\"Series\",\"Movie\",\"Series\",\"Movie\",\"Movie\",\"Movie\",\"Movie\",\"Movie\",\"Movie\",\"Movie\",\"Movie\",\"Movie\",\"Movie\",\"Movie\",\"Series\",\"Series\",\"Movie\",\"Movie\",\"Movie\",\"Series\",\"Series\",\"Series\",\"Movie\",\"Movie\",\"Movie\",\"Series\",\"Series\",\"Movie\",\"Series\",\"Series\",\"Movie\",\"Series\",\"Series\",\"Series\",\"Movie\",\"Movie\",\"Movie\",\"Movie\",\"Movie\",\"Movie\",\"Series\",\"Movie\",\"Movie\",\"Series\",\"Movie\",\"Movie\",\"Movie\",\"Movie\",\"Movie\",\"Movie\",\"Movie\",\"Movie\",\"Movie\",\"Movie\",\"Movie\",\"Series\",\"Movie\",\"Series\",\"Movie\",\"Series\",\"Series\",\"Series\",\"Movie\",\"Series\",\"Movie\",\"Movie\",\"Movie\",\"Movie\",\"Series\",\"Movie\",\"Series\",\"Movie\",\"Movie\",\"Movie\",\"Movie\",\"Movie\",\"Movie\",\"Movie\",\"Movie\",\"Movie\",\"Movie\",\"Movie\",\"Movie\",\"Movie\",\"Movie\",\"Series\",\"Movie\",\"Movie\",\"Movie\",\"Movie\",\"Movie\",\"Series\",\"Movie\",\"Movie\",\"Movie\",\"Movie\",\"Series\",\"Movie\",\"Series\",\"Movie\",\"Series\",\"Movie\",\"Movie\",\"Movie\",\"Movie\",\"Movie\",\"Movie\",\"Movie\",\"Movie\",\"Movie\",\"Movie\",\"Movie\",\"Movie\",\"Movie\",\"Movie\",\"Movie\",\"Movie\",\"Movie\",\"Movie\",\"Movie\",\"Movie\",\"Movie\",\"Movie\",\"Movie\",\"Movie\",\"Movie\",\"Movie\",\"Movie\",\"Movie\",\"Movie\",\"Movie\",\"Movie\",\"Movie\",\"Movie\",\"Movie\",\"Movie\",\"Movie\",\"Movie\",\"Movie\",\"Movie\",\"Movie\",\"Movie\",\"Movie\",\"Movie\",\"Movie\",\"Series\",\"Series\",\"Series\",\"Movie\",\"Movie\",\"Movie\",\"Movie\",\"Movie\",\"Movie\",\"Series\",\"Series\",\"Movie\",\"Movie\",\"Movie\",\"Movie\",\"Movie\",\"Movie\",\"Movie\",\"Movie\",\"Movie\",\"Movie\",\"Movie\",\"Movie\",\"Movie\",\"Movie\",\"Series\",\"Movie\",\"Movie\",\"Movie\",\"Movie\",\"Series\",\"Series\",\"Movie\",\"Movie\",\"Series\",\"Movie\",\"Movie\",\"Movie\",\"Movie\",\"Movie\",\"Series\",\"Movie\",\"Series\",\"Movie\",\"Series\",\"Series\",\"Series\",\"Movie\",\"Movie\",\"Movie\",\"Movie\",\"Movie\",\"Movie\",\"Movie\",\"Movie\",\"Series\",\"Series\",\"Movie\",\"Movie\",\"Movie\",\"Movie\",\"Movie\",\"Movie\",\"Movie\",\"Movie\",\"Movie\",\"Movie\",\"Series\",\"Movie\",\"Series\",\"Movie\",\"Movie\",\"Movie\",\"Movie\",\"Movie\",\"Movie\",\"Movie\",\"Movie\",\"Movie\",\"Movie\",\"Movie\",\"Movie\",\"Movie\",\"Movie\",\"Series\",\"Series\",\"Series\",\"Movie\",\"Movie\",\"Movie\",\"Movie\",\"Movie\",\"Movie\",\"Movie\",\"Movie\",\"Movie\",\"Movie\",\"Movie\",\"Movie\",\"Movie\",\"Movie\",\"Movie\",\"Movie\",\"Movie\",\"Movie\",\"Movie\",\"Movie\",\"Movie\",\"Movie\",\"Movie\",\"Movie\",\"Movie\",\"Movie\",\"Movie\",\"Movie\",\"Movie\",\"Movie\",\"Movie\",\"Movie\",\"Movie\",\"Movie\",\"Movie\",\"Movie\",\"Series\",\"Movie\",\"Movie\",\"Movie\",\"Movie\",\"Movie\",\"Movie\",\"Movie\",\"Movie\",\"Movie\",\"Series\",\"Movie\",\"Movie\",\"Movie\",\"Series\",\"Movie\",\"Movie\",\"Movie\",\"Series\",\"Series\",\"Series\",\"Movie\",\"Movie\",\"Movie\",\"Movie\",\"Movie\",\"Series\",\"Movie\",\"Series\",\"Series\",\"Series\",\"Series\",\"Movie\",\"Series\",\"Movie\",\"Movie\",\"Series\",\"Movie\",\"Movie\",\"Movie\",\"Series\",\"Series\",\"Movie\",\"Movie\",\"Movie\",\"Series\",\"Movie\",\"Series\",\"Series\",\"Series\",\"Movie\",\"Movie\",\"Movie\",\"Series\",\"Movie\",\"Movie\",\"Movie\",\"Movie\",\"Movie\",\"Movie\",\"Movie\",\"Movie\",\"Movie\",\"Series\",\"Series\",\"Movie\",\"Movie\",\"Series\",\"Movie\",\"Movie\",\"Movie\",\"Series\",\"Series\",\"Movie\",\"Series\",\"Movie\",\"Series\",\"Movie\",\"Movie\",\"Movie\",\"Movie\",\"Movie\",\"Movie\",\"Series\",\"Movie\",\"Movie\",\"Movie\",\"Movie\",\"Movie\",\"Movie\",\"Movie\",\"Movie\",\"Movie\",\"Series\",\"Series\",\"Movie\",\"Movie\",\"Movie\",\"Movie\",\"Movie\",\"Series\",\"Movie\",\"Movie\",\"Movie\",\"Movie\",\"Movie\",\"Movie\",\"Movie\",\"Movie\",\"Series\",\"Movie\",\"Movie\",\"Movie\",\"Movie\",\"Movie\",\"Movie\",\"Movie\",\"Movie\",\"Movie\",\"Movie\",\"Movie\",\"Movie\",\"Series\",\"Series\",\"Series\",\"Movie\",\"Series\",\"Movie\",\"Series\",\"Movie\",\"Movie\",\"Series\",\"Movie\",\"Movie\",\"Movie\",\"Movie\",\"Movie\",\"Movie\",\"Series\",\"Series\",\"Movie\",\"Series\",\"Movie\",\"Movie\",\"Movie\",\"Movie\",\"Series\",\"Movie\",\"Movie\",\"Movie\",\"Movie\",\"Movie\",\"Movie\",\"Movie\",\"Movie\",\"Movie\",\"Movie\",\"Series\",\"Series\",\"Movie\",\"Series\",\"Movie\",\"Movie\",\"Movie\",\"Movie\",\"Series\",\"Series\",\"Movie\",\"Movie\",\"Movie\",\"Movie\",\"Series\",\"Movie\",\"Movie\",\"Movie\",\"Movie\",\"Movie\",\"Movie\",\"Movie\",\"Movie\",\"Series\",\"Movie\",\"Movie\",\"Series\",\"Movie\",\"Movie\",\"Movie\",\"Movie\",\"Movie\",\"Movie\",\"Series\",\"Movie\",\"Movie\",\"Movie\",\"Movie\",\"Movie\",\"Movie\",\"Movie\",\"Movie\",\"Movie\",\"Movie\",\"Movie\",\"Movie\",\"Movie\",\"Movie\",\"Movie\",\"Movie\",\"Movie\",\"Movie\",\"Series\",\"Series\",\"Movie\",\"Series\",\"Movie\",\"Movie\",\"Series\",\"Movie\",\"Movie\",\"Series\",\"Movie\",\"Series\",\"Movie\",\"Series\",\"Movie\",\"Movie\",\"Series\",\"Movie\",\"Movie\",\"Movie\",\"Movie\",\"Movie\",\"Movie\",\"Series\",\"Series\",\"Movie\",\"Series\",\"Movie\",\"Movie\",\"Series\",\"Movie\",\"Series\",\"Series\",\"Series\",\"Series\",\"Movie\",\"Series\",\"Movie\",\"Series\",\"Series\",\"Series\",\"Movie\",\"Movie\",\"Movie\",\"Movie\",\"Series\",\"Series\",\"Movie\",\"Series\",\"Series\",\"Movie\",\"Movie\",\"Movie\",\"Series\",\"Movie\",\"Movie\",\"Series\",\"Movie\",\"Movie\",\"Movie\",\"Movie\",\"Movie\",\"Movie\",\"Movie\",\"Movie\",\"Series\",\"Movie\",\"Series\",\"Series\",\"Series\",\"Movie\",\"Series\",\"Movie\",\"Series\",\"Movie\",\"Movie\",\"Movie\",\"Series\",\"Movie\",\"Movie\",\"Movie\",\"Series\",\"Movie\",\"Movie\",\"Series\",\"Series\",\"Series\",\"Movie\",\"Movie\",\"Series\",\"Movie\",\"Movie\",\"Movie\",\"Series\",\"Movie\",\"Movie\",\"Movie\",\"Movie\",\"Movie\",\"Movie\",\"Movie\",\"Movie\",\"Movie\",\"Movie\",\"Movie\",\"Movie\",\"Movie\",\"Movie\",\"Movie\",\"Movie\",\"Movie\",\"Movie\",\"Series\",\"Movie\",\"Movie\",\"Movie\",\"Movie\",\"Movie\",\"Movie\",\"Movie\",\"Series\",\"Movie\",\"Movie\",\"Movie\",\"Movie\",\"Movie\",\"Movie\",\"Movie\",\"Movie\",\"Movie\",\"Movie\",\"Movie\",\"Movie\",\"Movie\",\"Movie\",\"Movie\",\"Movie\",\"Movie\",\"Movie\",\"Movie\",\"Movie\",\"Movie\",\"Movie\",\"Movie\",\"Movie\",\"Movie\",\"Movie\",\"Movie\",\"Movie\",\"Movie\",\"Movie\",\"Series\",\"Series\",\"Series\",\"Series\",\"Movie\",\"Series\",\"Movie\",\"Movie\",\"Movie\",\"Movie\",\"Series\",\"Movie\",\"Series\",\"Movie\",\"Movie\",\"Movie\",\"Series\",\"Series\",\"Series\",\"Movie\",\"Series\",\"Movie\",\"Series\",\"Series\",\"Movie\",\"Series\",\"Series\",\"Series\",\"Movie\",\"Series\",\"Series\",\"Series\",\"Movie\",\"Series\",\"Series\",\"Movie\",\"Movie\",\"Movie\",\"Series\",\"Movie\",\"Series\",\"Series\",\"Movie\",\"Series\",\"Movie\",\"Movie\",\"Movie\",\"Movie\",\"Series\",\"Series\",\"Series\",\"Movie\",\"Movie\",\"Movie\",\"Series\",\"Series\",\"Movie\",\"Series\",\"Movie\",\"Movie\",\"Movie\",\"Movie\",\"Movie\",\"Series\",\"Movie\",\"Series\",\"Series\",\"Movie\",\"Movie\",\"Series\",\"Movie\",\"Movie\",\"Series\",\"Movie\",\"Movie\",\"Series\",\"Movie\",\"Movie\",\"Movie\",\"Movie\",\"Series\",\"Movie\",\"Movie\",\"Movie\",\"Movie\",\"Movie\",\"Movie\",\"Movie\",\"Movie\",\"Movie\",\"Movie\",\"Movie\",\"Movie\",\"Movie\",\"Movie\",\"Series\",\"Movie\",\"Series\",\"Movie\",\"Movie\",\"Movie\",\"Movie\",\"Movie\",\"Series\",\"Movie\",\"Series\",\"Movie\",\"Movie\",\"Movie\",\"Movie\",\"Movie\",\"Series\",\"Series\",\"Movie\",\"Series\",\"Movie\",\"Movie\",\"Movie\",\"Series\",\"Movie\",\"Movie\",\"Series\",\"Movie\",\"Movie\",\"Movie\",\"Movie\",\"Movie\",\"Movie\",\"Movie\",\"Movie\",\"Movie\",\"Movie\",\"Movie\",\"Movie\",\"Movie\",\"Movie\",\"Movie\",\"Movie\",\"Movie\",\"Movie\",\"Movie\",\"Movie\",\"Movie\",\"Movie\",\"Movie\",\"Movie\",\"Movie\",\"Movie\",\"Movie\",\"Movie\",\"Series\",\"Movie\",\"Movie\",\"Movie\",\"Movie\",\"Movie\",\"Movie\",\"Movie\",\"Series\",\"Movie\",\"Series\",\"Series\",\"Movie\",\"Movie\",\"Movie\",\"Series\",\"Movie\",\"Movie\",\"Movie\",\"Movie\",\"Movie\",\"Movie\",\"Movie\",\"Series\",\"Movie\",\"Series\",\"Movie\",\"Series\",\"Movie\",\"Movie\",\"Series\",\"Series\",\"Series\",\"Series\",\"Series\",\"Movie\",\"Movie\",\"Movie\",\"Movie\",\"Series\",\"Series\",\"Movie\",\"Series\",\"Movie\",\"Movie\",\"Movie\",\"Movie\",\"Movie\",\"Series\",\"Series\",\"Movie\",\"Movie\",\"Movie\",\"Movie\",\"Movie\",\"Movie\",\"Movie\",\"Series\",\"Movie\",\"Series\",\"Movie\",\"Movie\",\"Series\",\"Series\",\"Movie\",\"Movie\",\"Series\",\"Movie\",\"Movie\",\"Series\",\"Series\",\"Series\",\"Series\",\"Movie\",\"Movie\",\"Movie\",\"Movie\",\"Series\",\"Series\",\"Series\",\"Movie\",\"Series\",\"Movie\",\"Movie\",\"Movie\",\"Movie\",\"Movie\",\"Movie\",\"Movie\",\"Movie\",\"Movie\",\"Movie\",\"Series\",\"Series\",\"Movie\",\"Movie\",\"Movie\",\"Series\",\"Movie\",\"Movie\",\"Movie\",\"Movie\",\"Movie\",\"Movie\",\"Series\",\"Movie\",\"Series\",\"Movie\",\"Movie\",\"Movie\",\"Movie\",\"Series\",\"Movie\",\"Series\",\"Series\",\"Movie\",\"Movie\",\"Movie\",\"Series\",\"Movie\",\"Movie\",\"Series\",\"Movie\",\"Series\",\"Movie\",\"Series\",\"Movie\",\"Movie\",\"Movie\",\"Movie\",\"Movie\",\"Series\",\"Movie\",\"Movie\",\"Movie\",\"Movie\",\"Movie\",\"Movie\",\"Series\",\"Series\",\"Movie\",\"Movie\",\"Movie\",\"Series\",\"Series\",\"Series\",\"Movie\",\"Movie\",\"Series\",\"Movie\",\"Movie\",\"Movie\",\"Movie\",\"Movie\",\"Movie\",\"Movie\",\"Movie\",\"Series\",\"Movie\",\"Movie\",\"Movie\",\"Series\",\"Series\",\"Series\",\"Series\",\"Movie\",\"Series\",\"Series\",\"Movie\",\"Movie\",\"Movie\",\"Movie\",\"Movie\",\"Movie\",\"Movie\",\"Movie\",\"Movie\",\"Movie\",\"Movie\",\"Series\",\"Movie\",\"Movie\",\"Movie\",\"Movie\",\"Movie\",\"Movie\",\"Movie\",\"Movie\",\"Series\",\"Movie\",\"Movie\",\"Movie\",\"Movie\",\"Movie\",\"Movie\",\"Series\",\"Series\",\"Movie\",\"Movie\",\"Movie\",\"Movie\",\"Movie\",\"Series\",\"Movie\",\"Movie\",\"Movie\",\"Movie\",\"Movie\",\"Series\",\"Movie\",\"Movie\",\"Movie\",\"Series\",\"Movie\",\"Movie\",\"Movie\",\"Movie\",\"Movie\",\"Movie\",\"Movie\",\"Series\",\"Movie\",\"Series\",\"Movie\",\"Series\",\"Movie\",\"Series\",\"Series\",\"Movie\",\"Series\",\"Series\",\"Series\",\"Series\",\"Movie\",\"Series\",\"Series\",\"Series\",\"Series\",\"Movie\",\"Series\",\"Series\",\"Series\",\"Movie\",\"Movie\",\"Movie\",\"Series\",\"Movie\",\"Series\",\"Movie\",\"Series\",\"Series\",\"Movie\",\"Series\",\"Movie\",\"Movie\",\"Series\",\"Movie\",\"Movie\",\"Movie\",\"Series\",\"Movie\",\"Movie\",\"Movie\",\"Movie\",\"Movie\",\"Movie\",\"Movie\",\"Series\",\"Series\",\"Movie\",\"Movie\",\"Movie\",\"Movie\",\"Movie\",\"Movie\",\"Movie\",\"Movie\",\"Series\",\"Series\",\"Movie\",\"Series\",\"Movie\",\"Series\",\"Movie\",\"Movie\",\"Movie\",\"Series\",\"Movie\",\"Movie\",\"Series\",\"Series\",\"Series\",\"Series\",\"Movie\",\"Movie\",\"Series\",\"Movie\",\"Series\",\"Movie\",\"Movie\",\"Movie\",\"Movie\",\"Movie\",\"Movie\",\"Movie\",\"Movie\",\"Movie\",\"Movie\",\"Movie\",\"Movie\",\"Movie\",\"Movie\",\"Series\",\"Movie\",\"Movie\",\"Series\",\"Series\",\"Movie\",\"Series\",\"Movie\",\"Movie\",\"Movie\",\"Movie\",\"Movie\",\"Series\",\"Movie\",\"Movie\",\"Movie\",\"Movie\",\"Series\",\"Movie\",\"Series\",\"Series\",\"Movie\",\"Movie\",\"Series\",\"Movie\",\"Movie\",\"Movie\",\"Movie\",\"Series\",\"Series\",\"Movie\",\"Movie\",\"Movie\",\"Series\",\"Movie\",\"Series\",\"Movie\",\"Movie\",\"Movie\",\"Series\",\"Movie\",\"Movie\",\"Movie\",\"Movie\",\"Movie\",\"Movie\",\"Movie\",\"Movie\",\"Movie\",\"Movie\",\"Movie\",\"Movie\",\"Movie\",\"Movie\",\"Movie\",\"Movie\",\"Movie\",\"Movie\",\"Movie\",\"Movie\",\"Movie\",\"Movie\",\"Movie\",\"Series\",\"Series\",\"Movie\",\"Series\",\"Movie\",\"Movie\",\"Movie\",\"Movie\",\"Movie\",\"Movie\",\"Movie\",\"Movie\",\"Series\",\"Movie\",\"Movie\",\"Series\",\"Series\",\"Movie\",\"Movie\",\"Series\",\"Movie\",\"Movie\",\"Series\",\"Series\",\"Movie\",\"Series\",\"Movie\",\"Movie\",\"Series\",\"Movie\",\"Movie\",\"Movie\",\"Movie\",\"Movie\",\"Movie\",\"Movie\",\"Movie\",\"Series\",\"Movie\",\"Movie\",\"Movie\",\"Series\",\"Series\",\"Movie\",\"Movie\",\"Series\",\"Movie\",\"Movie\",\"Movie\",\"Movie\",\"Series\",\"Movie\",\"Movie\",\"Movie\",\"Movie\",\"Movie\",\"Movie\",\"Movie\",\"Movie\",\"Series\",\"Movie\",\"Movie\",\"Movie\",\"Movie\",\"Movie\",\"Movie\",\"Series\",\"Movie\",\"Series\",\"Movie\",\"Movie\",\"Movie\",\"Movie\",\"Movie\",\"Series\",\"Movie\",\"Series\",\"Series\",\"Series\",\"Movie\",\"Series\",\"Series\",\"Series\",\"Series\",\"Series\",\"Movie\",\"Movie\",\"Movie\",\"Series\",\"Movie\",\"Movie\",\"Movie\",\"Movie\",\"Movie\",\"Movie\",\"Movie\",\"Movie\",\"Series\",\"Movie\",\"Series\",\"Movie\",\"Series\",\"Series\",\"Movie\",\"Movie\",\"Series\",\"Movie\",\"Movie\",\"Movie\",\"Series\",\"Movie\",\"Movie\",\"Movie\",\"Movie\",\"Series\",\"Movie\",\"Movie\",\"Series\",\"Movie\",\"Movie\",\"Movie\",\"Movie\",\"Series\",\"Series\",\"Movie\",\"Movie\",\"Movie\",\"Movie\",\"Movie\",\"Movie\",\"Series\",\"Movie\",\"Series\",\"Series\",\"Movie\",\"Movie\",\"Movie\",\"Movie\",\"Movie\",\"Movie\",\"Movie\",\"Movie\",\"Movie\",\"Series\",\"Series\",\"Series\",\"Series\",\"Movie\",\"Movie\",\"Movie\",\"Series\",\"Series\",\"Movie\",\"Series\",\"Series\",\"Movie\",\"Movie\",\"Series\",\"Movie\",\"Movie\",\"Movie\",\"Movie\",\"Movie\",\"Movie\",\"Movie\",\"Movie\",\"Series\",\"Series\",\"Movie\",\"Movie\",\"Series\",\"Movie\",\"Movie\",\"Movie\",\"Movie\",\"Movie\",\"Movie\",\"Movie\",\"Movie\",\"Movie\",\"Movie\",\"Movie\",\"Movie\",\"Movie\",\"Movie\",\"Movie\",\"Movie\",\"Series\",\"Movie\",\"Series\",\"Movie\",\"Series\",\"Series\",\"Movie\",\"Movie\",\"Series\",\"Movie\",\"Series\",\"Movie\",\"Movie\",\"Movie\",\"Movie\",\"Movie\",\"Movie\",\"Movie\",\"Movie\",\"Movie\",\"Series\",\"Movie\",\"Series\",\"Movie\",\"Series\",\"Movie\",\"Series\",\"Movie\",\"Movie\",\"Movie\",\"Movie\",\"Series\",\"Movie\",\"Series\",\"Series\",\"Series\",\"Movie\",\"Series\",\"Movie\",\"Series\",\"Movie\",\"Movie\",\"Series\",\"Series\",\"Movie\",\"Movie\",\"Series\",\"Movie\",\"Movie\",\"Movie\",\"Series\",\"Movie\",\"Series\",\"Series\",\"Movie\",\"Movie\",\"Movie\",\"Movie\",\"Movie\",\"Movie\",\"Movie\",\"Movie\",\"Movie\",\"Series\",\"Movie\",\"Movie\",\"Movie\",\"Movie\",\"Movie\",\"Movie\",\"Series\",\"Movie\",\"Series\",\"Movie\",\"Movie\",\"Series\",\"Movie\",\"Movie\",\"Movie\",\"Movie\",\"Movie\",\"Movie\",\"Movie\",\"Movie\",\"Series\",\"Movie\",\"Movie\",\"Series\",\"Movie\",\"Movie\",\"Movie\",\"Movie\",\"Movie\",\"Movie\",\"Movie\",\"Movie\",\"Movie\",\"Movie\",\"Movie\",\"Series\",\"Movie\",\"Movie\",\"Movie\",\"Movie\",\"Movie\",\"Movie\",\"Movie\",\"Movie\",\"Movie\",\"Movie\",\"Movie\",\"Movie\",\"Movie\",\"Series\",\"Series\",\"Series\",\"Series\",\"Series\",\"Movie\",\"Movie\",\"Movie\",\"Movie\",\"Movie\",\"Movie\",\"Movie\",\"Movie\",\"Movie\",\"Movie\",\"Series\",\"Movie\",\"Movie\",\"Movie\",\"Movie\",\"Movie\",\"Movie\",\"Movie\",\"Movie\",\"Movie\",\"Movie\",\"Movie\",\"Series\",\"Series\",\"Movie\",\"Movie\",\"Movie\",\"Movie\",\"Movie\",\"Movie\",\"Movie\",\"Series\",\"Movie\",\"Movie\",\"Movie\",\"Series\",\"Movie\",\"Movie\",\"Movie\",\"Movie\",\"Movie\",\"Series\",\"Series\",\"Series\",\"Movie\",\"Movie\",\"Movie\",\"Movie\",\"Series\",\"Series\",\"Series\",\"Movie\",\"Movie\",\"Movie\",\"Movie\",\"Movie\",\"Movie\",\"Series\",\"Series\",\"Movie\",\"Movie\",\"Movie\",\"Movie\",\"Movie\",\"Movie\",\"Movie\",\"Movie\",\"Movie\",\"Movie\",\"Movie\",\"Movie\",\"Movie\",\"Movie\",\"Movie\",\"Movie\",\"Series\",\"Movie\",\"Movie\",\"Movie\",\"Movie\",\"Series\",\"Movie\",\"Movie\",\"Movie\",\"Movie\",\"Movie\",\"Movie\",\"Movie\",\"Movie\",\"Movie\",\"Movie\",\"Movie\",\"Movie\",\"Movie\",\"Movie\",\"Series\",\"Series\",\"Series\",\"Series\",\"Series\",\"Series\",\"Series\",\"Series\",\"Movie\",\"Series\",\"Movie\",\"Series\",\"Movie\",\"Movie\",\"Movie\",\"Series\",\"Series\",\"Movie\",\"Movie\",\"Movie\",\"Movie\",\"Movie\",\"Series\",\"Movie\",\"Series\",\"Movie\",\"Movie\",\"Series\",\"Movie\",\"Movie\",\"Movie\",\"Series\",\"Movie\",\"Movie\",\"Movie\",\"Series\",\"Movie\",\"Series\",\"Series\",\"Series\",\"Movie\",\"Series\",\"Series\",\"Movie\",\"Movie\",\"Series\",\"Movie\",\"Series\",\"Movie\",\"Movie\",\"Movie\",\"Movie\",\"Movie\",\"Movie\",\"Movie\",\"Movie\",\"Series\",\"Movie\",\"Movie\",\"Movie\",\"Movie\",\"Series\",\"Movie\",\"Movie\",\"Movie\",\"Movie\",\"Movie\",\"Movie\",\"Movie\",\"Series\",\"Movie\",\"Movie\",\"Series\",\"Movie\",\"Movie\",\"Movie\",\"Movie\",\"Movie\",\"Series\",\"Movie\",\"Series\",\"Movie\",\"Movie\",\"Series\",\"Movie\",\"Movie\",\"Movie\",\"Series\",\"Series\",\"Series\",\"Movie\",\"Series\",\"Movie\",\"Movie\",\"Movie\",\"Movie\",\"Movie\",\"Series\",\"Movie\",\"Movie\",\"Series\",\"Movie\",\"Movie\",\"Series\",\"Series\",\"Series\",\"Series\",\"Movie\",\"Movie\",\"Movie\",\"Movie\",\"Movie\",\"Movie\",\"Movie\",\"Movie\",\"Movie\",\"Movie\",\"Series\",\"Series\",\"Movie\",\"Movie\",\"Movie\",\"Series\",\"Series\",\"Movie\",\"Movie\",\"Series\",\"Series\",\"Movie\",\"Movie\",\"Movie\",\"Movie\",\"Movie\",\"Movie\",\"Movie\",\"Movie\",\"Movie\",\"Movie\",\"Movie\",\"Movie\",\"Movie\",\"Movie\",\"Movie\",\"Movie\",\"Series\",\"Series\",\"Movie\",\"Movie\",\"Movie\",\"Series\",\"Movie\",\"Movie\",\"Movie\",\"Series\",\"Movie\",\"Movie\",\"Movie\",\"Series\",\"Series\",\"Movie\",\"Series\",\"Series\",\"Movie\",\"Movie\",\"Series\",\"Movie\",\"Movie\",\"Movie\",\"Series\",\"Movie\",\"Movie\",\"Movie\",\"Movie\",\"Movie\",\"Movie\",\"Movie\",\"Series\",\"Movie\",\"Series\",\"Series\",\"Series\",\"Movie\",\"Series\",\"Series\",\"Movie\",\"Movie\",\"Movie\",\"Series\",\"Movie\",\"Series\",\"Series\",\"Movie\",\"Movie\",\"Series\",\"Movie\",\"Movie\",\"Movie\",\"Movie\",\"Movie\",\"Movie\",\"Movie\",\"Series\",\"Movie\",\"Movie\",\"Movie\",\"Movie\",\"Movie\",\"Movie\",\"Series\",\"Series\",\"Series\",\"Movie\",\"Movie\",\"Movie\",\"Movie\",\"Movie\",\"Movie\",\"Movie\",\"Movie\",\"Movie\",\"Movie\",\"Movie\",\"Movie\",\"Movie\",\"Series\",\"Movie\",\"Movie\",\"Series\",\"Movie\",\"Movie\",\"Movie\",\"Series\",\"Movie\",\"Movie\",\"Movie\",\"Movie\",\"Movie\",\"Movie\",\"Movie\",\"Movie\",\"Movie\",\"Movie\",\"Movie\",\"Movie\",\"Movie\",\"Series\",\"Series\",\"Movie\",\"Movie\",\"Movie\",\"Movie\",\"Movie\",\"Series\",\"Movie\",\"Movie\",\"Movie\",\"Movie\",\"Movie\",\"Movie\",\"Movie\",\"Movie\",\"Movie\",\"Movie\",\"Series\",\"Series\",\"Movie\",\"Movie\",\"Movie\",\"Movie\",\"Movie\",\"Movie\",\"Movie\",\"Movie\",\"Movie\",\"Movie\",\"Movie\",\"Movie\",\"Movie\",\"Movie\",\"Series\",\"Movie\",\"Movie\",\"Movie\",\"Series\",\"Movie\",\"Series\",\"Movie\",\"Movie\",\"Movie\",\"Movie\",\"Movie\",\"Movie\",\"Movie\",\"Series\",\"Movie\",\"Movie\",\"Movie\",\"Movie\",\"Movie\",\"Movie\",\"Movie\",\"Series\",\"Movie\",\"Movie\",\"Movie\",\"Movie\",\"Movie\",\"Movie\",\"Movie\",\"Movie\",\"Movie\",\"Series\",\"Movie\",\"Series\",\"Series\",\"Movie\",\"Movie\",\"Movie\",\"Movie\",\"Movie\",\"Movie\",\"Movie\",\"Movie\",\"Movie\",\"Movie\",\"Series\",\"Movie\",\"Movie\",\"Movie\",\"Movie\",\"Movie\",\"Movie\",\"Movie\",\"Movie\",\"Movie\",\"Movie\",\"Movie\",\"Movie\",\"Movie\",\"Movie\",\"Movie\",\"Movie\",\"Movie\",\"Movie\",\"Movie\",\"Movie\",\"Movie\",\"Movie\",\"Movie\",\"Movie\",\"Movie\",\"Movie\",\"Movie\",\"Movie\",\"Movie\",\"Series\",\"Movie\",\"Movie\",\"Series\",\"Series\",\"Series\",\"Series\",\"Movie\",\"Movie\",\"Movie\",\"Movie\",\"Movie\",\"Movie\",\"Movie\",\"Movie\",\"Movie\",\"Series\",\"Series\",\"Series\",\"Movie\",\"Movie\",\"Series\",\"Series\",\"Series\",\"Movie\",\"Series\",\"Series\",\"Series\",\"Movie\",\"Movie\",\"Movie\",\"Movie\",\"Movie\",\"Movie\",\"Movie\",\"Movie\",\"Movie\",\"Movie\",\"Series\",\"Movie\",\"Movie\",\"Movie\",\"Movie\",\"Movie\",\"Movie\",\"Movie\",\"Series\",\"Series\",\"Movie\",\"Movie\",\"Movie\",\"Movie\",\"Movie\",\"Movie\",\"Movie\",\"Movie\",\"Movie\",\"Movie\",\"Movie\",\"Movie\",\"Series\",\"Movie\",\"Series\",\"Movie\",\"Series\",\"Series\",\"Movie\",\"Movie\",\"Movie\",\"Movie\",\"Movie\",\"Movie\",\"Movie\",\"Series\",\"Movie\",\"Movie\",\"Series\",\"Series\",\"Series\",\"Series\",\"Movie\",\"Series\",\"Movie\",\"Movie\",\"Movie\",\"Series\",\"Series\",\"Movie\",\"Movie\",\"Series\",\"Movie\",\"Movie\",\"Series\",\"Movie\",\"Movie\",\"Movie\",\"Movie\",\"Movie\",\"Movie\",\"Movie\",\"Series\",\"Movie\",\"Movie\",\"Movie\",\"Series\",\"Movie\",\"Movie\",\"Movie\",\"Series\",\"Movie\",\"Movie\",\"Movie\",\"Movie\",\"Movie\",\"Movie\",\"Movie\",\"Movie\",\"Movie\",\"Movie\",\"Movie\",\"Movie\",\"Movie\",\"Movie\",\"Movie\",\"Movie\",\"Movie\",\"Movie\",\"Movie\",\"Movie\",\"Series\",\"Movie\",\"Movie\",\"Movie\",\"Movie\",\"Series\",\"Series\",\"Series\",\"Movie\",\"Series\",\"Series\",\"Movie\",\"Series\",\"Movie\",\"Movie\",\"Movie\",\"Movie\",\"Series\",\"Movie\",\"Movie\",\"Movie\",\"Movie\",\"Movie\",\"Movie\",\"Movie\",\"Movie\",\"Movie\",\"Series\",\"Movie\",\"Movie\",\"Movie\",\"Movie\",\"Movie\",\"Movie\",\"Movie\",\"Series\",\"Movie\",\"Series\",\"Series\",\"Series\",\"Movie\",\"Movie\",\"Movie\",\"Series\",\"Movie\",\"Movie\",\"Movie\",\"Series\",\"Movie\",\"Movie\",\"Series\",\"Series\",\"Movie\",\"Movie\",\"Movie\",\"Movie\",\"Movie\",\"Series\",\"Movie\",\"Movie\",\"Series\",\"Series\",\"Series\",\"Series\",\"Movie\",\"Series\",\"Series\",\"Movie\",\"Movie\",\"Series\",\"Movie\",\"Series\",\"Movie\",\"Series\",\"Movie\",\"Series\",\"Movie\",\"Movie\",\"Movie\",\"Movie\",\"Movie\",\"Movie\",\"Movie\",\"Movie\",\"Movie\",\"Movie\",\"Movie\",\"Series\",\"Series\",\"Movie\",\"Series\",\"Series\",\"Movie\",\"Movie\",\"Movie\",\"Movie\",\"Movie\",\"Movie\",\"Movie\",\"Movie\",\"Movie\",\"Movie\",\"Series\",\"Movie\",\"Series\",\"Movie\",\"Movie\",\"Movie\",\"Movie\",\"Movie\",\"Movie\",\"Movie\",\"Movie\",\"Series\",\"Movie\",\"Movie\",\"Series\",\"Movie\",\"Series\",\"Movie\",\"Series\",\"Series\",\"Series\",\"Movie\",\"Movie\",\"Movie\",\"Movie\",\"Series\",\"Movie\",\"Movie\",\"Movie\",\"Movie\",\"Movie\",\"Movie\",\"Movie\",\"Movie\",\"Series\",\"Movie\",\"Movie\",\"Movie\",\"Movie\",\"Series\",\"Series\",\"Movie\",\"Movie\",\"Movie\",\"Movie\",\"Movie\",\"Movie\",\"Series\",\"Movie\",\"Series\",\"Movie\",\"Movie\",\"Movie\",\"Movie\",\"Movie\",\"Movie\",\"Movie\",\"Movie\",\"Series\",\"Movie\",\"Movie\",\"Series\",\"Movie\",\"Movie\",\"Movie\",\"Movie\",\"Series\",\"Movie\",\"Movie\",\"Movie\",\"Series\",\"Series\",\"Series\",\"Series\",\"Movie\",\"Movie\",\"Movie\",\"Movie\",\"Movie\",\"Movie\",\"Movie\",\"Movie\",\"Movie\",\"Movie\",\"Movie\",\"Movie\",\"Movie\",\"Movie\",\"Movie\",\"Series\",\"Movie\",\"Movie\",\"Movie\",\"Movie\",\"Movie\",\"Series\",\"Movie\",\"Series\",\"Movie\",\"Movie\",\"Movie\",\"Movie\",\"Movie\",\"Movie\",\"Movie\",\"Series\",\"Series\",\"Series\",\"Movie\",\"Series\",\"Movie\",\"Movie\",\"Movie\",\"Movie\",\"Movie\",\"Movie\",\"Movie\",\"Movie\",\"Movie\",\"Movie\",\"Series\",\"Series\",\"Movie\",\"Movie\",\"Movie\",\"Movie\",\"Movie\",\"Movie\",\"Movie\",\"Movie\",\"Movie\",\"Movie\",\"Movie\",\"Movie\",\"Movie\",\"Movie\",\"Movie\",\"Movie\",\"Series\",\"Movie\",\"Movie\",\"Series\",\"Series\",\"Movie\",\"Movie\",\"Movie\",\"Series\",\"Movie\",\"Movie\",\"Movie\",\"Movie\",\"Series\",\"Movie\",\"Movie\",\"Movie\",\"Movie\",\"Movie\",\"Movie\",\"Movie\",\"Movie\",\"Movie\",\"Movie\",\"Movie\",\"Movie\",\"Series\",\"Movie\",\"Movie\",\"Movie\",\"Movie\",\"Series\",\"Movie\",\"Movie\",\"Movie\",\"Movie\",\"Movie\",\"Series\",\"Movie\",\"Movie\",\"Movie\",\"Movie\",\"Movie\",\"Movie\",\"Movie\",\"Movie\",\"Series\",\"Series\",\"Movie\",\"Movie\",\"Movie\",\"Movie\",\"Movie\",\"Movie\",\"Movie\",\"Movie\",\"Movie\",\"Movie\",\"Movie\",\"Series\",\"Movie\",\"Movie\",\"Movie\",\"Movie\",\"Movie\",\"Series\",\"Series\",\"Series\",\"Movie\",\"Movie\",\"Series\",\"Movie\",\"Movie\",\"Movie\",\"Movie\",\"Movie\",\"Movie\",\"Movie\",\"Series\",\"Movie\",\"Movie\",\"Movie\",\"Movie\",\"Movie\",\"Series\",\"Movie\",\"Movie\",\"Series\",\"Movie\",\"Movie\",\"Movie\",\"Series\",\"Series\",\"Movie\",\"Movie\",\"Movie\",\"Series\",\"Movie\",\"Movie\",\"Movie\",\"Movie\",\"Series\",\"Series\",\"Movie\",\"Movie\",\"Movie\",\"Movie\",\"Movie\",\"Movie\",\"Series\",\"Movie\",\"Movie\",\"Series\",\"Series\",\"Movie\",\"Movie\",\"Series\",\"Movie\",\"Movie\",\"Movie\",\"Movie\",\"Movie\",\"Series\",\"Series\",\"Series\",\"Movie\",\"Movie\",\"Movie\",\"Series\",\"Series\",\"Series\",\"Series\",\"Series\",\"Movie\",\"Movie\",\"Movie\",\"Movie\",\"Series\",\"Movie\",\"Movie\",\"Series\",\"Series\",\"Movie\",\"Series\",\"Movie\",\"Movie\",\"Series\",\"Movie\",\"Movie\",\"Series\",\"Series\",\"Series\",\"Movie\",\"Series\",\"Series\",\"Series\",\"Series\",\"Series\",\"Series\",\"Series\",\"Movie\",\"Series\",\"Movie\",\"Movie\",\"Series\",\"Series\",\"Movie\",\"Movie\",\"Series\",\"Movie\",\"Series\",\"Series\",\"Series\",\"Series\",\"Movie\",\"Series\",\"Movie\",\"Movie\",\"Movie\",\"Movie\",\"Movie\",\"Movie\",\"Movie\",\"Movie\",\"Movie\",\"Movie\",\"Movie\",\"Movie\",\"Series\",\"Movie\",\"Movie\",\"Movie\",\"Movie\",\"Movie\",\"Movie\",\"Series\",\"Series\",\"Series\",\"Movie\",\"Movie\",\"Series\",\"Series\",\"Series\",\"Movie\",\"Movie\",\"Series\",\"Movie\",\"Movie\",\"Movie\",\"Movie\",\"Movie\",\"Movie\",\"Movie\",\"Movie\",\"Movie\",\"Movie\",\"Movie\",\"Movie\",\"Movie\",\"Movie\",\"Movie\",\"Movie\",\"Series\",\"Series\",\"Movie\",\"Movie\",\"Movie\",\"Movie\",\"Movie\",\"Movie\",\"Series\",\"Movie\",\"Movie\",\"Movie\",\"Movie\",\"Movie\",\"Movie\",\"Movie\",\"Movie\",\"Series\",\"Series\",\"Movie\",\"Movie\",\"Series\",\"Movie\",\"Movie\",\"Movie\",\"Movie\",\"Movie\",\"Movie\",\"Series\",\"Movie\",\"Movie\",\"Series\",\"Movie\",\"Movie\",\"Movie\",\"Movie\",\"Series\",\"Movie\",\"Series\",\"Series\",\"Movie\",\"Series\",\"Movie\",\"Series\",\"Series\",\"Series\",\"Series\",\"Movie\",\"Movie\",\"Series\",\"Movie\",\"Series\",\"Movie\",\"Movie\",\"Movie\",\"Movie\",\"Series\",\"Movie\",\"Movie\",\"Series\",\"Movie\",\"Movie\",\"Movie\",\"Movie\",\"Series\",\"Movie\",\"Movie\",\"Movie\",\"Movie\",\"Movie\",\"Series\",\"Movie\",\"Movie\",\"Movie\",\"Movie\",\"Series\",\"Movie\",\"Movie\",\"Movie\",\"Series\",\"Movie\",\"Movie\",\"Movie\",\"Movie\",\"Series\",\"Movie\",\"Movie\",\"Movie\",\"Movie\",\"Series\",\"Movie\",\"Movie\",\"Movie\",\"Movie\",\"Movie\",\"Movie\",\"Movie\",\"Movie\",\"Movie\",\"Movie\",\"Movie\",\"Movie\",\"Movie\",\"Movie\",\"Movie\",\"Series\",\"Series\",\"Movie\",\"Movie\",\"Movie\",\"Movie\",\"Movie\",\"Movie\",\"Movie\",\"Series\",\"Movie\",\"Movie\",\"Movie\",\"Movie\",\"Movie\",\"Series\",\"Series\",\"Movie\",\"Movie\",\"Movie\",\"Movie\",\"Movie\",\"Movie\",\"Movie\",\"Movie\",\"Movie\",\"Movie\",\"Movie\",\"Movie\",\"Movie\",\"Movie\",\"Movie\",\"Movie\",\"Movie\",\"Movie\",\"Movie\",\"Movie\",\"Series\",\"Movie\",\"Movie\",\"Series\",\"Movie\",\"Movie\",\"Movie\",\"Movie\",\"Movie\",\"Movie\",\"Movie\",\"Movie\",\"Movie\",\"Series\",\"Movie\",\"Movie\",\"Series\",\"Series\",\"Series\",\"Movie\",\"Series\",\"Movie\",\"Series\",\"Movie\",\"Movie\",\"Series\",\"Movie\",\"Series\",\"Movie\",\"Movie\",\"Movie\",\"Movie\",\"Movie\",\"Movie\",\"Movie\",\"Movie\",\"Series\",\"Movie\",\"Movie\",\"Movie\",\"Movie\",\"Series\",\"Series\",\"Movie\",\"Movie\",\"Movie\",\"Series\",\"Movie\",\"Series\",\"Movie\",\"Movie\",\"Movie\",\"Movie\",\"Movie\",\"Movie\",\"Movie\",\"Movie\",\"Movie\",\"Series\",\"Series\",\"Movie\",\"Series\",\"Movie\",\"Movie\",\"Movie\",\"Movie\",\"Movie\",\"Movie\",\"Movie\",\"Movie\",\"Movie\",\"Movie\",\"Movie\",\"Movie\",\"Movie\",\"Movie\",\"Movie\",\"Movie\",\"Movie\",\"Series\",\"Movie\",\"Movie\",\"Movie\",\"Movie\",\"Movie\",\"Movie\",\"Movie\",\"Series\",\"Movie\",\"Movie\",\"Movie\",\"Series\",\"Series\",\"Movie\",\"Movie\",\"Series\",\"Movie\",\"Movie\",\"Movie\",\"Series\",\"Series\",\"Movie\",\"Movie\",\"Movie\",\"Movie\",\"Series\",\"Movie\",\"Movie\",\"Movie\",\"Movie\",\"Movie\",\"Movie\",\"Movie\",\"Movie\",\"Movie\",\"Movie\",\"Movie\",\"Movie\",\"Movie\",\"Movie\",\"Movie\",\"Movie\",\"Movie\",\"Movie\",\"Movie\",\"Series\",\"Series\",\"Movie\",\"Series\",\"Movie\",\"Movie\",\"Movie\",\"Movie\",\"Movie\",\"Movie\",\"Movie\",\"Movie\",\"Movie\",\"Movie\",\"Movie\",\"Movie\",\"Movie\",\"Movie\",\"Series\",\"Movie\",\"Movie\",\"Movie\",\"Movie\",\"Movie\",\"Series\",\"Movie\",\"Movie\",\"Movie\",\"Movie\",\"Movie\",\"Movie\",\"Movie\",\"Movie\",\"Movie\",\"Movie\",\"Movie\",\"Series\",\"Movie\",\"Series\",\"Movie\",\"Series\",\"Movie\",\"Series\",\"Series\",\"Series\",\"Series\",\"Series\",\"Movie\",\"Series\",\"Series\",\"Series\",\"Movie\",\"Movie\",\"Movie\",\"Movie\",\"Series\",\"Movie\",\"Movie\",\"Movie\",\"Movie\",\"Series\",\"Movie\",\"Series\",\"Movie\",\"Movie\",\"Movie\",\"Movie\",\"Movie\",\"Movie\",\"Series\",\"Movie\",\"Series\",\"Series\",\"Series\",\"Movie\",\"Movie\",\"Movie\",\"Movie\",\"Movie\",\"Movie\",\"Movie\",\"Series\",\"Movie\",\"Movie\",\"Series\",\"Movie\",\"Movie\",\"Series\",\"Movie\",\"Movie\",\"Series\",\"Movie\",\"Series\",\"Series\",\"Movie\",\"Movie\",\"Movie\",\"Movie\",\"Series\",\"Series\",\"Series\",\"Movie\",\"Movie\",\"Movie\",\"Series\",\"Series\",\"Series\",\"Movie\",\"Movie\",\"Movie\",\"Movie\",\"Movie\",\"Movie\",\"Movie\",\"Movie\",\"Movie\",\"Movie\",\"Movie\",\"Series\",\"Movie\",\"Movie\",\"Series\",\"Series\",\"Movie\",\"Movie\",\"Movie\",\"Movie\",\"Movie\",\"Movie\",\"Movie\",\"Movie\",\"Movie\",\"Movie\",\"Movie\",\"Movie\",\"Movie\",\"Movie\",\"Movie\",\"Movie\",\"Series\",\"Movie\",\"Movie\",\"Series\",\"Movie\",\"Series\",\"Movie\",\"Movie\",\"Movie\",\"Movie\",\"Movie\",\"Movie\",\"Series\",\"Movie\",\"Movie\",\"Movie\",\"Movie\",\"Movie\",\"Movie\",\"Movie\",\"Movie\",\"Movie\",\"Movie\",\"Movie\",\"Movie\",\"Movie\",\"Movie\",\"Movie\",\"Series\",\"Movie\",\"Movie\",\"Movie\",\"Movie\",\"Movie\",\"Movie\",\"Series\",\"Movie\",\"Series\",\"Movie\",\"Movie\",\"Movie\",\"Movie\",\"Movie\",\"Movie\",\"Series\",\"Series\",\"Movie\",\"Series\",\"Series\",\"Series\",\"Movie\",\"Series\",\"Series\",\"Movie\",\"Movie\",\"Movie\",\"Series\",\"Series\",\"Movie\",\"Movie\",\"Movie\",\"Series\",\"Movie\",\"Movie\",\"Movie\",\"Series\",\"Movie\",\"Movie\",\"Movie\",\"Movie\",\"Movie\",\"Movie\",\"Movie\",\"Movie\",\"Series\",\"Series\",\"Movie\",\"Movie\",\"Movie\",\"Movie\",\"Movie\",\"Movie\",\"Series\",\"Movie\",\"Movie\",\"Movie\",\"Movie\",\"Movie\",\"Movie\",\"Movie\",\"Movie\",\"Series\",\"Series\",\"Series\",\"Series\",\"Movie\",\"Movie\",\"Movie\",\"Series\",\"Movie\",\"Movie\",\"Movie\",\"Movie\",\"Movie\",\"Movie\",\"Movie\",\"Movie\",\"Movie\",\"Series\",\"Movie\",\"Movie\",\"Movie\",\"Movie\",\"Movie\",\"Movie\",\"Movie\",\"Movie\",\"Movie\",\"Movie\",\"Series\",\"Movie\",\"Movie\",\"Movie\",\"Series\",\"Movie\",\"Movie\",\"Movie\",\"Movie\",\"Movie\",\"Movie\",\"Movie\",\"Movie\",\"Movie\",\"Movie\",\"Series\",\"Series\",\"Movie\",\"Series\",\"Series\",\"Movie\",\"Series\",\"Series\",\"Series\",\"Series\",\"Movie\",\"Series\",\"Movie\",\"Series\",\"Series\",\"Movie\",\"Movie\",\"Movie\",\"Movie\",\"Movie\",\"Movie\",\"Movie\",\"Movie\",\"Series\",\"Series\",\"Series\",\"Movie\",\"Movie\",\"Movie\",\"Movie\",\"Series\",\"Series\",\"Movie\",\"Movie\",\"Movie\",\"Series\",\"Movie\",\"Series\",\"Movie\",\"Series\",\"Movie\",\"Movie\",\"Movie\",\"Movie\",\"Movie\",\"Movie\",\"Movie\",\"Movie\",\"Movie\",\"Movie\",\"Series\",\"Movie\",\"Series\",\"Movie\",\"Movie\",\"Movie\",\"Movie\",\"Movie\",\"Series\",\"Movie\",\"Series\",\"Movie\",\"Series\",\"Series\",\"Series\",\"Series\",\"Series\",\"Movie\",\"Movie\",\"Movie\",\"Movie\",\"Series\",\"Movie\",\"Movie\",\"Movie\",\"Movie\",\"Movie\",\"Movie\",\"Movie\",\"Movie\",\"Movie\",\"Series\",\"Movie\",\"Movie\",\"Movie\",\"Movie\",\"Movie\",\"Series\",\"Movie\",\"Movie\",\"Movie\",\"Movie\",\"Movie\",\"Movie\",\"Series\",\"Movie\",\"Movie\",\"Movie\",\"Movie\",\"Movie\",\"Movie\",\"Movie\",\"Movie\",\"Movie\",\"Series\",\"Movie\",\"Series\",\"Movie\",\"Movie\",\"Movie\",\"Movie\",\"Movie\",\"Movie\",\"Movie\",\"Movie\",\"Series\",\"Movie\",\"Movie\",\"Movie\",\"Movie\",\"Movie\",\"Movie\",\"Movie\",\"Movie\",\"Series\",\"Movie\",\"Movie\",\"Movie\",\"Movie\",\"Movie\",\"Movie\",\"Movie\",\"Movie\",\"Series\",\"Movie\",\"Movie\",\"Movie\",\"Movie\",\"Movie\",\"Movie\",\"Series\",\"Movie\",\"Movie\",\"Movie\",\"Series\",\"Movie\",\"Series\",\"Movie\",\"Movie\",\"Movie\",\"Movie\",\"Movie\",\"Movie\",\"Series\",\"Series\",\"Series\",\"Movie\",\"Movie\",\"Movie\",\"Movie\",\"Movie\",\"Movie\",\"Movie\",\"Movie\",\"Movie\",\"Movie\",\"Series\",\"Movie\",\"Series\",\"Movie\",\"Movie\",\"Movie\",\"Movie\",\"Movie\",\"Movie\",\"Movie\",\"Series\",\"Movie\",\"Movie\",\"Movie\",\"Movie\",\"Movie\",\"Movie\",\"Series\",\"Movie\",\"Movie\",\"Movie\",\"Movie\",\"Movie\",\"Movie\",\"Movie\",\"Series\",\"Movie\",\"Series\",\"Series\",\"Movie\",\"Movie\",\"Series\",\"Movie\",\"Movie\",\"Series\",\"Movie\",\"Movie\",\"Movie\",\"Movie\",\"Movie\",\"Movie\",\"Series\",\"Movie\",\"Movie\",\"Movie\",\"Series\",\"Movie\",\"Movie\",\"Series\",\"Movie\",\"Movie\",\"Movie\",\"Series\",\"Movie\",\"Movie\",\"Movie\",\"Movie\",\"Series\",\"Movie\",\"Movie\",\"Movie\",\"Series\",\"Movie\",\"Movie\",\"Movie\",\"Movie\",\"Series\",\"Movie\",\"Movie\",\"Movie\",\"Movie\",\"Movie\",\"Movie\",\"Series\",\"Movie\",\"Movie\",\"Movie\",\"Movie\",\"Movie\",\"Movie\",\"Movie\",\"Movie\",\"Movie\",\"Movie\",\"Movie\",\"Movie\",\"Movie\",\"Movie\",\"Movie\",\"Series\",\"Series\",\"Movie\",\"Series\",\"Series\",\"Series\",\"Series\",\"Series\",\"Movie\",\"Movie\",\"Movie\",\"Movie\",\"Movie\",\"Movie\",\"Movie\",\"Movie\",\"Series\",\"Series\",\"Movie\",\"Movie\",\"Movie\",\"Movie\",\"Movie\",\"Movie\",\"Series\",\"Movie\",\"Movie\",\"Movie\",\"Movie\",\"Movie\",\"Series\",\"Series\",\"Movie\",\"Movie\",\"Series\",\"Series\",\"Movie\",\"Series\",\"Series\",\"Movie\",\"Movie\",\"Movie\",\"Series\",\"Movie\",\"Series\",\"Movie\",\"Series\",\"Movie\",\"Series\",\"Movie\",\"Movie\",\"Movie\",\"Series\",\"Movie\",\"Movie\",\"Series\",\"Series\",\"Movie\",\"Movie\",\"Movie\",\"Movie\",\"Movie\",\"Movie\",\"Movie\",\"Movie\",\"Movie\",\"Movie\",\"Movie\",\"Movie\",\"Series\",\"Movie\",\"Movie\",\"Movie\",\"Movie\",\"Movie\",\"Movie\",\"Movie\",\"Movie\",\"Movie\",\"Movie\",\"Movie\",\"Movie\",\"Movie\",\"Movie\",\"Movie\",\"Movie\",\"Movie\",\"Movie\",\"Movie\",\"Movie\",\"Series\",\"Series\",\"Series\",\"Movie\",\"Movie\",\"Movie\",\"Movie\",\"Series\",\"Series\",\"Series\",\"Movie\",\"Movie\",\"Movie\",\"Movie\",\"Movie\",\"Movie\",\"Series\",\"Movie\",\"Movie\",\"Movie\",\"Movie\",\"Movie\",\"Movie\",\"Movie\",\"Movie\",\"Movie\",\"Series\",\"Movie\",\"Movie\",\"Series\",\"Series\",\"Series\",\"Movie\",\"Movie\",\"Movie\",\"Movie\",\"Movie\",\"Series\",\"Movie\",\"Movie\",\"Movie\",\"Movie\",\"Movie\",\"Movie\",\"Series\",\"Movie\",\"Movie\",\"Series\",\"Movie\",\"Movie\",\"Movie\",\"Series\",\"Movie\",\"Movie\",\"Movie\",\"Movie\",\"Series\",\"Series\",\"Movie\",\"Movie\",\"Movie\",\"Series\",\"Movie\",\"Movie\",\"Movie\",\"Movie\",\"Series\",\"Movie\",\"Movie\",\"Movie\",\"Movie\",\"Movie\",\"Movie\",\"Movie\",\"Movie\",\"Movie\",\"Movie\",\"Movie\",\"Movie\",\"Series\",\"Movie\",\"Movie\",\"Movie\",\"Movie\",\"Movie\",\"Movie\",\"Series\",\"Movie\",\"Movie\",\"Series\",\"Movie\",\"Movie\",\"Movie\",\"Movie\",\"Movie\",\"Movie\",\"Movie\",\"Movie\",\"Movie\",\"Movie\",\"Movie\",\"Series\",\"Series\",\"Series\",\"Series\",\"Movie\",\"Movie\",\"Movie\",\"Series\",\"Movie\",\"Movie\",\"Series\",\"Movie\",\"Movie\",\"Movie\",\"Series\",\"Movie\",\"Movie\",\"Movie\",\"Movie\",\"Movie\",\"Movie\",\"Movie\",\"Movie\",\"Movie\",\"Movie\",\"Movie\",\"Movie\",\"Movie\",\"Movie\",\"Series\",\"Movie\",\"Movie\",\"Movie\",\"Movie\",\"Movie\",\"Movie\",\"Movie\",\"Movie\",\"Movie\",\"Movie\",\"Movie\",\"Movie\",\"Movie\",\"Movie\",\"Movie\",\"Movie\",\"Movie\",\"Movie\",\"Movie\",\"Movie\",\"Series\",\"Movie\",\"Movie\",\"Series\",\"Movie\",\"Movie\",\"Movie\",\"Series\",\"Series\",\"Movie\",\"Movie\",\"Movie\",\"Movie\",\"Movie\",\"Movie\",\"Movie\",\"Series\",\"Movie\",\"Movie\",\"Movie\",\"Movie\",\"Movie\",\"Movie\",\"Movie\",\"Movie\",\"Movie\",\"Movie\",\"Movie\",\"Series\",\"Series\",\"Movie\",\"Movie\",\"Movie\",\"Movie\",\"Movie\",\"Movie\",\"Series\",\"Series\",\"Movie\",\"Movie\",\"Series\",\"Movie\",\"Movie\",\"Movie\",\"Movie\",\"Movie\",\"Movie\",\"Movie\",\"Movie\",\"Movie\",\"Movie\",\"Movie\",\"Movie\",\"Series\",\"Movie\",\"Movie\",\"Movie\",\"Movie\",\"Series\",\"Movie\",\"Movie\",\"Movie\",\"Movie\",\"Movie\",\"Movie\",\"Series\",\"Series\",\"Movie\",\"Movie\",\"Movie\",\"Movie\",\"Movie\",\"Movie\",\"Movie\",\"Movie\",\"Movie\",\"Series\",\"Movie\",\"Movie\",\"Series\",\"Movie\",\"Movie\",\"Movie\",\"Series\",\"Movie\",\"Movie\",\"Movie\",\"Movie\",\"Movie\",\"Movie\",\"Movie\",\"Movie\",\"Movie\",\"Movie\",\"Movie\",\"Movie\",\"Movie\",\"Movie\",\"Movie\",\"Movie\",\"Movie\",\"Movie\",\"Movie\",\"Movie\",\"Movie\",\"Movie\",\"Movie\",\"Series\",\"Movie\",\"Movie\",\"Movie\",\"Movie\",\"Movie\",\"Movie\",\"Movie\",\"Series\",\"Movie\",\"Series\",\"Movie\",\"Movie\",\"Series\",\"Movie\",\"Movie\",\"Movie\",\"Series\",\"Movie\",\"Movie\",\"Movie\",\"Movie\",\"Movie\",\"Movie\",\"Movie\",\"Movie\",\"Movie\",\"Movie\",\"Movie\",\"Movie\",\"Series\",\"Movie\",\"Movie\",\"Movie\",\"Movie\",\"Movie\",\"Movie\",\"Series\",\"Movie\",\"Movie\",\"Movie\",\"Series\",\"Series\",\"Movie\",\"Movie\",\"Movie\",\"Movie\",\"Movie\",\"Series\",\"Movie\",\"Movie\",\"Series\",\"Series\",\"Movie\",\"Series\",\"Series\",\"Movie\",\"Movie\",\"Movie\",\"Movie\",\"Movie\",\"Movie\",\"Movie\",\"Movie\",\"Series\",\"Movie\",\"Movie\",\"Series\",\"Movie\",\"Movie\",\"Movie\",\"Series\",\"Movie\",\"Series\",\"Series\",\"Series\",\"Movie\",\"Movie\",\"Movie\",\"Movie\",\"Movie\",\"Movie\",\"Movie\",\"Movie\",\"Movie\",\"Movie\",\"Movie\",\"Movie\",\"Movie\",\"Movie\",\"Movie\",\"Movie\",\"Movie\",\"Movie\",\"Movie\",\"Movie\",\"Movie\",\"Movie\",\"Movie\",\"Movie\",\"Movie\",\"Movie\",\"Movie\",\"Series\",\"Movie\",\"Movie\",\"Movie\",\"Movie\",\"Movie\",\"Movie\",\"Movie\",\"Movie\",\"Movie\",\"Movie\",\"Movie\",\"Movie\",\"Movie\",\"Movie\",\"Movie\",\"Movie\",\"Series\",\"Series\",\"Movie\",\"Movie\",\"Movie\",\"Movie\",\"Movie\",\"Movie\",\"Movie\",\"Movie\",\"Movie\",\"Movie\",\"Movie\",\"Movie\",\"Movie\",\"Movie\",\"Movie\",\"Movie\",\"Movie\",\"Movie\",\"Series\",\"Movie\",\"Series\",\"Movie\",\"Movie\",\"Movie\",\"Movie\",\"Series\",\"Movie\",\"Movie\",\"Movie\",\"Movie\",\"Movie\",\"Movie\",\"Movie\",\"Movie\",\"Movie\",\"Movie\",\"Movie\",\"Movie\",\"Movie\",\"Movie\",\"Movie\",\"Movie\",\"Movie\",\"Movie\",\"Movie\",\"Movie\",\"Movie\",\"Movie\",\"Movie\",\"Movie\",\"Movie\",\"Movie\",\"Movie\",\"Movie\",\"Movie\",\"Movie\",\"Movie\",\"Movie\",\"Movie\",\"Movie\",\"Movie\",\"Movie\",\"Movie\",\"Movie\",\"Movie\",\"Series\",\"Movie\",\"Series\",\"Movie\",\"Movie\",\"Movie\",\"Movie\",\"Movie\",\"Movie\",\"Movie\",\"Movie\",\"Movie\",\"Series\",\"Series\",\"Series\",\"Movie\",\"Movie\",\"Movie\",\"Movie\",\"Movie\",\"Movie\",\"Movie\",\"Series\",\"Movie\",\"Movie\",\"Movie\",\"Movie\",\"Series\",\"Movie\",\"Movie\",\"Movie\",\"Movie\",\"Movie\",\"Movie\",\"Movie\",\"Movie\",\"Series\",\"Movie\",\"Movie\",\"Series\",\"Movie\",\"Movie\",\"Movie\",\"Movie\",\"Movie\",\"Movie\",\"Movie\",\"Movie\",\"Movie\",\"Movie\",\"Movie\",\"Movie\",\"Movie\",\"Movie\",\"Movie\",\"Movie\",\"Movie\",\"Series\",\"Movie\",\"Movie\",\"Movie\",\"Movie\",\"Movie\",\"Movie\",\"Movie\",\"Movie\",\"Movie\",\"Movie\",\"Movie\",\"Series\",\"Movie\",\"Movie\",\"Series\",\"Movie\",\"Movie\",\"Movie\",\"Movie\",\"Movie\",\"Movie\",\"Series\",\"Movie\",\"Movie\",\"Movie\",\"Movie\",\"Movie\",\"Movie\",\"Movie\",\"Movie\",\"Series\",\"Series\",\"Movie\",\"Movie\",\"Movie\",\"Movie\",\"Movie\",\"Movie\",\"Movie\",\"Movie\",\"Movie\",\"Series\",\"Movie\",\"Movie\",\"Movie\",\"Movie\",\"Movie\",\"Series\",\"Movie\",\"Movie\",\"Movie\",\"Movie\",\"Movie\",\"Movie\",\"Movie\",\"Movie\",\"Movie\",\"Movie\",\"Movie\",\"Movie\",\"Series\",\"Movie\",\"Movie\",\"Movie\",\"Movie\",\"Movie\",\"Movie\",\"Movie\",\"Movie\",\"Movie\",\"Movie\",\"Series\",\"Movie\",\"Movie\",\"Movie\",\"Movie\",\"Movie\",\"Series\",\"Movie\",\"Movie\",\"Movie\",\"Movie\",\"Series\",\"Movie\",\"Movie\",\"Series\",\"Movie\",\"Series\",\"Movie\",\"Series\",\"Movie\",\"Series\",\"Movie\",\"Movie\",\"Movie\",\"Movie\",\"Movie\",\"Movie\",\"Movie\",\"Movie\",\"Movie\",\"Series\",\"Movie\",\"Movie\",\"Movie\",\"Movie\",\"Movie\",\"Series\",\"Movie\",\"Series\",\"Movie\",\"Movie\",\"Movie\",\"Movie\",\"Movie\",\"Movie\",\"Movie\",\"Movie\",\"Series\",\"Movie\",\"Series\",\"Movie\",\"Series\",\"Movie\",\"Series\",\"Movie\",\"Movie\",\"Series\",\"Movie\",\"Series\",\"Movie\",\"Movie\",\"Movie\",\"Series\",\"Series\",\"Movie\",\"Movie\",\"Movie\",\"Movie\",\"Movie\",\"Movie\",\"Movie\",\"Movie\",\"Movie\",\"Movie\",\"Movie\",\"Movie\",\"Movie\",\"Movie\",\"Movie\",\"Movie\",\"Movie\",\"Movie\",\"Movie\",\"Movie\",\"Movie\",\"Movie\",\"Movie\",\"Movie\",\"Movie\",\"Movie\",\"Movie\",\"Movie\",\"Movie\",\"Movie\",\"Movie\",\"Movie\",\"Movie\",\"Movie\",\"Series\",\"Movie\",\"Movie\",\"Movie\",\"Movie\",\"Movie\",\"Movie\",\"Movie\",\"Movie\",\"Movie\",\"Movie\",\"Movie\",\"Movie\",\"Movie\",\"Movie\",\"Movie\",\"Series\",\"Movie\",\"Movie\",\"Movie\",\"Movie\",\"Movie\",\"Movie\",\"Series\",\"Movie\",\"Movie\",\"Movie\",\"Movie\",\"Movie\",\"Movie\",\"Series\",\"Series\",\"Movie\",\"Movie\",\"Movie\",\"Series\",\"Movie\",\"Movie\",\"Movie\",\"Movie\",\"Movie\",\"Movie\",\"Movie\",\"Series\",\"Series\",\"Movie\",\"Movie\",\"Movie\",\"Movie\",\"Movie\",\"Movie\",\"Movie\",\"Movie\",\"Movie\",\"Series\",\"Movie\",\"Movie\",\"Movie\",\"Movie\",\"Movie\",\"Series\",\"Movie\",\"Movie\",\"Series\",\"Movie\",\"Movie\",\"Movie\",\"Series\",\"Movie\",\"Series\",\"Movie\",\"Movie\",\"Movie\",\"Series\",\"Movie\",\"Series\",\"Movie\",\"Series\",\"Series\",\"Movie\",\"Movie\",\"Movie\",\"Movie\",\"Movie\",\"Series\",\"Movie\",\"Movie\",\"Movie\",\"Movie\",\"Movie\",\"Movie\",\"Movie\",\"Movie\",\"Series\",\"Series\",\"Movie\",\"Movie\",\"Movie\",\"Movie\",\"Movie\",\"Movie\",\"Movie\",\"Movie\",\"Movie\",\"Movie\",\"Movie\",\"Movie\",\"Movie\",\"Movie\",\"Movie\",\"Movie\",\"Movie\",\"Movie\",\"Movie\",\"Movie\",\"Movie\",\"Movie\",\"Movie\",\"Series\",\"Movie\",\"Movie\",\"Movie\",\"Series\",\"Movie\",\"Movie\",\"Series\",\"Movie\",\"Movie\",\"Movie\",\"Movie\",\"Movie\",\"Movie\",\"Movie\",\"Movie\",\"Movie\",\"Series\",\"Series\",\"Movie\",\"Movie\",\"Series\",\"Movie\",\"Movie\",\"Movie\",\"Series\",\"Movie\",\"Movie\",\"Movie\",\"Movie\",\"Movie\",\"Movie\",\"Movie\",\"Movie\",\"Movie\",\"Movie\",\"Movie\",\"Movie\",\"Movie\",\"Movie\",\"Movie\",\"Series\",\"Series\",\"Movie\",\"Movie\",\"Movie\",\"Series\",\"Series\",\"Series\",\"Movie\",\"Series\",\"Movie\",\"Movie\",\"Movie\",\"Movie\",\"Series\",\"Series\",\"Series\",\"Series\",\"Movie\",\"Movie\",\"Movie\",\"Movie\",\"Movie\",\"Movie\",\"Series\",\"Movie\",\"Movie\",\"Movie\",\"Movie\",\"Movie\",\"Movie\",\"Series\",\"Movie\",\"Movie\",\"Movie\",\"Movie\",\"Movie\",\"Movie\",\"Movie\",\"Movie\",\"Movie\",\"Movie\",\"Movie\",\"Movie\",\"Movie\",\"Movie\",\"Movie\",\"Movie\",\"Movie\",\"Movie\",\"Series\",\"Movie\",\"Movie\",\"Movie\",\"Series\",\"Movie\",\"Movie\",\"Movie\",\"Movie\",\"Movie\",\"Movie\",\"Movie\",\"Movie\",\"Series\",\"Series\",\"Movie\",\"Movie\",\"Movie\",\"Movie\",\"Movie\",\"Movie\",\"Movie\",\"Movie\",\"Movie\",\"Movie\",\"Series\",\"Series\",\"Movie\",\"Movie\",\"Movie\",\"Movie\",\"Movie\",\"Movie\",\"Movie\",\"Movie\",\"Movie\",\"Movie\",\"Movie\",\"Movie\",\"Movie\",\"Movie\",\"Movie\",\"Series\",\"Movie\",\"Movie\",\"Movie\",\"Movie\",\"Movie\",\"Movie\",\"Movie\",\"Movie\",\"Movie\",\"Movie\",\"Movie\",\"Movie\",\"Movie\",\"Movie\",\"Movie\",\"Movie\",\"Movie\",\"Series\",\"Movie\",\"Movie\",\"Movie\",\"Series\",\"Series\",\"Movie\",\"Movie\",\"Movie\",\"Movie\",\"Movie\",\"Movie\",\"Movie\",\"Movie\",\"Movie\",\"Movie\",\"Movie\",\"Movie\",\"Movie\",\"Movie\",\"Movie\",\"Movie\",\"Movie\",\"Series\",\"Series\",\"Movie\",\"Series\",\"Movie\",\"Movie\",\"Movie\",\"Movie\",\"Movie\",\"Series\",\"Movie\",\"Movie\",\"Movie\",\"Movie\",\"Movie\",\"Movie\",\"Series\",\"Movie\",\"Movie\",\"Movie\",\"Movie\",\"Movie\",\"Movie\",\"Movie\",\"Series\",\"Movie\",\"Movie\",\"Series\",\"Movie\",\"Movie\",\"Movie\",\"Movie\",\"Movie\",\"Movie\",\"Movie\",\"Series\",\"Series\",\"Movie\",\"Movie\",\"Movie\",\"Movie\",\"Movie\",\"Movie\",\"Movie\",\"Movie\",\"Series\",\"Movie\",\"Movie\",\"Movie\",\"Series\",\"Series\",\"Series\",\"Movie\",\"Movie\",\"Movie\",\"Series\",\"Movie\",\"Movie\",\"Movie\",\"Movie\",\"Series\",\"Movie\",\"Movie\",\"Movie\",\"Movie\",\"Movie\",\"Movie\",\"Movie\",\"Movie\",\"Movie\",\"Series\",\"Series\",\"Movie\",\"Movie\",\"Series\",\"Series\",\"Movie\",\"Series\",\"Series\",\"Series\",\"Movie\",\"Movie\",\"Series\",\"Movie\",\"Movie\",\"Series\",\"Series\",\"Series\",\"Movie\",\"Movie\",\"Movie\",\"Movie\",\"Series\",\"Movie\",\"Movie\",\"Movie\",\"Series\",\"Series\",\"Series\",\"Movie\",\"Movie\",\"Movie\",\"Series\",\"Series\",\"Movie\",\"Movie\",\"Movie\",\"Movie\",\"Movie\",\"Series\",\"Movie\",\"Movie\",\"Movie\",\"Movie\",\"Movie\",\"Movie\",\"Movie\",\"Movie\",\"Movie\",\"Movie\",\"Movie\",\"Movie\",\"Movie\",\"Movie\",\"Movie\",\"Series\",\"Movie\",\"Movie\",\"Movie\",\"Movie\",\"Movie\",\"Movie\",\"Series\",\"Movie\",\"Movie\",\"Movie\",\"Movie\",\"Movie\",\"Movie\",\"Series\",\"Movie\",\"Movie\",\"Movie\",\"Movie\",\"Movie\",\"Movie\",\"Movie\",\"Movie\",\"Movie\",\"Movie\",\"Movie\",\"Movie\",\"Movie\",\"Movie\",\"Movie\",\"Series\",\"Movie\",\"Movie\",\"Series\",\"Movie\",\"Movie\",\"Series\",\"Movie\",\"Movie\",\"Movie\",\"Movie\",\"Movie\",\"Movie\",\"Series\",\"Movie\",\"Movie\",\"Movie\",\"Movie\",\"Movie\",\"Movie\",\"Movie\",\"Series\",\"Movie\",\"Movie\",\"Movie\",\"Movie\",\"Movie\",\"Movie\",\"Movie\",\"Movie\",\"Movie\",\"Movie\",\"Movie\",\"Movie\",\"Movie\",\"Movie\",\"Movie\",\"Movie\",\"Movie\",\"Movie\",\"Movie\",\"Movie\",\"Movie\",\"Series\",\"Movie\",\"Movie\",\"Movie\",\"Movie\",\"Series\",\"Movie\",\"Movie\",\"Movie\",\"Movie\",\"Movie\",\"Movie\",\"Movie\",\"Movie\",\"Movie\",\"Movie\",\"Series\",\"Series\",\"Series\",\"Movie\",\"Movie\",\"Series\",\"Series\",\"Series\",\"Series\",\"Movie\",\"Series\",\"Series\",\"Movie\",\"Movie\",\"Movie\",\"Movie\",\"Series\",\"Series\",\"Series\",\"Series\",\"Series\",\"Movie\",\"Series\",\"Movie\",\"Series\",\"Series\",\"Movie\",\"Movie\",\"Series\",\"Series\",\"Series\",\"Series\",\"Series\",\"Movie\",\"Movie\",\"Movie\",\"Movie\",\"Movie\",\"Series\",\"Series\",\"Series\",\"Series\",\"Series\",\"Movie\",\"Series\",\"Movie\",\"Series\",\"Series\",\"Series\",\"Series\",\"Series\",\"Series\",\"Series\",\"Movie\",\"Movie\",\"Series\",\"Series\",\"Series\",\"Series\",\"Series\",\"Movie\",\"Movie\",\"Movie\",\"Movie\",\"Movie\",\"Movie\",\"Movie\",\"Movie\",\"Movie\",\"Movie\",\"Movie\",\"Movie\",\"Movie\",\"Movie\",\"Movie\",\"Movie\",\"Movie\",\"Movie\",\"Movie\",\"Movie\",\"Movie\",\"Movie\",\"Movie\",\"Movie\",\"Movie\",\"Series\",\"Series\",\"Movie\",\"Series\",\"Movie\",\"Movie\",\"Series\",\"Movie\",\"Series\",\"Series\",\"Series\",\"Series\",\"Movie\",\"Series\",\"Series\",\"Movie\",\"Series\",\"Movie\",\"Series\",\"Movie\",\"Movie\",\"Series\",\"Movie\",\"Series\",\"Movie\",\"Series\",\"Movie\",\"Movie\",\"Movie\",\"Movie\",\"Series\",\"Movie\",\"Movie\",\"Movie\",\"Movie\",\"Series\",\"Series\",\"Series\",\"Series\",\"Movie\",\"Movie\",\"Movie\",\"Series\",\"Series\",\"Series\",\"Movie\",\"Movie\",\"Movie\",\"Movie\",\"Series\",\"Series\",\"Series\",\"Series\",\"Series\",\"Movie\",\"Movie\",\"Movie\",\"Movie\",\"Series\",\"Movie\",\"Movie\",\"Movie\",\"Series\",\"Movie\",\"Series\",\"Movie\",\"Movie\",\"Series\",\"Series\",\"Series\",\"Movie\",\"Movie\",\"Movie\",\"Series\",\"Series\",\"Movie\",\"Series\",\"Movie\",\"Movie\",\"Series\",\"Series\",\"Series\",\"Series\",\"Series\",\"Series\",\"Movie\",\"Series\",\"Movie\",\"Series\",\"Series\",\"Movie\",\"Movie\",\"Series\",\"Series\",\"Series\",\"Series\",\"Series\",\"Movie\",\"Series\",\"Movie\",\"Movie\",\"Series\",\"Movie\",\"Series\",\"Series\",\"Series\",\"Series\",\"Series\",\"Series\",\"Series\",\"Series\",\"Series\",\"Series\",\"Movie\",\"Movie\",\"Movie\",\"Series\",\"Movie\",\"Movie\",\"Movie\",\"Movie\",\"Movie\",\"Movie\",\"Movie\",\"Movie\",\"Movie\",\"Movie\",\"Movie\",\"Movie\",\"Movie\",\"Movie\",\"Movie\",\"Movie\",\"Movie\",\"Movie\",\"Series\",\"Movie\",\"Movie\",\"Movie\",\"Movie\",\"Movie\",\"Movie\",\"Movie\",\"Movie\",\"Series\",\"Movie\",\"Series\",\"Series\",\"Movie\",\"Series\",\"Series\",\"Series\",\"Series\",\"Series\",\"Movie\",\"Series\",\"Series\",\"Series\",\"Series\",\"Movie\",\"Series\",\"Series\",\"Movie\",\"Movie\",\"Series\",\"Series\",\"Series\",\"Series\",\"Movie\",\"Movie\",\"Series\",\"Series\",\"Movie\",\"Series\",\"Movie\",\"Series\",\"Series\",\"Series\",\"Series\",\"Series\",\"Series\",\"Series\",\"Series\",\"Series\",\"Series\",\"Movie\",\"Series\",\"Series\",\"Series\",\"Series\",\"Series\",\"Series\",\"Series\",\"Series\",\"Series\",\"Series\",\"Movie\",\"Movie\",\"Series\",\"Series\",\"Series\",\"Movie\",\"Movie\",\"Series\",\"Series\",\"Series\",\"Movie\",\"Movie\",\"Movie\",\"Movie\",\"Movie\",\"Series\",\"Series\",\"Movie\",\"Series\",\"Series\",\"Movie\",\"Movie\",\"Series\",\"Series\",\"Series\",\"Series\",\"Series\",\"Series\",\"Series\",\"Movie\",\"Movie\",\"Series\",\"Series\",\"Series\",\"Series\",\"Movie\",\"Series\",\"Series\",\"Movie\",\"Movie\",\"Movie\",\"Series\",\"Movie\",\"Movie\",\"Movie\",\"Movie\",\"Series\",\"Movie\",\"Movie\",\"Movie\",\"Movie\",\"Movie\",\"Movie\",\"Movie\",\"Movie\",\"Movie\",\"Movie\",\"Series\",\"Series\",\"Series\",\"Series\",\"Series\",\"Series\",\"Series\",\"Series\",\"Series\",\"Movie\",\"Movie\",\"Movie\",\"Movie\",\"Movie\",\"Movie\",\"Movie\",\"Movie\",\"Movie\",\"Series\",\"Series\",\"Series\",\"Series\",\"Movie\",\"Series\",\"Movie\",\"Movie\",\"Movie\",\"Movie\",\"Movie\",\"Movie\",\"Series\",\"Movie\",\"Movie\",\"Movie\",\"Series\",\"Series\",\"Series\",\"Movie\",\"Series\",\"Series\",\"Movie\",\"Movie\",\"Series\",\"Series\",\"Movie\",\"Series\",\"Movie\",\"Series\",\"Series\",\"Series\",\"Movie\",\"Movie\",\"Series\",\"Movie\",\"Movie\",\"Series\",\"Series\",\"Movie\",\"Movie\",\"Movie\",\"Series\",\"Movie\",\"Movie\",\"Series\",\"Series\",\"Movie\",\"Movie\",\"Series\",\"Series\",\"Movie\",\"Movie\",\"Series\",\"Series\",\"Movie\",\"Series\",\"Series\",\"Series\",\"Series\",\"Series\",\"Movie\",\"Movie\",\"Series\",\"Series\",\"Movie\",\"Movie\",\"Series\",\"Movie\",\"Movie\",\"Movie\",\"Series\",\"Series\",\"Series\",\"Movie\",\"Series\",\"Series\",\"Series\",\"Series\",\"Series\",\"Series\",\"Movie\",\"Series\",\"Series\",\"Series\",\"Movie\",\"Series\",\"Movie\",\"Movie\",\"Movie\",\"Movie\",\"Movie\",\"Movie\",\"Series\",\"Movie\",\"Movie\",\"Movie\",\"Movie\",\"Series\",\"Series\",\"Series\",\"Movie\",\"Movie\",\"Movie\",\"Movie\",\"Movie\",\"Series\",\"Series\",\"Series\",\"Movie\",\"Series\",\"Movie\",\"Series\",\"Movie\",\"Movie\",\"Series\",\"Series\",\"Series\",\"Series\",\"Movie\",\"Movie\",\"Series\",\"Series\",\"Series\",\"Series\",\"Movie\",\"Movie\",\"Movie\",\"Movie\",\"Series\",\"Series\",\"Series\",\"Series\",\"Movie\",\"Series\",\"Movie\",\"Movie\",\"Series\",\"Movie\",\"Series\",\"Series\",\"Series\",\"Series\",\"Series\",\"Movie\",\"Movie\",\"Movie\",\"Movie\",\"Movie\",\"Series\",\"Series\",\"Series\",\"Series\",\"Movie\",\"Movie\",\"Series\",\"Movie\",\"Movie\",\"Movie\",\"Series\",\"Series\",\"Series\",\"Movie\",\"Series\",\"Movie\",\"Movie\",\"Movie\",\"Movie\",\"Movie\",\"Movie\",\"Movie\",\"Series\",\"Movie\",\"Series\",\"Movie\",\"Movie\",\"Movie\",\"Series\",\"Series\",\"Series\",\"Movie\",\"Movie\",\"Series\",\"Movie\",\"Series\",\"Movie\",\"Movie\",\"Series\",\"Series\",\"Series\",\"Movie\",\"Movie\",\"Series\",\"Series\",\"Series\",\"Movie\",\"Series\",\"Series\",\"Movie\",\"Movie\",\"Series\",\"Series\",\"Movie\",\"Movie\",\"Series\",\"Series\",\"Series\",\"Movie\",\"Movie\",\"Series\",\"Series\",\"Series\",\"Series\",\"Movie\",\"Series\",\"Series\",\"Series\",\"Movie\",\"Series\",\"Series\",\"Movie\",\"Series\",\"Series\",\"Series\",\"Series\",\"Series\",\"Movie\",\"Movie\",\"Movie\",\"Movie\",\"Movie\",\"Series\",\"Movie\",\"Movie\",\"Movie\",\"Movie\",\"Movie\",\"Movie\",\"Movie\",\"Movie\",\"Movie\",\"Movie\",\"Movie\",\"Movie\",\"Movie\",\"Movie\",\"Movie\",\"Movie\",\"Movie\",\"Movie\",\"Movie\",\"Movie\",\"Movie\",\"Movie\",\"Movie\",\"Movie\",\"Movie\",\"Movie\",\"Series\",\"Series\",\"Movie\",\"Movie\",\"Movie\",\"Movie\",\"Movie\",\"Movie\",\"Movie\",\"Movie\",\"Movie\",\"Movie\",\"Movie\",\"Movie\",\"Movie\",\"Movie\",\"Movie\",\"Movie\",\"Series\",\"Movie\",\"Movie\",\"Movie\",\"Movie\",\"Movie\",\"Movie\",\"Movie\",\"Movie\",\"Movie\",\"Movie\",\"Movie\",\"Movie\",\"Movie\",\"Movie\",\"Movie\",\"Series\",\"Movie\",\"Movie\",\"Movie\",\"Movie\",\"Movie\",\"Movie\",\"Movie\",\"Series\",\"Series\",\"Movie\",\"Movie\",\"Movie\",\"Series\",\"Movie\",\"Movie\",\"Movie\",\"Series\",\"Movie\",\"Movie\",\"Movie\",\"Series\",\"Movie\",\"Movie\",\"Movie\",\"Movie\",\"Movie\",\"Movie\",\"Series\",\"Movie\",\"Movie\",\"Movie\",\"Movie\",\"Movie\",\"Movie\",\"Movie\",\"Movie\",\"Movie\",\"Movie\",\"Movie\",\"Movie\",\"Movie\",\"Movie\",\"Movie\",\"Series\",\"Movie\",\"Movie\",\"Movie\",\"Movie\",\"Movie\",\"Movie\",\"Movie\",\"Movie\",\"Movie\",\"Movie\",\"Movie\",\"Movie\",\"Movie\",\"Movie\",\"Movie\",\"Movie\",\"Movie\",\"Movie\",\"Movie\",\"Movie\",\"Movie\",\"Movie\",\"Movie\",\"Movie\",\"Movie\",\"Movie\",\"Movie\",\"Movie\",\"Movie\",\"Movie\",\"Movie\",\"Movie\",\"Movie\",\"Movie\",\"Movie\",\"Movie\",\"Movie\",\"Movie\",\"Movie\",\"Movie\",\"Movie\",\"Movie\",\"Movie\",\"Movie\",\"Movie\",\"Movie\",\"Movie\",\"Movie\",\"Movie\",\"Movie\",\"Movie\",\"Movie\",\"Movie\",\"Movie\",\"Movie\",\"Movie\",\"Movie\",\"Movie\",\"Movie\",\"Movie\",\"Movie\",\"Series\",\"Movie\",\"Movie\",\"Movie\",\"Movie\",\"Movie\",\"Movie\",\"Movie\",\"Movie\",\"Movie\",\"Movie\",\"Movie\",\"Movie\",\"Movie\",\"Movie\",\"Movie\",\"Movie\",\"Series\",\"Movie\",\"Movie\",\"Movie\",\"Movie\",\"Movie\",\"Movie\",\"Movie\",\"Movie\",\"Movie\",\"Series\",\"Movie\",\"Movie\",\"Movie\",\"Movie\",\"Series\",\"Movie\",\"Movie\",\"Movie\",\"Movie\",\"Movie\",\"Movie\",\"Movie\",\"Movie\",\"Movie\",\"Movie\",\"Series\",\"Movie\",\"Movie\",\"Series\",\"Movie\",\"Movie\",\"Movie\",\"Movie\",\"Series\",\"Movie\",\"Movie\",\"Movie\",\"Movie\",\"Movie\",\"Movie\",\"Movie\",\"Movie\",\"Movie\",\"Movie\",\"Movie\",\"Series\",\"Movie\",\"Movie\",\"Movie\",\"Movie\",\"Series\",\"Movie\",\"Movie\",\"Series\",\"Movie\",\"Movie\",\"Movie\",\"Movie\",\"Movie\",\"Movie\",\"Movie\",\"Movie\",\"Movie\",\"Movie\",\"Movie\",\"Movie\",\"Movie\",\"Movie\",\"Movie\",\"Movie\",\"Movie\",\"Movie\",\"Movie\",\"Movie\",\"Movie\",\"Movie\",\"Movie\",\"Movie\",\"Series\",\"Movie\",\"Movie\",\"Movie\",\"Movie\",\"Movie\",\"Movie\",\"Movie\",\"Movie\",\"Movie\",\"Movie\",\"Movie\",\"Movie\",\"Movie\",\"Movie\",\"Movie\",\"Movie\",\"Movie\",\"Movie\",\"Movie\",\"Movie\",\"Movie\",\"Movie\",\"Series\",\"Movie\",\"Movie\",\"Movie\",\"Movie\",\"Movie\",\"Movie\",\"Movie\",\"Movie\",\"Movie\",\"Movie\",\"Movie\",\"Movie\",\"Movie\",\"Movie\",\"Movie\",\"Movie\",\"Movie\",\"Movie\",\"Movie\",\"Series\",\"Movie\",\"Movie\",\"Movie\",\"Movie\",\"Movie\",\"Movie\",\"Movie\",\"Movie\",\"Movie\",\"Movie\",\"Movie\",\"Movie\",\"Movie\",\"Movie\",\"Movie\",\"Movie\",\"Movie\",\"Movie\",\"Movie\",\"Movie\",\"Movie\",\"Movie\",\"Series\",\"Movie\",\"Movie\",\"Movie\",\"Movie\",\"Movie\",\"Movie\",\"Movie\",\"Movie\",\"Movie\",\"Movie\",\"Movie\",\"Movie\",\"Movie\",\"Movie\",\"Movie\",\"Movie\",\"Movie\",\"Series\",\"Movie\",\"Movie\",\"Movie\",\"Movie\",\"Movie\",\"Movie\",\"Movie\",\"Movie\",\"Movie\",\"Movie\",\"Movie\",\"Movie\",\"Movie\",\"Movie\",\"Movie\",\"Movie\",\"Movie\",\"Movie\",\"Movie\",\"Movie\",\"Movie\",\"Movie\",\"Movie\",\"Movie\",\"Movie\",\"Movie\",\"Movie\",\"Movie\",\"Movie\",\"Movie\",\"Movie\",\"Movie\",\"Movie\",\"Movie\",\"Movie\",\"Movie\",\"Movie\",\"Movie\",\"Movie\",\"Movie\",\"Movie\",\"Movie\",\"Movie\",\"Movie\",\"Movie\",\"Movie\",\"Movie\",\"Movie\",\"Series\",\"Movie\",\"Movie\",\"Movie\",\"Movie\",\"Movie\",\"Movie\",\"Movie\",\"Movie\",\"Movie\",\"Series\",\"Movie\",\"Movie\",\"Movie\",\"Movie\",\"Movie\",\"Movie\",\"Movie\",\"Movie\",\"Movie\",\"Movie\",\"Movie\",\"Series\",\"Movie\",\"Movie\",\"Movie\",\"Movie\",\"Movie\",\"Movie\",\"Movie\",\"Series\",\"Movie\",\"Series\",\"Movie\",\"Movie\",\"Movie\",\"Series\",\"Movie\",\"Movie\",\"Movie\",\"Movie\",\"Series\",\"Series\",\"Movie\",\"Movie\",\"Movie\",\"Movie\",\"Movie\",\"Movie\",\"Movie\",\"Movie\",\"Movie\",\"Movie\",\"Series\",\"Movie\",\"Movie\",\"Series\",\"Series\",\"Series\",\"Series\",\"Movie\",\"Movie\",\"Movie\",\"Movie\",\"Movie\",\"Movie\",\"Movie\",\"Series\",\"Movie\",\"Movie\",\"Series\",\"Movie\",\"Movie\",\"Movie\",\"Movie\",\"Movie\",\"Movie\",\"Series\",\"Movie\",\"Series\",\"Series\",\"Series\",\"Movie\",\"Movie\",\"Series\",\"Movie\",\"Series\",\"Movie\",\"Movie\",\"Movie\",\"Movie\",\"Series\",\"Movie\",\"Series\",\"Movie\",\"Movie\",\"Movie\",\"Movie\",\"Series\",\"Movie\",\"Movie\",\"Movie\",\"Movie\",\"Movie\",\"Series\",\"Movie\",\"Series\",\"Movie\",\"Movie\",\"Movie\",\"Movie\",\"Movie\",\"Series\",\"Movie\",\"Movie\",\"Movie\",\"Movie\",\"Movie\",\"Movie\",\"Movie\",\"Movie\",\"Movie\",\"Series\",\"Movie\",\"Movie\",\"Movie\",\"Movie\",\"Movie\",\"Movie\",\"Movie\",\"Movie\",\"Movie\",\"Movie\",\"Movie\",\"Movie\",\"Movie\",\"Movie\",\"Movie\",\"Movie\",\"Movie\",\"Movie\",\"Movie\",\"Movie\",\"Movie\",\"Movie\",\"Movie\",\"Movie\",\"Movie\",\"Movie\",\"Series\",\"Movie\",\"Movie\",\"Movie\",\"Movie\",\"Movie\",\"Movie\",\"Movie\",\"Movie\",\"Movie\",\"Movie\",\"Movie\",\"Series\",\"Movie\",\"Movie\",\"Series\",\"Movie\",\"Series\",\"Movie\",\"Movie\",\"Movie\",\"Movie\",\"Series\",\"Movie\",\"Movie\",\"Movie\",\"Movie\",\"Movie\",\"Movie\",\"Movie\",\"Movie\",\"Movie\",\"Movie\",\"Series\",\"Movie\",\"Movie\",\"Movie\",\"Movie\",\"Movie\",\"Movie\",\"Movie\",\"Movie\",\"Movie\",\"Series\",\"Movie\",\"Movie\",\"Movie\",\"Movie\",\"Movie\",\"Movie\",\"Series\",\"Series\",\"Movie\",\"Series\",\"Movie\",\"Movie\",\"Series\",\"Movie\",\"Movie\",\"Movie\",\"Movie\",\"Movie\",\"Movie\",\"Movie\",\"Movie\",\"Movie\",\"Movie\",\"Movie\",\"Series\",\"Movie\",\"Movie\",\"Series\",\"Movie\",\"Movie\",\"Movie\",\"Series\",\"Movie\",\"Movie\",\"Series\",\"Movie\",\"Series\",\"Movie\",\"Movie\",\"Series\",\"Movie\",\"Movie\",\"Movie\",\"Movie\",\"Movie\",\"Series\",\"Movie\",\"Series\",\"Movie\",\"Movie\",\"Movie\",\"Movie\",\"Series\",\"Movie\",\"Movie\",\"Movie\",\"Movie\",\"Movie\",\"Movie\",\"Movie\",\"Movie\",\"Movie\",\"Series\",\"Movie\",\"Movie\",\"Movie\",\"Movie\",\"Movie\",\"Movie\",\"Movie\",\"Movie\",\"Series\",\"Series\",\"Movie\",\"Series\",\"Movie\",\"Movie\",\"Movie\",\"Movie\",\"Movie\",\"Movie\",\"Series\",\"Series\",\"Movie\",\"Movie\",\"Series\",\"Movie\",\"Movie\",\"Movie\",\"Movie\",\"Movie\",\"Movie\",\"Movie\",\"Movie\",\"Movie\",\"Series\",\"Movie\",\"Series\",\"Movie\",\"Series\",\"Movie\",\"Movie\",\"Movie\",\"Series\",\"Series\",\"Movie\",\"Movie\",\"Series\",\"Movie\",\"Movie\",\"Series\",\"Series\",\"Movie\",\"Movie\",\"Movie\",\"Series\",\"Movie\",\"Movie\",\"Movie\",\"Movie\",\"Movie\",\"Series\",\"Movie\",\"Movie\",\"Series\",\"Movie\",\"Movie\",\"Series\",\"Movie\",\"Series\",\"Movie\",\"Series\",\"Series\",\"Series\",\"Series\",\"Movie\",\"Movie\",\"Movie\",\"Movie\",\"Movie\",\"Movie\",\"Movie\",\"Movie\",\"Movie\",\"Movie\",\"Movie\",\"Movie\",\"Movie\",\"Movie\",\"Movie\",\"Movie\",\"Movie\",\"Movie\",\"Movie\",\"Movie\",\"Movie\",\"Movie\",\"Movie\",\"Movie\",\"Movie\",\"Movie\",\"Movie\",\"Movie\",\"Movie\",\"Movie\",\"Movie\",\"Movie\",\"Movie\",\"Movie\",\"Movie\",\"Movie\",\"Movie\",\"Movie\",\"Movie\",\"Movie\",\"Movie\",\"Movie\",\"Movie\",\"Movie\",\"Movie\",\"Movie\",\"Movie\",\"Series\",\"Movie\",\"Movie\",\"Movie\",\"Movie\",\"Movie\",\"Movie\",\"Movie\",\"Movie\",\"Movie\",\"Movie\",\"Movie\",\"Movie\",\"Movie\",\"Movie\",\"Movie\",\"Movie\",\"Movie\",\"Movie\",\"Movie\",\"Movie\",\"Movie\",\"Movie\",\"Movie\",\"Movie\",\"Movie\",\"Movie\",\"Movie\",\"Movie\",\"Movie\",\"Movie\",\"Movie\",\"Movie\",\"Movie\",\"Movie\",\"Movie\",\"Movie\",\"Movie\",\"Movie\",\"Series\",\"Movie\",\"Series\",\"Movie\",\"Movie\",\"Movie\",\"Movie\",\"Movie\",\"Movie\",\"Series\",\"Movie\",\"Movie\",\"Movie\",\"Movie\",\"Movie\",\"Movie\",\"Movie\",\"Movie\",\"Movie\",\"Movie\",\"Movie\",\"Movie\",\"Movie\",\"Series\",\"Series\",\"Movie\",\"Movie\",\"Movie\",\"Movie\",\"Movie\",\"Movie\",\"Movie\",\"Movie\",\"Movie\",\"Movie\",\"Movie\",\"Movie\",\"Series\",\"Series\",\"Series\",\"Movie\",\"Movie\",\"Movie\",\"Movie\",\"Movie\",\"Movie\",\"Movie\",\"Movie\",\"Series\",\"Movie\",\"Movie\",\"Movie\",\"Movie\",\"Movie\",\"Movie\",\"Movie\",\"Movie\",\"Series\",\"Series\",\"Movie\",\"Movie\",\"Series\",\"Movie\",\"Movie\",\"Movie\",\"Movie\",\"Movie\",\"Movie\",\"Movie\",\"Movie\",\"Movie\",\"Movie\",\"Movie\",\"Movie\",\"Movie\",\"Series\",\"Movie\",\"Movie\",\"Movie\",\"Series\",\"Movie\",\"Series\",\"Series\",\"Series\",\"Movie\",\"Movie\",\"Movie\",\"Series\",\"Movie\",\"Movie\",\"Movie\",\"Movie\",\"Movie\",\"Movie\",\"Series\",\"Movie\",\"Movie\",\"Movie\",\"Movie\",\"Movie\",\"Movie\",\"Movie\",\"Movie\",\"Movie\",\"Movie\",\"Movie\",\"Movie\",\"Movie\",\"Movie\",\"Movie\",\"Movie\",\"Movie\",\"Movie\",\"Movie\",\"Movie\",\"Movie\",\"Movie\",\"Movie\",\"Movie\",\"Movie\",\"Movie\",\"Movie\",\"Series\",\"Movie\",\"Movie\",\"Movie\",\"Movie\",\"Series\",\"Movie\",\"Movie\",\"Series\",\"Series\",\"Series\",\"Movie\",\"Movie\",\"Movie\",\"Movie\",\"Movie\",\"Movie\",\"Movie\",\"Movie\",\"Movie\",\"Movie\",\"Movie\",\"Movie\",\"Series\",\"Movie\",\"Series\",\"Movie\",\"Movie\",\"Movie\",\"Movie\",\"Movie\",\"Movie\",\"Movie\",\"Series\",\"Movie\",\"Movie\",\"Movie\",\"Movie\",\"Movie\",\"Movie\",\"Movie\",\"Movie\",\"Movie\",\"Series\",\"Movie\",\"Movie\",\"Movie\",\"Series\",\"Series\",\"Movie\",\"Movie\",\"Movie\",\"Series\",\"Movie\",\"Movie\",\"Movie\",\"Movie\",\"Movie\",\"Movie\",\"Movie\",\"Movie\",\"Movie\",\"Movie\",\"Movie\",\"Movie\",\"Movie\",\"Movie\",\"Movie\",\"Movie\",\"Movie\",\"Movie\",\"Movie\",\"Movie\",\"Series\",\"Movie\",\"Series\",\"Movie\",\"Movie\",\"Movie\",\"Movie\",\"Series\",\"Series\",\"Movie\",\"Movie\",\"Movie\",\"Movie\",\"Movie\",\"Movie\",\"Movie\",\"Movie\",\"Series\",\"Movie\",\"Movie\",\"Movie\",\"Movie\",\"Movie\",\"Movie\",\"Movie\",\"Movie\",\"Movie\",\"Movie\",\"Movie\",\"Movie\",\"Series\",\"Movie\",\"Movie\",\"Movie\",\"Series\",\"Movie\",\"Movie\",\"Series\",\"Movie\",\"Movie\",\"Movie\",\"Movie\",\"Series\",\"Movie\",\"Movie\",\"Movie\",\"Movie\",\"Movie\",\"Movie\",\"Movie\",\"Movie\",\"Series\",\"Movie\",\"Movie\",\"Movie\",\"Movie\",\"Movie\",\"Movie\",\"Movie\",\"Movie\",\"Movie\",\"Movie\",\"Movie\",\"Movie\",\"Movie\",\"Movie\",\"Movie\",\"Movie\",\"Movie\",\"Movie\",\"Movie\",\"Movie\",\"Movie\",\"Movie\",\"Movie\",\"Movie\",\"Movie\",\"Series\",\"Movie\",\"Movie\",\"Movie\",\"Movie\",\"Movie\",\"Movie\",\"Movie\",\"Movie\",\"Movie\",\"Movie\",\"Movie\",\"Movie\",\"Movie\",\"Series\",\"Movie\",\"Movie\",\"Movie\",\"Movie\",\"Movie\",\"Movie\",\"Movie\",\"Movie\",\"Series\",\"Movie\",\"Movie\",\"Movie\",\"Movie\",\"Movie\",\"Movie\",\"Movie\",\"Movie\",\"Movie\",\"Movie\",\"Movie\",\"Series\",\"Movie\",\"Movie\",\"Movie\",\"Series\",\"Series\",\"Movie\",\"Movie\",\"Movie\",\"Movie\",\"Movie\",\"Movie\",\"Movie\",\"Movie\",\"Movie\",\"Movie\",\"Movie\",\"Series\",\"Movie\",\"Movie\",\"Movie\",\"Movie\",\"Movie\",\"Movie\",\"Movie\",\"Movie\",\"Series\",\"Movie\",\"Series\",\"Movie\",\"Movie\",\"Movie\",\"Movie\",\"Movie\",\"Series\",\"Movie\",\"Series\",\"Movie\",\"Movie\",\"Movie\",\"Movie\",\"Movie\",\"Movie\",\"Movie\",\"Movie\",\"Movie\",\"Movie\",\"Movie\",\"Movie\",\"Movie\",\"Movie\",\"Movie\",\"Movie\",\"Movie\",\"Movie\",\"Series\",\"Series\",\"Movie\",\"Movie\",\"Movie\",\"Movie\",\"Movie\",\"Movie\",\"Series\",\"Movie\",\"Movie\",\"Series\",\"Series\",\"Movie\",\"Series\",\"Movie\",\"Movie\",\"Movie\",\"Movie\",\"Movie\",\"Movie\",\"Movie\",\"Movie\",\"Movie\",\"Movie\",\"Movie\",\"Movie\",\"Movie\",\"Movie\",\"Movie\",\"Movie\",\"Movie\",\"Movie\",\"Movie\",\"Series\",\"Movie\",\"Movie\",\"Movie\",\"Movie\",\"Movie\",\"Series\",\"Movie\",\"Movie\",\"Movie\",\"Movie\",\"Movie\",\"Movie\",\"Movie\",\"Movie\",\"Series\",\"Movie\",\"Series\",\"Movie\",\"Series\",\"Movie\",\"Movie\",\"Movie\",\"Movie\",\"Movie\",\"Movie\",\"Movie\",\"Movie\",\"Movie\",\"Movie\",\"Movie\",\"Movie\",\"Movie\",\"Movie\",\"Movie\",\"Movie\",\"Movie\",\"Series\",\"Movie\",\"Movie\",\"Series\",\"Movie\",\"Movie\",\"Movie\",\"Movie\",\"Movie\",\"Series\",\"Series\",\"Movie\",\"Series\",\"Movie\",\"Series\",\"Movie\",\"Movie\",\"Movie\",\"Series\",\"Movie\",\"Movie\",\"Movie\",\"Movie\",\"Movie\",\"Series\",\"Movie\",\"Movie\",\"Movie\",\"Movie\",\"Movie\",\"Movie\",\"Movie\",\"Movie\",\"Movie\",\"Movie\",\"Movie\",\"Movie\",\"Movie\",\"Movie\",\"Movie\",\"Movie\",\"Movie\",\"Movie\",\"Movie\",\"Movie\",\"Movie\",\"Movie\",\"Movie\",\"Movie\",\"Movie\",\"Movie\",\"Movie\",\"Movie\",\"Movie\",\"Movie\",\"Movie\",\"Movie\",\"Movie\",\"Movie\",\"Movie\",\"Movie\",\"Movie\",\"Movie\",\"Movie\",\"Movie\",\"Movie\",\"Movie\",\"Movie\",\"Movie\",\"Movie\",\"Movie\",\"Movie\",\"Movie\",\"Movie\",\"Movie\",\"Movie\",\"Movie\",\"Movie\",\"Movie\",\"Movie\",\"Movie\",\"Movie\",\"Movie\",\"Series\",\"Series\",\"Movie\",\"Movie\",\"Movie\",\"Movie\",\"Movie\",\"Movie\",\"Movie\",\"Movie\",\"Movie\",\"Movie\",\"Movie\",\"Movie\",\"Movie\",\"Movie\",\"Movie\",\"Movie\",\"Movie\",\"Movie\",\"Movie\",\"Series\",\"Movie\",\"Movie\",\"Series\",\"Movie\",\"Movie\",\"Movie\",\"Movie\",\"Movie\",\"Movie\",\"Movie\",\"Movie\",\"Movie\",\"Movie\",\"Movie\",\"Movie\",\"Movie\",\"Movie\",\"Movie\",\"Movie\",\"Movie\",\"Movie\",\"Movie\",\"Movie\",\"Movie\",\"Movie\",\"Movie\",\"Movie\",\"Movie\",\"Movie\",\"Movie\",\"Movie\",\"Movie\",\"Movie\",\"Movie\",\"Movie\",\"Movie\",\"Movie\",\"Movie\",\"Movie\",\"Movie\",\"Movie\",\"Movie\",\"Movie\",\"Movie\",\"Movie\",\"Movie\",\"Movie\",\"Movie\",\"Movie\",\"Movie\",\"Movie\",\"Movie\",\"Series\",\"Series\",\"Movie\",\"Movie\",\"Movie\",\"Movie\",\"Movie\",\"Movie\",\"Movie\",\"Movie\",\"Movie\",\"Movie\",\"Series\",\"Movie\",\"Movie\",\"Movie\",\"Movie\",\"Movie\",\"Movie\",\"Movie\",\"Movie\",\"Movie\",\"Movie\",\"Movie\",\"Movie\",\"Movie\",\"Movie\",\"Movie\",\"Series\",\"Movie\",\"Series\",\"Movie\",\"Movie\",\"Movie\",\"Movie\",\"Movie\",\"Movie\",\"Movie\",\"Movie\",\"Movie\",\"Movie\",\"Movie\",\"Movie\",\"Movie\",\"Movie\",\"Movie\",\"Movie\",\"Movie\",\"Movie\",\"Movie\",\"Movie\",\"Movie\",\"Movie\",\"Movie\",\"Movie\",\"Movie\",\"Movie\",\"Movie\",\"Movie\",\"Movie\",\"Movie\",\"Movie\",\"Movie\",\"Movie\",\"Movie\",\"Movie\",\"Movie\",\"Movie\",\"Movie\",\"Movie\",\"Movie\",\"Series\",\"Movie\",\"Series\",\"Series\",\"Movie\",\"Movie\",\"Movie\",\"Movie\",\"Movie\",\"Movie\",\"Movie\",\"Movie\",\"Movie\",\"Movie\",\"Movie\",\"Movie\",\"Movie\",\"Movie\",\"Series\",\"Movie\",\"Movie\",\"Movie\",\"Movie\",\"Movie\",\"Movie\",\"Series\",\"Movie\",\"Movie\",\"Movie\",\"Movie\",\"Movie\",\"Movie\",\"Movie\",\"Movie\",\"Movie\",\"Movie\",\"Series\",\"Movie\",\"Movie\",\"Movie\",\"Movie\",\"Movie\",\"Movie\",\"Movie\",\"Movie\",\"Movie\",\"Movie\",\"Series\",\"Movie\",\"Movie\",\"Series\",\"Movie\",\"Movie\",\"Series\",\"Movie\",\"Movie\",\"Series\",\"Series\",\"Movie\",\"Series\",\"Series\",\"Movie\",\"Movie\",\"Movie\",\"Movie\",\"Movie\",\"Movie\",\"Movie\",\"Movie\",\"Movie\",\"Movie\",\"Movie\",\"Movie\",\"Movie\",\"Movie\",\"Movie\",\"Movie\",\"Movie\",\"Movie\",\"Movie\",\"Movie\",\"Movie\",\"Movie\",\"Movie\",\"Movie\",\"Movie\",\"Movie\",\"Movie\",\"Movie\",\"Movie\",\"Series\",\"Series\",\"Movie\",\"Movie\",\"Movie\",\"Movie\",\"Movie\",\"Movie\",\"Movie\",\"Movie\",\"Movie\",\"Movie\",\"Movie\",\"Movie\",\"Movie\",\"Movie\",\"Movie\",\"Movie\",\"Movie\",\"Movie\",\"Movie\",\"Series\",\"Movie\",\"Movie\",\"Series\",\"Series\",\"Movie\",\"Movie\",\"Movie\",\"Series\",\"Movie\",\"Movie\",\"Movie\",\"Series\",\"Movie\",\"Movie\",\"Series\",\"Movie\",\"Movie\",\"Movie\",\"Movie\",\"Movie\",\"Movie\",\"Movie\",\"Movie\",\"Movie\",\"Movie\",\"Series\",\"Movie\",\"Movie\",\"Movie\",\"Movie\",\"Movie\",\"Movie\",\"Movie\",\"Series\",\"Movie\",\"Series\",\"Series\",\"Series\",\"Movie\",\"Movie\",\"Series\",\"Movie\",\"Series\",\"Movie\",\"Movie\",\"Movie\",\"Movie\",\"Movie\",\"Movie\",\"Movie\",\"Movie\",\"Series\",\"Movie\",\"Movie\",\"Movie\",\"Movie\",\"Movie\",\"Movie\",\"Movie\",\"Movie\",\"Movie\",\"Movie\",\"Movie\",\"Series\",\"Movie\",\"Movie\",\"Series\",\"Movie\",\"Movie\",\"Movie\",\"Series\",\"Series\",\"Movie\",\"Movie\",\"Movie\",\"Movie\",\"Movie\",\"Series\",\"Movie\",\"Movie\",\"Movie\",\"Movie\",\"Series\",\"Series\",\"Movie\",\"Movie\",\"Movie\",\"Movie\",\"Movie\",\"Movie\",\"Movie\",\"Series\",\"Movie\",\"Series\",\"Series\",\"Series\",\"Movie\",\"Movie\",\"Movie\",\"Movie\",\"Movie\",\"Movie\",\"Series\",\"Movie\",\"Movie\",\"Movie\",\"Series\",\"Movie\",\"Movie\",\"Series\",\"Movie\",\"Movie\",\"Movie\",\"Series\",\"Series\",\"Movie\",\"Movie\",\"Movie\",\"Series\",\"Movie\",\"Series\",\"Movie\",\"Series\",\"Movie\",\"Movie\",\"Movie\",\"Series\",\"Series\",\"Movie\",\"Movie\",\"Movie\",\"Series\",\"Movie\",\"Series\",\"Movie\",\"Movie\",\"Movie\",\"Movie\",\"Movie\",\"Series\",\"Movie\",\"Series\",\"Series\",\"Series\",\"Movie\",\"Movie\",\"Series\",\"Movie\",\"Movie\",\"Movie\",\"Movie\",\"Series\",\"Movie\",\"Series\",\"Movie\",\"Series\",\"Movie\",\"Series\",\"Series\",\"Movie\",\"Movie\",\"Movie\",\"Movie\",\"Series\",\"Movie\",\"Movie\",\"Movie\",\"Movie\",\"Movie\",\"Movie\",\"Movie\",\"Movie\",\"Series\",\"Series\",\"Series\",\"Movie\",\"Movie\",\"Movie\",\"Series\",\"Movie\",\"Movie\",\"Movie\",\"Movie\",\"Movie\",\"Movie\",\"Movie\",\"Series\",\"Movie\",\"Series\",\"Movie\",\"Movie\",\"Movie\",\"Series\",\"Movie\",\"Movie\",\"Movie\",\"Movie\",\"Movie\",\"Movie\",\"Movie\",\"Movie\",\"Movie\",\"Movie\",\"Movie\",\"Movie\",\"Movie\",\"Movie\",\"Series\",\"Movie\",\"Movie\",\"Movie\",\"Movie\",\"Series\",\"Movie\",\"Series\",\"Series\",\"Movie\",\"Movie\",\"Movie\",\"Movie\",\"Movie\",\"Movie\",\"Series\",\"Series\",\"Movie\",\"Movie\",\"Movie\",\"Movie\",\"Series\",\"Movie\",\"Movie\",\"Movie\",\"Movie\",\"Series\",\"Movie\",\"Movie\",\"Movie\",\"Movie\",\"Movie\",\"Movie\",\"Movie\",\"Series\",\"Movie\",\"Movie\",\"Movie\",\"Movie\",\"Movie\",\"Movie\",\"Movie\",\"Movie\",\"Series\",\"Movie\",\"Movie\",\"Movie\",\"Movie\",\"Series\",\"Movie\",\"Series\",\"Series\",\"Movie\",\"Movie\",\"Series\",\"Series\",\"Series\",\"Movie\",\"Movie\",\"Movie\",\"Movie\",\"Movie\",\"Movie\",\"Movie\",\"Movie\",\"Movie\",\"Movie\",\"Movie\",\"Movie\",\"Movie\",\"Movie\",\"Movie\",\"Series\",\"Movie\",\"Movie\",\"Movie\",\"Movie\",\"Movie\",\"Series\",\"Movie\",\"Movie\",\"Movie\",\"Movie\",\"Movie\",\"Movie\",\"Movie\",\"Series\",\"Movie\",\"Series\",\"Movie\",\"Series\",\"Series\",\"Movie\",\"Series\",\"Series\",\"Movie\",\"Movie\",\"Movie\",\"Movie\",\"Movie\",\"Movie\",\"Movie\",\"Movie\",\"Series\",\"Series\",\"Series\",\"Movie\",\"Series\",\"Movie\",\"Movie\",\"Movie\",\"Movie\",\"Series\",\"Movie\",\"Movie\",\"Movie\",\"Movie\",\"Movie\",\"Movie\",\"Movie\",\"Series\",\"Movie\",\"Series\",\"Series\",\"Series\",\"Series\",\"Series\",\"Movie\",\"Series\",\"Movie\",\"Movie\",\"Movie\",\"Movie\",\"Movie\",\"Movie\",\"Movie\",\"Movie\",\"Movie\",\"Movie\",\"Series\",\"Movie\",\"Movie\",\"Movie\",\"Movie\",\"Series\",\"Movie\",\"Movie\",\"Movie\",\"Movie\",\"Series\",\"Movie\",\"Series\",\"Movie\",\"Series\",\"Series\",\"Movie\",\"Movie\",\"Movie\",\"Movie\",\"Movie\",\"Movie\",\"Movie\",\"Series\",\"Series\",\"Movie\",\"Movie\",\"Movie\",\"Series\",\"Movie\",\"Movie\",\"Movie\",\"Movie\",\"Movie\",\"Series\",\"Movie\",\"Series\",\"Movie\",\"Series\",\"Movie\",\"Movie\",\"Movie\",\"Movie\",\"Movie\",\"Series\",\"Movie\",\"Movie\",\"Movie\",\"Movie\",\"Movie\",\"Movie\",\"Movie\",\"Movie\",\"Movie\",\"Movie\",\"Series\",\"Movie\",\"Movie\",\"Series\",\"Movie\",\"Movie\",\"Movie\",\"Movie\",\"Movie\",\"Movie\",\"Movie\",\"Movie\",\"Series\",\"Series\",\"Series\",\"Movie\",\"Movie\",\"Movie\",\"Series\",\"Series\",\"Movie\",\"Series\",\"Movie\",\"Movie\",\"Movie\",\"Movie\",\"Movie\",\"Series\",\"Movie\",\"Movie\",\"Movie\",\"Movie\",\"Series\",\"Movie\",\"Movie\",\"Movie\",\"Movie\",\"Movie\",\"Series\",\"Series\",\"Series\",\"Series\",\"Movie\",\"Series\",\"Series\",\"Series\",\"Movie\",\"Series\",\"Movie\",\"Movie\",\"Movie\",\"Movie\",\"Movie\",\"Movie\",\"Movie\",\"Movie\",\"Series\",\"Movie\",\"Movie\",\"Movie\",\"Movie\",\"Movie\",\"Movie\",\"Movie\",\"Movie\",\"Movie\",\"Movie\",\"Series\",\"Movie\",\"Movie\",\"Movie\",\"Movie\",\"Movie\",\"Movie\",\"Movie\",\"Movie\",\"Movie\",\"Movie\",\"Movie\",\"Movie\",\"Movie\",\"Movie\",\"Movie\",\"Movie\",\"Movie\",\"Series\",\"Series\",\"Series\",\"Series\",\"Movie\",\"Movie\",\"Movie\",\"Movie\",\"Series\",\"Movie\",\"Movie\",\"Series\",\"Series\",\"Movie\",\"Movie\",\"Series\",\"Series\",\"Movie\",\"Movie\",\"Series\",\"Movie\",\"Series\",\"Series\",\"Movie\",\"Movie\",\"Series\",\"Series\",\"Movie\",\"Movie\",\"Series\",\"Movie\",\"Series\",\"Movie\",\"Movie\",\"Movie\",\"Series\",\"Series\",\"Series\",\"Movie\",\"Movie\",\"Movie\",\"Movie\",\"Movie\",\"Series\",\"Series\",\"Movie\",\"Movie\",\"Series\",\"Series\",\"Movie\",\"Movie\",\"Series\",\"Series\",\"Movie\",\"Series\",\"Series\",\"Movie\",\"Movie\",\"Series\",\"Movie\",\"Series\",\"Movie\",\"Series\",\"Series\",\"Series\",\"Movie\",\"Movie\",\"Movie\",\"Movie\",\"Movie\",\"Movie\",\"Movie\",\"Movie\",\"Movie\",\"Movie\",\"Movie\",\"Series\",\"Movie\",\"Movie\",\"Series\",\"Movie\",\"Series\",\"Movie\",\"Series\",\"Series\",\"Movie\",\"Series\",\"Movie\",\"Movie\",\"Movie\",\"Movie\",\"Movie\",\"Movie\",\"Movie\",\"Movie\",\"Movie\",\"Movie\",\"Movie\",\"Movie\",\"Movie\",\"Movie\",\"Movie\",\"Movie\",\"Movie\",\"Movie\",\"Movie\",\"Movie\",\"Movie\",\"Movie\",\"Movie\",\"Movie\",\"Series\",\"Movie\",\"Movie\",\"Movie\",\"Movie\",\"Movie\",\"Movie\",\"Movie\",\"Series\",\"Movie\",\"Series\",\"Movie\",\"Movie\",\"Movie\",\"Movie\",\"Series\",\"Movie\",\"Movie\",\"Series\",\"Movie\",\"Movie\",\"Movie\",\"Movie\",\"Movie\",\"Movie\",\"Movie\",\"Movie\",\"Movie\",\"Movie\",\"Movie\",\"Movie\",\"Movie\",\"Series\",\"Movie\",\"Movie\",\"Series\",\"Series\",\"Movie\",\"Series\",\"Series\",\"Series\",\"Series\",\"Series\",\"Series\"],\"y\":[11697,3783],\"type\":\"bar\",\"texttemplate\":\"%{text:.2s}\"}],                        {\"template\":{\"data\":{\"histogram2dcontour\":[{\"type\":\"histogram2dcontour\",\"colorbar\":{\"outlinewidth\":0,\"ticks\":\"\"},\"colorscale\":[[0.0,\"#0d0887\"],[0.1111111111111111,\"#46039f\"],[0.2222222222222222,\"#7201a8\"],[0.3333333333333333,\"#9c179e\"],[0.4444444444444444,\"#bd3786\"],[0.5555555555555556,\"#d8576b\"],[0.6666666666666666,\"#ed7953\"],[0.7777777777777778,\"#fb9f3a\"],[0.8888888888888888,\"#fdca26\"],[1.0,\"#f0f921\"]]}],\"choropleth\":[{\"type\":\"choropleth\",\"colorbar\":{\"outlinewidth\":0,\"ticks\":\"\"}}],\"histogram2d\":[{\"type\":\"histogram2d\",\"colorbar\":{\"outlinewidth\":0,\"ticks\":\"\"},\"colorscale\":[[0.0,\"#0d0887\"],[0.1111111111111111,\"#46039f\"],[0.2222222222222222,\"#7201a8\"],[0.3333333333333333,\"#9c179e\"],[0.4444444444444444,\"#bd3786\"],[0.5555555555555556,\"#d8576b\"],[0.6666666666666666,\"#ed7953\"],[0.7777777777777778,\"#fb9f3a\"],[0.8888888888888888,\"#fdca26\"],[1.0,\"#f0f921\"]]}],\"heatmap\":[{\"type\":\"heatmap\",\"colorbar\":{\"outlinewidth\":0,\"ticks\":\"\"},\"colorscale\":[[0.0,\"#0d0887\"],[0.1111111111111111,\"#46039f\"],[0.2222222222222222,\"#7201a8\"],[0.3333333333333333,\"#9c179e\"],[0.4444444444444444,\"#bd3786\"],[0.5555555555555556,\"#d8576b\"],[0.6666666666666666,\"#ed7953\"],[0.7777777777777778,\"#fb9f3a\"],[0.8888888888888888,\"#fdca26\"],[1.0,\"#f0f921\"]]}],\"heatmapgl\":[{\"type\":\"heatmapgl\",\"colorbar\":{\"outlinewidth\":0,\"ticks\":\"\"},\"colorscale\":[[0.0,\"#0d0887\"],[0.1111111111111111,\"#46039f\"],[0.2222222222222222,\"#7201a8\"],[0.3333333333333333,\"#9c179e\"],[0.4444444444444444,\"#bd3786\"],[0.5555555555555556,\"#d8576b\"],[0.6666666666666666,\"#ed7953\"],[0.7777777777777778,\"#fb9f3a\"],[0.8888888888888888,\"#fdca26\"],[1.0,\"#f0f921\"]]}],\"contourcarpet\":[{\"type\":\"contourcarpet\",\"colorbar\":{\"outlinewidth\":0,\"ticks\":\"\"}}],\"contour\":[{\"type\":\"contour\",\"colorbar\":{\"outlinewidth\":0,\"ticks\":\"\"},\"colorscale\":[[0.0,\"#0d0887\"],[0.1111111111111111,\"#46039f\"],[0.2222222222222222,\"#7201a8\"],[0.3333333333333333,\"#9c179e\"],[0.4444444444444444,\"#bd3786\"],[0.5555555555555556,\"#d8576b\"],[0.6666666666666666,\"#ed7953\"],[0.7777777777777778,\"#fb9f3a\"],[0.8888888888888888,\"#fdca26\"],[1.0,\"#f0f921\"]]}],\"surface\":[{\"type\":\"surface\",\"colorbar\":{\"outlinewidth\":0,\"ticks\":\"\"},\"colorscale\":[[0.0,\"#0d0887\"],[0.1111111111111111,\"#46039f\"],[0.2222222222222222,\"#7201a8\"],[0.3333333333333333,\"#9c179e\"],[0.4444444444444444,\"#bd3786\"],[0.5555555555555556,\"#d8576b\"],[0.6666666666666666,\"#ed7953\"],[0.7777777777777778,\"#fb9f3a\"],[0.8888888888888888,\"#fdca26\"],[1.0,\"#f0f921\"]]}],\"mesh3d\":[{\"type\":\"mesh3d\",\"colorbar\":{\"outlinewidth\":0,\"ticks\":\"\"}}],\"scatter\":[{\"fillpattern\":{\"fillmode\":\"overlay\",\"size\":10,\"solidity\":0.2},\"type\":\"scatter\"}],\"parcoords\":[{\"type\":\"parcoords\",\"line\":{\"colorbar\":{\"outlinewidth\":0,\"ticks\":\"\"}}}],\"scatterpolargl\":[{\"type\":\"scatterpolargl\",\"marker\":{\"colorbar\":{\"outlinewidth\":0,\"ticks\":\"\"}}}],\"bar\":[{\"error_x\":{\"color\":\"#2a3f5f\"},\"error_y\":{\"color\":\"#2a3f5f\"},\"marker\":{\"line\":{\"color\":\"#E5ECF6\",\"width\":0.5},\"pattern\":{\"fillmode\":\"overlay\",\"size\":10,\"solidity\":0.2}},\"type\":\"bar\"}],\"scattergeo\":[{\"type\":\"scattergeo\",\"marker\":{\"colorbar\":{\"outlinewidth\":0,\"ticks\":\"\"}}}],\"scatterpolar\":[{\"type\":\"scatterpolar\",\"marker\":{\"colorbar\":{\"outlinewidth\":0,\"ticks\":\"\"}}}],\"histogram\":[{\"marker\":{\"pattern\":{\"fillmode\":\"overlay\",\"size\":10,\"solidity\":0.2}},\"type\":\"histogram\"}],\"scattergl\":[{\"type\":\"scattergl\",\"marker\":{\"colorbar\":{\"outlinewidth\":0,\"ticks\":\"\"}}}],\"scatter3d\":[{\"type\":\"scatter3d\",\"line\":{\"colorbar\":{\"outlinewidth\":0,\"ticks\":\"\"}},\"marker\":{\"colorbar\":{\"outlinewidth\":0,\"ticks\":\"\"}}}],\"scattermapbox\":[{\"type\":\"scattermapbox\",\"marker\":{\"colorbar\":{\"outlinewidth\":0,\"ticks\":\"\"}}}],\"scatterternary\":[{\"type\":\"scatterternary\",\"marker\":{\"colorbar\":{\"outlinewidth\":0,\"ticks\":\"\"}}}],\"scattercarpet\":[{\"type\":\"scattercarpet\",\"marker\":{\"colorbar\":{\"outlinewidth\":0,\"ticks\":\"\"}}}],\"carpet\":[{\"aaxis\":{\"endlinecolor\":\"#2a3f5f\",\"gridcolor\":\"white\",\"linecolor\":\"white\",\"minorgridcolor\":\"white\",\"startlinecolor\":\"#2a3f5f\"},\"baxis\":{\"endlinecolor\":\"#2a3f5f\",\"gridcolor\":\"white\",\"linecolor\":\"white\",\"minorgridcolor\":\"white\",\"startlinecolor\":\"#2a3f5f\"},\"type\":\"carpet\"}],\"table\":[{\"cells\":{\"fill\":{\"color\":\"#EBF0F8\"},\"line\":{\"color\":\"white\"}},\"header\":{\"fill\":{\"color\":\"#C8D4E3\"},\"line\":{\"color\":\"white\"}},\"type\":\"table\"}],\"barpolar\":[{\"marker\":{\"line\":{\"color\":\"#E5ECF6\",\"width\":0.5},\"pattern\":{\"fillmode\":\"overlay\",\"size\":10,\"solidity\":0.2}},\"type\":\"barpolar\"}],\"pie\":[{\"automargin\":true,\"type\":\"pie\"}]},\"layout\":{\"autotypenumbers\":\"strict\",\"colorway\":[\"#636efa\",\"#EF553B\",\"#00cc96\",\"#ab63fa\",\"#FFA15A\",\"#19d3f3\",\"#FF6692\",\"#B6E880\",\"#FF97FF\",\"#FECB52\"],\"font\":{\"color\":\"#2a3f5f\"},\"hovermode\":\"closest\",\"hoverlabel\":{\"align\":\"left\"},\"paper_bgcolor\":\"white\",\"plot_bgcolor\":\"#E5ECF6\",\"polar\":{\"bgcolor\":\"#E5ECF6\",\"angularaxis\":{\"gridcolor\":\"white\",\"linecolor\":\"white\",\"ticks\":\"\"},\"radialaxis\":{\"gridcolor\":\"white\",\"linecolor\":\"white\",\"ticks\":\"\"}},\"ternary\":{\"bgcolor\":\"#E5ECF6\",\"aaxis\":{\"gridcolor\":\"white\",\"linecolor\":\"white\",\"ticks\":\"\"},\"baxis\":{\"gridcolor\":\"white\",\"linecolor\":\"white\",\"ticks\":\"\"},\"caxis\":{\"gridcolor\":\"white\",\"linecolor\":\"white\",\"ticks\":\"\"}},\"coloraxis\":{\"colorbar\":{\"outlinewidth\":0,\"ticks\":\"\"}},\"colorscale\":{\"sequential\":[[0.0,\"#0d0887\"],[0.1111111111111111,\"#46039f\"],[0.2222222222222222,\"#7201a8\"],[0.3333333333333333,\"#9c179e\"],[0.4444444444444444,\"#bd3786\"],[0.5555555555555556,\"#d8576b\"],[0.6666666666666666,\"#ed7953\"],[0.7777777777777778,\"#fb9f3a\"],[0.8888888888888888,\"#fdca26\"],[1.0,\"#f0f921\"]],\"sequentialminus\":[[0.0,\"#0d0887\"],[0.1111111111111111,\"#46039f\"],[0.2222222222222222,\"#7201a8\"],[0.3333333333333333,\"#9c179e\"],[0.4444444444444444,\"#bd3786\"],[0.5555555555555556,\"#d8576b\"],[0.6666666666666666,\"#ed7953\"],[0.7777777777777778,\"#fb9f3a\"],[0.8888888888888888,\"#fdca26\"],[1.0,\"#f0f921\"]],\"diverging\":[[0,\"#8e0152\"],[0.1,\"#c51b7d\"],[0.2,\"#de77ae\"],[0.3,\"#f1b6da\"],[0.4,\"#fde0ef\"],[0.5,\"#f7f7f7\"],[0.6,\"#e6f5d0\"],[0.7,\"#b8e186\"],[0.8,\"#7fbc41\"],[0.9,\"#4d9221\"],[1,\"#276419\"]]},\"xaxis\":{\"gridcolor\":\"white\",\"linecolor\":\"white\",\"ticks\":\"\",\"title\":{\"standoff\":15},\"zerolinecolor\":\"white\",\"automargin\":true,\"zerolinewidth\":2},\"yaxis\":{\"gridcolor\":\"white\",\"linecolor\":\"white\",\"ticks\":\"\",\"title\":{\"standoff\":15},\"zerolinecolor\":\"white\",\"automargin\":true,\"zerolinewidth\":2},\"scene\":{\"xaxis\":{\"backgroundcolor\":\"#E5ECF6\",\"gridcolor\":\"white\",\"linecolor\":\"white\",\"showbackground\":true,\"ticks\":\"\",\"zerolinecolor\":\"white\",\"gridwidth\":2},\"yaxis\":{\"backgroundcolor\":\"#E5ECF6\",\"gridcolor\":\"white\",\"linecolor\":\"white\",\"showbackground\":true,\"ticks\":\"\",\"zerolinecolor\":\"white\",\"gridwidth\":2},\"zaxis\":{\"backgroundcolor\":\"#E5ECF6\",\"gridcolor\":\"white\",\"linecolor\":\"white\",\"showbackground\":true,\"ticks\":\"\",\"zerolinecolor\":\"white\",\"gridwidth\":2}},\"shapedefaults\":{\"line\":{\"color\":\"#2a3f5f\"}},\"annotationdefaults\":{\"arrowcolor\":\"#2a3f5f\",\"arrowhead\":0,\"arrowwidth\":1},\"geo\":{\"bgcolor\":\"white\",\"landcolor\":\"#E5ECF6\",\"subunitcolor\":\"white\",\"showland\":true,\"showlakes\":true,\"lakecolor\":\"white\"},\"title\":{\"x\":0.05},\"mapbox\":{\"style\":\"light\"}}},\"title\":{\"text\":\"More Movies or Tv Series ?\"},\"uniformtext\":{\"minsize\":8,\"mode\":\"hide\"},\"xaxis\":{\"title\":{\"text\":\"Category\",\"font\":{\"size\":14}},\"tickangle\":-45},\"yaxis\":{\"title\":{\"text\":\"Quantity\",\"font\":{\"size\":14}}},\"barmode\":\"group\"},                        {\"responsive\": true}                    ).then(function(){\n",
              "                            \n",
              "var gd = document.getElementById('7ffb0147-825d-4c92-b4de-c72207dc97aa');\n",
              "var x = new MutationObserver(function (mutations, observer) {{\n",
              "        var display = window.getComputedStyle(gd).display;\n",
              "        if (!display || display === 'none') {{\n",
              "            console.log([gd, 'removed!']);\n",
              "            Plotly.purge(gd);\n",
              "            observer.disconnect();\n",
              "        }}\n",
              "}});\n",
              "\n",
              "// Listen for the removal of the full notebook cells\n",
              "var notebookContainer = gd.closest('#notebook-container');\n",
              "if (notebookContainer) {{\n",
              "    x.observe(notebookContainer, {childList: true});\n",
              "}}\n",
              "\n",
              "// Listen for the clearing of the current output cell\n",
              "var outputEl = gd.closest('.output');\n",
              "if (outputEl) {{\n",
              "    x.observe(outputEl, {childList: true});\n",
              "}}\n",
              "\n",
              "                        })                };                            </script>        </div>\n",
              "</body>\n",
              "</html>"
            ]
          },
          "metadata": {}
        }
      ]
    },
    {
      "cell_type": "code",
      "source": [
        "df_movie = df[df['Series or Movie']=='Movie']\n",
        "df_movie.head(1)"
      ],
      "metadata": {
        "colab": {
          "base_uri": "https://localhost:8080/",
          "height": 286
        },
        "id": "CAu3-QOmAeSe",
        "outputId": "f83656ef-66ff-440c-da74-140276474eba"
      },
      "execution_count": null,
      "outputs": [
        {
          "output_type": "execute_result",
          "data": {
            "text/plain": [
              "                 Title   Genre                                          Tags  \\\n",
              "1  HOW TO BUILD A GIRL  Comedy  Dramas,Comedies,Films Based on Books,British   \n",
              "\n",
              "  Languages Series or Movie  Hidden Gem Score Country Availability   Runtime  \\\n",
              "1   English           Movie               7.0               Canada  1-2 hour   \n",
              "\n",
              "        Director         Writer  ... Rotten Tomatoes Score Awards Received  \\\n",
              "1  Coky Giedroyc  Caitlin Moran  ...                  79.0             1.0   \n",
              "\n",
              "   Awards Nominated For  Release Date  Netflix Release Date  \\\n",
              "1                   NaN    2020-05-08            2021-03-04   \n",
              "\n",
              "                                             Summary IMDb Votes  \\\n",
              "1  When nerdy Johanna moves to London, things get...     2838.0   \n",
              "\n",
              "                                               Image Released_Year  \\\n",
              "1  https://occ-0-1081-999.1.nflxso.net/dnm/api/v6...        2020.0   \n",
              "\n",
              "   Released_Year_Net  \n",
              "1               2021  \n",
              "\n",
              "[1 rows x 23 columns]"
            ],
            "text/html": [
              "\n",
              "  <div id=\"df-045c211d-80be-42b1-bb19-136d8afb0c3e\" class=\"colab-df-container\">\n",
              "    <div>\n",
              "<style scoped>\n",
              "    .dataframe tbody tr th:only-of-type {\n",
              "        vertical-align: middle;\n",
              "    }\n",
              "\n",
              "    .dataframe tbody tr th {\n",
              "        vertical-align: top;\n",
              "    }\n",
              "\n",
              "    .dataframe thead th {\n",
              "        text-align: right;\n",
              "    }\n",
              "</style>\n",
              "<table border=\"1\" class=\"dataframe\">\n",
              "  <thead>\n",
              "    <tr style=\"text-align: right;\">\n",
              "      <th></th>\n",
              "      <th>Title</th>\n",
              "      <th>Genre</th>\n",
              "      <th>Tags</th>\n",
              "      <th>Languages</th>\n",
              "      <th>Series or Movie</th>\n",
              "      <th>Hidden Gem Score</th>\n",
              "      <th>Country Availability</th>\n",
              "      <th>Runtime</th>\n",
              "      <th>Director</th>\n",
              "      <th>Writer</th>\n",
              "      <th>...</th>\n",
              "      <th>Rotten Tomatoes Score</th>\n",
              "      <th>Awards Received</th>\n",
              "      <th>Awards Nominated For</th>\n",
              "      <th>Release Date</th>\n",
              "      <th>Netflix Release Date</th>\n",
              "      <th>Summary</th>\n",
              "      <th>IMDb Votes</th>\n",
              "      <th>Image</th>\n",
              "      <th>Released_Year</th>\n",
              "      <th>Released_Year_Net</th>\n",
              "    </tr>\n",
              "  </thead>\n",
              "  <tbody>\n",
              "    <tr>\n",
              "      <th>1</th>\n",
              "      <td>HOW TO BUILD A GIRL</td>\n",
              "      <td>Comedy</td>\n",
              "      <td>Dramas,Comedies,Films Based on Books,British</td>\n",
              "      <td>English</td>\n",
              "      <td>Movie</td>\n",
              "      <td>7.0</td>\n",
              "      <td>Canada</td>\n",
              "      <td>1-2 hour</td>\n",
              "      <td>Coky Giedroyc</td>\n",
              "      <td>Caitlin Moran</td>\n",
              "      <td>...</td>\n",
              "      <td>79.0</td>\n",
              "      <td>1.0</td>\n",
              "      <td>NaN</td>\n",
              "      <td>2020-05-08</td>\n",
              "      <td>2021-03-04</td>\n",
              "      <td>When nerdy Johanna moves to London, things get...</td>\n",
              "      <td>2838.0</td>\n",
              "      <td>https://occ-0-1081-999.1.nflxso.net/dnm/api/v6...</td>\n",
              "      <td>2020.0</td>\n",
              "      <td>2021</td>\n",
              "    </tr>\n",
              "  </tbody>\n",
              "</table>\n",
              "<p>1 rows × 23 columns</p>\n",
              "</div>\n",
              "    <div class=\"colab-df-buttons\">\n",
              "\n",
              "  <div class=\"colab-df-container\">\n",
              "    <button class=\"colab-df-convert\" onclick=\"convertToInteractive('df-045c211d-80be-42b1-bb19-136d8afb0c3e')\"\n",
              "            title=\"Convert this dataframe to an interactive table.\"\n",
              "            style=\"display:none;\">\n",
              "\n",
              "  <svg xmlns=\"http://www.w3.org/2000/svg\" height=\"24px\" viewBox=\"0 -960 960 960\">\n",
              "    <path d=\"M120-120v-720h720v720H120Zm60-500h600v-160H180v160Zm220 220h160v-160H400v160Zm0 220h160v-160H400v160ZM180-400h160v-160H180v160Zm440 0h160v-160H620v160ZM180-180h160v-160H180v160Zm440 0h160v-160H620v160Z\"/>\n",
              "  </svg>\n",
              "    </button>\n",
              "\n",
              "  <style>\n",
              "    .colab-df-container {\n",
              "      display:flex;\n",
              "      gap: 12px;\n",
              "    }\n",
              "\n",
              "    .colab-df-convert {\n",
              "      background-color: #E8F0FE;\n",
              "      border: none;\n",
              "      border-radius: 50%;\n",
              "      cursor: pointer;\n",
              "      display: none;\n",
              "      fill: #1967D2;\n",
              "      height: 32px;\n",
              "      padding: 0 0 0 0;\n",
              "      width: 32px;\n",
              "    }\n",
              "\n",
              "    .colab-df-convert:hover {\n",
              "      background-color: #E2EBFA;\n",
              "      box-shadow: 0px 1px 2px rgba(60, 64, 67, 0.3), 0px 1px 3px 1px rgba(60, 64, 67, 0.15);\n",
              "      fill: #174EA6;\n",
              "    }\n",
              "\n",
              "    .colab-df-buttons div {\n",
              "      margin-bottom: 4px;\n",
              "    }\n",
              "\n",
              "    [theme=dark] .colab-df-convert {\n",
              "      background-color: #3B4455;\n",
              "      fill: #D2E3FC;\n",
              "    }\n",
              "\n",
              "    [theme=dark] .colab-df-convert:hover {\n",
              "      background-color: #434B5C;\n",
              "      box-shadow: 0px 1px 3px 1px rgba(0, 0, 0, 0.15);\n",
              "      filter: drop-shadow(0px 1px 2px rgba(0, 0, 0, 0.3));\n",
              "      fill: #FFFFFF;\n",
              "    }\n",
              "  </style>\n",
              "\n",
              "    <script>\n",
              "      const buttonEl =\n",
              "        document.querySelector('#df-045c211d-80be-42b1-bb19-136d8afb0c3e button.colab-df-convert');\n",
              "      buttonEl.style.display =\n",
              "        google.colab.kernel.accessAllowed ? 'block' : 'none';\n",
              "\n",
              "      async function convertToInteractive(key) {\n",
              "        const element = document.querySelector('#df-045c211d-80be-42b1-bb19-136d8afb0c3e');\n",
              "        const dataTable =\n",
              "          await google.colab.kernel.invokeFunction('convertToInteractive',\n",
              "                                                    [key], {});\n",
              "        if (!dataTable) return;\n",
              "\n",
              "        const docLinkHtml = 'Like what you see? Visit the ' +\n",
              "          '<a target=\"_blank\" href=https://colab.research.google.com/notebooks/data_table.ipynb>data table notebook</a>'\n",
              "          + ' to learn more about interactive tables.';\n",
              "        element.innerHTML = '';\n",
              "        dataTable['output_type'] = 'display_data';\n",
              "        await google.colab.output.renderOutput(dataTable, element);\n",
              "        const docLink = document.createElement('div');\n",
              "        docLink.innerHTML = docLinkHtml;\n",
              "        element.appendChild(docLink);\n",
              "      }\n",
              "    </script>\n",
              "  </div>\n",
              "\n",
              "\n",
              "    </div>\n",
              "  </div>\n"
            ],
            "application/vnd.google.colaboratory.intrinsic+json": {
              "type": "dataframe",
              "variable_name": "df_movie"
            }
          },
          "metadata": {},
          "execution_count": 201
        }
      ]
    },
    {
      "cell_type": "code",
      "source": [
        "df_series = df[df[\"Series or Movie\"] == \"Series\"]\n",
        "df_series.head(1)"
      ],
      "metadata": {
        "colab": {
          "base_uri": "https://localhost:8080/",
          "height": 234
        },
        "id": "DcK9NOlMAv0o",
        "outputId": "01327f96-ea3c-401a-936f-9535ef9f1b39"
      },
      "execution_count": null,
      "outputs": [
        {
          "output_type": "execute_result",
          "data": {
            "text/plain": [
              "              Title                                   Genre  \\\n",
              "0  Lets Fight Ghost  Crime, Drama, Fantasy, Horror, Romance   \n",
              "\n",
              "                                                Tags         Languages  \\\n",
              "0  Comedy Programmes,Romantic TV Comedies,Horror ...  Swedish, Spanish   \n",
              "\n",
              "  Series or Movie  Hidden Gem Score Country Availability       Runtime  \\\n",
              "0          Series               4.3             Thailand  < 30 minutes   \n",
              "\n",
              "          Director                 Writer  ... Rotten Tomatoes Score  \\\n",
              "0  Tomas Alfredson  John Ajvide Lindqvist  ...                  98.0   \n",
              "\n",
              "  Awards Received  Awards Nominated For  Release Date  Netflix Release Date  \\\n",
              "0            74.0                  57.0    2008-12-12            2021-03-04   \n",
              "\n",
              "                                             Summary IMDb Votes  \\\n",
              "0  A med student with a supernatural gift tries t...   205926.0   \n",
              "\n",
              "                                               Image Released_Year  \\\n",
              "0  https://occ-0-4708-64.1.nflxso.net/dnm/api/v6/...        2008.0   \n",
              "\n",
              "   Released_Year_Net  \n",
              "0               2021  \n",
              "\n",
              "[1 rows x 23 columns]"
            ],
            "text/html": [
              "\n",
              "  <div id=\"df-a7a6f1c8-a322-4dde-9e35-f4fb292ecf66\" class=\"colab-df-container\">\n",
              "    <div>\n",
              "<style scoped>\n",
              "    .dataframe tbody tr th:only-of-type {\n",
              "        vertical-align: middle;\n",
              "    }\n",
              "\n",
              "    .dataframe tbody tr th {\n",
              "        vertical-align: top;\n",
              "    }\n",
              "\n",
              "    .dataframe thead th {\n",
              "        text-align: right;\n",
              "    }\n",
              "</style>\n",
              "<table border=\"1\" class=\"dataframe\">\n",
              "  <thead>\n",
              "    <tr style=\"text-align: right;\">\n",
              "      <th></th>\n",
              "      <th>Title</th>\n",
              "      <th>Genre</th>\n",
              "      <th>Tags</th>\n",
              "      <th>Languages</th>\n",
              "      <th>Series or Movie</th>\n",
              "      <th>Hidden Gem Score</th>\n",
              "      <th>Country Availability</th>\n",
              "      <th>Runtime</th>\n",
              "      <th>Director</th>\n",
              "      <th>Writer</th>\n",
              "      <th>...</th>\n",
              "      <th>Rotten Tomatoes Score</th>\n",
              "      <th>Awards Received</th>\n",
              "      <th>Awards Nominated For</th>\n",
              "      <th>Release Date</th>\n",
              "      <th>Netflix Release Date</th>\n",
              "      <th>Summary</th>\n",
              "      <th>IMDb Votes</th>\n",
              "      <th>Image</th>\n",
              "      <th>Released_Year</th>\n",
              "      <th>Released_Year_Net</th>\n",
              "    </tr>\n",
              "  </thead>\n",
              "  <tbody>\n",
              "    <tr>\n",
              "      <th>0</th>\n",
              "      <td>Lets Fight Ghost</td>\n",
              "      <td>Crime, Drama, Fantasy, Horror, Romance</td>\n",
              "      <td>Comedy Programmes,Romantic TV Comedies,Horror ...</td>\n",
              "      <td>Swedish, Spanish</td>\n",
              "      <td>Series</td>\n",
              "      <td>4.3</td>\n",
              "      <td>Thailand</td>\n",
              "      <td>&lt; 30 minutes</td>\n",
              "      <td>Tomas Alfredson</td>\n",
              "      <td>John Ajvide Lindqvist</td>\n",
              "      <td>...</td>\n",
              "      <td>98.0</td>\n",
              "      <td>74.0</td>\n",
              "      <td>57.0</td>\n",
              "      <td>2008-12-12</td>\n",
              "      <td>2021-03-04</td>\n",
              "      <td>A med student with a supernatural gift tries t...</td>\n",
              "      <td>205926.0</td>\n",
              "      <td>https://occ-0-4708-64.1.nflxso.net/dnm/api/v6/...</td>\n",
              "      <td>2008.0</td>\n",
              "      <td>2021</td>\n",
              "    </tr>\n",
              "  </tbody>\n",
              "</table>\n",
              "<p>1 rows × 23 columns</p>\n",
              "</div>\n",
              "    <div class=\"colab-df-buttons\">\n",
              "\n",
              "  <div class=\"colab-df-container\">\n",
              "    <button class=\"colab-df-convert\" onclick=\"convertToInteractive('df-a7a6f1c8-a322-4dde-9e35-f4fb292ecf66')\"\n",
              "            title=\"Convert this dataframe to an interactive table.\"\n",
              "            style=\"display:none;\">\n",
              "\n",
              "  <svg xmlns=\"http://www.w3.org/2000/svg\" height=\"24px\" viewBox=\"0 -960 960 960\">\n",
              "    <path d=\"M120-120v-720h720v720H120Zm60-500h600v-160H180v160Zm220 220h160v-160H400v160Zm0 220h160v-160H400v160ZM180-400h160v-160H180v160Zm440 0h160v-160H620v160ZM180-180h160v-160H180v160Zm440 0h160v-160H620v160Z\"/>\n",
              "  </svg>\n",
              "    </button>\n",
              "\n",
              "  <style>\n",
              "    .colab-df-container {\n",
              "      display:flex;\n",
              "      gap: 12px;\n",
              "    }\n",
              "\n",
              "    .colab-df-convert {\n",
              "      background-color: #E8F0FE;\n",
              "      border: none;\n",
              "      border-radius: 50%;\n",
              "      cursor: pointer;\n",
              "      display: none;\n",
              "      fill: #1967D2;\n",
              "      height: 32px;\n",
              "      padding: 0 0 0 0;\n",
              "      width: 32px;\n",
              "    }\n",
              "\n",
              "    .colab-df-convert:hover {\n",
              "      background-color: #E2EBFA;\n",
              "      box-shadow: 0px 1px 2px rgba(60, 64, 67, 0.3), 0px 1px 3px 1px rgba(60, 64, 67, 0.15);\n",
              "      fill: #174EA6;\n",
              "    }\n",
              "\n",
              "    .colab-df-buttons div {\n",
              "      margin-bottom: 4px;\n",
              "    }\n",
              "\n",
              "    [theme=dark] .colab-df-convert {\n",
              "      background-color: #3B4455;\n",
              "      fill: #D2E3FC;\n",
              "    }\n",
              "\n",
              "    [theme=dark] .colab-df-convert:hover {\n",
              "      background-color: #434B5C;\n",
              "      box-shadow: 0px 1px 3px 1px rgba(0, 0, 0, 0.15);\n",
              "      filter: drop-shadow(0px 1px 2px rgba(0, 0, 0, 0.3));\n",
              "      fill: #FFFFFF;\n",
              "    }\n",
              "  </style>\n",
              "\n",
              "    <script>\n",
              "      const buttonEl =\n",
              "        document.querySelector('#df-a7a6f1c8-a322-4dde-9e35-f4fb292ecf66 button.colab-df-convert');\n",
              "      buttonEl.style.display =\n",
              "        google.colab.kernel.accessAllowed ? 'block' : 'none';\n",
              "\n",
              "      async function convertToInteractive(key) {\n",
              "        const element = document.querySelector('#df-a7a6f1c8-a322-4dde-9e35-f4fb292ecf66');\n",
              "        const dataTable =\n",
              "          await google.colab.kernel.invokeFunction('convertToInteractive',\n",
              "                                                    [key], {});\n",
              "        if (!dataTable) return;\n",
              "\n",
              "        const docLinkHtml = 'Like what you see? Visit the ' +\n",
              "          '<a target=\"_blank\" href=https://colab.research.google.com/notebooks/data_table.ipynb>data table notebook</a>'\n",
              "          + ' to learn more about interactive tables.';\n",
              "        element.innerHTML = '';\n",
              "        dataTable['output_type'] = 'display_data';\n",
              "        await google.colab.output.renderOutput(dataTable, element);\n",
              "        const docLink = document.createElement('div');\n",
              "        docLink.innerHTML = docLinkHtml;\n",
              "        element.appendChild(docLink);\n",
              "      }\n",
              "    </script>\n",
              "  </div>\n",
              "\n",
              "\n",
              "    </div>\n",
              "  </div>\n"
            ],
            "application/vnd.google.colaboratory.intrinsic+json": {
              "type": "dataframe",
              "variable_name": "df_series"
            }
          },
          "metadata": {},
          "execution_count": 202
        }
      ]
    },
    {
      "cell_type": "markdown",
      "source": [
        "## Genres\n"
      ],
      "metadata": {
        "id": "kD10gJKSv_4V"
      }
    },
    {
      "cell_type": "code",
      "source": [
        "df_series_gen = df_series.dropna(subset=['Genre'])"
      ],
      "metadata": {
        "id": "8AK5ggoRAxcq"
      },
      "execution_count": null,
      "outputs": []
    },
    {
      "cell_type": "code",
      "source": [
        "colors_10 = ['DarkRed', 'FireBrick','Red', 'Crimson', 'IndianRed', 'slategray', 'gray', 'dimgrey', 'DarkSlateGrey', 'black']\n",
        "series_gen_list = df_series_gen.Genre.str.split(',') #split the list into names\n",
        "s_gen_list = {} #create an empty list\n",
        "for genres in series_gen_list: # for any names in series_gen_list\n",
        "    for genre in genres: # for any genre in genres\n",
        "        if (genre in s_gen_list): #if this genre is already present in the s_gen_list\n",
        "            s_gen_list[genre]+=1 # increase his value\n",
        "        else:  # else\n",
        "            s_gen_list[genre]=1 # Create his index in the list\n",
        "s_gen_df = pd.DataFrame(s_gen_list.values(),index = s_gen_list.keys(),\n",
        "                        columns = ['Counts of Genres in Tv Series']) #Create a s_gen_df - Changed set to list\n",
        "s_gen_df.sort_values(by = 'Counts of Genres in Tv Series',ascending = False,inplace = True) #Sort the dataframe in ascending order\n",
        "top_10_s_gen = s_gen_df[0:10]"
      ],
      "metadata": {
        "id": "zerEktmAA1rt"
      },
      "execution_count": null,
      "outputs": []
    },
    {
      "cell_type": "code",
      "source": [
        "fig = go.Figure(data=[go.Bar(\n",
        "    x = top_10_s_gen.index,\n",
        "    y = top_10_s_gen['Counts of Genres in Tv Series'],\n",
        "    text = top_10_s_gen['Counts of Genres in Tv Series'],\n",
        "    textposition='auto',\n",
        "    marker_color=colors_10 # marker color can be a single color value or an iterable\n",
        ")])\n",
        "fig.update_traces(texttemplate='%{text:.2s}', textposition='outside')\n",
        "fig.update_layout(title_text= 'Which are the most popular genres in Tv Series?',\n",
        "                  uniformtext_minsize=8, uniformtext_mode='hide',\n",
        "                  yaxis=dict(\n",
        "                  title='Quantity',\n",
        "                  titlefont_size=14),\n",
        "                  xaxis=dict(\n",
        "                  title='Genres',\n",
        "                  titlefont_size=14))"
      ],
      "metadata": {
        "colab": {
          "base_uri": "https://localhost:8080/",
          "height": 542
        },
        "id": "77-Ns81DA3gf",
        "outputId": "90f50a6e-ee41-40c3-af34-a7d934faf734"
      },
      "execution_count": null,
      "outputs": [
        {
          "output_type": "display_data",
          "data": {
            "text/html": [
              "<html>\n",
              "<head><meta charset=\"utf-8\" /></head>\n",
              "<body>\n",
              "    <div>            <script src=\"https://cdnjs.cloudflare.com/ajax/libs/mathjax/2.7.5/MathJax.js?config=TeX-AMS-MML_SVG\"></script><script type=\"text/javascript\">if (window.MathJax && window.MathJax.Hub && window.MathJax.Hub.Config) {window.MathJax.Hub.Config({SVG: {font: \"STIX-Web\"}});}</script>                <script type=\"text/javascript\">window.PlotlyConfig = {MathJaxConfig: 'local'};</script>\n",
              "        <script charset=\"utf-8\" src=\"https://cdn.plot.ly/plotly-2.35.2.min.js\"></script>                <div id=\"b82b05c7-6361-44ec-915a-0e2b27dec5ce\" class=\"plotly-graph-div\" style=\"height:525px; width:100%;\"></div>            <script type=\"text/javascript\">                                    window.PLOTLYENV=window.PLOTLYENV || {};                                    if (document.getElementById(\"b82b05c7-6361-44ec-915a-0e2b27dec5ce\")) {                    Plotly.newPlot(                        \"b82b05c7-6361-44ec-915a-0e2b27dec5ce\",                        [{\"marker\":{\"color\":[\"DarkRed\",\"FireBrick\",\"Red\",\"Crimson\",\"IndianRed\",\"slategray\",\"gray\",\"dimgrey\",\"DarkSlateGrey\",\"black\"]},\"text\":[869.0,869.0,593.0,531.0,517.0,516.0,514.0,412.0,377.0,365.0],\"textposition\":\"outside\",\"x\":[\" Drama\",\"Animation\",\"Comedy\",\"Drama\",\" Comedy\",\" Romance\",\" Fantasy\",\" Thriller\",\" Adventure\",\" Family\"],\"y\":[869,869,593,531,517,516,514,412,377,365],\"type\":\"bar\",\"texttemplate\":\"%{text:.2s}\"}],                        {\"template\":{\"data\":{\"histogram2dcontour\":[{\"type\":\"histogram2dcontour\",\"colorbar\":{\"outlinewidth\":0,\"ticks\":\"\"},\"colorscale\":[[0.0,\"#0d0887\"],[0.1111111111111111,\"#46039f\"],[0.2222222222222222,\"#7201a8\"],[0.3333333333333333,\"#9c179e\"],[0.4444444444444444,\"#bd3786\"],[0.5555555555555556,\"#d8576b\"],[0.6666666666666666,\"#ed7953\"],[0.7777777777777778,\"#fb9f3a\"],[0.8888888888888888,\"#fdca26\"],[1.0,\"#f0f921\"]]}],\"choropleth\":[{\"type\":\"choropleth\",\"colorbar\":{\"outlinewidth\":0,\"ticks\":\"\"}}],\"histogram2d\":[{\"type\":\"histogram2d\",\"colorbar\":{\"outlinewidth\":0,\"ticks\":\"\"},\"colorscale\":[[0.0,\"#0d0887\"],[0.1111111111111111,\"#46039f\"],[0.2222222222222222,\"#7201a8\"],[0.3333333333333333,\"#9c179e\"],[0.4444444444444444,\"#bd3786\"],[0.5555555555555556,\"#d8576b\"],[0.6666666666666666,\"#ed7953\"],[0.7777777777777778,\"#fb9f3a\"],[0.8888888888888888,\"#fdca26\"],[1.0,\"#f0f921\"]]}],\"heatmap\":[{\"type\":\"heatmap\",\"colorbar\":{\"outlinewidth\":0,\"ticks\":\"\"},\"colorscale\":[[0.0,\"#0d0887\"],[0.1111111111111111,\"#46039f\"],[0.2222222222222222,\"#7201a8\"],[0.3333333333333333,\"#9c179e\"],[0.4444444444444444,\"#bd3786\"],[0.5555555555555556,\"#d8576b\"],[0.6666666666666666,\"#ed7953\"],[0.7777777777777778,\"#fb9f3a\"],[0.8888888888888888,\"#fdca26\"],[1.0,\"#f0f921\"]]}],\"heatmapgl\":[{\"type\":\"heatmapgl\",\"colorbar\":{\"outlinewidth\":0,\"ticks\":\"\"},\"colorscale\":[[0.0,\"#0d0887\"],[0.1111111111111111,\"#46039f\"],[0.2222222222222222,\"#7201a8\"],[0.3333333333333333,\"#9c179e\"],[0.4444444444444444,\"#bd3786\"],[0.5555555555555556,\"#d8576b\"],[0.6666666666666666,\"#ed7953\"],[0.7777777777777778,\"#fb9f3a\"],[0.8888888888888888,\"#fdca26\"],[1.0,\"#f0f921\"]]}],\"contourcarpet\":[{\"type\":\"contourcarpet\",\"colorbar\":{\"outlinewidth\":0,\"ticks\":\"\"}}],\"contour\":[{\"type\":\"contour\",\"colorbar\":{\"outlinewidth\":0,\"ticks\":\"\"},\"colorscale\":[[0.0,\"#0d0887\"],[0.1111111111111111,\"#46039f\"],[0.2222222222222222,\"#7201a8\"],[0.3333333333333333,\"#9c179e\"],[0.4444444444444444,\"#bd3786\"],[0.5555555555555556,\"#d8576b\"],[0.6666666666666666,\"#ed7953\"],[0.7777777777777778,\"#fb9f3a\"],[0.8888888888888888,\"#fdca26\"],[1.0,\"#f0f921\"]]}],\"surface\":[{\"type\":\"surface\",\"colorbar\":{\"outlinewidth\":0,\"ticks\":\"\"},\"colorscale\":[[0.0,\"#0d0887\"],[0.1111111111111111,\"#46039f\"],[0.2222222222222222,\"#7201a8\"],[0.3333333333333333,\"#9c179e\"],[0.4444444444444444,\"#bd3786\"],[0.5555555555555556,\"#d8576b\"],[0.6666666666666666,\"#ed7953\"],[0.7777777777777778,\"#fb9f3a\"],[0.8888888888888888,\"#fdca26\"],[1.0,\"#f0f921\"]]}],\"mesh3d\":[{\"type\":\"mesh3d\",\"colorbar\":{\"outlinewidth\":0,\"ticks\":\"\"}}],\"scatter\":[{\"fillpattern\":{\"fillmode\":\"overlay\",\"size\":10,\"solidity\":0.2},\"type\":\"scatter\"}],\"parcoords\":[{\"type\":\"parcoords\",\"line\":{\"colorbar\":{\"outlinewidth\":0,\"ticks\":\"\"}}}],\"scatterpolargl\":[{\"type\":\"scatterpolargl\",\"marker\":{\"colorbar\":{\"outlinewidth\":0,\"ticks\":\"\"}}}],\"bar\":[{\"error_x\":{\"color\":\"#2a3f5f\"},\"error_y\":{\"color\":\"#2a3f5f\"},\"marker\":{\"line\":{\"color\":\"#E5ECF6\",\"width\":0.5},\"pattern\":{\"fillmode\":\"overlay\",\"size\":10,\"solidity\":0.2}},\"type\":\"bar\"}],\"scattergeo\":[{\"type\":\"scattergeo\",\"marker\":{\"colorbar\":{\"outlinewidth\":0,\"ticks\":\"\"}}}],\"scatterpolar\":[{\"type\":\"scatterpolar\",\"marker\":{\"colorbar\":{\"outlinewidth\":0,\"ticks\":\"\"}}}],\"histogram\":[{\"marker\":{\"pattern\":{\"fillmode\":\"overlay\",\"size\":10,\"solidity\":0.2}},\"type\":\"histogram\"}],\"scattergl\":[{\"type\":\"scattergl\",\"marker\":{\"colorbar\":{\"outlinewidth\":0,\"ticks\":\"\"}}}],\"scatter3d\":[{\"type\":\"scatter3d\",\"line\":{\"colorbar\":{\"outlinewidth\":0,\"ticks\":\"\"}},\"marker\":{\"colorbar\":{\"outlinewidth\":0,\"ticks\":\"\"}}}],\"scattermapbox\":[{\"type\":\"scattermapbox\",\"marker\":{\"colorbar\":{\"outlinewidth\":0,\"ticks\":\"\"}}}],\"scatterternary\":[{\"type\":\"scatterternary\",\"marker\":{\"colorbar\":{\"outlinewidth\":0,\"ticks\":\"\"}}}],\"scattercarpet\":[{\"type\":\"scattercarpet\",\"marker\":{\"colorbar\":{\"outlinewidth\":0,\"ticks\":\"\"}}}],\"carpet\":[{\"aaxis\":{\"endlinecolor\":\"#2a3f5f\",\"gridcolor\":\"white\",\"linecolor\":\"white\",\"minorgridcolor\":\"white\",\"startlinecolor\":\"#2a3f5f\"},\"baxis\":{\"endlinecolor\":\"#2a3f5f\",\"gridcolor\":\"white\",\"linecolor\":\"white\",\"minorgridcolor\":\"white\",\"startlinecolor\":\"#2a3f5f\"},\"type\":\"carpet\"}],\"table\":[{\"cells\":{\"fill\":{\"color\":\"#EBF0F8\"},\"line\":{\"color\":\"white\"}},\"header\":{\"fill\":{\"color\":\"#C8D4E3\"},\"line\":{\"color\":\"white\"}},\"type\":\"table\"}],\"barpolar\":[{\"marker\":{\"line\":{\"color\":\"#E5ECF6\",\"width\":0.5},\"pattern\":{\"fillmode\":\"overlay\",\"size\":10,\"solidity\":0.2}},\"type\":\"barpolar\"}],\"pie\":[{\"automargin\":true,\"type\":\"pie\"}]},\"layout\":{\"autotypenumbers\":\"strict\",\"colorway\":[\"#636efa\",\"#EF553B\",\"#00cc96\",\"#ab63fa\",\"#FFA15A\",\"#19d3f3\",\"#FF6692\",\"#B6E880\",\"#FF97FF\",\"#FECB52\"],\"font\":{\"color\":\"#2a3f5f\"},\"hovermode\":\"closest\",\"hoverlabel\":{\"align\":\"left\"},\"paper_bgcolor\":\"white\",\"plot_bgcolor\":\"#E5ECF6\",\"polar\":{\"bgcolor\":\"#E5ECF6\",\"angularaxis\":{\"gridcolor\":\"white\",\"linecolor\":\"white\",\"ticks\":\"\"},\"radialaxis\":{\"gridcolor\":\"white\",\"linecolor\":\"white\",\"ticks\":\"\"}},\"ternary\":{\"bgcolor\":\"#E5ECF6\",\"aaxis\":{\"gridcolor\":\"white\",\"linecolor\":\"white\",\"ticks\":\"\"},\"baxis\":{\"gridcolor\":\"white\",\"linecolor\":\"white\",\"ticks\":\"\"},\"caxis\":{\"gridcolor\":\"white\",\"linecolor\":\"white\",\"ticks\":\"\"}},\"coloraxis\":{\"colorbar\":{\"outlinewidth\":0,\"ticks\":\"\"}},\"colorscale\":{\"sequential\":[[0.0,\"#0d0887\"],[0.1111111111111111,\"#46039f\"],[0.2222222222222222,\"#7201a8\"],[0.3333333333333333,\"#9c179e\"],[0.4444444444444444,\"#bd3786\"],[0.5555555555555556,\"#d8576b\"],[0.6666666666666666,\"#ed7953\"],[0.7777777777777778,\"#fb9f3a\"],[0.8888888888888888,\"#fdca26\"],[1.0,\"#f0f921\"]],\"sequentialminus\":[[0.0,\"#0d0887\"],[0.1111111111111111,\"#46039f\"],[0.2222222222222222,\"#7201a8\"],[0.3333333333333333,\"#9c179e\"],[0.4444444444444444,\"#bd3786\"],[0.5555555555555556,\"#d8576b\"],[0.6666666666666666,\"#ed7953\"],[0.7777777777777778,\"#fb9f3a\"],[0.8888888888888888,\"#fdca26\"],[1.0,\"#f0f921\"]],\"diverging\":[[0,\"#8e0152\"],[0.1,\"#c51b7d\"],[0.2,\"#de77ae\"],[0.3,\"#f1b6da\"],[0.4,\"#fde0ef\"],[0.5,\"#f7f7f7\"],[0.6,\"#e6f5d0\"],[0.7,\"#b8e186\"],[0.8,\"#7fbc41\"],[0.9,\"#4d9221\"],[1,\"#276419\"]]},\"xaxis\":{\"gridcolor\":\"white\",\"linecolor\":\"white\",\"ticks\":\"\",\"title\":{\"standoff\":15},\"zerolinecolor\":\"white\",\"automargin\":true,\"zerolinewidth\":2},\"yaxis\":{\"gridcolor\":\"white\",\"linecolor\":\"white\",\"ticks\":\"\",\"title\":{\"standoff\":15},\"zerolinecolor\":\"white\",\"automargin\":true,\"zerolinewidth\":2},\"scene\":{\"xaxis\":{\"backgroundcolor\":\"#E5ECF6\",\"gridcolor\":\"white\",\"linecolor\":\"white\",\"showbackground\":true,\"ticks\":\"\",\"zerolinecolor\":\"white\",\"gridwidth\":2},\"yaxis\":{\"backgroundcolor\":\"#E5ECF6\",\"gridcolor\":\"white\",\"linecolor\":\"white\",\"showbackground\":true,\"ticks\":\"\",\"zerolinecolor\":\"white\",\"gridwidth\":2},\"zaxis\":{\"backgroundcolor\":\"#E5ECF6\",\"gridcolor\":\"white\",\"linecolor\":\"white\",\"showbackground\":true,\"ticks\":\"\",\"zerolinecolor\":\"white\",\"gridwidth\":2}},\"shapedefaults\":{\"line\":{\"color\":\"#2a3f5f\"}},\"annotationdefaults\":{\"arrowcolor\":\"#2a3f5f\",\"arrowhead\":0,\"arrowwidth\":1},\"geo\":{\"bgcolor\":\"white\",\"landcolor\":\"#E5ECF6\",\"subunitcolor\":\"white\",\"showland\":true,\"showlakes\":true,\"lakecolor\":\"white\"},\"title\":{\"x\":0.05},\"mapbox\":{\"style\":\"light\"}}},\"title\":{\"text\":\"Which are the most popular genres in Tv Series?\"},\"uniformtext\":{\"minsize\":8,\"mode\":\"hide\"},\"yaxis\":{\"title\":{\"text\":\"Quantity\",\"font\":{\"size\":14}}},\"xaxis\":{\"title\":{\"text\":\"Genres\",\"font\":{\"size\":14}}}},                        {\"responsive\": true}                    ).then(function(){\n",
              "                            \n",
              "var gd = document.getElementById('b82b05c7-6361-44ec-915a-0e2b27dec5ce');\n",
              "var x = new MutationObserver(function (mutations, observer) {{\n",
              "        var display = window.getComputedStyle(gd).display;\n",
              "        if (!display || display === 'none') {{\n",
              "            console.log([gd, 'removed!']);\n",
              "            Plotly.purge(gd);\n",
              "            observer.disconnect();\n",
              "        }}\n",
              "}});\n",
              "\n",
              "// Listen for the removal of the full notebook cells\n",
              "var notebookContainer = gd.closest('#notebook-container');\n",
              "if (notebookContainer) {{\n",
              "    x.observe(notebookContainer, {childList: true});\n",
              "}}\n",
              "\n",
              "// Listen for the clearing of the current output cell\n",
              "var outputEl = gd.closest('.output');\n",
              "if (outputEl) {{\n",
              "    x.observe(outputEl, {childList: true});\n",
              "}}\n",
              "\n",
              "                        })                };                            </script>        </div>\n",
              "</body>\n",
              "</html>"
            ]
          },
          "metadata": {}
        }
      ]
    },
    {
      "cell_type": "markdown",
      "source": [
        "##Languages\n"
      ],
      "metadata": {
        "id": "GWLtGYCgMltE"
      }
    },
    {
      "cell_type": "code",
      "source": [
        "df_series_lan = df_series.dropna(subset=['Languages'])"
      ],
      "metadata": {
        "id": "iHvxv0X2v51y"
      },
      "execution_count": null,
      "outputs": []
    },
    {
      "cell_type": "code",
      "source": [
        "ax= px.treemap(df_series_lan,path=[\"Languages\"])\n",
        "ax.show()"
      ],
      "metadata": {
        "colab": {
          "base_uri": "https://localhost:8080/",
          "height": 542
        },
        "id": "gnmMpcxOMr0Z",
        "outputId": "217490f1-ea41-4481-f941-ab1c7d6d2555"
      },
      "execution_count": null,
      "outputs": [
        {
          "output_type": "display_data",
          "data": {
            "text/html": [
              "<html>\n",
              "<head><meta charset=\"utf-8\" /></head>\n",
              "<body>\n",
              "    <div>            <script src=\"https://cdnjs.cloudflare.com/ajax/libs/mathjax/2.7.5/MathJax.js?config=TeX-AMS-MML_SVG\"></script><script type=\"text/javascript\">if (window.MathJax && window.MathJax.Hub && window.MathJax.Hub.Config) {window.MathJax.Hub.Config({SVG: {font: \"STIX-Web\"}});}</script>                <script type=\"text/javascript\">window.PlotlyConfig = {MathJaxConfig: 'local'};</script>\n",
              "        <script charset=\"utf-8\" src=\"https://cdn.plot.ly/plotly-2.35.2.min.js\"></script>                <div id=\"649f5499-6674-414d-a5cd-bd3732d9a3ff\" class=\"plotly-graph-div\" style=\"height:525px; width:100%;\"></div>            <script type=\"text/javascript\">                                    window.PLOTLYENV=window.PLOTLYENV || {};                                    if (document.getElementById(\"649f5499-6674-414d-a5cd-bd3732d9a3ff\")) {                    Plotly.newPlot(                        \"649f5499-6674-414d-a5cd-bd3732d9a3ff\",                        [{\"branchvalues\":\"total\",\"domain\":{\"x\":[0.0,1.0],\"y\":[0.0,1.0]},\"hovertemplate\":\"labels=%{label}\\u003cbr\\u003ecount=%{value}\\u003cbr\\u003eparent=%{parent}\\u003cbr\\u003eid=%{id}\\u003cextra\\u003e\\u003c\\u002fextra\\u003e\",\"ids\":[\"Arabic\",\"Arabic, French\",\"Arabic, French, English\",\"Arabic, Hebrew, Persian, English\",\"Arabic, Persian, English\",\"Assamese\",\"Bengali\",\"Bulgarian\",\"Cantonese\",\"Cantonese, English, Hokkien, Mandarin\",\"Cantonese, Mandarin, English\",\"Catalan\",\"Catalan, Spanish\",\"Chinese\",\"Chinese, Hokkien\",\"Croatian\",\"Danish\",\"Danish, English, Swedish\",\"Danish, German\",\"Danish, German, English, Czech\",\"Danish, Swedish\",\"Dutch\",\"Dutch, English\",\"Dutch, Flemish\",\"Dutch, German, English, French\",\"East-Greenlandic, English\",\"English\",\"English, Aboriginal\",\"English, Arabic\",\"English, Arabic, French, German, Italian, Mandarin, Spanish\",\"English, Arabic, German, Italian, Japanese, Spanish\",\"English, Arabic, Hebrew, Latin\",\"English, Arabic, Spanish\",\"English, Arabic, Spanish, Japanese, Berber languages, French, Russian, Japanese Sign Language\",\"English, British Sign Language, Welsh\",\"English, Bulgarian, Spanish, Russian, Mandarin, German, French\",\"English, Cantonese\",\"English, Cantonese, Mandarin, Mongolian, Persian, Italian, Uighur, Arabic\",\"English, Cornish\",\"English, Cree, Portuguese\",\"English, Dutch, Italian, French\",\"English, Dutch, Romanian\",\"English, Esperanto\",\"English, Filipino\",\"English, Finnish\",\"English, Flemish, French\",\"English, French\",\"English, French, Flemish, German, Danish, Swedish\",\"English, French, German\",\"English, French, German, Chechen, Japanese, Czech\",\"English, French, German, Italian\",\"English, French, German, Spanish\",\"English, French, Greek\",\"English, French, Korean\",\"English, French, Latin\",\"English, French, Mandarin\",\"English, French, Spanish\",\"English, German\",\"English, German, French\",\"English, German, French, Italian, Turkish\",\"English, German, French, Polish, Hungarian, Czech\",\"English, German, Italian, French, Spanish\",\"English, German, Korean, Spanish, American Sign Language, French, Russian, Hebrew\",\"English, German, Spanish, Latin\",\"English, Greek\",\"English, Greek, Arabic, Russian, Chinese, Spanish, Japanese\",\"English, Hebrew\",\"English, Hebrew, German, Ukrainian\",\"English, Hindi\",\"English, Hindi, French\",\"English, Hindi, Italian, Russian, Mandarin, Klingon\",\"English, Hungarian\",\"English, Icelandic, Afrikaans, Norwegian\",\"English, Irish\",\"English, Italian\",\"English, Italian, Hebrew\",\"English, Italian, Spanish\",\"English, Japanese\",\"English, Japanese, Mongolian\",\"English, Japanese, Spanish\",\"English, Japanese, Ukrainian\",\"English, Klingon\",\"English, Klingon, French\",\"English, Korean\",\"English, Korean, Chinese\",\"English, Korean, French\",\"English, Korean, French, Japanese, Czech, German\",\"English, Latin\",\"English, Latin, Hebrew\",\"English, Malay\",\"English, Mandarin\",\"English, Mandarin, French, Cantonese, Spanish\",\"English, Mandarin, Japanese, Russian, Korean\",\"English, Maori\",\"English, None\",\"English, Persian, Chinese\",\"English, Polish\",\"English, Polish, German, French\",\"English, Polish, Indonesian, Turkish\",\"English, Portuguese\",\"English, Portuguese, Spanish\",\"English, Pushto, Mandarin\",\"English, Russian\",\"English, Russian, Arabic\",\"English, Russian, German, Korean, Arabic, Spanish, Serbian, Mandarin\",\"English, Russian, Italian, French\",\"English, Sanskrit\",\"English, Scottish Gaelic\",\"English, Serbo-Croatian, Spanish, Czech\",\"English, Spanish\",\"English, Spanish, American Sign Language\",\"English, Spanish, Arabic\",\"English, Spanish, Arabic, Chinese, Korean, Chechen, Slovak\",\"English, Spanish, Arabic, German\",\"English, Spanish, Catalan, French, Italian, Portuguese\",\"English, Spanish, Central American Indian languages\",\"English, Spanish, Chinese\",\"English, Spanish, French\",\"English, Spanish, French, German, Mandarin\",\"English, Spanish, French, German, Portuguese\",\"English, Spanish, German\",\"English, Spanish, German, French, Mandarin, Korean\",\"English, Spanish, Hebrew, Arabic\",\"English, Spanish, Irish, Korean\",\"English, Spanish, Italian\",\"English, Spanish, Korean, Japanese, German, Portuguese\",\"English, Spanish, Polish\",\"English, Spanish, Russian, Khmer\",\"English, Spanish, Vietnamese\",\"English, Swedish\",\"English, Swedish, Russian\",\"English, Swiss German\",\"English, Tagalog\",\"English, Thai, German\",\"English, Thai, Spanish, Hebrew, French\",\"English, Welsh\",\"English, Zulu\",\"English, Zulu, Southern Sotho\",\"Filipino\",\"Filipino, Tagalog\",\"Finnish\",\"Finnish, German, English\",\"Flemish\",\"French\",\"French, Arabic, English\",\"French, Arabic, Greek,  Ancient (to 1453), Russian, English, Old English, Norse,  Old, Latin\",\"French, Czech\",\"French, English\",\"French, English, Spanish\",\"French, Flemish, English, Italian, Turkish, Arabic, Russian, Bulgarian, Mandarin, Polish\",\"French, German, Italian, Portuguese, Spanish, Japanese\",\"French, Italian\",\"French, Korean\",\"Gallegan, Spanish\",\"German\",\"German, Chinese, Japanese, Spanish, Korean, English\",\"German, English\",\"German, English, Finnish\",\"German, English, Spanish, French, Russian\",\"German, English, Yiddish, Arabic, Polish, Russian\",\"German, French, Norwegian\",\"German, Japanese, English\",\"German, Spanish, French, English\",\"Hausa, English\",\"Hebrew\",\"Hebrew, Arabic\",\"Hebrew, French, English\",\"Hebrew, Yiddish\",\"Hindi\",\"Hindi, Bengali\",\"Hindi, English\",\"Hindi, Japanese\",\"Hindi, Korean, Chinese, Cantonese\",\"Hokkien, Mandarin\",\"Hungarian\",\"Hungarian, Hebrew, Italian\",\"Icelandic\",\"Icelandic, English, Danish\",\"Indonesian\",\"Indonesian, English\",\"Indonesian, English, German\",\"Irish, English, Tlingit\",\"Italian\",\"Italian, English\",\"Italian, Latin, Occitan, English\",\"Italian, Neapolitan\",\"Italian, Yiddish, English, Romanian, Irish\",\"Japanese\",\"Japanese, Dutch, French, English, Cantonese\",\"Japanese, English\",\"Japanese, English, French\",\"Japanese, English, Spanish, Russian\",\"Japanese, French, English\",\"Japanese, Indonesian\",\"Japanese, Korean\",\"Japanese, Latin\",\"Japanese, Spanish\",\"Korean\",\"Korean, English\",\"Korean, English, Japanese, Hungarian, Mandarin\",\"Korean, English, Spanish\",\"Korean, Japanese\",\"Korean, Japanese, English\",\"Korean, Spanish, English\",\"Latin, Spanish, English\",\"Luxembourgish\",\"Malay\",\"Malayalam\",\"Mandarin\",\"Mandarin, Chaozhou\",\"Mandarin, English\",\"Mandarin, Hakka\",\"Mandarin, Japanese, English\",\"Mandarin, Min Nan\",\"Mandarin, Min Nan, English\",\"Mandarin, Russian, English\",\"Min Nan\",\"Min Nan, Mandarin\",\"Min Nan, Mandarin, Japanese\",\"None, English\",\"Norwegian\",\"Norwegian, English\",\"Norwegian, English, Dari\",\"Norwegian, English, Portuguese, Lithuanian, Nepali, Arabic\",\"Norwegian, English, Russian\",\"Norwegian, English, Swedish, German\",\"Persian\",\"Polish\",\"Polish, English, Spanish\",\"Polish, English, Vietnamese, Russian, Chinese\",\"Polish, English, Yiddish, Russian\",\"Portuguese\",\"Portuguese, Brazilian Sign Language\",\"Portuguese, English, Spanish\",\"Portuguese, Japanese\",\"Quechua, Spanish\",\"Romanian\",\"Romanian, English, French, Spanish\",\"Romanian, German\",\"Russian\",\"Russian, English, French, Zulu, Afrikaans, Swahili, Xhosa, Southern Sotho\",\"Russian, English, Japanese\",\"Serbian\",\"Serbo-Croatian\",\"Slovak\",\"Spanish\",\"Spanish, Arabic, Russian, English\",\"Spanish, Bable\",\"Spanish, English\",\"Spanish, English, French\",\"Spanish, English, French, Italian, Portuguese\",\"Spanish, English, Japanese\",\"Spanish, English, Korean\",\"Spanish, English, Portuguese\",\"Spanish, French, Chinese, Japanese, English\",\"Spanish, French, English\",\"Spanish, German\",\"Spanish, Hebrew\",\"Spanish, Italian\",\"Spanish, Japanese\",\"Spanish, Russian, Serbian, English\",\"Swedish\",\"Swedish, Danish\",\"Swedish, English\",\"Swedish, English, Danish\",\"Swedish, English, Italian, French\",\"Swedish, English, Russian\",\"Swedish, Finnish\",\"Swedish, French, English, Saami\",\"Swedish, Spanish\",\"Tagalog, Filipino\",\"Tagalog, Spanish, Italian, German, French, Japanese, English\",\"Tamil\",\"Telugu\",\"Thai\",\"Thai, English\",\"Turkish\",\"Turkish, Arabic, English, Swedish\",\"Turkish, English, German\",\"Turkish, English, Latin, Arabic, Greek, Italian\",\"Turkish, Flemish\",\"Turkish, Italian\",\"Urdu\",\"Urdu, English, Arabic\",\"Urdu, Hindi, Spanish, French, Korean, English\",\"Welsh, English\",\"Zulu\",\"Zulu, English, Southern Sotho, Tswana\"],\"labels\":[\"Arabic\",\"Arabic, French\",\"Arabic, French, English\",\"Arabic, Hebrew, Persian, English\",\"Arabic, Persian, English\",\"Assamese\",\"Bengali\",\"Bulgarian\",\"Cantonese\",\"Cantonese, English, Hokkien, Mandarin\",\"Cantonese, Mandarin, English\",\"Catalan\",\"Catalan, Spanish\",\"Chinese\",\"Chinese, Hokkien\",\"Croatian\",\"Danish\",\"Danish, English, Swedish\",\"Danish, German\",\"Danish, German, English, Czech\",\"Danish, Swedish\",\"Dutch\",\"Dutch, English\",\"Dutch, Flemish\",\"Dutch, German, English, French\",\"East-Greenlandic, English\",\"English\",\"English, Aboriginal\",\"English, Arabic\",\"English, Arabic, French, German, Italian, Mandarin, Spanish\",\"English, Arabic, German, Italian, Japanese, Spanish\",\"English, Arabic, Hebrew, Latin\",\"English, Arabic, Spanish\",\"English, Arabic, Spanish, Japanese, Berber languages, French, Russian, Japanese Sign Language\",\"English, British Sign Language, Welsh\",\"English, Bulgarian, Spanish, Russian, Mandarin, German, French\",\"English, Cantonese\",\"English, Cantonese, Mandarin, Mongolian, Persian, Italian, Uighur, Arabic\",\"English, Cornish\",\"English, Cree, Portuguese\",\"English, Dutch, Italian, French\",\"English, Dutch, Romanian\",\"English, Esperanto\",\"English, Filipino\",\"English, Finnish\",\"English, Flemish, French\",\"English, French\",\"English, French, Flemish, German, Danish, Swedish\",\"English, French, German\",\"English, French, German, Chechen, Japanese, Czech\",\"English, French, German, Italian\",\"English, French, German, Spanish\",\"English, French, Greek\",\"English, French, Korean\",\"English, French, Latin\",\"English, French, Mandarin\",\"English, French, Spanish\",\"English, German\",\"English, German, French\",\"English, German, French, Italian, Turkish\",\"English, German, French, Polish, Hungarian, Czech\",\"English, German, Italian, French, Spanish\",\"English, German, Korean, Spanish, American Sign Language, French, Russian, Hebrew\",\"English, German, Spanish, Latin\",\"English, Greek\",\"English, Greek, Arabic, Russian, Chinese, Spanish, Japanese\",\"English, Hebrew\",\"English, Hebrew, German, Ukrainian\",\"English, Hindi\",\"English, Hindi, French\",\"English, Hindi, Italian, Russian, Mandarin, Klingon\",\"English, Hungarian\",\"English, Icelandic, Afrikaans, Norwegian\",\"English, Irish\",\"English, Italian\",\"English, Italian, Hebrew\",\"English, Italian, Spanish\",\"English, Japanese\",\"English, Japanese, Mongolian\",\"English, Japanese, Spanish\",\"English, Japanese, Ukrainian\",\"English, Klingon\",\"English, Klingon, French\",\"English, Korean\",\"English, Korean, Chinese\",\"English, Korean, French\",\"English, Korean, French, Japanese, Czech, German\",\"English, Latin\",\"English, Latin, Hebrew\",\"English, Malay\",\"English, Mandarin\",\"English, Mandarin, French, Cantonese, Spanish\",\"English, Mandarin, Japanese, Russian, Korean\",\"English, Maori\",\"English, None\",\"English, Persian, Chinese\",\"English, Polish\",\"English, Polish, German, French\",\"English, Polish, Indonesian, Turkish\",\"English, Portuguese\",\"English, Portuguese, Spanish\",\"English, Pushto, Mandarin\",\"English, Russian\",\"English, Russian, Arabic\",\"English, Russian, German, Korean, Arabic, Spanish, Serbian, Mandarin\",\"English, Russian, Italian, French\",\"English, Sanskrit\",\"English, Scottish Gaelic\",\"English, Serbo-Croatian, Spanish, Czech\",\"English, Spanish\",\"English, Spanish, American Sign Language\",\"English, Spanish, Arabic\",\"English, Spanish, Arabic, Chinese, Korean, Chechen, Slovak\",\"English, Spanish, Arabic, German\",\"English, Spanish, Catalan, French, Italian, Portuguese\",\"English, Spanish, Central American Indian languages\",\"English, Spanish, Chinese\",\"English, Spanish, French\",\"English, Spanish, French, German, Mandarin\",\"English, Spanish, French, German, Portuguese\",\"English, Spanish, German\",\"English, Spanish, German, French, Mandarin, Korean\",\"English, Spanish, Hebrew, Arabic\",\"English, Spanish, Irish, Korean\",\"English, Spanish, Italian\",\"English, Spanish, Korean, Japanese, German, Portuguese\",\"English, Spanish, Polish\",\"English, Spanish, Russian, Khmer\",\"English, Spanish, Vietnamese\",\"English, Swedish\",\"English, Swedish, Russian\",\"English, Swiss German\",\"English, Tagalog\",\"English, Thai, German\",\"English, Thai, Spanish, Hebrew, French\",\"English, Welsh\",\"English, Zulu\",\"English, Zulu, Southern Sotho\",\"Filipino\",\"Filipino, Tagalog\",\"Finnish\",\"Finnish, German, English\",\"Flemish\",\"French\",\"French, Arabic, English\",\"French, Arabic, Greek,  Ancient (to 1453), Russian, English, Old English, Norse,  Old, Latin\",\"French, Czech\",\"French, English\",\"French, English, Spanish\",\"French, Flemish, English, Italian, Turkish, Arabic, Russian, Bulgarian, Mandarin, Polish\",\"French, German, Italian, Portuguese, Spanish, Japanese\",\"French, Italian\",\"French, Korean\",\"Gallegan, Spanish\",\"German\",\"German, Chinese, Japanese, Spanish, Korean, English\",\"German, English\",\"German, English, Finnish\",\"German, English, Spanish, French, Russian\",\"German, English, Yiddish, Arabic, Polish, Russian\",\"German, French, Norwegian\",\"German, Japanese, English\",\"German, Spanish, French, English\",\"Hausa, English\",\"Hebrew\",\"Hebrew, Arabic\",\"Hebrew, French, English\",\"Hebrew, Yiddish\",\"Hindi\",\"Hindi, Bengali\",\"Hindi, English\",\"Hindi, Japanese\",\"Hindi, Korean, Chinese, Cantonese\",\"Hokkien, Mandarin\",\"Hungarian\",\"Hungarian, Hebrew, Italian\",\"Icelandic\",\"Icelandic, English, Danish\",\"Indonesian\",\"Indonesian, English\",\"Indonesian, English, German\",\"Irish, English, Tlingit\",\"Italian\",\"Italian, English\",\"Italian, Latin, Occitan, English\",\"Italian, Neapolitan\",\"Italian, Yiddish, English, Romanian, Irish\",\"Japanese\",\"Japanese, Dutch, French, English, Cantonese\",\"Japanese, English\",\"Japanese, English, French\",\"Japanese, English, Spanish, Russian\",\"Japanese, French, English\",\"Japanese, Indonesian\",\"Japanese, Korean\",\"Japanese, Latin\",\"Japanese, Spanish\",\"Korean\",\"Korean, English\",\"Korean, English, Japanese, Hungarian, Mandarin\",\"Korean, English, Spanish\",\"Korean, Japanese\",\"Korean, Japanese, English\",\"Korean, Spanish, English\",\"Latin, Spanish, English\",\"Luxembourgish\",\"Malay\",\"Malayalam\",\"Mandarin\",\"Mandarin, Chaozhou\",\"Mandarin, English\",\"Mandarin, Hakka\",\"Mandarin, Japanese, English\",\"Mandarin, Min Nan\",\"Mandarin, Min Nan, English\",\"Mandarin, Russian, English\",\"Min Nan\",\"Min Nan, Mandarin\",\"Min Nan, Mandarin, Japanese\",\"None, English\",\"Norwegian\",\"Norwegian, English\",\"Norwegian, English, Dari\",\"Norwegian, English, Portuguese, Lithuanian, Nepali, Arabic\",\"Norwegian, English, Russian\",\"Norwegian, English, Swedish, German\",\"Persian\",\"Polish\",\"Polish, English, Spanish\",\"Polish, English, Vietnamese, Russian, Chinese\",\"Polish, English, Yiddish, Russian\",\"Portuguese\",\"Portuguese, Brazilian Sign Language\",\"Portuguese, English, Spanish\",\"Portuguese, Japanese\",\"Quechua, Spanish\",\"Romanian\",\"Romanian, English, French, Spanish\",\"Romanian, German\",\"Russian\",\"Russian, English, French, Zulu, Afrikaans, Swahili, Xhosa, Southern Sotho\",\"Russian, English, Japanese\",\"Serbian\",\"Serbo-Croatian\",\"Slovak\",\"Spanish\",\"Spanish, Arabic, Russian, English\",\"Spanish, Bable\",\"Spanish, English\",\"Spanish, English, French\",\"Spanish, English, French, Italian, Portuguese\",\"Spanish, English, Japanese\",\"Spanish, English, Korean\",\"Spanish, English, Portuguese\",\"Spanish, French, Chinese, Japanese, English\",\"Spanish, French, English\",\"Spanish, German\",\"Spanish, Hebrew\",\"Spanish, Italian\",\"Spanish, Japanese\",\"Spanish, Russian, Serbian, English\",\"Swedish\",\"Swedish, Danish\",\"Swedish, English\",\"Swedish, English, Danish\",\"Swedish, English, Italian, French\",\"Swedish, English, Russian\",\"Swedish, Finnish\",\"Swedish, French, English, Saami\",\"Swedish, Spanish\",\"Tagalog, Filipino\",\"Tagalog, Spanish, Italian, German, French, Japanese, English\",\"Tamil\",\"Telugu\",\"Thai\",\"Thai, English\",\"Turkish\",\"Turkish, Arabic, English, Swedish\",\"Turkish, English, German\",\"Turkish, English, Latin, Arabic, Greek, Italian\",\"Turkish, Flemish\",\"Turkish, Italian\",\"Urdu\",\"Urdu, English, Arabic\",\"Urdu, Hindi, Spanish, French, Korean, English\",\"Welsh, English\",\"Zulu\",\"Zulu, English, Southern Sotho, Tswana\"],\"name\":\"\",\"parents\":[\"\",\"\",\"\",\"\",\"\",\"\",\"\",\"\",\"\",\"\",\"\",\"\",\"\",\"\",\"\",\"\",\"\",\"\",\"\",\"\",\"\",\"\",\"\",\"\",\"\",\"\",\"\",\"\",\"\",\"\",\"\",\"\",\"\",\"\",\"\",\"\",\"\",\"\",\"\",\"\",\"\",\"\",\"\",\"\",\"\",\"\",\"\",\"\",\"\",\"\",\"\",\"\",\"\",\"\",\"\",\"\",\"\",\"\",\"\",\"\",\"\",\"\",\"\",\"\",\"\",\"\",\"\",\"\",\"\",\"\",\"\",\"\",\"\",\"\",\"\",\"\",\"\",\"\",\"\",\"\",\"\",\"\",\"\",\"\",\"\",\"\",\"\",\"\",\"\",\"\",\"\",\"\",\"\",\"\",\"\",\"\",\"\",\"\",\"\",\"\",\"\",\"\",\"\",\"\",\"\",\"\",\"\",\"\",\"\",\"\",\"\",\"\",\"\",\"\",\"\",\"\",\"\",\"\",\"\",\"\",\"\",\"\",\"\",\"\",\"\",\"\",\"\",\"\",\"\",\"\",\"\",\"\",\"\",\"\",\"\",\"\",\"\",\"\",\"\",\"\",\"\",\"\",\"\",\"\",\"\",\"\",\"\",\"\",\"\",\"\",\"\",\"\",\"\",\"\",\"\",\"\",\"\",\"\",\"\",\"\",\"\",\"\",\"\",\"\",\"\",\"\",\"\",\"\",\"\",\"\",\"\",\"\",\"\",\"\",\"\",\"\",\"\",\"\",\"\",\"\",\"\",\"\",\"\",\"\",\"\",\"\",\"\",\"\",\"\",\"\",\"\",\"\",\"\",\"\",\"\",\"\",\"\",\"\",\"\",\"\",\"\",\"\",\"\",\"\",\"\",\"\",\"\",\"\",\"\",\"\",\"\",\"\",\"\",\"\",\"\",\"\",\"\",\"\",\"\",\"\",\"\",\"\",\"\",\"\",\"\",\"\",\"\",\"\",\"\",\"\",\"\",\"\",\"\",\"\",\"\",\"\",\"\",\"\",\"\",\"\",\"\",\"\",\"\",\"\",\"\",\"\",\"\",\"\",\"\",\"\",\"\",\"\",\"\",\"\",\"\",\"\",\"\",\"\",\"\",\"\",\"\",\"\",\"\",\"\",\"\",\"\",\"\",\"\",\"\",\"\",\"\",\"\",\"\",\"\",\"\",\"\",\"\",\"\",\"\",\"\",\"\",\"\",\"\",\"\",\"\",\"\",\"\",\"\"],\"values\":[13,1,1,1,1,1,1,1,3,1,1,4,1,36,2,1,11,1,2,1,1,14,2,1,1,1,1334,2,3,1,1,1,1,1,1,1,2,1,1,1,1,1,1,1,1,1,20,1,1,1,1,1,1,2,1,1,4,5,3,1,1,1,1,1,1,1,2,1,1,1,1,1,1,1,7,1,1,22,1,2,1,3,1,1,1,1,1,1,1,1,1,1,1,1,1,1,1,1,1,4,1,1,3,1,1,1,4,1,1,21,1,1,1,1,1,1,1,2,1,1,1,1,2,1,1,9,1,1,1,1,1,1,1,1,1,2,1,1,3,2,2,1,1,56,1,1,1,14,1,1,1,3,1,1,67,1,7,1,1,1,1,1,1,1,4,1,1,1,35,1,2,1,1,1,1,1,2,1,2,1,1,1,14,2,1,1,1,445,1,78,1,1,1,1,1,1,1,245,7,1,1,1,1,1,1,1,4,1,65,1,4,1,1,11,1,1,1,1,1,2,9,3,1,1,1,1,2,16,1,1,1,35,1,1,1,1,1,1,1,7,1,1,1,1,1,115,1,1,10,1,1,1,1,1,1,1,1,1,2,1,1,20,1,4,1,1,1,2,1,1,2,1,2,3,33,1,19,1,1,1,1,1,3,1,1,2,1,1],\"type\":\"treemap\"}],                        {\"template\":{\"data\":{\"histogram2dcontour\":[{\"type\":\"histogram2dcontour\",\"colorbar\":{\"outlinewidth\":0,\"ticks\":\"\"},\"colorscale\":[[0.0,\"#0d0887\"],[0.1111111111111111,\"#46039f\"],[0.2222222222222222,\"#7201a8\"],[0.3333333333333333,\"#9c179e\"],[0.4444444444444444,\"#bd3786\"],[0.5555555555555556,\"#d8576b\"],[0.6666666666666666,\"#ed7953\"],[0.7777777777777778,\"#fb9f3a\"],[0.8888888888888888,\"#fdca26\"],[1.0,\"#f0f921\"]]}],\"choropleth\":[{\"type\":\"choropleth\",\"colorbar\":{\"outlinewidth\":0,\"ticks\":\"\"}}],\"histogram2d\":[{\"type\":\"histogram2d\",\"colorbar\":{\"outlinewidth\":0,\"ticks\":\"\"},\"colorscale\":[[0.0,\"#0d0887\"],[0.1111111111111111,\"#46039f\"],[0.2222222222222222,\"#7201a8\"],[0.3333333333333333,\"#9c179e\"],[0.4444444444444444,\"#bd3786\"],[0.5555555555555556,\"#d8576b\"],[0.6666666666666666,\"#ed7953\"],[0.7777777777777778,\"#fb9f3a\"],[0.8888888888888888,\"#fdca26\"],[1.0,\"#f0f921\"]]}],\"heatmap\":[{\"type\":\"heatmap\",\"colorbar\":{\"outlinewidth\":0,\"ticks\":\"\"},\"colorscale\":[[0.0,\"#0d0887\"],[0.1111111111111111,\"#46039f\"],[0.2222222222222222,\"#7201a8\"],[0.3333333333333333,\"#9c179e\"],[0.4444444444444444,\"#bd3786\"],[0.5555555555555556,\"#d8576b\"],[0.6666666666666666,\"#ed7953\"],[0.7777777777777778,\"#fb9f3a\"],[0.8888888888888888,\"#fdca26\"],[1.0,\"#f0f921\"]]}],\"heatmapgl\":[{\"type\":\"heatmapgl\",\"colorbar\":{\"outlinewidth\":0,\"ticks\":\"\"},\"colorscale\":[[0.0,\"#0d0887\"],[0.1111111111111111,\"#46039f\"],[0.2222222222222222,\"#7201a8\"],[0.3333333333333333,\"#9c179e\"],[0.4444444444444444,\"#bd3786\"],[0.5555555555555556,\"#d8576b\"],[0.6666666666666666,\"#ed7953\"],[0.7777777777777778,\"#fb9f3a\"],[0.8888888888888888,\"#fdca26\"],[1.0,\"#f0f921\"]]}],\"contourcarpet\":[{\"type\":\"contourcarpet\",\"colorbar\":{\"outlinewidth\":0,\"ticks\":\"\"}}],\"contour\":[{\"type\":\"contour\",\"colorbar\":{\"outlinewidth\":0,\"ticks\":\"\"},\"colorscale\":[[0.0,\"#0d0887\"],[0.1111111111111111,\"#46039f\"],[0.2222222222222222,\"#7201a8\"],[0.3333333333333333,\"#9c179e\"],[0.4444444444444444,\"#bd3786\"],[0.5555555555555556,\"#d8576b\"],[0.6666666666666666,\"#ed7953\"],[0.7777777777777778,\"#fb9f3a\"],[0.8888888888888888,\"#fdca26\"],[1.0,\"#f0f921\"]]}],\"surface\":[{\"type\":\"surface\",\"colorbar\":{\"outlinewidth\":0,\"ticks\":\"\"},\"colorscale\":[[0.0,\"#0d0887\"],[0.1111111111111111,\"#46039f\"],[0.2222222222222222,\"#7201a8\"],[0.3333333333333333,\"#9c179e\"],[0.4444444444444444,\"#bd3786\"],[0.5555555555555556,\"#d8576b\"],[0.6666666666666666,\"#ed7953\"],[0.7777777777777778,\"#fb9f3a\"],[0.8888888888888888,\"#fdca26\"],[1.0,\"#f0f921\"]]}],\"mesh3d\":[{\"type\":\"mesh3d\",\"colorbar\":{\"outlinewidth\":0,\"ticks\":\"\"}}],\"scatter\":[{\"fillpattern\":{\"fillmode\":\"overlay\",\"size\":10,\"solidity\":0.2},\"type\":\"scatter\"}],\"parcoords\":[{\"type\":\"parcoords\",\"line\":{\"colorbar\":{\"outlinewidth\":0,\"ticks\":\"\"}}}],\"scatterpolargl\":[{\"type\":\"scatterpolargl\",\"marker\":{\"colorbar\":{\"outlinewidth\":0,\"ticks\":\"\"}}}],\"bar\":[{\"error_x\":{\"color\":\"#2a3f5f\"},\"error_y\":{\"color\":\"#2a3f5f\"},\"marker\":{\"line\":{\"color\":\"#E5ECF6\",\"width\":0.5},\"pattern\":{\"fillmode\":\"overlay\",\"size\":10,\"solidity\":0.2}},\"type\":\"bar\"}],\"scattergeo\":[{\"type\":\"scattergeo\",\"marker\":{\"colorbar\":{\"outlinewidth\":0,\"ticks\":\"\"}}}],\"scatterpolar\":[{\"type\":\"scatterpolar\",\"marker\":{\"colorbar\":{\"outlinewidth\":0,\"ticks\":\"\"}}}],\"histogram\":[{\"marker\":{\"pattern\":{\"fillmode\":\"overlay\",\"size\":10,\"solidity\":0.2}},\"type\":\"histogram\"}],\"scattergl\":[{\"type\":\"scattergl\",\"marker\":{\"colorbar\":{\"outlinewidth\":0,\"ticks\":\"\"}}}],\"scatter3d\":[{\"type\":\"scatter3d\",\"line\":{\"colorbar\":{\"outlinewidth\":0,\"ticks\":\"\"}},\"marker\":{\"colorbar\":{\"outlinewidth\":0,\"ticks\":\"\"}}}],\"scattermapbox\":[{\"type\":\"scattermapbox\",\"marker\":{\"colorbar\":{\"outlinewidth\":0,\"ticks\":\"\"}}}],\"scatterternary\":[{\"type\":\"scatterternary\",\"marker\":{\"colorbar\":{\"outlinewidth\":0,\"ticks\":\"\"}}}],\"scattercarpet\":[{\"type\":\"scattercarpet\",\"marker\":{\"colorbar\":{\"outlinewidth\":0,\"ticks\":\"\"}}}],\"carpet\":[{\"aaxis\":{\"endlinecolor\":\"#2a3f5f\",\"gridcolor\":\"white\",\"linecolor\":\"white\",\"minorgridcolor\":\"white\",\"startlinecolor\":\"#2a3f5f\"},\"baxis\":{\"endlinecolor\":\"#2a3f5f\",\"gridcolor\":\"white\",\"linecolor\":\"white\",\"minorgridcolor\":\"white\",\"startlinecolor\":\"#2a3f5f\"},\"type\":\"carpet\"}],\"table\":[{\"cells\":{\"fill\":{\"color\":\"#EBF0F8\"},\"line\":{\"color\":\"white\"}},\"header\":{\"fill\":{\"color\":\"#C8D4E3\"},\"line\":{\"color\":\"white\"}},\"type\":\"table\"}],\"barpolar\":[{\"marker\":{\"line\":{\"color\":\"#E5ECF6\",\"width\":0.5},\"pattern\":{\"fillmode\":\"overlay\",\"size\":10,\"solidity\":0.2}},\"type\":\"barpolar\"}],\"pie\":[{\"automargin\":true,\"type\":\"pie\"}]},\"layout\":{\"autotypenumbers\":\"strict\",\"colorway\":[\"#636efa\",\"#EF553B\",\"#00cc96\",\"#ab63fa\",\"#FFA15A\",\"#19d3f3\",\"#FF6692\",\"#B6E880\",\"#FF97FF\",\"#FECB52\"],\"font\":{\"color\":\"#2a3f5f\"},\"hovermode\":\"closest\",\"hoverlabel\":{\"align\":\"left\"},\"paper_bgcolor\":\"white\",\"plot_bgcolor\":\"#E5ECF6\",\"polar\":{\"bgcolor\":\"#E5ECF6\",\"angularaxis\":{\"gridcolor\":\"white\",\"linecolor\":\"white\",\"ticks\":\"\"},\"radialaxis\":{\"gridcolor\":\"white\",\"linecolor\":\"white\",\"ticks\":\"\"}},\"ternary\":{\"bgcolor\":\"#E5ECF6\",\"aaxis\":{\"gridcolor\":\"white\",\"linecolor\":\"white\",\"ticks\":\"\"},\"baxis\":{\"gridcolor\":\"white\",\"linecolor\":\"white\",\"ticks\":\"\"},\"caxis\":{\"gridcolor\":\"white\",\"linecolor\":\"white\",\"ticks\":\"\"}},\"coloraxis\":{\"colorbar\":{\"outlinewidth\":0,\"ticks\":\"\"}},\"colorscale\":{\"sequential\":[[0.0,\"#0d0887\"],[0.1111111111111111,\"#46039f\"],[0.2222222222222222,\"#7201a8\"],[0.3333333333333333,\"#9c179e\"],[0.4444444444444444,\"#bd3786\"],[0.5555555555555556,\"#d8576b\"],[0.6666666666666666,\"#ed7953\"],[0.7777777777777778,\"#fb9f3a\"],[0.8888888888888888,\"#fdca26\"],[1.0,\"#f0f921\"]],\"sequentialminus\":[[0.0,\"#0d0887\"],[0.1111111111111111,\"#46039f\"],[0.2222222222222222,\"#7201a8\"],[0.3333333333333333,\"#9c179e\"],[0.4444444444444444,\"#bd3786\"],[0.5555555555555556,\"#d8576b\"],[0.6666666666666666,\"#ed7953\"],[0.7777777777777778,\"#fb9f3a\"],[0.8888888888888888,\"#fdca26\"],[1.0,\"#f0f921\"]],\"diverging\":[[0,\"#8e0152\"],[0.1,\"#c51b7d\"],[0.2,\"#de77ae\"],[0.3,\"#f1b6da\"],[0.4,\"#fde0ef\"],[0.5,\"#f7f7f7\"],[0.6,\"#e6f5d0\"],[0.7,\"#b8e186\"],[0.8,\"#7fbc41\"],[0.9,\"#4d9221\"],[1,\"#276419\"]]},\"xaxis\":{\"gridcolor\":\"white\",\"linecolor\":\"white\",\"ticks\":\"\",\"title\":{\"standoff\":15},\"zerolinecolor\":\"white\",\"automargin\":true,\"zerolinewidth\":2},\"yaxis\":{\"gridcolor\":\"white\",\"linecolor\":\"white\",\"ticks\":\"\",\"title\":{\"standoff\":15},\"zerolinecolor\":\"white\",\"automargin\":true,\"zerolinewidth\":2},\"scene\":{\"xaxis\":{\"backgroundcolor\":\"#E5ECF6\",\"gridcolor\":\"white\",\"linecolor\":\"white\",\"showbackground\":true,\"ticks\":\"\",\"zerolinecolor\":\"white\",\"gridwidth\":2},\"yaxis\":{\"backgroundcolor\":\"#E5ECF6\",\"gridcolor\":\"white\",\"linecolor\":\"white\",\"showbackground\":true,\"ticks\":\"\",\"zerolinecolor\":\"white\",\"gridwidth\":2},\"zaxis\":{\"backgroundcolor\":\"#E5ECF6\",\"gridcolor\":\"white\",\"linecolor\":\"white\",\"showbackground\":true,\"ticks\":\"\",\"zerolinecolor\":\"white\",\"gridwidth\":2}},\"shapedefaults\":{\"line\":{\"color\":\"#2a3f5f\"}},\"annotationdefaults\":{\"arrowcolor\":\"#2a3f5f\",\"arrowhead\":0,\"arrowwidth\":1},\"geo\":{\"bgcolor\":\"white\",\"landcolor\":\"#E5ECF6\",\"subunitcolor\":\"white\",\"showland\":true,\"showlakes\":true,\"lakecolor\":\"white\"},\"title\":{\"x\":0.05},\"mapbox\":{\"style\":\"light\"}}},\"legend\":{\"tracegroupgap\":0},\"margin\":{\"t\":60}},                        {\"responsive\": true}                    ).then(function(){\n",
              "                            \n",
              "var gd = document.getElementById('649f5499-6674-414d-a5cd-bd3732d9a3ff');\n",
              "var x = new MutationObserver(function (mutations, observer) {{\n",
              "        var display = window.getComputedStyle(gd).display;\n",
              "        if (!display || display === 'none') {{\n",
              "            console.log([gd, 'removed!']);\n",
              "            Plotly.purge(gd);\n",
              "            observer.disconnect();\n",
              "        }}\n",
              "}});\n",
              "\n",
              "// Listen for the removal of the full notebook cells\n",
              "var notebookContainer = gd.closest('#notebook-container');\n",
              "if (notebookContainer) {{\n",
              "    x.observe(notebookContainer, {childList: true});\n",
              "}}\n",
              "\n",
              "// Listen for the clearing of the current output cell\n",
              "var outputEl = gd.closest('.output');\n",
              "if (outputEl) {{\n",
              "    x.observe(outputEl, {childList: true});\n",
              "}}\n",
              "\n",
              "                        })                };                            </script>        </div>\n",
              "</body>\n",
              "</html>"
            ]
          },
          "metadata": {}
        }
      ]
    },
    {
      "cell_type": "code",
      "source": [
        "df_movie_lan = df_movie.dropna(subset=['Languages'])"
      ],
      "metadata": {
        "id": "YVY3A7JvMuA-"
      },
      "execution_count": null,
      "outputs": []
    },
    {
      "cell_type": "code",
      "source": [
        "ax= px.treemap(df_movie_lan,path=[\"Languages\"])\n",
        "ax.show()"
      ],
      "metadata": {
        "colab": {
          "base_uri": "https://localhost:8080/",
          "height": 542
        },
        "id": "--IT0C6cMxVi",
        "outputId": "a9ca5665-4dbe-45ce-e8d2-b04ba0455462"
      },
      "execution_count": null,
      "outputs": [
        {
          "output_type": "display_data",
          "data": {
            "text/html": [
              "<html>\n",
              "<head><meta charset=\"utf-8\" /></head>\n",
              "<body>\n",
              "    <div>            <script src=\"https://cdnjs.cloudflare.com/ajax/libs/mathjax/2.7.5/MathJax.js?config=TeX-AMS-MML_SVG\"></script><script type=\"text/javascript\">if (window.MathJax && window.MathJax.Hub && window.MathJax.Hub.Config) {window.MathJax.Hub.Config({SVG: {font: \"STIX-Web\"}});}</script>                <script type=\"text/javascript\">window.PlotlyConfig = {MathJaxConfig: 'local'};</script>\n",
              "        <script charset=\"utf-8\" src=\"https://cdn.plot.ly/plotly-2.35.2.min.js\"></script>                <div id=\"93285348-ddca-423e-9ad7-bf9c76912c83\" class=\"plotly-graph-div\" style=\"height:525px; width:100%;\"></div>            <script type=\"text/javascript\">                                    window.PLOTLYENV=window.PLOTLYENV || {};                                    if (document.getElementById(\"93285348-ddca-423e-9ad7-bf9c76912c83\")) {                    Plotly.newPlot(                        \"93285348-ddca-423e-9ad7-bf9c76912c83\",                        [{\"branchvalues\":\"total\",\"domain\":{\"x\":[0.0,1.0],\"y\":[0.0,1.0]},\"hovertemplate\":\"labels=%{label}\\u003cbr\\u003ecount=%{value}\\u003cbr\\u003eparent=%{parent}\\u003cbr\\u003eid=%{id}\\u003cextra\\u003e\\u003c\\u002fextra\\u003e\",\"ids\":[\"Afrikaans\",\"Afrikaans, English\",\"Afrikaans, German, Swiss German\",\"Akan\",\"Akan, English\",\"Albanian, French\",\"American Sign Language, English\",\"American Sign Language, English, Spanish\",\"Amharic\",\"Arabic\",\"Arabic, English\",\"Arabic, English, Dutch\",\"Arabic, English, French\",\"Arabic, French\",\"Arabic, French, English\",\"Arabic, German, English\",\"Arabic, Hebrew\",\"Arabic, Italian\",\"Arabic, Nyanja, English\",\"Arabic, Swedish\",\"Aromanian\",\"Assamese\",\"Basque\",\"Basque, English, Spanish\",\"Basque, Spanish, Catalan\",\"Belarusian, Polish, Russian, Ukrainian\",\"Bengali\",\"Bengali, English\",\"Bengali, English, Mandarin\",\"Bengali, Hindi, English\",\"Bhojpuri, Punjabi, Hindi\",\"Brazilian Sign Language\",\"Cantonese\",\"Cantonese, Chinese, English\",\"Cantonese, English\",\"Cantonese, English, Filipino, Afrikaans\",\"Cantonese, English, French\",\"Cantonese, English, Hindi\",\"Cantonese, English, Hokkien, Mandarin\",\"Cantonese, English, Japanese\",\"Cantonese, English, Mandarin\",\"Cantonese, English, Mandarin, Dutch\",\"Cantonese, English, Mandarin, French\",\"Cantonese, English, Mandarin, Japanese\",\"Cantonese, English, Mandarin, Malay, Thai\",\"Cantonese, English, Mandarin, Thai\",\"Cantonese, English, Thai\",\"Cantonese, English, Vietnamese\",\"Cantonese, Japanese\",\"Cantonese, Japanese, English\",\"Cantonese, Japanese, Mandarin\",\"Cantonese, Mandarin\",\"Cantonese, Mandarin, English\",\"Cantonese, Mandarin, English, Korean, French, Turkish\",\"Cantonese, Mandarin, English, Portuguese\",\"Cantonese, Mandarin, English, Thai\",\"Cantonese, Mandarin, Japanese\",\"Cantonese, Mandarin, Korean\",\"Cantonese, Mandarin, Thai\",\"Cantonese, Min Nan, Mandarin, English\",\"Cantonese, Russian\",\"Cantonese, Shanghainese, Tagalog, English, Mandarin\",\"Catalan, English, Spanish\",\"Catalan, French, Spanish\",\"Catalan, Spanish\",\"Chinese\",\"Chinese, Cantonese\",\"Chinese, English\",\"Chinese, English, Japanese\",\"Chinese, Tagalog, Filipino\",\"Croatian\",\"Czech\",\"Czech, English, German, Russian\",\"Czech, English, Kinyarwanda\",\"Czech, English, Zulu\",\"Czech, French\",\"Czech, German\",\"Czech, German, English\",\"Czech, German, English, Slovak\",\"Czech, Hebrew\",\"Czech, Polish\",\"Czech, Russian\",\"Czech, Russian, German\",\"Czech, Russian, Slovak\",\"Czech, Slovak\",\"Czech, Slovak, English, French\",\"Czech, Slovak, Portuguese\",\"Czech, Vietnamese\",\"Danish\",\"Danish, Arabic\",\"Danish, English\",\"Danish, English, French\",\"Danish, English, German, French\",\"Danish, English, Italian\",\"Danish, English, Italian, Spanish\",\"Danish, English, Polish\",\"Danish, English, Serbian, German\",\"Danish, English, Tagalog\",\"Danish, English, Thai\",\"Danish, Faroese\",\"Danish, German\",\"Danish, Italian, English\",\"Danish, Norwegian\",\"Danish, Polish, Russian\",\"Danish, Serbian\",\"Danish, Swedish\",\"Danish, Swedish, Arabic\",\"Danish, Swedish, English, Spanish\",\"Danish, Swedish, Serbian\",\"Danish, Turkish, English, Chinese\",\"Dari, English, Pushto, Russian, Urdu\",\"Divehi\",\"Dutch\",\"Dutch, Arabic, French, Turkish, English\",\"Dutch, English\",\"Dutch, English, French\",\"Dutch, English, Hindi, French, German\",\"Dutch, English, Sranan\",\"Dutch, English, Swedish, Russian, German, French\",\"Dutch, Flemish, French, English, Spanish\",\"Dutch, French\",\"Dutch, German\",\"Dutch, Russian, German, Polish\",\"Dutch, Sranan\",\"Dutch, Yiddish, English\",\"English\",\"English, Aboriginal\",\"English, Aboriginal, French\",\"English, Aboriginal, French, Portuguese\",\"English, Afrikaans\",\"English, Afrikaans, French\",\"English, Afrikaans, Maori, Zulu, Xhosa, Southern Sotho\",\"English, Afrikaans, Zulu\",\"English, Akan\",\"English, Albanian, Spanish\",\"English, Algonquin, Inuktitut\",\"English, American Sign Language\",\"English, American Sign Language, Estonian\",\"English, American Sign Language, Indonesian\",\"English, American Sign Language, Latin\",\"English, American Sign Language, Portuguese\",\"English, American Sign Language, Russian\",\"English, American Sign Language, Russian, French\",\"English, Amharic\",\"English, Apache languages\",\"English, Arabic\",\"English, Arabic, Acholi\",\"English, Arabic, Albanian, Romanian\",\"English, Arabic, French\",\"English, Arabic, French, Italian\",\"English, Arabic, French, Spanish\",\"English, Arabic, French, Spanish, Dutch\",\"English, Arabic, German\",\"English, Arabic, Latin, Italian\",\"English, Arabic, Persian\",\"English, Arabic, Punjabi, Hindi\",\"English, Arabic, Pushto\",\"English, Arabic, Spanish\",\"English, Arabic, Spanish, Japanese, Berber languages, French, Russian, Japanese Sign Language\",\"English, Arabic, Swedish\",\"English, Arabic, Turkish\",\"English, Arabic, Turkish, French\",\"English, Arabic, Urdu, Pushto, French\",\"English, Aramaic\",\"English, Armenian\",\"English, Armenian, French\",\"English, Belarusian\",\"English, Bosnian, Serbian, German\",\"English, Bulgarian, Scots\",\"English, Bulgarian, Spanish, Russian, Mandarin, German, French\",\"English, Burmese, Thai\",\"English, Cantonese\",\"English, Cantonese, French, German, Hindi, Turkish\",\"English, Cantonese, Hindi\",\"English, Cantonese, Korean\",\"English, Cantonese, Mandarin\",\"English, Cantonese, Mandarin, Portuguese\",\"English, Cantonese, Russian, Hindi, Spanish\",\"English, Catalan, Spanish\",\"English, Cheyenne, French\",\"English, Chinese\",\"English, Chinese, Arabic\",\"English, Chinese, German\",\"English, Chinese, Italian\",\"English, Chinese, Japanese\",\"English, Chinese, Khmer\",\"English, Chinese, Malay\",\"English, Chinese, Russian\",\"English, Chinese, Spanish, French, Ukrainian\",\"English, Chinese, Teochew, Sinhalese\",\"English, Cornish\",\"English, Croatian, Chinese\",\"English, Czech\",\"English, Czech, Russian, Greek, Afrikaans\",\"English, Czech, Slovak\",\"English, Danish\",\"English, Danish, Italian\",\"English, Danish, Malay, Dutch, Indonesian, Finnish, Luxembourgish, French Sign Language\",\"English, Danish, Spanish\",\"English, Dari, Russian, Spanish, Uzbek\",\"English, Dari, Russian, Urdu, Hebrew, Arabic\",\"English, Dinka\",\"English, Dutch\",\"English, Dutch, French, Italian, Mandarin\",\"English, Dutch, Spanish\",\"English, East-Greenlandic\",\"English, Egyptian (Ancient)\",\"English, Egyptian (Ancient), Arabic, Chinese, Hebrew, Hungarian\",\"English, Esperanto\",\"English, Estonian\",\"English, Filipino\",\"English, Filipino, Tagalog\",\"English, Finnish\",\"English, Finnish, French, Vietnamese\",\"English, Finnish, Japanese, Hungarian, Russian, Somali, Spanish\",\"English, Flemish\",\"English, French\",\"English, French, Albanian, Arabic\",\"English, French, Albanian, Spanish, Hungarian\",\"English, French, Arabic\",\"English, French, Arabic, German\",\"English, French, Arabic, German, Dutch\",\"English, French, Arabic, Luxembourgish\",\"English, French, Arabic, Russian, Spanish\",\"English, French, Arabic, Turkish\",\"English, French, Arabic, Yoruba, Swahili, Chinese\",\"English, French, Chinese\",\"English, French, Czech\",\"English, French, German\",\"English, French, German, Arabic\",\"English, French, German, Czech\",\"English, French, German, Dutch, Italian, Yoruba\",\"English, French, German, Hebrew, Italian, Spanish\",\"English, French, German, Italian\",\"English, French, German, Italian, Arabic, Spanish\",\"English, French, German, Italian, Japanese\",\"English, French, German, Serbian\",\"English, French, German, Spanish, Yiddish\",\"English, French, German, Turkish, Italian, Swedish\",\"English, French, Greek\",\"English, French, Hungarian\",\"English, French, Italian\",\"English, French, Italian, German, Hungarian\",\"English, French, Italian, German, Romany\",\"English, French, Italian, Russian, Spanish\",\"English, French, Italian, Turkish\",\"English, French, Japanese\",\"English, French, Japanese, Mandarin, Latin\",\"English, French, Japanese, Russian, Spanish\",\"English, French, Kinyarwanda\",\"English, French, Klingon, Korean, Arabic\",\"English, French, Latin\",\"English, French, Latin, Arabic\",\"English, French, Latin, German\",\"English, French, Latin, Portuguese, Spanish\",\"English, French, Latin, Scottish Gaelic, Italian\",\"English, French, Latin, Spanish\",\"English, French, Mandarin\",\"English, French, Mandarin, German\",\"English, French, Portuguese\",\"English, French, Portuguese, German\",\"English, French, Romanian, Latin\",\"English, French, Russian\",\"English, French, Russian, German, Mandarin\",\"English, French, Scottish Gaelic\",\"English, French, Scottish Gaelic, Latin\",\"English, French, Spanish\",\"English, French, Spanish, German\",\"English, French, Spanish, Hindi\",\"English, French, Spanish, Korean\",\"English, French, Spanish, Russian\",\"English, French, Swahili\",\"English, French, Swedish, German\",\"English, French, Swedish, Thai, Serbian\",\"English, French, Thai, Khmer, Mandarin\",\"English, French, Tibetan, Mandarin, Russian, Hindi, Portuguese, Latin, Italian, Spanish\",\"English, French, Turkish, Hebrew, Arabic, Spanish\",\"English, French, Ukrainian\",\"English, French, Ukrainian, Russian, Hungarian\",\"English, French, Vietnamese\",\"English, Georgian, Russian\",\"English, German\",\"English, German, Arabic, French, Cantonese\",\"English, German, Arabic, Russian, French\",\"English, German, Arabic, Urdu\",\"English, German, Cantonese, Japanese, Hungarian, Arabic\",\"English, German, Czech\",\"English, German, Czech, Latin, French\",\"English, German, Dutch, Danish, French, American Sign Language\",\"English, German, Dutch, French, Spanish, Chinese, Greek,  Ancient (to 1453), North American Indian\",\"English, German, Dutch, Polish, Latin\",\"English, German, French\",\"English, German, French, Chinese\",\"English, German, French, Hebrew, Arabic\",\"English, German, French, Hebrew, Arabic, Italian, Greek, Russian, Dutch\",\"English, German, French, Italian\",\"English, German, French, Latin\",\"English, German, French, Russian\",\"English, German, French, Russian, Spanish\",\"English, German, French, Spanish, Latin\",\"English, German, French, Swedish\",\"English, German, Greek, Arabic\",\"English, German, Greek, Latin\",\"English, German, Hebrew\",\"English, German, Hebrew, Spanish, Arabic, Nepali\",\"English, German, Italian\",\"English, German, Italian, French, Spanish\",\"English, German, Italian, Japanese\",\"English, German, Italian, Japanese, French, Hebrew\",\"English, German, Italian, Mandarin, Spanish\",\"English, German, Italian, Romanian, Spanish, Arabic, Georgian, Russian, Serbian\",\"English, German, Italian, Russian\",\"English, German, Japanese, Serbian\",\"English, German, Japanese, Serbo-Croatian\",\"English, German, Latin\",\"English, German, Mandarin, Tibetan, Hindi\",\"English, German, Norwegian\",\"English, German, Persian, Hebrew, Kurdish, French\",\"English, German, Romanian\",\"English, German, Russian\",\"English, German, Russian, French, Flemish, Dutch\",\"English, German, Russian, French, Spanish\",\"English, German, Russian, Swedish\",\"English, German, Spanish\",\"English, German, Spanish, Russian, Czech\",\"English, German, Spanish, Serbian\",\"English, German, Swedish, Mongolian\",\"English, German, Thai\",\"English, German, Turkish, Arabic\",\"English, German, Ukrainian\",\"English, German, Vietnamese, Swahili\",\"English, German, Xhosa, Russian, Romanian, Hindi\",\"English, Greek\",\"English, Greek, French\",\"English, Greek, German, Latin\",\"English, Greek, Italian\",\"English, Greek, Spanish\",\"English, Greenlandic\",\"English, Hausa\",\"English, Hausa, Ibo\",\"English, Hawaiian\",\"English, Hawaiian, German, Japanese\",\"English, Hawaiian, Mandarin\",\"English, Hawaiian, Russian\",\"English, Hebrew\",\"English, Hebrew, Arabic\",\"English, Hebrew, Arabic, Italian\",\"English, Hebrew, German\",\"English, Hebrew, German, Polish, Latin\",\"English, Hebrew, Mandarin\",\"English, Hebrew, Russian\",\"English, Hindi\",\"English, Hindi, Bengali\",\"English, Hindi, Bengali, Assamese, Manipuri\",\"English, Hindi, French, German\",\"English, Hindi, French, German, Mandarin\",\"English, Hindi, Japanese\",\"English, Hindi, Manipuri, Xhosa\",\"English, Hindi, Marathi\",\"English, Hindi, Parsee\",\"English, Hindi, Sanskrit\",\"English, Hindi, Tamil, Gujarati\",\"English, Hindi, Urdu\",\"English, Hmong\",\"English, Hokkien, Mandarin\",\"English, Hungarian\",\"English, Hungarian, French, Korean\",\"English, Hungarian, German\",\"English, Hungarian, Italian\",\"English, Hungarian, Polish, French\",\"English, Hungarian, Russian\",\"English, Hungarian, Spanish, French\",\"English, Ibo\",\"English, Ibo, Yoruba, Hausa\",\"English, Icelandic\",\"English, Icelandic, Italian\",\"English, Icelandic, Portuguese\",\"English, Icelandic, Swahili, Arabic\",\"English, Indonesian\",\"English, Indonesian, French\",\"English, Inuktitut\",\"English, Irish\",\"English, Irish, Aboriginal\",\"English, Irish, Chinese, Hebrew, Yiddish\",\"English, Irish, Chinese, Latin\",\"English, Irish, French\",\"English, Irish, French, Latin\",\"English, Irish, Russian, Icelandic\",\"English, Italian\",\"English, Italian, Arabic\",\"English, Italian, Bosnian\",\"English, Italian, Cantonese\",\"English, Italian, Czech\",\"English, Italian, French\",\"English, Italian, French, Danish\",\"English, Italian, French, German\",\"English, Italian, French, German, Hebrew\",\"English, Italian, French, Japanese\",\"English, Italian, German\",\"English, Italian, German, French\",\"English, Italian, German, Latin\",\"English, Italian, Hebrew\",\"English, Italian, Japanese\",\"English, Italian, Latin\",\"English, Italian, Latin, French, Swiss German, German, Chinese, Spanish, Polish\",\"English, Italian, Latin, Spanish, German\",\"English, Italian, Mandarin, Cantonese, German, Czech\",\"English, Italian, Polish, French\",\"English, Italian, Portuguese\",\"English, Italian, Russian\",\"English, Italian, Russian, German\",\"English, Italian, Spanish\",\"English, Italian, Spanish, German\",\"English, Italian, Spanish, Japanese\",\"English, Italian, Spanish, Latin, Sicilian\",\"English, Italian, Swahili, German\",\"English, Italian, Swedish\",\"English, Japanese\",\"English, Japanese, Cantonese, Mandarin\",\"English, Japanese, Chinese\",\"English, Japanese, Chinese, Arabic\",\"English, Japanese, Chinese, Spanish\",\"English, Japanese, French\",\"English, Japanese, French, Arabic\",\"English, Japanese, French, German, Spanish, Russian\",\"English, Japanese, German, French\",\"English, Japanese, Italian\",\"English, Japanese, Italian, Spanish\",\"English, Japanese, Latin\",\"English, Japanese, Mandarin\",\"English, Japanese, Portuguese\",\"English, Japanese, Russian, Spanish\",\"English, Japanese, Spanish\",\"English, Japanese, Ukrainian\",\"English, Japanese, Vietnamese\",\"English, Khmer\",\"English, Klingon\",\"English, Klingon, German\",\"English, Korean\",\"English, Korean, Estonian\",\"English, Korean, French\",\"English, Korean, French, Japanese, Czech, German\",\"English, Korean, French, Vietnamese\",\"English, Korean, German\",\"English, Korean, Icelandic, Russian\",\"English, Korean, Japanese, Thai, Malay, Cantonese, Mandarin\",\"English, Korean, Russian, Spanish\",\"English, Korean, Spanish\",\"English, Lao, Vietnamese\",\"English, Latin\",\"English, Latin, French\",\"English, Latin, Greek, French, German, Arabic, Kurdish\",\"English, Latin, Irish\",\"English, Latin, Spanish, French\",\"English, Latvian\",\"English, Lingala, French\",\"English, Malay\",\"English, Malay, Hokkien, Mandarin\",\"English, Malay, Hokkien, Mandarin, Malayalam\",\"English, Malayalam, Tamil, Hindi\",\"English, Maltese, French, Turkish\",\"English, Mandarin\",\"English, Mandarin, Cantonese\",\"English, Mandarin, Cantonese, Hokkien, French, Malay\",\"English, Mandarin, Cantonese, Russian\",\"English, Mandarin, French\",\"English, Mandarin, French, Italian, German, Spanish, Korean\",\"English, Mandarin, French, Spanish, Russian\",\"English, Mandarin, German\",\"English, Mandarin, Hokkien\",\"English, Mandarin, Japanese\",\"English, Mandarin, Japanese, Cantonese\",\"English, Mandarin, Malay\",\"English, Mandarin, Malay, Cantonese, Tamil\",\"English, Mandarin, Russian\",\"English, Mandarin, Sanskrit\",\"English, Mandarin, Spanish\",\"English, Mandarin, Spanish, French\",\"English, Mandarin, Spanish, Russian\",\"English, Mandarin, Swiss German, Cantonese, Russian\",\"English, Mandarin, Tagalog, Hokkien, Cantonese, Malay\",\"English, Mandarin, Tamil, Malay\",\"English, Mandarin, Thai\",\"English, Mandarin, Thai, Japanese\",\"English, Maya, Spanish, Greek, German\",\"English, Mende, Afrikaans\",\"English, Min Nan, Mandarin\",\"English, Mohawk\",\"English, Mongolian\",\"English, Nama\",\"English, Navajo, Mandarin\",\"English, North American Indian\",\"English, North American Indian, Spanish\",\"English, Norwegian\",\"English, Norwegian, Danish\",\"English, Norwegian, Latin\",\"English, Norwegian, Spanish, French\",\"English, Nyanja, Afrikaans, Zulu, Xhosa, Southern Sotho\",\"English, Old English\",\"English, Papiamento\",\"English, Pawnee, French\",\"English, Persian\",\"English, Persian, German, Arabic\",\"English, Persian, Ukrainian\",\"English, Persian, Urdu, Arabic, Kurdish, Hindi, Hungarian\",\"English, Polish\",\"English, Polish, Cantonese, Italian\",\"English, Polish, German, Arabic, Egyptian (Ancient)\",\"English, Polish, German, French, Russian\",\"English, Polish, Latin\",\"English, Polish, Russian, German\",\"English, Polish, Spanish\",\"English, Polish, Yiddish\",\"English, Polynesian, Spanish\",\"English, Portuguese\",\"English, Portuguese, French\",\"English, Portuguese, French, Japanese\",\"English, Portuguese, Hindi, Mandarin, German\",\"English, Portuguese, Italian\",\"English, Portuguese, Japanese\",\"English, Portuguese, Spanish\",\"English, Portuguese, Spanish, French\",\"English, Portuguese, Spanish, Italian\",\"English, Portuguese, Spanish, Italian, French\",\"English, Portuguese, Swedish\",\"English, Portuguese, Thai, Bulgarian\",\"English, Portuguese, Tupi, Spanish, German\",\"English, Punjabi\",\"English, Pushto\",\"English, Pushto, Arabic\",\"English, Pushto, Dari, French\",\"English, Pushto, Mandarin\",\"English, Quenya, Old English, Sindarin\",\"English, Romanian\",\"English, Romanian, Arabic\",\"English, Romanian, Bulgarian\",\"English, Romanian, Czech\",\"English, Romanian, German, Korean\",\"English, Romanian, Hebrew, Polish, Armenian\",\"English, Romanian, Hebrew, Yiddish, German\",\"English, Romanian, Russian\",\"English, Romanian, Russian, Serbian, Ukrainian\",\"English, Romanian, Spanish\",\"English, Romany, Romanian, Ukrainian\",\"English, Russian\",\"English, Russian, Chinese\",\"English, Russian, Czech\",\"English, Russian, Dutch\",\"English, Russian, Filipino, Ukrainian\",\"English, Russian, French\",\"English, Russian, French, German\",\"English, Russian, French, Hawaiian, Spanish\",\"English, Russian, French, Italian\",\"English, Russian, French, Japanese, Italian, Dutch, Spanish\",\"English, Russian, French, Lithuanian, German\",\"English, Russian, French, Persian, Korean\",\"English, Russian, German, Italian\",\"English, Russian, Hindi\",\"English, Russian, Hindi, Punjabi\",\"English, Russian, Hungarian\",\"English, Russian, Hungarian, French, Turkish\",\"English, Russian, Indonesian, Filipino\",\"English, Russian, Italian\",\"English, Russian, Italian, Mandarin, French\",\"English, Russian, Japanese, Indonesian, Mandarin, Italian, Arabic, Latin\",\"English, Russian, Korean\",\"English, Russian, Mandarin\",\"English, Russian, Maori, Italian\",\"English, Russian, Polish\",\"English, Russian, Polish, Tibetan, Mongolian\",\"English, Russian, Punjabi, Arabic\",\"English, Russian, Romanian, Slovenian\",\"English, Russian, Serbo-Croatian\",\"English, Russian, Sign Languages\",\"English, Russian, Spanish\",\"English, Russian, Spanish, Chinese\",\"English, Russian, Spanish, Korean, Greek\",\"English, Russian, Ukrainian, German, Arabic\",\"English, Saami\",\"English, Sanskrit\",\"English, Scots\",\"English, Scottish Gaelic\",\"English, Scottish Gaelic, German\",\"English, Serbian\",\"English, Serbian, German, Italian, French\",\"English, Serbian, Spanish, French, Bosnian\",\"English, Serbo-Croatian\",\"English, Serbo-Croatian, Mandarin, French\",\"English, Serbo-Croatian, Russian\",\"English, Serbo-Croatian, Spanish, Czech\",\"English, Sign Languages\",\"English, Sindarin\",\"English, Sindarin, Old English\",\"English, Sinhalese, Hindi\",\"English, Sioux, Pawnee\",\"English, Somali\",\"English, Somali, Arabic\",\"English, Spanish\",\"English, Spanish, American Sign Language, Arabic, Somali\",\"English, Spanish, Arabic\",\"English, Spanish, Arabic, Polish, Turkish, Russian, Italian, Persian\",\"English, Spanish, Armenian\",\"English, Spanish, Bulgarian\",\"English, Spanish, Cantonese\",\"English, Spanish, Cantonese, Italian\",\"English, Spanish, Catalan\",\"English, Spanish, Chinese\",\"English, Spanish, Chinese, Russian, Portuguese\",\"English, Spanish, Dutch\",\"English, Spanish, Finnish\",\"English, Spanish, Flemish\",\"English, Spanish, French\",\"English, Spanish, French, Afrikaans, Ukrainian\",\"English, Spanish, French, American Sign Language\",\"English, Spanish, French, Arabic\",\"English, Spanish, French, German\",\"English, Spanish, French, Korean\",\"English, Spanish, French, Romanian\",\"English, Spanish, French, Russian\",\"English, Spanish, French, Swahili, German\",\"English, Spanish, French, Yoruba\",\"English, Spanish, German\",\"English, Spanish, German, Russian\",\"English, Spanish, Greek\",\"English, Spanish, Greek,  Ancient (to 1453)\",\"English, Spanish, Hebrew\",\"English, Spanish, Hebrew, Arabic\",\"English, Spanish, Hindi\",\"English, Spanish, Hungarian, Czech\",\"English, Spanish, Icelandic\",\"English, Spanish, Italian\",\"English, Spanish, Italian, French\",\"English, Spanish, Italian, French, Swiss German, German\",\"English, Spanish, Italian, Inuktitut, Hindi\",\"English, Spanish, Italian, Latin, Portuguese, French, German\",\"English, Spanish, Italian, Polish, French\",\"English, Spanish, Italian, Russian, Basque, Arabic\",\"English, Spanish, Japanese\",\"English, Spanish, Japanese, French\",\"English, Spanish, Japanese, Russian, Chinese\",\"English, Spanish, Korean\",\"English, Spanish, Latin\",\"English, Spanish, Latin, Italian\",\"English, Spanish, Mandarin\",\"English, Spanish, Norwegian, French, Korean, Greek, Vietnamese\",\"English, Spanish, Papiamento, Russian, Latin\",\"English, Spanish, Polish\",\"English, Spanish, Portuguese\",\"English, Spanish, Portuguese, Mandarin, Tagalog, Russian\",\"English, Spanish, Quechua\",\"English, Spanish, Russian\",\"English, Spanish, Russian, German\",\"English, Spanish, Russian, German, Lingala\",\"English, Spanish, Russian, Italian\",\"English, Spanish, Russian, Italian, French\",\"English, Spanish, Russian, Japanese, Cantonese, Dutch\",\"English, Spanish, Sanskrit\",\"English, Spanish, Sioux\",\"English, Spanish, Swedish\",\"English, Spanish, Tibetan\",\"English, Spanish, Ukrainian, Korean\",\"English, Spanish, Urdu, Russian\",\"English, Swahili\",\"English, Swahili, French, Spanish, Bosnian\",\"English, Swedish\",\"English, Swedish, French, Spanish, German\",\"English, Swedish, French, Vietnamese, Russian, Hebrew\",\"English, Swedish, German\",\"English, Swedish, German, Arabic, Egyptian (Ancient)\",\"English, Swedish, German, Russian\",\"English, Swedish, Italian, French\",\"English, Swedish, Saami\",\"English, Swedish, Spanish\",\"English, Syriac, German, Greek, Hebrew, Latin, Aramaic\",\"English, Tagalog, Russian\",\"English, Tamil\",\"English, Tamil, Hindi, French\",\"English, Thai\",\"English, Thai, Arabic, Spanish\",\"English, Thai, French\",\"English, Thai, Spanish\",\"English, Thai, Spanish, French\",\"English, Thai, Spanish, Hebrew, French\",\"English, Thai, Swedish\",\"English, Tok Pisin, Japanese, Greek\",\"English, Turkish\",\"English, Turkish, Arabic\",\"English, Turkish, Greek, Russian\",\"English, Turkmen, Cantonese, Italian, Spanish, Ukrainian, French\",\"English, Ukrainian\",\"English, Ukrainian, French, Italian, Spanish\",\"English, Ukrainian, German, French\",\"English, Ukrainian, German, Spanish, Russian, French, Arabic, Turkish\",\"English, Ukrainian, Russian\",\"English, Urdu\",\"English, Urdu, Arabic, Persian, French, Mandarin\",\"English, Vietnamese\",\"English, Vietnamese, French\",\"English, Vietnamese, Khmer\",\"English, Vietnamese, Shoshoni\",\"English, Welsh\",\"English, Welsh, Italian, Latin, Russian, Hungarian\",\"English, Wolof, French, Yoruba\",\"English, Xhosa\",\"English, Yiddish\",\"English, Yiddish, Hebrew\",\"English, Yoruba\",\"English, Zulu\",\"Filipino\",\"Filipino, English\",\"Filipino, Tagalog\",\"Filipino, Tagalog, English\",\"Filipino, Tagalog, English, French\",\"Filipino, Tagalog, English, Spanish\",\"Filipino, Tagalog, Japanese\",\"Filipino, Tagalog, Japanese, English\",\"Filipino, Tagalog, Japanese, Korean\",\"Filipino, Tagalog, Spanish\",\"Finnish\",\"Finnish, English\",\"Flemish, Dutch\",\"French\",\"French, Afrikaans, English, Dutch\",\"French, Arabic\",\"French, Arabic, English\",\"French, Breton\",\"French, Cantonese, English, Hakka\",\"French, Chinese\",\"French, English\",\"French, English, Arabic, Italian, German\",\"French, English, Arabic, Spanish\",\"French, English, Chinese\",\"French, English, German\",\"French, English, German, Italian\",\"French, English, Italian\",\"French, English, Italian, German, Yiddish\",\"French, English, Italian, Russian, Arabic\",\"French, English, Japanese\",\"French, English, Latin\",\"French, English, Polish\",\"French, English, Polish, German\",\"French, English, Russian\",\"French, English, Russian, Arabic, Japanese\",\"French, English, Russian, German\",\"French, English, Russian, Swahili, Danish\",\"French, English, Sinhalese, Norwegian\",\"French, English, Spanish\",\"French, English, Spanish, Arabic\",\"French, English, Spanish, Chinese, Yiddish\",\"French, English, Spanish, German\",\"French, English, Spanish, Japanese, Arabic, Mandarin\",\"French, English, Swedish\",\"French, English, Ukrainian\",\"French, Flemish\",\"French, German\",\"French, German, English\",\"French, German, English, Polish\",\"French, Greek\",\"French, Greenlandic, English\",\"French, Hungarian, Italian, English\",\"French, Hungarian, Italian, Swiss German, Latin\",\"French, Italian\",\"French, Italian, English\",\"French, Italian, English, Arabic\",\"French, Italian, English, German, Greek, Spanish\",\"French, Japanese\",\"French, Japanese, German\",\"French, Latin\",\"French, Lingala\",\"French, Lingala, Portuguese\",\"French, Mandarin\",\"French, Polish, Russian\",\"French, Polish, Spanish, English\",\"French, Portuguese\",\"French, Portuguese, English\",\"French, Romanian\",\"French, Romanian, Malinka, French Sign Language, English\",\"French, Romanian, Polish\",\"French, Russian\",\"French, Russian, English\",\"French, Russian, Hebrew\",\"French, Spanish\",\"French, Spanish, English\",\"French, Spanish, German\",\"French, Spanish, Italian, English\",\"French, Swedish, English\",\"French, Thai, English\",\"French, Wolof, Arabic, Spanish, English\",\"French, Wolof, Fulah, Spanish\",\"French, Wolof, Romanian, Norwegian\",\"Georgian\",\"Georgian, Russian\",\"German\",\"German, Arabic, Bosnian, Serbo-Croatian\",\"German, Cantonese\",\"German, Czech\",\"German, Czech, Latin\",\"German, English\",\"German, English, Danish, Italian, French, Wolof\",\"German, English, Dutch, Albanian\",\"German, English, Finnish\",\"German, English, French\",\"German, English, French, Latin\",\"German, English, French, Swedish, Arabic\",\"German, English, Polish, Swedish\",\"German, English, Spanish, Danish\",\"German, English, Spanish, French\",\"German, English, Spanish, Turkish\",\"German, English, Thai\",\"German, English, Yiddish, Spanish, French\",\"German, French\",\"German, French, Chinese\",\"German, French, English\",\"German, French, Latin\",\"German, Hebrew, Yiddish\",\"German, Hungarian\",\"German, Italian\",\"German, Italian, English\",\"German, Japanese, English\",\"German, Japanese, Romanian\",\"German, Latin\",\"German, Polish\",\"German, Portuguese, English, Italian\",\"German, Romanian\",\"German, Romany\",\"German, Russian\",\"German, Russian, English\",\"German, Russian, French, English\",\"German, Spanish\",\"German, Swahili, English\",\"German, Swiss German\",\"German, Turkish\",\"German, Vietnamese\",\"German, Yiddish, Hebrew\",\"Greek\",\"Greek, American Sign Language, English, Portuguese, Spanish, German, French\",\"Gujarati\",\"Gujarati, Hindi\",\"Haitian, English, French\",\"Hebrew\",\"Hebrew, English, Arabic, Russian\",\"Hebrew, English, Spanish\",\"Hindi\",\"Hindi, Assamese\",\"Hindi, Awadhi\",\"Hindi, Bengali\",\"Hindi, Bengali, English\",\"Hindi, English\",\"Hindi, English, Bengali, Tamil\",\"Hindi, English, Bengali, Urdu, Bhojpuri\",\"Hindi, English, Chinese, Spanish\",\"Hindi, English, French\",\"Hindi, English, French, Japanese, Dutch\",\"Hindi, English, German\",\"Hindi, English, Kannada, Marathi\",\"Hindi, English, Marathi, Gujarati\",\"Hindi, English, Marathi, Malayalam\",\"Hindi, English, Marathi, Tamil\",\"Hindi, English, Punjabi\",\"Hindi, English, Russian\",\"Hindi, English, Spanish\",\"Hindi, English, Urdu, Russian\",\"Hindi, German, Italian\",\"Hindi, Gujarati, English\",\"Hindi, Gujarati, Tamil, English\",\"Hindi, Japanese\",\"Hindi, Japanese, Arabic\",\"Hindi, Japanese, Malay\",\"Hindi, Mandarin, English, Italian, French, Arabic\",\"Hindi, Marathi, Bengali, English, Portuguese\",\"Hindi, Marathi, English\",\"Hindi, Marathi, Gujarati, Tulu, English\",\"Hindi, Punjabi\",\"Hindi, Punjabi, English\",\"Hindi, Punjabi, Gujarati, English\",\"Hindi, Russian\",\"Hindi, Tamil, English, French\",\"Hindi, Urdu\",\"Hindi, Urdu, English\",\"Hindi, Urdu, Marathi, English\",\"Hokkien, English, Cantonese\",\"Hokkien, Mandarin\",\"Hungarian\",\"Hungarian, English\",\"Hungarian, English, French\",\"Hungarian, English, German\",\"Hungarian, French\",\"Hungarian, French, English\",\"Hungarian, German, Russian\",\"Hungarian, Japanese\",\"Hungarian, Russian\",\"Hungarian, Spanish, English\",\"Hungarian, Yiddish, German, Russian, Polish, French, Greek, Slovak, Hebrew\",\"Ibo, English\",\"Icelandic, English\",\"Indonesian\",\"Indonesian, Arabic\",\"Indonesian, Dutch\",\"Indonesian, Dutch, English\",\"Indonesian, English\",\"Indonesian, English, Mandarin, French\",\"Indonesian, German\",\"Indonesian, German, Dutch, English\",\"Indonesian, Japanese, English, Sign Languages\",\"Indonesian, Malay, English\",\"Indonesian, Malay, English, Vietnamese\",\"Inuktitut, English\",\"Italian\",\"Italian, Arabic\",\"Italian, English\",\"Italian, English, Croatian\",\"Italian, English, French\",\"Italian, English, German\",\"Italian, English, Latin, Greek,  Ancient (to 1453)\",\"Italian, English, Norwegian\",\"Italian, English, Portuguese\",\"Italian, English, Spanish\",\"Italian, French\",\"Italian, French, English\",\"Italian, French, German\",\"Italian, German\",\"Italian, German, English\",\"Italian, German, French, English\",\"Italian, German, French, English, Spanish\",\"Italian, Japanese\",\"Italian, Japanese, Spanish, Chinese\",\"Italian, Latvian, Neapolitan\",\"Italian, Neapolitan, English, French, German, Russian\",\"Italian, Romany, English\",\"Italian, Russian, English, German, Latin\",\"Italian, Russian, French, Arabic\",\"Italian, Russian, Latin\",\"Italian, Sicilian\",\"Italian, Spanish\",\"Italian, Spanish, German, English\",\"Italian, Spanish, Hebrew, Romanian\",\"Japanese\",\"Japanese, Bulgarian\",\"Japanese, Cantonese\",\"Japanese, Cantonese, English\",\"Japanese, English\",\"Japanese, English, Aboriginal\",\"Japanese, English, Chinese\",\"Japanese, English, French\",\"Japanese, English, Georgian, Hindi\",\"Japanese, English, Hindi\",\"Japanese, English, Indonesian\",\"Japanese, English, Italian, Cantonese\",\"Japanese, English, Korean\",\"Japanese, English, Mandarin\",\"Japanese, English, Portuguese\",\"Japanese, English, Russian\",\"Japanese, Esperanto\",\"Japanese, Finnish\",\"Japanese, French, English\",\"Japanese, French, Italian, Thai, English\",\"Japanese, German, Italian, French, English\",\"Japanese, Indonesian\",\"Japanese, Japanese Sign Language\",\"Japanese, Japanese Sign Language, English, German\",\"Japanese, Korean\",\"Japanese, Korean, Italian, Hindi\",\"Japanese, Latin\",\"Japanese, Latvian\",\"Japanese, Mandarin\",\"Japanese, Mandarin, Russian, Korean, Portuguese, Persian, Indonesian, Hindi, Italian, Dutch, Arabic, French, Latin, English\",\"Japanese, Mandarin, Tagalog\",\"Japanese, Persian, Mandarin\",\"Japanese, Russian\",\"Japanese, Spanish\",\"Japanese, Thai\",\"Kannada\",\"Kannada, Hindi, English\",\"Kazakh, Russian\",\"Khmer, English, French\",\"Kikuyu, English\",\"Korean\",\"Korean, Arabic\",\"Korean, Cantonese, English, Mandarin, Japanese\",\"Korean, Chinese\",\"Korean, English\",\"Korean, English, Chinese\",\"Korean, English, Filipino\",\"Korean, English, French\",\"Korean, English, French, Japanese\",\"Korean, English, German\",\"Korean, English, German, Vietnamese\",\"Korean, English, Japanese\",\"Korean, English, Mandarin\",\"Korean, English, Mandarin, Japanese\",\"Korean, English, Tagalog\",\"Korean, English, Thai\",\"Korean, English, Thai, Russian, Mandarin\",\"Korean, Filipino, English\",\"Korean, French\",\"Korean, German, English, Japanese\",\"Korean, Hawaiian\",\"Korean, Hindi\",\"Korean, Hindi, Japanese, Spanish, Catalan, Basque\",\"Korean, Italian\",\"Korean, Japanese\",\"Korean, Japanese, Czech, English\",\"Korean, Japanese, English\",\"Korean, Japanese, English, Hindi\",\"Korean, Japanese, Mandarin\",\"Korean, Japanese, Mandarin, English\",\"Korean, Korean Sign Language\",\"Korean, Latin\",\"Korean, Mandarin\",\"Korean, Mandarin, Dutch\",\"Korean, Mandarin, English\",\"Korean, Mandarin, Japanese\",\"Korean, Mandarin, Mongolian\",\"Korean, Russian\",\"Korean, Russian, English\",\"Korean, Tagalog, English\",\"Korean, Thai\",\"Korean, Vietnamese\",\"Kurdish, Persian, Turkish, English\",\"Latvian\",\"Lithuanian\",\"Malay\",\"Malay, English\",\"Malay, English, Mandarin\",\"Malay, Indonesian\",\"Malay, Indonesian, Tagalog\",\"Malay, Tamil, English, Cantonese, Sign Languages\",\"Malay, Vietnamese, English\",\"Malayalam\",\"Malayalam, Tamil\",\"Mandarin\",\"Mandarin, Arabic, English\",\"Mandarin, Cantonese\",\"Mandarin, Cantonese, English\",\"Mandarin, Cantonese, English, Italian, Korean\",\"Mandarin, Cantonese, English, Korean\",\"Mandarin, Cantonese, English, Thai, Burmese\",\"Mandarin, Cantonese, Hokkien, English\",\"Mandarin, Cantonese, Japanese\",\"Mandarin, Cantonese, Japanese, English, French, German\",\"Mandarin, Cantonese, Thai\",\"Mandarin, Cantonese, Thai, English, Korean\",\"Mandarin, Chinese\",\"Mandarin, Chinese, Cantonese, English\",\"Mandarin, Chinese, English, Cantonese\",\"Mandarin, Chinese, Hokkien, English\",\"Mandarin, English\",\"Mandarin, English, Cantonese\",\"Mandarin, English, French\",\"Mandarin, English, French, Japanese, German, Spanish\",\"Mandarin, English, Hokkien\",\"Mandarin, English, Hokkien, Malay\",\"Mandarin, English, Min Nan\",\"Mandarin, English, Mongolian\",\"Mandarin, English, Russian, French, Japanese, Korean, Indonesian, Hindi\",\"Mandarin, Hokkien\",\"Mandarin, Hokkien, Cantonese\",\"Mandarin, Hokkien, Cantonese, English, Portuguese\",\"Mandarin, Hokkien, English\",\"Mandarin, Hokkien, English, Cantonese\",\"Mandarin, Japanese\",\"Mandarin, Japanese, Cantonese, English, Min Nan, Hokkien\",\"Mandarin, Japanese, English\",\"Mandarin, Japanese, English, Shanghainese, Hindi, Cantonese\",\"Mandarin, Korean, English\",\"Mandarin, Min Nan\",\"Mandarin, Min Nan, Shanghainese, English\",\"Mandarin, Min Nan, Spanish, English\",\"Mandarin, Mongolian\",\"Mandarin, Portuguese, Spanish, French, German\",\"Mandarin, Russian\",\"Mandarin, Shanghainese\",\"Mandarin, Tagalog, English, Hokkien\",\"Mandarin, Tibetan\",\"Maori\",\"Marathi\",\"Marathi, Gujarati, English, Hindi\",\"Marathi, Hindi\",\"Min Nan, Mandarin, English\",\"Min Nan, Mandarin, Hokkien\",\"Nahuatl, Spanish\",\"Neapolitan, Italian, Mandarin, French\",\"None, Danish\",\"None, English\",\"None, French\",\"None, Italian\",\"None, Swedish\",\"Norwegian\",\"Norwegian, Albanian\",\"Norwegian, Danish, English\",\"Norwegian, Danish, Russian, English\",\"Norwegian, English\",\"Norwegian, English, French, Swedish, Spanish\",\"Norwegian, French, Swedish\",\"Norwegian, German, English, Russian, Finnish\",\"Norwegian, German, English, Saami\",\"Norwegian, Swedish\",\"Persian\",\"Persian, English\",\"Polish\",\"Polish, English\",\"Polish, English, Italian\",\"Polish, English, Kinyarwanda\",\"Polish, English, Russian, German, Latvian, Hebrew\",\"Polish, English, Spanish\",\"Polish, English, Swedish\",\"Polish, French\",\"Polish, French, Croatian, German, Russian, Serbian, Italian\",\"Polish, French, English\",\"Polish, German\",\"Polish, German, Czech\",\"Polish, German, Yiddish, Ukrainian, Russian\",\"Polish, Italian\",\"Polish, Italian, Czech\",\"Polish, Romany\",\"Polish, Romany, Latin, English\",\"Polish, Russian, English, Arabic\",\"Polish, Russian, German, Ukrainian\",\"Polish, Slovak, Czech, German, French\",\"Polish, Spanish\",\"Polish, Tatar, Ukrainian, Turkish\",\"Portuguese\",\"Portuguese, Danish, English\",\"Portuguese, English\",\"Portuguese, English, Hungarian, Chinese\",\"Portuguese, English, Mandarin, Persian\",\"Portuguese, English, Spanish\",\"Portuguese, English, Spanish, German\",\"Portuguese, French\",\"Portuguese, French, English, Italian\",\"Portuguese, German\",\"Portuguese, Italian, French, English, Spanish\",\"Portuguese, Italian, German, English, Spanish\",\"Portuguese, Japanese\",\"Portuguese, Spanish\",\"Punjabi\",\"Punjabi, Hindi\",\"Quechua, Spanish\",\"Romanian\",\"Romanian, Arabic, Finnish, English, Acholi\",\"Romanian, English\",\"Romanian, English, Russian, Georgian\",\"Romanian, English, Spanish\",\"Romanian, English, Spanish, French\",\"Romanian, Hungarian\",\"Romanian, Hungarian, Spanish\",\"Romanian, Italian\",\"Romanian, Romany, English\",\"Romanian, Russian\",\"Romany, Serbian, Bulgarian\",\"Russian\",\"Russian, Armenian, English\",\"Russian, English\",\"Russian, English, French, Spanish\",\"Russian, English, Spanish, Hebrew, Italian\",\"Russian, French\",\"Russian, Georgian\",\"Russian, German\",\"Russian, German, Italian, Polish, English, French\",\"Russian, Latin\",\"Russian, Romanian\",\"Russian, Spanish\",\"Russian, Spanish, Finnish\",\"Russian, Tajik, Portuguese\",\"Sanskrit\",\"Scanian, Swedish\",\"Serbo-Croatian, German\",\"Sign Languages, Chinese\",\"Slovak\",\"Slovak, Czech\",\"Slovak, Yiddish, German, Latin\",\"Southern Sotho\",\"Spanish\",\"Spanish, Afrikaans\",\"Spanish, Arabic, English\",\"Spanish, Armenian, English, Italian, Mandarin\",\"Spanish, Basque\",\"Spanish, Basque, English\",\"Spanish, Catalan\",\"Spanish, Catalan, English\",\"Spanish, Catalan, French\",\"Spanish, English\",\"Spanish, English, Basque\",\"Spanish, English, Basque, Catalan\",\"Spanish, English, Cantonese, Mandarin\",\"Spanish, English, Catalan\",\"Spanish, English, Italian, German\",\"Spanish, English, Mandarin, French, Hindi\",\"Spanish, English, Spanish Sign Language\",\"Spanish, English, Vietnamese\",\"Spanish, French\",\"Spanish, French, Afrikaans\",\"Spanish, French, English\",\"Spanish, French, Swahili, English, Italian\",\"Spanish, Gallegan, Latin\",\"Spanish, German\",\"Spanish, German, Basque\",\"Spanish, German, English, French\",\"Spanish, German, Hebrew\",\"Spanish, Hawaiian, English\",\"Spanish, Hebrew, Yiddish\",\"Spanish, Italian\",\"Spanish, Italian, Bulgarian\",\"Spanish, Italian, English\",\"Spanish, Italian, English, French, Portuguese, Catalan\",\"Spanish, Japanese\",\"Spanish, Kriolu, Aragonese\",\"Spanish, Latin\",\"Spanish, Mixtec\",\"Spanish, Mixtec, English, Japanese, German, French, Norwegian\",\"Spanish, Polish\",\"Spanish, Portuguese\",\"Spanish, Portuguese, French, English\",\"Spanish, Portuguese, Italian\",\"Spanish, Quechua, English\",\"Spanish, Quechua, Mapudungun\",\"Spanish, Spanish\",\"Spanish, Tarahumara\",\"Swahili\",\"Swedish\",\"Swedish, Danish\",\"Swedish, Danish, Norwegian\",\"Swedish, Dutch\",\"Swedish, English\",\"Swedish, English, Estonian\",\"Swedish, English, Finnish, Russian, Norwegian, Danish, Spanish\",\"Swedish, English, German\",\"Swedish, English, German, Norwegian\",\"Swedish, English, German, Russian\",\"Swedish, English, Italian\",\"Swedish, English, Thai\",\"Swedish, English, Yiddish\",\"Swedish, Finnish\",\"Swedish, French\",\"Swedish, German\",\"Swedish, German, English, Spanish, French, Russian\",\"Swedish, Norwegian\",\"Swedish, Norwegian, English, Thai\",\"Swedish, Norwegian, German, English\",\"Swedish, Persian\",\"Swedish, Spanish\",\"Swedish, Ukrainian, English\",\"Swiss German, German\",\"Swiss German, German, English, Italian\",\"Tagalog, Filipino\",\"Tagalog, Filipino, English\",\"Tagalog, Filipino, Sign Languages\",\"Tamil\",\"Tamil, French, English\",\"Tamil, Hindi\",\"Tamil, Hokkien, English\",\"Tamil, Kannada\",\"Tamil, Mandarin, English\",\"Tamil, Telugu\",\"Tamil, Telugu, Hindi\",\"Telugu\",\"Telugu, Tamil\",\"Telugu, Tamil, Hindi\",\"Thai\",\"Thai, English\",\"Thai, English, German\",\"Thai, English, Mandarin, Vietnamese\",\"Thai, French\",\"Thai, Japanese\",\"Thai, Japanese, English\",\"Thai, Korean\",\"Thai, Lao\",\"Tibetan\",\"Tswana, English\",\"Turkish\",\"Turkish, Arabic\",\"Turkish, Azerbaijani, Russian, English, Spanish, Japanese, French, Arabic\",\"Turkish, English\",\"Turkish, French\",\"Turkish, Georgian\",\"Turkish, German, English\",\"Turkish, Italian, French\",\"Ukrainian, Russian, English\",\"Urdu\",\"Urdu, English, Punjabi, Bhojpuri\",\"Urdu, Hindi\",\"Urdu, Hindi, Spanish, French, Korean, English\",\"Urdu, Norwegian\",\"Urdu, Pushto\",\"Urdu, Tajik, Russian\",\"Uzbek\",\"Vietnamese\",\"Wayuu, Spanish, English\",\"Wolof, French, English, Arabic\",\"Xhosa, English, Afrikaans\",\"Xhosa, Southern Sotho, English, Afrikaans\",\"Yiddish, English, Spanish\",\"Yoruba, English\",\"Yoruba, English, Ibo, Hausa\",\"Yoruba, Ibo, English\",\"Zulu\",\"Zulu, Afrikaans, Xhosa, English\",\"Zulu, Xhosa, Afrikaans, English\"],\"labels\":[\"Afrikaans\",\"Afrikaans, English\",\"Afrikaans, German, Swiss German\",\"Akan\",\"Akan, English\",\"Albanian, French\",\"American Sign Language, English\",\"American Sign Language, English, Spanish\",\"Amharic\",\"Arabic\",\"Arabic, English\",\"Arabic, English, Dutch\",\"Arabic, English, French\",\"Arabic, French\",\"Arabic, French, English\",\"Arabic, German, English\",\"Arabic, Hebrew\",\"Arabic, Italian\",\"Arabic, Nyanja, English\",\"Arabic, Swedish\",\"Aromanian\",\"Assamese\",\"Basque\",\"Basque, English, Spanish\",\"Basque, Spanish, Catalan\",\"Belarusian, Polish, Russian, Ukrainian\",\"Bengali\",\"Bengali, English\",\"Bengali, English, Mandarin\",\"Bengali, Hindi, English\",\"Bhojpuri, Punjabi, Hindi\",\"Brazilian Sign Language\",\"Cantonese\",\"Cantonese, Chinese, English\",\"Cantonese, English\",\"Cantonese, English, Filipino, Afrikaans\",\"Cantonese, English, French\",\"Cantonese, English, Hindi\",\"Cantonese, English, Hokkien, Mandarin\",\"Cantonese, English, Japanese\",\"Cantonese, English, Mandarin\",\"Cantonese, English, Mandarin, Dutch\",\"Cantonese, English, Mandarin, French\",\"Cantonese, English, Mandarin, Japanese\",\"Cantonese, English, Mandarin, Malay, Thai\",\"Cantonese, English, Mandarin, Thai\",\"Cantonese, English, Thai\",\"Cantonese, English, Vietnamese\",\"Cantonese, Japanese\",\"Cantonese, Japanese, English\",\"Cantonese, Japanese, Mandarin\",\"Cantonese, Mandarin\",\"Cantonese, Mandarin, English\",\"Cantonese, Mandarin, English, Korean, French, Turkish\",\"Cantonese, Mandarin, English, Portuguese\",\"Cantonese, Mandarin, English, Thai\",\"Cantonese, Mandarin, Japanese\",\"Cantonese, Mandarin, Korean\",\"Cantonese, Mandarin, Thai\",\"Cantonese, Min Nan, Mandarin, English\",\"Cantonese, Russian\",\"Cantonese, Shanghainese, Tagalog, English, Mandarin\",\"Catalan, English, Spanish\",\"Catalan, French, Spanish\",\"Catalan, Spanish\",\"Chinese\",\"Chinese, Cantonese\",\"Chinese, English\",\"Chinese, English, Japanese\",\"Chinese, Tagalog, Filipino\",\"Croatian\",\"Czech\",\"Czech, English, German, Russian\",\"Czech, English, Kinyarwanda\",\"Czech, English, Zulu\",\"Czech, French\",\"Czech, German\",\"Czech, German, English\",\"Czech, German, English, Slovak\",\"Czech, Hebrew\",\"Czech, Polish\",\"Czech, Russian\",\"Czech, Russian, German\",\"Czech, Russian, Slovak\",\"Czech, Slovak\",\"Czech, Slovak, English, French\",\"Czech, Slovak, Portuguese\",\"Czech, Vietnamese\",\"Danish\",\"Danish, Arabic\",\"Danish, English\",\"Danish, English, French\",\"Danish, English, German, French\",\"Danish, English, Italian\",\"Danish, English, Italian, Spanish\",\"Danish, English, Polish\",\"Danish, English, Serbian, German\",\"Danish, English, Tagalog\",\"Danish, English, Thai\",\"Danish, Faroese\",\"Danish, German\",\"Danish, Italian, English\",\"Danish, Norwegian\",\"Danish, Polish, Russian\",\"Danish, Serbian\",\"Danish, Swedish\",\"Danish, Swedish, Arabic\",\"Danish, Swedish, English, Spanish\",\"Danish, Swedish, Serbian\",\"Danish, Turkish, English, Chinese\",\"Dari, English, Pushto, Russian, Urdu\",\"Divehi\",\"Dutch\",\"Dutch, Arabic, French, Turkish, English\",\"Dutch, English\",\"Dutch, English, French\",\"Dutch, English, Hindi, French, German\",\"Dutch, English, Sranan\",\"Dutch, English, Swedish, Russian, German, French\",\"Dutch, Flemish, French, English, Spanish\",\"Dutch, French\",\"Dutch, German\",\"Dutch, Russian, German, Polish\",\"Dutch, Sranan\",\"Dutch, Yiddish, English\",\"English\",\"English, Aboriginal\",\"English, Aboriginal, French\",\"English, Aboriginal, French, Portuguese\",\"English, Afrikaans\",\"English, Afrikaans, French\",\"English, Afrikaans, Maori, Zulu, Xhosa, Southern Sotho\",\"English, Afrikaans, Zulu\",\"English, Akan\",\"English, Albanian, Spanish\",\"English, Algonquin, Inuktitut\",\"English, American Sign Language\",\"English, American Sign Language, Estonian\",\"English, American Sign Language, Indonesian\",\"English, American Sign Language, Latin\",\"English, American Sign Language, Portuguese\",\"English, American Sign Language, Russian\",\"English, American Sign Language, Russian, French\",\"English, Amharic\",\"English, Apache languages\",\"English, Arabic\",\"English, Arabic, Acholi\",\"English, Arabic, Albanian, Romanian\",\"English, Arabic, French\",\"English, Arabic, French, Italian\",\"English, Arabic, French, Spanish\",\"English, Arabic, French, Spanish, Dutch\",\"English, Arabic, German\",\"English, Arabic, Latin, Italian\",\"English, Arabic, Persian\",\"English, Arabic, Punjabi, Hindi\",\"English, Arabic, Pushto\",\"English, Arabic, Spanish\",\"English, Arabic, Spanish, Japanese, Berber languages, French, Russian, Japanese Sign Language\",\"English, Arabic, Swedish\",\"English, Arabic, Turkish\",\"English, Arabic, Turkish, French\",\"English, Arabic, Urdu, Pushto, French\",\"English, Aramaic\",\"English, Armenian\",\"English, Armenian, French\",\"English, Belarusian\",\"English, Bosnian, Serbian, German\",\"English, Bulgarian, Scots\",\"English, Bulgarian, Spanish, Russian, Mandarin, German, French\",\"English, Burmese, Thai\",\"English, Cantonese\",\"English, Cantonese, French, German, Hindi, Turkish\",\"English, Cantonese, Hindi\",\"English, Cantonese, Korean\",\"English, Cantonese, Mandarin\",\"English, Cantonese, Mandarin, Portuguese\",\"English, Cantonese, Russian, Hindi, Spanish\",\"English, Catalan, Spanish\",\"English, Cheyenne, French\",\"English, Chinese\",\"English, Chinese, Arabic\",\"English, Chinese, German\",\"English, Chinese, Italian\",\"English, Chinese, Japanese\",\"English, Chinese, Khmer\",\"English, Chinese, Malay\",\"English, Chinese, Russian\",\"English, Chinese, Spanish, French, Ukrainian\",\"English, Chinese, Teochew, Sinhalese\",\"English, Cornish\",\"English, Croatian, Chinese\",\"English, Czech\",\"English, Czech, Russian, Greek, Afrikaans\",\"English, Czech, Slovak\",\"English, Danish\",\"English, Danish, Italian\",\"English, Danish, Malay, Dutch, Indonesian, Finnish, Luxembourgish, French Sign Language\",\"English, Danish, Spanish\",\"English, Dari, Russian, Spanish, Uzbek\",\"English, Dari, Russian, Urdu, Hebrew, Arabic\",\"English, Dinka\",\"English, Dutch\",\"English, Dutch, French, Italian, Mandarin\",\"English, Dutch, Spanish\",\"English, East-Greenlandic\",\"English, Egyptian (Ancient)\",\"English, Egyptian (Ancient), Arabic, Chinese, Hebrew, Hungarian\",\"English, Esperanto\",\"English, Estonian\",\"English, Filipino\",\"English, Filipino, Tagalog\",\"English, Finnish\",\"English, Finnish, French, Vietnamese\",\"English, Finnish, Japanese, Hungarian, Russian, Somali, Spanish\",\"English, Flemish\",\"English, French\",\"English, French, Albanian, Arabic\",\"English, French, Albanian, Spanish, Hungarian\",\"English, French, Arabic\",\"English, French, Arabic, German\",\"English, French, Arabic, German, Dutch\",\"English, French, Arabic, Luxembourgish\",\"English, French, Arabic, Russian, Spanish\",\"English, French, Arabic, Turkish\",\"English, French, Arabic, Yoruba, Swahili, Chinese\",\"English, French, Chinese\",\"English, French, Czech\",\"English, French, German\",\"English, French, German, Arabic\",\"English, French, German, Czech\",\"English, French, German, Dutch, Italian, Yoruba\",\"English, French, German, Hebrew, Italian, Spanish\",\"English, French, German, Italian\",\"English, French, German, Italian, Arabic, Spanish\",\"English, French, German, Italian, Japanese\",\"English, French, German, Serbian\",\"English, French, German, Spanish, Yiddish\",\"English, French, German, Turkish, Italian, Swedish\",\"English, French, Greek\",\"English, French, Hungarian\",\"English, French, Italian\",\"English, French, Italian, German, Hungarian\",\"English, French, Italian, German, Romany\",\"English, French, Italian, Russian, Spanish\",\"English, French, Italian, Turkish\",\"English, French, Japanese\",\"English, French, Japanese, Mandarin, Latin\",\"English, French, Japanese, Russian, Spanish\",\"English, French, Kinyarwanda\",\"English, French, Klingon, Korean, Arabic\",\"English, French, Latin\",\"English, French, Latin, Arabic\",\"English, French, Latin, German\",\"English, French, Latin, Portuguese, Spanish\",\"English, French, Latin, Scottish Gaelic, Italian\",\"English, French, Latin, Spanish\",\"English, French, Mandarin\",\"English, French, Mandarin, German\",\"English, French, Portuguese\",\"English, French, Portuguese, German\",\"English, French, Romanian, Latin\",\"English, French, Russian\",\"English, French, Russian, German, Mandarin\",\"English, French, Scottish Gaelic\",\"English, French, Scottish Gaelic, Latin\",\"English, French, Spanish\",\"English, French, Spanish, German\",\"English, French, Spanish, Hindi\",\"English, French, Spanish, Korean\",\"English, French, Spanish, Russian\",\"English, French, Swahili\",\"English, French, Swedish, German\",\"English, French, Swedish, Thai, Serbian\",\"English, French, Thai, Khmer, Mandarin\",\"English, French, Tibetan, Mandarin, Russian, Hindi, Portuguese, Latin, Italian, Spanish\",\"English, French, Turkish, Hebrew, Arabic, Spanish\",\"English, French, Ukrainian\",\"English, French, Ukrainian, Russian, Hungarian\",\"English, French, Vietnamese\",\"English, Georgian, Russian\",\"English, German\",\"English, German, Arabic, French, Cantonese\",\"English, German, Arabic, Russian, French\",\"English, German, Arabic, Urdu\",\"English, German, Cantonese, Japanese, Hungarian, Arabic\",\"English, German, Czech\",\"English, German, Czech, Latin, French\",\"English, German, Dutch, Danish, French, American Sign Language\",\"English, German, Dutch, French, Spanish, Chinese, Greek,  Ancient (to 1453), North American Indian\",\"English, German, Dutch, Polish, Latin\",\"English, German, French\",\"English, German, French, Chinese\",\"English, German, French, Hebrew, Arabic\",\"English, German, French, Hebrew, Arabic, Italian, Greek, Russian, Dutch\",\"English, German, French, Italian\",\"English, German, French, Latin\",\"English, German, French, Russian\",\"English, German, French, Russian, Spanish\",\"English, German, French, Spanish, Latin\",\"English, German, French, Swedish\",\"English, German, Greek, Arabic\",\"English, German, Greek, Latin\",\"English, German, Hebrew\",\"English, German, Hebrew, Spanish, Arabic, Nepali\",\"English, German, Italian\",\"English, German, Italian, French, Spanish\",\"English, German, Italian, Japanese\",\"English, German, Italian, Japanese, French, Hebrew\",\"English, German, Italian, Mandarin, Spanish\",\"English, German, Italian, Romanian, Spanish, Arabic, Georgian, Russian, Serbian\",\"English, German, Italian, Russian\",\"English, German, Japanese, Serbian\",\"English, German, Japanese, Serbo-Croatian\",\"English, German, Latin\",\"English, German, Mandarin, Tibetan, Hindi\",\"English, German, Norwegian\",\"English, German, Persian, Hebrew, Kurdish, French\",\"English, German, Romanian\",\"English, German, Russian\",\"English, German, Russian, French, Flemish, Dutch\",\"English, German, Russian, French, Spanish\",\"English, German, Russian, Swedish\",\"English, German, Spanish\",\"English, German, Spanish, Russian, Czech\",\"English, German, Spanish, Serbian\",\"English, German, Swedish, Mongolian\",\"English, German, Thai\",\"English, German, Turkish, Arabic\",\"English, German, Ukrainian\",\"English, German, Vietnamese, Swahili\",\"English, German, Xhosa, Russian, Romanian, Hindi\",\"English, Greek\",\"English, Greek, French\",\"English, Greek, German, Latin\",\"English, Greek, Italian\",\"English, Greek, Spanish\",\"English, Greenlandic\",\"English, Hausa\",\"English, Hausa, Ibo\",\"English, Hawaiian\",\"English, Hawaiian, German, Japanese\",\"English, Hawaiian, Mandarin\",\"English, Hawaiian, Russian\",\"English, Hebrew\",\"English, Hebrew, Arabic\",\"English, Hebrew, Arabic, Italian\",\"English, Hebrew, German\",\"English, Hebrew, German, Polish, Latin\",\"English, Hebrew, Mandarin\",\"English, Hebrew, Russian\",\"English, Hindi\",\"English, Hindi, Bengali\",\"English, Hindi, Bengali, Assamese, Manipuri\",\"English, Hindi, French, German\",\"English, Hindi, French, German, Mandarin\",\"English, Hindi, Japanese\",\"English, Hindi, Manipuri, Xhosa\",\"English, Hindi, Marathi\",\"English, Hindi, Parsee\",\"English, Hindi, Sanskrit\",\"English, Hindi, Tamil, Gujarati\",\"English, Hindi, Urdu\",\"English, Hmong\",\"English, Hokkien, Mandarin\",\"English, Hungarian\",\"English, Hungarian, French, Korean\",\"English, Hungarian, German\",\"English, Hungarian, Italian\",\"English, Hungarian, Polish, French\",\"English, Hungarian, Russian\",\"English, Hungarian, Spanish, French\",\"English, Ibo\",\"English, Ibo, Yoruba, Hausa\",\"English, Icelandic\",\"English, Icelandic, Italian\",\"English, Icelandic, Portuguese\",\"English, Icelandic, Swahili, Arabic\",\"English, Indonesian\",\"English, Indonesian, French\",\"English, Inuktitut\",\"English, Irish\",\"English, Irish, Aboriginal\",\"English, Irish, Chinese, Hebrew, Yiddish\",\"English, Irish, Chinese, Latin\",\"English, Irish, French\",\"English, Irish, French, Latin\",\"English, Irish, Russian, Icelandic\",\"English, Italian\",\"English, Italian, Arabic\",\"English, Italian, Bosnian\",\"English, Italian, Cantonese\",\"English, Italian, Czech\",\"English, Italian, French\",\"English, Italian, French, Danish\",\"English, Italian, French, German\",\"English, Italian, French, German, Hebrew\",\"English, Italian, French, Japanese\",\"English, Italian, German\",\"English, Italian, German, French\",\"English, Italian, German, Latin\",\"English, Italian, Hebrew\",\"English, Italian, Japanese\",\"English, Italian, Latin\",\"English, Italian, Latin, French, Swiss German, German, Chinese, Spanish, Polish\",\"English, Italian, Latin, Spanish, German\",\"English, Italian, Mandarin, Cantonese, German, Czech\",\"English, Italian, Polish, French\",\"English, Italian, Portuguese\",\"English, Italian, Russian\",\"English, Italian, Russian, German\",\"English, Italian, Spanish\",\"English, Italian, Spanish, German\",\"English, Italian, Spanish, Japanese\",\"English, Italian, Spanish, Latin, Sicilian\",\"English, Italian, Swahili, German\",\"English, Italian, Swedish\",\"English, Japanese\",\"English, Japanese, Cantonese, Mandarin\",\"English, Japanese, Chinese\",\"English, Japanese, Chinese, Arabic\",\"English, Japanese, Chinese, Spanish\",\"English, Japanese, French\",\"English, Japanese, French, Arabic\",\"English, Japanese, French, German, Spanish, Russian\",\"English, Japanese, German, French\",\"English, Japanese, Italian\",\"English, Japanese, Italian, Spanish\",\"English, Japanese, Latin\",\"English, Japanese, Mandarin\",\"English, Japanese, Portuguese\",\"English, Japanese, Russian, Spanish\",\"English, Japanese, Spanish\",\"English, Japanese, Ukrainian\",\"English, Japanese, Vietnamese\",\"English, Khmer\",\"English, Klingon\",\"English, Klingon, German\",\"English, Korean\",\"English, Korean, Estonian\",\"English, Korean, French\",\"English, Korean, French, Japanese, Czech, German\",\"English, Korean, French, Vietnamese\",\"English, Korean, German\",\"English, Korean, Icelandic, Russian\",\"English, Korean, Japanese, Thai, Malay, Cantonese, Mandarin\",\"English, Korean, Russian, Spanish\",\"English, Korean, Spanish\",\"English, Lao, Vietnamese\",\"English, Latin\",\"English, Latin, French\",\"English, Latin, Greek, French, German, Arabic, Kurdish\",\"English, Latin, Irish\",\"English, Latin, Spanish, French\",\"English, Latvian\",\"English, Lingala, French\",\"English, Malay\",\"English, Malay, Hokkien, Mandarin\",\"English, Malay, Hokkien, Mandarin, Malayalam\",\"English, Malayalam, Tamil, Hindi\",\"English, Maltese, French, Turkish\",\"English, Mandarin\",\"English, Mandarin, Cantonese\",\"English, Mandarin, Cantonese, Hokkien, French, Malay\",\"English, Mandarin, Cantonese, Russian\",\"English, Mandarin, French\",\"English, Mandarin, French, Italian, German, Spanish, Korean\",\"English, Mandarin, French, Spanish, Russian\",\"English, Mandarin, German\",\"English, Mandarin, Hokkien\",\"English, Mandarin, Japanese\",\"English, Mandarin, Japanese, Cantonese\",\"English, Mandarin, Malay\",\"English, Mandarin, Malay, Cantonese, Tamil\",\"English, Mandarin, Russian\",\"English, Mandarin, Sanskrit\",\"English, Mandarin, Spanish\",\"English, Mandarin, Spanish, French\",\"English, Mandarin, Spanish, Russian\",\"English, Mandarin, Swiss German, Cantonese, Russian\",\"English, Mandarin, Tagalog, Hokkien, Cantonese, Malay\",\"English, Mandarin, Tamil, Malay\",\"English, Mandarin, Thai\",\"English, Mandarin, Thai, Japanese\",\"English, Maya, Spanish, Greek, German\",\"English, Mende, Afrikaans\",\"English, Min Nan, Mandarin\",\"English, Mohawk\",\"English, Mongolian\",\"English, Nama\",\"English, Navajo, Mandarin\",\"English, North American Indian\",\"English, North American Indian, Spanish\",\"English, Norwegian\",\"English, Norwegian, Danish\",\"English, Norwegian, Latin\",\"English, Norwegian, Spanish, French\",\"English, Nyanja, Afrikaans, Zulu, Xhosa, Southern Sotho\",\"English, Old English\",\"English, Papiamento\",\"English, Pawnee, French\",\"English, Persian\",\"English, Persian, German, Arabic\",\"English, Persian, Ukrainian\",\"English, Persian, Urdu, Arabic, Kurdish, Hindi, Hungarian\",\"English, Polish\",\"English, Polish, Cantonese, Italian\",\"English, Polish, German, Arabic, Egyptian (Ancient)\",\"English, Polish, German, French, Russian\",\"English, Polish, Latin\",\"English, Polish, Russian, German\",\"English, Polish, Spanish\",\"English, Polish, Yiddish\",\"English, Polynesian, Spanish\",\"English, Portuguese\",\"English, Portuguese, French\",\"English, Portuguese, French, Japanese\",\"English, Portuguese, Hindi, Mandarin, German\",\"English, Portuguese, Italian\",\"English, Portuguese, Japanese\",\"English, Portuguese, Spanish\",\"English, Portuguese, Spanish, French\",\"English, Portuguese, Spanish, Italian\",\"English, Portuguese, Spanish, Italian, French\",\"English, Portuguese, Swedish\",\"English, Portuguese, Thai, Bulgarian\",\"English, Portuguese, Tupi, Spanish, German\",\"English, Punjabi\",\"English, Pushto\",\"English, Pushto, Arabic\",\"English, Pushto, Dari, French\",\"English, Pushto, Mandarin\",\"English, Quenya, Old English, Sindarin\",\"English, Romanian\",\"English, Romanian, Arabic\",\"English, Romanian, Bulgarian\",\"English, Romanian, Czech\",\"English, Romanian, German, Korean\",\"English, Romanian, Hebrew, Polish, Armenian\",\"English, Romanian, Hebrew, Yiddish, German\",\"English, Romanian, Russian\",\"English, Romanian, Russian, Serbian, Ukrainian\",\"English, Romanian, Spanish\",\"English, Romany, Romanian, Ukrainian\",\"English, Russian\",\"English, Russian, Chinese\",\"English, Russian, Czech\",\"English, Russian, Dutch\",\"English, Russian, Filipino, Ukrainian\",\"English, Russian, French\",\"English, Russian, French, German\",\"English, Russian, French, Hawaiian, Spanish\",\"English, Russian, French, Italian\",\"English, Russian, French, Japanese, Italian, Dutch, Spanish\",\"English, Russian, French, Lithuanian, German\",\"English, Russian, French, Persian, Korean\",\"English, Russian, German, Italian\",\"English, Russian, Hindi\",\"English, Russian, Hindi, Punjabi\",\"English, Russian, Hungarian\",\"English, Russian, Hungarian, French, Turkish\",\"English, Russian, Indonesian, Filipino\",\"English, Russian, Italian\",\"English, Russian, Italian, Mandarin, French\",\"English, Russian, Japanese, Indonesian, Mandarin, Italian, Arabic, Latin\",\"English, Russian, Korean\",\"English, Russian, Mandarin\",\"English, Russian, Maori, Italian\",\"English, Russian, Polish\",\"English, Russian, Polish, Tibetan, Mongolian\",\"English, Russian, Punjabi, Arabic\",\"English, Russian, Romanian, Slovenian\",\"English, Russian, Serbo-Croatian\",\"English, Russian, Sign Languages\",\"English, Russian, Spanish\",\"English, Russian, Spanish, Chinese\",\"English, Russian, Spanish, Korean, Greek\",\"English, Russian, Ukrainian, German, Arabic\",\"English, Saami\",\"English, Sanskrit\",\"English, Scots\",\"English, Scottish Gaelic\",\"English, Scottish Gaelic, German\",\"English, Serbian\",\"English, Serbian, German, Italian, French\",\"English, Serbian, Spanish, French, Bosnian\",\"English, Serbo-Croatian\",\"English, Serbo-Croatian, Mandarin, French\",\"English, Serbo-Croatian, Russian\",\"English, Serbo-Croatian, Spanish, Czech\",\"English, Sign Languages\",\"English, Sindarin\",\"English, Sindarin, Old English\",\"English, Sinhalese, Hindi\",\"English, Sioux, Pawnee\",\"English, Somali\",\"English, Somali, Arabic\",\"English, Spanish\",\"English, Spanish, American Sign Language, Arabic, Somali\",\"English, Spanish, Arabic\",\"English, Spanish, Arabic, Polish, Turkish, Russian, Italian, Persian\",\"English, Spanish, Armenian\",\"English, Spanish, Bulgarian\",\"English, Spanish, Cantonese\",\"English, Spanish, Cantonese, Italian\",\"English, Spanish, Catalan\",\"English, Spanish, Chinese\",\"English, Spanish, Chinese, Russian, Portuguese\",\"English, Spanish, Dutch\",\"English, Spanish, Finnish\",\"English, Spanish, Flemish\",\"English, Spanish, French\",\"English, Spanish, French, Afrikaans, Ukrainian\",\"English, Spanish, French, American Sign Language\",\"English, Spanish, French, Arabic\",\"English, Spanish, French, German\",\"English, Spanish, French, Korean\",\"English, Spanish, French, Romanian\",\"English, Spanish, French, Russian\",\"English, Spanish, French, Swahili, German\",\"English, Spanish, French, Yoruba\",\"English, Spanish, German\",\"English, Spanish, German, Russian\",\"English, Spanish, Greek\",\"English, Spanish, Greek,  Ancient (to 1453)\",\"English, Spanish, Hebrew\",\"English, Spanish, Hebrew, Arabic\",\"English, Spanish, Hindi\",\"English, Spanish, Hungarian, Czech\",\"English, Spanish, Icelandic\",\"English, Spanish, Italian\",\"English, Spanish, Italian, French\",\"English, Spanish, Italian, French, Swiss German, German\",\"English, Spanish, Italian, Inuktitut, Hindi\",\"English, Spanish, Italian, Latin, Portuguese, French, German\",\"English, Spanish, Italian, Polish, French\",\"English, Spanish, Italian, Russian, Basque, Arabic\",\"English, Spanish, Japanese\",\"English, Spanish, Japanese, French\",\"English, Spanish, Japanese, Russian, Chinese\",\"English, Spanish, Korean\",\"English, Spanish, Latin\",\"English, Spanish, Latin, Italian\",\"English, Spanish, Mandarin\",\"English, Spanish, Norwegian, French, Korean, Greek, Vietnamese\",\"English, Spanish, Papiamento, Russian, Latin\",\"English, Spanish, Polish\",\"English, Spanish, Portuguese\",\"English, Spanish, Portuguese, Mandarin, Tagalog, Russian\",\"English, Spanish, Quechua\",\"English, Spanish, Russian\",\"English, Spanish, Russian, German\",\"English, Spanish, Russian, German, Lingala\",\"English, Spanish, Russian, Italian\",\"English, Spanish, Russian, Italian, French\",\"English, Spanish, Russian, Japanese, Cantonese, Dutch\",\"English, Spanish, Sanskrit\",\"English, Spanish, Sioux\",\"English, Spanish, Swedish\",\"English, Spanish, Tibetan\",\"English, Spanish, Ukrainian, Korean\",\"English, Spanish, Urdu, Russian\",\"English, Swahili\",\"English, Swahili, French, Spanish, Bosnian\",\"English, Swedish\",\"English, Swedish, French, Spanish, German\",\"English, Swedish, French, Vietnamese, Russian, Hebrew\",\"English, Swedish, German\",\"English, Swedish, German, Arabic, Egyptian (Ancient)\",\"English, Swedish, German, Russian\",\"English, Swedish, Italian, French\",\"English, Swedish, Saami\",\"English, Swedish, Spanish\",\"English, Syriac, German, Greek, Hebrew, Latin, Aramaic\",\"English, Tagalog, Russian\",\"English, Tamil\",\"English, Tamil, Hindi, French\",\"English, Thai\",\"English, Thai, Arabic, Spanish\",\"English, Thai, French\",\"English, Thai, Spanish\",\"English, Thai, Spanish, French\",\"English, Thai, Spanish, Hebrew, French\",\"English, Thai, Swedish\",\"English, Tok Pisin, Japanese, Greek\",\"English, Turkish\",\"English, Turkish, Arabic\",\"English, Turkish, Greek, Russian\",\"English, Turkmen, Cantonese, Italian, Spanish, Ukrainian, French\",\"English, Ukrainian\",\"English, Ukrainian, French, Italian, Spanish\",\"English, Ukrainian, German, French\",\"English, Ukrainian, German, Spanish, Russian, French, Arabic, Turkish\",\"English, Ukrainian, Russian\",\"English, Urdu\",\"English, Urdu, Arabic, Persian, French, Mandarin\",\"English, Vietnamese\",\"English, Vietnamese, French\",\"English, Vietnamese, Khmer\",\"English, Vietnamese, Shoshoni\",\"English, Welsh\",\"English, Welsh, Italian, Latin, Russian, Hungarian\",\"English, Wolof, French, Yoruba\",\"English, Xhosa\",\"English, Yiddish\",\"English, Yiddish, Hebrew\",\"English, Yoruba\",\"English, Zulu\",\"Filipino\",\"Filipino, English\",\"Filipino, Tagalog\",\"Filipino, Tagalog, English\",\"Filipino, Tagalog, English, French\",\"Filipino, Tagalog, English, Spanish\",\"Filipino, Tagalog, Japanese\",\"Filipino, Tagalog, Japanese, English\",\"Filipino, Tagalog, Japanese, Korean\",\"Filipino, Tagalog, Spanish\",\"Finnish\",\"Finnish, English\",\"Flemish, Dutch\",\"French\",\"French, Afrikaans, English, Dutch\",\"French, Arabic\",\"French, Arabic, English\",\"French, Breton\",\"French, Cantonese, English, Hakka\",\"French, Chinese\",\"French, English\",\"French, English, Arabic, Italian, German\",\"French, English, Arabic, Spanish\",\"French, English, Chinese\",\"French, English, German\",\"French, English, German, Italian\",\"French, English, Italian\",\"French, English, Italian, German, Yiddish\",\"French, English, Italian, Russian, Arabic\",\"French, English, Japanese\",\"French, English, Latin\",\"French, English, Polish\",\"French, English, Polish, German\",\"French, English, Russian\",\"French, English, Russian, Arabic, Japanese\",\"French, English, Russian, German\",\"French, English, Russian, Swahili, Danish\",\"French, English, Sinhalese, Norwegian\",\"French, English, Spanish\",\"French, English, Spanish, Arabic\",\"French, English, Spanish, Chinese, Yiddish\",\"French, English, Spanish, German\",\"French, English, Spanish, Japanese, Arabic, Mandarin\",\"French, English, Swedish\",\"French, English, Ukrainian\",\"French, Flemish\",\"French, German\",\"French, German, English\",\"French, German, English, Polish\",\"French, Greek\",\"French, Greenlandic, English\",\"French, Hungarian, Italian, English\",\"French, Hungarian, Italian, Swiss German, Latin\",\"French, Italian\",\"French, Italian, English\",\"French, Italian, English, Arabic\",\"French, Italian, English, German, Greek, Spanish\",\"French, Japanese\",\"French, Japanese, German\",\"French, Latin\",\"French, Lingala\",\"French, Lingala, Portuguese\",\"French, Mandarin\",\"French, Polish, Russian\",\"French, Polish, Spanish, English\",\"French, Portuguese\",\"French, Portuguese, English\",\"French, Romanian\",\"French, Romanian, Malinka, French Sign Language, English\",\"French, Romanian, Polish\",\"French, Russian\",\"French, Russian, English\",\"French, Russian, Hebrew\",\"French, Spanish\",\"French, Spanish, English\",\"French, Spanish, German\",\"French, Spanish, Italian, English\",\"French, Swedish, English\",\"French, Thai, English\",\"French, Wolof, Arabic, Spanish, English\",\"French, Wolof, Fulah, Spanish\",\"French, Wolof, Romanian, Norwegian\",\"Georgian\",\"Georgian, Russian\",\"German\",\"German, Arabic, Bosnian, Serbo-Croatian\",\"German, Cantonese\",\"German, Czech\",\"German, Czech, Latin\",\"German, English\",\"German, English, Danish, Italian, French, Wolof\",\"German, English, Dutch, Albanian\",\"German, English, Finnish\",\"German, English, French\",\"German, English, French, Latin\",\"German, English, French, Swedish, Arabic\",\"German, English, Polish, Swedish\",\"German, English, Spanish, Danish\",\"German, English, Spanish, French\",\"German, English, Spanish, Turkish\",\"German, English, Thai\",\"German, English, Yiddish, Spanish, French\",\"German, French\",\"German, French, Chinese\",\"German, French, English\",\"German, French, Latin\",\"German, Hebrew, Yiddish\",\"German, Hungarian\",\"German, Italian\",\"German, Italian, English\",\"German, Japanese, English\",\"German, Japanese, Romanian\",\"German, Latin\",\"German, Polish\",\"German, Portuguese, English, Italian\",\"German, Romanian\",\"German, Romany\",\"German, Russian\",\"German, Russian, English\",\"German, Russian, French, English\",\"German, Spanish\",\"German, Swahili, English\",\"German, Swiss German\",\"German, Turkish\",\"German, Vietnamese\",\"German, Yiddish, Hebrew\",\"Greek\",\"Greek, American Sign Language, English, Portuguese, Spanish, German, French\",\"Gujarati\",\"Gujarati, Hindi\",\"Haitian, English, French\",\"Hebrew\",\"Hebrew, English, Arabic, Russian\",\"Hebrew, English, Spanish\",\"Hindi\",\"Hindi, Assamese\",\"Hindi, Awadhi\",\"Hindi, Bengali\",\"Hindi, Bengali, English\",\"Hindi, English\",\"Hindi, English, Bengali, Tamil\",\"Hindi, English, Bengali, Urdu, Bhojpuri\",\"Hindi, English, Chinese, Spanish\",\"Hindi, English, French\",\"Hindi, English, French, Japanese, Dutch\",\"Hindi, English, German\",\"Hindi, English, Kannada, Marathi\",\"Hindi, English, Marathi, Gujarati\",\"Hindi, English, Marathi, Malayalam\",\"Hindi, English, Marathi, Tamil\",\"Hindi, English, Punjabi\",\"Hindi, English, Russian\",\"Hindi, English, Spanish\",\"Hindi, English, Urdu, Russian\",\"Hindi, German, Italian\",\"Hindi, Gujarati, English\",\"Hindi, Gujarati, Tamil, English\",\"Hindi, Japanese\",\"Hindi, Japanese, Arabic\",\"Hindi, Japanese, Malay\",\"Hindi, Mandarin, English, Italian, French, Arabic\",\"Hindi, Marathi, Bengali, English, Portuguese\",\"Hindi, Marathi, English\",\"Hindi, Marathi, Gujarati, Tulu, English\",\"Hindi, Punjabi\",\"Hindi, Punjabi, English\",\"Hindi, Punjabi, Gujarati, English\",\"Hindi, Russian\",\"Hindi, Tamil, English, French\",\"Hindi, Urdu\",\"Hindi, Urdu, English\",\"Hindi, Urdu, Marathi, English\",\"Hokkien, English, Cantonese\",\"Hokkien, Mandarin\",\"Hungarian\",\"Hungarian, English\",\"Hungarian, English, French\",\"Hungarian, English, German\",\"Hungarian, French\",\"Hungarian, French, English\",\"Hungarian, German, Russian\",\"Hungarian, Japanese\",\"Hungarian, Russian\",\"Hungarian, Spanish, English\",\"Hungarian, Yiddish, German, Russian, Polish, French, Greek, Slovak, Hebrew\",\"Ibo, English\",\"Icelandic, English\",\"Indonesian\",\"Indonesian, Arabic\",\"Indonesian, Dutch\",\"Indonesian, Dutch, English\",\"Indonesian, English\",\"Indonesian, English, Mandarin, French\",\"Indonesian, German\",\"Indonesian, German, Dutch, English\",\"Indonesian, Japanese, English, Sign Languages\",\"Indonesian, Malay, English\",\"Indonesian, Malay, English, Vietnamese\",\"Inuktitut, English\",\"Italian\",\"Italian, Arabic\",\"Italian, English\",\"Italian, English, Croatian\",\"Italian, English, French\",\"Italian, English, German\",\"Italian, English, Latin, Greek,  Ancient (to 1453)\",\"Italian, English, Norwegian\",\"Italian, English, Portuguese\",\"Italian, English, Spanish\",\"Italian, French\",\"Italian, French, English\",\"Italian, French, German\",\"Italian, German\",\"Italian, German, English\",\"Italian, German, French, English\",\"Italian, German, French, English, Spanish\",\"Italian, Japanese\",\"Italian, Japanese, Spanish, Chinese\",\"Italian, Latvian, Neapolitan\",\"Italian, Neapolitan, English, French, German, Russian\",\"Italian, Romany, English\",\"Italian, Russian, English, German, Latin\",\"Italian, Russian, French, Arabic\",\"Italian, Russian, Latin\",\"Italian, Sicilian\",\"Italian, Spanish\",\"Italian, Spanish, German, English\",\"Italian, Spanish, Hebrew, Romanian\",\"Japanese\",\"Japanese, Bulgarian\",\"Japanese, Cantonese\",\"Japanese, Cantonese, English\",\"Japanese, English\",\"Japanese, English, Aboriginal\",\"Japanese, English, Chinese\",\"Japanese, English, French\",\"Japanese, English, Georgian, Hindi\",\"Japanese, English, Hindi\",\"Japanese, English, Indonesian\",\"Japanese, English, Italian, Cantonese\",\"Japanese, English, Korean\",\"Japanese, English, Mandarin\",\"Japanese, English, Portuguese\",\"Japanese, English, Russian\",\"Japanese, Esperanto\",\"Japanese, Finnish\",\"Japanese, French, English\",\"Japanese, French, Italian, Thai, English\",\"Japanese, German, Italian, French, English\",\"Japanese, Indonesian\",\"Japanese, Japanese Sign Language\",\"Japanese, Japanese Sign Language, English, German\",\"Japanese, Korean\",\"Japanese, Korean, Italian, Hindi\",\"Japanese, Latin\",\"Japanese, Latvian\",\"Japanese, Mandarin\",\"Japanese, Mandarin, Russian, Korean, Portuguese, Persian, Indonesian, Hindi, Italian, Dutch, Arabic, French, Latin, English\",\"Japanese, Mandarin, Tagalog\",\"Japanese, Persian, Mandarin\",\"Japanese, Russian\",\"Japanese, Spanish\",\"Japanese, Thai\",\"Kannada\",\"Kannada, Hindi, English\",\"Kazakh, Russian\",\"Khmer, English, French\",\"Kikuyu, English\",\"Korean\",\"Korean, Arabic\",\"Korean, Cantonese, English, Mandarin, Japanese\",\"Korean, Chinese\",\"Korean, English\",\"Korean, English, Chinese\",\"Korean, English, Filipino\",\"Korean, English, French\",\"Korean, English, French, Japanese\",\"Korean, English, German\",\"Korean, English, German, Vietnamese\",\"Korean, English, Japanese\",\"Korean, English, Mandarin\",\"Korean, English, Mandarin, Japanese\",\"Korean, English, Tagalog\",\"Korean, English, Thai\",\"Korean, English, Thai, Russian, Mandarin\",\"Korean, Filipino, English\",\"Korean, French\",\"Korean, German, English, Japanese\",\"Korean, Hawaiian\",\"Korean, Hindi\",\"Korean, Hindi, Japanese, Spanish, Catalan, Basque\",\"Korean, Italian\",\"Korean, Japanese\",\"Korean, Japanese, Czech, English\",\"Korean, Japanese, English\",\"Korean, Japanese, English, Hindi\",\"Korean, Japanese, Mandarin\",\"Korean, Japanese, Mandarin, English\",\"Korean, Korean Sign Language\",\"Korean, Latin\",\"Korean, Mandarin\",\"Korean, Mandarin, Dutch\",\"Korean, Mandarin, English\",\"Korean, Mandarin, Japanese\",\"Korean, Mandarin, Mongolian\",\"Korean, Russian\",\"Korean, Russian, English\",\"Korean, Tagalog, English\",\"Korean, Thai\",\"Korean, Vietnamese\",\"Kurdish, Persian, Turkish, English\",\"Latvian\",\"Lithuanian\",\"Malay\",\"Malay, English\",\"Malay, English, Mandarin\",\"Malay, Indonesian\",\"Malay, Indonesian, Tagalog\",\"Malay, Tamil, English, Cantonese, Sign Languages\",\"Malay, Vietnamese, English\",\"Malayalam\",\"Malayalam, Tamil\",\"Mandarin\",\"Mandarin, Arabic, English\",\"Mandarin, Cantonese\",\"Mandarin, Cantonese, English\",\"Mandarin, Cantonese, English, Italian, Korean\",\"Mandarin, Cantonese, English, Korean\",\"Mandarin, Cantonese, English, Thai, Burmese\",\"Mandarin, Cantonese, Hokkien, English\",\"Mandarin, Cantonese, Japanese\",\"Mandarin, Cantonese, Japanese, English, French, German\",\"Mandarin, Cantonese, Thai\",\"Mandarin, Cantonese, Thai, English, Korean\",\"Mandarin, Chinese\",\"Mandarin, Chinese, Cantonese, English\",\"Mandarin, Chinese, English, Cantonese\",\"Mandarin, Chinese, Hokkien, English\",\"Mandarin, English\",\"Mandarin, English, Cantonese\",\"Mandarin, English, French\",\"Mandarin, English, French, Japanese, German, Spanish\",\"Mandarin, English, Hokkien\",\"Mandarin, English, Hokkien, Malay\",\"Mandarin, English, Min Nan\",\"Mandarin, English, Mongolian\",\"Mandarin, English, Russian, French, Japanese, Korean, Indonesian, Hindi\",\"Mandarin, Hokkien\",\"Mandarin, Hokkien, Cantonese\",\"Mandarin, Hokkien, Cantonese, English, Portuguese\",\"Mandarin, Hokkien, English\",\"Mandarin, Hokkien, English, Cantonese\",\"Mandarin, Japanese\",\"Mandarin, Japanese, Cantonese, English, Min Nan, Hokkien\",\"Mandarin, Japanese, English\",\"Mandarin, Japanese, English, Shanghainese, Hindi, Cantonese\",\"Mandarin, Korean, English\",\"Mandarin, Min Nan\",\"Mandarin, Min Nan, Shanghainese, English\",\"Mandarin, Min Nan, Spanish, English\",\"Mandarin, Mongolian\",\"Mandarin, Portuguese, Spanish, French, German\",\"Mandarin, Russian\",\"Mandarin, Shanghainese\",\"Mandarin, Tagalog, English, Hokkien\",\"Mandarin, Tibetan\",\"Maori\",\"Marathi\",\"Marathi, Gujarati, English, Hindi\",\"Marathi, Hindi\",\"Min Nan, Mandarin, English\",\"Min Nan, Mandarin, Hokkien\",\"Nahuatl, Spanish\",\"Neapolitan, Italian, Mandarin, French\",\"None, Danish\",\"None, English\",\"None, French\",\"None, Italian\",\"None, Swedish\",\"Norwegian\",\"Norwegian, Albanian\",\"Norwegian, Danish, English\",\"Norwegian, Danish, Russian, English\",\"Norwegian, English\",\"Norwegian, English, French, Swedish, Spanish\",\"Norwegian, French, Swedish\",\"Norwegian, German, English, Russian, Finnish\",\"Norwegian, German, English, Saami\",\"Norwegian, Swedish\",\"Persian\",\"Persian, English\",\"Polish\",\"Polish, English\",\"Polish, English, Italian\",\"Polish, English, Kinyarwanda\",\"Polish, English, Russian, German, Latvian, Hebrew\",\"Polish, English, Spanish\",\"Polish, English, Swedish\",\"Polish, French\",\"Polish, French, Croatian, German, Russian, Serbian, Italian\",\"Polish, French, English\",\"Polish, German\",\"Polish, German, Czech\",\"Polish, German, Yiddish, Ukrainian, Russian\",\"Polish, Italian\",\"Polish, Italian, Czech\",\"Polish, Romany\",\"Polish, Romany, Latin, English\",\"Polish, Russian, English, Arabic\",\"Polish, Russian, German, Ukrainian\",\"Polish, Slovak, Czech, German, French\",\"Polish, Spanish\",\"Polish, Tatar, Ukrainian, Turkish\",\"Portuguese\",\"Portuguese, Danish, English\",\"Portuguese, English\",\"Portuguese, English, Hungarian, Chinese\",\"Portuguese, English, Mandarin, Persian\",\"Portuguese, English, Spanish\",\"Portuguese, English, Spanish, German\",\"Portuguese, French\",\"Portuguese, French, English, Italian\",\"Portuguese, German\",\"Portuguese, Italian, French, English, Spanish\",\"Portuguese, Italian, German, English, Spanish\",\"Portuguese, Japanese\",\"Portuguese, Spanish\",\"Punjabi\",\"Punjabi, Hindi\",\"Quechua, Spanish\",\"Romanian\",\"Romanian, Arabic, Finnish, English, Acholi\",\"Romanian, English\",\"Romanian, English, Russian, Georgian\",\"Romanian, English, Spanish\",\"Romanian, English, Spanish, French\",\"Romanian, Hungarian\",\"Romanian, Hungarian, Spanish\",\"Romanian, Italian\",\"Romanian, Romany, English\",\"Romanian, Russian\",\"Romany, Serbian, Bulgarian\",\"Russian\",\"Russian, Armenian, English\",\"Russian, English\",\"Russian, English, French, Spanish\",\"Russian, English, Spanish, Hebrew, Italian\",\"Russian, French\",\"Russian, Georgian\",\"Russian, German\",\"Russian, German, Italian, Polish, English, French\",\"Russian, Latin\",\"Russian, Romanian\",\"Russian, Spanish\",\"Russian, Spanish, Finnish\",\"Russian, Tajik, Portuguese\",\"Sanskrit\",\"Scanian, Swedish\",\"Serbo-Croatian, German\",\"Sign Languages, Chinese\",\"Slovak\",\"Slovak, Czech\",\"Slovak, Yiddish, German, Latin\",\"Southern Sotho\",\"Spanish\",\"Spanish, Afrikaans\",\"Spanish, Arabic, English\",\"Spanish, Armenian, English, Italian, Mandarin\",\"Spanish, Basque\",\"Spanish, Basque, English\",\"Spanish, Catalan\",\"Spanish, Catalan, English\",\"Spanish, Catalan, French\",\"Spanish, English\",\"Spanish, English, Basque\",\"Spanish, English, Basque, Catalan\",\"Spanish, English, Cantonese, Mandarin\",\"Spanish, English, Catalan\",\"Spanish, English, Italian, German\",\"Spanish, English, Mandarin, French, Hindi\",\"Spanish, English, Spanish Sign Language\",\"Spanish, English, Vietnamese\",\"Spanish, French\",\"Spanish, French, Afrikaans\",\"Spanish, French, English\",\"Spanish, French, Swahili, English, Italian\",\"Spanish, Gallegan, Latin\",\"Spanish, German\",\"Spanish, German, Basque\",\"Spanish, German, English, French\",\"Spanish, German, Hebrew\",\"Spanish, Hawaiian, English\",\"Spanish, Hebrew, Yiddish\",\"Spanish, Italian\",\"Spanish, Italian, Bulgarian\",\"Spanish, Italian, English\",\"Spanish, Italian, English, French, Portuguese, Catalan\",\"Spanish, Japanese\",\"Spanish, Kriolu, Aragonese\",\"Spanish, Latin\",\"Spanish, Mixtec\",\"Spanish, Mixtec, English, Japanese, German, French, Norwegian\",\"Spanish, Polish\",\"Spanish, Portuguese\",\"Spanish, Portuguese, French, English\",\"Spanish, Portuguese, Italian\",\"Spanish, Quechua, English\",\"Spanish, Quechua, Mapudungun\",\"Spanish, Spanish\",\"Spanish, Tarahumara\",\"Swahili\",\"Swedish\",\"Swedish, Danish\",\"Swedish, Danish, Norwegian\",\"Swedish, Dutch\",\"Swedish, English\",\"Swedish, English, Estonian\",\"Swedish, English, Finnish, Russian, Norwegian, Danish, Spanish\",\"Swedish, English, German\",\"Swedish, English, German, Norwegian\",\"Swedish, English, German, Russian\",\"Swedish, English, Italian\",\"Swedish, English, Thai\",\"Swedish, English, Yiddish\",\"Swedish, Finnish\",\"Swedish, French\",\"Swedish, German\",\"Swedish, German, English, Spanish, French, Russian\",\"Swedish, Norwegian\",\"Swedish, Norwegian, English, Thai\",\"Swedish, Norwegian, German, English\",\"Swedish, Persian\",\"Swedish, Spanish\",\"Swedish, Ukrainian, English\",\"Swiss German, German\",\"Swiss German, German, English, Italian\",\"Tagalog, Filipino\",\"Tagalog, Filipino, English\",\"Tagalog, Filipino, Sign Languages\",\"Tamil\",\"Tamil, French, English\",\"Tamil, Hindi\",\"Tamil, Hokkien, English\",\"Tamil, Kannada\",\"Tamil, Mandarin, English\",\"Tamil, Telugu\",\"Tamil, Telugu, Hindi\",\"Telugu\",\"Telugu, Tamil\",\"Telugu, Tamil, Hindi\",\"Thai\",\"Thai, English\",\"Thai, English, German\",\"Thai, English, Mandarin, Vietnamese\",\"Thai, French\",\"Thai, Japanese\",\"Thai, Japanese, English\",\"Thai, Korean\",\"Thai, Lao\",\"Tibetan\",\"Tswana, English\",\"Turkish\",\"Turkish, Arabic\",\"Turkish, Azerbaijani, Russian, English, Spanish, Japanese, French, Arabic\",\"Turkish, English\",\"Turkish, French\",\"Turkish, Georgian\",\"Turkish, German, English\",\"Turkish, Italian, French\",\"Ukrainian, Russian, English\",\"Urdu\",\"Urdu, English, Punjabi, Bhojpuri\",\"Urdu, Hindi\",\"Urdu, Hindi, Spanish, French, Korean, English\",\"Urdu, Norwegian\",\"Urdu, Pushto\",\"Urdu, Tajik, Russian\",\"Uzbek\",\"Vietnamese\",\"Wayuu, Spanish, English\",\"Wolof, French, English, Arabic\",\"Xhosa, English, Afrikaans\",\"Xhosa, Southern Sotho, English, Afrikaans\",\"Yiddish, English, Spanish\",\"Yoruba, English\",\"Yoruba, English, Ibo, Hausa\",\"Yoruba, Ibo, English\",\"Zulu\",\"Zulu, Afrikaans, Xhosa, English\",\"Zulu, Xhosa, Afrikaans, English\"],\"name\":\"\",\"parents\":[\"\",\"\",\"\",\"\",\"\",\"\",\"\",\"\",\"\",\"\",\"\",\"\",\"\",\"\",\"\",\"\",\"\",\"\",\"\",\"\",\"\",\"\",\"\",\"\",\"\",\"\",\"\",\"\",\"\",\"\",\"\",\"\",\"\",\"\",\"\",\"\",\"\",\"\",\"\",\"\",\"\",\"\",\"\",\"\",\"\",\"\",\"\",\"\",\"\",\"\",\"\",\"\",\"\",\"\",\"\",\"\",\"\",\"\",\"\",\"\",\"\",\"\",\"\",\"\",\"\",\"\",\"\",\"\",\"\",\"\",\"\",\"\",\"\",\"\",\"\",\"\",\"\",\"\",\"\",\"\",\"\",\"\",\"\",\"\",\"\",\"\",\"\",\"\",\"\",\"\",\"\",\"\",\"\",\"\",\"\",\"\",\"\",\"\",\"\",\"\",\"\",\"\",\"\",\"\",\"\",\"\",\"\",\"\",\"\",\"\",\"\",\"\",\"\",\"\",\"\",\"\",\"\",\"\",\"\",\"\",\"\",\"\",\"\",\"\",\"\",\"\",\"\",\"\",\"\",\"\",\"\",\"\",\"\",\"\",\"\",\"\",\"\",\"\",\"\",\"\",\"\",\"\",\"\",\"\",\"\",\"\",\"\",\"\",\"\",\"\",\"\",\"\",\"\",\"\",\"\",\"\",\"\",\"\",\"\",\"\",\"\",\"\",\"\",\"\",\"\",\"\",\"\",\"\",\"\",\"\",\"\",\"\",\"\",\"\",\"\",\"\",\"\",\"\",\"\",\"\",\"\",\"\",\"\",\"\",\"\",\"\",\"\",\"\",\"\",\"\",\"\",\"\",\"\",\"\",\"\",\"\",\"\",\"\",\"\",\"\",\"\",\"\",\"\",\"\",\"\",\"\",\"\",\"\",\"\",\"\",\"\",\"\",\"\",\"\",\"\",\"\",\"\",\"\",\"\",\"\",\"\",\"\",\"\",\"\",\"\",\"\",\"\",\"\",\"\",\"\",\"\",\"\",\"\",\"\",\"\",\"\",\"\",\"\",\"\",\"\",\"\",\"\",\"\",\"\",\"\",\"\",\"\",\"\",\"\",\"\",\"\",\"\",\"\",\"\",\"\",\"\",\"\",\"\",\"\",\"\",\"\",\"\",\"\",\"\",\"\",\"\",\"\",\"\",\"\",\"\",\"\",\"\",\"\",\"\",\"\",\"\",\"\",\"\",\"\",\"\",\"\",\"\",\"\",\"\",\"\",\"\",\"\",\"\",\"\",\"\",\"\",\"\",\"\",\"\",\"\",\"\",\"\",\"\",\"\",\"\",\"\",\"\",\"\",\"\",\"\",\"\",\"\",\"\",\"\",\"\",\"\",\"\",\"\",\"\",\"\",\"\",\"\",\"\",\"\",\"\",\"\",\"\",\"\",\"\",\"\",\"\",\"\",\"\",\"\",\"\",\"\",\"\",\"\",\"\",\"\",\"\",\"\",\"\",\"\",\"\",\"\",\"\",\"\",\"\",\"\",\"\",\"\",\"\",\"\",\"\",\"\",\"\",\"\",\"\",\"\",\"\",\"\",\"\",\"\",\"\",\"\",\"\",\"\",\"\",\"\",\"\",\"\",\"\",\"\",\"\",\"\",\"\",\"\",\"\",\"\",\"\",\"\",\"\",\"\",\"\",\"\",\"\",\"\",\"\",\"\",\"\",\"\",\"\",\"\",\"\",\"\",\"\",\"\",\"\",\"\",\"\",\"\",\"\",\"\",\"\",\"\",\"\",\"\",\"\",\"\",\"\",\"\",\"\",\"\",\"\",\"\",\"\",\"\",\"\",\"\",\"\",\"\",\"\",\"\",\"\",\"\",\"\",\"\",\"\",\"\",\"\",\"\",\"\",\"\",\"\",\"\",\"\",\"\",\"\",\"\",\"\",\"\",\"\",\"\",\"\",\"\",\"\",\"\",\"\",\"\",\"\",\"\",\"\",\"\",\"\",\"\",\"\",\"\",\"\",\"\",\"\",\"\",\"\",\"\",\"\",\"\",\"\",\"\",\"\",\"\",\"\",\"\",\"\",\"\",\"\",\"\",\"\",\"\",\"\",\"\",\"\",\"\",\"\",\"\",\"\",\"\",\"\",\"\",\"\",\"\",\"\",\"\",\"\",\"\",\"\",\"\",\"\",\"\",\"\",\"\",\"\",\"\",\"\",\"\",\"\",\"\",\"\",\"\",\"\",\"\",\"\",\"\",\"\",\"\",\"\",\"\",\"\",\"\",\"\",\"\",\"\",\"\",\"\",\"\",\"\",\"\",\"\",\"\",\"\",\"\",\"\",\"\",\"\",\"\",\"\",\"\",\"\",\"\",\"\",\"\",\"\",\"\",\"\",\"\",\"\",\"\",\"\",\"\",\"\",\"\",\"\",\"\",\"\",\"\",\"\",\"\",\"\",\"\",\"\",\"\",\"\",\"\",\"\",\"\",\"\",\"\",\"\",\"\",\"\",\"\",\"\",\"\",\"\",\"\",\"\",\"\",\"\",\"\",\"\",\"\",\"\",\"\",\"\",\"\",\"\",\"\",\"\",\"\",\"\",\"\",\"\",\"\",\"\",\"\",\"\",\"\",\"\",\"\",\"\",\"\",\"\",\"\",\"\",\"\",\"\",\"\",\"\",\"\",\"\",\"\",\"\",\"\",\"\",\"\",\"\",\"\",\"\",\"\",\"\",\"\",\"\",\"\",\"\",\"\",\"\",\"\",\"\",\"\",\"\",\"\",\"\",\"\",\"\",\"\",\"\",\"\",\"\",\"\",\"\",\"\",\"\",\"\",\"\",\"\",\"\",\"\",\"\",\"\",\"\",\"\",\"\",\"\",\"\",\"\",\"\",\"\",\"\",\"\",\"\",\"\",\"\",\"\",\"\",\"\",\"\",\"\",\"\",\"\",\"\",\"\",\"\",\"\",\"\",\"\",\"\",\"\",\"\",\"\",\"\",\"\",\"\",\"\",\"\",\"\",\"\",\"\",\"\",\"\",\"\",\"\",\"\",\"\",\"\",\"\",\"\",\"\",\"\",\"\",\"\",\"\",\"\",\"\",\"\",\"\",\"\",\"\",\"\",\"\",\"\",\"\",\"\",\"\",\"\",\"\",\"\",\"\",\"\",\"\",\"\",\"\",\"\",\"\",\"\",\"\",\"\",\"\",\"\",\"\",\"\",\"\",\"\",\"\",\"\",\"\",\"\",\"\",\"\",\"\",\"\",\"\",\"\",\"\",\"\",\"\",\"\",\"\",\"\",\"\",\"\",\"\",\"\",\"\",\"\",\"\",\"\",\"\",\"\",\"\",\"\",\"\",\"\",\"\",\"\",\"\",\"\",\"\",\"\",\"\",\"\",\"\",\"\",\"\",\"\",\"\",\"\",\"\",\"\",\"\",\"\",\"\",\"\",\"\",\"\",\"\",\"\",\"\",\"\",\"\",\"\",\"\",\"\",\"\",\"\",\"\",\"\",\"\",\"\",\"\",\"\",\"\",\"\",\"\",\"\",\"\",\"\",\"\",\"\",\"\",\"\",\"\",\"\",\"\",\"\",\"\",\"\",\"\",\"\",\"\",\"\",\"\",\"\",\"\",\"\",\"\",\"\",\"\",\"\",\"\",\"\",\"\",\"\",\"\",\"\",\"\",\"\",\"\",\"\",\"\",\"\",\"\",\"\",\"\",\"\",\"\",\"\",\"\",\"\",\"\",\"\",\"\",\"\",\"\",\"\",\"\",\"\",\"\",\"\",\"\",\"\",\"\",\"\",\"\",\"\",\"\",\"\",\"\",\"\",\"\",\"\",\"\",\"\",\"\",\"\",\"\",\"\",\"\",\"\",\"\",\"\",\"\",\"\",\"\",\"\",\"\",\"\",\"\",\"\",\"\",\"\",\"\",\"\",\"\",\"\",\"\",\"\",\"\",\"\",\"\",\"\",\"\",\"\",\"\",\"\",\"\",\"\",\"\",\"\",\"\",\"\",\"\",\"\",\"\",\"\",\"\",\"\",\"\",\"\",\"\",\"\",\"\",\"\",\"\",\"\",\"\",\"\",\"\",\"\",\"\",\"\",\"\",\"\",\"\",\"\",\"\",\"\",\"\",\"\",\"\",\"\",\"\",\"\",\"\",\"\",\"\",\"\",\"\",\"\",\"\",\"\",\"\",\"\",\"\",\"\",\"\",\"\",\"\",\"\",\"\",\"\",\"\",\"\",\"\",\"\",\"\",\"\",\"\",\"\",\"\",\"\",\"\",\"\",\"\",\"\",\"\",\"\",\"\",\"\",\"\",\"\",\"\",\"\",\"\",\"\",\"\",\"\",\"\",\"\",\"\",\"\",\"\",\"\",\"\",\"\",\"\",\"\",\"\",\"\",\"\",\"\",\"\",\"\",\"\",\"\",\"\",\"\",\"\",\"\",\"\",\"\",\"\",\"\",\"\",\"\",\"\",\"\",\"\",\"\",\"\",\"\",\"\",\"\",\"\",\"\",\"\",\"\",\"\",\"\",\"\",\"\",\"\",\"\",\"\",\"\",\"\",\"\",\"\",\"\",\"\",\"\",\"\",\"\",\"\",\"\",\"\",\"\",\"\",\"\",\"\",\"\",\"\",\"\",\"\",\"\",\"\",\"\",\"\",\"\",\"\",\"\",\"\",\"\",\"\",\"\",\"\",\"\",\"\",\"\",\"\",\"\",\"\",\"\",\"\",\"\",\"\",\"\",\"\",\"\",\"\",\"\",\"\",\"\",\"\",\"\",\"\",\"\",\"\",\"\",\"\",\"\",\"\",\"\",\"\",\"\",\"\",\"\",\"\",\"\",\"\",\"\",\"\",\"\",\"\",\"\",\"\",\"\",\"\",\"\",\"\",\"\",\"\",\"\",\"\",\"\",\"\",\"\",\"\",\"\",\"\",\"\",\"\",\"\",\"\",\"\",\"\",\"\",\"\",\"\",\"\",\"\",\"\",\"\",\"\",\"\",\"\",\"\",\"\",\"\",\"\",\"\",\"\",\"\",\"\",\"\",\"\",\"\",\"\",\"\",\"\",\"\",\"\",\"\",\"\",\"\",\"\",\"\",\"\",\"\",\"\",\"\",\"\",\"\",\"\",\"\",\"\",\"\",\"\",\"\",\"\",\"\",\"\",\"\",\"\",\"\",\"\",\"\",\"\",\"\",\"\",\"\",\"\",\"\",\"\",\"\",\"\",\"\",\"\",\"\",\"\",\"\",\"\",\"\",\"\",\"\",\"\",\"\",\"\",\"\",\"\",\"\",\"\",\"\",\"\",\"\",\"\",\"\",\"\",\"\",\"\",\"\",\"\",\"\",\"\",\"\",\"\",\"\",\"\",\"\",\"\",\"\",\"\",\"\",\"\",\"\",\"\",\"\",\"\",\"\",\"\",\"\",\"\",\"\",\"\",\"\",\"\",\"\",\"\",\"\",\"\",\"\",\"\",\"\",\"\",\"\",\"\",\"\",\"\",\"\",\"\",\"\",\"\",\"\",\"\",\"\",\"\",\"\",\"\",\"\",\"\",\"\",\"\",\"\",\"\",\"\",\"\",\"\",\"\",\"\",\"\",\"\",\"\",\"\",\"\",\"\",\"\",\"\",\"\",\"\",\"\",\"\",\"\",\"\",\"\",\"\",\"\",\"\",\"\",\"\",\"\",\"\",\"\",\"\",\"\",\"\",\"\",\"\",\"\",\"\",\"\",\"\",\"\",\"\",\"\",\"\"],\"values\":[3,3,2,1,1,1,2,1,1,89,10,1,2,4,1,1,2,1,1,1,1,2,2,1,1,1,16,2,1,1,1,1,80,1,22,1,1,1,1,4,5,1,1,1,1,1,4,1,1,2,1,36,17,1,1,1,2,1,1,1,1,1,1,1,1,19,1,2,1,1,2,92,1,1,1,1,3,1,1,1,1,1,1,1,8,1,1,1,50,1,6,1,1,1,1,1,1,1,1,1,2,1,2,1,1,3,1,1,1,1,1,1,101,1,6,2,1,1,1,1,1,2,1,1,1,3799,4,1,1,6,1,1,1,1,1,1,11,1,1,1,1,1,1,1,2,29,1,1,2,1,1,1,1,1,2,1,1,1,1,1,1,1,1,1,1,1,1,1,1,1,1,18,1,2,1,4,1,1,2,1,14,2,1,1,1,1,1,1,1,1,1,1,2,1,1,6,1,1,1,1,1,1,10,1,1,1,1,1,4,1,4,3,1,1,1,1,141,1,1,2,2,1,1,1,1,1,1,2,16,1,1,1,1,1,1,2,2,1,1,3,1,10,1,1,1,1,2,1,1,1,1,6,1,1,1,1,2,3,1,1,1,1,7,1,1,2,11,1,1,1,1,4,1,1,1,1,1,3,1,1,1,53,1,1,1,2,3,1,1,2,1,8,1,1,1,2,2,1,1,1,1,1,1,2,1,2,1,1,1,1,1,1,1,1,1,1,1,1,1,8,1,1,1,6,1,1,1,1,1,1,1,1,5,1,1,1,1,1,1,1,1,1,1,1,23,1,1,1,1,1,1,15,2,1,1,1,1,1,1,1,1,1,1,1,1,4,1,1,1,1,1,2,2,1,1,1,1,1,4,1,1,5,1,1,1,1,1,1,50,1,1,1,1,9,1,1,1,1,4,2,1,1,2,2,1,1,1,1,1,1,1,8,1,1,1,1,1,42,1,1,1,2,1,1,1,2,2,1,1,1,1,1,5,1,3,3,3,1,14,1,1,1,1,1,1,1,1,1,1,17,3,1,1,1,1,1,2,1,1,1,1,36,4,1,1,1,1,1,1,1,1,1,1,1,2,1,4,1,1,1,1,1,1,1,1,1,1,1,1,1,1,1,1,2,1,1,1,1,1,1,1,3,1,1,1,4,1,1,1,1,1,3,1,1,16,1,2,1,1,2,2,1,1,1,1,1,1,2,1,1,1,1,1,4,1,1,1,1,1,1,1,1,1,1,50,3,1,1,1,7,1,1,1,1,1,1,2,1,1,1,1,1,1,1,1,1,1,1,1,2,1,1,1,1,6,1,1,1,2,9,1,3,1,3,1,2,1,1,1,1,2,1,1,1,1,2,1,246,1,2,1,1,1,2,1,1,1,1,1,1,1,12,1,1,1,1,1,1,2,1,1,4,1,1,1,1,1,1,1,1,3,1,1,1,1,1,1,2,1,1,3,1,1,1,1,1,1,5,1,1,6,2,1,1,1,2,2,1,1,1,1,1,3,1,7,1,1,1,1,1,1,1,1,1,1,1,1,9,1,1,1,1,1,1,1,4,2,1,1,23,1,1,1,2,2,1,8,1,1,1,2,1,1,1,4,1,3,3,1,3,37,5,1,2,1,1,1,1,5,1,2,196,1,6,1,1,1,1,50,1,1,2,1,1,2,1,1,1,1,1,1,1,1,1,1,1,1,1,1,2,1,1,1,2,5,2,1,1,1,1,1,4,2,2,1,1,1,1,1,1,1,1,1,1,1,1,1,1,1,1,1,4,2,1,1,1,1,1,1,1,3,1,136,1,1,2,1,16,1,1,1,1,1,1,1,1,1,1,1,1,2,1,1,1,1,2,4,1,1,1,1,2,1,1,1,4,2,1,1,1,1,2,1,2,7,1,2,1,1,3,1,1,294,1,1,1,1,50,1,1,1,3,2,1,1,1,1,1,1,1,1,1,1,1,1,22,1,1,1,1,2,1,1,1,1,2,1,10,2,1,1,2,19,1,1,1,1,1,1,1,1,1,1,1,1,65,1,1,1,3,1,1,1,1,1,1,1,139,1,12,1,4,1,1,1,1,1,5,2,2,2,1,1,1,3,1,1,1,1,1,1,2,1,1,1,1,768,1,1,2,61,1,2,1,1,1,1,1,1,1,1,1,1,1,1,1,1,1,1,1,8,1,1,1,3,1,1,1,2,1,1,6,1,1,2,1,296,1,1,2,27,1,2,3,1,3,1,3,1,1,1,1,1,1,3,1,1,1,1,1,12,1,1,1,1,1,2,1,6,1,1,2,1,2,1,1,1,1,1,1,1,26,4,2,2,1,1,1,43,1,92,1,13,5,1,1,1,1,1,1,1,1,2,1,1,1,9,1,1,1,1,1,2,1,1,1,1,1,1,2,2,1,3,1,1,4,1,1,1,1,1,1,1,1,1,19,1,1,1,1,1,1,1,11,3,2,1,31,1,1,1,5,1,1,1,1,3,3,1,90,12,1,1,1,1,1,1,1,1,3,1,1,1,1,1,1,1,1,1,1,1,107,1,9,1,1,1,1,2,1,1,1,1,1,2,36,2,2,60,1,6,1,1,1,2,1,2,1,1,1,25,1,3,1,1,1,1,1,1,1,1,1,1,1,1,1,1,1,1,2,1,1,267,1,1,1,2,1,2,3,1,32,2,1,1,1,1,1,1,1,3,1,1,1,1,4,1,1,1,1,1,1,1,2,1,1,1,1,1,1,1,3,1,1,1,1,1,1,1,64,1,1,1,7,1,1,1,1,1,1,1,1,1,1,1,1,1,1,1,1,2,1,1,1,16,1,1,51,1,2,1,1,1,3,1,20,5,6,106,13,1,1,1,1,2,1,1,1,1,112,1,1,4,1,1,1,1,1,8,1,4,1,1,1,1,1,3,1,1,1,1,1,1,1,1,3,1,1],\"type\":\"treemap\"}],                        {\"template\":{\"data\":{\"histogram2dcontour\":[{\"type\":\"histogram2dcontour\",\"colorbar\":{\"outlinewidth\":0,\"ticks\":\"\"},\"colorscale\":[[0.0,\"#0d0887\"],[0.1111111111111111,\"#46039f\"],[0.2222222222222222,\"#7201a8\"],[0.3333333333333333,\"#9c179e\"],[0.4444444444444444,\"#bd3786\"],[0.5555555555555556,\"#d8576b\"],[0.6666666666666666,\"#ed7953\"],[0.7777777777777778,\"#fb9f3a\"],[0.8888888888888888,\"#fdca26\"],[1.0,\"#f0f921\"]]}],\"choropleth\":[{\"type\":\"choropleth\",\"colorbar\":{\"outlinewidth\":0,\"ticks\":\"\"}}],\"histogram2d\":[{\"type\":\"histogram2d\",\"colorbar\":{\"outlinewidth\":0,\"ticks\":\"\"},\"colorscale\":[[0.0,\"#0d0887\"],[0.1111111111111111,\"#46039f\"],[0.2222222222222222,\"#7201a8\"],[0.3333333333333333,\"#9c179e\"],[0.4444444444444444,\"#bd3786\"],[0.5555555555555556,\"#d8576b\"],[0.6666666666666666,\"#ed7953\"],[0.7777777777777778,\"#fb9f3a\"],[0.8888888888888888,\"#fdca26\"],[1.0,\"#f0f921\"]]}],\"heatmap\":[{\"type\":\"heatmap\",\"colorbar\":{\"outlinewidth\":0,\"ticks\":\"\"},\"colorscale\":[[0.0,\"#0d0887\"],[0.1111111111111111,\"#46039f\"],[0.2222222222222222,\"#7201a8\"],[0.3333333333333333,\"#9c179e\"],[0.4444444444444444,\"#bd3786\"],[0.5555555555555556,\"#d8576b\"],[0.6666666666666666,\"#ed7953\"],[0.7777777777777778,\"#fb9f3a\"],[0.8888888888888888,\"#fdca26\"],[1.0,\"#f0f921\"]]}],\"heatmapgl\":[{\"type\":\"heatmapgl\",\"colorbar\":{\"outlinewidth\":0,\"ticks\":\"\"},\"colorscale\":[[0.0,\"#0d0887\"],[0.1111111111111111,\"#46039f\"],[0.2222222222222222,\"#7201a8\"],[0.3333333333333333,\"#9c179e\"],[0.4444444444444444,\"#bd3786\"],[0.5555555555555556,\"#d8576b\"],[0.6666666666666666,\"#ed7953\"],[0.7777777777777778,\"#fb9f3a\"],[0.8888888888888888,\"#fdca26\"],[1.0,\"#f0f921\"]]}],\"contourcarpet\":[{\"type\":\"contourcarpet\",\"colorbar\":{\"outlinewidth\":0,\"ticks\":\"\"}}],\"contour\":[{\"type\":\"contour\",\"colorbar\":{\"outlinewidth\":0,\"ticks\":\"\"},\"colorscale\":[[0.0,\"#0d0887\"],[0.1111111111111111,\"#46039f\"],[0.2222222222222222,\"#7201a8\"],[0.3333333333333333,\"#9c179e\"],[0.4444444444444444,\"#bd3786\"],[0.5555555555555556,\"#d8576b\"],[0.6666666666666666,\"#ed7953\"],[0.7777777777777778,\"#fb9f3a\"],[0.8888888888888888,\"#fdca26\"],[1.0,\"#f0f921\"]]}],\"surface\":[{\"type\":\"surface\",\"colorbar\":{\"outlinewidth\":0,\"ticks\":\"\"},\"colorscale\":[[0.0,\"#0d0887\"],[0.1111111111111111,\"#46039f\"],[0.2222222222222222,\"#7201a8\"],[0.3333333333333333,\"#9c179e\"],[0.4444444444444444,\"#bd3786\"],[0.5555555555555556,\"#d8576b\"],[0.6666666666666666,\"#ed7953\"],[0.7777777777777778,\"#fb9f3a\"],[0.8888888888888888,\"#fdca26\"],[1.0,\"#f0f921\"]]}],\"mesh3d\":[{\"type\":\"mesh3d\",\"colorbar\":{\"outlinewidth\":0,\"ticks\":\"\"}}],\"scatter\":[{\"fillpattern\":{\"fillmode\":\"overlay\",\"size\":10,\"solidity\":0.2},\"type\":\"scatter\"}],\"parcoords\":[{\"type\":\"parcoords\",\"line\":{\"colorbar\":{\"outlinewidth\":0,\"ticks\":\"\"}}}],\"scatterpolargl\":[{\"type\":\"scatterpolargl\",\"marker\":{\"colorbar\":{\"outlinewidth\":0,\"ticks\":\"\"}}}],\"bar\":[{\"error_x\":{\"color\":\"#2a3f5f\"},\"error_y\":{\"color\":\"#2a3f5f\"},\"marker\":{\"line\":{\"color\":\"#E5ECF6\",\"width\":0.5},\"pattern\":{\"fillmode\":\"overlay\",\"size\":10,\"solidity\":0.2}},\"type\":\"bar\"}],\"scattergeo\":[{\"type\":\"scattergeo\",\"marker\":{\"colorbar\":{\"outlinewidth\":0,\"ticks\":\"\"}}}],\"scatterpolar\":[{\"type\":\"scatterpolar\",\"marker\":{\"colorbar\":{\"outlinewidth\":0,\"ticks\":\"\"}}}],\"histogram\":[{\"marker\":{\"pattern\":{\"fillmode\":\"overlay\",\"size\":10,\"solidity\":0.2}},\"type\":\"histogram\"}],\"scattergl\":[{\"type\":\"scattergl\",\"marker\":{\"colorbar\":{\"outlinewidth\":0,\"ticks\":\"\"}}}],\"scatter3d\":[{\"type\":\"scatter3d\",\"line\":{\"colorbar\":{\"outlinewidth\":0,\"ticks\":\"\"}},\"marker\":{\"colorbar\":{\"outlinewidth\":0,\"ticks\":\"\"}}}],\"scattermapbox\":[{\"type\":\"scattermapbox\",\"marker\":{\"colorbar\":{\"outlinewidth\":0,\"ticks\":\"\"}}}],\"scatterternary\":[{\"type\":\"scatterternary\",\"marker\":{\"colorbar\":{\"outlinewidth\":0,\"ticks\":\"\"}}}],\"scattercarpet\":[{\"type\":\"scattercarpet\",\"marker\":{\"colorbar\":{\"outlinewidth\":0,\"ticks\":\"\"}}}],\"carpet\":[{\"aaxis\":{\"endlinecolor\":\"#2a3f5f\",\"gridcolor\":\"white\",\"linecolor\":\"white\",\"minorgridcolor\":\"white\",\"startlinecolor\":\"#2a3f5f\"},\"baxis\":{\"endlinecolor\":\"#2a3f5f\",\"gridcolor\":\"white\",\"linecolor\":\"white\",\"minorgridcolor\":\"white\",\"startlinecolor\":\"#2a3f5f\"},\"type\":\"carpet\"}],\"table\":[{\"cells\":{\"fill\":{\"color\":\"#EBF0F8\"},\"line\":{\"color\":\"white\"}},\"header\":{\"fill\":{\"color\":\"#C8D4E3\"},\"line\":{\"color\":\"white\"}},\"type\":\"table\"}],\"barpolar\":[{\"marker\":{\"line\":{\"color\":\"#E5ECF6\",\"width\":0.5},\"pattern\":{\"fillmode\":\"overlay\",\"size\":10,\"solidity\":0.2}},\"type\":\"barpolar\"}],\"pie\":[{\"automargin\":true,\"type\":\"pie\"}]},\"layout\":{\"autotypenumbers\":\"strict\",\"colorway\":[\"#636efa\",\"#EF553B\",\"#00cc96\",\"#ab63fa\",\"#FFA15A\",\"#19d3f3\",\"#FF6692\",\"#B6E880\",\"#FF97FF\",\"#FECB52\"],\"font\":{\"color\":\"#2a3f5f\"},\"hovermode\":\"closest\",\"hoverlabel\":{\"align\":\"left\"},\"paper_bgcolor\":\"white\",\"plot_bgcolor\":\"#E5ECF6\",\"polar\":{\"bgcolor\":\"#E5ECF6\",\"angularaxis\":{\"gridcolor\":\"white\",\"linecolor\":\"white\",\"ticks\":\"\"},\"radialaxis\":{\"gridcolor\":\"white\",\"linecolor\":\"white\",\"ticks\":\"\"}},\"ternary\":{\"bgcolor\":\"#E5ECF6\",\"aaxis\":{\"gridcolor\":\"white\",\"linecolor\":\"white\",\"ticks\":\"\"},\"baxis\":{\"gridcolor\":\"white\",\"linecolor\":\"white\",\"ticks\":\"\"},\"caxis\":{\"gridcolor\":\"white\",\"linecolor\":\"white\",\"ticks\":\"\"}},\"coloraxis\":{\"colorbar\":{\"outlinewidth\":0,\"ticks\":\"\"}},\"colorscale\":{\"sequential\":[[0.0,\"#0d0887\"],[0.1111111111111111,\"#46039f\"],[0.2222222222222222,\"#7201a8\"],[0.3333333333333333,\"#9c179e\"],[0.4444444444444444,\"#bd3786\"],[0.5555555555555556,\"#d8576b\"],[0.6666666666666666,\"#ed7953\"],[0.7777777777777778,\"#fb9f3a\"],[0.8888888888888888,\"#fdca26\"],[1.0,\"#f0f921\"]],\"sequentialminus\":[[0.0,\"#0d0887\"],[0.1111111111111111,\"#46039f\"],[0.2222222222222222,\"#7201a8\"],[0.3333333333333333,\"#9c179e\"],[0.4444444444444444,\"#bd3786\"],[0.5555555555555556,\"#d8576b\"],[0.6666666666666666,\"#ed7953\"],[0.7777777777777778,\"#fb9f3a\"],[0.8888888888888888,\"#fdca26\"],[1.0,\"#f0f921\"]],\"diverging\":[[0,\"#8e0152\"],[0.1,\"#c51b7d\"],[0.2,\"#de77ae\"],[0.3,\"#f1b6da\"],[0.4,\"#fde0ef\"],[0.5,\"#f7f7f7\"],[0.6,\"#e6f5d0\"],[0.7,\"#b8e186\"],[0.8,\"#7fbc41\"],[0.9,\"#4d9221\"],[1,\"#276419\"]]},\"xaxis\":{\"gridcolor\":\"white\",\"linecolor\":\"white\",\"ticks\":\"\",\"title\":{\"standoff\":15},\"zerolinecolor\":\"white\",\"automargin\":true,\"zerolinewidth\":2},\"yaxis\":{\"gridcolor\":\"white\",\"linecolor\":\"white\",\"ticks\":\"\",\"title\":{\"standoff\":15},\"zerolinecolor\":\"white\",\"automargin\":true,\"zerolinewidth\":2},\"scene\":{\"xaxis\":{\"backgroundcolor\":\"#E5ECF6\",\"gridcolor\":\"white\",\"linecolor\":\"white\",\"showbackground\":true,\"ticks\":\"\",\"zerolinecolor\":\"white\",\"gridwidth\":2},\"yaxis\":{\"backgroundcolor\":\"#E5ECF6\",\"gridcolor\":\"white\",\"linecolor\":\"white\",\"showbackground\":true,\"ticks\":\"\",\"zerolinecolor\":\"white\",\"gridwidth\":2},\"zaxis\":{\"backgroundcolor\":\"#E5ECF6\",\"gridcolor\":\"white\",\"linecolor\":\"white\",\"showbackground\":true,\"ticks\":\"\",\"zerolinecolor\":\"white\",\"gridwidth\":2}},\"shapedefaults\":{\"line\":{\"color\":\"#2a3f5f\"}},\"annotationdefaults\":{\"arrowcolor\":\"#2a3f5f\",\"arrowhead\":0,\"arrowwidth\":1},\"geo\":{\"bgcolor\":\"white\",\"landcolor\":\"#E5ECF6\",\"subunitcolor\":\"white\",\"showland\":true,\"showlakes\":true,\"lakecolor\":\"white\"},\"title\":{\"x\":0.05},\"mapbox\":{\"style\":\"light\"}}},\"legend\":{\"tracegroupgap\":0},\"margin\":{\"t\":60}},                        {\"responsive\": true}                    ).then(function(){\n",
              "                            \n",
              "var gd = document.getElementById('93285348-ddca-423e-9ad7-bf9c76912c83');\n",
              "var x = new MutationObserver(function (mutations, observer) {{\n",
              "        var display = window.getComputedStyle(gd).display;\n",
              "        if (!display || display === 'none') {{\n",
              "            console.log([gd, 'removed!']);\n",
              "            Plotly.purge(gd);\n",
              "            observer.disconnect();\n",
              "        }}\n",
              "}});\n",
              "\n",
              "// Listen for the removal of the full notebook cells\n",
              "var notebookContainer = gd.closest('#notebook-container');\n",
              "if (notebookContainer) {{\n",
              "    x.observe(notebookContainer, {childList: true});\n",
              "}}\n",
              "\n",
              "// Listen for the clearing of the current output cell\n",
              "var outputEl = gd.closest('.output');\n",
              "if (outputEl) {{\n",
              "    x.observe(outputEl, {childList: true});\n",
              "}}\n",
              "\n",
              "                        })                };                            </script>        </div>\n",
              "</body>\n",
              "</html>"
            ]
          },
          "metadata": {}
        }
      ]
    },
    {
      "cell_type": "markdown",
      "source": [
        "##Best Hidden Gems"
      ],
      "metadata": {
        "id": "QY-J0KNNNa8J"
      }
    },
    {
      "cell_type": "markdown",
      "source": [
        "###For the Tv Series :"
      ],
      "metadata": {
        "id": "40Cm1mBqNpFn"
      }
    },
    {
      "cell_type": "code",
      "source": [
        "df_series_hdg = df_series.dropna(subset=['Hidden Gem Score'])\n",
        "df_series_hdg = df_series_hdg.sort_values(by = 'Hidden Gem Score', ascending = False)\n",
        "top_s_10_list = df_series_hdg[:10]\n",
        "top_s_10_list.reset_index(drop=True, inplace=True)\n",
        "print('The 10 Best Hidden Gems on Tv Series are:\\n',top_s_10_list['Title'])"
      ],
      "metadata": {
        "colab": {
          "base_uri": "https://localhost:8080/"
        },
        "id": "tBIrLPxMMzlz",
        "outputId": "1ecaaf54-31f0-414b-fe28-c1ac7b7f66ab"
      },
      "execution_count": null,
      "outputs": [
        {
          "output_type": "stream",
          "name": "stdout",
          "text": [
            "The 10 Best Hidden Gems on Tv Series are:\n",
            " 0                 Flavours of Romania\n",
            "1                 A Lion in the House\n",
            "2                            Im Sorry\n",
            "3                    Regiment Diaries\n",
            "4                        Numberblocks\n",
            "5                            Stranger\n",
            "6                        The Lost Art\n",
            "7                          Doble Kara\n",
            "8                            Kopitiam\n",
            "9    Aunty Donnas Big Ol House of Fun\n",
            "Name: Title, dtype: object\n"
          ]
        }
      ]
    },
    {
      "cell_type": "markdown",
      "source": [
        "###For the movie :"
      ],
      "metadata": {
        "id": "gsxGBUgWOVsl"
      }
    },
    {
      "cell_type": "code",
      "source": [
        "df_movie_hdg = df_movie.dropna(subset=['Hidden Gem Score'])\n",
        "df_movie_hdg = df_movie_hdg.sort_values(by = 'Hidden Gem Score', ascending = False)\n",
        "top_m_10_list = df_movie_hdg[:10]\n",
        "top_m_10_list.reset_index(drop=True, inplace=True)\n",
        "print('The 10 Best Hidden Gems in Movies are:\\n',top_m_10_list['Title'])"
      ],
      "metadata": {
        "colab": {
          "base_uri": "https://localhost:8080/"
        },
        "id": "ox5hCZuMNeuC",
        "outputId": "73c40139-b35d-4aa6-a1cb-00b308a2231b"
      },
      "execution_count": null,
      "outputs": [
        {
          "output_type": "stream",
          "name": "stdout",
          "text": [
            "The 10 Best Hidden Gems in Movies are:\n",
            " 0                             No Festival\n",
            "1                         The Dream House\n",
            "2                           Horsin Around\n",
            "3                              Conspiracy\n",
            "4                              Green Gold\n",
            "5                                One Girl\n",
            "6                        The Last Animals\n",
            "7                         The Consuls Son\n",
            "8                          Bye Bye London\n",
            "9    Invisible Essence: The Little Prince\n",
            "Name: Title, dtype: object\n"
          ]
        }
      ]
    },
    {
      "cell_type": "code",
      "source": [
        "df_series_ctr = df_series.dropna(subset=['Country Availability'])"
      ],
      "metadata": {
        "id": "r46WfxJROaS1"
      },
      "execution_count": null,
      "outputs": []
    },
    {
      "cell_type": "code",
      "source": [
        "series_ctr_list = df_series_ctr['Country Availability'].str.split(', ')\n",
        "s_ctr_list = {}\n",
        "for countries in series_ctr_list:\n",
        "    for country in countries:\n",
        "        if (country in s_ctr_list):\n",
        "            s_ctr_list[country]+=1\n",
        "        else:\n",
        "            s_ctr_list[country]=1\n",
        "s_ctr_df = pd.DataFrame(s_ctr_list.values(),index = s_ctr_list.keys(),\n",
        "                        columns = ['Counts of Country Availability'])\n",
        "s_ctr_df.sort_values(by = 'Counts of Country Availability',ascending = False,inplace = True)\n",
        "top_10_s_ctr = s_ctr_df[0:10]\n",
        "fig = go.Figure(data=[go.Bar(\n",
        "    x = top_10_s_ctr.index,\n",
        "    y = top_10_s_ctr['Counts of Country Availability'],\n",
        "    text = top_10_s_ctr['Counts of Country Availability'],\n",
        "    textposition='auto',\n",
        "    marker_color=colors_10\n",
        ")])\n",
        "fig.update_traces(texttemplate='%{text:.2s}', textposition='outside')\n",
        "fig.update_layout(title_text= 'Which countries have a larger Series Availability?',\n",
        "                  uniformtext_minsize=8, uniformtext_mode='hide',\n",
        "                  yaxis=dict(\n",
        "                  title='Quantity',\n",
        "                  titlefont_size=14),\n",
        "                  xaxis=dict(\n",
        "                  title='Countries',\n",
        "                  titlefont_size=14))"
      ],
      "metadata": {
        "id": "N3Cw70Y2PA6i",
        "colab": {
          "base_uri": "https://localhost:8080/",
          "height": 542
        },
        "outputId": "fb209fc3-1c5c-41f6-fec6-c38f65620ffb"
      },
      "execution_count": null,
      "outputs": [
        {
          "output_type": "display_data",
          "data": {
            "text/html": [
              "<html>\n",
              "<head><meta charset=\"utf-8\" /></head>\n",
              "<body>\n",
              "    <div>            <script src=\"https://cdnjs.cloudflare.com/ajax/libs/mathjax/2.7.5/MathJax.js?config=TeX-AMS-MML_SVG\"></script><script type=\"text/javascript\">if (window.MathJax && window.MathJax.Hub && window.MathJax.Hub.Config) {window.MathJax.Hub.Config({SVG: {font: \"STIX-Web\"}});}</script>                <script type=\"text/javascript\">window.PlotlyConfig = {MathJaxConfig: 'local'};</script>\n",
              "        <script charset=\"utf-8\" src=\"https://cdn.plot.ly/plotly-2.35.2.min.js\"></script>                <div id=\"2b6a60ca-9cfd-40b6-a969-418ed91df090\" class=\"plotly-graph-div\" style=\"height:525px; width:100%;\"></div>            <script type=\"text/javascript\">                                    window.PLOTLYENV=window.PLOTLYENV || {};                                    if (document.getElementById(\"2b6a60ca-9cfd-40b6-a969-418ed91df090\")) {                    Plotly.newPlot(                        \"2b6a60ca-9cfd-40b6-a969-418ed91df090\",                        [{\"marker\":{\"color\":[\"DarkRed\",\"FireBrick\",\"Red\",\"Crimson\",\"IndianRed\",\"slategray\",\"gray\",\"dimgrey\",\"DarkSlateGrey\",\"black\"]},\"text\":[377.0,111.0,99.0,91.0,86.0,49.0,37.0,37.0,29.0,28.0],\"textposition\":\"outside\",\"x\":[\"Japan\",\"United Kingdom\",\"Switzerland,Germany\",\"South Korea\",\"United States\",\"Thailand\",\"Singapore,Malaysia\",\"Belgium,Netherlands\",\"Sweden\",\"Australia\"],\"y\":[377,111,99,91,86,49,37,37,29,28],\"type\":\"bar\",\"texttemplate\":\"%{text:.2s}\"}],                        {\"template\":{\"data\":{\"histogram2dcontour\":[{\"type\":\"histogram2dcontour\",\"colorbar\":{\"outlinewidth\":0,\"ticks\":\"\"},\"colorscale\":[[0.0,\"#0d0887\"],[0.1111111111111111,\"#46039f\"],[0.2222222222222222,\"#7201a8\"],[0.3333333333333333,\"#9c179e\"],[0.4444444444444444,\"#bd3786\"],[0.5555555555555556,\"#d8576b\"],[0.6666666666666666,\"#ed7953\"],[0.7777777777777778,\"#fb9f3a\"],[0.8888888888888888,\"#fdca26\"],[1.0,\"#f0f921\"]]}],\"choropleth\":[{\"type\":\"choropleth\",\"colorbar\":{\"outlinewidth\":0,\"ticks\":\"\"}}],\"histogram2d\":[{\"type\":\"histogram2d\",\"colorbar\":{\"outlinewidth\":0,\"ticks\":\"\"},\"colorscale\":[[0.0,\"#0d0887\"],[0.1111111111111111,\"#46039f\"],[0.2222222222222222,\"#7201a8\"],[0.3333333333333333,\"#9c179e\"],[0.4444444444444444,\"#bd3786\"],[0.5555555555555556,\"#d8576b\"],[0.6666666666666666,\"#ed7953\"],[0.7777777777777778,\"#fb9f3a\"],[0.8888888888888888,\"#fdca26\"],[1.0,\"#f0f921\"]]}],\"heatmap\":[{\"type\":\"heatmap\",\"colorbar\":{\"outlinewidth\":0,\"ticks\":\"\"},\"colorscale\":[[0.0,\"#0d0887\"],[0.1111111111111111,\"#46039f\"],[0.2222222222222222,\"#7201a8\"],[0.3333333333333333,\"#9c179e\"],[0.4444444444444444,\"#bd3786\"],[0.5555555555555556,\"#d8576b\"],[0.6666666666666666,\"#ed7953\"],[0.7777777777777778,\"#fb9f3a\"],[0.8888888888888888,\"#fdca26\"],[1.0,\"#f0f921\"]]}],\"heatmapgl\":[{\"type\":\"heatmapgl\",\"colorbar\":{\"outlinewidth\":0,\"ticks\":\"\"},\"colorscale\":[[0.0,\"#0d0887\"],[0.1111111111111111,\"#46039f\"],[0.2222222222222222,\"#7201a8\"],[0.3333333333333333,\"#9c179e\"],[0.4444444444444444,\"#bd3786\"],[0.5555555555555556,\"#d8576b\"],[0.6666666666666666,\"#ed7953\"],[0.7777777777777778,\"#fb9f3a\"],[0.8888888888888888,\"#fdca26\"],[1.0,\"#f0f921\"]]}],\"contourcarpet\":[{\"type\":\"contourcarpet\",\"colorbar\":{\"outlinewidth\":0,\"ticks\":\"\"}}],\"contour\":[{\"type\":\"contour\",\"colorbar\":{\"outlinewidth\":0,\"ticks\":\"\"},\"colorscale\":[[0.0,\"#0d0887\"],[0.1111111111111111,\"#46039f\"],[0.2222222222222222,\"#7201a8\"],[0.3333333333333333,\"#9c179e\"],[0.4444444444444444,\"#bd3786\"],[0.5555555555555556,\"#d8576b\"],[0.6666666666666666,\"#ed7953\"],[0.7777777777777778,\"#fb9f3a\"],[0.8888888888888888,\"#fdca26\"],[1.0,\"#f0f921\"]]}],\"surface\":[{\"type\":\"surface\",\"colorbar\":{\"outlinewidth\":0,\"ticks\":\"\"},\"colorscale\":[[0.0,\"#0d0887\"],[0.1111111111111111,\"#46039f\"],[0.2222222222222222,\"#7201a8\"],[0.3333333333333333,\"#9c179e\"],[0.4444444444444444,\"#bd3786\"],[0.5555555555555556,\"#d8576b\"],[0.6666666666666666,\"#ed7953\"],[0.7777777777777778,\"#fb9f3a\"],[0.8888888888888888,\"#fdca26\"],[1.0,\"#f0f921\"]]}],\"mesh3d\":[{\"type\":\"mesh3d\",\"colorbar\":{\"outlinewidth\":0,\"ticks\":\"\"}}],\"scatter\":[{\"fillpattern\":{\"fillmode\":\"overlay\",\"size\":10,\"solidity\":0.2},\"type\":\"scatter\"}],\"parcoords\":[{\"type\":\"parcoords\",\"line\":{\"colorbar\":{\"outlinewidth\":0,\"ticks\":\"\"}}}],\"scatterpolargl\":[{\"type\":\"scatterpolargl\",\"marker\":{\"colorbar\":{\"outlinewidth\":0,\"ticks\":\"\"}}}],\"bar\":[{\"error_x\":{\"color\":\"#2a3f5f\"},\"error_y\":{\"color\":\"#2a3f5f\"},\"marker\":{\"line\":{\"color\":\"#E5ECF6\",\"width\":0.5},\"pattern\":{\"fillmode\":\"overlay\",\"size\":10,\"solidity\":0.2}},\"type\":\"bar\"}],\"scattergeo\":[{\"type\":\"scattergeo\",\"marker\":{\"colorbar\":{\"outlinewidth\":0,\"ticks\":\"\"}}}],\"scatterpolar\":[{\"type\":\"scatterpolar\",\"marker\":{\"colorbar\":{\"outlinewidth\":0,\"ticks\":\"\"}}}],\"histogram\":[{\"marker\":{\"pattern\":{\"fillmode\":\"overlay\",\"size\":10,\"solidity\":0.2}},\"type\":\"histogram\"}],\"scattergl\":[{\"type\":\"scattergl\",\"marker\":{\"colorbar\":{\"outlinewidth\":0,\"ticks\":\"\"}}}],\"scatter3d\":[{\"type\":\"scatter3d\",\"line\":{\"colorbar\":{\"outlinewidth\":0,\"ticks\":\"\"}},\"marker\":{\"colorbar\":{\"outlinewidth\":0,\"ticks\":\"\"}}}],\"scattermapbox\":[{\"type\":\"scattermapbox\",\"marker\":{\"colorbar\":{\"outlinewidth\":0,\"ticks\":\"\"}}}],\"scatterternary\":[{\"type\":\"scatterternary\",\"marker\":{\"colorbar\":{\"outlinewidth\":0,\"ticks\":\"\"}}}],\"scattercarpet\":[{\"type\":\"scattercarpet\",\"marker\":{\"colorbar\":{\"outlinewidth\":0,\"ticks\":\"\"}}}],\"carpet\":[{\"aaxis\":{\"endlinecolor\":\"#2a3f5f\",\"gridcolor\":\"white\",\"linecolor\":\"white\",\"minorgridcolor\":\"white\",\"startlinecolor\":\"#2a3f5f\"},\"baxis\":{\"endlinecolor\":\"#2a3f5f\",\"gridcolor\":\"white\",\"linecolor\":\"white\",\"minorgridcolor\":\"white\",\"startlinecolor\":\"#2a3f5f\"},\"type\":\"carpet\"}],\"table\":[{\"cells\":{\"fill\":{\"color\":\"#EBF0F8\"},\"line\":{\"color\":\"white\"}},\"header\":{\"fill\":{\"color\":\"#C8D4E3\"},\"line\":{\"color\":\"white\"}},\"type\":\"table\"}],\"barpolar\":[{\"marker\":{\"line\":{\"color\":\"#E5ECF6\",\"width\":0.5},\"pattern\":{\"fillmode\":\"overlay\",\"size\":10,\"solidity\":0.2}},\"type\":\"barpolar\"}],\"pie\":[{\"automargin\":true,\"type\":\"pie\"}]},\"layout\":{\"autotypenumbers\":\"strict\",\"colorway\":[\"#636efa\",\"#EF553B\",\"#00cc96\",\"#ab63fa\",\"#FFA15A\",\"#19d3f3\",\"#FF6692\",\"#B6E880\",\"#FF97FF\",\"#FECB52\"],\"font\":{\"color\":\"#2a3f5f\"},\"hovermode\":\"closest\",\"hoverlabel\":{\"align\":\"left\"},\"paper_bgcolor\":\"white\",\"plot_bgcolor\":\"#E5ECF6\",\"polar\":{\"bgcolor\":\"#E5ECF6\",\"angularaxis\":{\"gridcolor\":\"white\",\"linecolor\":\"white\",\"ticks\":\"\"},\"radialaxis\":{\"gridcolor\":\"white\",\"linecolor\":\"white\",\"ticks\":\"\"}},\"ternary\":{\"bgcolor\":\"#E5ECF6\",\"aaxis\":{\"gridcolor\":\"white\",\"linecolor\":\"white\",\"ticks\":\"\"},\"baxis\":{\"gridcolor\":\"white\",\"linecolor\":\"white\",\"ticks\":\"\"},\"caxis\":{\"gridcolor\":\"white\",\"linecolor\":\"white\",\"ticks\":\"\"}},\"coloraxis\":{\"colorbar\":{\"outlinewidth\":0,\"ticks\":\"\"}},\"colorscale\":{\"sequential\":[[0.0,\"#0d0887\"],[0.1111111111111111,\"#46039f\"],[0.2222222222222222,\"#7201a8\"],[0.3333333333333333,\"#9c179e\"],[0.4444444444444444,\"#bd3786\"],[0.5555555555555556,\"#d8576b\"],[0.6666666666666666,\"#ed7953\"],[0.7777777777777778,\"#fb9f3a\"],[0.8888888888888888,\"#fdca26\"],[1.0,\"#f0f921\"]],\"sequentialminus\":[[0.0,\"#0d0887\"],[0.1111111111111111,\"#46039f\"],[0.2222222222222222,\"#7201a8\"],[0.3333333333333333,\"#9c179e\"],[0.4444444444444444,\"#bd3786\"],[0.5555555555555556,\"#d8576b\"],[0.6666666666666666,\"#ed7953\"],[0.7777777777777778,\"#fb9f3a\"],[0.8888888888888888,\"#fdca26\"],[1.0,\"#f0f921\"]],\"diverging\":[[0,\"#8e0152\"],[0.1,\"#c51b7d\"],[0.2,\"#de77ae\"],[0.3,\"#f1b6da\"],[0.4,\"#fde0ef\"],[0.5,\"#f7f7f7\"],[0.6,\"#e6f5d0\"],[0.7,\"#b8e186\"],[0.8,\"#7fbc41\"],[0.9,\"#4d9221\"],[1,\"#276419\"]]},\"xaxis\":{\"gridcolor\":\"white\",\"linecolor\":\"white\",\"ticks\":\"\",\"title\":{\"standoff\":15},\"zerolinecolor\":\"white\",\"automargin\":true,\"zerolinewidth\":2},\"yaxis\":{\"gridcolor\":\"white\",\"linecolor\":\"white\",\"ticks\":\"\",\"title\":{\"standoff\":15},\"zerolinecolor\":\"white\",\"automargin\":true,\"zerolinewidth\":2},\"scene\":{\"xaxis\":{\"backgroundcolor\":\"#E5ECF6\",\"gridcolor\":\"white\",\"linecolor\":\"white\",\"showbackground\":true,\"ticks\":\"\",\"zerolinecolor\":\"white\",\"gridwidth\":2},\"yaxis\":{\"backgroundcolor\":\"#E5ECF6\",\"gridcolor\":\"white\",\"linecolor\":\"white\",\"showbackground\":true,\"ticks\":\"\",\"zerolinecolor\":\"white\",\"gridwidth\":2},\"zaxis\":{\"backgroundcolor\":\"#E5ECF6\",\"gridcolor\":\"white\",\"linecolor\":\"white\",\"showbackground\":true,\"ticks\":\"\",\"zerolinecolor\":\"white\",\"gridwidth\":2}},\"shapedefaults\":{\"line\":{\"color\":\"#2a3f5f\"}},\"annotationdefaults\":{\"arrowcolor\":\"#2a3f5f\",\"arrowhead\":0,\"arrowwidth\":1},\"geo\":{\"bgcolor\":\"white\",\"landcolor\":\"#E5ECF6\",\"subunitcolor\":\"white\",\"showland\":true,\"showlakes\":true,\"lakecolor\":\"white\"},\"title\":{\"x\":0.05},\"mapbox\":{\"style\":\"light\"}}},\"title\":{\"text\":\"Which countries have a larger Series Availability?\"},\"uniformtext\":{\"minsize\":8,\"mode\":\"hide\"},\"yaxis\":{\"title\":{\"text\":\"Quantity\",\"font\":{\"size\":14}}},\"xaxis\":{\"title\":{\"text\":\"Countries\",\"font\":{\"size\":14}}}},                        {\"responsive\": true}                    ).then(function(){\n",
              "                            \n",
              "var gd = document.getElementById('2b6a60ca-9cfd-40b6-a969-418ed91df090');\n",
              "var x = new MutationObserver(function (mutations, observer) {{\n",
              "        var display = window.getComputedStyle(gd).display;\n",
              "        if (!display || display === 'none') {{\n",
              "            console.log([gd, 'removed!']);\n",
              "            Plotly.purge(gd);\n",
              "            observer.disconnect();\n",
              "        }}\n",
              "}});\n",
              "\n",
              "// Listen for the removal of the full notebook cells\n",
              "var notebookContainer = gd.closest('#notebook-container');\n",
              "if (notebookContainer) {{\n",
              "    x.observe(notebookContainer, {childList: true});\n",
              "}}\n",
              "\n",
              "// Listen for the clearing of the current output cell\n",
              "var outputEl = gd.closest('.output');\n",
              "if (outputEl) {{\n",
              "    x.observe(outputEl, {childList: true});\n",
              "}}\n",
              "\n",
              "                        })                };                            </script>        </div>\n",
              "</body>\n",
              "</html>"
            ]
          },
          "metadata": {}
        }
      ]
    },
    {
      "cell_type": "code",
      "source": [
        "fig = go.Figure(data=[go.Bar(\n",
        "    x = top_10_s_ctr.index,\n",
        "    y = top_10_s_ctr['Counts of Country Availability'],\n",
        "    text = top_10_s_ctr['Counts of Country Availability'],\n",
        "    textposition='auto',\n",
        "    marker_color=colors_10\n",
        ")])\n",
        "fig.update_traces(texttemplate='%{text:.2s}', textposition='outside')\n",
        "fig.update_layout(title_text= 'Which countries have a larger Series Availability?',\n",
        "                  uniformtext_minsize=8, uniformtext_mode='hide',\n",
        "                  yaxis=dict(\n",
        "                  title='Quantity',\n",
        "                  titlefont_size=14),\n",
        "                  xaxis=dict(\n",
        "                  title='Countries',\n",
        "                  titlefont_size=14))"
      ],
      "metadata": {
        "colab": {
          "base_uri": "https://localhost:8080/",
          "height": 542
        },
        "id": "BbeRaav3O_YH",
        "outputId": "5d43f911-596c-4b4c-fe5b-cb2d1245e2da"
      },
      "execution_count": null,
      "outputs": [
        {
          "output_type": "display_data",
          "data": {
            "text/html": [
              "<html>\n",
              "<head><meta charset=\"utf-8\" /></head>\n",
              "<body>\n",
              "    <div>            <script src=\"https://cdnjs.cloudflare.com/ajax/libs/mathjax/2.7.5/MathJax.js?config=TeX-AMS-MML_SVG\"></script><script type=\"text/javascript\">if (window.MathJax && window.MathJax.Hub && window.MathJax.Hub.Config) {window.MathJax.Hub.Config({SVG: {font: \"STIX-Web\"}});}</script>                <script type=\"text/javascript\">window.PlotlyConfig = {MathJaxConfig: 'local'};</script>\n",
              "        <script charset=\"utf-8\" src=\"https://cdn.plot.ly/plotly-2.35.2.min.js\"></script>                <div id=\"591aff65-1a2d-4872-ab28-f759b8cd4d10\" class=\"plotly-graph-div\" style=\"height:525px; width:100%;\"></div>            <script type=\"text/javascript\">                                    window.PLOTLYENV=window.PLOTLYENV || {};                                    if (document.getElementById(\"591aff65-1a2d-4872-ab28-f759b8cd4d10\")) {                    Plotly.newPlot(                        \"591aff65-1a2d-4872-ab28-f759b8cd4d10\",                        [{\"marker\":{\"color\":[\"DarkRed\",\"FireBrick\",\"Red\",\"Crimson\",\"IndianRed\",\"slategray\",\"gray\",\"dimgrey\",\"DarkSlateGrey\",\"black\"]},\"text\":[377.0,111.0,99.0,91.0,86.0,49.0,37.0,37.0,29.0,28.0],\"textposition\":\"outside\",\"x\":[\"Japan\",\"United Kingdom\",\"Switzerland,Germany\",\"South Korea\",\"United States\",\"Thailand\",\"Singapore,Malaysia\",\"Belgium,Netherlands\",\"Sweden\",\"Australia\"],\"y\":[377,111,99,91,86,49,37,37,29,28],\"type\":\"bar\",\"texttemplate\":\"%{text:.2s}\"}],                        {\"template\":{\"data\":{\"histogram2dcontour\":[{\"type\":\"histogram2dcontour\",\"colorbar\":{\"outlinewidth\":0,\"ticks\":\"\"},\"colorscale\":[[0.0,\"#0d0887\"],[0.1111111111111111,\"#46039f\"],[0.2222222222222222,\"#7201a8\"],[0.3333333333333333,\"#9c179e\"],[0.4444444444444444,\"#bd3786\"],[0.5555555555555556,\"#d8576b\"],[0.6666666666666666,\"#ed7953\"],[0.7777777777777778,\"#fb9f3a\"],[0.8888888888888888,\"#fdca26\"],[1.0,\"#f0f921\"]]}],\"choropleth\":[{\"type\":\"choropleth\",\"colorbar\":{\"outlinewidth\":0,\"ticks\":\"\"}}],\"histogram2d\":[{\"type\":\"histogram2d\",\"colorbar\":{\"outlinewidth\":0,\"ticks\":\"\"},\"colorscale\":[[0.0,\"#0d0887\"],[0.1111111111111111,\"#46039f\"],[0.2222222222222222,\"#7201a8\"],[0.3333333333333333,\"#9c179e\"],[0.4444444444444444,\"#bd3786\"],[0.5555555555555556,\"#d8576b\"],[0.6666666666666666,\"#ed7953\"],[0.7777777777777778,\"#fb9f3a\"],[0.8888888888888888,\"#fdca26\"],[1.0,\"#f0f921\"]]}],\"heatmap\":[{\"type\":\"heatmap\",\"colorbar\":{\"outlinewidth\":0,\"ticks\":\"\"},\"colorscale\":[[0.0,\"#0d0887\"],[0.1111111111111111,\"#46039f\"],[0.2222222222222222,\"#7201a8\"],[0.3333333333333333,\"#9c179e\"],[0.4444444444444444,\"#bd3786\"],[0.5555555555555556,\"#d8576b\"],[0.6666666666666666,\"#ed7953\"],[0.7777777777777778,\"#fb9f3a\"],[0.8888888888888888,\"#fdca26\"],[1.0,\"#f0f921\"]]}],\"heatmapgl\":[{\"type\":\"heatmapgl\",\"colorbar\":{\"outlinewidth\":0,\"ticks\":\"\"},\"colorscale\":[[0.0,\"#0d0887\"],[0.1111111111111111,\"#46039f\"],[0.2222222222222222,\"#7201a8\"],[0.3333333333333333,\"#9c179e\"],[0.4444444444444444,\"#bd3786\"],[0.5555555555555556,\"#d8576b\"],[0.6666666666666666,\"#ed7953\"],[0.7777777777777778,\"#fb9f3a\"],[0.8888888888888888,\"#fdca26\"],[1.0,\"#f0f921\"]]}],\"contourcarpet\":[{\"type\":\"contourcarpet\",\"colorbar\":{\"outlinewidth\":0,\"ticks\":\"\"}}],\"contour\":[{\"type\":\"contour\",\"colorbar\":{\"outlinewidth\":0,\"ticks\":\"\"},\"colorscale\":[[0.0,\"#0d0887\"],[0.1111111111111111,\"#46039f\"],[0.2222222222222222,\"#7201a8\"],[0.3333333333333333,\"#9c179e\"],[0.4444444444444444,\"#bd3786\"],[0.5555555555555556,\"#d8576b\"],[0.6666666666666666,\"#ed7953\"],[0.7777777777777778,\"#fb9f3a\"],[0.8888888888888888,\"#fdca26\"],[1.0,\"#f0f921\"]]}],\"surface\":[{\"type\":\"surface\",\"colorbar\":{\"outlinewidth\":0,\"ticks\":\"\"},\"colorscale\":[[0.0,\"#0d0887\"],[0.1111111111111111,\"#46039f\"],[0.2222222222222222,\"#7201a8\"],[0.3333333333333333,\"#9c179e\"],[0.4444444444444444,\"#bd3786\"],[0.5555555555555556,\"#d8576b\"],[0.6666666666666666,\"#ed7953\"],[0.7777777777777778,\"#fb9f3a\"],[0.8888888888888888,\"#fdca26\"],[1.0,\"#f0f921\"]]}],\"mesh3d\":[{\"type\":\"mesh3d\",\"colorbar\":{\"outlinewidth\":0,\"ticks\":\"\"}}],\"scatter\":[{\"fillpattern\":{\"fillmode\":\"overlay\",\"size\":10,\"solidity\":0.2},\"type\":\"scatter\"}],\"parcoords\":[{\"type\":\"parcoords\",\"line\":{\"colorbar\":{\"outlinewidth\":0,\"ticks\":\"\"}}}],\"scatterpolargl\":[{\"type\":\"scatterpolargl\",\"marker\":{\"colorbar\":{\"outlinewidth\":0,\"ticks\":\"\"}}}],\"bar\":[{\"error_x\":{\"color\":\"#2a3f5f\"},\"error_y\":{\"color\":\"#2a3f5f\"},\"marker\":{\"line\":{\"color\":\"#E5ECF6\",\"width\":0.5},\"pattern\":{\"fillmode\":\"overlay\",\"size\":10,\"solidity\":0.2}},\"type\":\"bar\"}],\"scattergeo\":[{\"type\":\"scattergeo\",\"marker\":{\"colorbar\":{\"outlinewidth\":0,\"ticks\":\"\"}}}],\"scatterpolar\":[{\"type\":\"scatterpolar\",\"marker\":{\"colorbar\":{\"outlinewidth\":0,\"ticks\":\"\"}}}],\"histogram\":[{\"marker\":{\"pattern\":{\"fillmode\":\"overlay\",\"size\":10,\"solidity\":0.2}},\"type\":\"histogram\"}],\"scattergl\":[{\"type\":\"scattergl\",\"marker\":{\"colorbar\":{\"outlinewidth\":0,\"ticks\":\"\"}}}],\"scatter3d\":[{\"type\":\"scatter3d\",\"line\":{\"colorbar\":{\"outlinewidth\":0,\"ticks\":\"\"}},\"marker\":{\"colorbar\":{\"outlinewidth\":0,\"ticks\":\"\"}}}],\"scattermapbox\":[{\"type\":\"scattermapbox\",\"marker\":{\"colorbar\":{\"outlinewidth\":0,\"ticks\":\"\"}}}],\"scatterternary\":[{\"type\":\"scatterternary\",\"marker\":{\"colorbar\":{\"outlinewidth\":0,\"ticks\":\"\"}}}],\"scattercarpet\":[{\"type\":\"scattercarpet\",\"marker\":{\"colorbar\":{\"outlinewidth\":0,\"ticks\":\"\"}}}],\"carpet\":[{\"aaxis\":{\"endlinecolor\":\"#2a3f5f\",\"gridcolor\":\"white\",\"linecolor\":\"white\",\"minorgridcolor\":\"white\",\"startlinecolor\":\"#2a3f5f\"},\"baxis\":{\"endlinecolor\":\"#2a3f5f\",\"gridcolor\":\"white\",\"linecolor\":\"white\",\"minorgridcolor\":\"white\",\"startlinecolor\":\"#2a3f5f\"},\"type\":\"carpet\"}],\"table\":[{\"cells\":{\"fill\":{\"color\":\"#EBF0F8\"},\"line\":{\"color\":\"white\"}},\"header\":{\"fill\":{\"color\":\"#C8D4E3\"},\"line\":{\"color\":\"white\"}},\"type\":\"table\"}],\"barpolar\":[{\"marker\":{\"line\":{\"color\":\"#E5ECF6\",\"width\":0.5},\"pattern\":{\"fillmode\":\"overlay\",\"size\":10,\"solidity\":0.2}},\"type\":\"barpolar\"}],\"pie\":[{\"automargin\":true,\"type\":\"pie\"}]},\"layout\":{\"autotypenumbers\":\"strict\",\"colorway\":[\"#636efa\",\"#EF553B\",\"#00cc96\",\"#ab63fa\",\"#FFA15A\",\"#19d3f3\",\"#FF6692\",\"#B6E880\",\"#FF97FF\",\"#FECB52\"],\"font\":{\"color\":\"#2a3f5f\"},\"hovermode\":\"closest\",\"hoverlabel\":{\"align\":\"left\"},\"paper_bgcolor\":\"white\",\"plot_bgcolor\":\"#E5ECF6\",\"polar\":{\"bgcolor\":\"#E5ECF6\",\"angularaxis\":{\"gridcolor\":\"white\",\"linecolor\":\"white\",\"ticks\":\"\"},\"radialaxis\":{\"gridcolor\":\"white\",\"linecolor\":\"white\",\"ticks\":\"\"}},\"ternary\":{\"bgcolor\":\"#E5ECF6\",\"aaxis\":{\"gridcolor\":\"white\",\"linecolor\":\"white\",\"ticks\":\"\"},\"baxis\":{\"gridcolor\":\"white\",\"linecolor\":\"white\",\"ticks\":\"\"},\"caxis\":{\"gridcolor\":\"white\",\"linecolor\":\"white\",\"ticks\":\"\"}},\"coloraxis\":{\"colorbar\":{\"outlinewidth\":0,\"ticks\":\"\"}},\"colorscale\":{\"sequential\":[[0.0,\"#0d0887\"],[0.1111111111111111,\"#46039f\"],[0.2222222222222222,\"#7201a8\"],[0.3333333333333333,\"#9c179e\"],[0.4444444444444444,\"#bd3786\"],[0.5555555555555556,\"#d8576b\"],[0.6666666666666666,\"#ed7953\"],[0.7777777777777778,\"#fb9f3a\"],[0.8888888888888888,\"#fdca26\"],[1.0,\"#f0f921\"]],\"sequentialminus\":[[0.0,\"#0d0887\"],[0.1111111111111111,\"#46039f\"],[0.2222222222222222,\"#7201a8\"],[0.3333333333333333,\"#9c179e\"],[0.4444444444444444,\"#bd3786\"],[0.5555555555555556,\"#d8576b\"],[0.6666666666666666,\"#ed7953\"],[0.7777777777777778,\"#fb9f3a\"],[0.8888888888888888,\"#fdca26\"],[1.0,\"#f0f921\"]],\"diverging\":[[0,\"#8e0152\"],[0.1,\"#c51b7d\"],[0.2,\"#de77ae\"],[0.3,\"#f1b6da\"],[0.4,\"#fde0ef\"],[0.5,\"#f7f7f7\"],[0.6,\"#e6f5d0\"],[0.7,\"#b8e186\"],[0.8,\"#7fbc41\"],[0.9,\"#4d9221\"],[1,\"#276419\"]]},\"xaxis\":{\"gridcolor\":\"white\",\"linecolor\":\"white\",\"ticks\":\"\",\"title\":{\"standoff\":15},\"zerolinecolor\":\"white\",\"automargin\":true,\"zerolinewidth\":2},\"yaxis\":{\"gridcolor\":\"white\",\"linecolor\":\"white\",\"ticks\":\"\",\"title\":{\"standoff\":15},\"zerolinecolor\":\"white\",\"automargin\":true,\"zerolinewidth\":2},\"scene\":{\"xaxis\":{\"backgroundcolor\":\"#E5ECF6\",\"gridcolor\":\"white\",\"linecolor\":\"white\",\"showbackground\":true,\"ticks\":\"\",\"zerolinecolor\":\"white\",\"gridwidth\":2},\"yaxis\":{\"backgroundcolor\":\"#E5ECF6\",\"gridcolor\":\"white\",\"linecolor\":\"white\",\"showbackground\":true,\"ticks\":\"\",\"zerolinecolor\":\"white\",\"gridwidth\":2},\"zaxis\":{\"backgroundcolor\":\"#E5ECF6\",\"gridcolor\":\"white\",\"linecolor\":\"white\",\"showbackground\":true,\"ticks\":\"\",\"zerolinecolor\":\"white\",\"gridwidth\":2}},\"shapedefaults\":{\"line\":{\"color\":\"#2a3f5f\"}},\"annotationdefaults\":{\"arrowcolor\":\"#2a3f5f\",\"arrowhead\":0,\"arrowwidth\":1},\"geo\":{\"bgcolor\":\"white\",\"landcolor\":\"#E5ECF6\",\"subunitcolor\":\"white\",\"showland\":true,\"showlakes\":true,\"lakecolor\":\"white\"},\"title\":{\"x\":0.05},\"mapbox\":{\"style\":\"light\"}}},\"title\":{\"text\":\"Which countries have a larger Series Availability?\"},\"uniformtext\":{\"minsize\":8,\"mode\":\"hide\"},\"yaxis\":{\"title\":{\"text\":\"Quantity\",\"font\":{\"size\":14}}},\"xaxis\":{\"title\":{\"text\":\"Countries\",\"font\":{\"size\":14}}}},                        {\"responsive\": true}                    ).then(function(){\n",
              "                            \n",
              "var gd = document.getElementById('591aff65-1a2d-4872-ab28-f759b8cd4d10');\n",
              "var x = new MutationObserver(function (mutations, observer) {{\n",
              "        var display = window.getComputedStyle(gd).display;\n",
              "        if (!display || display === 'none') {{\n",
              "            console.log([gd, 'removed!']);\n",
              "            Plotly.purge(gd);\n",
              "            observer.disconnect();\n",
              "        }}\n",
              "}});\n",
              "\n",
              "// Listen for the removal of the full notebook cells\n",
              "var notebookContainer = gd.closest('#notebook-container');\n",
              "if (notebookContainer) {{\n",
              "    x.observe(notebookContainer, {childList: true});\n",
              "}}\n",
              "\n",
              "// Listen for the clearing of the current output cell\n",
              "var outputEl = gd.closest('.output');\n",
              "if (outputEl) {{\n",
              "    x.observe(outputEl, {childList: true});\n",
              "}}\n",
              "\n",
              "                        })                };                            </script>        </div>\n",
              "</body>\n",
              "</html>"
            ]
          },
          "metadata": {}
        }
      ]
    },
    {
      "cell_type": "code",
      "source": [
        "df_movie_ctr = df_movie.dropna(subset=['Country Availability'])"
      ],
      "metadata": {
        "id": "t0pmRna4PBl0"
      },
      "execution_count": null,
      "outputs": []
    },
    {
      "cell_type": "code",
      "source": [
        "movie_ctr_list = df_movie_ctr['Country Availability'].str.split(', ')\n",
        "m_ctr_list = {}\n",
        "for countries in movie_ctr_list:\n",
        "    for country in countries:\n",
        "        if (country in m_ctr_list):\n",
        "            m_ctr_list[country]+=1\n",
        "        else:\n",
        "            m_ctr_list[country]=1\n",
        "m_ctr_df = pd.DataFrame(m_ctr_list.values(),index = m_ctr_list.keys(),\n",
        "                        columns = ['Counts of Country Availability'])\n",
        "m_ctr_df.sort_values(by = 'Counts of Country Availability',ascending = False,inplace = True)\n",
        "top_10_m_ctr = m_ctr_df[0:10]"
      ],
      "metadata": {
        "id": "NUCC2pnnPGKk"
      },
      "execution_count": null,
      "outputs": []
    },
    {
      "cell_type": "code",
      "source": [
        "fig = go.Figure(data=[go.Bar(\n",
        "    x = top_10_m_ctr.index,\n",
        "    y = top_10_m_ctr['Counts of Country Availability'],\n",
        "    text = top_10_m_ctr['Counts of Country Availability'],\n",
        "    textposition='auto',\n",
        "    marker_color=colors_10\n",
        ")])\n",
        "fig.update_traces(texttemplate='%{text:.2s}', textposition='outside')\n",
        "fig.update_layout(title_text= 'Which countries have a larger Movie Availability?',\n",
        "                  uniformtext_minsize=8, uniformtext_mode='hide',\n",
        "                  yaxis=dict(\n",
        "                  title='Quantity',\n",
        "                  titlefont_size=14),\n",
        "                  xaxis=dict(\n",
        "                  title='Countries',\n",
        "                  titlefont_size=14))"
      ],
      "metadata": {
        "id": "Iee12foXPIa9",
        "colab": {
          "base_uri": "https://localhost:8080/",
          "height": 542
        },
        "outputId": "d6ff9b09-c7f2-4b6f-948b-a926ced21676"
      },
      "execution_count": null,
      "outputs": [
        {
          "output_type": "display_data",
          "data": {
            "text/html": [
              "<html>\n",
              "<head><meta charset=\"utf-8\" /></head>\n",
              "<body>\n",
              "    <div>            <script src=\"https://cdnjs.cloudflare.com/ajax/libs/mathjax/2.7.5/MathJax.js?config=TeX-AMS-MML_SVG\"></script><script type=\"text/javascript\">if (window.MathJax && window.MathJax.Hub && window.MathJax.Hub.Config) {window.MathJax.Hub.Config({SVG: {font: \"STIX-Web\"}});}</script>                <script type=\"text/javascript\">window.PlotlyConfig = {MathJaxConfig: 'local'};</script>\n",
              "        <script charset=\"utf-8\" src=\"https://cdn.plot.ly/plotly-2.35.2.min.js\"></script>                <div id=\"c7983317-efa4-4fbd-8c03-015bc51e0d5b\" class=\"plotly-graph-div\" style=\"height:525px; width:100%;\"></div>            <script type=\"text/javascript\">                                    window.PLOTLYENV=window.PLOTLYENV || {};                                    if (document.getElementById(\"c7983317-efa4-4fbd-8c03-015bc51e0d5b\")) {                    Plotly.newPlot(                        \"c7983317-efa4-4fbd-8c03-015bc51e0d5b\",                        [{\"marker\":{\"color\":[\"DarkRed\",\"FireBrick\",\"Red\",\"Crimson\",\"IndianRed\",\"slategray\",\"gray\",\"dimgrey\",\"DarkSlateGrey\",\"black\"]},\"text\":[962.0,624.0,260.0,229.0,225.0,219.0,216.0,161.0,149.0,137.0],\"textposition\":\"outside\",\"x\":[\"Japan\",\"South Korea\",\"Poland\",\"United Kingdom\",\"Italy\",\"United States\",\"Switzerland,Germany\",\"Czech Republic,Slovakia\",\"Canada\",\"Russia\"],\"y\":[962,624,260,229,225,219,216,161,149,137],\"type\":\"bar\",\"texttemplate\":\"%{text:.2s}\"}],                        {\"template\":{\"data\":{\"histogram2dcontour\":[{\"type\":\"histogram2dcontour\",\"colorbar\":{\"outlinewidth\":0,\"ticks\":\"\"},\"colorscale\":[[0.0,\"#0d0887\"],[0.1111111111111111,\"#46039f\"],[0.2222222222222222,\"#7201a8\"],[0.3333333333333333,\"#9c179e\"],[0.4444444444444444,\"#bd3786\"],[0.5555555555555556,\"#d8576b\"],[0.6666666666666666,\"#ed7953\"],[0.7777777777777778,\"#fb9f3a\"],[0.8888888888888888,\"#fdca26\"],[1.0,\"#f0f921\"]]}],\"choropleth\":[{\"type\":\"choropleth\",\"colorbar\":{\"outlinewidth\":0,\"ticks\":\"\"}}],\"histogram2d\":[{\"type\":\"histogram2d\",\"colorbar\":{\"outlinewidth\":0,\"ticks\":\"\"},\"colorscale\":[[0.0,\"#0d0887\"],[0.1111111111111111,\"#46039f\"],[0.2222222222222222,\"#7201a8\"],[0.3333333333333333,\"#9c179e\"],[0.4444444444444444,\"#bd3786\"],[0.5555555555555556,\"#d8576b\"],[0.6666666666666666,\"#ed7953\"],[0.7777777777777778,\"#fb9f3a\"],[0.8888888888888888,\"#fdca26\"],[1.0,\"#f0f921\"]]}],\"heatmap\":[{\"type\":\"heatmap\",\"colorbar\":{\"outlinewidth\":0,\"ticks\":\"\"},\"colorscale\":[[0.0,\"#0d0887\"],[0.1111111111111111,\"#46039f\"],[0.2222222222222222,\"#7201a8\"],[0.3333333333333333,\"#9c179e\"],[0.4444444444444444,\"#bd3786\"],[0.5555555555555556,\"#d8576b\"],[0.6666666666666666,\"#ed7953\"],[0.7777777777777778,\"#fb9f3a\"],[0.8888888888888888,\"#fdca26\"],[1.0,\"#f0f921\"]]}],\"heatmapgl\":[{\"type\":\"heatmapgl\",\"colorbar\":{\"outlinewidth\":0,\"ticks\":\"\"},\"colorscale\":[[0.0,\"#0d0887\"],[0.1111111111111111,\"#46039f\"],[0.2222222222222222,\"#7201a8\"],[0.3333333333333333,\"#9c179e\"],[0.4444444444444444,\"#bd3786\"],[0.5555555555555556,\"#d8576b\"],[0.6666666666666666,\"#ed7953\"],[0.7777777777777778,\"#fb9f3a\"],[0.8888888888888888,\"#fdca26\"],[1.0,\"#f0f921\"]]}],\"contourcarpet\":[{\"type\":\"contourcarpet\",\"colorbar\":{\"outlinewidth\":0,\"ticks\":\"\"}}],\"contour\":[{\"type\":\"contour\",\"colorbar\":{\"outlinewidth\":0,\"ticks\":\"\"},\"colorscale\":[[0.0,\"#0d0887\"],[0.1111111111111111,\"#46039f\"],[0.2222222222222222,\"#7201a8\"],[0.3333333333333333,\"#9c179e\"],[0.4444444444444444,\"#bd3786\"],[0.5555555555555556,\"#d8576b\"],[0.6666666666666666,\"#ed7953\"],[0.7777777777777778,\"#fb9f3a\"],[0.8888888888888888,\"#fdca26\"],[1.0,\"#f0f921\"]]}],\"surface\":[{\"type\":\"surface\",\"colorbar\":{\"outlinewidth\":0,\"ticks\":\"\"},\"colorscale\":[[0.0,\"#0d0887\"],[0.1111111111111111,\"#46039f\"],[0.2222222222222222,\"#7201a8\"],[0.3333333333333333,\"#9c179e\"],[0.4444444444444444,\"#bd3786\"],[0.5555555555555556,\"#d8576b\"],[0.6666666666666666,\"#ed7953\"],[0.7777777777777778,\"#fb9f3a\"],[0.8888888888888888,\"#fdca26\"],[1.0,\"#f0f921\"]]}],\"mesh3d\":[{\"type\":\"mesh3d\",\"colorbar\":{\"outlinewidth\":0,\"ticks\":\"\"}}],\"scatter\":[{\"fillpattern\":{\"fillmode\":\"overlay\",\"size\":10,\"solidity\":0.2},\"type\":\"scatter\"}],\"parcoords\":[{\"type\":\"parcoords\",\"line\":{\"colorbar\":{\"outlinewidth\":0,\"ticks\":\"\"}}}],\"scatterpolargl\":[{\"type\":\"scatterpolargl\",\"marker\":{\"colorbar\":{\"outlinewidth\":0,\"ticks\":\"\"}}}],\"bar\":[{\"error_x\":{\"color\":\"#2a3f5f\"},\"error_y\":{\"color\":\"#2a3f5f\"},\"marker\":{\"line\":{\"color\":\"#E5ECF6\",\"width\":0.5},\"pattern\":{\"fillmode\":\"overlay\",\"size\":10,\"solidity\":0.2}},\"type\":\"bar\"}],\"scattergeo\":[{\"type\":\"scattergeo\",\"marker\":{\"colorbar\":{\"outlinewidth\":0,\"ticks\":\"\"}}}],\"scatterpolar\":[{\"type\":\"scatterpolar\",\"marker\":{\"colorbar\":{\"outlinewidth\":0,\"ticks\":\"\"}}}],\"histogram\":[{\"marker\":{\"pattern\":{\"fillmode\":\"overlay\",\"size\":10,\"solidity\":0.2}},\"type\":\"histogram\"}],\"scattergl\":[{\"type\":\"scattergl\",\"marker\":{\"colorbar\":{\"outlinewidth\":0,\"ticks\":\"\"}}}],\"scatter3d\":[{\"type\":\"scatter3d\",\"line\":{\"colorbar\":{\"outlinewidth\":0,\"ticks\":\"\"}},\"marker\":{\"colorbar\":{\"outlinewidth\":0,\"ticks\":\"\"}}}],\"scattermapbox\":[{\"type\":\"scattermapbox\",\"marker\":{\"colorbar\":{\"outlinewidth\":0,\"ticks\":\"\"}}}],\"scatterternary\":[{\"type\":\"scatterternary\",\"marker\":{\"colorbar\":{\"outlinewidth\":0,\"ticks\":\"\"}}}],\"scattercarpet\":[{\"type\":\"scattercarpet\",\"marker\":{\"colorbar\":{\"outlinewidth\":0,\"ticks\":\"\"}}}],\"carpet\":[{\"aaxis\":{\"endlinecolor\":\"#2a3f5f\",\"gridcolor\":\"white\",\"linecolor\":\"white\",\"minorgridcolor\":\"white\",\"startlinecolor\":\"#2a3f5f\"},\"baxis\":{\"endlinecolor\":\"#2a3f5f\",\"gridcolor\":\"white\",\"linecolor\":\"white\",\"minorgridcolor\":\"white\",\"startlinecolor\":\"#2a3f5f\"},\"type\":\"carpet\"}],\"table\":[{\"cells\":{\"fill\":{\"color\":\"#EBF0F8\"},\"line\":{\"color\":\"white\"}},\"header\":{\"fill\":{\"color\":\"#C8D4E3\"},\"line\":{\"color\":\"white\"}},\"type\":\"table\"}],\"barpolar\":[{\"marker\":{\"line\":{\"color\":\"#E5ECF6\",\"width\":0.5},\"pattern\":{\"fillmode\":\"overlay\",\"size\":10,\"solidity\":0.2}},\"type\":\"barpolar\"}],\"pie\":[{\"automargin\":true,\"type\":\"pie\"}]},\"layout\":{\"autotypenumbers\":\"strict\",\"colorway\":[\"#636efa\",\"#EF553B\",\"#00cc96\",\"#ab63fa\",\"#FFA15A\",\"#19d3f3\",\"#FF6692\",\"#B6E880\",\"#FF97FF\",\"#FECB52\"],\"font\":{\"color\":\"#2a3f5f\"},\"hovermode\":\"closest\",\"hoverlabel\":{\"align\":\"left\"},\"paper_bgcolor\":\"white\",\"plot_bgcolor\":\"#E5ECF6\",\"polar\":{\"bgcolor\":\"#E5ECF6\",\"angularaxis\":{\"gridcolor\":\"white\",\"linecolor\":\"white\",\"ticks\":\"\"},\"radialaxis\":{\"gridcolor\":\"white\",\"linecolor\":\"white\",\"ticks\":\"\"}},\"ternary\":{\"bgcolor\":\"#E5ECF6\",\"aaxis\":{\"gridcolor\":\"white\",\"linecolor\":\"white\",\"ticks\":\"\"},\"baxis\":{\"gridcolor\":\"white\",\"linecolor\":\"white\",\"ticks\":\"\"},\"caxis\":{\"gridcolor\":\"white\",\"linecolor\":\"white\",\"ticks\":\"\"}},\"coloraxis\":{\"colorbar\":{\"outlinewidth\":0,\"ticks\":\"\"}},\"colorscale\":{\"sequential\":[[0.0,\"#0d0887\"],[0.1111111111111111,\"#46039f\"],[0.2222222222222222,\"#7201a8\"],[0.3333333333333333,\"#9c179e\"],[0.4444444444444444,\"#bd3786\"],[0.5555555555555556,\"#d8576b\"],[0.6666666666666666,\"#ed7953\"],[0.7777777777777778,\"#fb9f3a\"],[0.8888888888888888,\"#fdca26\"],[1.0,\"#f0f921\"]],\"sequentialminus\":[[0.0,\"#0d0887\"],[0.1111111111111111,\"#46039f\"],[0.2222222222222222,\"#7201a8\"],[0.3333333333333333,\"#9c179e\"],[0.4444444444444444,\"#bd3786\"],[0.5555555555555556,\"#d8576b\"],[0.6666666666666666,\"#ed7953\"],[0.7777777777777778,\"#fb9f3a\"],[0.8888888888888888,\"#fdca26\"],[1.0,\"#f0f921\"]],\"diverging\":[[0,\"#8e0152\"],[0.1,\"#c51b7d\"],[0.2,\"#de77ae\"],[0.3,\"#f1b6da\"],[0.4,\"#fde0ef\"],[0.5,\"#f7f7f7\"],[0.6,\"#e6f5d0\"],[0.7,\"#b8e186\"],[0.8,\"#7fbc41\"],[0.9,\"#4d9221\"],[1,\"#276419\"]]},\"xaxis\":{\"gridcolor\":\"white\",\"linecolor\":\"white\",\"ticks\":\"\",\"title\":{\"standoff\":15},\"zerolinecolor\":\"white\",\"automargin\":true,\"zerolinewidth\":2},\"yaxis\":{\"gridcolor\":\"white\",\"linecolor\":\"white\",\"ticks\":\"\",\"title\":{\"standoff\":15},\"zerolinecolor\":\"white\",\"automargin\":true,\"zerolinewidth\":2},\"scene\":{\"xaxis\":{\"backgroundcolor\":\"#E5ECF6\",\"gridcolor\":\"white\",\"linecolor\":\"white\",\"showbackground\":true,\"ticks\":\"\",\"zerolinecolor\":\"white\",\"gridwidth\":2},\"yaxis\":{\"backgroundcolor\":\"#E5ECF6\",\"gridcolor\":\"white\",\"linecolor\":\"white\",\"showbackground\":true,\"ticks\":\"\",\"zerolinecolor\":\"white\",\"gridwidth\":2},\"zaxis\":{\"backgroundcolor\":\"#E5ECF6\",\"gridcolor\":\"white\",\"linecolor\":\"white\",\"showbackground\":true,\"ticks\":\"\",\"zerolinecolor\":\"white\",\"gridwidth\":2}},\"shapedefaults\":{\"line\":{\"color\":\"#2a3f5f\"}},\"annotationdefaults\":{\"arrowcolor\":\"#2a3f5f\",\"arrowhead\":0,\"arrowwidth\":1},\"geo\":{\"bgcolor\":\"white\",\"landcolor\":\"#E5ECF6\",\"subunitcolor\":\"white\",\"showland\":true,\"showlakes\":true,\"lakecolor\":\"white\"},\"title\":{\"x\":0.05},\"mapbox\":{\"style\":\"light\"}}},\"title\":{\"text\":\"Which countries have a larger Movie Availability?\"},\"uniformtext\":{\"minsize\":8,\"mode\":\"hide\"},\"yaxis\":{\"title\":{\"text\":\"Quantity\",\"font\":{\"size\":14}}},\"xaxis\":{\"title\":{\"text\":\"Countries\",\"font\":{\"size\":14}}}},                        {\"responsive\": true}                    ).then(function(){\n",
              "                            \n",
              "var gd = document.getElementById('c7983317-efa4-4fbd-8c03-015bc51e0d5b');\n",
              "var x = new MutationObserver(function (mutations, observer) {{\n",
              "        var display = window.getComputedStyle(gd).display;\n",
              "        if (!display || display === 'none') {{\n",
              "            console.log([gd, 'removed!']);\n",
              "            Plotly.purge(gd);\n",
              "            observer.disconnect();\n",
              "        }}\n",
              "}});\n",
              "\n",
              "// Listen for the removal of the full notebook cells\n",
              "var notebookContainer = gd.closest('#notebook-container');\n",
              "if (notebookContainer) {{\n",
              "    x.observe(notebookContainer, {childList: true});\n",
              "}}\n",
              "\n",
              "// Listen for the clearing of the current output cell\n",
              "var outputEl = gd.closest('.output');\n",
              "if (outputEl) {{\n",
              "    x.observe(outputEl, {childList: true});\n",
              "}}\n",
              "\n",
              "                        })                };                            </script>        </div>\n",
              "</body>\n",
              "</html>"
            ]
          },
          "metadata": {}
        }
      ]
    },
    {
      "cell_type": "markdown",
      "source": [
        "## Duration"
      ],
      "metadata": {
        "id": "ZPYf-x6UMNmm"
      }
    },
    {
      "cell_type": "markdown",
      "source": [
        "### In the Series"
      ],
      "metadata": {
        "id": "yy3mhZAsMQwd"
      }
    },
    {
      "cell_type": "code",
      "source": [
        "df_series_drt = df_series.dropna(subset=['Runtime'])\n",
        "df_series_drt['Runtime'].value_counts()"
      ],
      "metadata": {
        "colab": {
          "base_uri": "https://localhost:8080/",
          "height": 147
        },
        "id": "0vK4YYHfMURI",
        "outputId": "86dccee5-2b8c-46af-b6f9-2959fcb26261"
      },
      "execution_count": null,
      "outputs": [
        {
          "output_type": "execute_result",
          "data": {
            "text/plain": [
              "Runtime\n",
              "< 30 minutes    3782\n",
              "Name: count, dtype: int64"
            ],
            "text/html": [
              "<div>\n",
              "<style scoped>\n",
              "    .dataframe tbody tr th:only-of-type {\n",
              "        vertical-align: middle;\n",
              "    }\n",
              "\n",
              "    .dataframe tbody tr th {\n",
              "        vertical-align: top;\n",
              "    }\n",
              "\n",
              "    .dataframe thead th {\n",
              "        text-align: right;\n",
              "    }\n",
              "</style>\n",
              "<table border=\"1\" class=\"dataframe\">\n",
              "  <thead>\n",
              "    <tr style=\"text-align: right;\">\n",
              "      <th></th>\n",
              "      <th>count</th>\n",
              "    </tr>\n",
              "    <tr>\n",
              "      <th>Runtime</th>\n",
              "      <th></th>\n",
              "    </tr>\n",
              "  </thead>\n",
              "  <tbody>\n",
              "    <tr>\n",
              "      <th>&lt; 30 minutes</th>\n",
              "      <td>3782</td>\n",
              "    </tr>\n",
              "  </tbody>\n",
              "</table>\n",
              "</div><br><label><b>dtype:</b> int64</label>"
            ]
          },
          "metadata": {},
          "execution_count": 218
        }
      ]
    },
    {
      "cell_type": "markdown",
      "source": [
        "### In the Movies"
      ],
      "metadata": {
        "id": "BMlCrZl1MuhU"
      }
    },
    {
      "cell_type": "code",
      "source": [
        "df_movie_drt = df_movie.dropna(subset=['Runtime'])"
      ],
      "metadata": {
        "id": "ERtM_kqEMwzm"
      },
      "execution_count": null,
      "outputs": []
    },
    {
      "cell_type": "code",
      "source": [
        "count_d = df_movie_drt['Runtime'].value_counts()\n",
        "fig = go.Figure(data=[go.Bar(\n",
        "    x = count_d.index,\n",
        "    y = count_d,\n",
        "    text = count_d,\n",
        "    textposition='auto',\n",
        "    marker_color=colors_10\n",
        ")])\n",
        "fig.update_traces(texttemplate='%{text:.2s}', textposition='outside')\n",
        "fig.update_layout(title_text= 'What is the average duration of a movie on Netflix?',\n",
        "                  uniformtext_minsize=8, uniformtext_mode='hide',\n",
        "                  yaxis=dict(\n",
        "                  title='Quantity',\n",
        "                  titlefont_size=14),\n",
        "                  xaxis=dict(\n",
        "                  title='Duration',\n",
        "                  titlefont_size=14))"
      ],
      "metadata": {
        "colab": {
          "base_uri": "https://localhost:8080/",
          "height": 542
        },
        "id": "29JwLT_lMzUG",
        "outputId": "3e667772-93a6-4a23-c74c-1c8709b20d9c"
      },
      "execution_count": null,
      "outputs": [
        {
          "output_type": "display_data",
          "data": {
            "text/html": [
              "<html>\n",
              "<head><meta charset=\"utf-8\" /></head>\n",
              "<body>\n",
              "    <div>            <script src=\"https://cdnjs.cloudflare.com/ajax/libs/mathjax/2.7.5/MathJax.js?config=TeX-AMS-MML_SVG\"></script><script type=\"text/javascript\">if (window.MathJax && window.MathJax.Hub && window.MathJax.Hub.Config) {window.MathJax.Hub.Config({SVG: {font: \"STIX-Web\"}});}</script>                <script type=\"text/javascript\">window.PlotlyConfig = {MathJaxConfig: 'local'};</script>\n",
              "        <script charset=\"utf-8\" src=\"https://cdn.plot.ly/plotly-2.35.2.min.js\"></script>                <div id=\"c543765d-127e-4cce-b14f-fdb8465dca6d\" class=\"plotly-graph-div\" style=\"height:525px; width:100%;\"></div>            <script type=\"text/javascript\">                                    window.PLOTLYENV=window.PLOTLYENV || {};                                    if (document.getElementById(\"c543765d-127e-4cce-b14f-fdb8465dca6d\")) {                    Plotly.newPlot(                        \"c543765d-127e-4cce-b14f-fdb8465dca6d\",                        [{\"marker\":{\"color\":[\"DarkRed\",\"FireBrick\",\"Red\",\"Crimson\",\"IndianRed\",\"slategray\",\"gray\",\"dimgrey\",\"DarkSlateGrey\",\"black\"]},\"text\":[9121.0,2028.0,334.0,214.0],\"textposition\":\"outside\",\"x\":[\"1-2 hour\",\"\\u003e 2 hrs\",\"30-60 mins\",\"\\u003c 30 minutes\"],\"y\":[9121,2028,334,214],\"type\":\"bar\",\"texttemplate\":\"%{text:.2s}\"}],                        {\"template\":{\"data\":{\"histogram2dcontour\":[{\"type\":\"histogram2dcontour\",\"colorbar\":{\"outlinewidth\":0,\"ticks\":\"\"},\"colorscale\":[[0.0,\"#0d0887\"],[0.1111111111111111,\"#46039f\"],[0.2222222222222222,\"#7201a8\"],[0.3333333333333333,\"#9c179e\"],[0.4444444444444444,\"#bd3786\"],[0.5555555555555556,\"#d8576b\"],[0.6666666666666666,\"#ed7953\"],[0.7777777777777778,\"#fb9f3a\"],[0.8888888888888888,\"#fdca26\"],[1.0,\"#f0f921\"]]}],\"choropleth\":[{\"type\":\"choropleth\",\"colorbar\":{\"outlinewidth\":0,\"ticks\":\"\"}}],\"histogram2d\":[{\"type\":\"histogram2d\",\"colorbar\":{\"outlinewidth\":0,\"ticks\":\"\"},\"colorscale\":[[0.0,\"#0d0887\"],[0.1111111111111111,\"#46039f\"],[0.2222222222222222,\"#7201a8\"],[0.3333333333333333,\"#9c179e\"],[0.4444444444444444,\"#bd3786\"],[0.5555555555555556,\"#d8576b\"],[0.6666666666666666,\"#ed7953\"],[0.7777777777777778,\"#fb9f3a\"],[0.8888888888888888,\"#fdca26\"],[1.0,\"#f0f921\"]]}],\"heatmap\":[{\"type\":\"heatmap\",\"colorbar\":{\"outlinewidth\":0,\"ticks\":\"\"},\"colorscale\":[[0.0,\"#0d0887\"],[0.1111111111111111,\"#46039f\"],[0.2222222222222222,\"#7201a8\"],[0.3333333333333333,\"#9c179e\"],[0.4444444444444444,\"#bd3786\"],[0.5555555555555556,\"#d8576b\"],[0.6666666666666666,\"#ed7953\"],[0.7777777777777778,\"#fb9f3a\"],[0.8888888888888888,\"#fdca26\"],[1.0,\"#f0f921\"]]}],\"heatmapgl\":[{\"type\":\"heatmapgl\",\"colorbar\":{\"outlinewidth\":0,\"ticks\":\"\"},\"colorscale\":[[0.0,\"#0d0887\"],[0.1111111111111111,\"#46039f\"],[0.2222222222222222,\"#7201a8\"],[0.3333333333333333,\"#9c179e\"],[0.4444444444444444,\"#bd3786\"],[0.5555555555555556,\"#d8576b\"],[0.6666666666666666,\"#ed7953\"],[0.7777777777777778,\"#fb9f3a\"],[0.8888888888888888,\"#fdca26\"],[1.0,\"#f0f921\"]]}],\"contourcarpet\":[{\"type\":\"contourcarpet\",\"colorbar\":{\"outlinewidth\":0,\"ticks\":\"\"}}],\"contour\":[{\"type\":\"contour\",\"colorbar\":{\"outlinewidth\":0,\"ticks\":\"\"},\"colorscale\":[[0.0,\"#0d0887\"],[0.1111111111111111,\"#46039f\"],[0.2222222222222222,\"#7201a8\"],[0.3333333333333333,\"#9c179e\"],[0.4444444444444444,\"#bd3786\"],[0.5555555555555556,\"#d8576b\"],[0.6666666666666666,\"#ed7953\"],[0.7777777777777778,\"#fb9f3a\"],[0.8888888888888888,\"#fdca26\"],[1.0,\"#f0f921\"]]}],\"surface\":[{\"type\":\"surface\",\"colorbar\":{\"outlinewidth\":0,\"ticks\":\"\"},\"colorscale\":[[0.0,\"#0d0887\"],[0.1111111111111111,\"#46039f\"],[0.2222222222222222,\"#7201a8\"],[0.3333333333333333,\"#9c179e\"],[0.4444444444444444,\"#bd3786\"],[0.5555555555555556,\"#d8576b\"],[0.6666666666666666,\"#ed7953\"],[0.7777777777777778,\"#fb9f3a\"],[0.8888888888888888,\"#fdca26\"],[1.0,\"#f0f921\"]]}],\"mesh3d\":[{\"type\":\"mesh3d\",\"colorbar\":{\"outlinewidth\":0,\"ticks\":\"\"}}],\"scatter\":[{\"fillpattern\":{\"fillmode\":\"overlay\",\"size\":10,\"solidity\":0.2},\"type\":\"scatter\"}],\"parcoords\":[{\"type\":\"parcoords\",\"line\":{\"colorbar\":{\"outlinewidth\":0,\"ticks\":\"\"}}}],\"scatterpolargl\":[{\"type\":\"scatterpolargl\",\"marker\":{\"colorbar\":{\"outlinewidth\":0,\"ticks\":\"\"}}}],\"bar\":[{\"error_x\":{\"color\":\"#2a3f5f\"},\"error_y\":{\"color\":\"#2a3f5f\"},\"marker\":{\"line\":{\"color\":\"#E5ECF6\",\"width\":0.5},\"pattern\":{\"fillmode\":\"overlay\",\"size\":10,\"solidity\":0.2}},\"type\":\"bar\"}],\"scattergeo\":[{\"type\":\"scattergeo\",\"marker\":{\"colorbar\":{\"outlinewidth\":0,\"ticks\":\"\"}}}],\"scatterpolar\":[{\"type\":\"scatterpolar\",\"marker\":{\"colorbar\":{\"outlinewidth\":0,\"ticks\":\"\"}}}],\"histogram\":[{\"marker\":{\"pattern\":{\"fillmode\":\"overlay\",\"size\":10,\"solidity\":0.2}},\"type\":\"histogram\"}],\"scattergl\":[{\"type\":\"scattergl\",\"marker\":{\"colorbar\":{\"outlinewidth\":0,\"ticks\":\"\"}}}],\"scatter3d\":[{\"type\":\"scatter3d\",\"line\":{\"colorbar\":{\"outlinewidth\":0,\"ticks\":\"\"}},\"marker\":{\"colorbar\":{\"outlinewidth\":0,\"ticks\":\"\"}}}],\"scattermapbox\":[{\"type\":\"scattermapbox\",\"marker\":{\"colorbar\":{\"outlinewidth\":0,\"ticks\":\"\"}}}],\"scatterternary\":[{\"type\":\"scatterternary\",\"marker\":{\"colorbar\":{\"outlinewidth\":0,\"ticks\":\"\"}}}],\"scattercarpet\":[{\"type\":\"scattercarpet\",\"marker\":{\"colorbar\":{\"outlinewidth\":0,\"ticks\":\"\"}}}],\"carpet\":[{\"aaxis\":{\"endlinecolor\":\"#2a3f5f\",\"gridcolor\":\"white\",\"linecolor\":\"white\",\"minorgridcolor\":\"white\",\"startlinecolor\":\"#2a3f5f\"},\"baxis\":{\"endlinecolor\":\"#2a3f5f\",\"gridcolor\":\"white\",\"linecolor\":\"white\",\"minorgridcolor\":\"white\",\"startlinecolor\":\"#2a3f5f\"},\"type\":\"carpet\"}],\"table\":[{\"cells\":{\"fill\":{\"color\":\"#EBF0F8\"},\"line\":{\"color\":\"white\"}},\"header\":{\"fill\":{\"color\":\"#C8D4E3\"},\"line\":{\"color\":\"white\"}},\"type\":\"table\"}],\"barpolar\":[{\"marker\":{\"line\":{\"color\":\"#E5ECF6\",\"width\":0.5},\"pattern\":{\"fillmode\":\"overlay\",\"size\":10,\"solidity\":0.2}},\"type\":\"barpolar\"}],\"pie\":[{\"automargin\":true,\"type\":\"pie\"}]},\"layout\":{\"autotypenumbers\":\"strict\",\"colorway\":[\"#636efa\",\"#EF553B\",\"#00cc96\",\"#ab63fa\",\"#FFA15A\",\"#19d3f3\",\"#FF6692\",\"#B6E880\",\"#FF97FF\",\"#FECB52\"],\"font\":{\"color\":\"#2a3f5f\"},\"hovermode\":\"closest\",\"hoverlabel\":{\"align\":\"left\"},\"paper_bgcolor\":\"white\",\"plot_bgcolor\":\"#E5ECF6\",\"polar\":{\"bgcolor\":\"#E5ECF6\",\"angularaxis\":{\"gridcolor\":\"white\",\"linecolor\":\"white\",\"ticks\":\"\"},\"radialaxis\":{\"gridcolor\":\"white\",\"linecolor\":\"white\",\"ticks\":\"\"}},\"ternary\":{\"bgcolor\":\"#E5ECF6\",\"aaxis\":{\"gridcolor\":\"white\",\"linecolor\":\"white\",\"ticks\":\"\"},\"baxis\":{\"gridcolor\":\"white\",\"linecolor\":\"white\",\"ticks\":\"\"},\"caxis\":{\"gridcolor\":\"white\",\"linecolor\":\"white\",\"ticks\":\"\"}},\"coloraxis\":{\"colorbar\":{\"outlinewidth\":0,\"ticks\":\"\"}},\"colorscale\":{\"sequential\":[[0.0,\"#0d0887\"],[0.1111111111111111,\"#46039f\"],[0.2222222222222222,\"#7201a8\"],[0.3333333333333333,\"#9c179e\"],[0.4444444444444444,\"#bd3786\"],[0.5555555555555556,\"#d8576b\"],[0.6666666666666666,\"#ed7953\"],[0.7777777777777778,\"#fb9f3a\"],[0.8888888888888888,\"#fdca26\"],[1.0,\"#f0f921\"]],\"sequentialminus\":[[0.0,\"#0d0887\"],[0.1111111111111111,\"#46039f\"],[0.2222222222222222,\"#7201a8\"],[0.3333333333333333,\"#9c179e\"],[0.4444444444444444,\"#bd3786\"],[0.5555555555555556,\"#d8576b\"],[0.6666666666666666,\"#ed7953\"],[0.7777777777777778,\"#fb9f3a\"],[0.8888888888888888,\"#fdca26\"],[1.0,\"#f0f921\"]],\"diverging\":[[0,\"#8e0152\"],[0.1,\"#c51b7d\"],[0.2,\"#de77ae\"],[0.3,\"#f1b6da\"],[0.4,\"#fde0ef\"],[0.5,\"#f7f7f7\"],[0.6,\"#e6f5d0\"],[0.7,\"#b8e186\"],[0.8,\"#7fbc41\"],[0.9,\"#4d9221\"],[1,\"#276419\"]]},\"xaxis\":{\"gridcolor\":\"white\",\"linecolor\":\"white\",\"ticks\":\"\",\"title\":{\"standoff\":15},\"zerolinecolor\":\"white\",\"automargin\":true,\"zerolinewidth\":2},\"yaxis\":{\"gridcolor\":\"white\",\"linecolor\":\"white\",\"ticks\":\"\",\"title\":{\"standoff\":15},\"zerolinecolor\":\"white\",\"automargin\":true,\"zerolinewidth\":2},\"scene\":{\"xaxis\":{\"backgroundcolor\":\"#E5ECF6\",\"gridcolor\":\"white\",\"linecolor\":\"white\",\"showbackground\":true,\"ticks\":\"\",\"zerolinecolor\":\"white\",\"gridwidth\":2},\"yaxis\":{\"backgroundcolor\":\"#E5ECF6\",\"gridcolor\":\"white\",\"linecolor\":\"white\",\"showbackground\":true,\"ticks\":\"\",\"zerolinecolor\":\"white\",\"gridwidth\":2},\"zaxis\":{\"backgroundcolor\":\"#E5ECF6\",\"gridcolor\":\"white\",\"linecolor\":\"white\",\"showbackground\":true,\"ticks\":\"\",\"zerolinecolor\":\"white\",\"gridwidth\":2}},\"shapedefaults\":{\"line\":{\"color\":\"#2a3f5f\"}},\"annotationdefaults\":{\"arrowcolor\":\"#2a3f5f\",\"arrowhead\":0,\"arrowwidth\":1},\"geo\":{\"bgcolor\":\"white\",\"landcolor\":\"#E5ECF6\",\"subunitcolor\":\"white\",\"showland\":true,\"showlakes\":true,\"lakecolor\":\"white\"},\"title\":{\"x\":0.05},\"mapbox\":{\"style\":\"light\"}}},\"title\":{\"text\":\"What is the average duration of a movie on Netflix?\"},\"uniformtext\":{\"minsize\":8,\"mode\":\"hide\"},\"yaxis\":{\"title\":{\"text\":\"Quantity\",\"font\":{\"size\":14}}},\"xaxis\":{\"title\":{\"text\":\"Duration\",\"font\":{\"size\":14}}}},                        {\"responsive\": true}                    ).then(function(){\n",
              "                            \n",
              "var gd = document.getElementById('c543765d-127e-4cce-b14f-fdb8465dca6d');\n",
              "var x = new MutationObserver(function (mutations, observer) {{\n",
              "        var display = window.getComputedStyle(gd).display;\n",
              "        if (!display || display === 'none') {{\n",
              "            console.log([gd, 'removed!']);\n",
              "            Plotly.purge(gd);\n",
              "            observer.disconnect();\n",
              "        }}\n",
              "}});\n",
              "\n",
              "// Listen for the removal of the full notebook cells\n",
              "var notebookContainer = gd.closest('#notebook-container');\n",
              "if (notebookContainer) {{\n",
              "    x.observe(notebookContainer, {childList: true});\n",
              "}}\n",
              "\n",
              "// Listen for the clearing of the current output cell\n",
              "var outputEl = gd.closest('.output');\n",
              "if (outputEl) {{\n",
              "    x.observe(outputEl, {childList: true});\n",
              "}}\n",
              "\n",
              "                        })                };                            </script>        </div>\n",
              "</body>\n",
              "</html>"
            ]
          },
          "metadata": {}
        }
      ]
    },
    {
      "cell_type": "markdown",
      "source": [
        "# Directors and Actors"
      ],
      "metadata": {
        "id": "L6w-AiqVNH29"
      }
    },
    {
      "cell_type": "markdown",
      "source": [
        "### In the Series"
      ],
      "metadata": {
        "id": "DH64fBG9OC4K"
      }
    },
    {
      "cell_type": "code",
      "source": [
        "df_series_dir = df_series.dropna(subset=['Director'])"
      ],
      "metadata": {
        "id": "iTOoPjE4M-Uj"
      },
      "execution_count": null,
      "outputs": []
    },
    {
      "cell_type": "code",
      "source": [
        "series_dir_list = df_series_dir['Director'].str.split(', ')\n",
        "s_dir_list = {}\n",
        "for directors in series_dir_list:\n",
        "    for director in directors:\n",
        "        if (director in s_dir_list):\n",
        "            s_dir_list[director]+=1\n",
        "        else:\n",
        "            s_dir_list[director]=1\n",
        "s_dir_df = pd.DataFrame(s_dir_list.values(),index = s_dir_list.keys(),\n",
        "                        columns = ['Director Counts'])\n",
        "s_dir_df.sort_values(by = 'Director Counts',ascending = False,inplace = True)\n",
        "top_10_s_dir = s_dir_df[0:10]"
      ],
      "metadata": {
        "id": "koTTuA82Navu"
      },
      "execution_count": null,
      "outputs": []
    },
    {
      "cell_type": "code",
      "source": [
        "fig = go.Figure(data=[go.Bar(\n",
        "    x = top_10_s_dir.index,\n",
        "    y = top_10_s_dir['Director Counts'],\n",
        "    text = top_10_s_dir['Director Counts'],\n",
        "    textposition='auto',\n",
        "    marker_color=colors_10\n",
        ")])\n",
        "fig.update_traces(texttemplate='%{text:.2s}', textposition='outside')\n",
        "fig.update_layout(title_text= 'Which are the directors that have directed more Tv Series?',\n",
        "                  uniformtext_minsize=8, uniformtext_mode='hide',\n",
        "                  yaxis=dict(\n",
        "                  title='N° of Tv Series he/she directed',\n",
        "                  titlefont_size=14),\n",
        "                  xaxis=dict(\n",
        "                  title='Directors',\n",
        "                  titlefont_size=14))"
      ],
      "metadata": {
        "colab": {
          "base_uri": "https://localhost:8080/",
          "height": 542
        },
        "id": "HzTQzykpNdna",
        "outputId": "36640c78-5601-466f-bc38-e4b3b7d4c48a"
      },
      "execution_count": null,
      "outputs": [
        {
          "output_type": "display_data",
          "data": {
            "text/html": [
              "<html>\n",
              "<head><meta charset=\"utf-8\" /></head>\n",
              "<body>\n",
              "    <div>            <script src=\"https://cdnjs.cloudflare.com/ajax/libs/mathjax/2.7.5/MathJax.js?config=TeX-AMS-MML_SVG\"></script><script type=\"text/javascript\">if (window.MathJax && window.MathJax.Hub && window.MathJax.Hub.Config) {window.MathJax.Hub.Config({SVG: {font: \"STIX-Web\"}});}</script>                <script type=\"text/javascript\">window.PlotlyConfig = {MathJaxConfig: 'local'};</script>\n",
              "        <script charset=\"utf-8\" src=\"https://cdn.plot.ly/plotly-2.35.2.min.js\"></script>                <div id=\"1a5dbd18-9da9-4240-8ccb-3cb2b61bc603\" class=\"plotly-graph-div\" style=\"height:525px; width:100%;\"></div>            <script type=\"text/javascript\">                                    window.PLOTLYENV=window.PLOTLYENV || {};                                    if (document.getElementById(\"1a5dbd18-9da9-4240-8ccb-3cb2b61bc603\")) {                    Plotly.newPlot(                        \"1a5dbd18-9da9-4240-8ccb-3cb2b61bc603\",                        [{\"marker\":{\"color\":[\"DarkRed\",\"FireBrick\",\"Red\",\"Crimson\",\"IndianRed\",\"slategray\",\"gray\",\"dimgrey\",\"DarkSlateGrey\",\"black\"]},\"text\":[4.0,3.0,3.0,2.0,2.0,2.0,2.0,2.0,2.0,2.0],\"textposition\":\"outside\",\"x\":[\"George Lucas\",\"Hideki Takeuchi\",\"Archie Baron\",\"Kenji Kamiyama\",\"Kôbun Shizuno\",\"Jay Roach\",\"Sergey Tkachev\",\"Nanette Burstein\",\"Wolfgang Petersen\",\"Marcus Dunstan\"],\"y\":[4,3,3,2,2,2,2,2,2,2],\"type\":\"bar\",\"texttemplate\":\"%{text:.2s}\"}],                        {\"template\":{\"data\":{\"histogram2dcontour\":[{\"type\":\"histogram2dcontour\",\"colorbar\":{\"outlinewidth\":0,\"ticks\":\"\"},\"colorscale\":[[0.0,\"#0d0887\"],[0.1111111111111111,\"#46039f\"],[0.2222222222222222,\"#7201a8\"],[0.3333333333333333,\"#9c179e\"],[0.4444444444444444,\"#bd3786\"],[0.5555555555555556,\"#d8576b\"],[0.6666666666666666,\"#ed7953\"],[0.7777777777777778,\"#fb9f3a\"],[0.8888888888888888,\"#fdca26\"],[1.0,\"#f0f921\"]]}],\"choropleth\":[{\"type\":\"choropleth\",\"colorbar\":{\"outlinewidth\":0,\"ticks\":\"\"}}],\"histogram2d\":[{\"type\":\"histogram2d\",\"colorbar\":{\"outlinewidth\":0,\"ticks\":\"\"},\"colorscale\":[[0.0,\"#0d0887\"],[0.1111111111111111,\"#46039f\"],[0.2222222222222222,\"#7201a8\"],[0.3333333333333333,\"#9c179e\"],[0.4444444444444444,\"#bd3786\"],[0.5555555555555556,\"#d8576b\"],[0.6666666666666666,\"#ed7953\"],[0.7777777777777778,\"#fb9f3a\"],[0.8888888888888888,\"#fdca26\"],[1.0,\"#f0f921\"]]}],\"heatmap\":[{\"type\":\"heatmap\",\"colorbar\":{\"outlinewidth\":0,\"ticks\":\"\"},\"colorscale\":[[0.0,\"#0d0887\"],[0.1111111111111111,\"#46039f\"],[0.2222222222222222,\"#7201a8\"],[0.3333333333333333,\"#9c179e\"],[0.4444444444444444,\"#bd3786\"],[0.5555555555555556,\"#d8576b\"],[0.6666666666666666,\"#ed7953\"],[0.7777777777777778,\"#fb9f3a\"],[0.8888888888888888,\"#fdca26\"],[1.0,\"#f0f921\"]]}],\"heatmapgl\":[{\"type\":\"heatmapgl\",\"colorbar\":{\"outlinewidth\":0,\"ticks\":\"\"},\"colorscale\":[[0.0,\"#0d0887\"],[0.1111111111111111,\"#46039f\"],[0.2222222222222222,\"#7201a8\"],[0.3333333333333333,\"#9c179e\"],[0.4444444444444444,\"#bd3786\"],[0.5555555555555556,\"#d8576b\"],[0.6666666666666666,\"#ed7953\"],[0.7777777777777778,\"#fb9f3a\"],[0.8888888888888888,\"#fdca26\"],[1.0,\"#f0f921\"]]}],\"contourcarpet\":[{\"type\":\"contourcarpet\",\"colorbar\":{\"outlinewidth\":0,\"ticks\":\"\"}}],\"contour\":[{\"type\":\"contour\",\"colorbar\":{\"outlinewidth\":0,\"ticks\":\"\"},\"colorscale\":[[0.0,\"#0d0887\"],[0.1111111111111111,\"#46039f\"],[0.2222222222222222,\"#7201a8\"],[0.3333333333333333,\"#9c179e\"],[0.4444444444444444,\"#bd3786\"],[0.5555555555555556,\"#d8576b\"],[0.6666666666666666,\"#ed7953\"],[0.7777777777777778,\"#fb9f3a\"],[0.8888888888888888,\"#fdca26\"],[1.0,\"#f0f921\"]]}],\"surface\":[{\"type\":\"surface\",\"colorbar\":{\"outlinewidth\":0,\"ticks\":\"\"},\"colorscale\":[[0.0,\"#0d0887\"],[0.1111111111111111,\"#46039f\"],[0.2222222222222222,\"#7201a8\"],[0.3333333333333333,\"#9c179e\"],[0.4444444444444444,\"#bd3786\"],[0.5555555555555556,\"#d8576b\"],[0.6666666666666666,\"#ed7953\"],[0.7777777777777778,\"#fb9f3a\"],[0.8888888888888888,\"#fdca26\"],[1.0,\"#f0f921\"]]}],\"mesh3d\":[{\"type\":\"mesh3d\",\"colorbar\":{\"outlinewidth\":0,\"ticks\":\"\"}}],\"scatter\":[{\"fillpattern\":{\"fillmode\":\"overlay\",\"size\":10,\"solidity\":0.2},\"type\":\"scatter\"}],\"parcoords\":[{\"type\":\"parcoords\",\"line\":{\"colorbar\":{\"outlinewidth\":0,\"ticks\":\"\"}}}],\"scatterpolargl\":[{\"type\":\"scatterpolargl\",\"marker\":{\"colorbar\":{\"outlinewidth\":0,\"ticks\":\"\"}}}],\"bar\":[{\"error_x\":{\"color\":\"#2a3f5f\"},\"error_y\":{\"color\":\"#2a3f5f\"},\"marker\":{\"line\":{\"color\":\"#E5ECF6\",\"width\":0.5},\"pattern\":{\"fillmode\":\"overlay\",\"size\":10,\"solidity\":0.2}},\"type\":\"bar\"}],\"scattergeo\":[{\"type\":\"scattergeo\",\"marker\":{\"colorbar\":{\"outlinewidth\":0,\"ticks\":\"\"}}}],\"scatterpolar\":[{\"type\":\"scatterpolar\",\"marker\":{\"colorbar\":{\"outlinewidth\":0,\"ticks\":\"\"}}}],\"histogram\":[{\"marker\":{\"pattern\":{\"fillmode\":\"overlay\",\"size\":10,\"solidity\":0.2}},\"type\":\"histogram\"}],\"scattergl\":[{\"type\":\"scattergl\",\"marker\":{\"colorbar\":{\"outlinewidth\":0,\"ticks\":\"\"}}}],\"scatter3d\":[{\"type\":\"scatter3d\",\"line\":{\"colorbar\":{\"outlinewidth\":0,\"ticks\":\"\"}},\"marker\":{\"colorbar\":{\"outlinewidth\":0,\"ticks\":\"\"}}}],\"scattermapbox\":[{\"type\":\"scattermapbox\",\"marker\":{\"colorbar\":{\"outlinewidth\":0,\"ticks\":\"\"}}}],\"scatterternary\":[{\"type\":\"scatterternary\",\"marker\":{\"colorbar\":{\"outlinewidth\":0,\"ticks\":\"\"}}}],\"scattercarpet\":[{\"type\":\"scattercarpet\",\"marker\":{\"colorbar\":{\"outlinewidth\":0,\"ticks\":\"\"}}}],\"carpet\":[{\"aaxis\":{\"endlinecolor\":\"#2a3f5f\",\"gridcolor\":\"white\",\"linecolor\":\"white\",\"minorgridcolor\":\"white\",\"startlinecolor\":\"#2a3f5f\"},\"baxis\":{\"endlinecolor\":\"#2a3f5f\",\"gridcolor\":\"white\",\"linecolor\":\"white\",\"minorgridcolor\":\"white\",\"startlinecolor\":\"#2a3f5f\"},\"type\":\"carpet\"}],\"table\":[{\"cells\":{\"fill\":{\"color\":\"#EBF0F8\"},\"line\":{\"color\":\"white\"}},\"header\":{\"fill\":{\"color\":\"#C8D4E3\"},\"line\":{\"color\":\"white\"}},\"type\":\"table\"}],\"barpolar\":[{\"marker\":{\"line\":{\"color\":\"#E5ECF6\",\"width\":0.5},\"pattern\":{\"fillmode\":\"overlay\",\"size\":10,\"solidity\":0.2}},\"type\":\"barpolar\"}],\"pie\":[{\"automargin\":true,\"type\":\"pie\"}]},\"layout\":{\"autotypenumbers\":\"strict\",\"colorway\":[\"#636efa\",\"#EF553B\",\"#00cc96\",\"#ab63fa\",\"#FFA15A\",\"#19d3f3\",\"#FF6692\",\"#B6E880\",\"#FF97FF\",\"#FECB52\"],\"font\":{\"color\":\"#2a3f5f\"},\"hovermode\":\"closest\",\"hoverlabel\":{\"align\":\"left\"},\"paper_bgcolor\":\"white\",\"plot_bgcolor\":\"#E5ECF6\",\"polar\":{\"bgcolor\":\"#E5ECF6\",\"angularaxis\":{\"gridcolor\":\"white\",\"linecolor\":\"white\",\"ticks\":\"\"},\"radialaxis\":{\"gridcolor\":\"white\",\"linecolor\":\"white\",\"ticks\":\"\"}},\"ternary\":{\"bgcolor\":\"#E5ECF6\",\"aaxis\":{\"gridcolor\":\"white\",\"linecolor\":\"white\",\"ticks\":\"\"},\"baxis\":{\"gridcolor\":\"white\",\"linecolor\":\"white\",\"ticks\":\"\"},\"caxis\":{\"gridcolor\":\"white\",\"linecolor\":\"white\",\"ticks\":\"\"}},\"coloraxis\":{\"colorbar\":{\"outlinewidth\":0,\"ticks\":\"\"}},\"colorscale\":{\"sequential\":[[0.0,\"#0d0887\"],[0.1111111111111111,\"#46039f\"],[0.2222222222222222,\"#7201a8\"],[0.3333333333333333,\"#9c179e\"],[0.4444444444444444,\"#bd3786\"],[0.5555555555555556,\"#d8576b\"],[0.6666666666666666,\"#ed7953\"],[0.7777777777777778,\"#fb9f3a\"],[0.8888888888888888,\"#fdca26\"],[1.0,\"#f0f921\"]],\"sequentialminus\":[[0.0,\"#0d0887\"],[0.1111111111111111,\"#46039f\"],[0.2222222222222222,\"#7201a8\"],[0.3333333333333333,\"#9c179e\"],[0.4444444444444444,\"#bd3786\"],[0.5555555555555556,\"#d8576b\"],[0.6666666666666666,\"#ed7953\"],[0.7777777777777778,\"#fb9f3a\"],[0.8888888888888888,\"#fdca26\"],[1.0,\"#f0f921\"]],\"diverging\":[[0,\"#8e0152\"],[0.1,\"#c51b7d\"],[0.2,\"#de77ae\"],[0.3,\"#f1b6da\"],[0.4,\"#fde0ef\"],[0.5,\"#f7f7f7\"],[0.6,\"#e6f5d0\"],[0.7,\"#b8e186\"],[0.8,\"#7fbc41\"],[0.9,\"#4d9221\"],[1,\"#276419\"]]},\"xaxis\":{\"gridcolor\":\"white\",\"linecolor\":\"white\",\"ticks\":\"\",\"title\":{\"standoff\":15},\"zerolinecolor\":\"white\",\"automargin\":true,\"zerolinewidth\":2},\"yaxis\":{\"gridcolor\":\"white\",\"linecolor\":\"white\",\"ticks\":\"\",\"title\":{\"standoff\":15},\"zerolinecolor\":\"white\",\"automargin\":true,\"zerolinewidth\":2},\"scene\":{\"xaxis\":{\"backgroundcolor\":\"#E5ECF6\",\"gridcolor\":\"white\",\"linecolor\":\"white\",\"showbackground\":true,\"ticks\":\"\",\"zerolinecolor\":\"white\",\"gridwidth\":2},\"yaxis\":{\"backgroundcolor\":\"#E5ECF6\",\"gridcolor\":\"white\",\"linecolor\":\"white\",\"showbackground\":true,\"ticks\":\"\",\"zerolinecolor\":\"white\",\"gridwidth\":2},\"zaxis\":{\"backgroundcolor\":\"#E5ECF6\",\"gridcolor\":\"white\",\"linecolor\":\"white\",\"showbackground\":true,\"ticks\":\"\",\"zerolinecolor\":\"white\",\"gridwidth\":2}},\"shapedefaults\":{\"line\":{\"color\":\"#2a3f5f\"}},\"annotationdefaults\":{\"arrowcolor\":\"#2a3f5f\",\"arrowhead\":0,\"arrowwidth\":1},\"geo\":{\"bgcolor\":\"white\",\"landcolor\":\"#E5ECF6\",\"subunitcolor\":\"white\",\"showland\":true,\"showlakes\":true,\"lakecolor\":\"white\"},\"title\":{\"x\":0.05},\"mapbox\":{\"style\":\"light\"}}},\"title\":{\"text\":\"Which are the directors that have directed more Tv Series?\"},\"uniformtext\":{\"minsize\":8,\"mode\":\"hide\"},\"yaxis\":{\"title\":{\"text\":\"N° of Tv Series he\\u002fshe directed\",\"font\":{\"size\":14}}},\"xaxis\":{\"title\":{\"text\":\"Directors\",\"font\":{\"size\":14}}}},                        {\"responsive\": true}                    ).then(function(){\n",
              "                            \n",
              "var gd = document.getElementById('1a5dbd18-9da9-4240-8ccb-3cb2b61bc603');\n",
              "var x = new MutationObserver(function (mutations, observer) {{\n",
              "        var display = window.getComputedStyle(gd).display;\n",
              "        if (!display || display === 'none') {{\n",
              "            console.log([gd, 'removed!']);\n",
              "            Plotly.purge(gd);\n",
              "            observer.disconnect();\n",
              "        }}\n",
              "}});\n",
              "\n",
              "// Listen for the removal of the full notebook cells\n",
              "var notebookContainer = gd.closest('#notebook-container');\n",
              "if (notebookContainer) {{\n",
              "    x.observe(notebookContainer, {childList: true});\n",
              "}}\n",
              "\n",
              "// Listen for the clearing of the current output cell\n",
              "var outputEl = gd.closest('.output');\n",
              "if (outputEl) {{\n",
              "    x.observe(outputEl, {childList: true});\n",
              "}}\n",
              "\n",
              "                        })                };                            </script>        </div>\n",
              "</body>\n",
              "</html>"
            ]
          },
          "metadata": {}
        }
      ]
    },
    {
      "cell_type": "markdown",
      "source": [
        "### In the Movies\n"
      ],
      "metadata": {
        "id": "sUga0XqSN98I"
      }
    },
    {
      "cell_type": "code",
      "source": [
        "df_movie_dir = df_movie.dropna(subset=['Director'])"
      ],
      "metadata": {
        "id": "PJiOZx0mNues"
      },
      "execution_count": null,
      "outputs": []
    },
    {
      "cell_type": "code",
      "source": [
        "movie_dir_list = df_movie_dir['Director'].str.split(', ')\n",
        "m_dir_list = {}\n",
        "for directors in movie_dir_list:\n",
        "    for director in directors:\n",
        "        if (director in m_dir_list):\n",
        "            m_dir_list[director]+=1\n",
        "        else:\n",
        "            m_dir_list[director]=1\n",
        "m_dir_df = pd.DataFrame(m_dir_list.values(),index = m_dir_list.keys(),\n",
        "                        columns = ['Director Counts'])\n",
        "m_dir_df.sort_values(by = 'Director Counts',ascending = False,inplace = True)\n",
        "top_10_m_dir = m_dir_df[0:10]"
      ],
      "metadata": {
        "id": "0jI-61HyNwUc"
      },
      "execution_count": null,
      "outputs": []
    },
    {
      "cell_type": "code",
      "source": [
        "fig = go.Figure(data=[go.Bar(\n",
        "    x = top_10_m_dir.index,\n",
        "    y = top_10_m_dir['Director Counts'],\n",
        "    text = top_10_m_dir['Director Counts'],\n",
        "    textposition='auto',\n",
        "    marker_color=colors_10\n",
        ")])\n",
        "fig.update_traces(texttemplate='%{text:.2s}', textposition='outside')\n",
        "fig.update_layout(title_text= 'Which are the directors that have directed more Movies?',\n",
        "                  uniformtext_minsize=8, uniformtext_mode='hide',\n",
        "                  yaxis=dict(\n",
        "                  title='N° of Movies he/she directed',\n",
        "                  titlefont_size=14),\n",
        "                  xaxis=dict(\n",
        "                  title='Directors',\n",
        "                  titlefont_size=14))\n"
      ],
      "metadata": {
        "colab": {
          "base_uri": "https://localhost:8080/",
          "height": 542
        },
        "id": "qfmSE3h2NxqV",
        "outputId": "6e28e516-ae7c-4c6f-ddf3-e34e9e373651"
      },
      "execution_count": null,
      "outputs": [
        {
          "output_type": "display_data",
          "data": {
            "text/html": [
              "<html>\n",
              "<head><meta charset=\"utf-8\" /></head>\n",
              "<body>\n",
              "    <div>            <script src=\"https://cdnjs.cloudflare.com/ajax/libs/mathjax/2.7.5/MathJax.js?config=TeX-AMS-MML_SVG\"></script><script type=\"text/javascript\">if (window.MathJax && window.MathJax.Hub && window.MathJax.Hub.Config) {window.MathJax.Hub.Config({SVG: {font: \"STIX-Web\"}});}</script>                <script type=\"text/javascript\">window.PlotlyConfig = {MathJaxConfig: 'local'};</script>\n",
              "        <script charset=\"utf-8\" src=\"https://cdn.plot.ly/plotly-2.35.2.min.js\"></script>                <div id=\"bd7042ff-ae4c-4593-bb93-f3eb412341c3\" class=\"plotly-graph-div\" style=\"height:525px; width:100%;\"></div>            <script type=\"text/javascript\">                                    window.PLOTLYENV=window.PLOTLYENV || {};                                    if (document.getElementById(\"bd7042ff-ae4c-4593-bb93-f3eb412341c3\")) {                    Plotly.newPlot(                        \"bd7042ff-ae4c-4593-bb93-f3eb412341c3\",                        [{\"marker\":{\"color\":[\"DarkRed\",\"FireBrick\",\"Red\",\"Crimson\",\"IndianRed\",\"slategray\",\"gray\",\"dimgrey\",\"DarkSlateGrey\",\"black\"]},\"text\":[26.0,22.0,21.0,19.0,19.0,18.0,17.0,17.0,16.0,16.0],\"textposition\":\"outside\",\"x\":[\"Steven Spielberg\",\"Johnnie To\",\"Jing Wong\",\"Jan Suter\",\"Raúl Campos\",\"Ishirô Honda\",\"Woody Allen\",\"Ridley Scott\",\"Marcus Raboy\",\"Tsutomu Shibayama\"],\"y\":[26,22,21,19,19,18,17,17,16,16],\"type\":\"bar\",\"texttemplate\":\"%{text:.2s}\"}],                        {\"template\":{\"data\":{\"histogram2dcontour\":[{\"type\":\"histogram2dcontour\",\"colorbar\":{\"outlinewidth\":0,\"ticks\":\"\"},\"colorscale\":[[0.0,\"#0d0887\"],[0.1111111111111111,\"#46039f\"],[0.2222222222222222,\"#7201a8\"],[0.3333333333333333,\"#9c179e\"],[0.4444444444444444,\"#bd3786\"],[0.5555555555555556,\"#d8576b\"],[0.6666666666666666,\"#ed7953\"],[0.7777777777777778,\"#fb9f3a\"],[0.8888888888888888,\"#fdca26\"],[1.0,\"#f0f921\"]]}],\"choropleth\":[{\"type\":\"choropleth\",\"colorbar\":{\"outlinewidth\":0,\"ticks\":\"\"}}],\"histogram2d\":[{\"type\":\"histogram2d\",\"colorbar\":{\"outlinewidth\":0,\"ticks\":\"\"},\"colorscale\":[[0.0,\"#0d0887\"],[0.1111111111111111,\"#46039f\"],[0.2222222222222222,\"#7201a8\"],[0.3333333333333333,\"#9c179e\"],[0.4444444444444444,\"#bd3786\"],[0.5555555555555556,\"#d8576b\"],[0.6666666666666666,\"#ed7953\"],[0.7777777777777778,\"#fb9f3a\"],[0.8888888888888888,\"#fdca26\"],[1.0,\"#f0f921\"]]}],\"heatmap\":[{\"type\":\"heatmap\",\"colorbar\":{\"outlinewidth\":0,\"ticks\":\"\"},\"colorscale\":[[0.0,\"#0d0887\"],[0.1111111111111111,\"#46039f\"],[0.2222222222222222,\"#7201a8\"],[0.3333333333333333,\"#9c179e\"],[0.4444444444444444,\"#bd3786\"],[0.5555555555555556,\"#d8576b\"],[0.6666666666666666,\"#ed7953\"],[0.7777777777777778,\"#fb9f3a\"],[0.8888888888888888,\"#fdca26\"],[1.0,\"#f0f921\"]]}],\"heatmapgl\":[{\"type\":\"heatmapgl\",\"colorbar\":{\"outlinewidth\":0,\"ticks\":\"\"},\"colorscale\":[[0.0,\"#0d0887\"],[0.1111111111111111,\"#46039f\"],[0.2222222222222222,\"#7201a8\"],[0.3333333333333333,\"#9c179e\"],[0.4444444444444444,\"#bd3786\"],[0.5555555555555556,\"#d8576b\"],[0.6666666666666666,\"#ed7953\"],[0.7777777777777778,\"#fb9f3a\"],[0.8888888888888888,\"#fdca26\"],[1.0,\"#f0f921\"]]}],\"contourcarpet\":[{\"type\":\"contourcarpet\",\"colorbar\":{\"outlinewidth\":0,\"ticks\":\"\"}}],\"contour\":[{\"type\":\"contour\",\"colorbar\":{\"outlinewidth\":0,\"ticks\":\"\"},\"colorscale\":[[0.0,\"#0d0887\"],[0.1111111111111111,\"#46039f\"],[0.2222222222222222,\"#7201a8\"],[0.3333333333333333,\"#9c179e\"],[0.4444444444444444,\"#bd3786\"],[0.5555555555555556,\"#d8576b\"],[0.6666666666666666,\"#ed7953\"],[0.7777777777777778,\"#fb9f3a\"],[0.8888888888888888,\"#fdca26\"],[1.0,\"#f0f921\"]]}],\"surface\":[{\"type\":\"surface\",\"colorbar\":{\"outlinewidth\":0,\"ticks\":\"\"},\"colorscale\":[[0.0,\"#0d0887\"],[0.1111111111111111,\"#46039f\"],[0.2222222222222222,\"#7201a8\"],[0.3333333333333333,\"#9c179e\"],[0.4444444444444444,\"#bd3786\"],[0.5555555555555556,\"#d8576b\"],[0.6666666666666666,\"#ed7953\"],[0.7777777777777778,\"#fb9f3a\"],[0.8888888888888888,\"#fdca26\"],[1.0,\"#f0f921\"]]}],\"mesh3d\":[{\"type\":\"mesh3d\",\"colorbar\":{\"outlinewidth\":0,\"ticks\":\"\"}}],\"scatter\":[{\"fillpattern\":{\"fillmode\":\"overlay\",\"size\":10,\"solidity\":0.2},\"type\":\"scatter\"}],\"parcoords\":[{\"type\":\"parcoords\",\"line\":{\"colorbar\":{\"outlinewidth\":0,\"ticks\":\"\"}}}],\"scatterpolargl\":[{\"type\":\"scatterpolargl\",\"marker\":{\"colorbar\":{\"outlinewidth\":0,\"ticks\":\"\"}}}],\"bar\":[{\"error_x\":{\"color\":\"#2a3f5f\"},\"error_y\":{\"color\":\"#2a3f5f\"},\"marker\":{\"line\":{\"color\":\"#E5ECF6\",\"width\":0.5},\"pattern\":{\"fillmode\":\"overlay\",\"size\":10,\"solidity\":0.2}},\"type\":\"bar\"}],\"scattergeo\":[{\"type\":\"scattergeo\",\"marker\":{\"colorbar\":{\"outlinewidth\":0,\"ticks\":\"\"}}}],\"scatterpolar\":[{\"type\":\"scatterpolar\",\"marker\":{\"colorbar\":{\"outlinewidth\":0,\"ticks\":\"\"}}}],\"histogram\":[{\"marker\":{\"pattern\":{\"fillmode\":\"overlay\",\"size\":10,\"solidity\":0.2}},\"type\":\"histogram\"}],\"scattergl\":[{\"type\":\"scattergl\",\"marker\":{\"colorbar\":{\"outlinewidth\":0,\"ticks\":\"\"}}}],\"scatter3d\":[{\"type\":\"scatter3d\",\"line\":{\"colorbar\":{\"outlinewidth\":0,\"ticks\":\"\"}},\"marker\":{\"colorbar\":{\"outlinewidth\":0,\"ticks\":\"\"}}}],\"scattermapbox\":[{\"type\":\"scattermapbox\",\"marker\":{\"colorbar\":{\"outlinewidth\":0,\"ticks\":\"\"}}}],\"scatterternary\":[{\"type\":\"scatterternary\",\"marker\":{\"colorbar\":{\"outlinewidth\":0,\"ticks\":\"\"}}}],\"scattercarpet\":[{\"type\":\"scattercarpet\",\"marker\":{\"colorbar\":{\"outlinewidth\":0,\"ticks\":\"\"}}}],\"carpet\":[{\"aaxis\":{\"endlinecolor\":\"#2a3f5f\",\"gridcolor\":\"white\",\"linecolor\":\"white\",\"minorgridcolor\":\"white\",\"startlinecolor\":\"#2a3f5f\"},\"baxis\":{\"endlinecolor\":\"#2a3f5f\",\"gridcolor\":\"white\",\"linecolor\":\"white\",\"minorgridcolor\":\"white\",\"startlinecolor\":\"#2a3f5f\"},\"type\":\"carpet\"}],\"table\":[{\"cells\":{\"fill\":{\"color\":\"#EBF0F8\"},\"line\":{\"color\":\"white\"}},\"header\":{\"fill\":{\"color\":\"#C8D4E3\"},\"line\":{\"color\":\"white\"}},\"type\":\"table\"}],\"barpolar\":[{\"marker\":{\"line\":{\"color\":\"#E5ECF6\",\"width\":0.5},\"pattern\":{\"fillmode\":\"overlay\",\"size\":10,\"solidity\":0.2}},\"type\":\"barpolar\"}],\"pie\":[{\"automargin\":true,\"type\":\"pie\"}]},\"layout\":{\"autotypenumbers\":\"strict\",\"colorway\":[\"#636efa\",\"#EF553B\",\"#00cc96\",\"#ab63fa\",\"#FFA15A\",\"#19d3f3\",\"#FF6692\",\"#B6E880\",\"#FF97FF\",\"#FECB52\"],\"font\":{\"color\":\"#2a3f5f\"},\"hovermode\":\"closest\",\"hoverlabel\":{\"align\":\"left\"},\"paper_bgcolor\":\"white\",\"plot_bgcolor\":\"#E5ECF6\",\"polar\":{\"bgcolor\":\"#E5ECF6\",\"angularaxis\":{\"gridcolor\":\"white\",\"linecolor\":\"white\",\"ticks\":\"\"},\"radialaxis\":{\"gridcolor\":\"white\",\"linecolor\":\"white\",\"ticks\":\"\"}},\"ternary\":{\"bgcolor\":\"#E5ECF6\",\"aaxis\":{\"gridcolor\":\"white\",\"linecolor\":\"white\",\"ticks\":\"\"},\"baxis\":{\"gridcolor\":\"white\",\"linecolor\":\"white\",\"ticks\":\"\"},\"caxis\":{\"gridcolor\":\"white\",\"linecolor\":\"white\",\"ticks\":\"\"}},\"coloraxis\":{\"colorbar\":{\"outlinewidth\":0,\"ticks\":\"\"}},\"colorscale\":{\"sequential\":[[0.0,\"#0d0887\"],[0.1111111111111111,\"#46039f\"],[0.2222222222222222,\"#7201a8\"],[0.3333333333333333,\"#9c179e\"],[0.4444444444444444,\"#bd3786\"],[0.5555555555555556,\"#d8576b\"],[0.6666666666666666,\"#ed7953\"],[0.7777777777777778,\"#fb9f3a\"],[0.8888888888888888,\"#fdca26\"],[1.0,\"#f0f921\"]],\"sequentialminus\":[[0.0,\"#0d0887\"],[0.1111111111111111,\"#46039f\"],[0.2222222222222222,\"#7201a8\"],[0.3333333333333333,\"#9c179e\"],[0.4444444444444444,\"#bd3786\"],[0.5555555555555556,\"#d8576b\"],[0.6666666666666666,\"#ed7953\"],[0.7777777777777778,\"#fb9f3a\"],[0.8888888888888888,\"#fdca26\"],[1.0,\"#f0f921\"]],\"diverging\":[[0,\"#8e0152\"],[0.1,\"#c51b7d\"],[0.2,\"#de77ae\"],[0.3,\"#f1b6da\"],[0.4,\"#fde0ef\"],[0.5,\"#f7f7f7\"],[0.6,\"#e6f5d0\"],[0.7,\"#b8e186\"],[0.8,\"#7fbc41\"],[0.9,\"#4d9221\"],[1,\"#276419\"]]},\"xaxis\":{\"gridcolor\":\"white\",\"linecolor\":\"white\",\"ticks\":\"\",\"title\":{\"standoff\":15},\"zerolinecolor\":\"white\",\"automargin\":true,\"zerolinewidth\":2},\"yaxis\":{\"gridcolor\":\"white\",\"linecolor\":\"white\",\"ticks\":\"\",\"title\":{\"standoff\":15},\"zerolinecolor\":\"white\",\"automargin\":true,\"zerolinewidth\":2},\"scene\":{\"xaxis\":{\"backgroundcolor\":\"#E5ECF6\",\"gridcolor\":\"white\",\"linecolor\":\"white\",\"showbackground\":true,\"ticks\":\"\",\"zerolinecolor\":\"white\",\"gridwidth\":2},\"yaxis\":{\"backgroundcolor\":\"#E5ECF6\",\"gridcolor\":\"white\",\"linecolor\":\"white\",\"showbackground\":true,\"ticks\":\"\",\"zerolinecolor\":\"white\",\"gridwidth\":2},\"zaxis\":{\"backgroundcolor\":\"#E5ECF6\",\"gridcolor\":\"white\",\"linecolor\":\"white\",\"showbackground\":true,\"ticks\":\"\",\"zerolinecolor\":\"white\",\"gridwidth\":2}},\"shapedefaults\":{\"line\":{\"color\":\"#2a3f5f\"}},\"annotationdefaults\":{\"arrowcolor\":\"#2a3f5f\",\"arrowhead\":0,\"arrowwidth\":1},\"geo\":{\"bgcolor\":\"white\",\"landcolor\":\"#E5ECF6\",\"subunitcolor\":\"white\",\"showland\":true,\"showlakes\":true,\"lakecolor\":\"white\"},\"title\":{\"x\":0.05},\"mapbox\":{\"style\":\"light\"}}},\"title\":{\"text\":\"Which are the directors that have directed more Movies?\"},\"uniformtext\":{\"minsize\":8,\"mode\":\"hide\"},\"yaxis\":{\"title\":{\"text\":\"N° of Movies he\\u002fshe directed\",\"font\":{\"size\":14}}},\"xaxis\":{\"title\":{\"text\":\"Directors\",\"font\":{\"size\":14}}}},                        {\"responsive\": true}                    ).then(function(){\n",
              "                            \n",
              "var gd = document.getElementById('bd7042ff-ae4c-4593-bb93-f3eb412341c3');\n",
              "var x = new MutationObserver(function (mutations, observer) {{\n",
              "        var display = window.getComputedStyle(gd).display;\n",
              "        if (!display || display === 'none') {{\n",
              "            console.log([gd, 'removed!']);\n",
              "            Plotly.purge(gd);\n",
              "            observer.disconnect();\n",
              "        }}\n",
              "}});\n",
              "\n",
              "// Listen for the removal of the full notebook cells\n",
              "var notebookContainer = gd.closest('#notebook-container');\n",
              "if (notebookContainer) {{\n",
              "    x.observe(notebookContainer, {childList: true});\n",
              "}}\n",
              "\n",
              "// Listen for the clearing of the current output cell\n",
              "var outputEl = gd.closest('.output');\n",
              "if (outputEl) {{\n",
              "    x.observe(outputEl, {childList: true});\n",
              "}}\n",
              "\n",
              "                        })                };                            </script>        </div>\n",
              "</body>\n",
              "</html>"
            ]
          },
          "metadata": {}
        }
      ]
    },
    {
      "cell_type": "markdown",
      "source": [
        "### Actors"
      ],
      "metadata": {
        "id": "uOs2dFbbOFrK"
      }
    },
    {
      "cell_type": "markdown",
      "source": [
        "### In the Series"
      ],
      "metadata": {
        "id": "fCnmEoEfOJK4"
      }
    },
    {
      "cell_type": "code",
      "source": [
        "df_series_act = df_series.dropna(subset=['Actors'])"
      ],
      "metadata": {
        "id": "gkBf6XQaOH_7"
      },
      "execution_count": null,
      "outputs": []
    },
    {
      "cell_type": "code",
      "source": [
        "series_act_list = df_series_act['Actors'].str.split(', ')\n",
        "s_act_list = {}\n",
        "for actors in series_act_list:\n",
        "    for actor in actors:\n",
        "        if (actor in s_act_list):\n",
        "            s_act_list[actor]+=1\n",
        "        else:\n",
        "            s_act_list[actor]=1\n",
        "s_act_df = pd.DataFrame(s_act_list.values(),index = s_act_list.keys(),\n",
        "                        columns = ['Actor Counts'])\n",
        "s_act_df.sort_values(by = 'Actor Counts',ascending = False,inplace = True)\n",
        "top_10_s_act = s_act_df[0:10]"
      ],
      "metadata": {
        "id": "RIORRpWNONRD"
      },
      "execution_count": null,
      "outputs": []
    },
    {
      "cell_type": "code",
      "source": [
        "fig = go.Figure(data=[go.Bar(\n",
        "    x = top_10_s_act.index,\n",
        "    y = top_10_s_act['Actor Counts'],\n",
        "    text = top_10_s_act['Actor Counts'],\n",
        "    textposition='auto',\n",
        "    marker_color=colors_10\n",
        ")])\n",
        "fig.update_traces(texttemplate='%{text:.2s}', textposition='outside')\n",
        "fig.update_layout(title_text= 'Which are the actors that have played more Tv Series?',\n",
        "                  uniformtext_minsize=8, uniformtext_mode='hide',\n",
        "                  yaxis=dict(\n",
        "                  title='N° of Tv Series he/she played',\n",
        "                  titlefont_size=14),\n",
        "                  xaxis=dict(\n",
        "                  title='Actors',\n",
        "                  titlefont_size=14))"
      ],
      "metadata": {
        "colab": {
          "base_uri": "https://localhost:8080/",
          "height": 542
        },
        "id": "A3DpVU9XOO6X",
        "outputId": "ba69ab2c-15f5-4705-f6af-7c0edf42f7c2"
      },
      "execution_count": null,
      "outputs": [
        {
          "output_type": "display_data",
          "data": {
            "text/html": [
              "<html>\n",
              "<head><meta charset=\"utf-8\" /></head>\n",
              "<body>\n",
              "    <div>            <script src=\"https://cdnjs.cloudflare.com/ajax/libs/mathjax/2.7.5/MathJax.js?config=TeX-AMS-MML_SVG\"></script><script type=\"text/javascript\">if (window.MathJax && window.MathJax.Hub && window.MathJax.Hub.Config) {window.MathJax.Hub.Config({SVG: {font: \"STIX-Web\"}});}</script>                <script type=\"text/javascript\">window.PlotlyConfig = {MathJaxConfig: 'local'};</script>\n",
              "        <script charset=\"utf-8\" src=\"https://cdn.plot.ly/plotly-2.35.2.min.js\"></script>                <div id=\"01166736-84ed-4768-93c6-55ae88f6a30a\" class=\"plotly-graph-div\" style=\"height:525px; width:100%;\"></div>            <script type=\"text/javascript\">                                    window.PLOTLYENV=window.PLOTLYENV || {};                                    if (document.getElementById(\"01166736-84ed-4768-93c6-55ae88f6a30a\")) {                    Plotly.newPlot(                        \"01166736-84ed-4768-93c6-55ae88f6a30a\",                        [{\"marker\":{\"color\":[\"DarkRed\",\"FireBrick\",\"Red\",\"Crimson\",\"IndianRed\",\"slategray\",\"gray\",\"dimgrey\",\"DarkSlateGrey\",\"black\"]},\"text\":[19.0,17.0,15.0,13.0,12.0,11.0,11.0,11.0,10.0,10.0],\"textposition\":\"outside\",\"x\":[\"Johnny Yong Bosch\",\"Kana Hanazawa\",\"Ai Kayano\",\"Ashleigh Ball\",\"Josh Grelle\",\"Saori Hayami\",\"Yoshimasa Hosoya\",\"Mamoru Miyano\",\"Jun Fukuyama\",\"Monica Rial\"],\"y\":[19,17,15,13,12,11,11,11,10,10],\"type\":\"bar\",\"texttemplate\":\"%{text:.2s}\"}],                        {\"template\":{\"data\":{\"histogram2dcontour\":[{\"type\":\"histogram2dcontour\",\"colorbar\":{\"outlinewidth\":0,\"ticks\":\"\"},\"colorscale\":[[0.0,\"#0d0887\"],[0.1111111111111111,\"#46039f\"],[0.2222222222222222,\"#7201a8\"],[0.3333333333333333,\"#9c179e\"],[0.4444444444444444,\"#bd3786\"],[0.5555555555555556,\"#d8576b\"],[0.6666666666666666,\"#ed7953\"],[0.7777777777777778,\"#fb9f3a\"],[0.8888888888888888,\"#fdca26\"],[1.0,\"#f0f921\"]]}],\"choropleth\":[{\"type\":\"choropleth\",\"colorbar\":{\"outlinewidth\":0,\"ticks\":\"\"}}],\"histogram2d\":[{\"type\":\"histogram2d\",\"colorbar\":{\"outlinewidth\":0,\"ticks\":\"\"},\"colorscale\":[[0.0,\"#0d0887\"],[0.1111111111111111,\"#46039f\"],[0.2222222222222222,\"#7201a8\"],[0.3333333333333333,\"#9c179e\"],[0.4444444444444444,\"#bd3786\"],[0.5555555555555556,\"#d8576b\"],[0.6666666666666666,\"#ed7953\"],[0.7777777777777778,\"#fb9f3a\"],[0.8888888888888888,\"#fdca26\"],[1.0,\"#f0f921\"]]}],\"heatmap\":[{\"type\":\"heatmap\",\"colorbar\":{\"outlinewidth\":0,\"ticks\":\"\"},\"colorscale\":[[0.0,\"#0d0887\"],[0.1111111111111111,\"#46039f\"],[0.2222222222222222,\"#7201a8\"],[0.3333333333333333,\"#9c179e\"],[0.4444444444444444,\"#bd3786\"],[0.5555555555555556,\"#d8576b\"],[0.6666666666666666,\"#ed7953\"],[0.7777777777777778,\"#fb9f3a\"],[0.8888888888888888,\"#fdca26\"],[1.0,\"#f0f921\"]]}],\"heatmapgl\":[{\"type\":\"heatmapgl\",\"colorbar\":{\"outlinewidth\":0,\"ticks\":\"\"},\"colorscale\":[[0.0,\"#0d0887\"],[0.1111111111111111,\"#46039f\"],[0.2222222222222222,\"#7201a8\"],[0.3333333333333333,\"#9c179e\"],[0.4444444444444444,\"#bd3786\"],[0.5555555555555556,\"#d8576b\"],[0.6666666666666666,\"#ed7953\"],[0.7777777777777778,\"#fb9f3a\"],[0.8888888888888888,\"#fdca26\"],[1.0,\"#f0f921\"]]}],\"contourcarpet\":[{\"type\":\"contourcarpet\",\"colorbar\":{\"outlinewidth\":0,\"ticks\":\"\"}}],\"contour\":[{\"type\":\"contour\",\"colorbar\":{\"outlinewidth\":0,\"ticks\":\"\"},\"colorscale\":[[0.0,\"#0d0887\"],[0.1111111111111111,\"#46039f\"],[0.2222222222222222,\"#7201a8\"],[0.3333333333333333,\"#9c179e\"],[0.4444444444444444,\"#bd3786\"],[0.5555555555555556,\"#d8576b\"],[0.6666666666666666,\"#ed7953\"],[0.7777777777777778,\"#fb9f3a\"],[0.8888888888888888,\"#fdca26\"],[1.0,\"#f0f921\"]]}],\"surface\":[{\"type\":\"surface\",\"colorbar\":{\"outlinewidth\":0,\"ticks\":\"\"},\"colorscale\":[[0.0,\"#0d0887\"],[0.1111111111111111,\"#46039f\"],[0.2222222222222222,\"#7201a8\"],[0.3333333333333333,\"#9c179e\"],[0.4444444444444444,\"#bd3786\"],[0.5555555555555556,\"#d8576b\"],[0.6666666666666666,\"#ed7953\"],[0.7777777777777778,\"#fb9f3a\"],[0.8888888888888888,\"#fdca26\"],[1.0,\"#f0f921\"]]}],\"mesh3d\":[{\"type\":\"mesh3d\",\"colorbar\":{\"outlinewidth\":0,\"ticks\":\"\"}}],\"scatter\":[{\"fillpattern\":{\"fillmode\":\"overlay\",\"size\":10,\"solidity\":0.2},\"type\":\"scatter\"}],\"parcoords\":[{\"type\":\"parcoords\",\"line\":{\"colorbar\":{\"outlinewidth\":0,\"ticks\":\"\"}}}],\"scatterpolargl\":[{\"type\":\"scatterpolargl\",\"marker\":{\"colorbar\":{\"outlinewidth\":0,\"ticks\":\"\"}}}],\"bar\":[{\"error_x\":{\"color\":\"#2a3f5f\"},\"error_y\":{\"color\":\"#2a3f5f\"},\"marker\":{\"line\":{\"color\":\"#E5ECF6\",\"width\":0.5},\"pattern\":{\"fillmode\":\"overlay\",\"size\":10,\"solidity\":0.2}},\"type\":\"bar\"}],\"scattergeo\":[{\"type\":\"scattergeo\",\"marker\":{\"colorbar\":{\"outlinewidth\":0,\"ticks\":\"\"}}}],\"scatterpolar\":[{\"type\":\"scatterpolar\",\"marker\":{\"colorbar\":{\"outlinewidth\":0,\"ticks\":\"\"}}}],\"histogram\":[{\"marker\":{\"pattern\":{\"fillmode\":\"overlay\",\"size\":10,\"solidity\":0.2}},\"type\":\"histogram\"}],\"scattergl\":[{\"type\":\"scattergl\",\"marker\":{\"colorbar\":{\"outlinewidth\":0,\"ticks\":\"\"}}}],\"scatter3d\":[{\"type\":\"scatter3d\",\"line\":{\"colorbar\":{\"outlinewidth\":0,\"ticks\":\"\"}},\"marker\":{\"colorbar\":{\"outlinewidth\":0,\"ticks\":\"\"}}}],\"scattermapbox\":[{\"type\":\"scattermapbox\",\"marker\":{\"colorbar\":{\"outlinewidth\":0,\"ticks\":\"\"}}}],\"scatterternary\":[{\"type\":\"scatterternary\",\"marker\":{\"colorbar\":{\"outlinewidth\":0,\"ticks\":\"\"}}}],\"scattercarpet\":[{\"type\":\"scattercarpet\",\"marker\":{\"colorbar\":{\"outlinewidth\":0,\"ticks\":\"\"}}}],\"carpet\":[{\"aaxis\":{\"endlinecolor\":\"#2a3f5f\",\"gridcolor\":\"white\",\"linecolor\":\"white\",\"minorgridcolor\":\"white\",\"startlinecolor\":\"#2a3f5f\"},\"baxis\":{\"endlinecolor\":\"#2a3f5f\",\"gridcolor\":\"white\",\"linecolor\":\"white\",\"minorgridcolor\":\"white\",\"startlinecolor\":\"#2a3f5f\"},\"type\":\"carpet\"}],\"table\":[{\"cells\":{\"fill\":{\"color\":\"#EBF0F8\"},\"line\":{\"color\":\"white\"}},\"header\":{\"fill\":{\"color\":\"#C8D4E3\"},\"line\":{\"color\":\"white\"}},\"type\":\"table\"}],\"barpolar\":[{\"marker\":{\"line\":{\"color\":\"#E5ECF6\",\"width\":0.5},\"pattern\":{\"fillmode\":\"overlay\",\"size\":10,\"solidity\":0.2}},\"type\":\"barpolar\"}],\"pie\":[{\"automargin\":true,\"type\":\"pie\"}]},\"layout\":{\"autotypenumbers\":\"strict\",\"colorway\":[\"#636efa\",\"#EF553B\",\"#00cc96\",\"#ab63fa\",\"#FFA15A\",\"#19d3f3\",\"#FF6692\",\"#B6E880\",\"#FF97FF\",\"#FECB52\"],\"font\":{\"color\":\"#2a3f5f\"},\"hovermode\":\"closest\",\"hoverlabel\":{\"align\":\"left\"},\"paper_bgcolor\":\"white\",\"plot_bgcolor\":\"#E5ECF6\",\"polar\":{\"bgcolor\":\"#E5ECF6\",\"angularaxis\":{\"gridcolor\":\"white\",\"linecolor\":\"white\",\"ticks\":\"\"},\"radialaxis\":{\"gridcolor\":\"white\",\"linecolor\":\"white\",\"ticks\":\"\"}},\"ternary\":{\"bgcolor\":\"#E5ECF6\",\"aaxis\":{\"gridcolor\":\"white\",\"linecolor\":\"white\",\"ticks\":\"\"},\"baxis\":{\"gridcolor\":\"white\",\"linecolor\":\"white\",\"ticks\":\"\"},\"caxis\":{\"gridcolor\":\"white\",\"linecolor\":\"white\",\"ticks\":\"\"}},\"coloraxis\":{\"colorbar\":{\"outlinewidth\":0,\"ticks\":\"\"}},\"colorscale\":{\"sequential\":[[0.0,\"#0d0887\"],[0.1111111111111111,\"#46039f\"],[0.2222222222222222,\"#7201a8\"],[0.3333333333333333,\"#9c179e\"],[0.4444444444444444,\"#bd3786\"],[0.5555555555555556,\"#d8576b\"],[0.6666666666666666,\"#ed7953\"],[0.7777777777777778,\"#fb9f3a\"],[0.8888888888888888,\"#fdca26\"],[1.0,\"#f0f921\"]],\"sequentialminus\":[[0.0,\"#0d0887\"],[0.1111111111111111,\"#46039f\"],[0.2222222222222222,\"#7201a8\"],[0.3333333333333333,\"#9c179e\"],[0.4444444444444444,\"#bd3786\"],[0.5555555555555556,\"#d8576b\"],[0.6666666666666666,\"#ed7953\"],[0.7777777777777778,\"#fb9f3a\"],[0.8888888888888888,\"#fdca26\"],[1.0,\"#f0f921\"]],\"diverging\":[[0,\"#8e0152\"],[0.1,\"#c51b7d\"],[0.2,\"#de77ae\"],[0.3,\"#f1b6da\"],[0.4,\"#fde0ef\"],[0.5,\"#f7f7f7\"],[0.6,\"#e6f5d0\"],[0.7,\"#b8e186\"],[0.8,\"#7fbc41\"],[0.9,\"#4d9221\"],[1,\"#276419\"]]},\"xaxis\":{\"gridcolor\":\"white\",\"linecolor\":\"white\",\"ticks\":\"\",\"title\":{\"standoff\":15},\"zerolinecolor\":\"white\",\"automargin\":true,\"zerolinewidth\":2},\"yaxis\":{\"gridcolor\":\"white\",\"linecolor\":\"white\",\"ticks\":\"\",\"title\":{\"standoff\":15},\"zerolinecolor\":\"white\",\"automargin\":true,\"zerolinewidth\":2},\"scene\":{\"xaxis\":{\"backgroundcolor\":\"#E5ECF6\",\"gridcolor\":\"white\",\"linecolor\":\"white\",\"showbackground\":true,\"ticks\":\"\",\"zerolinecolor\":\"white\",\"gridwidth\":2},\"yaxis\":{\"backgroundcolor\":\"#E5ECF6\",\"gridcolor\":\"white\",\"linecolor\":\"white\",\"showbackground\":true,\"ticks\":\"\",\"zerolinecolor\":\"white\",\"gridwidth\":2},\"zaxis\":{\"backgroundcolor\":\"#E5ECF6\",\"gridcolor\":\"white\",\"linecolor\":\"white\",\"showbackground\":true,\"ticks\":\"\",\"zerolinecolor\":\"white\",\"gridwidth\":2}},\"shapedefaults\":{\"line\":{\"color\":\"#2a3f5f\"}},\"annotationdefaults\":{\"arrowcolor\":\"#2a3f5f\",\"arrowhead\":0,\"arrowwidth\":1},\"geo\":{\"bgcolor\":\"white\",\"landcolor\":\"#E5ECF6\",\"subunitcolor\":\"white\",\"showland\":true,\"showlakes\":true,\"lakecolor\":\"white\"},\"title\":{\"x\":0.05},\"mapbox\":{\"style\":\"light\"}}},\"title\":{\"text\":\"Which are the actors that have played more Tv Series?\"},\"uniformtext\":{\"minsize\":8,\"mode\":\"hide\"},\"yaxis\":{\"title\":{\"text\":\"N° of Tv Series he\\u002fshe played\",\"font\":{\"size\":14}}},\"xaxis\":{\"title\":{\"text\":\"Actors\",\"font\":{\"size\":14}}}},                        {\"responsive\": true}                    ).then(function(){\n",
              "                            \n",
              "var gd = document.getElementById('01166736-84ed-4768-93c6-55ae88f6a30a');\n",
              "var x = new MutationObserver(function (mutations, observer) {{\n",
              "        var display = window.getComputedStyle(gd).display;\n",
              "        if (!display || display === 'none') {{\n",
              "            console.log([gd, 'removed!']);\n",
              "            Plotly.purge(gd);\n",
              "            observer.disconnect();\n",
              "        }}\n",
              "}});\n",
              "\n",
              "// Listen for the removal of the full notebook cells\n",
              "var notebookContainer = gd.closest('#notebook-container');\n",
              "if (notebookContainer) {{\n",
              "    x.observe(notebookContainer, {childList: true});\n",
              "}}\n",
              "\n",
              "// Listen for the clearing of the current output cell\n",
              "var outputEl = gd.closest('.output');\n",
              "if (outputEl) {{\n",
              "    x.observe(outputEl, {childList: true});\n",
              "}}\n",
              "\n",
              "                        })                };                            </script>        </div>\n",
              "</body>\n",
              "</html>"
            ]
          },
          "metadata": {}
        }
      ]
    },
    {
      "cell_type": "markdown",
      "source": [
        "### In the Movies"
      ],
      "metadata": {
        "id": "OGYe9BeGOWLQ"
      }
    },
    {
      "cell_type": "code",
      "source": [
        "df_movie_act = df_movie.dropna(subset=['Actors'])"
      ],
      "metadata": {
        "id": "N4XHQVrxOQyT"
      },
      "execution_count": null,
      "outputs": []
    },
    {
      "cell_type": "code",
      "source": [
        "movie_act_list = df_movie_act['Actors'].str.split(', ')\n",
        "m_act_list = {}\n",
        "for actors in movie_act_list:\n",
        "    for actor in actors:\n",
        "        if (actor in m_act_list):\n",
        "            m_act_list[actor]+=1\n",
        "        else:\n",
        "            m_act_list[actor]=1\n",
        "m_act_df = pd.DataFrame(m_act_list.values(),index = m_act_list.keys(),\n",
        "                        columns = ['Actor Counts'])\n",
        "m_act_df.sort_values(by = 'Actor Counts',ascending = False,inplace = True)\n",
        "top_10_m_act = m_act_df[0:10]"
      ],
      "metadata": {
        "id": "8r1XK_HTOZXD"
      },
      "execution_count": null,
      "outputs": []
    },
    {
      "cell_type": "code",
      "source": [
        "fig = go.Figure(data=[go.Bar(\n",
        "    x = top_10_m_act.index,\n",
        "    y = top_10_m_act['Actor Counts'],\n",
        "    text = top_10_m_act['Actor Counts'],\n",
        "    textposition='auto',\n",
        "    marker_color=colors_10\n",
        ")])\n",
        "fig.update_traces(texttemplate='%{text:.2s}', textposition='outside')\n",
        "fig.update_layout(title_text= 'Which are the actors that have played more Movies?',\n",
        "                  uniformtext_minsize=8, uniformtext_mode='hide',\n",
        "                  yaxis=dict(\n",
        "                  title='N° of Movies he/she played',\n",
        "                  titlefont_size=14),\n",
        "                  xaxis=dict(\n",
        "                  title='Actors',\n",
        "                   titlefont_size=14))"
      ],
      "metadata": {
        "colab": {
          "base_uri": "https://localhost:8080/",
          "height": 542
        },
        "id": "tTJsIOHNOan9",
        "outputId": "f14764b4-c164-479c-b807-4316878c995a"
      },
      "execution_count": null,
      "outputs": [
        {
          "output_type": "display_data",
          "data": {
            "text/html": [
              "<html>\n",
              "<head><meta charset=\"utf-8\" /></head>\n",
              "<body>\n",
              "    <div>            <script src=\"https://cdnjs.cloudflare.com/ajax/libs/mathjax/2.7.5/MathJax.js?config=TeX-AMS-MML_SVG\"></script><script type=\"text/javascript\">if (window.MathJax && window.MathJax.Hub && window.MathJax.Hub.Config) {window.MathJax.Hub.Config({SVG: {font: \"STIX-Web\"}});}</script>                <script type=\"text/javascript\">window.PlotlyConfig = {MathJaxConfig: 'local'};</script>\n",
              "        <script charset=\"utf-8\" src=\"https://cdn.plot.ly/plotly-2.35.2.min.js\"></script>                <div id=\"4b7949a7-2e84-488d-9c68-ba1619008722\" class=\"plotly-graph-div\" style=\"height:525px; width:100%;\"></div>            <script type=\"text/javascript\">                                    window.PLOTLYENV=window.PLOTLYENV || {};                                    if (document.getElementById(\"4b7949a7-2e84-488d-9c68-ba1619008722\")) {                    Plotly.newPlot(                        \"4b7949a7-2e84-488d-9c68-ba1619008722\",                        [{\"marker\":{\"color\":[\"DarkRed\",\"FireBrick\",\"Red\",\"Crimson\",\"IndianRed\",\"slategray\",\"gray\",\"dimgrey\",\"DarkSlateGrey\",\"black\"]},\"text\":[38.0,38.0,36.0,34.0,33.0,33.0,33.0,32.0,29.0,29.0],\"textposition\":\"outside\",\"x\":[\"Bruce Willis\",\"Jackie Chan\",\"Nicolas Cage\",\"Robert De Niro\",\"Liam Neeson\",\"Adam Sandler\",\"Shah Rukh Khan\",\"Mark Wahlberg\",\"Samuel L. Jackson\",\"Stephen Chow\"],\"y\":[38,38,36,34,33,33,33,32,29,29],\"type\":\"bar\",\"texttemplate\":\"%{text:.2s}\"}],                        {\"template\":{\"data\":{\"histogram2dcontour\":[{\"type\":\"histogram2dcontour\",\"colorbar\":{\"outlinewidth\":0,\"ticks\":\"\"},\"colorscale\":[[0.0,\"#0d0887\"],[0.1111111111111111,\"#46039f\"],[0.2222222222222222,\"#7201a8\"],[0.3333333333333333,\"#9c179e\"],[0.4444444444444444,\"#bd3786\"],[0.5555555555555556,\"#d8576b\"],[0.6666666666666666,\"#ed7953\"],[0.7777777777777778,\"#fb9f3a\"],[0.8888888888888888,\"#fdca26\"],[1.0,\"#f0f921\"]]}],\"choropleth\":[{\"type\":\"choropleth\",\"colorbar\":{\"outlinewidth\":0,\"ticks\":\"\"}}],\"histogram2d\":[{\"type\":\"histogram2d\",\"colorbar\":{\"outlinewidth\":0,\"ticks\":\"\"},\"colorscale\":[[0.0,\"#0d0887\"],[0.1111111111111111,\"#46039f\"],[0.2222222222222222,\"#7201a8\"],[0.3333333333333333,\"#9c179e\"],[0.4444444444444444,\"#bd3786\"],[0.5555555555555556,\"#d8576b\"],[0.6666666666666666,\"#ed7953\"],[0.7777777777777778,\"#fb9f3a\"],[0.8888888888888888,\"#fdca26\"],[1.0,\"#f0f921\"]]}],\"heatmap\":[{\"type\":\"heatmap\",\"colorbar\":{\"outlinewidth\":0,\"ticks\":\"\"},\"colorscale\":[[0.0,\"#0d0887\"],[0.1111111111111111,\"#46039f\"],[0.2222222222222222,\"#7201a8\"],[0.3333333333333333,\"#9c179e\"],[0.4444444444444444,\"#bd3786\"],[0.5555555555555556,\"#d8576b\"],[0.6666666666666666,\"#ed7953\"],[0.7777777777777778,\"#fb9f3a\"],[0.8888888888888888,\"#fdca26\"],[1.0,\"#f0f921\"]]}],\"heatmapgl\":[{\"type\":\"heatmapgl\",\"colorbar\":{\"outlinewidth\":0,\"ticks\":\"\"},\"colorscale\":[[0.0,\"#0d0887\"],[0.1111111111111111,\"#46039f\"],[0.2222222222222222,\"#7201a8\"],[0.3333333333333333,\"#9c179e\"],[0.4444444444444444,\"#bd3786\"],[0.5555555555555556,\"#d8576b\"],[0.6666666666666666,\"#ed7953\"],[0.7777777777777778,\"#fb9f3a\"],[0.8888888888888888,\"#fdca26\"],[1.0,\"#f0f921\"]]}],\"contourcarpet\":[{\"type\":\"contourcarpet\",\"colorbar\":{\"outlinewidth\":0,\"ticks\":\"\"}}],\"contour\":[{\"type\":\"contour\",\"colorbar\":{\"outlinewidth\":0,\"ticks\":\"\"},\"colorscale\":[[0.0,\"#0d0887\"],[0.1111111111111111,\"#46039f\"],[0.2222222222222222,\"#7201a8\"],[0.3333333333333333,\"#9c179e\"],[0.4444444444444444,\"#bd3786\"],[0.5555555555555556,\"#d8576b\"],[0.6666666666666666,\"#ed7953\"],[0.7777777777777778,\"#fb9f3a\"],[0.8888888888888888,\"#fdca26\"],[1.0,\"#f0f921\"]]}],\"surface\":[{\"type\":\"surface\",\"colorbar\":{\"outlinewidth\":0,\"ticks\":\"\"},\"colorscale\":[[0.0,\"#0d0887\"],[0.1111111111111111,\"#46039f\"],[0.2222222222222222,\"#7201a8\"],[0.3333333333333333,\"#9c179e\"],[0.4444444444444444,\"#bd3786\"],[0.5555555555555556,\"#d8576b\"],[0.6666666666666666,\"#ed7953\"],[0.7777777777777778,\"#fb9f3a\"],[0.8888888888888888,\"#fdca26\"],[1.0,\"#f0f921\"]]}],\"mesh3d\":[{\"type\":\"mesh3d\",\"colorbar\":{\"outlinewidth\":0,\"ticks\":\"\"}}],\"scatter\":[{\"fillpattern\":{\"fillmode\":\"overlay\",\"size\":10,\"solidity\":0.2},\"type\":\"scatter\"}],\"parcoords\":[{\"type\":\"parcoords\",\"line\":{\"colorbar\":{\"outlinewidth\":0,\"ticks\":\"\"}}}],\"scatterpolargl\":[{\"type\":\"scatterpolargl\",\"marker\":{\"colorbar\":{\"outlinewidth\":0,\"ticks\":\"\"}}}],\"bar\":[{\"error_x\":{\"color\":\"#2a3f5f\"},\"error_y\":{\"color\":\"#2a3f5f\"},\"marker\":{\"line\":{\"color\":\"#E5ECF6\",\"width\":0.5},\"pattern\":{\"fillmode\":\"overlay\",\"size\":10,\"solidity\":0.2}},\"type\":\"bar\"}],\"scattergeo\":[{\"type\":\"scattergeo\",\"marker\":{\"colorbar\":{\"outlinewidth\":0,\"ticks\":\"\"}}}],\"scatterpolar\":[{\"type\":\"scatterpolar\",\"marker\":{\"colorbar\":{\"outlinewidth\":0,\"ticks\":\"\"}}}],\"histogram\":[{\"marker\":{\"pattern\":{\"fillmode\":\"overlay\",\"size\":10,\"solidity\":0.2}},\"type\":\"histogram\"}],\"scattergl\":[{\"type\":\"scattergl\",\"marker\":{\"colorbar\":{\"outlinewidth\":0,\"ticks\":\"\"}}}],\"scatter3d\":[{\"type\":\"scatter3d\",\"line\":{\"colorbar\":{\"outlinewidth\":0,\"ticks\":\"\"}},\"marker\":{\"colorbar\":{\"outlinewidth\":0,\"ticks\":\"\"}}}],\"scattermapbox\":[{\"type\":\"scattermapbox\",\"marker\":{\"colorbar\":{\"outlinewidth\":0,\"ticks\":\"\"}}}],\"scatterternary\":[{\"type\":\"scatterternary\",\"marker\":{\"colorbar\":{\"outlinewidth\":0,\"ticks\":\"\"}}}],\"scattercarpet\":[{\"type\":\"scattercarpet\",\"marker\":{\"colorbar\":{\"outlinewidth\":0,\"ticks\":\"\"}}}],\"carpet\":[{\"aaxis\":{\"endlinecolor\":\"#2a3f5f\",\"gridcolor\":\"white\",\"linecolor\":\"white\",\"minorgridcolor\":\"white\",\"startlinecolor\":\"#2a3f5f\"},\"baxis\":{\"endlinecolor\":\"#2a3f5f\",\"gridcolor\":\"white\",\"linecolor\":\"white\",\"minorgridcolor\":\"white\",\"startlinecolor\":\"#2a3f5f\"},\"type\":\"carpet\"}],\"table\":[{\"cells\":{\"fill\":{\"color\":\"#EBF0F8\"},\"line\":{\"color\":\"white\"}},\"header\":{\"fill\":{\"color\":\"#C8D4E3\"},\"line\":{\"color\":\"white\"}},\"type\":\"table\"}],\"barpolar\":[{\"marker\":{\"line\":{\"color\":\"#E5ECF6\",\"width\":0.5},\"pattern\":{\"fillmode\":\"overlay\",\"size\":10,\"solidity\":0.2}},\"type\":\"barpolar\"}],\"pie\":[{\"automargin\":true,\"type\":\"pie\"}]},\"layout\":{\"autotypenumbers\":\"strict\",\"colorway\":[\"#636efa\",\"#EF553B\",\"#00cc96\",\"#ab63fa\",\"#FFA15A\",\"#19d3f3\",\"#FF6692\",\"#B6E880\",\"#FF97FF\",\"#FECB52\"],\"font\":{\"color\":\"#2a3f5f\"},\"hovermode\":\"closest\",\"hoverlabel\":{\"align\":\"left\"},\"paper_bgcolor\":\"white\",\"plot_bgcolor\":\"#E5ECF6\",\"polar\":{\"bgcolor\":\"#E5ECF6\",\"angularaxis\":{\"gridcolor\":\"white\",\"linecolor\":\"white\",\"ticks\":\"\"},\"radialaxis\":{\"gridcolor\":\"white\",\"linecolor\":\"white\",\"ticks\":\"\"}},\"ternary\":{\"bgcolor\":\"#E5ECF6\",\"aaxis\":{\"gridcolor\":\"white\",\"linecolor\":\"white\",\"ticks\":\"\"},\"baxis\":{\"gridcolor\":\"white\",\"linecolor\":\"white\",\"ticks\":\"\"},\"caxis\":{\"gridcolor\":\"white\",\"linecolor\":\"white\",\"ticks\":\"\"}},\"coloraxis\":{\"colorbar\":{\"outlinewidth\":0,\"ticks\":\"\"}},\"colorscale\":{\"sequential\":[[0.0,\"#0d0887\"],[0.1111111111111111,\"#46039f\"],[0.2222222222222222,\"#7201a8\"],[0.3333333333333333,\"#9c179e\"],[0.4444444444444444,\"#bd3786\"],[0.5555555555555556,\"#d8576b\"],[0.6666666666666666,\"#ed7953\"],[0.7777777777777778,\"#fb9f3a\"],[0.8888888888888888,\"#fdca26\"],[1.0,\"#f0f921\"]],\"sequentialminus\":[[0.0,\"#0d0887\"],[0.1111111111111111,\"#46039f\"],[0.2222222222222222,\"#7201a8\"],[0.3333333333333333,\"#9c179e\"],[0.4444444444444444,\"#bd3786\"],[0.5555555555555556,\"#d8576b\"],[0.6666666666666666,\"#ed7953\"],[0.7777777777777778,\"#fb9f3a\"],[0.8888888888888888,\"#fdca26\"],[1.0,\"#f0f921\"]],\"diverging\":[[0,\"#8e0152\"],[0.1,\"#c51b7d\"],[0.2,\"#de77ae\"],[0.3,\"#f1b6da\"],[0.4,\"#fde0ef\"],[0.5,\"#f7f7f7\"],[0.6,\"#e6f5d0\"],[0.7,\"#b8e186\"],[0.8,\"#7fbc41\"],[0.9,\"#4d9221\"],[1,\"#276419\"]]},\"xaxis\":{\"gridcolor\":\"white\",\"linecolor\":\"white\",\"ticks\":\"\",\"title\":{\"standoff\":15},\"zerolinecolor\":\"white\",\"automargin\":true,\"zerolinewidth\":2},\"yaxis\":{\"gridcolor\":\"white\",\"linecolor\":\"white\",\"ticks\":\"\",\"title\":{\"standoff\":15},\"zerolinecolor\":\"white\",\"automargin\":true,\"zerolinewidth\":2},\"scene\":{\"xaxis\":{\"backgroundcolor\":\"#E5ECF6\",\"gridcolor\":\"white\",\"linecolor\":\"white\",\"showbackground\":true,\"ticks\":\"\",\"zerolinecolor\":\"white\",\"gridwidth\":2},\"yaxis\":{\"backgroundcolor\":\"#E5ECF6\",\"gridcolor\":\"white\",\"linecolor\":\"white\",\"showbackground\":true,\"ticks\":\"\",\"zerolinecolor\":\"white\",\"gridwidth\":2},\"zaxis\":{\"backgroundcolor\":\"#E5ECF6\",\"gridcolor\":\"white\",\"linecolor\":\"white\",\"showbackground\":true,\"ticks\":\"\",\"zerolinecolor\":\"white\",\"gridwidth\":2}},\"shapedefaults\":{\"line\":{\"color\":\"#2a3f5f\"}},\"annotationdefaults\":{\"arrowcolor\":\"#2a3f5f\",\"arrowhead\":0,\"arrowwidth\":1},\"geo\":{\"bgcolor\":\"white\",\"landcolor\":\"#E5ECF6\",\"subunitcolor\":\"white\",\"showland\":true,\"showlakes\":true,\"lakecolor\":\"white\"},\"title\":{\"x\":0.05},\"mapbox\":{\"style\":\"light\"}}},\"title\":{\"text\":\"Which are the actors that have played more Movies?\"},\"uniformtext\":{\"minsize\":8,\"mode\":\"hide\"},\"yaxis\":{\"title\":{\"text\":\"N° of Movies he\\u002fshe played\",\"font\":{\"size\":14}}},\"xaxis\":{\"title\":{\"text\":\"Actors\",\"font\":{\"size\":14}}}},                        {\"responsive\": true}                    ).then(function(){\n",
              "                            \n",
              "var gd = document.getElementById('4b7949a7-2e84-488d-9c68-ba1619008722');\n",
              "var x = new MutationObserver(function (mutations, observer) {{\n",
              "        var display = window.getComputedStyle(gd).display;\n",
              "        if (!display || display === 'none') {{\n",
              "            console.log([gd, 'removed!']);\n",
              "            Plotly.purge(gd);\n",
              "            observer.disconnect();\n",
              "        }}\n",
              "}});\n",
              "\n",
              "// Listen for the removal of the full notebook cells\n",
              "var notebookContainer = gd.closest('#notebook-container');\n",
              "if (notebookContainer) {{\n",
              "    x.observe(notebookContainer, {childList: true});\n",
              "}}\n",
              "\n",
              "// Listen for the clearing of the current output cell\n",
              "var outputEl = gd.closest('.output');\n",
              "if (outputEl) {{\n",
              "    x.observe(outputEl, {childList: true});\n",
              "}}\n",
              "\n",
              "                        })                };                            </script>        </div>\n",
              "</body>\n",
              "</html>"
            ]
          },
          "metadata": {}
        }
      ]
    },
    {
      "cell_type": "markdown",
      "source": [
        "# Rating by IMDb"
      ],
      "metadata": {
        "id": "JyqyswZrRKEW"
      }
    },
    {
      "cell_type": "markdown",
      "source": [
        "## In the Series"
      ],
      "metadata": {
        "id": "eLsxM22IRVbs"
      }
    },
    {
      "cell_type": "code",
      "source": [
        "df_series_imdb = df_series.dropna(subset=['IMDb Score'])\n",
        "df_series_imdb = df_series_imdb.sort_values(by = 'IMDb Score', ascending = False)\n",
        "top_s_imdb_10_list = df_series_imdb[:10]"
      ],
      "metadata": {
        "id": "7mXdvFbiOcff"
      },
      "execution_count": null,
      "outputs": []
    },
    {
      "cell_type": "code",
      "source": [
        "fig = go.Figure(data=[go.Bar(\n",
        "    x = top_s_imdb_10_list['Title'],\n",
        "    y = top_s_imdb_10_list['IMDb Score'],\n",
        "    text = top_s_imdb_10_list['IMDb Score'],\n",
        "    textposition='auto',\n",
        "    marker_color=colors_10\n",
        ")])\n",
        "fig.update_traces(texttemplate='%{text:.2s}', textposition='outside')\n",
        "fig.update_layout(title_text= 'Which are the most rated Tv Series for IMDb?',\n",
        "                  uniformtext_minsize=8, uniformtext_mode='hide',\n",
        "                  yaxis=dict(\n",
        "                  title='IMDb Score',\n",
        "                  titlefont_size=14),\n",
        "                  xaxis=dict(\n",
        "                  title='Titles',\n",
        "                  titlefont_size=14))"
      ],
      "metadata": {
        "colab": {
          "base_uri": "https://localhost:8080/",
          "height": 542
        },
        "id": "SGRtVFfERaiS",
        "outputId": "3092d95b-62a5-4055-cf91-95e464077e01"
      },
      "execution_count": null,
      "outputs": [
        {
          "output_type": "display_data",
          "data": {
            "text/html": [
              "<html>\n",
              "<head><meta charset=\"utf-8\" /></head>\n",
              "<body>\n",
              "    <div>            <script src=\"https://cdnjs.cloudflare.com/ajax/libs/mathjax/2.7.5/MathJax.js?config=TeX-AMS-MML_SVG\"></script><script type=\"text/javascript\">if (window.MathJax && window.MathJax.Hub && window.MathJax.Hub.Config) {window.MathJax.Hub.Config({SVG: {font: \"STIX-Web\"}});}</script>                <script type=\"text/javascript\">window.PlotlyConfig = {MathJaxConfig: 'local'};</script>\n",
              "        <script charset=\"utf-8\" src=\"https://cdn.plot.ly/plotly-2.35.2.min.js\"></script>                <div id=\"649e0e6b-644b-4898-9685-1e122635aaa1\" class=\"plotly-graph-div\" style=\"height:525px; width:100%;\"></div>            <script type=\"text/javascript\">                                    window.PLOTLYENV=window.PLOTLYENV || {};                                    if (document.getElementById(\"649e0e6b-644b-4898-9685-1e122635aaa1\")) {                    Plotly.newPlot(                        \"649e0e6b-644b-4898-9685-1e122635aaa1\",                        [{\"marker\":{\"color\":[\"DarkRed\",\"FireBrick\",\"Red\",\"Crimson\",\"IndianRed\",\"slategray\",\"gray\",\"dimgrey\",\"DarkSlateGrey\",\"black\"]},\"text\":[9.5,9.5,9.3,9.2,9.2,9.2,9.2,9.1,9.1,9.1],\"textposition\":\"outside\",\"x\":[\"Flavours of Romania\",\"Breaking Bad\",\"Our Planet\",\"The Last Dance\",\"Rick and Morty\",\"Im Sorry\",\"Avatar: The Last Airbender\",\"Irmão do Jorel\",\"Regiment Diaries\",\"Sherlock\"],\"y\":[9.5,9.5,9.3,9.2,9.2,9.2,9.2,9.1,9.1,9.1],\"type\":\"bar\",\"texttemplate\":\"%{text:.2s}\"}],                        {\"template\":{\"data\":{\"histogram2dcontour\":[{\"type\":\"histogram2dcontour\",\"colorbar\":{\"outlinewidth\":0,\"ticks\":\"\"},\"colorscale\":[[0.0,\"#0d0887\"],[0.1111111111111111,\"#46039f\"],[0.2222222222222222,\"#7201a8\"],[0.3333333333333333,\"#9c179e\"],[0.4444444444444444,\"#bd3786\"],[0.5555555555555556,\"#d8576b\"],[0.6666666666666666,\"#ed7953\"],[0.7777777777777778,\"#fb9f3a\"],[0.8888888888888888,\"#fdca26\"],[1.0,\"#f0f921\"]]}],\"choropleth\":[{\"type\":\"choropleth\",\"colorbar\":{\"outlinewidth\":0,\"ticks\":\"\"}}],\"histogram2d\":[{\"type\":\"histogram2d\",\"colorbar\":{\"outlinewidth\":0,\"ticks\":\"\"},\"colorscale\":[[0.0,\"#0d0887\"],[0.1111111111111111,\"#46039f\"],[0.2222222222222222,\"#7201a8\"],[0.3333333333333333,\"#9c179e\"],[0.4444444444444444,\"#bd3786\"],[0.5555555555555556,\"#d8576b\"],[0.6666666666666666,\"#ed7953\"],[0.7777777777777778,\"#fb9f3a\"],[0.8888888888888888,\"#fdca26\"],[1.0,\"#f0f921\"]]}],\"heatmap\":[{\"type\":\"heatmap\",\"colorbar\":{\"outlinewidth\":0,\"ticks\":\"\"},\"colorscale\":[[0.0,\"#0d0887\"],[0.1111111111111111,\"#46039f\"],[0.2222222222222222,\"#7201a8\"],[0.3333333333333333,\"#9c179e\"],[0.4444444444444444,\"#bd3786\"],[0.5555555555555556,\"#d8576b\"],[0.6666666666666666,\"#ed7953\"],[0.7777777777777778,\"#fb9f3a\"],[0.8888888888888888,\"#fdca26\"],[1.0,\"#f0f921\"]]}],\"heatmapgl\":[{\"type\":\"heatmapgl\",\"colorbar\":{\"outlinewidth\":0,\"ticks\":\"\"},\"colorscale\":[[0.0,\"#0d0887\"],[0.1111111111111111,\"#46039f\"],[0.2222222222222222,\"#7201a8\"],[0.3333333333333333,\"#9c179e\"],[0.4444444444444444,\"#bd3786\"],[0.5555555555555556,\"#d8576b\"],[0.6666666666666666,\"#ed7953\"],[0.7777777777777778,\"#fb9f3a\"],[0.8888888888888888,\"#fdca26\"],[1.0,\"#f0f921\"]]}],\"contourcarpet\":[{\"type\":\"contourcarpet\",\"colorbar\":{\"outlinewidth\":0,\"ticks\":\"\"}}],\"contour\":[{\"type\":\"contour\",\"colorbar\":{\"outlinewidth\":0,\"ticks\":\"\"},\"colorscale\":[[0.0,\"#0d0887\"],[0.1111111111111111,\"#46039f\"],[0.2222222222222222,\"#7201a8\"],[0.3333333333333333,\"#9c179e\"],[0.4444444444444444,\"#bd3786\"],[0.5555555555555556,\"#d8576b\"],[0.6666666666666666,\"#ed7953\"],[0.7777777777777778,\"#fb9f3a\"],[0.8888888888888888,\"#fdca26\"],[1.0,\"#f0f921\"]]}],\"surface\":[{\"type\":\"surface\",\"colorbar\":{\"outlinewidth\":0,\"ticks\":\"\"},\"colorscale\":[[0.0,\"#0d0887\"],[0.1111111111111111,\"#46039f\"],[0.2222222222222222,\"#7201a8\"],[0.3333333333333333,\"#9c179e\"],[0.4444444444444444,\"#bd3786\"],[0.5555555555555556,\"#d8576b\"],[0.6666666666666666,\"#ed7953\"],[0.7777777777777778,\"#fb9f3a\"],[0.8888888888888888,\"#fdca26\"],[1.0,\"#f0f921\"]]}],\"mesh3d\":[{\"type\":\"mesh3d\",\"colorbar\":{\"outlinewidth\":0,\"ticks\":\"\"}}],\"scatter\":[{\"fillpattern\":{\"fillmode\":\"overlay\",\"size\":10,\"solidity\":0.2},\"type\":\"scatter\"}],\"parcoords\":[{\"type\":\"parcoords\",\"line\":{\"colorbar\":{\"outlinewidth\":0,\"ticks\":\"\"}}}],\"scatterpolargl\":[{\"type\":\"scatterpolargl\",\"marker\":{\"colorbar\":{\"outlinewidth\":0,\"ticks\":\"\"}}}],\"bar\":[{\"error_x\":{\"color\":\"#2a3f5f\"},\"error_y\":{\"color\":\"#2a3f5f\"},\"marker\":{\"line\":{\"color\":\"#E5ECF6\",\"width\":0.5},\"pattern\":{\"fillmode\":\"overlay\",\"size\":10,\"solidity\":0.2}},\"type\":\"bar\"}],\"scattergeo\":[{\"type\":\"scattergeo\",\"marker\":{\"colorbar\":{\"outlinewidth\":0,\"ticks\":\"\"}}}],\"scatterpolar\":[{\"type\":\"scatterpolar\",\"marker\":{\"colorbar\":{\"outlinewidth\":0,\"ticks\":\"\"}}}],\"histogram\":[{\"marker\":{\"pattern\":{\"fillmode\":\"overlay\",\"size\":10,\"solidity\":0.2}},\"type\":\"histogram\"}],\"scattergl\":[{\"type\":\"scattergl\",\"marker\":{\"colorbar\":{\"outlinewidth\":0,\"ticks\":\"\"}}}],\"scatter3d\":[{\"type\":\"scatter3d\",\"line\":{\"colorbar\":{\"outlinewidth\":0,\"ticks\":\"\"}},\"marker\":{\"colorbar\":{\"outlinewidth\":0,\"ticks\":\"\"}}}],\"scattermapbox\":[{\"type\":\"scattermapbox\",\"marker\":{\"colorbar\":{\"outlinewidth\":0,\"ticks\":\"\"}}}],\"scatterternary\":[{\"type\":\"scatterternary\",\"marker\":{\"colorbar\":{\"outlinewidth\":0,\"ticks\":\"\"}}}],\"scattercarpet\":[{\"type\":\"scattercarpet\",\"marker\":{\"colorbar\":{\"outlinewidth\":0,\"ticks\":\"\"}}}],\"carpet\":[{\"aaxis\":{\"endlinecolor\":\"#2a3f5f\",\"gridcolor\":\"white\",\"linecolor\":\"white\",\"minorgridcolor\":\"white\",\"startlinecolor\":\"#2a3f5f\"},\"baxis\":{\"endlinecolor\":\"#2a3f5f\",\"gridcolor\":\"white\",\"linecolor\":\"white\",\"minorgridcolor\":\"white\",\"startlinecolor\":\"#2a3f5f\"},\"type\":\"carpet\"}],\"table\":[{\"cells\":{\"fill\":{\"color\":\"#EBF0F8\"},\"line\":{\"color\":\"white\"}},\"header\":{\"fill\":{\"color\":\"#C8D4E3\"},\"line\":{\"color\":\"white\"}},\"type\":\"table\"}],\"barpolar\":[{\"marker\":{\"line\":{\"color\":\"#E5ECF6\",\"width\":0.5},\"pattern\":{\"fillmode\":\"overlay\",\"size\":10,\"solidity\":0.2}},\"type\":\"barpolar\"}],\"pie\":[{\"automargin\":true,\"type\":\"pie\"}]},\"layout\":{\"autotypenumbers\":\"strict\",\"colorway\":[\"#636efa\",\"#EF553B\",\"#00cc96\",\"#ab63fa\",\"#FFA15A\",\"#19d3f3\",\"#FF6692\",\"#B6E880\",\"#FF97FF\",\"#FECB52\"],\"font\":{\"color\":\"#2a3f5f\"},\"hovermode\":\"closest\",\"hoverlabel\":{\"align\":\"left\"},\"paper_bgcolor\":\"white\",\"plot_bgcolor\":\"#E5ECF6\",\"polar\":{\"bgcolor\":\"#E5ECF6\",\"angularaxis\":{\"gridcolor\":\"white\",\"linecolor\":\"white\",\"ticks\":\"\"},\"radialaxis\":{\"gridcolor\":\"white\",\"linecolor\":\"white\",\"ticks\":\"\"}},\"ternary\":{\"bgcolor\":\"#E5ECF6\",\"aaxis\":{\"gridcolor\":\"white\",\"linecolor\":\"white\",\"ticks\":\"\"},\"baxis\":{\"gridcolor\":\"white\",\"linecolor\":\"white\",\"ticks\":\"\"},\"caxis\":{\"gridcolor\":\"white\",\"linecolor\":\"white\",\"ticks\":\"\"}},\"coloraxis\":{\"colorbar\":{\"outlinewidth\":0,\"ticks\":\"\"}},\"colorscale\":{\"sequential\":[[0.0,\"#0d0887\"],[0.1111111111111111,\"#46039f\"],[0.2222222222222222,\"#7201a8\"],[0.3333333333333333,\"#9c179e\"],[0.4444444444444444,\"#bd3786\"],[0.5555555555555556,\"#d8576b\"],[0.6666666666666666,\"#ed7953\"],[0.7777777777777778,\"#fb9f3a\"],[0.8888888888888888,\"#fdca26\"],[1.0,\"#f0f921\"]],\"sequentialminus\":[[0.0,\"#0d0887\"],[0.1111111111111111,\"#46039f\"],[0.2222222222222222,\"#7201a8\"],[0.3333333333333333,\"#9c179e\"],[0.4444444444444444,\"#bd3786\"],[0.5555555555555556,\"#d8576b\"],[0.6666666666666666,\"#ed7953\"],[0.7777777777777778,\"#fb9f3a\"],[0.8888888888888888,\"#fdca26\"],[1.0,\"#f0f921\"]],\"diverging\":[[0,\"#8e0152\"],[0.1,\"#c51b7d\"],[0.2,\"#de77ae\"],[0.3,\"#f1b6da\"],[0.4,\"#fde0ef\"],[0.5,\"#f7f7f7\"],[0.6,\"#e6f5d0\"],[0.7,\"#b8e186\"],[0.8,\"#7fbc41\"],[0.9,\"#4d9221\"],[1,\"#276419\"]]},\"xaxis\":{\"gridcolor\":\"white\",\"linecolor\":\"white\",\"ticks\":\"\",\"title\":{\"standoff\":15},\"zerolinecolor\":\"white\",\"automargin\":true,\"zerolinewidth\":2},\"yaxis\":{\"gridcolor\":\"white\",\"linecolor\":\"white\",\"ticks\":\"\",\"title\":{\"standoff\":15},\"zerolinecolor\":\"white\",\"automargin\":true,\"zerolinewidth\":2},\"scene\":{\"xaxis\":{\"backgroundcolor\":\"#E5ECF6\",\"gridcolor\":\"white\",\"linecolor\":\"white\",\"showbackground\":true,\"ticks\":\"\",\"zerolinecolor\":\"white\",\"gridwidth\":2},\"yaxis\":{\"backgroundcolor\":\"#E5ECF6\",\"gridcolor\":\"white\",\"linecolor\":\"white\",\"showbackground\":true,\"ticks\":\"\",\"zerolinecolor\":\"white\",\"gridwidth\":2},\"zaxis\":{\"backgroundcolor\":\"#E5ECF6\",\"gridcolor\":\"white\",\"linecolor\":\"white\",\"showbackground\":true,\"ticks\":\"\",\"zerolinecolor\":\"white\",\"gridwidth\":2}},\"shapedefaults\":{\"line\":{\"color\":\"#2a3f5f\"}},\"annotationdefaults\":{\"arrowcolor\":\"#2a3f5f\",\"arrowhead\":0,\"arrowwidth\":1},\"geo\":{\"bgcolor\":\"white\",\"landcolor\":\"#E5ECF6\",\"subunitcolor\":\"white\",\"showland\":true,\"showlakes\":true,\"lakecolor\":\"white\"},\"title\":{\"x\":0.05},\"mapbox\":{\"style\":\"light\"}}},\"title\":{\"text\":\"Which are the most rated Tv Series for IMDb?\"},\"uniformtext\":{\"minsize\":8,\"mode\":\"hide\"},\"yaxis\":{\"title\":{\"text\":\"IMDb Score\",\"font\":{\"size\":14}}},\"xaxis\":{\"title\":{\"text\":\"Titles\",\"font\":{\"size\":14}}}},                        {\"responsive\": true}                    ).then(function(){\n",
              "                            \n",
              "var gd = document.getElementById('649e0e6b-644b-4898-9685-1e122635aaa1');\n",
              "var x = new MutationObserver(function (mutations, observer) {{\n",
              "        var display = window.getComputedStyle(gd).display;\n",
              "        if (!display || display === 'none') {{\n",
              "            console.log([gd, 'removed!']);\n",
              "            Plotly.purge(gd);\n",
              "            observer.disconnect();\n",
              "        }}\n",
              "}});\n",
              "\n",
              "// Listen for the removal of the full notebook cells\n",
              "var notebookContainer = gd.closest('#notebook-container');\n",
              "if (notebookContainer) {{\n",
              "    x.observe(notebookContainer, {childList: true});\n",
              "}}\n",
              "\n",
              "// Listen for the clearing of the current output cell\n",
              "var outputEl = gd.closest('.output');\n",
              "if (outputEl) {{\n",
              "    x.observe(outputEl, {childList: true});\n",
              "}}\n",
              "\n",
              "                        })                };                            </script>        </div>\n",
              "</body>\n",
              "</html>"
            ]
          },
          "metadata": {}
        }
      ]
    },
    {
      "cell_type": "markdown",
      "source": [
        "## In the Movies"
      ],
      "metadata": {
        "id": "S7pWPbTWRhDJ"
      }
    },
    {
      "cell_type": "code",
      "source": [
        "df_movie_imdb = df_movie.dropna(subset=['IMDb Score'])\n",
        "df_movie_imdb = df_movie_imdb.sort_values(by = 'IMDb Score', ascending = False)\n",
        "top_m_imdb_10_list = df_movie_imdb[:10]"
      ],
      "metadata": {
        "id": "XE0xa3MVRcBz"
      },
      "execution_count": null,
      "outputs": []
    },
    {
      "cell_type": "code",
      "source": [
        "fig = go.Figure(data=[go.Bar(\n",
        "    x = top_m_imdb_10_list['Title'],\n",
        "    y = top_m_imdb_10_list['IMDb Score'],\n",
        "    text = top_m_imdb_10_list['IMDb Score'],\n",
        "    textposition='auto',\n",
        "    marker_color=colors_10\n",
        ")])\n",
        "fig.update_traces(texttemplate='%{text:.2s}', textposition='outside')\n",
        "fig.update_layout(title_text= 'Which are the most rated Movies for IMDb?',\n",
        "                  uniformtext_minsize=8, uniformtext_mode='hide',\n",
        "                  yaxis=dict(\n",
        "                  title='IMDb Score',\n",
        "                  titlefont_size=14),\n",
        "                  xaxis=dict(\n",
        "                  title='Titles',\n",
        "                  titlefont_size=14))"
      ],
      "metadata": {
        "colab": {
          "base_uri": "https://localhost:8080/",
          "height": 542
        },
        "id": "fdJRzrp8RmZT",
        "outputId": "4550a1ef-d109-44bc-d036-9a9c24027faa"
      },
      "execution_count": null,
      "outputs": [
        {
          "output_type": "display_data",
          "data": {
            "text/html": [
              "<html>\n",
              "<head><meta charset=\"utf-8\" /></head>\n",
              "<body>\n",
              "    <div>            <script src=\"https://cdnjs.cloudflare.com/ajax/libs/mathjax/2.7.5/MathJax.js?config=TeX-AMS-MML_SVG\"></script><script type=\"text/javascript\">if (window.MathJax && window.MathJax.Hub && window.MathJax.Hub.Config) {window.MathJax.Hub.Config({SVG: {font: \"STIX-Web\"}});}</script>                <script type=\"text/javascript\">window.PlotlyConfig = {MathJaxConfig: 'local'};</script>\n",
              "        <script charset=\"utf-8\" src=\"https://cdn.plot.ly/plotly-2.35.2.min.js\"></script>                <div id=\"73ce1ffb-5aaf-4a35-b7d4-bfb67a3f5fb6\" class=\"plotly-graph-div\" style=\"height:525px; width:100%;\"></div>            <script type=\"text/javascript\">                                    window.PLOTLYENV=window.PLOTLYENV || {};                                    if (document.getElementById(\"73ce1ffb-5aaf-4a35-b7d4-bfb67a3f5fb6\")) {                    Plotly.newPlot(                        \"73ce1ffb-5aaf-4a35-b7d4-bfb67a3f5fb6\",                        [{\"marker\":{\"color\":[\"DarkRed\",\"FireBrick\",\"Red\",\"Crimson\",\"IndianRed\",\"slategray\",\"gray\",\"dimgrey\",\"DarkSlateGrey\",\"black\"]},\"text\":[9.7,9.5,9.4,9.3,9.2,9.2,9.1,9.1,9.0,9.0],\"textposition\":\"outside\",\"x\":[\"No Festival\",\"Horsin Around\",\"The Dream House\",\"The Shawshank Redemption\",\"The Godfather\",\"Conspiracy\",\"The Consuls Son\",\"One Girl\",\"Green Gold\",\"David Attenborough: A Life on Our Planet\"],\"y\":[9.7,9.5,9.4,9.3,9.2,9.2,9.1,9.1,9.0,9.0],\"type\":\"bar\",\"texttemplate\":\"%{text:.2s}\"}],                        {\"template\":{\"data\":{\"histogram2dcontour\":[{\"type\":\"histogram2dcontour\",\"colorbar\":{\"outlinewidth\":0,\"ticks\":\"\"},\"colorscale\":[[0.0,\"#0d0887\"],[0.1111111111111111,\"#46039f\"],[0.2222222222222222,\"#7201a8\"],[0.3333333333333333,\"#9c179e\"],[0.4444444444444444,\"#bd3786\"],[0.5555555555555556,\"#d8576b\"],[0.6666666666666666,\"#ed7953\"],[0.7777777777777778,\"#fb9f3a\"],[0.8888888888888888,\"#fdca26\"],[1.0,\"#f0f921\"]]}],\"choropleth\":[{\"type\":\"choropleth\",\"colorbar\":{\"outlinewidth\":0,\"ticks\":\"\"}}],\"histogram2d\":[{\"type\":\"histogram2d\",\"colorbar\":{\"outlinewidth\":0,\"ticks\":\"\"},\"colorscale\":[[0.0,\"#0d0887\"],[0.1111111111111111,\"#46039f\"],[0.2222222222222222,\"#7201a8\"],[0.3333333333333333,\"#9c179e\"],[0.4444444444444444,\"#bd3786\"],[0.5555555555555556,\"#d8576b\"],[0.6666666666666666,\"#ed7953\"],[0.7777777777777778,\"#fb9f3a\"],[0.8888888888888888,\"#fdca26\"],[1.0,\"#f0f921\"]]}],\"heatmap\":[{\"type\":\"heatmap\",\"colorbar\":{\"outlinewidth\":0,\"ticks\":\"\"},\"colorscale\":[[0.0,\"#0d0887\"],[0.1111111111111111,\"#46039f\"],[0.2222222222222222,\"#7201a8\"],[0.3333333333333333,\"#9c179e\"],[0.4444444444444444,\"#bd3786\"],[0.5555555555555556,\"#d8576b\"],[0.6666666666666666,\"#ed7953\"],[0.7777777777777778,\"#fb9f3a\"],[0.8888888888888888,\"#fdca26\"],[1.0,\"#f0f921\"]]}],\"heatmapgl\":[{\"type\":\"heatmapgl\",\"colorbar\":{\"outlinewidth\":0,\"ticks\":\"\"},\"colorscale\":[[0.0,\"#0d0887\"],[0.1111111111111111,\"#46039f\"],[0.2222222222222222,\"#7201a8\"],[0.3333333333333333,\"#9c179e\"],[0.4444444444444444,\"#bd3786\"],[0.5555555555555556,\"#d8576b\"],[0.6666666666666666,\"#ed7953\"],[0.7777777777777778,\"#fb9f3a\"],[0.8888888888888888,\"#fdca26\"],[1.0,\"#f0f921\"]]}],\"contourcarpet\":[{\"type\":\"contourcarpet\",\"colorbar\":{\"outlinewidth\":0,\"ticks\":\"\"}}],\"contour\":[{\"type\":\"contour\",\"colorbar\":{\"outlinewidth\":0,\"ticks\":\"\"},\"colorscale\":[[0.0,\"#0d0887\"],[0.1111111111111111,\"#46039f\"],[0.2222222222222222,\"#7201a8\"],[0.3333333333333333,\"#9c179e\"],[0.4444444444444444,\"#bd3786\"],[0.5555555555555556,\"#d8576b\"],[0.6666666666666666,\"#ed7953\"],[0.7777777777777778,\"#fb9f3a\"],[0.8888888888888888,\"#fdca26\"],[1.0,\"#f0f921\"]]}],\"surface\":[{\"type\":\"surface\",\"colorbar\":{\"outlinewidth\":0,\"ticks\":\"\"},\"colorscale\":[[0.0,\"#0d0887\"],[0.1111111111111111,\"#46039f\"],[0.2222222222222222,\"#7201a8\"],[0.3333333333333333,\"#9c179e\"],[0.4444444444444444,\"#bd3786\"],[0.5555555555555556,\"#d8576b\"],[0.6666666666666666,\"#ed7953\"],[0.7777777777777778,\"#fb9f3a\"],[0.8888888888888888,\"#fdca26\"],[1.0,\"#f0f921\"]]}],\"mesh3d\":[{\"type\":\"mesh3d\",\"colorbar\":{\"outlinewidth\":0,\"ticks\":\"\"}}],\"scatter\":[{\"fillpattern\":{\"fillmode\":\"overlay\",\"size\":10,\"solidity\":0.2},\"type\":\"scatter\"}],\"parcoords\":[{\"type\":\"parcoords\",\"line\":{\"colorbar\":{\"outlinewidth\":0,\"ticks\":\"\"}}}],\"scatterpolargl\":[{\"type\":\"scatterpolargl\",\"marker\":{\"colorbar\":{\"outlinewidth\":0,\"ticks\":\"\"}}}],\"bar\":[{\"error_x\":{\"color\":\"#2a3f5f\"},\"error_y\":{\"color\":\"#2a3f5f\"},\"marker\":{\"line\":{\"color\":\"#E5ECF6\",\"width\":0.5},\"pattern\":{\"fillmode\":\"overlay\",\"size\":10,\"solidity\":0.2}},\"type\":\"bar\"}],\"scattergeo\":[{\"type\":\"scattergeo\",\"marker\":{\"colorbar\":{\"outlinewidth\":0,\"ticks\":\"\"}}}],\"scatterpolar\":[{\"type\":\"scatterpolar\",\"marker\":{\"colorbar\":{\"outlinewidth\":0,\"ticks\":\"\"}}}],\"histogram\":[{\"marker\":{\"pattern\":{\"fillmode\":\"overlay\",\"size\":10,\"solidity\":0.2}},\"type\":\"histogram\"}],\"scattergl\":[{\"type\":\"scattergl\",\"marker\":{\"colorbar\":{\"outlinewidth\":0,\"ticks\":\"\"}}}],\"scatter3d\":[{\"type\":\"scatter3d\",\"line\":{\"colorbar\":{\"outlinewidth\":0,\"ticks\":\"\"}},\"marker\":{\"colorbar\":{\"outlinewidth\":0,\"ticks\":\"\"}}}],\"scattermapbox\":[{\"type\":\"scattermapbox\",\"marker\":{\"colorbar\":{\"outlinewidth\":0,\"ticks\":\"\"}}}],\"scatterternary\":[{\"type\":\"scatterternary\",\"marker\":{\"colorbar\":{\"outlinewidth\":0,\"ticks\":\"\"}}}],\"scattercarpet\":[{\"type\":\"scattercarpet\",\"marker\":{\"colorbar\":{\"outlinewidth\":0,\"ticks\":\"\"}}}],\"carpet\":[{\"aaxis\":{\"endlinecolor\":\"#2a3f5f\",\"gridcolor\":\"white\",\"linecolor\":\"white\",\"minorgridcolor\":\"white\",\"startlinecolor\":\"#2a3f5f\"},\"baxis\":{\"endlinecolor\":\"#2a3f5f\",\"gridcolor\":\"white\",\"linecolor\":\"white\",\"minorgridcolor\":\"white\",\"startlinecolor\":\"#2a3f5f\"},\"type\":\"carpet\"}],\"table\":[{\"cells\":{\"fill\":{\"color\":\"#EBF0F8\"},\"line\":{\"color\":\"white\"}},\"header\":{\"fill\":{\"color\":\"#C8D4E3\"},\"line\":{\"color\":\"white\"}},\"type\":\"table\"}],\"barpolar\":[{\"marker\":{\"line\":{\"color\":\"#E5ECF6\",\"width\":0.5},\"pattern\":{\"fillmode\":\"overlay\",\"size\":10,\"solidity\":0.2}},\"type\":\"barpolar\"}],\"pie\":[{\"automargin\":true,\"type\":\"pie\"}]},\"layout\":{\"autotypenumbers\":\"strict\",\"colorway\":[\"#636efa\",\"#EF553B\",\"#00cc96\",\"#ab63fa\",\"#FFA15A\",\"#19d3f3\",\"#FF6692\",\"#B6E880\",\"#FF97FF\",\"#FECB52\"],\"font\":{\"color\":\"#2a3f5f\"},\"hovermode\":\"closest\",\"hoverlabel\":{\"align\":\"left\"},\"paper_bgcolor\":\"white\",\"plot_bgcolor\":\"#E5ECF6\",\"polar\":{\"bgcolor\":\"#E5ECF6\",\"angularaxis\":{\"gridcolor\":\"white\",\"linecolor\":\"white\",\"ticks\":\"\"},\"radialaxis\":{\"gridcolor\":\"white\",\"linecolor\":\"white\",\"ticks\":\"\"}},\"ternary\":{\"bgcolor\":\"#E5ECF6\",\"aaxis\":{\"gridcolor\":\"white\",\"linecolor\":\"white\",\"ticks\":\"\"},\"baxis\":{\"gridcolor\":\"white\",\"linecolor\":\"white\",\"ticks\":\"\"},\"caxis\":{\"gridcolor\":\"white\",\"linecolor\":\"white\",\"ticks\":\"\"}},\"coloraxis\":{\"colorbar\":{\"outlinewidth\":0,\"ticks\":\"\"}},\"colorscale\":{\"sequential\":[[0.0,\"#0d0887\"],[0.1111111111111111,\"#46039f\"],[0.2222222222222222,\"#7201a8\"],[0.3333333333333333,\"#9c179e\"],[0.4444444444444444,\"#bd3786\"],[0.5555555555555556,\"#d8576b\"],[0.6666666666666666,\"#ed7953\"],[0.7777777777777778,\"#fb9f3a\"],[0.8888888888888888,\"#fdca26\"],[1.0,\"#f0f921\"]],\"sequentialminus\":[[0.0,\"#0d0887\"],[0.1111111111111111,\"#46039f\"],[0.2222222222222222,\"#7201a8\"],[0.3333333333333333,\"#9c179e\"],[0.4444444444444444,\"#bd3786\"],[0.5555555555555556,\"#d8576b\"],[0.6666666666666666,\"#ed7953\"],[0.7777777777777778,\"#fb9f3a\"],[0.8888888888888888,\"#fdca26\"],[1.0,\"#f0f921\"]],\"diverging\":[[0,\"#8e0152\"],[0.1,\"#c51b7d\"],[0.2,\"#de77ae\"],[0.3,\"#f1b6da\"],[0.4,\"#fde0ef\"],[0.5,\"#f7f7f7\"],[0.6,\"#e6f5d0\"],[0.7,\"#b8e186\"],[0.8,\"#7fbc41\"],[0.9,\"#4d9221\"],[1,\"#276419\"]]},\"xaxis\":{\"gridcolor\":\"white\",\"linecolor\":\"white\",\"ticks\":\"\",\"title\":{\"standoff\":15},\"zerolinecolor\":\"white\",\"automargin\":true,\"zerolinewidth\":2},\"yaxis\":{\"gridcolor\":\"white\",\"linecolor\":\"white\",\"ticks\":\"\",\"title\":{\"standoff\":15},\"zerolinecolor\":\"white\",\"automargin\":true,\"zerolinewidth\":2},\"scene\":{\"xaxis\":{\"backgroundcolor\":\"#E5ECF6\",\"gridcolor\":\"white\",\"linecolor\":\"white\",\"showbackground\":true,\"ticks\":\"\",\"zerolinecolor\":\"white\",\"gridwidth\":2},\"yaxis\":{\"backgroundcolor\":\"#E5ECF6\",\"gridcolor\":\"white\",\"linecolor\":\"white\",\"showbackground\":true,\"ticks\":\"\",\"zerolinecolor\":\"white\",\"gridwidth\":2},\"zaxis\":{\"backgroundcolor\":\"#E5ECF6\",\"gridcolor\":\"white\",\"linecolor\":\"white\",\"showbackground\":true,\"ticks\":\"\",\"zerolinecolor\":\"white\",\"gridwidth\":2}},\"shapedefaults\":{\"line\":{\"color\":\"#2a3f5f\"}},\"annotationdefaults\":{\"arrowcolor\":\"#2a3f5f\",\"arrowhead\":0,\"arrowwidth\":1},\"geo\":{\"bgcolor\":\"white\",\"landcolor\":\"#E5ECF6\",\"subunitcolor\":\"white\",\"showland\":true,\"showlakes\":true,\"lakecolor\":\"white\"},\"title\":{\"x\":0.05},\"mapbox\":{\"style\":\"light\"}}},\"title\":{\"text\":\"Which are the most rated Movies for IMDb?\"},\"uniformtext\":{\"minsize\":8,\"mode\":\"hide\"},\"yaxis\":{\"title\":{\"text\":\"IMDb Score\",\"font\":{\"size\":14}}},\"xaxis\":{\"title\":{\"text\":\"Titles\",\"font\":{\"size\":14}}}},                        {\"responsive\": true}                    ).then(function(){\n",
              "                            \n",
              "var gd = document.getElementById('73ce1ffb-5aaf-4a35-b7d4-bfb67a3f5fb6');\n",
              "var x = new MutationObserver(function (mutations, observer) {{\n",
              "        var display = window.getComputedStyle(gd).display;\n",
              "        if (!display || display === 'none') {{\n",
              "            console.log([gd, 'removed!']);\n",
              "            Plotly.purge(gd);\n",
              "            observer.disconnect();\n",
              "        }}\n",
              "}});\n",
              "\n",
              "// Listen for the removal of the full notebook cells\n",
              "var notebookContainer = gd.closest('#notebook-container');\n",
              "if (notebookContainer) {{\n",
              "    x.observe(notebookContainer, {childList: true});\n",
              "}}\n",
              "\n",
              "// Listen for the clearing of the current output cell\n",
              "var outputEl = gd.closest('.output');\n",
              "if (outputEl) {{\n",
              "    x.observe(outputEl, {childList: true});\n",
              "}}\n",
              "\n",
              "                        })                };                            </script>        </div>\n",
              "</body>\n",
              "</html>"
            ]
          },
          "metadata": {}
        }
      ]
    },
    {
      "cell_type": "markdown",
      "source": [
        "# Rating by Rotten Tomatoes"
      ],
      "metadata": {
        "id": "QCz6LPv7RpIj"
      }
    },
    {
      "cell_type": "markdown",
      "source": [
        "## In the Series"
      ],
      "metadata": {
        "id": "fBzN_phHRwSz"
      }
    },
    {
      "cell_type": "code",
      "source": [
        "df_series_rt = df_series.dropna(subset=['Rotten Tomatoes Score'])\n",
        "df_series_rt = df_series_rt.sort_values(by = 'Rotten Tomatoes Score', ascending = False)\n",
        "top_s_rt_10_list = df_series_rt[:10]"
      ],
      "metadata": {
        "id": "cdJ6M49mRoJX"
      },
      "execution_count": null,
      "outputs": []
    },
    {
      "cell_type": "code",
      "source": [
        "fig = go.Figure(data=[go.Bar(\n",
        "    x = top_s_rt_10_list['Title'],\n",
        "    y = top_s_rt_10_list['Rotten Tomatoes Score'],\n",
        "    text = top_s_rt_10_list['Rotten Tomatoes Score'],\n",
        "    textposition='auto',\n",
        "    marker_color=colors_10\n",
        ")])\n",
        "fig.update_traces(texttemplate='%{text:.2s}', textposition='outside')\n",
        "fig.update_layout(title_text= 'Which are the most rated Tv Series for Rotten Tomatoes?',\n",
        "                  uniformtext_minsize=8, uniformtext_mode='hide',\n",
        "                  yaxis=dict(\n",
        "                  title='Rotten Tomatoes Score',\n",
        "                  titlefont_size=14),\n",
        "                  xaxis=dict(\n",
        "                  title='Titles',\n",
        "                  titlefont_size=14))"
      ],
      "metadata": {
        "colab": {
          "base_uri": "https://localhost:8080/",
          "height": 542
        },
        "id": "EaIsMK9mR1qJ",
        "outputId": "e48d9ad6-b27b-4d01-f83d-abc51e09034b"
      },
      "execution_count": null,
      "outputs": [
        {
          "output_type": "display_data",
          "data": {
            "text/html": [
              "<html>\n",
              "<head><meta charset=\"utf-8\" /></head>\n",
              "<body>\n",
              "    <div>            <script src=\"https://cdnjs.cloudflare.com/ajax/libs/mathjax/2.7.5/MathJax.js?config=TeX-AMS-MML_SVG\"></script><script type=\"text/javascript\">if (window.MathJax && window.MathJax.Hub && window.MathJax.Hub.Config) {window.MathJax.Hub.Config({SVG: {font: \"STIX-Web\"}});}</script>                <script type=\"text/javascript\">window.PlotlyConfig = {MathJaxConfig: 'local'};</script>\n",
              "        <script charset=\"utf-8\" src=\"https://cdn.plot.ly/plotly-2.35.2.min.js\"></script>                <div id=\"4d45f9e8-b591-4f34-9ad3-d290f1436eb5\" class=\"plotly-graph-div\" style=\"height:525px; width:100%;\"></div>            <script type=\"text/javascript\">                                    window.PLOTLYENV=window.PLOTLYENV || {};                                    if (document.getElementById(\"4d45f9e8-b591-4f34-9ad3-d290f1436eb5\")) {                    Plotly.newPlot(                        \"4d45f9e8-b591-4f34-9ad3-d290f1436eb5\",                        [{\"marker\":{\"color\":[\"DarkRed\",\"FireBrick\",\"Red\",\"Crimson\",\"IndianRed\",\"slategray\",\"gray\",\"dimgrey\",\"DarkSlateGrey\",\"black\"]},\"text\":[100.0,100.0,100.0,100.0,100.0,98.0,97.0,97.0,97.0,97.0],\"textposition\":\"outside\",\"x\":[\"A Lion in the House\",\"The Game\",\"Vagabond\",\"The New Land\",\"The Search\",\"Lets Fight Ghost\",\"Monty Pythons Fliegender Zirkus\",\"This Evening\",\"Aliens\",\"Spotlight\"],\"y\":[100.0,100.0,100.0,100.0,100.0,98.0,97.0,97.0,97.0,97.0],\"type\":\"bar\",\"texttemplate\":\"%{text:.2s}\"}],                        {\"template\":{\"data\":{\"histogram2dcontour\":[{\"type\":\"histogram2dcontour\",\"colorbar\":{\"outlinewidth\":0,\"ticks\":\"\"},\"colorscale\":[[0.0,\"#0d0887\"],[0.1111111111111111,\"#46039f\"],[0.2222222222222222,\"#7201a8\"],[0.3333333333333333,\"#9c179e\"],[0.4444444444444444,\"#bd3786\"],[0.5555555555555556,\"#d8576b\"],[0.6666666666666666,\"#ed7953\"],[0.7777777777777778,\"#fb9f3a\"],[0.8888888888888888,\"#fdca26\"],[1.0,\"#f0f921\"]]}],\"choropleth\":[{\"type\":\"choropleth\",\"colorbar\":{\"outlinewidth\":0,\"ticks\":\"\"}}],\"histogram2d\":[{\"type\":\"histogram2d\",\"colorbar\":{\"outlinewidth\":0,\"ticks\":\"\"},\"colorscale\":[[0.0,\"#0d0887\"],[0.1111111111111111,\"#46039f\"],[0.2222222222222222,\"#7201a8\"],[0.3333333333333333,\"#9c179e\"],[0.4444444444444444,\"#bd3786\"],[0.5555555555555556,\"#d8576b\"],[0.6666666666666666,\"#ed7953\"],[0.7777777777777778,\"#fb9f3a\"],[0.8888888888888888,\"#fdca26\"],[1.0,\"#f0f921\"]]}],\"heatmap\":[{\"type\":\"heatmap\",\"colorbar\":{\"outlinewidth\":0,\"ticks\":\"\"},\"colorscale\":[[0.0,\"#0d0887\"],[0.1111111111111111,\"#46039f\"],[0.2222222222222222,\"#7201a8\"],[0.3333333333333333,\"#9c179e\"],[0.4444444444444444,\"#bd3786\"],[0.5555555555555556,\"#d8576b\"],[0.6666666666666666,\"#ed7953\"],[0.7777777777777778,\"#fb9f3a\"],[0.8888888888888888,\"#fdca26\"],[1.0,\"#f0f921\"]]}],\"heatmapgl\":[{\"type\":\"heatmapgl\",\"colorbar\":{\"outlinewidth\":0,\"ticks\":\"\"},\"colorscale\":[[0.0,\"#0d0887\"],[0.1111111111111111,\"#46039f\"],[0.2222222222222222,\"#7201a8\"],[0.3333333333333333,\"#9c179e\"],[0.4444444444444444,\"#bd3786\"],[0.5555555555555556,\"#d8576b\"],[0.6666666666666666,\"#ed7953\"],[0.7777777777777778,\"#fb9f3a\"],[0.8888888888888888,\"#fdca26\"],[1.0,\"#f0f921\"]]}],\"contourcarpet\":[{\"type\":\"contourcarpet\",\"colorbar\":{\"outlinewidth\":0,\"ticks\":\"\"}}],\"contour\":[{\"type\":\"contour\",\"colorbar\":{\"outlinewidth\":0,\"ticks\":\"\"},\"colorscale\":[[0.0,\"#0d0887\"],[0.1111111111111111,\"#46039f\"],[0.2222222222222222,\"#7201a8\"],[0.3333333333333333,\"#9c179e\"],[0.4444444444444444,\"#bd3786\"],[0.5555555555555556,\"#d8576b\"],[0.6666666666666666,\"#ed7953\"],[0.7777777777777778,\"#fb9f3a\"],[0.8888888888888888,\"#fdca26\"],[1.0,\"#f0f921\"]]}],\"surface\":[{\"type\":\"surface\",\"colorbar\":{\"outlinewidth\":0,\"ticks\":\"\"},\"colorscale\":[[0.0,\"#0d0887\"],[0.1111111111111111,\"#46039f\"],[0.2222222222222222,\"#7201a8\"],[0.3333333333333333,\"#9c179e\"],[0.4444444444444444,\"#bd3786\"],[0.5555555555555556,\"#d8576b\"],[0.6666666666666666,\"#ed7953\"],[0.7777777777777778,\"#fb9f3a\"],[0.8888888888888888,\"#fdca26\"],[1.0,\"#f0f921\"]]}],\"mesh3d\":[{\"type\":\"mesh3d\",\"colorbar\":{\"outlinewidth\":0,\"ticks\":\"\"}}],\"scatter\":[{\"fillpattern\":{\"fillmode\":\"overlay\",\"size\":10,\"solidity\":0.2},\"type\":\"scatter\"}],\"parcoords\":[{\"type\":\"parcoords\",\"line\":{\"colorbar\":{\"outlinewidth\":0,\"ticks\":\"\"}}}],\"scatterpolargl\":[{\"type\":\"scatterpolargl\",\"marker\":{\"colorbar\":{\"outlinewidth\":0,\"ticks\":\"\"}}}],\"bar\":[{\"error_x\":{\"color\":\"#2a3f5f\"},\"error_y\":{\"color\":\"#2a3f5f\"},\"marker\":{\"line\":{\"color\":\"#E5ECF6\",\"width\":0.5},\"pattern\":{\"fillmode\":\"overlay\",\"size\":10,\"solidity\":0.2}},\"type\":\"bar\"}],\"scattergeo\":[{\"type\":\"scattergeo\",\"marker\":{\"colorbar\":{\"outlinewidth\":0,\"ticks\":\"\"}}}],\"scatterpolar\":[{\"type\":\"scatterpolar\",\"marker\":{\"colorbar\":{\"outlinewidth\":0,\"ticks\":\"\"}}}],\"histogram\":[{\"marker\":{\"pattern\":{\"fillmode\":\"overlay\",\"size\":10,\"solidity\":0.2}},\"type\":\"histogram\"}],\"scattergl\":[{\"type\":\"scattergl\",\"marker\":{\"colorbar\":{\"outlinewidth\":0,\"ticks\":\"\"}}}],\"scatter3d\":[{\"type\":\"scatter3d\",\"line\":{\"colorbar\":{\"outlinewidth\":0,\"ticks\":\"\"}},\"marker\":{\"colorbar\":{\"outlinewidth\":0,\"ticks\":\"\"}}}],\"scattermapbox\":[{\"type\":\"scattermapbox\",\"marker\":{\"colorbar\":{\"outlinewidth\":0,\"ticks\":\"\"}}}],\"scatterternary\":[{\"type\":\"scatterternary\",\"marker\":{\"colorbar\":{\"outlinewidth\":0,\"ticks\":\"\"}}}],\"scattercarpet\":[{\"type\":\"scattercarpet\",\"marker\":{\"colorbar\":{\"outlinewidth\":0,\"ticks\":\"\"}}}],\"carpet\":[{\"aaxis\":{\"endlinecolor\":\"#2a3f5f\",\"gridcolor\":\"white\",\"linecolor\":\"white\",\"minorgridcolor\":\"white\",\"startlinecolor\":\"#2a3f5f\"},\"baxis\":{\"endlinecolor\":\"#2a3f5f\",\"gridcolor\":\"white\",\"linecolor\":\"white\",\"minorgridcolor\":\"white\",\"startlinecolor\":\"#2a3f5f\"},\"type\":\"carpet\"}],\"table\":[{\"cells\":{\"fill\":{\"color\":\"#EBF0F8\"},\"line\":{\"color\":\"white\"}},\"header\":{\"fill\":{\"color\":\"#C8D4E3\"},\"line\":{\"color\":\"white\"}},\"type\":\"table\"}],\"barpolar\":[{\"marker\":{\"line\":{\"color\":\"#E5ECF6\",\"width\":0.5},\"pattern\":{\"fillmode\":\"overlay\",\"size\":10,\"solidity\":0.2}},\"type\":\"barpolar\"}],\"pie\":[{\"automargin\":true,\"type\":\"pie\"}]},\"layout\":{\"autotypenumbers\":\"strict\",\"colorway\":[\"#636efa\",\"#EF553B\",\"#00cc96\",\"#ab63fa\",\"#FFA15A\",\"#19d3f3\",\"#FF6692\",\"#B6E880\",\"#FF97FF\",\"#FECB52\"],\"font\":{\"color\":\"#2a3f5f\"},\"hovermode\":\"closest\",\"hoverlabel\":{\"align\":\"left\"},\"paper_bgcolor\":\"white\",\"plot_bgcolor\":\"#E5ECF6\",\"polar\":{\"bgcolor\":\"#E5ECF6\",\"angularaxis\":{\"gridcolor\":\"white\",\"linecolor\":\"white\",\"ticks\":\"\"},\"radialaxis\":{\"gridcolor\":\"white\",\"linecolor\":\"white\",\"ticks\":\"\"}},\"ternary\":{\"bgcolor\":\"#E5ECF6\",\"aaxis\":{\"gridcolor\":\"white\",\"linecolor\":\"white\",\"ticks\":\"\"},\"baxis\":{\"gridcolor\":\"white\",\"linecolor\":\"white\",\"ticks\":\"\"},\"caxis\":{\"gridcolor\":\"white\",\"linecolor\":\"white\",\"ticks\":\"\"}},\"coloraxis\":{\"colorbar\":{\"outlinewidth\":0,\"ticks\":\"\"}},\"colorscale\":{\"sequential\":[[0.0,\"#0d0887\"],[0.1111111111111111,\"#46039f\"],[0.2222222222222222,\"#7201a8\"],[0.3333333333333333,\"#9c179e\"],[0.4444444444444444,\"#bd3786\"],[0.5555555555555556,\"#d8576b\"],[0.6666666666666666,\"#ed7953\"],[0.7777777777777778,\"#fb9f3a\"],[0.8888888888888888,\"#fdca26\"],[1.0,\"#f0f921\"]],\"sequentialminus\":[[0.0,\"#0d0887\"],[0.1111111111111111,\"#46039f\"],[0.2222222222222222,\"#7201a8\"],[0.3333333333333333,\"#9c179e\"],[0.4444444444444444,\"#bd3786\"],[0.5555555555555556,\"#d8576b\"],[0.6666666666666666,\"#ed7953\"],[0.7777777777777778,\"#fb9f3a\"],[0.8888888888888888,\"#fdca26\"],[1.0,\"#f0f921\"]],\"diverging\":[[0,\"#8e0152\"],[0.1,\"#c51b7d\"],[0.2,\"#de77ae\"],[0.3,\"#f1b6da\"],[0.4,\"#fde0ef\"],[0.5,\"#f7f7f7\"],[0.6,\"#e6f5d0\"],[0.7,\"#b8e186\"],[0.8,\"#7fbc41\"],[0.9,\"#4d9221\"],[1,\"#276419\"]]},\"xaxis\":{\"gridcolor\":\"white\",\"linecolor\":\"white\",\"ticks\":\"\",\"title\":{\"standoff\":15},\"zerolinecolor\":\"white\",\"automargin\":true,\"zerolinewidth\":2},\"yaxis\":{\"gridcolor\":\"white\",\"linecolor\":\"white\",\"ticks\":\"\",\"title\":{\"standoff\":15},\"zerolinecolor\":\"white\",\"automargin\":true,\"zerolinewidth\":2},\"scene\":{\"xaxis\":{\"backgroundcolor\":\"#E5ECF6\",\"gridcolor\":\"white\",\"linecolor\":\"white\",\"showbackground\":true,\"ticks\":\"\",\"zerolinecolor\":\"white\",\"gridwidth\":2},\"yaxis\":{\"backgroundcolor\":\"#E5ECF6\",\"gridcolor\":\"white\",\"linecolor\":\"white\",\"showbackground\":true,\"ticks\":\"\",\"zerolinecolor\":\"white\",\"gridwidth\":2},\"zaxis\":{\"backgroundcolor\":\"#E5ECF6\",\"gridcolor\":\"white\",\"linecolor\":\"white\",\"showbackground\":true,\"ticks\":\"\",\"zerolinecolor\":\"white\",\"gridwidth\":2}},\"shapedefaults\":{\"line\":{\"color\":\"#2a3f5f\"}},\"annotationdefaults\":{\"arrowcolor\":\"#2a3f5f\",\"arrowhead\":0,\"arrowwidth\":1},\"geo\":{\"bgcolor\":\"white\",\"landcolor\":\"#E5ECF6\",\"subunitcolor\":\"white\",\"showland\":true,\"showlakes\":true,\"lakecolor\":\"white\"},\"title\":{\"x\":0.05},\"mapbox\":{\"style\":\"light\"}}},\"title\":{\"text\":\"Which are the most rated Tv Series for Rotten Tomatoes?\"},\"uniformtext\":{\"minsize\":8,\"mode\":\"hide\"},\"yaxis\":{\"title\":{\"text\":\"Rotten Tomatoes Score\",\"font\":{\"size\":14}}},\"xaxis\":{\"title\":{\"text\":\"Titles\",\"font\":{\"size\":14}}}},                        {\"responsive\": true}                    ).then(function(){\n",
              "                            \n",
              "var gd = document.getElementById('4d45f9e8-b591-4f34-9ad3-d290f1436eb5');\n",
              "var x = new MutationObserver(function (mutations, observer) {{\n",
              "        var display = window.getComputedStyle(gd).display;\n",
              "        if (!display || display === 'none') {{\n",
              "            console.log([gd, 'removed!']);\n",
              "            Plotly.purge(gd);\n",
              "            observer.disconnect();\n",
              "        }}\n",
              "}});\n",
              "\n",
              "// Listen for the removal of the full notebook cells\n",
              "var notebookContainer = gd.closest('#notebook-container');\n",
              "if (notebookContainer) {{\n",
              "    x.observe(notebookContainer, {childList: true});\n",
              "}}\n",
              "\n",
              "// Listen for the clearing of the current output cell\n",
              "var outputEl = gd.closest('.output');\n",
              "if (outputEl) {{\n",
              "    x.observe(outputEl, {childList: true});\n",
              "}}\n",
              "\n",
              "                        })                };                            </script>        </div>\n",
              "</body>\n",
              "</html>"
            ]
          },
          "metadata": {}
        }
      ]
    },
    {
      "cell_type": "markdown",
      "source": [
        "## In the Movies"
      ],
      "metadata": {
        "id": "JIqfzt-0R40D"
      }
    },
    {
      "cell_type": "code",
      "source": [
        "df_movie_rt = df_movie.dropna(subset=['Rotten Tomatoes Score'])\n",
        "df_movie_rt = df_movie_rt.sort_values(by = 'Rotten Tomatoes Score', ascending = False)\n",
        "top_m_rt_10_list = df_movie_rt[:10]"
      ],
      "metadata": {
        "id": "Ex0JKBDvR3En"
      },
      "execution_count": null,
      "outputs": []
    },
    {
      "cell_type": "code",
      "source": [
        "fig = go.Figure(data=[go.Bar(\n",
        "    x = top_m_rt_10_list['Title'],\n",
        "    y = top_m_rt_10_list['Rotten Tomatoes Score'],\n",
        "    text = top_m_rt_10_list['Rotten Tomatoes Score'],\n",
        "    textposition='auto',\n",
        "    marker_color=colors_10\n",
        ")])\n",
        "fig.update_traces(texttemplate='%{text:.2s}', textposition='outside')\n",
        "fig.update_layout(title_text= 'Which are the most rated Movies for Rotten Tomatoes?',\n",
        "                  uniformtext_minsize=8, uniformtext_mode='hide',\n",
        "                  yaxis=dict(\n",
        "                  title='Rotten Tomatoes Score',\n",
        "                  titlefont_size=14),\n",
        "                  xaxis=dict(\n",
        "                  title='Titles',\n",
        "                  titlefont_size=14))\n"
      ],
      "metadata": {
        "colab": {
          "base_uri": "https://localhost:8080/",
          "height": 542
        },
        "id": "xpHG0TcdR_N_",
        "outputId": "7e69023e-8b46-4355-abf9-7dcd35f5bdcd"
      },
      "execution_count": null,
      "outputs": [
        {
          "output_type": "display_data",
          "data": {
            "text/html": [
              "<html>\n",
              "<head><meta charset=\"utf-8\" /></head>\n",
              "<body>\n",
              "    <div>            <script src=\"https://cdnjs.cloudflare.com/ajax/libs/mathjax/2.7.5/MathJax.js?config=TeX-AMS-MML_SVG\"></script><script type=\"text/javascript\">if (window.MathJax && window.MathJax.Hub && window.MathJax.Hub.Config) {window.MathJax.Hub.Config({SVG: {font: \"STIX-Web\"}});}</script>                <script type=\"text/javascript\">window.PlotlyConfig = {MathJaxConfig: 'local'};</script>\n",
              "        <script charset=\"utf-8\" src=\"https://cdn.plot.ly/plotly-2.35.2.min.js\"></script>                <div id=\"cfa103ed-d627-4b69-8aa7-808a47c18013\" class=\"plotly-graph-div\" style=\"height:525px; width:100%;\"></div>            <script type=\"text/javascript\">                                    window.PLOTLYENV=window.PLOTLYENV || {};                                    if (document.getElementById(\"cfa103ed-d627-4b69-8aa7-808a47c18013\")) {                    Plotly.newPlot(                        \"cfa103ed-d627-4b69-8aa7-808a47c18013\",                        [{\"marker\":{\"color\":[\"DarkRed\",\"FireBrick\",\"Red\",\"Crimson\",\"IndianRed\",\"slategray\",\"gray\",\"dimgrey\",\"DarkSlateGrey\",\"black\"]},\"text\":[100.0,100.0,100.0,100.0,100.0,100.0,100.0,100.0,100.0,100.0],\"textposition\":\"outside\",\"x\":[\"Ali Wong: Baby Cobra\",\"Law of Desire\",\"Red Dog: True Blue\",\"Saving Capitalism\",\"The Looming Storm\",\"Modern Times\",\"Ten Years\",\"Team Foxcatcher\",\"ReMastered: The Two Killings of Sam Cooke\",\"Department Q: A Conspiracy of Faith\"],\"y\":[100.0,100.0,100.0,100.0,100.0,100.0,100.0,100.0,100.0,100.0],\"type\":\"bar\",\"texttemplate\":\"%{text:.2s}\"}],                        {\"template\":{\"data\":{\"histogram2dcontour\":[{\"type\":\"histogram2dcontour\",\"colorbar\":{\"outlinewidth\":0,\"ticks\":\"\"},\"colorscale\":[[0.0,\"#0d0887\"],[0.1111111111111111,\"#46039f\"],[0.2222222222222222,\"#7201a8\"],[0.3333333333333333,\"#9c179e\"],[0.4444444444444444,\"#bd3786\"],[0.5555555555555556,\"#d8576b\"],[0.6666666666666666,\"#ed7953\"],[0.7777777777777778,\"#fb9f3a\"],[0.8888888888888888,\"#fdca26\"],[1.0,\"#f0f921\"]]}],\"choropleth\":[{\"type\":\"choropleth\",\"colorbar\":{\"outlinewidth\":0,\"ticks\":\"\"}}],\"histogram2d\":[{\"type\":\"histogram2d\",\"colorbar\":{\"outlinewidth\":0,\"ticks\":\"\"},\"colorscale\":[[0.0,\"#0d0887\"],[0.1111111111111111,\"#46039f\"],[0.2222222222222222,\"#7201a8\"],[0.3333333333333333,\"#9c179e\"],[0.4444444444444444,\"#bd3786\"],[0.5555555555555556,\"#d8576b\"],[0.6666666666666666,\"#ed7953\"],[0.7777777777777778,\"#fb9f3a\"],[0.8888888888888888,\"#fdca26\"],[1.0,\"#f0f921\"]]}],\"heatmap\":[{\"type\":\"heatmap\",\"colorbar\":{\"outlinewidth\":0,\"ticks\":\"\"},\"colorscale\":[[0.0,\"#0d0887\"],[0.1111111111111111,\"#46039f\"],[0.2222222222222222,\"#7201a8\"],[0.3333333333333333,\"#9c179e\"],[0.4444444444444444,\"#bd3786\"],[0.5555555555555556,\"#d8576b\"],[0.6666666666666666,\"#ed7953\"],[0.7777777777777778,\"#fb9f3a\"],[0.8888888888888888,\"#fdca26\"],[1.0,\"#f0f921\"]]}],\"heatmapgl\":[{\"type\":\"heatmapgl\",\"colorbar\":{\"outlinewidth\":0,\"ticks\":\"\"},\"colorscale\":[[0.0,\"#0d0887\"],[0.1111111111111111,\"#46039f\"],[0.2222222222222222,\"#7201a8\"],[0.3333333333333333,\"#9c179e\"],[0.4444444444444444,\"#bd3786\"],[0.5555555555555556,\"#d8576b\"],[0.6666666666666666,\"#ed7953\"],[0.7777777777777778,\"#fb9f3a\"],[0.8888888888888888,\"#fdca26\"],[1.0,\"#f0f921\"]]}],\"contourcarpet\":[{\"type\":\"contourcarpet\",\"colorbar\":{\"outlinewidth\":0,\"ticks\":\"\"}}],\"contour\":[{\"type\":\"contour\",\"colorbar\":{\"outlinewidth\":0,\"ticks\":\"\"},\"colorscale\":[[0.0,\"#0d0887\"],[0.1111111111111111,\"#46039f\"],[0.2222222222222222,\"#7201a8\"],[0.3333333333333333,\"#9c179e\"],[0.4444444444444444,\"#bd3786\"],[0.5555555555555556,\"#d8576b\"],[0.6666666666666666,\"#ed7953\"],[0.7777777777777778,\"#fb9f3a\"],[0.8888888888888888,\"#fdca26\"],[1.0,\"#f0f921\"]]}],\"surface\":[{\"type\":\"surface\",\"colorbar\":{\"outlinewidth\":0,\"ticks\":\"\"},\"colorscale\":[[0.0,\"#0d0887\"],[0.1111111111111111,\"#46039f\"],[0.2222222222222222,\"#7201a8\"],[0.3333333333333333,\"#9c179e\"],[0.4444444444444444,\"#bd3786\"],[0.5555555555555556,\"#d8576b\"],[0.6666666666666666,\"#ed7953\"],[0.7777777777777778,\"#fb9f3a\"],[0.8888888888888888,\"#fdca26\"],[1.0,\"#f0f921\"]]}],\"mesh3d\":[{\"type\":\"mesh3d\",\"colorbar\":{\"outlinewidth\":0,\"ticks\":\"\"}}],\"scatter\":[{\"fillpattern\":{\"fillmode\":\"overlay\",\"size\":10,\"solidity\":0.2},\"type\":\"scatter\"}],\"parcoords\":[{\"type\":\"parcoords\",\"line\":{\"colorbar\":{\"outlinewidth\":0,\"ticks\":\"\"}}}],\"scatterpolargl\":[{\"type\":\"scatterpolargl\",\"marker\":{\"colorbar\":{\"outlinewidth\":0,\"ticks\":\"\"}}}],\"bar\":[{\"error_x\":{\"color\":\"#2a3f5f\"},\"error_y\":{\"color\":\"#2a3f5f\"},\"marker\":{\"line\":{\"color\":\"#E5ECF6\",\"width\":0.5},\"pattern\":{\"fillmode\":\"overlay\",\"size\":10,\"solidity\":0.2}},\"type\":\"bar\"}],\"scattergeo\":[{\"type\":\"scattergeo\",\"marker\":{\"colorbar\":{\"outlinewidth\":0,\"ticks\":\"\"}}}],\"scatterpolar\":[{\"type\":\"scatterpolar\",\"marker\":{\"colorbar\":{\"outlinewidth\":0,\"ticks\":\"\"}}}],\"histogram\":[{\"marker\":{\"pattern\":{\"fillmode\":\"overlay\",\"size\":10,\"solidity\":0.2}},\"type\":\"histogram\"}],\"scattergl\":[{\"type\":\"scattergl\",\"marker\":{\"colorbar\":{\"outlinewidth\":0,\"ticks\":\"\"}}}],\"scatter3d\":[{\"type\":\"scatter3d\",\"line\":{\"colorbar\":{\"outlinewidth\":0,\"ticks\":\"\"}},\"marker\":{\"colorbar\":{\"outlinewidth\":0,\"ticks\":\"\"}}}],\"scattermapbox\":[{\"type\":\"scattermapbox\",\"marker\":{\"colorbar\":{\"outlinewidth\":0,\"ticks\":\"\"}}}],\"scatterternary\":[{\"type\":\"scatterternary\",\"marker\":{\"colorbar\":{\"outlinewidth\":0,\"ticks\":\"\"}}}],\"scattercarpet\":[{\"type\":\"scattercarpet\",\"marker\":{\"colorbar\":{\"outlinewidth\":0,\"ticks\":\"\"}}}],\"carpet\":[{\"aaxis\":{\"endlinecolor\":\"#2a3f5f\",\"gridcolor\":\"white\",\"linecolor\":\"white\",\"minorgridcolor\":\"white\",\"startlinecolor\":\"#2a3f5f\"},\"baxis\":{\"endlinecolor\":\"#2a3f5f\",\"gridcolor\":\"white\",\"linecolor\":\"white\",\"minorgridcolor\":\"white\",\"startlinecolor\":\"#2a3f5f\"},\"type\":\"carpet\"}],\"table\":[{\"cells\":{\"fill\":{\"color\":\"#EBF0F8\"},\"line\":{\"color\":\"white\"}},\"header\":{\"fill\":{\"color\":\"#C8D4E3\"},\"line\":{\"color\":\"white\"}},\"type\":\"table\"}],\"barpolar\":[{\"marker\":{\"line\":{\"color\":\"#E5ECF6\",\"width\":0.5},\"pattern\":{\"fillmode\":\"overlay\",\"size\":10,\"solidity\":0.2}},\"type\":\"barpolar\"}],\"pie\":[{\"automargin\":true,\"type\":\"pie\"}]},\"layout\":{\"autotypenumbers\":\"strict\",\"colorway\":[\"#636efa\",\"#EF553B\",\"#00cc96\",\"#ab63fa\",\"#FFA15A\",\"#19d3f3\",\"#FF6692\",\"#B6E880\",\"#FF97FF\",\"#FECB52\"],\"font\":{\"color\":\"#2a3f5f\"},\"hovermode\":\"closest\",\"hoverlabel\":{\"align\":\"left\"},\"paper_bgcolor\":\"white\",\"plot_bgcolor\":\"#E5ECF6\",\"polar\":{\"bgcolor\":\"#E5ECF6\",\"angularaxis\":{\"gridcolor\":\"white\",\"linecolor\":\"white\",\"ticks\":\"\"},\"radialaxis\":{\"gridcolor\":\"white\",\"linecolor\":\"white\",\"ticks\":\"\"}},\"ternary\":{\"bgcolor\":\"#E5ECF6\",\"aaxis\":{\"gridcolor\":\"white\",\"linecolor\":\"white\",\"ticks\":\"\"},\"baxis\":{\"gridcolor\":\"white\",\"linecolor\":\"white\",\"ticks\":\"\"},\"caxis\":{\"gridcolor\":\"white\",\"linecolor\":\"white\",\"ticks\":\"\"}},\"coloraxis\":{\"colorbar\":{\"outlinewidth\":0,\"ticks\":\"\"}},\"colorscale\":{\"sequential\":[[0.0,\"#0d0887\"],[0.1111111111111111,\"#46039f\"],[0.2222222222222222,\"#7201a8\"],[0.3333333333333333,\"#9c179e\"],[0.4444444444444444,\"#bd3786\"],[0.5555555555555556,\"#d8576b\"],[0.6666666666666666,\"#ed7953\"],[0.7777777777777778,\"#fb9f3a\"],[0.8888888888888888,\"#fdca26\"],[1.0,\"#f0f921\"]],\"sequentialminus\":[[0.0,\"#0d0887\"],[0.1111111111111111,\"#46039f\"],[0.2222222222222222,\"#7201a8\"],[0.3333333333333333,\"#9c179e\"],[0.4444444444444444,\"#bd3786\"],[0.5555555555555556,\"#d8576b\"],[0.6666666666666666,\"#ed7953\"],[0.7777777777777778,\"#fb9f3a\"],[0.8888888888888888,\"#fdca26\"],[1.0,\"#f0f921\"]],\"diverging\":[[0,\"#8e0152\"],[0.1,\"#c51b7d\"],[0.2,\"#de77ae\"],[0.3,\"#f1b6da\"],[0.4,\"#fde0ef\"],[0.5,\"#f7f7f7\"],[0.6,\"#e6f5d0\"],[0.7,\"#b8e186\"],[0.8,\"#7fbc41\"],[0.9,\"#4d9221\"],[1,\"#276419\"]]},\"xaxis\":{\"gridcolor\":\"white\",\"linecolor\":\"white\",\"ticks\":\"\",\"title\":{\"standoff\":15},\"zerolinecolor\":\"white\",\"automargin\":true,\"zerolinewidth\":2},\"yaxis\":{\"gridcolor\":\"white\",\"linecolor\":\"white\",\"ticks\":\"\",\"title\":{\"standoff\":15},\"zerolinecolor\":\"white\",\"automargin\":true,\"zerolinewidth\":2},\"scene\":{\"xaxis\":{\"backgroundcolor\":\"#E5ECF6\",\"gridcolor\":\"white\",\"linecolor\":\"white\",\"showbackground\":true,\"ticks\":\"\",\"zerolinecolor\":\"white\",\"gridwidth\":2},\"yaxis\":{\"backgroundcolor\":\"#E5ECF6\",\"gridcolor\":\"white\",\"linecolor\":\"white\",\"showbackground\":true,\"ticks\":\"\",\"zerolinecolor\":\"white\",\"gridwidth\":2},\"zaxis\":{\"backgroundcolor\":\"#E5ECF6\",\"gridcolor\":\"white\",\"linecolor\":\"white\",\"showbackground\":true,\"ticks\":\"\",\"zerolinecolor\":\"white\",\"gridwidth\":2}},\"shapedefaults\":{\"line\":{\"color\":\"#2a3f5f\"}},\"annotationdefaults\":{\"arrowcolor\":\"#2a3f5f\",\"arrowhead\":0,\"arrowwidth\":1},\"geo\":{\"bgcolor\":\"white\",\"landcolor\":\"#E5ECF6\",\"subunitcolor\":\"white\",\"showland\":true,\"showlakes\":true,\"lakecolor\":\"white\"},\"title\":{\"x\":0.05},\"mapbox\":{\"style\":\"light\"}}},\"title\":{\"text\":\"Which are the most rated Movies for Rotten Tomatoes?\"},\"uniformtext\":{\"minsize\":8,\"mode\":\"hide\"},\"yaxis\":{\"title\":{\"text\":\"Rotten Tomatoes Score\",\"font\":{\"size\":14}}},\"xaxis\":{\"title\":{\"text\":\"Titles\",\"font\":{\"size\":14}}}},                        {\"responsive\": true}                    ).then(function(){\n",
              "                            \n",
              "var gd = document.getElementById('cfa103ed-d627-4b69-8aa7-808a47c18013');\n",
              "var x = new MutationObserver(function (mutations, observer) {{\n",
              "        var display = window.getComputedStyle(gd).display;\n",
              "        if (!display || display === 'none') {{\n",
              "            console.log([gd, 'removed!']);\n",
              "            Plotly.purge(gd);\n",
              "            observer.disconnect();\n",
              "        }}\n",
              "}});\n",
              "\n",
              "// Listen for the removal of the full notebook cells\n",
              "var notebookContainer = gd.closest('#notebook-container');\n",
              "if (notebookContainer) {{\n",
              "    x.observe(notebookContainer, {childList: true});\n",
              "}}\n",
              "\n",
              "// Listen for the clearing of the current output cell\n",
              "var outputEl = gd.closest('.output');\n",
              "if (outputEl) {{\n",
              "    x.observe(outputEl, {childList: true});\n",
              "}}\n",
              "\n",
              "                        })                };                            </script>        </div>\n",
              "</body>\n",
              "</html>"
            ]
          },
          "metadata": {}
        }
      ]
    },
    {
      "cell_type": "markdown",
      "source": [
        "# Top 15 TV Series"
      ],
      "metadata": {
        "id": "Bi9NGYMUSJJh"
      }
    },
    {
      "cell_type": "code",
      "source": [
        "df_series_awr = df_series.dropna(subset=['Awards Received'])\n",
        "df_series_awr = df_series_awr.sort_values(by = 'Awards Received', ascending = False)\n",
        "top_s_awr_15_list = df_series_awr[:15]"
      ],
      "metadata": {
        "id": "9WjsG9qsSA7k"
      },
      "execution_count": null,
      "outputs": []
    },
    {
      "cell_type": "code",
      "source": [
        "colors_15 = ['DarkRed', 'FireBrick', 'FireBrick' ,'Red', 'Crimson', 'Crimson', 'IndianRed' , 'slategray', 'slategray' , 'gray' , 'gray', 'dimgrey', 'dimgrey', 'DarkSlateGrey', 'black']\n",
        "fig = go.Figure(data=[go.Bar(\n",
        "    x = top_s_awr_15_list['Title'],\n",
        "    y = top_s_awr_15_list['Awards Received'],\n",
        "    text = top_s_awr_15_list['Awards Received'],\n",
        "    textposition='auto',\n",
        "    marker_color=colors_15\n",
        ")])\n",
        "fig.update_traces(texttemplate='%{text:.2s}', textposition='outside')\n",
        "fig.update_layout(title_text= 'Which are the 15 TV series that have received the most awards?',\n",
        "                  uniformtext_minsize=8, uniformtext_mode='hide',\n",
        "                  yaxis=dict(\n",
        "                  title='Awards Received',\n",
        "                  titlefont_size=14),\n",
        "                  xaxis=dict(\n",
        "                  title='Titles',\n",
        "                  titlefont_size=14))"
      ],
      "metadata": {
        "colab": {
          "base_uri": "https://localhost:8080/",
          "height": 542
        },
        "id": "0vpif5xPSOmQ",
        "outputId": "ea400e3e-b2dd-4b9c-db11-16eb399c5319"
      },
      "execution_count": null,
      "outputs": [
        {
          "output_type": "display_data",
          "data": {
            "text/html": [
              "<html>\n",
              "<head><meta charset=\"utf-8\" /></head>\n",
              "<body>\n",
              "    <div>            <script src=\"https://cdnjs.cloudflare.com/ajax/libs/mathjax/2.7.5/MathJax.js?config=TeX-AMS-MML_SVG\"></script><script type=\"text/javascript\">if (window.MathJax && window.MathJax.Hub && window.MathJax.Hub.Config) {window.MathJax.Hub.Config({SVG: {font: \"STIX-Web\"}});}</script>                <script type=\"text/javascript\">window.PlotlyConfig = {MathJaxConfig: 'local'};</script>\n",
              "        <script charset=\"utf-8\" src=\"https://cdn.plot.ly/plotly-2.35.2.min.js\"></script>                <div id=\"d894e5dd-0530-476a-ae91-482d5d1320b8\" class=\"plotly-graph-div\" style=\"height:525px; width:100%;\"></div>            <script type=\"text/javascript\">                                    window.PLOTLYENV=window.PLOTLYENV || {};                                    if (document.getElementById(\"d894e5dd-0530-476a-ae91-482d5d1320b8\")) {                    Plotly.newPlot(                        \"d894e5dd-0530-476a-ae91-482d5d1320b8\",                        [{\"marker\":{\"color\":[\"DarkRed\",\"FireBrick\",\"FireBrick\",\"Red\",\"Crimson\",\"Crimson\",\"IndianRed\",\"slategray\",\"slategray\",\"gray\",\"gray\",\"dimgrey\",\"dimgrey\",\"DarkSlateGrey\",\"black\"]},\"text\":[232.0,152.0,127.0,124.0,119.0,97.0,97.0,97.0,96.0,91.0,85.0,80.0,78.0,77.0,76.0],\"textposition\":\"outside\",\"x\":[\"Sesame Street\",\"Breaking Bad\",\"American Horror Story\",\"Spotlight\",\"Modern Family\",\"The People v. O.J. Simpson\",\"Will and Grace\",\"The Assassination of Gianni Versace\",\"The Queens Gambit\",\"Sherlock\",\"Glee\",\"Greys Anatomy\",\"The Walking Dead\",\"Friends\",\"The Big Bang Theory\"],\"y\":[232.0,152.0,127.0,124.0,119.0,97.0,97.0,97.0,96.0,91.0,85.0,80.0,78.0,77.0,76.0],\"type\":\"bar\",\"texttemplate\":\"%{text:.2s}\"}],                        {\"template\":{\"data\":{\"histogram2dcontour\":[{\"type\":\"histogram2dcontour\",\"colorbar\":{\"outlinewidth\":0,\"ticks\":\"\"},\"colorscale\":[[0.0,\"#0d0887\"],[0.1111111111111111,\"#46039f\"],[0.2222222222222222,\"#7201a8\"],[0.3333333333333333,\"#9c179e\"],[0.4444444444444444,\"#bd3786\"],[0.5555555555555556,\"#d8576b\"],[0.6666666666666666,\"#ed7953\"],[0.7777777777777778,\"#fb9f3a\"],[0.8888888888888888,\"#fdca26\"],[1.0,\"#f0f921\"]]}],\"choropleth\":[{\"type\":\"choropleth\",\"colorbar\":{\"outlinewidth\":0,\"ticks\":\"\"}}],\"histogram2d\":[{\"type\":\"histogram2d\",\"colorbar\":{\"outlinewidth\":0,\"ticks\":\"\"},\"colorscale\":[[0.0,\"#0d0887\"],[0.1111111111111111,\"#46039f\"],[0.2222222222222222,\"#7201a8\"],[0.3333333333333333,\"#9c179e\"],[0.4444444444444444,\"#bd3786\"],[0.5555555555555556,\"#d8576b\"],[0.6666666666666666,\"#ed7953\"],[0.7777777777777778,\"#fb9f3a\"],[0.8888888888888888,\"#fdca26\"],[1.0,\"#f0f921\"]]}],\"heatmap\":[{\"type\":\"heatmap\",\"colorbar\":{\"outlinewidth\":0,\"ticks\":\"\"},\"colorscale\":[[0.0,\"#0d0887\"],[0.1111111111111111,\"#46039f\"],[0.2222222222222222,\"#7201a8\"],[0.3333333333333333,\"#9c179e\"],[0.4444444444444444,\"#bd3786\"],[0.5555555555555556,\"#d8576b\"],[0.6666666666666666,\"#ed7953\"],[0.7777777777777778,\"#fb9f3a\"],[0.8888888888888888,\"#fdca26\"],[1.0,\"#f0f921\"]]}],\"heatmapgl\":[{\"type\":\"heatmapgl\",\"colorbar\":{\"outlinewidth\":0,\"ticks\":\"\"},\"colorscale\":[[0.0,\"#0d0887\"],[0.1111111111111111,\"#46039f\"],[0.2222222222222222,\"#7201a8\"],[0.3333333333333333,\"#9c179e\"],[0.4444444444444444,\"#bd3786\"],[0.5555555555555556,\"#d8576b\"],[0.6666666666666666,\"#ed7953\"],[0.7777777777777778,\"#fb9f3a\"],[0.8888888888888888,\"#fdca26\"],[1.0,\"#f0f921\"]]}],\"contourcarpet\":[{\"type\":\"contourcarpet\",\"colorbar\":{\"outlinewidth\":0,\"ticks\":\"\"}}],\"contour\":[{\"type\":\"contour\",\"colorbar\":{\"outlinewidth\":0,\"ticks\":\"\"},\"colorscale\":[[0.0,\"#0d0887\"],[0.1111111111111111,\"#46039f\"],[0.2222222222222222,\"#7201a8\"],[0.3333333333333333,\"#9c179e\"],[0.4444444444444444,\"#bd3786\"],[0.5555555555555556,\"#d8576b\"],[0.6666666666666666,\"#ed7953\"],[0.7777777777777778,\"#fb9f3a\"],[0.8888888888888888,\"#fdca26\"],[1.0,\"#f0f921\"]]}],\"surface\":[{\"type\":\"surface\",\"colorbar\":{\"outlinewidth\":0,\"ticks\":\"\"},\"colorscale\":[[0.0,\"#0d0887\"],[0.1111111111111111,\"#46039f\"],[0.2222222222222222,\"#7201a8\"],[0.3333333333333333,\"#9c179e\"],[0.4444444444444444,\"#bd3786\"],[0.5555555555555556,\"#d8576b\"],[0.6666666666666666,\"#ed7953\"],[0.7777777777777778,\"#fb9f3a\"],[0.8888888888888888,\"#fdca26\"],[1.0,\"#f0f921\"]]}],\"mesh3d\":[{\"type\":\"mesh3d\",\"colorbar\":{\"outlinewidth\":0,\"ticks\":\"\"}}],\"scatter\":[{\"fillpattern\":{\"fillmode\":\"overlay\",\"size\":10,\"solidity\":0.2},\"type\":\"scatter\"}],\"parcoords\":[{\"type\":\"parcoords\",\"line\":{\"colorbar\":{\"outlinewidth\":0,\"ticks\":\"\"}}}],\"scatterpolargl\":[{\"type\":\"scatterpolargl\",\"marker\":{\"colorbar\":{\"outlinewidth\":0,\"ticks\":\"\"}}}],\"bar\":[{\"error_x\":{\"color\":\"#2a3f5f\"},\"error_y\":{\"color\":\"#2a3f5f\"},\"marker\":{\"line\":{\"color\":\"#E5ECF6\",\"width\":0.5},\"pattern\":{\"fillmode\":\"overlay\",\"size\":10,\"solidity\":0.2}},\"type\":\"bar\"}],\"scattergeo\":[{\"type\":\"scattergeo\",\"marker\":{\"colorbar\":{\"outlinewidth\":0,\"ticks\":\"\"}}}],\"scatterpolar\":[{\"type\":\"scatterpolar\",\"marker\":{\"colorbar\":{\"outlinewidth\":0,\"ticks\":\"\"}}}],\"histogram\":[{\"marker\":{\"pattern\":{\"fillmode\":\"overlay\",\"size\":10,\"solidity\":0.2}},\"type\":\"histogram\"}],\"scattergl\":[{\"type\":\"scattergl\",\"marker\":{\"colorbar\":{\"outlinewidth\":0,\"ticks\":\"\"}}}],\"scatter3d\":[{\"type\":\"scatter3d\",\"line\":{\"colorbar\":{\"outlinewidth\":0,\"ticks\":\"\"}},\"marker\":{\"colorbar\":{\"outlinewidth\":0,\"ticks\":\"\"}}}],\"scattermapbox\":[{\"type\":\"scattermapbox\",\"marker\":{\"colorbar\":{\"outlinewidth\":0,\"ticks\":\"\"}}}],\"scatterternary\":[{\"type\":\"scatterternary\",\"marker\":{\"colorbar\":{\"outlinewidth\":0,\"ticks\":\"\"}}}],\"scattercarpet\":[{\"type\":\"scattercarpet\",\"marker\":{\"colorbar\":{\"outlinewidth\":0,\"ticks\":\"\"}}}],\"carpet\":[{\"aaxis\":{\"endlinecolor\":\"#2a3f5f\",\"gridcolor\":\"white\",\"linecolor\":\"white\",\"minorgridcolor\":\"white\",\"startlinecolor\":\"#2a3f5f\"},\"baxis\":{\"endlinecolor\":\"#2a3f5f\",\"gridcolor\":\"white\",\"linecolor\":\"white\",\"minorgridcolor\":\"white\",\"startlinecolor\":\"#2a3f5f\"},\"type\":\"carpet\"}],\"table\":[{\"cells\":{\"fill\":{\"color\":\"#EBF0F8\"},\"line\":{\"color\":\"white\"}},\"header\":{\"fill\":{\"color\":\"#C8D4E3\"},\"line\":{\"color\":\"white\"}},\"type\":\"table\"}],\"barpolar\":[{\"marker\":{\"line\":{\"color\":\"#E5ECF6\",\"width\":0.5},\"pattern\":{\"fillmode\":\"overlay\",\"size\":10,\"solidity\":0.2}},\"type\":\"barpolar\"}],\"pie\":[{\"automargin\":true,\"type\":\"pie\"}]},\"layout\":{\"autotypenumbers\":\"strict\",\"colorway\":[\"#636efa\",\"#EF553B\",\"#00cc96\",\"#ab63fa\",\"#FFA15A\",\"#19d3f3\",\"#FF6692\",\"#B6E880\",\"#FF97FF\",\"#FECB52\"],\"font\":{\"color\":\"#2a3f5f\"},\"hovermode\":\"closest\",\"hoverlabel\":{\"align\":\"left\"},\"paper_bgcolor\":\"white\",\"plot_bgcolor\":\"#E5ECF6\",\"polar\":{\"bgcolor\":\"#E5ECF6\",\"angularaxis\":{\"gridcolor\":\"white\",\"linecolor\":\"white\",\"ticks\":\"\"},\"radialaxis\":{\"gridcolor\":\"white\",\"linecolor\":\"white\",\"ticks\":\"\"}},\"ternary\":{\"bgcolor\":\"#E5ECF6\",\"aaxis\":{\"gridcolor\":\"white\",\"linecolor\":\"white\",\"ticks\":\"\"},\"baxis\":{\"gridcolor\":\"white\",\"linecolor\":\"white\",\"ticks\":\"\"},\"caxis\":{\"gridcolor\":\"white\",\"linecolor\":\"white\",\"ticks\":\"\"}},\"coloraxis\":{\"colorbar\":{\"outlinewidth\":0,\"ticks\":\"\"}},\"colorscale\":{\"sequential\":[[0.0,\"#0d0887\"],[0.1111111111111111,\"#46039f\"],[0.2222222222222222,\"#7201a8\"],[0.3333333333333333,\"#9c179e\"],[0.4444444444444444,\"#bd3786\"],[0.5555555555555556,\"#d8576b\"],[0.6666666666666666,\"#ed7953\"],[0.7777777777777778,\"#fb9f3a\"],[0.8888888888888888,\"#fdca26\"],[1.0,\"#f0f921\"]],\"sequentialminus\":[[0.0,\"#0d0887\"],[0.1111111111111111,\"#46039f\"],[0.2222222222222222,\"#7201a8\"],[0.3333333333333333,\"#9c179e\"],[0.4444444444444444,\"#bd3786\"],[0.5555555555555556,\"#d8576b\"],[0.6666666666666666,\"#ed7953\"],[0.7777777777777778,\"#fb9f3a\"],[0.8888888888888888,\"#fdca26\"],[1.0,\"#f0f921\"]],\"diverging\":[[0,\"#8e0152\"],[0.1,\"#c51b7d\"],[0.2,\"#de77ae\"],[0.3,\"#f1b6da\"],[0.4,\"#fde0ef\"],[0.5,\"#f7f7f7\"],[0.6,\"#e6f5d0\"],[0.7,\"#b8e186\"],[0.8,\"#7fbc41\"],[0.9,\"#4d9221\"],[1,\"#276419\"]]},\"xaxis\":{\"gridcolor\":\"white\",\"linecolor\":\"white\",\"ticks\":\"\",\"title\":{\"standoff\":15},\"zerolinecolor\":\"white\",\"automargin\":true,\"zerolinewidth\":2},\"yaxis\":{\"gridcolor\":\"white\",\"linecolor\":\"white\",\"ticks\":\"\",\"title\":{\"standoff\":15},\"zerolinecolor\":\"white\",\"automargin\":true,\"zerolinewidth\":2},\"scene\":{\"xaxis\":{\"backgroundcolor\":\"#E5ECF6\",\"gridcolor\":\"white\",\"linecolor\":\"white\",\"showbackground\":true,\"ticks\":\"\",\"zerolinecolor\":\"white\",\"gridwidth\":2},\"yaxis\":{\"backgroundcolor\":\"#E5ECF6\",\"gridcolor\":\"white\",\"linecolor\":\"white\",\"showbackground\":true,\"ticks\":\"\",\"zerolinecolor\":\"white\",\"gridwidth\":2},\"zaxis\":{\"backgroundcolor\":\"#E5ECF6\",\"gridcolor\":\"white\",\"linecolor\":\"white\",\"showbackground\":true,\"ticks\":\"\",\"zerolinecolor\":\"white\",\"gridwidth\":2}},\"shapedefaults\":{\"line\":{\"color\":\"#2a3f5f\"}},\"annotationdefaults\":{\"arrowcolor\":\"#2a3f5f\",\"arrowhead\":0,\"arrowwidth\":1},\"geo\":{\"bgcolor\":\"white\",\"landcolor\":\"#E5ECF6\",\"subunitcolor\":\"white\",\"showland\":true,\"showlakes\":true,\"lakecolor\":\"white\"},\"title\":{\"x\":0.05},\"mapbox\":{\"style\":\"light\"}}},\"title\":{\"text\":\"Which are the 15 TV series that have received the most awards?\"},\"uniformtext\":{\"minsize\":8,\"mode\":\"hide\"},\"yaxis\":{\"title\":{\"text\":\"Awards Received\",\"font\":{\"size\":14}}},\"xaxis\":{\"title\":{\"text\":\"Titles\",\"font\":{\"size\":14}}}},                        {\"responsive\": true}                    ).then(function(){\n",
              "                            \n",
              "var gd = document.getElementById('d894e5dd-0530-476a-ae91-482d5d1320b8');\n",
              "var x = new MutationObserver(function (mutations, observer) {{\n",
              "        var display = window.getComputedStyle(gd).display;\n",
              "        if (!display || display === 'none') {{\n",
              "            console.log([gd, 'removed!']);\n",
              "            Plotly.purge(gd);\n",
              "            observer.disconnect();\n",
              "        }}\n",
              "}});\n",
              "\n",
              "// Listen for the removal of the full notebook cells\n",
              "var notebookContainer = gd.closest('#notebook-container');\n",
              "if (notebookContainer) {{\n",
              "    x.observe(notebookContainer, {childList: true});\n",
              "}}\n",
              "\n",
              "// Listen for the clearing of the current output cell\n",
              "var outputEl = gd.closest('.output');\n",
              "if (outputEl) {{\n",
              "    x.observe(outputEl, {childList: true});\n",
              "}}\n",
              "\n",
              "                        })                };                            </script>        </div>\n",
              "</body>\n",
              "</html>"
            ]
          },
          "metadata": {}
        }
      ]
    },
    {
      "cell_type": "markdown",
      "source": [
        "# Top 15 Movies"
      ],
      "metadata": {
        "id": "M4umg2FXSSyJ"
      }
    },
    {
      "cell_type": "code",
      "source": [
        "df_movie_awr = df_movie.dropna(subset=['Awards Received'])\n",
        "df_movie_awr = df_movie_awr.sort_values(by = 'Awards Received', ascending = False)\n",
        "top_m_awr_15_list = df_movie_awr[:15]"
      ],
      "metadata": {
        "id": "aZfM2UQtSQ5w"
      },
      "execution_count": null,
      "outputs": []
    },
    {
      "cell_type": "code",
      "source": [
        "fig = go.Figure(data=[go.Bar(\n",
        "    x = top_m_awr_15_list['Title'],\n",
        "    y = top_m_awr_15_list['Awards Received'],\n",
        "    text = top_m_awr_15_list['Awards Received'],\n",
        "    textposition='auto',\n",
        "    marker_color=colors_15\n",
        ")])\n",
        "fig.update_traces(texttemplate='%{text:.2s}', textposition='outside')\n",
        "fig.update_layout(title_text= 'Which are the 15 Movies that have received the most awards?',\n",
        "                  uniformtext_minsize=8, uniformtext_mode='hide',\n",
        "                  yaxis=dict(\n",
        "                  title='Awards Received',\n",
        "                  titlefont_size=14),\n",
        "                  xaxis=dict(\n",
        "                  title='Titles',\n",
        "                  titlefont_size=14))"
      ],
      "metadata": {
        "colab": {
          "base_uri": "https://localhost:8080/",
          "height": 542
        },
        "id": "PYVxWbxySWvD",
        "outputId": "84b1ecfe-b174-40dc-a72c-ad8ac2e79b9e"
      },
      "execution_count": null,
      "outputs": [
        {
          "output_type": "display_data",
          "data": {
            "text/html": [
              "<html>\n",
              "<head><meta charset=\"utf-8\" /></head>\n",
              "<body>\n",
              "    <div>            <script src=\"https://cdnjs.cloudflare.com/ajax/libs/mathjax/2.7.5/MathJax.js?config=TeX-AMS-MML_SVG\"></script><script type=\"text/javascript\">if (window.MathJax && window.MathJax.Hub && window.MathJax.Hub.Config) {window.MathJax.Hub.Config({SVG: {font: \"STIX-Web\"}});}</script>                <script type=\"text/javascript\">window.PlotlyConfig = {MathJaxConfig: 'local'};</script>\n",
              "        <script charset=\"utf-8\" src=\"https://cdn.plot.ly/plotly-2.35.2.min.js\"></script>                <div id=\"f9a3945b-516f-4855-a100-60fad1551591\" class=\"plotly-graph-div\" style=\"height:525px; width:100%;\"></div>            <script type=\"text/javascript\">                                    window.PLOTLYENV=window.PLOTLYENV || {};                                    if (document.getElementById(\"f9a3945b-516f-4855-a100-60fad1551591\")) {                    Plotly.newPlot(                        \"f9a3945b-516f-4855-a100-60fad1551591\",                        [{\"marker\":{\"color\":[\"DarkRed\",\"FireBrick\",\"FireBrick\",\"Red\",\"Crimson\",\"Crimson\",\"IndianRed\",\"slategray\",\"slategray\",\"gray\",\"gray\",\"dimgrey\",\"dimgrey\",\"DarkSlateGrey\",\"black\"]},\"text\":[300.0,251.0,242.0,242.0,241.0,239.0,229.0,210.0,194.0,173.0,164.0,161.0,158.0,156.0,154.0],\"textposition\":\"outside\",\"x\":[\"Parasite\",\"ROMA\",\"12 Years a Slave\",\"La La Land\",\"Mad Max: Fury Road\",\"Gravity\",\"Moonlight\",\"The Lord of the Rings: The Return of the King\",\"Birdman or (The Unexpected Virtue of Ignorance)\",\"The Social Network\",\"No Country for Old Men\",\"The Artist\",\"The Dark Knight\",\"Inception\",\"Slumdog Millionaire\"],\"y\":[300.0,251.0,242.0,242.0,241.0,239.0,229.0,210.0,194.0,173.0,164.0,161.0,158.0,156.0,154.0],\"type\":\"bar\",\"texttemplate\":\"%{text:.2s}\"}],                        {\"template\":{\"data\":{\"histogram2dcontour\":[{\"type\":\"histogram2dcontour\",\"colorbar\":{\"outlinewidth\":0,\"ticks\":\"\"},\"colorscale\":[[0.0,\"#0d0887\"],[0.1111111111111111,\"#46039f\"],[0.2222222222222222,\"#7201a8\"],[0.3333333333333333,\"#9c179e\"],[0.4444444444444444,\"#bd3786\"],[0.5555555555555556,\"#d8576b\"],[0.6666666666666666,\"#ed7953\"],[0.7777777777777778,\"#fb9f3a\"],[0.8888888888888888,\"#fdca26\"],[1.0,\"#f0f921\"]]}],\"choropleth\":[{\"type\":\"choropleth\",\"colorbar\":{\"outlinewidth\":0,\"ticks\":\"\"}}],\"histogram2d\":[{\"type\":\"histogram2d\",\"colorbar\":{\"outlinewidth\":0,\"ticks\":\"\"},\"colorscale\":[[0.0,\"#0d0887\"],[0.1111111111111111,\"#46039f\"],[0.2222222222222222,\"#7201a8\"],[0.3333333333333333,\"#9c179e\"],[0.4444444444444444,\"#bd3786\"],[0.5555555555555556,\"#d8576b\"],[0.6666666666666666,\"#ed7953\"],[0.7777777777777778,\"#fb9f3a\"],[0.8888888888888888,\"#fdca26\"],[1.0,\"#f0f921\"]]}],\"heatmap\":[{\"type\":\"heatmap\",\"colorbar\":{\"outlinewidth\":0,\"ticks\":\"\"},\"colorscale\":[[0.0,\"#0d0887\"],[0.1111111111111111,\"#46039f\"],[0.2222222222222222,\"#7201a8\"],[0.3333333333333333,\"#9c179e\"],[0.4444444444444444,\"#bd3786\"],[0.5555555555555556,\"#d8576b\"],[0.6666666666666666,\"#ed7953\"],[0.7777777777777778,\"#fb9f3a\"],[0.8888888888888888,\"#fdca26\"],[1.0,\"#f0f921\"]]}],\"heatmapgl\":[{\"type\":\"heatmapgl\",\"colorbar\":{\"outlinewidth\":0,\"ticks\":\"\"},\"colorscale\":[[0.0,\"#0d0887\"],[0.1111111111111111,\"#46039f\"],[0.2222222222222222,\"#7201a8\"],[0.3333333333333333,\"#9c179e\"],[0.4444444444444444,\"#bd3786\"],[0.5555555555555556,\"#d8576b\"],[0.6666666666666666,\"#ed7953\"],[0.7777777777777778,\"#fb9f3a\"],[0.8888888888888888,\"#fdca26\"],[1.0,\"#f0f921\"]]}],\"contourcarpet\":[{\"type\":\"contourcarpet\",\"colorbar\":{\"outlinewidth\":0,\"ticks\":\"\"}}],\"contour\":[{\"type\":\"contour\",\"colorbar\":{\"outlinewidth\":0,\"ticks\":\"\"},\"colorscale\":[[0.0,\"#0d0887\"],[0.1111111111111111,\"#46039f\"],[0.2222222222222222,\"#7201a8\"],[0.3333333333333333,\"#9c179e\"],[0.4444444444444444,\"#bd3786\"],[0.5555555555555556,\"#d8576b\"],[0.6666666666666666,\"#ed7953\"],[0.7777777777777778,\"#fb9f3a\"],[0.8888888888888888,\"#fdca26\"],[1.0,\"#f0f921\"]]}],\"surface\":[{\"type\":\"surface\",\"colorbar\":{\"outlinewidth\":0,\"ticks\":\"\"},\"colorscale\":[[0.0,\"#0d0887\"],[0.1111111111111111,\"#46039f\"],[0.2222222222222222,\"#7201a8\"],[0.3333333333333333,\"#9c179e\"],[0.4444444444444444,\"#bd3786\"],[0.5555555555555556,\"#d8576b\"],[0.6666666666666666,\"#ed7953\"],[0.7777777777777778,\"#fb9f3a\"],[0.8888888888888888,\"#fdca26\"],[1.0,\"#f0f921\"]]}],\"mesh3d\":[{\"type\":\"mesh3d\",\"colorbar\":{\"outlinewidth\":0,\"ticks\":\"\"}}],\"scatter\":[{\"fillpattern\":{\"fillmode\":\"overlay\",\"size\":10,\"solidity\":0.2},\"type\":\"scatter\"}],\"parcoords\":[{\"type\":\"parcoords\",\"line\":{\"colorbar\":{\"outlinewidth\":0,\"ticks\":\"\"}}}],\"scatterpolargl\":[{\"type\":\"scatterpolargl\",\"marker\":{\"colorbar\":{\"outlinewidth\":0,\"ticks\":\"\"}}}],\"bar\":[{\"error_x\":{\"color\":\"#2a3f5f\"},\"error_y\":{\"color\":\"#2a3f5f\"},\"marker\":{\"line\":{\"color\":\"#E5ECF6\",\"width\":0.5},\"pattern\":{\"fillmode\":\"overlay\",\"size\":10,\"solidity\":0.2}},\"type\":\"bar\"}],\"scattergeo\":[{\"type\":\"scattergeo\",\"marker\":{\"colorbar\":{\"outlinewidth\":0,\"ticks\":\"\"}}}],\"scatterpolar\":[{\"type\":\"scatterpolar\",\"marker\":{\"colorbar\":{\"outlinewidth\":0,\"ticks\":\"\"}}}],\"histogram\":[{\"marker\":{\"pattern\":{\"fillmode\":\"overlay\",\"size\":10,\"solidity\":0.2}},\"type\":\"histogram\"}],\"scattergl\":[{\"type\":\"scattergl\",\"marker\":{\"colorbar\":{\"outlinewidth\":0,\"ticks\":\"\"}}}],\"scatter3d\":[{\"type\":\"scatter3d\",\"line\":{\"colorbar\":{\"outlinewidth\":0,\"ticks\":\"\"}},\"marker\":{\"colorbar\":{\"outlinewidth\":0,\"ticks\":\"\"}}}],\"scattermapbox\":[{\"type\":\"scattermapbox\",\"marker\":{\"colorbar\":{\"outlinewidth\":0,\"ticks\":\"\"}}}],\"scatterternary\":[{\"type\":\"scatterternary\",\"marker\":{\"colorbar\":{\"outlinewidth\":0,\"ticks\":\"\"}}}],\"scattercarpet\":[{\"type\":\"scattercarpet\",\"marker\":{\"colorbar\":{\"outlinewidth\":0,\"ticks\":\"\"}}}],\"carpet\":[{\"aaxis\":{\"endlinecolor\":\"#2a3f5f\",\"gridcolor\":\"white\",\"linecolor\":\"white\",\"minorgridcolor\":\"white\",\"startlinecolor\":\"#2a3f5f\"},\"baxis\":{\"endlinecolor\":\"#2a3f5f\",\"gridcolor\":\"white\",\"linecolor\":\"white\",\"minorgridcolor\":\"white\",\"startlinecolor\":\"#2a3f5f\"},\"type\":\"carpet\"}],\"table\":[{\"cells\":{\"fill\":{\"color\":\"#EBF0F8\"},\"line\":{\"color\":\"white\"}},\"header\":{\"fill\":{\"color\":\"#C8D4E3\"},\"line\":{\"color\":\"white\"}},\"type\":\"table\"}],\"barpolar\":[{\"marker\":{\"line\":{\"color\":\"#E5ECF6\",\"width\":0.5},\"pattern\":{\"fillmode\":\"overlay\",\"size\":10,\"solidity\":0.2}},\"type\":\"barpolar\"}],\"pie\":[{\"automargin\":true,\"type\":\"pie\"}]},\"layout\":{\"autotypenumbers\":\"strict\",\"colorway\":[\"#636efa\",\"#EF553B\",\"#00cc96\",\"#ab63fa\",\"#FFA15A\",\"#19d3f3\",\"#FF6692\",\"#B6E880\",\"#FF97FF\",\"#FECB52\"],\"font\":{\"color\":\"#2a3f5f\"},\"hovermode\":\"closest\",\"hoverlabel\":{\"align\":\"left\"},\"paper_bgcolor\":\"white\",\"plot_bgcolor\":\"#E5ECF6\",\"polar\":{\"bgcolor\":\"#E5ECF6\",\"angularaxis\":{\"gridcolor\":\"white\",\"linecolor\":\"white\",\"ticks\":\"\"},\"radialaxis\":{\"gridcolor\":\"white\",\"linecolor\":\"white\",\"ticks\":\"\"}},\"ternary\":{\"bgcolor\":\"#E5ECF6\",\"aaxis\":{\"gridcolor\":\"white\",\"linecolor\":\"white\",\"ticks\":\"\"},\"baxis\":{\"gridcolor\":\"white\",\"linecolor\":\"white\",\"ticks\":\"\"},\"caxis\":{\"gridcolor\":\"white\",\"linecolor\":\"white\",\"ticks\":\"\"}},\"coloraxis\":{\"colorbar\":{\"outlinewidth\":0,\"ticks\":\"\"}},\"colorscale\":{\"sequential\":[[0.0,\"#0d0887\"],[0.1111111111111111,\"#46039f\"],[0.2222222222222222,\"#7201a8\"],[0.3333333333333333,\"#9c179e\"],[0.4444444444444444,\"#bd3786\"],[0.5555555555555556,\"#d8576b\"],[0.6666666666666666,\"#ed7953\"],[0.7777777777777778,\"#fb9f3a\"],[0.8888888888888888,\"#fdca26\"],[1.0,\"#f0f921\"]],\"sequentialminus\":[[0.0,\"#0d0887\"],[0.1111111111111111,\"#46039f\"],[0.2222222222222222,\"#7201a8\"],[0.3333333333333333,\"#9c179e\"],[0.4444444444444444,\"#bd3786\"],[0.5555555555555556,\"#d8576b\"],[0.6666666666666666,\"#ed7953\"],[0.7777777777777778,\"#fb9f3a\"],[0.8888888888888888,\"#fdca26\"],[1.0,\"#f0f921\"]],\"diverging\":[[0,\"#8e0152\"],[0.1,\"#c51b7d\"],[0.2,\"#de77ae\"],[0.3,\"#f1b6da\"],[0.4,\"#fde0ef\"],[0.5,\"#f7f7f7\"],[0.6,\"#e6f5d0\"],[0.7,\"#b8e186\"],[0.8,\"#7fbc41\"],[0.9,\"#4d9221\"],[1,\"#276419\"]]},\"xaxis\":{\"gridcolor\":\"white\",\"linecolor\":\"white\",\"ticks\":\"\",\"title\":{\"standoff\":15},\"zerolinecolor\":\"white\",\"automargin\":true,\"zerolinewidth\":2},\"yaxis\":{\"gridcolor\":\"white\",\"linecolor\":\"white\",\"ticks\":\"\",\"title\":{\"standoff\":15},\"zerolinecolor\":\"white\",\"automargin\":true,\"zerolinewidth\":2},\"scene\":{\"xaxis\":{\"backgroundcolor\":\"#E5ECF6\",\"gridcolor\":\"white\",\"linecolor\":\"white\",\"showbackground\":true,\"ticks\":\"\",\"zerolinecolor\":\"white\",\"gridwidth\":2},\"yaxis\":{\"backgroundcolor\":\"#E5ECF6\",\"gridcolor\":\"white\",\"linecolor\":\"white\",\"showbackground\":true,\"ticks\":\"\",\"zerolinecolor\":\"white\",\"gridwidth\":2},\"zaxis\":{\"backgroundcolor\":\"#E5ECF6\",\"gridcolor\":\"white\",\"linecolor\":\"white\",\"showbackground\":true,\"ticks\":\"\",\"zerolinecolor\":\"white\",\"gridwidth\":2}},\"shapedefaults\":{\"line\":{\"color\":\"#2a3f5f\"}},\"annotationdefaults\":{\"arrowcolor\":\"#2a3f5f\",\"arrowhead\":0,\"arrowwidth\":1},\"geo\":{\"bgcolor\":\"white\",\"landcolor\":\"#E5ECF6\",\"subunitcolor\":\"white\",\"showland\":true,\"showlakes\":true,\"lakecolor\":\"white\"},\"title\":{\"x\":0.05},\"mapbox\":{\"style\":\"light\"}}},\"title\":{\"text\":\"Which are the 15 Movies that have received the most awards?\"},\"uniformtext\":{\"minsize\":8,\"mode\":\"hide\"},\"yaxis\":{\"title\":{\"text\":\"Awards Received\",\"font\":{\"size\":14}}},\"xaxis\":{\"title\":{\"text\":\"Titles\",\"font\":{\"size\":14}}}},                        {\"responsive\": true}                    ).then(function(){\n",
              "                            \n",
              "var gd = document.getElementById('f9a3945b-516f-4855-a100-60fad1551591');\n",
              "var x = new MutationObserver(function (mutations, observer) {{\n",
              "        var display = window.getComputedStyle(gd).display;\n",
              "        if (!display || display === 'none') {{\n",
              "            console.log([gd, 'removed!']);\n",
              "            Plotly.purge(gd);\n",
              "            observer.disconnect();\n",
              "        }}\n",
              "}});\n",
              "\n",
              "// Listen for the removal of the full notebook cells\n",
              "var notebookContainer = gd.closest('#notebook-container');\n",
              "if (notebookContainer) {{\n",
              "    x.observe(notebookContainer, {childList: true});\n",
              "}}\n",
              "\n",
              "// Listen for the clearing of the current output cell\n",
              "var outputEl = gd.closest('.output');\n",
              "if (outputEl) {{\n",
              "    x.observe(outputEl, {childList: true});\n",
              "}}\n",
              "\n",
              "                        })                };                            </script>        </div>\n",
              "</body>\n",
              "</html>"
            ]
          },
          "metadata": {}
        }
      ]
    },
    {
      "cell_type": "markdown",
      "source": [
        "# Productivity Per Year"
      ],
      "metadata": {
        "id": "hu0TFVpgSdBG"
      }
    },
    {
      "cell_type": "markdown",
      "source": [
        "## In Series"
      ],
      "metadata": {
        "id": "ZgtNT_QTSgrB"
      }
    },
    {
      "cell_type": "code",
      "source": [
        "df_series_rel = df_series.dropna(subset=['Released_Year_Net'])"
      ],
      "metadata": {
        "id": "u4Z_Q3LwSYLU"
      },
      "execution_count": null,
      "outputs": []
    },
    {
      "cell_type": "code",
      "source": [
        "series_rel_list = df_series_act['Released_Year_Net']\n",
        "s_rel_list = {}\n",
        "for year in series_rel_list:\n",
        "    if (year in s_rel_list):\n",
        "        s_rel_list[year]+=1\n",
        "    else:\n",
        "        s_rel_list[year]=1\n",
        "s_rel_df = pd.DataFrame(s_rel_list.values(),index = s_rel_list.keys(),\n",
        "                        columns = ['Year Counts'])\n",
        "s_rel_df.sort_values(by = 'Year Counts',ascending = False,inplace = True)\n",
        "top_10_s_rel = s_rel_df[0:10]"
      ],
      "metadata": {
        "id": "XBq7lrzFSs-h"
      },
      "execution_count": null,
      "outputs": []
    },
    {
      "cell_type": "code",
      "source": [
        "fig = go.Figure(data=[go.Bar(\n",
        "    x = top_10_s_rel.index,\n",
        "    y = top_10_s_rel['Year Counts'],\n",
        "    text = top_10_s_rel['Year Counts'],\n",
        "    textposition='auto',\n",
        "    marker_color=colors_10\n",
        ")])\n",
        "fig.update_traces(texttemplate='%{text:.2s}', textposition='outside')\n",
        "fig.update_layout(title_text= 'In which year there have been more Tv Series released ?',\n",
        "                  uniformtext_minsize=8, uniformtext_mode='hide',\n",
        "                  yaxis=dict(\n",
        "                  title='N° of release',\n",
        "                  titlefont_size=14),\n",
        "                  xaxis=dict(\n",
        "                  title='Titles',\n",
        "                  titlefont_size=14))\n"
      ],
      "metadata": {
        "colab": {
          "base_uri": "https://localhost:8080/",
          "height": 542
        },
        "id": "LKRqnu47SutP",
        "outputId": "29a5897c-28f4-4456-cdb3-58ea91de29b5"
      },
      "execution_count": null,
      "outputs": [
        {
          "output_type": "display_data",
          "data": {
            "text/html": [
              "<html>\n",
              "<head><meta charset=\"utf-8\" /></head>\n",
              "<body>\n",
              "    <div>            <script src=\"https://cdnjs.cloudflare.com/ajax/libs/mathjax/2.7.5/MathJax.js?config=TeX-AMS-MML_SVG\"></script><script type=\"text/javascript\">if (window.MathJax && window.MathJax.Hub && window.MathJax.Hub.Config) {window.MathJax.Hub.Config({SVG: {font: \"STIX-Web\"}});}</script>                <script type=\"text/javascript\">window.PlotlyConfig = {MathJaxConfig: 'local'};</script>\n",
              "        <script charset=\"utf-8\" src=\"https://cdn.plot.ly/plotly-2.35.2.min.js\"></script>                <div id=\"9f5d2569-d444-465b-af08-d9278ef30744\" class=\"plotly-graph-div\" style=\"height:525px; width:100%;\"></div>            <script type=\"text/javascript\">                                    window.PLOTLYENV=window.PLOTLYENV || {};                                    if (document.getElementById(\"9f5d2569-d444-465b-af08-d9278ef30744\")) {                    Plotly.newPlot(                        \"9f5d2569-d444-465b-af08-d9278ef30744\",                        [{\"marker\":{\"color\":[\"DarkRed\",\"FireBrick\",\"Red\",\"Crimson\",\"IndianRed\",\"slategray\",\"gray\",\"dimgrey\",\"DarkSlateGrey\",\"black\"]},\"text\":[707.0,584.0,531.0,507.0,411.0,328.0,101.0],\"textposition\":\"outside\",\"x\":[2020,2019,2015,2018,2017,2016,2021],\"y\":[707,584,531,507,411,328,101],\"type\":\"bar\",\"texttemplate\":\"%{text:.2s}\"}],                        {\"template\":{\"data\":{\"histogram2dcontour\":[{\"type\":\"histogram2dcontour\",\"colorbar\":{\"outlinewidth\":0,\"ticks\":\"\"},\"colorscale\":[[0.0,\"#0d0887\"],[0.1111111111111111,\"#46039f\"],[0.2222222222222222,\"#7201a8\"],[0.3333333333333333,\"#9c179e\"],[0.4444444444444444,\"#bd3786\"],[0.5555555555555556,\"#d8576b\"],[0.6666666666666666,\"#ed7953\"],[0.7777777777777778,\"#fb9f3a\"],[0.8888888888888888,\"#fdca26\"],[1.0,\"#f0f921\"]]}],\"choropleth\":[{\"type\":\"choropleth\",\"colorbar\":{\"outlinewidth\":0,\"ticks\":\"\"}}],\"histogram2d\":[{\"type\":\"histogram2d\",\"colorbar\":{\"outlinewidth\":0,\"ticks\":\"\"},\"colorscale\":[[0.0,\"#0d0887\"],[0.1111111111111111,\"#46039f\"],[0.2222222222222222,\"#7201a8\"],[0.3333333333333333,\"#9c179e\"],[0.4444444444444444,\"#bd3786\"],[0.5555555555555556,\"#d8576b\"],[0.6666666666666666,\"#ed7953\"],[0.7777777777777778,\"#fb9f3a\"],[0.8888888888888888,\"#fdca26\"],[1.0,\"#f0f921\"]]}],\"heatmap\":[{\"type\":\"heatmap\",\"colorbar\":{\"outlinewidth\":0,\"ticks\":\"\"},\"colorscale\":[[0.0,\"#0d0887\"],[0.1111111111111111,\"#46039f\"],[0.2222222222222222,\"#7201a8\"],[0.3333333333333333,\"#9c179e\"],[0.4444444444444444,\"#bd3786\"],[0.5555555555555556,\"#d8576b\"],[0.6666666666666666,\"#ed7953\"],[0.7777777777777778,\"#fb9f3a\"],[0.8888888888888888,\"#fdca26\"],[1.0,\"#f0f921\"]]}],\"heatmapgl\":[{\"type\":\"heatmapgl\",\"colorbar\":{\"outlinewidth\":0,\"ticks\":\"\"},\"colorscale\":[[0.0,\"#0d0887\"],[0.1111111111111111,\"#46039f\"],[0.2222222222222222,\"#7201a8\"],[0.3333333333333333,\"#9c179e\"],[0.4444444444444444,\"#bd3786\"],[0.5555555555555556,\"#d8576b\"],[0.6666666666666666,\"#ed7953\"],[0.7777777777777778,\"#fb9f3a\"],[0.8888888888888888,\"#fdca26\"],[1.0,\"#f0f921\"]]}],\"contourcarpet\":[{\"type\":\"contourcarpet\",\"colorbar\":{\"outlinewidth\":0,\"ticks\":\"\"}}],\"contour\":[{\"type\":\"contour\",\"colorbar\":{\"outlinewidth\":0,\"ticks\":\"\"},\"colorscale\":[[0.0,\"#0d0887\"],[0.1111111111111111,\"#46039f\"],[0.2222222222222222,\"#7201a8\"],[0.3333333333333333,\"#9c179e\"],[0.4444444444444444,\"#bd3786\"],[0.5555555555555556,\"#d8576b\"],[0.6666666666666666,\"#ed7953\"],[0.7777777777777778,\"#fb9f3a\"],[0.8888888888888888,\"#fdca26\"],[1.0,\"#f0f921\"]]}],\"surface\":[{\"type\":\"surface\",\"colorbar\":{\"outlinewidth\":0,\"ticks\":\"\"},\"colorscale\":[[0.0,\"#0d0887\"],[0.1111111111111111,\"#46039f\"],[0.2222222222222222,\"#7201a8\"],[0.3333333333333333,\"#9c179e\"],[0.4444444444444444,\"#bd3786\"],[0.5555555555555556,\"#d8576b\"],[0.6666666666666666,\"#ed7953\"],[0.7777777777777778,\"#fb9f3a\"],[0.8888888888888888,\"#fdca26\"],[1.0,\"#f0f921\"]]}],\"mesh3d\":[{\"type\":\"mesh3d\",\"colorbar\":{\"outlinewidth\":0,\"ticks\":\"\"}}],\"scatter\":[{\"fillpattern\":{\"fillmode\":\"overlay\",\"size\":10,\"solidity\":0.2},\"type\":\"scatter\"}],\"parcoords\":[{\"type\":\"parcoords\",\"line\":{\"colorbar\":{\"outlinewidth\":0,\"ticks\":\"\"}}}],\"scatterpolargl\":[{\"type\":\"scatterpolargl\",\"marker\":{\"colorbar\":{\"outlinewidth\":0,\"ticks\":\"\"}}}],\"bar\":[{\"error_x\":{\"color\":\"#2a3f5f\"},\"error_y\":{\"color\":\"#2a3f5f\"},\"marker\":{\"line\":{\"color\":\"#E5ECF6\",\"width\":0.5},\"pattern\":{\"fillmode\":\"overlay\",\"size\":10,\"solidity\":0.2}},\"type\":\"bar\"}],\"scattergeo\":[{\"type\":\"scattergeo\",\"marker\":{\"colorbar\":{\"outlinewidth\":0,\"ticks\":\"\"}}}],\"scatterpolar\":[{\"type\":\"scatterpolar\",\"marker\":{\"colorbar\":{\"outlinewidth\":0,\"ticks\":\"\"}}}],\"histogram\":[{\"marker\":{\"pattern\":{\"fillmode\":\"overlay\",\"size\":10,\"solidity\":0.2}},\"type\":\"histogram\"}],\"scattergl\":[{\"type\":\"scattergl\",\"marker\":{\"colorbar\":{\"outlinewidth\":0,\"ticks\":\"\"}}}],\"scatter3d\":[{\"type\":\"scatter3d\",\"line\":{\"colorbar\":{\"outlinewidth\":0,\"ticks\":\"\"}},\"marker\":{\"colorbar\":{\"outlinewidth\":0,\"ticks\":\"\"}}}],\"scattermapbox\":[{\"type\":\"scattermapbox\",\"marker\":{\"colorbar\":{\"outlinewidth\":0,\"ticks\":\"\"}}}],\"scatterternary\":[{\"type\":\"scatterternary\",\"marker\":{\"colorbar\":{\"outlinewidth\":0,\"ticks\":\"\"}}}],\"scattercarpet\":[{\"type\":\"scattercarpet\",\"marker\":{\"colorbar\":{\"outlinewidth\":0,\"ticks\":\"\"}}}],\"carpet\":[{\"aaxis\":{\"endlinecolor\":\"#2a3f5f\",\"gridcolor\":\"white\",\"linecolor\":\"white\",\"minorgridcolor\":\"white\",\"startlinecolor\":\"#2a3f5f\"},\"baxis\":{\"endlinecolor\":\"#2a3f5f\",\"gridcolor\":\"white\",\"linecolor\":\"white\",\"minorgridcolor\":\"white\",\"startlinecolor\":\"#2a3f5f\"},\"type\":\"carpet\"}],\"table\":[{\"cells\":{\"fill\":{\"color\":\"#EBF0F8\"},\"line\":{\"color\":\"white\"}},\"header\":{\"fill\":{\"color\":\"#C8D4E3\"},\"line\":{\"color\":\"white\"}},\"type\":\"table\"}],\"barpolar\":[{\"marker\":{\"line\":{\"color\":\"#E5ECF6\",\"width\":0.5},\"pattern\":{\"fillmode\":\"overlay\",\"size\":10,\"solidity\":0.2}},\"type\":\"barpolar\"}],\"pie\":[{\"automargin\":true,\"type\":\"pie\"}]},\"layout\":{\"autotypenumbers\":\"strict\",\"colorway\":[\"#636efa\",\"#EF553B\",\"#00cc96\",\"#ab63fa\",\"#FFA15A\",\"#19d3f3\",\"#FF6692\",\"#B6E880\",\"#FF97FF\",\"#FECB52\"],\"font\":{\"color\":\"#2a3f5f\"},\"hovermode\":\"closest\",\"hoverlabel\":{\"align\":\"left\"},\"paper_bgcolor\":\"white\",\"plot_bgcolor\":\"#E5ECF6\",\"polar\":{\"bgcolor\":\"#E5ECF6\",\"angularaxis\":{\"gridcolor\":\"white\",\"linecolor\":\"white\",\"ticks\":\"\"},\"radialaxis\":{\"gridcolor\":\"white\",\"linecolor\":\"white\",\"ticks\":\"\"}},\"ternary\":{\"bgcolor\":\"#E5ECF6\",\"aaxis\":{\"gridcolor\":\"white\",\"linecolor\":\"white\",\"ticks\":\"\"},\"baxis\":{\"gridcolor\":\"white\",\"linecolor\":\"white\",\"ticks\":\"\"},\"caxis\":{\"gridcolor\":\"white\",\"linecolor\":\"white\",\"ticks\":\"\"}},\"coloraxis\":{\"colorbar\":{\"outlinewidth\":0,\"ticks\":\"\"}},\"colorscale\":{\"sequential\":[[0.0,\"#0d0887\"],[0.1111111111111111,\"#46039f\"],[0.2222222222222222,\"#7201a8\"],[0.3333333333333333,\"#9c179e\"],[0.4444444444444444,\"#bd3786\"],[0.5555555555555556,\"#d8576b\"],[0.6666666666666666,\"#ed7953\"],[0.7777777777777778,\"#fb9f3a\"],[0.8888888888888888,\"#fdca26\"],[1.0,\"#f0f921\"]],\"sequentialminus\":[[0.0,\"#0d0887\"],[0.1111111111111111,\"#46039f\"],[0.2222222222222222,\"#7201a8\"],[0.3333333333333333,\"#9c179e\"],[0.4444444444444444,\"#bd3786\"],[0.5555555555555556,\"#d8576b\"],[0.6666666666666666,\"#ed7953\"],[0.7777777777777778,\"#fb9f3a\"],[0.8888888888888888,\"#fdca26\"],[1.0,\"#f0f921\"]],\"diverging\":[[0,\"#8e0152\"],[0.1,\"#c51b7d\"],[0.2,\"#de77ae\"],[0.3,\"#f1b6da\"],[0.4,\"#fde0ef\"],[0.5,\"#f7f7f7\"],[0.6,\"#e6f5d0\"],[0.7,\"#b8e186\"],[0.8,\"#7fbc41\"],[0.9,\"#4d9221\"],[1,\"#276419\"]]},\"xaxis\":{\"gridcolor\":\"white\",\"linecolor\":\"white\",\"ticks\":\"\",\"title\":{\"standoff\":15},\"zerolinecolor\":\"white\",\"automargin\":true,\"zerolinewidth\":2},\"yaxis\":{\"gridcolor\":\"white\",\"linecolor\":\"white\",\"ticks\":\"\",\"title\":{\"standoff\":15},\"zerolinecolor\":\"white\",\"automargin\":true,\"zerolinewidth\":2},\"scene\":{\"xaxis\":{\"backgroundcolor\":\"#E5ECF6\",\"gridcolor\":\"white\",\"linecolor\":\"white\",\"showbackground\":true,\"ticks\":\"\",\"zerolinecolor\":\"white\",\"gridwidth\":2},\"yaxis\":{\"backgroundcolor\":\"#E5ECF6\",\"gridcolor\":\"white\",\"linecolor\":\"white\",\"showbackground\":true,\"ticks\":\"\",\"zerolinecolor\":\"white\",\"gridwidth\":2},\"zaxis\":{\"backgroundcolor\":\"#E5ECF6\",\"gridcolor\":\"white\",\"linecolor\":\"white\",\"showbackground\":true,\"ticks\":\"\",\"zerolinecolor\":\"white\",\"gridwidth\":2}},\"shapedefaults\":{\"line\":{\"color\":\"#2a3f5f\"}},\"annotationdefaults\":{\"arrowcolor\":\"#2a3f5f\",\"arrowhead\":0,\"arrowwidth\":1},\"geo\":{\"bgcolor\":\"white\",\"landcolor\":\"#E5ECF6\",\"subunitcolor\":\"white\",\"showland\":true,\"showlakes\":true,\"lakecolor\":\"white\"},\"title\":{\"x\":0.05},\"mapbox\":{\"style\":\"light\"}}},\"title\":{\"text\":\"In which year there have been more Tv Series released ?\"},\"uniformtext\":{\"minsize\":8,\"mode\":\"hide\"},\"yaxis\":{\"title\":{\"text\":\"N° of release\",\"font\":{\"size\":14}}},\"xaxis\":{\"title\":{\"text\":\"Titles\",\"font\":{\"size\":14}}}},                        {\"responsive\": true}                    ).then(function(){\n",
              "                            \n",
              "var gd = document.getElementById('9f5d2569-d444-465b-af08-d9278ef30744');\n",
              "var x = new MutationObserver(function (mutations, observer) {{\n",
              "        var display = window.getComputedStyle(gd).display;\n",
              "        if (!display || display === 'none') {{\n",
              "            console.log([gd, 'removed!']);\n",
              "            Plotly.purge(gd);\n",
              "            observer.disconnect();\n",
              "        }}\n",
              "}});\n",
              "\n",
              "// Listen for the removal of the full notebook cells\n",
              "var notebookContainer = gd.closest('#notebook-container');\n",
              "if (notebookContainer) {{\n",
              "    x.observe(notebookContainer, {childList: true});\n",
              "}}\n",
              "\n",
              "// Listen for the clearing of the current output cell\n",
              "var outputEl = gd.closest('.output');\n",
              "if (outputEl) {{\n",
              "    x.observe(outputEl, {childList: true});\n",
              "}}\n",
              "\n",
              "                        })                };                            </script>        </div>\n",
              "</body>\n",
              "</html>"
            ]
          },
          "metadata": {}
        }
      ]
    },
    {
      "cell_type": "markdown",
      "source": [
        "## In Movies"
      ],
      "metadata": {
        "id": "Kk2cE1eIS1tp"
      }
    },
    {
      "cell_type": "code",
      "source": [
        "df_movie_rel = df_movie.dropna(subset=['Released_Year_Net'])"
      ],
      "metadata": {
        "id": "VvVQkl_kSwx2"
      },
      "execution_count": null,
      "outputs": []
    },
    {
      "cell_type": "code",
      "source": [
        "movie_rel_list = df_movie_act['Released_Year_Net']\n",
        "m_rel_list = {}\n",
        "for year in movie_rel_list:\n",
        "    if (year in m_rel_list):\n",
        "        m_rel_list[year]+=1\n",
        "    else:\n",
        "        m_rel_list[year]=1\n",
        "m_rel_df = pd.DataFrame(m_rel_list.values(),index = m_rel_list.keys(),\n",
        "                        columns = ['Year Counts'])\n",
        "m_rel_df.sort_values(by = 'Year Counts',ascending = False,inplace = True)\n",
        "top_10_m_rel = m_rel_df[0:10]"
      ],
      "metadata": {
        "id": "Lk_Z8ifkTD-x"
      },
      "execution_count": null,
      "outputs": []
    },
    {
      "cell_type": "code",
      "source": [
        "fig = go.Figure(data=[go.Bar(\n",
        "    x = top_10_m_rel.index,\n",
        "    y = top_10_m_rel['Year Counts'],\n",
        "    text = top_10_m_rel['Year Counts'],\n",
        "    textposition='auto',\n",
        "    marker_color=colors_10\n",
        ")])\n",
        "fig.update_traces(texttemplate='%{text:.2s}', textposition='outside')\n",
        "fig.update_layout(title_text= 'In which year there have been more Movies released ?',\n",
        "                  uniformtext_minsize=8, uniformtext_mode='hide',\n",
        "                  yaxis=dict(\n",
        "                  title='N° of release',\n",
        "                  titlefont_size=14),\n",
        "                  xaxis=dict(\n",
        "                  title='Titles',\n",
        "                  titlefont_size=14))\n"
      ],
      "metadata": {
        "colab": {
          "base_uri": "https://localhost:8080/",
          "height": 542
        },
        "id": "d8SeUNnRTFYx",
        "outputId": "121dee65-19cc-480b-94c8-c4a0998442e1"
      },
      "execution_count": null,
      "outputs": [
        {
          "output_type": "display_data",
          "data": {
            "text/html": [
              "<html>\n",
              "<head><meta charset=\"utf-8\" /></head>\n",
              "<body>\n",
              "    <div>            <script src=\"https://cdnjs.cloudflare.com/ajax/libs/mathjax/2.7.5/MathJax.js?config=TeX-AMS-MML_SVG\"></script><script type=\"text/javascript\">if (window.MathJax && window.MathJax.Hub && window.MathJax.Hub.Config) {window.MathJax.Hub.Config({SVG: {font: \"STIX-Web\"}});}</script>                <script type=\"text/javascript\">window.PlotlyConfig = {MathJaxConfig: 'local'};</script>\n",
              "        <script charset=\"utf-8\" src=\"https://cdn.plot.ly/plotly-2.35.2.min.js\"></script>                <div id=\"5ae85d8d-eb0e-4099-9246-3f750caa2d84\" class=\"plotly-graph-div\" style=\"height:525px; width:100%;\"></div>            <script type=\"text/javascript\">                                    window.PLOTLYENV=window.PLOTLYENV || {};                                    if (document.getElementById(\"5ae85d8d-eb0e-4099-9246-3f750caa2d84\")) {                    Plotly.newPlot(                        \"5ae85d8d-eb0e-4099-9246-3f750caa2d84\",                        [{\"marker\":{\"color\":[\"DarkRed\",\"FireBrick\",\"Red\",\"Crimson\",\"IndianRed\",\"slategray\",\"gray\",\"dimgrey\",\"DarkSlateGrey\",\"black\"]},\"text\":[2655.0,2206.0,1712.0,1424.0,1065.0,925.0,399.0],\"textposition\":\"outside\",\"x\":[2015,2020,2019,2018,2017,2016,2021],\"y\":[2655,2206,1712,1424,1065,925,399],\"type\":\"bar\",\"texttemplate\":\"%{text:.2s}\"}],                        {\"template\":{\"data\":{\"histogram2dcontour\":[{\"type\":\"histogram2dcontour\",\"colorbar\":{\"outlinewidth\":0,\"ticks\":\"\"},\"colorscale\":[[0.0,\"#0d0887\"],[0.1111111111111111,\"#46039f\"],[0.2222222222222222,\"#7201a8\"],[0.3333333333333333,\"#9c179e\"],[0.4444444444444444,\"#bd3786\"],[0.5555555555555556,\"#d8576b\"],[0.6666666666666666,\"#ed7953\"],[0.7777777777777778,\"#fb9f3a\"],[0.8888888888888888,\"#fdca26\"],[1.0,\"#f0f921\"]]}],\"choropleth\":[{\"type\":\"choropleth\",\"colorbar\":{\"outlinewidth\":0,\"ticks\":\"\"}}],\"histogram2d\":[{\"type\":\"histogram2d\",\"colorbar\":{\"outlinewidth\":0,\"ticks\":\"\"},\"colorscale\":[[0.0,\"#0d0887\"],[0.1111111111111111,\"#46039f\"],[0.2222222222222222,\"#7201a8\"],[0.3333333333333333,\"#9c179e\"],[0.4444444444444444,\"#bd3786\"],[0.5555555555555556,\"#d8576b\"],[0.6666666666666666,\"#ed7953\"],[0.7777777777777778,\"#fb9f3a\"],[0.8888888888888888,\"#fdca26\"],[1.0,\"#f0f921\"]]}],\"heatmap\":[{\"type\":\"heatmap\",\"colorbar\":{\"outlinewidth\":0,\"ticks\":\"\"},\"colorscale\":[[0.0,\"#0d0887\"],[0.1111111111111111,\"#46039f\"],[0.2222222222222222,\"#7201a8\"],[0.3333333333333333,\"#9c179e\"],[0.4444444444444444,\"#bd3786\"],[0.5555555555555556,\"#d8576b\"],[0.6666666666666666,\"#ed7953\"],[0.7777777777777778,\"#fb9f3a\"],[0.8888888888888888,\"#fdca26\"],[1.0,\"#f0f921\"]]}],\"heatmapgl\":[{\"type\":\"heatmapgl\",\"colorbar\":{\"outlinewidth\":0,\"ticks\":\"\"},\"colorscale\":[[0.0,\"#0d0887\"],[0.1111111111111111,\"#46039f\"],[0.2222222222222222,\"#7201a8\"],[0.3333333333333333,\"#9c179e\"],[0.4444444444444444,\"#bd3786\"],[0.5555555555555556,\"#d8576b\"],[0.6666666666666666,\"#ed7953\"],[0.7777777777777778,\"#fb9f3a\"],[0.8888888888888888,\"#fdca26\"],[1.0,\"#f0f921\"]]}],\"contourcarpet\":[{\"type\":\"contourcarpet\",\"colorbar\":{\"outlinewidth\":0,\"ticks\":\"\"}}],\"contour\":[{\"type\":\"contour\",\"colorbar\":{\"outlinewidth\":0,\"ticks\":\"\"},\"colorscale\":[[0.0,\"#0d0887\"],[0.1111111111111111,\"#46039f\"],[0.2222222222222222,\"#7201a8\"],[0.3333333333333333,\"#9c179e\"],[0.4444444444444444,\"#bd3786\"],[0.5555555555555556,\"#d8576b\"],[0.6666666666666666,\"#ed7953\"],[0.7777777777777778,\"#fb9f3a\"],[0.8888888888888888,\"#fdca26\"],[1.0,\"#f0f921\"]]}],\"surface\":[{\"type\":\"surface\",\"colorbar\":{\"outlinewidth\":0,\"ticks\":\"\"},\"colorscale\":[[0.0,\"#0d0887\"],[0.1111111111111111,\"#46039f\"],[0.2222222222222222,\"#7201a8\"],[0.3333333333333333,\"#9c179e\"],[0.4444444444444444,\"#bd3786\"],[0.5555555555555556,\"#d8576b\"],[0.6666666666666666,\"#ed7953\"],[0.7777777777777778,\"#fb9f3a\"],[0.8888888888888888,\"#fdca26\"],[1.0,\"#f0f921\"]]}],\"mesh3d\":[{\"type\":\"mesh3d\",\"colorbar\":{\"outlinewidth\":0,\"ticks\":\"\"}}],\"scatter\":[{\"fillpattern\":{\"fillmode\":\"overlay\",\"size\":10,\"solidity\":0.2},\"type\":\"scatter\"}],\"parcoords\":[{\"type\":\"parcoords\",\"line\":{\"colorbar\":{\"outlinewidth\":0,\"ticks\":\"\"}}}],\"scatterpolargl\":[{\"type\":\"scatterpolargl\",\"marker\":{\"colorbar\":{\"outlinewidth\":0,\"ticks\":\"\"}}}],\"bar\":[{\"error_x\":{\"color\":\"#2a3f5f\"},\"error_y\":{\"color\":\"#2a3f5f\"},\"marker\":{\"line\":{\"color\":\"#E5ECF6\",\"width\":0.5},\"pattern\":{\"fillmode\":\"overlay\",\"size\":10,\"solidity\":0.2}},\"type\":\"bar\"}],\"scattergeo\":[{\"type\":\"scattergeo\",\"marker\":{\"colorbar\":{\"outlinewidth\":0,\"ticks\":\"\"}}}],\"scatterpolar\":[{\"type\":\"scatterpolar\",\"marker\":{\"colorbar\":{\"outlinewidth\":0,\"ticks\":\"\"}}}],\"histogram\":[{\"marker\":{\"pattern\":{\"fillmode\":\"overlay\",\"size\":10,\"solidity\":0.2}},\"type\":\"histogram\"}],\"scattergl\":[{\"type\":\"scattergl\",\"marker\":{\"colorbar\":{\"outlinewidth\":0,\"ticks\":\"\"}}}],\"scatter3d\":[{\"type\":\"scatter3d\",\"line\":{\"colorbar\":{\"outlinewidth\":0,\"ticks\":\"\"}},\"marker\":{\"colorbar\":{\"outlinewidth\":0,\"ticks\":\"\"}}}],\"scattermapbox\":[{\"type\":\"scattermapbox\",\"marker\":{\"colorbar\":{\"outlinewidth\":0,\"ticks\":\"\"}}}],\"scatterternary\":[{\"type\":\"scatterternary\",\"marker\":{\"colorbar\":{\"outlinewidth\":0,\"ticks\":\"\"}}}],\"scattercarpet\":[{\"type\":\"scattercarpet\",\"marker\":{\"colorbar\":{\"outlinewidth\":0,\"ticks\":\"\"}}}],\"carpet\":[{\"aaxis\":{\"endlinecolor\":\"#2a3f5f\",\"gridcolor\":\"white\",\"linecolor\":\"white\",\"minorgridcolor\":\"white\",\"startlinecolor\":\"#2a3f5f\"},\"baxis\":{\"endlinecolor\":\"#2a3f5f\",\"gridcolor\":\"white\",\"linecolor\":\"white\",\"minorgridcolor\":\"white\",\"startlinecolor\":\"#2a3f5f\"},\"type\":\"carpet\"}],\"table\":[{\"cells\":{\"fill\":{\"color\":\"#EBF0F8\"},\"line\":{\"color\":\"white\"}},\"header\":{\"fill\":{\"color\":\"#C8D4E3\"},\"line\":{\"color\":\"white\"}},\"type\":\"table\"}],\"barpolar\":[{\"marker\":{\"line\":{\"color\":\"#E5ECF6\",\"width\":0.5},\"pattern\":{\"fillmode\":\"overlay\",\"size\":10,\"solidity\":0.2}},\"type\":\"barpolar\"}],\"pie\":[{\"automargin\":true,\"type\":\"pie\"}]},\"layout\":{\"autotypenumbers\":\"strict\",\"colorway\":[\"#636efa\",\"#EF553B\",\"#00cc96\",\"#ab63fa\",\"#FFA15A\",\"#19d3f3\",\"#FF6692\",\"#B6E880\",\"#FF97FF\",\"#FECB52\"],\"font\":{\"color\":\"#2a3f5f\"},\"hovermode\":\"closest\",\"hoverlabel\":{\"align\":\"left\"},\"paper_bgcolor\":\"white\",\"plot_bgcolor\":\"#E5ECF6\",\"polar\":{\"bgcolor\":\"#E5ECF6\",\"angularaxis\":{\"gridcolor\":\"white\",\"linecolor\":\"white\",\"ticks\":\"\"},\"radialaxis\":{\"gridcolor\":\"white\",\"linecolor\":\"white\",\"ticks\":\"\"}},\"ternary\":{\"bgcolor\":\"#E5ECF6\",\"aaxis\":{\"gridcolor\":\"white\",\"linecolor\":\"white\",\"ticks\":\"\"},\"baxis\":{\"gridcolor\":\"white\",\"linecolor\":\"white\",\"ticks\":\"\"},\"caxis\":{\"gridcolor\":\"white\",\"linecolor\":\"white\",\"ticks\":\"\"}},\"coloraxis\":{\"colorbar\":{\"outlinewidth\":0,\"ticks\":\"\"}},\"colorscale\":{\"sequential\":[[0.0,\"#0d0887\"],[0.1111111111111111,\"#46039f\"],[0.2222222222222222,\"#7201a8\"],[0.3333333333333333,\"#9c179e\"],[0.4444444444444444,\"#bd3786\"],[0.5555555555555556,\"#d8576b\"],[0.6666666666666666,\"#ed7953\"],[0.7777777777777778,\"#fb9f3a\"],[0.8888888888888888,\"#fdca26\"],[1.0,\"#f0f921\"]],\"sequentialminus\":[[0.0,\"#0d0887\"],[0.1111111111111111,\"#46039f\"],[0.2222222222222222,\"#7201a8\"],[0.3333333333333333,\"#9c179e\"],[0.4444444444444444,\"#bd3786\"],[0.5555555555555556,\"#d8576b\"],[0.6666666666666666,\"#ed7953\"],[0.7777777777777778,\"#fb9f3a\"],[0.8888888888888888,\"#fdca26\"],[1.0,\"#f0f921\"]],\"diverging\":[[0,\"#8e0152\"],[0.1,\"#c51b7d\"],[0.2,\"#de77ae\"],[0.3,\"#f1b6da\"],[0.4,\"#fde0ef\"],[0.5,\"#f7f7f7\"],[0.6,\"#e6f5d0\"],[0.7,\"#b8e186\"],[0.8,\"#7fbc41\"],[0.9,\"#4d9221\"],[1,\"#276419\"]]},\"xaxis\":{\"gridcolor\":\"white\",\"linecolor\":\"white\",\"ticks\":\"\",\"title\":{\"standoff\":15},\"zerolinecolor\":\"white\",\"automargin\":true,\"zerolinewidth\":2},\"yaxis\":{\"gridcolor\":\"white\",\"linecolor\":\"white\",\"ticks\":\"\",\"title\":{\"standoff\":15},\"zerolinecolor\":\"white\",\"automargin\":true,\"zerolinewidth\":2},\"scene\":{\"xaxis\":{\"backgroundcolor\":\"#E5ECF6\",\"gridcolor\":\"white\",\"linecolor\":\"white\",\"showbackground\":true,\"ticks\":\"\",\"zerolinecolor\":\"white\",\"gridwidth\":2},\"yaxis\":{\"backgroundcolor\":\"#E5ECF6\",\"gridcolor\":\"white\",\"linecolor\":\"white\",\"showbackground\":true,\"ticks\":\"\",\"zerolinecolor\":\"white\",\"gridwidth\":2},\"zaxis\":{\"backgroundcolor\":\"#E5ECF6\",\"gridcolor\":\"white\",\"linecolor\":\"white\",\"showbackground\":true,\"ticks\":\"\",\"zerolinecolor\":\"white\",\"gridwidth\":2}},\"shapedefaults\":{\"line\":{\"color\":\"#2a3f5f\"}},\"annotationdefaults\":{\"arrowcolor\":\"#2a3f5f\",\"arrowhead\":0,\"arrowwidth\":1},\"geo\":{\"bgcolor\":\"white\",\"landcolor\":\"#E5ECF6\",\"subunitcolor\":\"white\",\"showland\":true,\"showlakes\":true,\"lakecolor\":\"white\"},\"title\":{\"x\":0.05},\"mapbox\":{\"style\":\"light\"}}},\"title\":{\"text\":\"In which year there have been more Movies released ?\"},\"uniformtext\":{\"minsize\":8,\"mode\":\"hide\"},\"yaxis\":{\"title\":{\"text\":\"N° of release\",\"font\":{\"size\":14}}},\"xaxis\":{\"title\":{\"text\":\"Titles\",\"font\":{\"size\":14}}}},                        {\"responsive\": true}                    ).then(function(){\n",
              "                            \n",
              "var gd = document.getElementById('5ae85d8d-eb0e-4099-9246-3f750caa2d84');\n",
              "var x = new MutationObserver(function (mutations, observer) {{\n",
              "        var display = window.getComputedStyle(gd).display;\n",
              "        if (!display || display === 'none') {{\n",
              "            console.log([gd, 'removed!']);\n",
              "            Plotly.purge(gd);\n",
              "            observer.disconnect();\n",
              "        }}\n",
              "}});\n",
              "\n",
              "// Listen for the removal of the full notebook cells\n",
              "var notebookContainer = gd.closest('#notebook-container');\n",
              "if (notebookContainer) {{\n",
              "    x.observe(notebookContainer, {childList: true});\n",
              "}}\n",
              "\n",
              "// Listen for the clearing of the current output cell\n",
              "var outputEl = gd.closest('.output');\n",
              "if (outputEl) {{\n",
              "    x.observe(outputEl, {childList: true});\n",
              "}}\n",
              "\n",
              "                        })                };                            </script>        </div>\n",
              "</body>\n",
              "</html>"
            ]
          },
          "metadata": {}
        }
      ]
    },
    {
      "cell_type": "code",
      "source": [],
      "metadata": {
        "id": "tMVp9QjPTHKg"
      },
      "execution_count": null,
      "outputs": []
    }
  ]
}